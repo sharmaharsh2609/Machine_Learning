{
 "cells": [
  {
   "cell_type": "markdown",
   "id": "42954034",
   "metadata": {},
   "source": [
    "# Function Arguments:"
   ]
  },
  {
   "cell_type": "markdown",
   "id": "38ec06e4",
   "metadata": {},
   "source": [
    "### Default Aguments:\n",
    "- In c++ we can have default arguments only on right side:  \n",
    "  eg.- void func(a,b,c,d=10,e=20)\n",
    "  But  void func(a,b,c,d=10,e=20,d )   , this will show error as we passed d after default parameter. In C++ position of arguments is very neccessary.\n",
    "- But in python we can explicitely tell interpreter to pass arguments in any sequence with use of 'keyword arguments'."
   ]
  },
  {
   "cell_type": "markdown",
   "id": "33c66615",
   "metadata": {},
   "source": [
    "## Keyword Arguments:\n",
    "-A keyword argument is where you provide a name to the variable as you pass it into the function."
   ]
  },
  {
   "cell_type": "code",
   "execution_count": 3,
   "id": "22e59f3f",
   "metadata": {},
   "outputs": [
    {
     "name": "stdout",
     "output_type": "stream",
     "text": [
      "hey\n",
      "welcome\n",
      "here\n"
     ]
    }
   ],
   "source": [
    "def show(a,b,c):\n",
    "    print(a)\n",
    "    print(b)\n",
    "    print(c)\n",
    "\n",
    "show(\"hey\",\"welcome\", \"here\")"
   ]
  },
  {
   "cell_type": "code",
   "execution_count": 4,
   "id": "be02b4ef",
   "metadata": {},
   "outputs": [
    {
     "name": "stdout",
     "output_type": "stream",
     "text": [
      "here\n",
      "hey\n",
      "welcome\n"
     ]
    }
   ],
   "source": [
    "#we can pass arguments in different order\n",
    "show(b=\"hey\",c=\"welcome\",a=\"here\")"
   ]
  },
  {
   "cell_type": "markdown",
   "id": "24e1f099",
   "metadata": {},
   "source": [
    "- we can see that we don't need to pass according to position of variables in python.\n",
    "- We call these 'keyword arguments' because we pass keywords during function call.\n",
    "- If we use keyword arguments in default arguments, then we do not need any specific order and also we can pass values accordingly:"
   ]
  },
  {
   "cell_type": "code",
   "execution_count": 10,
   "id": "29de3551",
   "metadata": {},
   "outputs": [
    {
     "name": "stdout",
     "output_type": "stream",
     "text": [
      "Name\n",
      "is\n",
      "Rohit\n",
      "Kumar\n"
     ]
    }
   ],
   "source": [
    "def show(a,b,c=\"Rohit\",d=\"Sharma\"):\n",
    "    print(a)\n",
    "    print(b)\n",
    "    print(c)\n",
    "    print(d)\n",
    "\n",
    "show(\"Name\",\"is\",d=\"Kumar\")\n",
    "\n",
    "#but we still can't use any non-default after default argument."
   ]
  },
  {
   "cell_type": "markdown",
   "id": "e2d2dbf0",
   "metadata": {},
   "source": [
    "- We have seen variations of print() as : (1) print(..., end='')   (2) print(..., sep='')\n",
    "- print() uses keyword arguments. Thats why we are able to use different arguments every time"
   ]
  },
  {
   "cell_type": "markdown",
   "id": "6efe4712",
   "metadata": {},
   "source": [
    "----------------------------------------------------------------------------------------------\n",
    "- As we studied, print() uses keyword arguments like : print(...,sep='_',end='_',file=sys.out)\n",
    "- But how do print() function know that how many arguments we are passing: eg-"
   ]
  },
  {
   "cell_type": "code",
   "execution_count": 2,
   "id": "47c5630f",
   "metadata": {},
   "outputs": [
    {
     "name": "stdout",
     "output_type": "stream",
     "text": [
      "one two three four\n",
      "one two three\n"
     ]
    }
   ],
   "source": [
    "print(\"one\",\"two\",\"three\",\"four\")\n",
    "print(\"one\",\"two\",\"three\")"
   ]
  },
  {
   "cell_type": "markdown",
   "id": "50b0cd06",
   "metadata": {},
   "source": [
    "- How do interpreter know that we passed 4 arguments or 3arguments?  \n",
    "    print(...,sep='_',end='_',file=sys.out)\n",
    "- Code for print function have fix arguments. But we pass different no. of arguments every time.\n",
    "### Here we use the concept of arguments packing:\n",
    "- func(*args) can accept 0 or more arguments\n",
    "- Thus func(a,b,c,*args)  accepts 3 positional arguments and then packed arguments.\n",
    "- func(a,b,*args,d=\"hey\")  accepts 2 positional arguments followed bu 0 or more packed arguments and then 1 optional keyword argument.\n",
    "- But note a function do not accept a positional argument after packed argument. Because that will also be included in *args.  \n",
    "    eg.- def func(a,b,c,*d,e)  \n",
    "    This is wrong because interpreter will take value of e in *d also\n",
    "    - But def func(a,b,c,*d,e=5)  \n",
    "        This is correct as we can pass e with keyword argument"
   ]
  },
  {
   "cell_type": "code",
   "execution_count": 4,
   "id": "42a11ac6",
   "metadata": {},
   "outputs": [
    {
     "name": "stdout",
     "output_type": "stream",
     "text": [
      "1\n",
      "2\n",
      "3 4 5 6\n",
      "0\n",
      "Data type of *args is:  <class 'tuple'>\n"
     ]
    }
   ],
   "source": [
    "def func(a,b,*args,d=0):\n",
    "    print(a)\n",
    "    print(b)\n",
    "    print(* args)\n",
    "    print(d)\n",
    "    print(\"Data type of *args is: \",type(args))\n",
    "\n",
    "func(1,2,3,4,5,6)"
   ]
  },
  {
   "cell_type": "markdown",
   "id": "e34cff7d",
   "metadata": {},
   "source": [
    "## Packing arguments:\n",
    "#### Packing arguments is to pack all the arguments into one single variable. Packing of arguments is always packed in a tuple:\n",
    "- we use *variable to pack all the arguments into a single variable.\n",
    "- Also we can only pack it in a tuple. Which means, we can't modify them. To resolve this problem, we can type-cast this packed tuple into list:   \n",
    "        lst = list(*args)  \n",
    "- We can pack only positional arguments in *args"
   ]
  },
  {
   "cell_type": "code",
   "execution_count": 16,
   "id": "5797c0e1",
   "metadata": {},
   "outputs": [
    {
     "name": "stdout",
     "output_type": "stream",
     "text": [
      "a=1, b=2\n",
      "c= (4, 6, 24, 5)\n",
      "*c= 4 6 24 5\n"
     ]
    }
   ],
   "source": [
    "#example:\n",
    "def show(a,b,*c):\n",
    "    print(\"a=%d, b=%d\"%(a,b))\n",
    "    #if we print c, then it prints tuple:\n",
    "    print(\"c=\",c)\n",
    "    #if we print *c, then it prints values of the tuple:\n",
    "    print(\"*c=\",*c)\n",
    "    \n",
    "    \n",
    "show(1,2,4,6,24,5)"
   ]
  },
  {
   "cell_type": "markdown",
   "id": "159dea1b",
   "metadata": {},
   "source": [
    "- Here '*c' shows all the values that we passed. And 'c' shows the tuple containing all those values.\n",
    "##### Note here *args is not a pointer. This is totally different from pointer. There is no concept of pointer in python unlike in c++."
   ]
  },
  {
   "cell_type": "markdown",
   "id": "9c09fb6e",
   "metadata": {},
   "source": [
    "### Packing keyword arguments:\n",
    "- We can also pack keyword arguments using **kwargs.\n",
    "##### Keyword arguments are packed as a 'dictionary' as positional arguments are packed as a 'tuple' .\n",
    "- kwargs- means keyword args. Note: These 'args' and 'kwargs' are not reserverd keywords. We can use any identifier here. But it is good practice to name these as args and kwargs.\n",
    "##### Also note that '**kwargs'  is not pointer to pointer. This is just packing keyword arguments as a 'dictionary'.\n",
    "- Syntax of passing keyword arguments is as key=\"value\"(double quotes are not required for int type)."
   ]
  },
  {
   "cell_type": "code",
   "execution_count": 6,
   "id": "012bf737",
   "metadata": {},
   "outputs": [
    {
     "name": "stdout",
     "output_type": "stream",
     "text": [
      "{'name': 'Harsh', 'Branch': 'CSE', 'Sem': '5th'}\n",
      "Data type of *args is:  <class 'dict'>\n"
     ]
    }
   ],
   "source": [
    "def func(**kwargs):\n",
    "    print(kwargs)\n",
    "    # print(**kwargs)    this would give error\n",
    "    print(\"Data type of *args is: \",type(kwargs))\n",
    "    \n",
    "func(name=\"Harsh\", Branch=\"CSE\", Sem=\"5th\")"
   ]
  },
  {
   "cell_type": "code",
   "execution_count": 1,
   "id": "25f38828",
   "metadata": {},
   "outputs": [],
   "source": [
    "def show(a,b,*c,d=0,e=5,**f):\n",
    "    print(a,b,c,d,e,f,sep='\\n')\n",
    "    \n",
    "print()"
   ]
  },
  {
   "cell_type": "markdown",
   "id": "4c4e3688",
   "metadata": {},
   "source": [
    "- Best way to define arguments is: 1st positionl arguments followed by packed positional arguments followed by keyword arguments followed by packed keyword argumwents.\n",
    "## ----------------------------------------------------------------------"
   ]
  },
  {
   "cell_type": "markdown",
   "id": "2fb5cc7e",
   "metadata": {},
   "source": [
    "###### In python, almost everything is an object.\n",
    "       eg- def add():   \n",
    "               return 10+10\n",
    "- Here add is also an sobject"
   ]
  },
  {
   "cell_type": "code",
   "execution_count": 24,
   "id": "efa0c972",
   "metadata": {},
   "outputs": [
    {
     "name": "stdout",
     "output_type": "stream",
     "text": [
      "20\n",
      "<function add at 0x7fc6fc078a60>\n",
      "10\n"
     ]
    },
    {
     "data": {
      "text/plain": [
       "int"
      ]
     },
     "execution_count": 24,
     "metadata": {},
     "output_type": "execute_result"
    }
   ],
   "source": [
    "def add():\n",
    "    return 10+10\n",
    "\n",
    "type(add)\n",
    "print(add())   # it shows the value executed by object add\n",
    "\n",
    "print(add)    # see what 'add' actually is\n",
    "\n",
    "add=10   # we assign value to object 'add'\n",
    "print(add)\n",
    "type(add)"
   ]
  },
  {
   "cell_type": "markdown",
   "id": "27717b8a",
   "metadata": {},
   "source": [
    "- This object can change value just like normal variables:\n",
    "- But if we try to print add(), then it will show error as: \"int element is not be callable.\"\n",
    "- This happens because we assigned integer value to object add and it do not store the value of the function definition anymore.\n",
    "- It means easlier print(add) shows us function at ..... So 'add' object had function stored inside it earlier and thats why type(add) showed nothing because function in python do not have a data type.\n",
    "- But after assigning value to add, it becomes integer object and no more stores the function."
   ]
  },
  {
   "cell_type": "markdown",
   "id": "13e6f820",
   "metadata": {},
   "source": [
    "# Lambda function:\n",
    "- Lambda function is a 'one line function' with no name. Lambda is normal functions as other functions. But it do not have any name.\n",
    "- In many of languages, we have concept of lambda functions.\n",
    "##### Syntax: <object_name> = lambda <argument_names> :  <expression>  \n",
    " which is lambda followed by 'arguments seperated with comma', then colon followed by expression to execute.\n",
    "- In begining its syntax was: add = lambda (a,b) : return a+b  \n",
    "    then developers removed return as there is no need for it in single line code: add = lambda (a,b) : a+b  \n",
    "    then developers removed paranthesis later on."
   ]
  },
  {
   "cell_type": "code",
   "execution_count": 26,
   "id": "4723e933",
   "metadata": {},
   "outputs": [
    {
     "name": "stdout",
     "output_type": "stream",
     "text": [
      "<function <lambda> at 0x7fc6f4791e50>\n",
      "30\n"
     ]
    }
   ],
   "source": [
    "#example:\n",
    "add = lambda a,b : a+b\n",
    "print(add)\n",
    "print(add(10,20))"
   ]
  },
  {
   "cell_type": "markdown",
   "id": "c22ab5e9",
   "metadata": {},
   "source": [
    "- We can see that here we assign a function to object 'add'. 'add' object now stores the function. This function had no name earlier. But by assigning it to add, gives it name of 'add'.\n",
    "- lambda function is very useful in many of the cases: one of them is:  \n",
    "if we want to sort an list on 2tuples. Then python always sorts according to the first value of the elements inside list.\n",
    "- But if we want to sort according to some other value, then we use lambda function"
   ]
  },
  {
   "cell_type": "code",
   "execution_count": 35,
   "id": "6deff2d4",
   "metadata": {},
   "outputs": [
    {
     "name": "stdout",
     "output_type": "stream",
     "text": [
      "[('Ashima', 10), ('Deepshikha', 5), ('Harsh', 15)]\n",
      "[('Deepshikha', 5), ('Ashima', 10), ('Harsh', 15)]\n"
     ]
    }
   ],
   "source": [
    "a = [(\"Harsh\",15), (\"Ashima\",10), (\"Deepshikha\",5)]\n",
    "b = sorted(a)\n",
    "print(b)\n",
    "# If we want to sort according to 2nd parameter, then sorted function has a parameter key=func() \n",
    "# which takes function as parameter and sorts according to that.\n",
    "#by default key=None\n",
    "\n",
    "b = sorted(a, key=lambda a : a[1])\n",
    "print(b)"
   ]
  },
  {
   "cell_type": "markdown",
   "id": "41f02b89",
   "metadata": {},
   "source": [
    "- we can also do it like:  \n",
    "        def func(a):\n",
    "            return a[1]\n",
    "            b = sorted(a, key=func )\n",
    "- However using lambda is more easy and fast"
   ]
  },
  {
   "cell_type": "markdown",
   "id": "09a16244",
   "metadata": {},
   "source": [
    "- In python, functions are also objects as we studied earlier. \n",
    "- So we can pass functionas as parameters to another functions(bc functions are objects.)"
   ]
  }
 ],
 "metadata": {
  "kernelspec": {
   "display_name": "Python 3 (ipykernel)",
   "language": "python",
   "name": "python3"
  },
  "language_info": {
   "codemirror_mode": {
    "name": "ipython",
    "version": 3
   },
   "file_extension": ".py",
   "mimetype": "text/x-python",
   "name": "python",
   "nbconvert_exporter": "python",
   "pygments_lexer": "ipython3",
   "version": "3.8.10"
  }
 },
 "nbformat": 4,
 "nbformat_minor": 5
}
