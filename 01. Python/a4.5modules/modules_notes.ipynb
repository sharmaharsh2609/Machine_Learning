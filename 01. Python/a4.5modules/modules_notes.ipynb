{
 "cells": [
  {
   "cell_type": "markdown",
   "id": "9bf47070",
   "metadata": {},
   "source": [
    "## Modules:\n",
    "- **A Python module is a file containing Python definitions and statements. A module can define functions, classes, and variables.**\n",
    "- Module is simply a python file(with .py extension) containing set of functions or classes etc.. (which means any python file can be used as a module.)\n",
    "#### Need of Modules:\n",
    "- modules are used to save functions, classes, CONSTANTS, variables etc.. in a python file. We can access use any  of these functions, classes, vars, CONSTANTS from a module anywhere by importing that module.\n",
    "- module makes a code more organized and easy to understand as we divide our problem in several different parts as modules."
   ]
  },
  {
   "cell_type": "markdown",
   "id": "f5b1104e",
   "metadata": {},
   "source": [
    "- Note: Jupyter is a python shell but not a python file. Jupyter is a JSON file. So, Jupyter can't be imported(or used to create a module) as only .py extension files can be used for modules.\n",
    "- I have created a random.py file and another file as calculator.py\n",
    "- Here I used calculator.py file as module in which I have some functions like add, sub etc..\n",
    "- In random.py file, I imported the calculator.py file(or calculator module) and then I used some functions from calculator module in random.py\n",
    "##### **import calculator**   \n",
    "##### This command searches for calculator module in default modules in python installation. If not found there, then it searches in local directory.\n",
    "- As here calculator module is not present in default python package. So import command searches for calculator module in local directory.\n",
    "- During import, we don't need to write .py at last. Because there is only single type of extension, there is no need for this."
   ]
  },
  {
   "cell_type": "markdown",
   "id": "75e7764f",
   "metadata": {},
   "source": [
    "- **When we use import command, we cannot use functions or classes or vars etc.. of that module directly. We need to write module.func() or module.class etc..** . eg- here, to use add(a,b) function of calculator module, we need to call it as calculator.add(8,4)\n",
    "- This is because when we import calculator, all the functions of calculator are packed inside 'calculator' object . We need to call functions as calculator.func() which unpacks that specific function from it and uses it."
   ]
  },
  {
   "cell_type": "markdown",
   "id": "c15f7120",
   "metadata": {},
   "source": [
    "- we have already imported modules like:  import numpy, import matplotlib.pyplot etc..\n",
    "- we can't make modules in jupyter notebook but we can use them inside jupyter. Modules can be imported inside jupyter notebook."
   ]
  },
  {
   "cell_type": "code",
   "execution_count": 4,
   "id": "a321d0e5",
   "metadata": {},
   "outputs": [
    {
     "name": "stdout",
     "output_type": "stream",
     "text": [
      "<calculator.A object at 0x7f0dd6a23310>\n",
      "<class 'calculator.A'>\n"
     ]
    }
   ],
   "source": [
    "import calculator\n",
    "\n",
    "a = calculator.A()\n",
    "print(a, type(a), sep='\\n')"
   ]
  },
  {
   "cell_type": "markdown",
   "id": "add34e3f",
   "metadata": {},
   "source": [
    "- As we already studied, everything in python is an object. Even this module 'calculator' is an object.\n",
    "- All the functions inside this 'calculator' object are attributes of object 'calculator'.\n",
    "- Here below, calculator is an object of class mosule which can be seen using type(calculator)"
   ]
  },
  {
   "cell_type": "code",
   "execution_count": 6,
   "id": "0707157d",
   "metadata": {},
   "outputs": [
    {
     "name": "stdout",
     "output_type": "stream",
     "text": [
      "<module 'calculator' from '/home/harsh/Machine_learning/Machine_learning/a4.5modules/calculator.py'>\n",
      "<class 'module'>\n"
     ]
    }
   ],
   "source": [
    "import calculator\n",
    "print(calculator)\n",
    "print(type(calculator))"
   ]
  },
  {
   "cell_type": "markdown",
   "id": "49f7e281",
   "metadata": {},
   "source": [
    "## Different ways for importing a module:\n",
    "1. **import \\<module>:**  \n",
    "    The method we tried above is this method. Here we import whole module and unpack the functions which are required using \\<module>.\\<function()>\n",
    "    - eg- *import calculator* , this command imports whole calculator module. But everything is packed inside calculator variable.  \n",
    "    - When we write code: *calculator.add(8,4)* , it unpacks only add() function from calculator module.  \n",
    "      \n",
    "2. **from \\<module> import \\<function(s)>:**  \n",
    "    - This is a filtered import way.\n",
    "    - Here we can explicitly define which functions are to be imoirted in particular."
   ]
  },
  {
   "cell_type": "code",
   "execution_count": 7,
   "id": "a43b3d20",
   "metadata": {},
   "outputs": [
    {
     "name": "stdout",
     "output_type": "stream",
     "text": [
      "4\n"
     ]
    }
   ],
   "source": [
    "from calculator import add\n",
    "\n",
    "print(add(1,3))"
   ]
  },
  {
   "cell_type": "markdown",
   "id": "cddc4e17",
   "metadata": {},
   "source": [
    "- Using 2nd method, only particular functions are imported. Whereas using 1st method, whole module was imported. \n",
    "- But in 2nd method, it imports unpacked add() function and thus we can use it without using calculator.add().\n",
    "- also in this method we import only add() function in particular and not the calculator module. If we check it, then it will not be shown."
   ]
  },
  {
   "cell_type": "code",
   "execution_count": 5,
   "id": "b064d1ac",
   "metadata": {},
   "outputs": [
    {
     "name": "stdout",
     "output_type": "stream",
     "text": [
      "5\n"
     ]
    },
    {
     "ename": "NameError",
     "evalue": "name 'calculator' is not defined",
     "output_type": "error",
     "traceback": [
      "\u001b[0;31m---------------------------------------------------------------------------\u001b[0m",
      "\u001b[0;31mNameError\u001b[0m                                 Traceback (most recent call last)",
      "\u001b[0;32m/tmp/ipykernel_12562/1481579155.py\u001b[0m in \u001b[0;36m<module>\u001b[0;34m\u001b[0m\n\u001b[1;32m      5\u001b[0m \u001b[0;34m\u001b[0m\u001b[0m\n\u001b[1;32m      6\u001b[0m \u001b[0mprint\u001b[0m\u001b[0;34m(\u001b[0m\u001b[0madd\u001b[0m\u001b[0;34m(\u001b[0m\u001b[0;36m1\u001b[0m\u001b[0;34m,\u001b[0m\u001b[0;36m4\u001b[0m\u001b[0;34m)\u001b[0m\u001b[0;34m)\u001b[0m   \u001b[0;31m#add is imported but calculator is not\u001b[0m\u001b[0;34m\u001b[0m\u001b[0;34m\u001b[0m\u001b[0m\n\u001b[0;32m----> 7\u001b[0;31m \u001b[0mprint\u001b[0m\u001b[0;34m(\u001b[0m\u001b[0mcalculator\u001b[0m\u001b[0;34m)\u001b[0m\u001b[0;34m\u001b[0m\u001b[0;34m\u001b[0m\u001b[0m\n\u001b[0m",
      "\u001b[0;31mNameError\u001b[0m: name 'calculator' is not defined"
     ]
    }
   ],
   "source": [
    "#note: pls restart kernel before execution. Because we have already imported whole calculator in\n",
    "#one of previous cells and that won't be erased until kernel is not restarted\n",
    "\n",
    "from calculator import add\n",
    "\n",
    "print(add(1,4))   #add is imported but calculator is not\n",
    "print(calculator)"
   ]
  },
  {
   "cell_type": "markdown",
   "id": "6386f1c0",
   "metadata": {},
   "source": [
    "- Another way is:  \n",
    "- __from calculator import * :__  \n",
    "- it shows that we imported all the functions from calculator module.\n",
    "- **But this is not recommended because it imports all the functions of calculator module inside our program and there maybe some function which may cause conflicts for same name as in our code.**\n",
    "- **In most of cases modules that we use are developed by other developers and we don't know about what functions are inside it. So a lot of unneccessary functions might also be imported which are not even required. It increases the code size.**\n",
    "- for this, **import calculator** is preffered as it also import whole module. But it is packed module and only unpacks those functions which are required."
   ]
  },
  {
   "cell_type": "markdown",
   "id": "9e7ae776",
   "metadata": {},
   "source": [
    "- if we want most of functions, then use 1st method. And if we want only particulat functions, then we call 2nd method.\n",
    "- **Problem**: If there is a case when a module have 1000 functions and we want to import only about 10-20 functions and not whole module then it makes a little complex to understand:  \n",
    "        from calculator import add,sub,a,b,c,d,e,f,g\n",
    "we can use a paranthesis for these all and write then line wise because much lines are easy to understand than longer line."
   ]
  },
  {
   "cell_type": "code",
   "execution_count": 11,
   "id": "d6fc033c",
   "metadata": {},
   "outputs": [
    {
     "name": "stdout",
     "output_type": "stream",
     "text": [
      "1 3\n"
     ]
    }
   ],
   "source": [
    "from calculator import (\n",
    "add,\n",
    "sub,\n",
    "a,\n",
    "b,\n",
    "c,\n",
    "d,\n",
    "e,\n",
    "f,\n",
    "g\n",
    ")\n",
    "\n",
    "print(a,b)\n",
    "#this may give error sometimes inside jupyter notebook as jupyter notebook is not good in importing."
   ]
  },
  {
   "cell_type": "markdown",
   "id": "8dcab890",
   "metadata": {},
   "source": [
    "- Most important thing in modules is never to use from \\<file> import * . It is not readable and if we are working on big projects then, it can be very chaotic as it makes very hard to understant everything.\n",
    "##### import is just like #include in c++. "
   ]
  },
  {
   "cell_type": "markdown",
   "id": "a9a958c7",
   "metadata": {},
   "source": [
    "### Aliases in importing modules:\n",
    "- aliases are some names given to modules.\n",
    "#### Need of aliases:\n",
    "- When we have a function with same name as one of module function, they are easily differentiated using module name. Eg- "
   ]
  },
  {
   "cell_type": "code",
   "execution_count": 22,
   "id": "1f4ffd86",
   "metadata": {},
   "outputs": [
    {
     "name": "stdout",
     "output_type": "stream",
     "text": [
      "1\n",
      "4\n"
     ]
    }
   ],
   "source": [
    "import calculator \n",
    "def add(a,b):\n",
    "    return a\n",
    "print(add(1,3))\n",
    "print(calculator.add(1,3))"
   ]
  },
  {
   "cell_type": "markdown",
   "id": "239501e0",
   "metadata": {},
   "source": [
    "- Here we can differentiate easily between our own add() and the add() of calculator module.\n",
    "- But what if we have a function named 'calculator'. In that case, only calculator of current program is shown and not the calculator module:"
   ]
  },
  {
   "cell_type": "code",
   "execution_count": null,
   "id": "10390d20",
   "metadata": {},
   "outputs": [],
   "source": [
    "import calculator \n",
    "def calculator(a,b):\n",
    "    return a\n",
    "\n",
    "print(calculator(1,3))\n",
    "print(calculator.add(1,3))"
   ]
  },
  {
   "cell_type": "markdown",
   "id": "aa35365c",
   "metadata": {},
   "source": [
    "- Here our calculator(a,b) overrides previous value of calculator which was calculator file/module.\n",
    "- To resolve this problem, we give some other name to our calculator module as :"
   ]
  },
  {
   "cell_type": "code",
   "execution_count": 25,
   "id": "3ca4acb4",
   "metadata": {},
   "outputs": [
    {
     "name": "stdout",
     "output_type": "stream",
     "text": [
      "1\n",
      "4\n"
     ]
    }
   ],
   "source": [
    "import calculator as cal\n",
    "def calculator(a,b):\n",
    "    return a\n",
    "\n",
    "print(calculator(1,3))\n",
    "print(cal.add(1,3))"
   ]
  },
  {
   "cell_type": "code",
   "execution_count": 26,
   "id": "afbde929",
   "metadata": {},
   "outputs": [
    {
     "name": "stdout",
     "output_type": "stream",
     "text": [
      "8\n"
     ]
    }
   ],
   "source": [
    "# another example \n",
    "from calculator import (\n",
    "add as addition,\n",
    "sub as subtraction\n",
    ")\n",
    "print(addition(3,5))\n",
    "#now these will be referenced as there aliases rather than there real names."
   ]
  },
  {
   "cell_type": "markdown",
   "id": "88127c46",
   "metadata": {},
   "source": [
    "### --------------------------------------------------------------------------------------------\n",
    "## Packages in python:\n",
    "- package is a collection of different modules.\n",
    "- **A package is basically a directory with Python files and a file with the name \\_\\_init__ . py.**\n",
    "-----------------------------------------------------------------------------------------\n",
    "- Here in this directory, I created a folder/directory named 'maths_package' which is a package and I have 2 modules named 'simple.py' and 'complex.py' where simple.py module contains simple math operations like add, sub, mul, div... and complex.py module contains some complex modules like square, cube, power.\n",
    "- But 'maths_package' is a simple folder till now. \n",
    "##### In order to specify that a folder is a package, we need to create a file named \\_\\_init__.py \n",
    "##### \\_\\_init__.py specifies that a folder is a package.\n",
    "- let us try importing that package:(note: import searches in local directory. So package must be present in the same directory as the file where you are importing)."
   ]
  },
  {
   "cell_type": "code",
   "execution_count": 5,
   "id": "02e04494",
   "metadata": {},
   "outputs": [
    {
     "ename": "AttributeError",
     "evalue": "module 'maths_package' has no attribute 'simple'",
     "output_type": "error",
     "traceback": [
      "\u001b[0;31m---------------------------------------------------------------------------\u001b[0m",
      "\u001b[0;31mAttributeError\u001b[0m                            Traceback (most recent call last)",
      "\u001b[0;32m/tmp/ipykernel_3007/497004663.py\u001b[0m in \u001b[0;36m<module>\u001b[0;34m\u001b[0m\n\u001b[1;32m      1\u001b[0m \u001b[0;32mimport\u001b[0m \u001b[0mmaths_package\u001b[0m\u001b[0;34m\u001b[0m\u001b[0;34m\u001b[0m\u001b[0m\n\u001b[0;32m----> 2\u001b[0;31m \u001b[0mprint\u001b[0m\u001b[0;34m(\u001b[0m\u001b[0mmaths_package\u001b[0m\u001b[0;34m.\u001b[0m\u001b[0msimple\u001b[0m\u001b[0;34m)\u001b[0m\u001b[0;34m\u001b[0m\u001b[0;34m\u001b[0m\u001b[0m\n\u001b[0m",
      "\u001b[0;31mAttributeError\u001b[0m: module 'maths_package' has no attribute 'simple'"
     ]
    }
   ],
   "source": [
    "import maths_package\n",
    "print(maths_package.simple)"
   ]
  },
  {
   "cell_type": "markdown",
   "id": "13601b02",
   "metadata": {},
   "source": [
    "- It shows error that simple file does not exist in math. This is because:\n",
    "##### a package always executes \\_\\_init__.py file whenever called.\n",
    "- So we need to call all other functions by specifiying there names as: import maths_package.simple."
   ]
  },
  {
   "cell_type": "code",
   "execution_count": 14,
   "id": "f15fdcb0",
   "metadata": {},
   "outputs": [
    {
     "name": "stdout",
     "output_type": "stream",
     "text": [
      "<module 'maths_package' from '/home/harsh/Machine_learning/Machine_learning/a4.5modules/maths_package/__init__.py'>\n",
      "4\n"
     ]
    }
   ],
   "source": [
    "import maths_package\n",
    "print(maths_package)\n",
    "print(maths_package.a)"
   ]
  },
  {
   "cell_type": "markdown",
   "id": "bc9d0f6e",
   "metadata": {},
   "source": [
    "- Here above, it shows that maths_package is a module. Also it executes \\_\\_init__.py as we can see this from the output of previous cell.\n",
    "- **import maths_package** is equivalent to **import \\_\\_init__.py** where \\_\\_init__.py is file inside maths_package.\n",
    "- also when we import maths_package, \\_\\_init__.py is executed.   \n",
    "[Note: There may be some problem in jupyter: it may give error sometimes. It is better to try packages on python files solely].\n",
    "- here in above code, a=4 is defined inside \\_\\_init__.py , which shows us that on command: import maths_package, \\_\\_init.py is imported. ***This is the reason why we need \\_\\_init__.py inside a folder to make it a package.***\n",
    "- We can import other modules of package 'maths_package' easily using 'from package import module' as:"
   ]
  },
  {
   "cell_type": "code",
   "execution_count": 15,
   "id": "85025823",
   "metadata": {},
   "outputs": [
    {
     "name": "stdout",
     "output_type": "stream",
     "text": [
      "9\n"
     ]
    }
   ],
   "source": [
    "from maths_package import simple\n",
    "print(simple.add(4,5))"
   ]
  },
  {
   "cell_type": "code",
   "execution_count": 16,
   "id": "566a70be",
   "metadata": {},
   "outputs": [
    {
     "name": "stdout",
     "output_type": "stream",
     "text": [
      "9\n",
      "49\n"
     ]
    }
   ],
   "source": [
    "#amother way\n",
    "from maths_package import (\n",
    "    simple,\n",
    "    complex\n",
    ")\n",
    "print(simple.add(4,5))\n",
    "print(complex.square(7))"
   ]
  },
  {
   "cell_type": "markdown",
   "id": "535f1d90",
   "metadata": {},
   "source": [
    "- But when we type:\n",
    "        from maths_package import * \n",
    "        print(simple.add(4,5))\n",
    ", it may give us error as: 'simple' is not defined (in jupyter it currupts notebook. But in python file, it do show this error.) \n",
    "this is because this * also imports the modules which are there in \\_\\_all__ inside \\_\\_init__.py \n",
    "[this above code will not show error inside jupyter notebook. Here it will be caught in infinite loop. But try these above 2 statements inside main.py file that will show error]."
   ]
  },
  {
   "cell_type": "markdown",
   "id": "72d4c8aa",
   "metadata": {},
   "source": [
    "##### importing modules in jupyter notebook gives errors sometimes. This is disadvantage of jupyter notebook. Also kernel of jupyter notebook gets corrupted sometimes due to importing modules.\n",
    "##### There is a very common error I face due to this modules:- **kernel dead because of python and ipynb files inside same directory.** I resolved this issue by moving ipynb file in a new folder, run that file. If that is working fine, then I copy all other files inside that folder.\n",
    "### IN MY CASE, MY KRENEL ALWAYS GETS CURRUPTED WHEN I EXECUTE \"__from maths_package import *__\"\n",
    "- **It is highly recommended to use python files for import modules and packages practicing as jupyter notebook may get corrupted sometimes due to import.** I have tried everything here just for better understanding during revision.\n",
    "#### Steps to correct if kernel gets corrupted due to above command:\n",
    "- Move all the files to a new folder.\n",
    "- Now move this 'module_notes.ipynb' file again back to current folder.\n",
    "- open this file on jupyter notebook. If everthing is working fine now, then import all other python files also back to this folder. Now try importing\n",
    "- this may happen again sometimes on importing .\n",
    "- If this all does not work, then uninstall jupyter, ipykernel, ipython and reinstall and do follow all above steps again.[This step is not required in most of cases.]"
   ]
  },
  {
   "cell_type": "markdown",
   "id": "1b3458cb",
   "metadata": {},
   "source": [
    "#### \\_\\_all__:\n",
    "- \\_\\_all__ is a special variable inside \\_\\_init__.py which contains names of some modules of that package. When we perform: __from maths_package import *__ , then all the modules written insie this \\_\\_all__ variable are imported.\n",
    "- eg- Just Now, I wrote a statements inside \\_\\_init__.py as:\n",
    "        __all__ = ['simple']\n",
    "- Now if we do __from maths_package import *__ , then it will show error for using complex as \"complex is not defined\". But \"simple\" will work fine as this command imports all modules that are inside \\_\\_all__ in \\_\\_init__.py file.\n",
    "- We can still use complex module as __from maths_package import complex__ . \n",
    "- We can also do like below to import both as soon as __from maths_package import *__ is called:\n",
    "        __all__ = ['simple' , 'complex']"
   ]
  },
  {
   "cell_type": "markdown",
   "id": "2f503845",
   "metadata": {},
   "source": [
    "- we can even import modules like this: from maths_package import simple.add  \n",
    "here we import add function from dimple file of the package.\n",
    "- another example of importing is to import module 'pyplot' from package 'matplotlib'\n",
    "This is similar as: import matplotlib.pyplot"
   ]
  },
  {
   "cell_type": "code",
   "execution_count": 2,
   "id": "21e3f0b7",
   "metadata": {},
   "outputs": [
    {
     "name": "stdout",
     "output_type": "stream",
     "text": [
      "<module 'matplotlib.pyplot' from '/home/harsh/Machine_learning/ML_virtual_env/lib/python3.8/site-packages/matplotlib/pyplot.py'>\n"
     ]
    }
   ],
   "source": [
    "import matplotlib.pyplot\n",
    "print(matplotlib.pyplot)"
   ]
  },
  {
   "cell_type": "markdown",
   "id": "82b3061a",
   "metadata": {},
   "source": [
    "### ---------------------------------------------------------------------------------------------\n",
    "- when we import a module, then all of that module is executed.\n",
    "eg- (see 'new.py' module inside package)"
   ]
  },
  {
   "cell_type": "code",
   "execution_count": 1,
   "id": "7e7e4d4f",
   "metadata": {},
   "outputs": [
    {
     "name": "stdout",
     "output_type": "stream",
     "text": [
      "hello\n",
      "1\n"
     ]
    }
   ],
   "source": [
    "from maths_package import new\n",
    "\n",
    "print(new.modulus(7,3))"
   ]
  },
  {
   "cell_type": "markdown",
   "id": "3a4703af",
   "metadata": {},
   "source": [
    "- we can see that, we only used modulus function, but before that hello is printed which is written inside new.py  .. It shows us that when we import a module, that module runs simply as a python script file.\n",
    "- even when we only import a specific function from the module, it still runs whole module as a python script file. eg:-"
   ]
  },
  {
   "cell_type": "code",
   "execution_count": 1,
   "id": "bded84ff",
   "metadata": {},
   "outputs": [
    {
     "name": "stdout",
     "output_type": "stream",
     "text": [
      "hello\n",
      "1\n"
     ]
    }
   ],
   "source": [
    "#please do not try doing this again. It gives wrong results sometimes and makes kernel dead.\n",
    "from maths_package.new import modulus\n",
    "\n",
    "print(modulus(7,3))"
   ]
  },
  {
   "cell_type": "markdown",
   "id": "e9f6b537",
   "metadata": {},
   "source": [
    "- we can see that module always runs as a simple python file whenever we import a module.\n",
    "- when a python file executes __import module__ command, it goes to that __module__ file and executes all the file.\n",
    "- But in most of cases we don't want all the module to be executed during importing. We may also want some part that should not be excuted during imprting\n",
    "- To resolve this issue we have a special variable **\\_\\_name__\n",
    "\n",
    "### \\_\\_name__ :\n",
    "- \\_\\_name__ is a special variable which evaluates the current module. It tells us whether current module is running by it's own as a python file or by some other file as a module.\n",
    "- every module has a built-in variable \\_\\_name__\n",
    "- **value of *\\_\\_name__ = \\_\\_main__* for every file if that is running by its own. But value of \\_\\_name__ = module name.(calue of \\_\\_name__ is set to that modules name if module is used by some other file.)\n",
    "- If we want some part of code which we only want to run when we excute file as a script and some part of code which we can even share when our file is imported, then we can use \n",
    "        if __name__ == __main__\n",
    "this condition is true only when file is running by it's own.\n",
    "##### -----------------------------------------------------------------------------------------------------------------\n",
    "- now if we modify new.py as follow:\n",
    "        def modulus(a,b):\n",
    "            return a%b\n",
    "            \n",
    "        if __name__ == __main__:\n",
    "            print(\"hello\")\n",
    "now if we import this 'new' modulw, then it will not print \"hello\" anymore. It will print \"hello\" only if we execute new.py(try it out)\n",
    "- we can also verify it as:\n",
    "        print(__name__)\n",
    "this is command inside new.py\n",
    "- now as soon we import 'new' module, whole module will run as python file and it will show us output as: **maths_package.new** , which is name of this module. \n",
    "- But when we execute new.py , then it shows output: **\\_\\_main__** "
   ]
  },
  {
   "cell_type": "code",
   "execution_count": 1,
   "id": "bbe0e4f2",
   "metadata": {},
   "outputs": [
    {
     "name": "stdout",
     "output_type": "stream",
     "text": [
      "hello\n",
      "maths_package.new\n"
     ]
    }
   ],
   "source": [
    "#do not try this again on notebook. It may corrupt kernel. Try it on main.py file\n",
    "from maths_package import new"
   ]
  },
  {
   "cell_type": "markdown",
   "id": "6a13f111",
   "metadata": {},
   "source": [
    "- One last note:\n"
   ]
  }
 ],
 "metadata": {
  "kernelspec": {
   "display_name": "Python 3 (ipykernel)",
   "language": "python",
   "name": "python3"
  },
  "language_info": {
   "codemirror_mode": {
    "name": "ipython",
    "version": 3
   },
   "file_extension": ".py",
   "mimetype": "text/x-python",
   "name": "python",
   "nbconvert_exporter": "python",
   "pygments_lexer": "ipython3",
   "version": "3.8.10"
  }
 },
 "nbformat": 4,
 "nbformat_minor": 5
}
