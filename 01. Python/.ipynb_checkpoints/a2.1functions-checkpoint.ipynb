{
 "cells": [
  {
   "cell_type": "markdown",
   "id": "50644ed7",
   "metadata": {},
   "source": [
    "# Functions:  \n",
    "- Functions are reusable pieces of code. "
   ]
  },
  {
   "cell_type": "code",
   "execution_count": 10,
   "id": "cd6c159a",
   "metadata": {},
   "outputs": [
    {
     "name": "stdout",
     "output_type": "stream",
     "text": [
      "Hello! \n",
      "This is some code\n",
      "\n",
      "30\n",
      "Welcome!\n",
      "\n",
      "Hello! \n",
      "This is some code\n",
      "\n"
     ]
    }
   ],
   "source": [
    "print(\"Hello! \")\n",
    "print(\"This is some code\\n\")\n",
    "\n",
    "#do some operations\n",
    "print(10+20)\n",
    "print(\"Welcome!\\n\")\n",
    "\n",
    "print(\"Hello! \")\n",
    "print(\"This is some code\\n\")"
   ]
  },
  {
   "cell_type": "code",
   "execution_count": 12,
   "id": "2e559ed7",
   "metadata": {},
   "outputs": [
    {
     "name": "stdout",
     "output_type": "stream",
     "text": [
      "Hello! \n",
      "This is some code\n",
      "\n",
      "30\n",
      "\n",
      "Hello! \n",
      "This is some code\n",
      "\n"
     ]
    }
   ],
   "source": [
    "def func():\n",
    "    print(\"Hello! \")\n",
    "    print(\"This is some code\\n\")\n",
    "    \n",
    "func()       #calling function\n",
    "print(10+20,end='\\n\\n')\n",
    "func()"
   ]
  },
  {
   "cell_type": "code",
   "execution_count": 16,
   "id": "43210765",
   "metadata": {},
   "outputs": [
    {
     "name": "stdout",
     "output_type": "stream",
     "text": [
      "Hello Harsh \n",
      "\n",
      "Hello Ashima \n",
      "\n"
     ]
    }
   ],
   "source": [
    "# if we need parameters in code:\n",
    "def func(name):\n",
    "    print(\"Hello %s \\n\"%name)\n",
    "\n",
    "func(\"Harsh\")\n",
    "func(\"Ashima\")\n",
    "    "
   ]
  },
  {
   "cell_type": "markdown",
   "id": "bc129a02",
   "metadata": {},
   "source": [
    "\n",
    "### Default Arguments: \n"
   ]
  },
  {
   "cell_type": "code",
   "execution_count": 13,
   "id": "d2a2c0b7",
   "metadata": {},
   "outputs": [
    {
     "name": "stdout",
     "output_type": "stream",
     "text": [
      "Harsh is from CSE branch\n",
      "Ashima is from Electronics branch\n"
     ]
    }
   ],
   "source": [
    "def func(name, branch='CSE'):\n",
    "    print(\"%s is from %s branch\"%(name,branch))\n",
    "\n",
    "#call without 2nd argument:\n",
    "func(\"Harsh\")\n",
    "#call with both arguments\n",
    "func(\"Ashima\", \"Electronics\")"
   ]
  },
  {
   "cell_type": "markdown",
   "id": "a3e4e28c",
   "metadata": {},
   "source": [
    "## return statement:\n"
   ]
  },
  {
   "cell_type": "code",
   "execution_count": 28,
   "id": "b6888ec4",
   "metadata": {},
   "outputs": [
    {
     "name": "stdout",
     "output_type": "stream",
     "text": [
      "5\n",
      "11\n"
     ]
    }
   ],
   "source": [
    "def sum(a,b):\n",
    "    return a+b\n",
    "\n",
    "print(sum(2,3))\n",
    "print(sum(4,7))"
   ]
  },
  {
   "cell_type": "code",
   "execution_count": 36,
   "id": "2b54703b",
   "metadata": {},
   "outputs": [
    {
     "name": "stdout",
     "output_type": "stream",
     "text": [
      "Wrapping up.\n",
      "0.5\n",
      "\n",
      "\n",
      "error!\n",
      "Wrapping up.\n",
      "None\n"
     ]
    }
   ],
   "source": [
    "#'finally' block example which executes even if it is returned or not returned.\n",
    "def div(a,b):\n",
    "    try:\n",
    "        return a/b\n",
    "    except:\n",
    "        print(\"error!\")\n",
    "    finally:\n",
    "        print(\"Wrapping up.\")\n",
    "        \n",
    "print(div(2,4),end='\\n\\n\\n')     #in case there is no exception\n",
    "print(div(2,0))     #in case there is exception"
   ]
  },
  {
   "cell_type": "code",
   "execution_count": 39,
   "id": "80ef87f7",
   "metadata": {},
   "outputs": [
    {
     "name": "stdout",
     "output_type": "stream",
     "text": [
      "Wrapping up.\n",
      "10\n"
     ]
    }
   ],
   "source": [
    "def div(a,b):\n",
    "    try:\n",
    "        return a/b\n",
    "    except:\n",
    "        print(\"error!\")\n",
    "    finally:\n",
    "        print(\"Wrapping up.\")\n",
    "        return 10\n",
    "        \n",
    "print(div(2,4))   # see it do not return a/b. Instead it returns 10 because it priorities return \n",
    "# statement of finally block over any other return statement"
   ]
  },
  {
   "cell_type": "markdown",
   "id": "ae8f47aa",
   "metadata": {},
   "source": [
    "## Local and Global variable:"
   ]
  },
  {
   "cell_type": "code",
   "execution_count": 43,
   "id": "731a0723",
   "metadata": {},
   "outputs": [
    {
     "name": "stdout",
     "output_type": "stream",
     "text": [
      "5\n",
      "10\n"
     ]
    }
   ],
   "source": [
    "x=10\n",
    "def func():\n",
    "    x=5               # local variable x whose scope is only upto this function.\n",
    "    print(x)\n",
    "func()    # call function\n",
    "print(x)              #it print 10 as local x has no scope outside function"
   ]
  },
  {
   "cell_type": "code",
   "execution_count": 46,
   "id": "bd03103a",
   "metadata": {},
   "outputs": [
    {
     "ename": "UnboundLocalError",
     "evalue": "local variable 'x' referenced before assignment",
     "output_type": "error",
     "traceback": [
      "\u001b[0;31m---------------------------------------------------------------------------\u001b[0m",
      "\u001b[0;31mUnboundLocalError\u001b[0m                         Traceback (most recent call last)",
      "\u001b[0;32m/tmp/ipykernel_4708/1509686530.py\u001b[0m in \u001b[0;36m<module>\u001b[0;34m\u001b[0m\n\u001b[1;32m      3\u001b[0m     \u001b[0mx\u001b[0m\u001b[0;34m+=\u001b[0m\u001b[0;36m5\u001b[0m           \u001b[0;31m#It shows error as we need assignment of operator before using it\u001b[0m\u001b[0;34m\u001b[0m\u001b[0;34m\u001b[0m\u001b[0m\n\u001b[1;32m      4\u001b[0m     \u001b[0mprint\u001b[0m\u001b[0;34m(\u001b[0m\u001b[0mx\u001b[0m\u001b[0;34m)\u001b[0m\u001b[0;34m\u001b[0m\u001b[0;34m\u001b[0m\u001b[0m\n\u001b[0;32m----> 5\u001b[0;31m \u001b[0mfunc\u001b[0m\u001b[0;34m(\u001b[0m\u001b[0;34m)\u001b[0m    \u001b[0;31m# call function\u001b[0m\u001b[0;34m\u001b[0m\u001b[0;34m\u001b[0m\u001b[0m\n\u001b[0m\u001b[1;32m      6\u001b[0m \u001b[0mprint\u001b[0m\u001b[0;34m(\u001b[0m\u001b[0mx\u001b[0m\u001b[0;34m)\u001b[0m              \u001b[0;31m#it print 10 as local x has no scope outside function\u001b[0m\u001b[0;34m\u001b[0m\u001b[0;34m\u001b[0m\u001b[0m\n\u001b[1;32m      7\u001b[0m \u001b[0;34m\u001b[0m\u001b[0m\n",
      "\u001b[0;32m/tmp/ipykernel_4708/1509686530.py\u001b[0m in \u001b[0;36mfunc\u001b[0;34m()\u001b[0m\n\u001b[1;32m      1\u001b[0m \u001b[0mx\u001b[0m\u001b[0;34m=\u001b[0m\u001b[0;36m10\u001b[0m\u001b[0;34m\u001b[0m\u001b[0;34m\u001b[0m\u001b[0m\n\u001b[1;32m      2\u001b[0m \u001b[0;32mdef\u001b[0m \u001b[0mfunc\u001b[0m\u001b[0;34m(\u001b[0m\u001b[0;34m)\u001b[0m\u001b[0;34m:\u001b[0m\u001b[0;34m\u001b[0m\u001b[0;34m\u001b[0m\u001b[0m\n\u001b[0;32m----> 3\u001b[0;31m     \u001b[0mx\u001b[0m\u001b[0;34m+=\u001b[0m\u001b[0;36m5\u001b[0m           \u001b[0;31m#It shows error as we need assignment of operator before using it\u001b[0m\u001b[0;34m\u001b[0m\u001b[0;34m\u001b[0m\u001b[0m\n\u001b[0m\u001b[1;32m      4\u001b[0m     \u001b[0mprint\u001b[0m\u001b[0;34m(\u001b[0m\u001b[0mx\u001b[0m\u001b[0;34m)\u001b[0m\u001b[0;34m\u001b[0m\u001b[0;34m\u001b[0m\u001b[0m\n\u001b[1;32m      5\u001b[0m \u001b[0mfunc\u001b[0m\u001b[0;34m(\u001b[0m\u001b[0;34m)\u001b[0m    \u001b[0;31m# call function\u001b[0m\u001b[0;34m\u001b[0m\u001b[0;34m\u001b[0m\u001b[0m\n",
      "\u001b[0;31mUnboundLocalError\u001b[0m: local variable 'x' referenced before assignment"
     ]
    }
   ],
   "source": [
    "x=10\n",
    "def func():\n",
    "    x+=5           #It shows error as we need assignment of operator before using it\n",
    "    print(x)\n",
    "func()    # call function\n",
    "print(x)              #it print 10 as local x has no scope outside function\n",
    "\n",
    "# It shows error because we use: x=x+5 where x is by default local variable inside a function\n",
    "# and we need to assign some initial value before using it."
   ]
  },
  {
   "cell_type": "code",
   "execution_count": 48,
   "id": "4b52d247",
   "metadata": {},
   "outputs": [
    {
     "name": "stdout",
     "output_type": "stream",
     "text": [
      "15\n",
      "15\n"
     ]
    }
   ],
   "source": [
    "x=10\n",
    "def func():\n",
    "    global x\n",
    "    x+=5     # it reflects the change in global variable x as it is global variable now and not local.\n",
    "    print(x)\n",
    "func()    # call function\n",
    "print(x)              #it print 10 as local x has no scope outside function"
   ]
  },
  {
   "cell_type": "markdown",
   "id": "2cec4360",
   "metadata": {},
   "source": [
    "### Nesting of functions:\n",
    "- python has a feature of nesting of function: where we can declare a function and use it inside some other function.\n"
   ]
  },
  {
   "cell_type": "code",
   "execution_count": 54,
   "id": "6ac1d295",
   "metadata": {},
   "outputs": [
    {
     "ename": "NameError",
     "evalue": "name 'y' is not defined",
     "output_type": "error",
     "traceback": [
      "\u001b[0;31m---------------------------------------------------------------------------\u001b[0m",
      "\u001b[0;31mNameError\u001b[0m                                 Traceback (most recent call last)",
      "\u001b[0;32m/tmp/ipykernel_4708/1291667534.py\u001b[0m in \u001b[0;36m<module>\u001b[0;34m\u001b[0m\n\u001b[1;32m      9\u001b[0m     \u001b[0mprint\u001b[0m\u001b[0;34m(\u001b[0m\u001b[0my\u001b[0m\u001b[0;34m)\u001b[0m     \u001b[0;31m#outise inner loop and inside outer loop\u001b[0m\u001b[0;34m\u001b[0m\u001b[0;34m\u001b[0m\u001b[0m\n\u001b[1;32m     10\u001b[0m \u001b[0;34m\u001b[0m\u001b[0m\n\u001b[0;32m---> 11\u001b[0;31m \u001b[0mouter\u001b[0m\u001b[0;34m(\u001b[0m\u001b[0;34m)\u001b[0m \u001b[0;31m#call outer function\u001b[0m\u001b[0;34m\u001b[0m\u001b[0;34m\u001b[0m\u001b[0m\n\u001b[0m",
      "\u001b[0;32m/tmp/ipykernel_4708/1291667534.py\u001b[0m in \u001b[0;36mouter\u001b[0;34m()\u001b[0m\n\u001b[1;32m      6\u001b[0m         \u001b[0mprint\u001b[0m\u001b[0;34m(\u001b[0m\u001b[0my\u001b[0m\u001b[0;34m)\u001b[0m\u001b[0;34m\u001b[0m\u001b[0;34m\u001b[0m\u001b[0m\n\u001b[1;32m      7\u001b[0m \u001b[0;34m\u001b[0m\u001b[0m\n\u001b[0;32m----> 8\u001b[0;31m     \u001b[0minner\u001b[0m\u001b[0;34m(\u001b[0m\u001b[0;34m)\u001b[0m   \u001b[0;31m# call function\u001b[0m\u001b[0;34m\u001b[0m\u001b[0;34m\u001b[0m\u001b[0m\n\u001b[0m\u001b[1;32m      9\u001b[0m     \u001b[0mprint\u001b[0m\u001b[0;34m(\u001b[0m\u001b[0my\u001b[0m\u001b[0;34m)\u001b[0m     \u001b[0;31m#outise inner loop and inside outer loop\u001b[0m\u001b[0;34m\u001b[0m\u001b[0;34m\u001b[0m\u001b[0m\n\u001b[1;32m     10\u001b[0m \u001b[0;34m\u001b[0m\u001b[0m\n",
      "\u001b[0;32m/tmp/ipykernel_4708/1291667534.py\u001b[0m in \u001b[0;36minner\u001b[0;34m()\u001b[0m\n\u001b[1;32m      3\u001b[0m     \u001b[0;32mdef\u001b[0m \u001b[0minner\u001b[0m\u001b[0;34m(\u001b[0m\u001b[0;34m)\u001b[0m\u001b[0;34m:\u001b[0m\u001b[0;34m\u001b[0m\u001b[0;34m\u001b[0m\u001b[0m\n\u001b[1;32m      4\u001b[0m         \u001b[0;32mglobal\u001b[0m \u001b[0my\u001b[0m\u001b[0;34m\u001b[0m\u001b[0;34m\u001b[0m\u001b[0m\n\u001b[0;32m----> 5\u001b[0;31m         \u001b[0my\u001b[0m\u001b[0;34m+=\u001b[0m\u001b[0;36m5\u001b[0m\u001b[0;34m\u001b[0m\u001b[0;34m\u001b[0m\u001b[0m\n\u001b[0m\u001b[1;32m      6\u001b[0m         \u001b[0mprint\u001b[0m\u001b[0;34m(\u001b[0m\u001b[0my\u001b[0m\u001b[0;34m)\u001b[0m\u001b[0;34m\u001b[0m\u001b[0;34m\u001b[0m\u001b[0m\n\u001b[1;32m      7\u001b[0m \u001b[0;34m\u001b[0m\u001b[0m\n",
      "\u001b[0;31mNameError\u001b[0m: name 'y' is not defined"
     ]
    }
   ],
   "source": [
    "def outer():\n",
    "    y=5               \n",
    "    def inner():\n",
    "        global y\n",
    "        y+=5\n",
    "        print(y)\n",
    "    \n",
    "    inner()   # call function\n",
    "    print(y)     #outise inner loop and inside outer loop\n",
    "\n",
    "outer() #call outer function\n",
    "# It will show error. See it's explanation below:"
   ]
  },
  {
   "cell_type": "code",
   "execution_count": 55,
   "id": "8e4d595b",
   "metadata": {},
   "outputs": [
    {
     "name": "stdout",
     "output_type": "stream",
     "text": [
      "10\n",
      "10\n"
     ]
    }
   ],
   "source": [
    "def outer():\n",
    "    y=5               \n",
    "    def inner():\n",
    "        nonlocal y   # this is y of outer loop not global\n",
    "        y+=5\n",
    "        print(y)\n",
    "    \n",
    "    inner()   # call function\n",
    "    print(y)     #outise inner loop and inside outer loop\n",
    "\n",
    "outer() #call outer function\n",
    "# It will show error. See it's explanation below:"
   ]
  },
  {
   "cell_type": "code",
   "execution_count": 12,
   "id": "76efe0b4",
   "metadata": {},
   "outputs": [],
   "source": [
    "sample = open(\"a2.1test.txt\",'w')\n",
    "print(\"Hi harsh\", file=sample)\n",
    "sample.close()     # don't forget to close the file.\n",
    "\n",
    "# You can see, the output is written in this file \n",
    "# If we use this file again for writing output, then previous content of file is overwriten"
   ]
  },
  {
   "cell_type": "markdown",
   "id": "b558f092",
   "metadata": {},
   "source": [
    "- Some function examples:"
   ]
  },
  {
   "cell_type": "code",
   "execution_count": 1,
   "id": "43ab8046",
   "metadata": {},
   "outputs": [
    {
     "name": "stdout",
     "output_type": "stream",
     "text": [
      "120\n"
     ]
    }
   ],
   "source": [
    "def factorial(n):\n",
    "    ans = 1\n",
    "    for i in range(1,n+1):\n",
    "        ans *= i\n",
    "    return ans\n",
    "\n",
    "print(factorial(5))"
   ]
  },
  {
   "cell_type": "code",
   "execution_count": 2,
   "id": "5c6cd21f",
   "metadata": {},
   "outputs": [
    {
     "name": "stdout",
     "output_type": "stream",
     "text": [
      "1,2,3,5,7,11,13,17,19,23,29,31,37,41,43,47,53,59,61,67,71,73,79,83,89,97,"
     ]
    }
   ],
   "source": [
    "def isPrime(n):\n",
    "    \n",
    "    for i in range(2,int(n/2)+1):   #range  excludes last so we did n/2 +1\n",
    "        if(n%i==0):\n",
    "            return False\n",
    "        \n",
    "    return True\n",
    "\n",
    "\n",
    "def printPrime(V):\n",
    "    \n",
    "    for i in range(1,V+1):\n",
    "        if(isPrime(i)):\n",
    "            print(i,end=',')\n",
    "            \n",
    "            \n",
    "printPrime(100)"
   ]
  },
  {
   "cell_type": "markdown",
   "id": "40d53aa6",
   "metadata": {},
   "source": [
    "### Recursive function\n",
    "- A function that calls itself repeatedly or a function that calls another fynction which again calls some other function ..... and then final function calls the 1st function, this is called recursive function.\n"
   ]
  },
  {
   "cell_type": "code",
   "execution_count": 3,
   "id": "e1859275",
   "metadata": {},
   "outputs": [
    {
     "name": "stdout",
     "output_type": "stream",
     "text": [
      "720\n"
     ]
    }
   ],
   "source": [
    "def fact(n):\n",
    "    #Base Case\n",
    "    if(n==0):\n",
    "        return 1\n",
    "    #Rec Case\n",
    "    return n*fact(n-1)\n",
    "\n",
    "print(fact(6))"
   ]
  },
  {
   "cell_type": "markdown",
   "id": "4c68f6d3",
   "metadata": {},
   "source": [
    "### Keywords Arguments"
   ]
  },
  {
   "cell_type": "code",
   "execution_count": 1,
   "id": "6faf67bc",
   "metadata": {},
   "outputs": [
    {
     "name": "stdout",
     "output_type": "stream",
     "text": [
      "I scored 10 in Python\n",
      "1010\n"
     ]
    }
   ],
   "source": [
    "def myFunc(score,lang,rollNo):\n",
    "    print(\"I scored %d in %s\"%(score,lang))\n",
    "    print(rollNo)\n",
    "    \n",
    "    \n",
    "myFunc(rollNo=1010,lang=\"Python\",score=10)"
   ]
  },
  {
   "cell_type": "markdown",
   "id": "6165f0e0",
   "metadata": {},
   "source": [
    "## Some More built In Functions\n",
    "   - eval\n",
    "   - enumerate\n",
    "   - any\n",
    "   - all\n",
    "\n"
   ]
  },
  {
   "cell_type": "code",
   "execution_count": 2,
   "id": "e92956ea",
   "metadata": {},
   "outputs": [
    {
     "data": {
      "text/plain": [
       "9.0"
      ]
     },
     "execution_count": 2,
     "metadata": {},
     "output_type": "execute_result"
    }
   ],
   "source": [
    "s = \"1+10/2+abs(-3)\"\n",
    "\n",
    "eval(s)"
   ]
  },
  {
   "cell_type": "code",
   "execution_count": 3,
   "id": "62c1dd0c",
   "metadata": {},
   "outputs": [
    {
     "name": "stdout",
     "output_type": "stream",
     "text": [
      "4+2*7\n",
      "18\n"
     ]
    }
   ],
   "source": [
    "expression = input()\n",
    "print(eval(expression))"
   ]
  },
  {
   "cell_type": "code",
   "execution_count": 4,
   "id": "1cf0ca93",
   "metadata": {},
   "outputs": [
    {
     "name": "stdout",
     "output_type": "stream",
     "text": [
      "(0, 'mango')\n",
      "(1, 'apple')\n",
      "(2, 'banana')\n"
     ]
    }
   ],
   "source": [
    "l = [\"mango\",\"apple\",\"banana\"]\n",
    "for x in enumerate(l):\n",
    "    print(x)"
   ]
  },
  {
   "cell_type": "code",
   "execution_count": 5,
   "id": "d27a54c2",
   "metadata": {},
   "outputs": [
    {
     "name": "stdout",
     "output_type": "stream",
     "text": [
      "True\n",
      "False\n"
     ]
    }
   ],
   "source": [
    "l = []\n",
    "print(all(l))\n",
    "print(any(l))"
   ]
  }
 ],
 "metadata": {
  "kernelspec": {
   "display_name": "Python 3 (ipykernel)",
   "language": "python",
   "name": "python3"
  },
  "language_info": {
   "codemirror_mode": {
    "name": "ipython",
    "version": 3
   },
   "file_extension": ".py",
   "mimetype": "text/x-python",
   "name": "python",
   "nbconvert_exporter": "python",
   "pygments_lexer": "ipython3",
   "version": "3.8.10"
  }
 },
 "nbformat": 4,
 "nbformat_minor": 5
}
