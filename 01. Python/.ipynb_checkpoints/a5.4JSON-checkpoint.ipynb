{
 "cells": [
  {
   "cell_type": "markdown",
   "id": "0acf70a2",
   "metadata": {},
   "source": [
    "## JSON files:\n",
    "- JSON stands for **Java Script Object Notation**.\n",
    "- JSON is a **text format** for storing and transporting data.\n",
    "- It is very common format used throughout the web for handling files."
   ]
  },
  {
   "cell_type": "markdown",
   "id": "959e8abf",
   "metadata": {},
   "source": [
    "#### Need of JSON files:\n",
    "- **JSON files can be used to share data in a common format in different languages.**\n"
   ]
  },
  {
   "cell_type": "code",
   "execution_count": 5,
   "id": "8434da38",
   "metadata": {},
   "outputs": [
    {
     "name": "stdout",
     "output_type": "stream",
     "text": [
      "{\n",
      "    name : \"Harsh\"\n",
      "    age : 19\n",
      "    subjects : ['OS' , 'OOPS' , 'COA' , 'ADA' , 'DS']\n",
      "}\n",
      "<class 'str'>\n"
     ]
    }
   ],
   "source": [
    "with open(\"a5.5sample.json\" , 'r') as f :\n",
    "    data = f.read()\n",
    "    print(data)\n",
    "    print(type(data))"
   ]
  },
  {
   "cell_type": "markdown",
   "id": "897db44e",
   "metadata": {},
   "source": [
    "### import json (json package):\n",
    "- json package has 4 different functions that we use to handle json files.:  \n",
    "1. **json.load(JSON_FILE)**  \n",
    "2. **json.loads(JSON_FILE)**  \n",
    "3. **json.dump(OBJECT)** #object is generally dictionary \n",
    "4. **json.dumps(OBJECT, FILE_OBJECT)**  ,where file_object is : [f = open() ] f is file obj"
   ]
  },
  {
   "cell_type": "code",
   "execution_count": null,
   "id": "073da45d",
   "metadata": {},
   "outputs": [],
   "source": []
  },
  {
   "cell_type": "code",
   "execution_count": 20,
   "id": "6be74b18",
   "metadata": {},
   "outputs": [
    {
     "name": "stdout",
     "output_type": "stream",
     "text": [
      "{'name': 'Harsh', 'age': 19, 'subjects': ['OS', 'OOPS', 'COA', 'ADA', 'DS']}\n",
      "<class 'dict'>\n",
      "19\n",
      "COA\n"
     ]
    }
   ],
   "source": [
    "# 1. json.loads() --> It reads the data from the opened file and parses that data into the real \n",
    "# meaning of that data\n",
    "import json\n",
    "\n",
    "with open(\"a5.5sample.json\" , 'r') as f:\n",
    "    data = json.load(f)\n",
    "print(data)\n",
    "print(type(data))\n",
    "\n",
    "#as this is dictionary, we can perform operations of dictionary on it now like:\n",
    "print(data['age'])  #print the age\n",
    "print(data['subjects'][2])  #print the 3rd subject"
   ]
  },
  {
   "cell_type": "markdown",
   "id": "36889ddc",
   "metadata": {},
   "source": [
    "#### 2. json.loads() :  It parses a string into json data.\n"
   ]
  },
  {
   "cell_type": "code",
   "execution_count": 23,
   "id": "5c239ed1",
   "metadata": {},
   "outputs": [
    {
     "name": "stdout",
     "output_type": "stream",
     "text": [
      "{'name': 'Harsh', 'age': 19, 'subjects': ['OS', 'OOPS', 'COA', 'ADA', 'DS']}\n"
     ]
    }
   ],
   "source": [
    "with open(\"a5.5sample.json\" , 'r') as f :\n",
    "    data = f.read()\n",
    "    data1 = json.loads(data)\n",
    "print(data1)"
   ]
  },
  {
   "cell_type": "markdown",
   "id": "61bcbf57",
   "metadata": {},
   "source": [
    "### 3. json.dumps('dict_name') : It converts json dictionary into a string.\n",
    "- we can write this string into a json file now.\n",
    "\n",
    "### 4. json.dump(\\<dict_name> , \\<file_object>) : It converts dictionary into a json file that is opened currently.\n",
    "- Here we can write dump only when a file is opened with writing permission."
   ]
  },
  {
   "cell_type": "code",
   "execution_count": 25,
   "id": "9010a429",
   "metadata": {},
   "outputs": [
    {
     "name": "stdout",
     "output_type": "stream",
     "text": [
      "{\"name\": \"Harsh\", \"age\": 19, \"subjects\": [\"OS\", \"OOPS\", \"COA\", \"ADA\", \"DS\"]}\n"
     ]
    }
   ],
   "source": [
    "# 3. json.dumps()\n",
    "import json\n",
    "\n",
    "string = json.dumps(data1)  #data1 dict from above cell is converted into string\n",
    "print(string)"
   ]
  },
  {
   "cell_type": "code",
   "execution_count": 27,
   "id": "6a3fca84",
   "metadata": {},
   "outputs": [],
   "source": [
    "# 4. json.dump()\n",
    "import json\n",
    "\n",
    "with open(\"a5.6data.json\" , 'w') as file:\n",
    "    json.dump(data1 , file)  \n",
    "    #here 'data1' is dictionary and 'file' is file object which stores result of open() command \n",
    "# now check the contents of a5.6data.json file"
   ]
  },
  {
   "cell_type": "code",
   "execution_count": 34,
   "id": "e02b535f",
   "metadata": {},
   "outputs": [
    {
     "name": "stdout",
     "output_type": "stream",
     "text": [
      "{'age': 19, 'name': 'Harsh', 'subjects': ['OS', 'OOPS', 'COA', 'ADA', 'DS']}\n"
     ]
    }
   ],
   "source": [
    "import pprint\n",
    "\n",
    "with open(\"a5.5sample.json\",'r') as f:\n",
    "    data = json.load(f)\n",
    "    pprint.pprint(data)\n",
    "# this is just a simple example. pprint() has no effect here. It organises everything when\n",
    "# we have large data."
   ]
  }
 ],
 "metadata": {
  "kernelspec": {
   "display_name": "Python 3 (ipykernel)",
   "language": "python",
   "name": "python3"
  },
  "language_info": {
   "codemirror_mode": {
    "name": "ipython",
    "version": 3
   },
   "file_extension": ".py",
   "mimetype": "text/x-python",
   "name": "python",
   "nbconvert_exporter": "python",
   "pygments_lexer": "ipython3",
   "version": "3.8.10"
  }
 },
 "nbformat": 4,
 "nbformat_minor": 5
}
