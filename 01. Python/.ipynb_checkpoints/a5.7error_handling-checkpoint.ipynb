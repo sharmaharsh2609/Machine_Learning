{
 "cells": [
  {
   "cell_type": "markdown",
   "id": "2ba63991",
   "metadata": {},
   "source": [
    "# Error and Exception Handling:"
   ]
  },
  {
   "cell_type": "code",
   "execution_count": 1,
   "id": "06d0a733",
   "metadata": {},
   "outputs": [
    {
     "ename": "SyntaxError",
     "evalue": "invalid syntax (3235127777.py, line 1)",
     "output_type": "error",
     "traceback": [
      "\u001b[0;36m  File \u001b[0;32m\"/tmp/ipykernel_3170/3235127777.py\"\u001b[0;36m, line \u001b[0;32m1\u001b[0m\n\u001b[0;31m    fora i in range(5):\u001b[0m\n\u001b[0m         ^\u001b[0m\n\u001b[0;31mSyntaxError\u001b[0m\u001b[0;31m:\u001b[0m invalid syntax\n"
     ]
    }
   ],
   "source": [
    "fora i in range(5):\n",
    "    print(i)"
   ]
  },
  {
   "cell_type": "code",
   "execution_count": 2,
   "id": "a8a8ce0d",
   "metadata": {},
   "outputs": [
    {
     "ename": "ZeroDivisionError",
     "evalue": "division by zero",
     "output_type": "error",
     "traceback": [
      "\u001b[0;31m---------------------------------------------------------------------------\u001b[0m",
      "\u001b[0;31mZeroDivisionError\u001b[0m                         Traceback (most recent call last)",
      "\u001b[0;32m/tmp/ipykernel_3170/1877742648.py\u001b[0m in \u001b[0;36m<module>\u001b[0;34m\u001b[0m\n\u001b[0;32m----> 1\u001b[0;31m \u001b[0mprint\u001b[0m\u001b[0;34m(\u001b[0m\u001b[0;36m8\u001b[0m\u001b[0;34m/\u001b[0m\u001b[0;36m0\u001b[0m\u001b[0;34m)\u001b[0m\u001b[0;34m\u001b[0m\u001b[0;34m\u001b[0m\u001b[0m\n\u001b[0m",
      "\u001b[0;31mZeroDivisionError\u001b[0m: division by zero"
     ]
    }
   ],
   "source": [
    "print(8/0)"
   ]
  },
  {
   "cell_type": "markdown",
   "id": "4698435e",
   "metadata": {},
   "source": [
    "### Need of exception handling:\n",
    "- When a user runs a program, if exceptions are not handled properly then program will stop at that point and terminate when an exception occurs.\n"
   ]
  },
  {
   "cell_type": "markdown",
   "id": "7ea560b4",
   "metadata": {},
   "source": [
    "- ##### try:\n",
    "- ##### except:\n",
    "- (try: ... except: ...): 'try except' block is just like 'if else' block but in 'try except' , try and except both blocks are required. We can't use try without except or except without try according to the syntax."
   ]
  },
  {
   "cell_type": "code",
   "execution_count": 5,
   "id": "aab149cd",
   "metadata": {
    "scrolled": true
   },
   "outputs": [
    {
     "name": "stdout",
     "output_type": "stream",
     "text": [
      "0.6666666666666666\n",
      "hi\n",
      "error\n"
     ]
    }
   ],
   "source": [
    "def div(a,b):\n",
    "    try:\n",
    "        print(a/b)\n",
    "        print(\"hi\")\n",
    "    except:\n",
    "        print(\"error\")\n",
    "\n",
    "div(4,6)\n",
    "div(4,0)"
   ]
  },
  {
   "cell_type": "markdown",
   "id": "a6b45320",
   "metadata": {},
   "source": [
    "### --------------------------------------------------------------------------------------------\n",
    "### Exception classes:\n",
    "- all the exceptions that we get as runtime/execution errors are basically classes\n",
    "- eg- see below cell, we get error as:\n",
    "        ZeroDivisionError: division by zero\n",
    "here  \"\"ZeroDivisionError\" is a class and \"division by zero\" is error message"
   ]
  },
  {
   "cell_type": "code",
   "execution_count": 6,
   "id": "bdad8aa9",
   "metadata": {},
   "outputs": [
    {
     "ename": "ZeroDivisionError",
     "evalue": "division by zero",
     "output_type": "error",
     "traceback": [
      "\u001b[0;31m---------------------------------------------------------------------------\u001b[0m",
      "\u001b[0;31mZeroDivisionError\u001b[0m                         Traceback (most recent call last)",
      "\u001b[0;32m/tmp/ipykernel_3170/179726827.py\u001b[0m in \u001b[0;36m<module>\u001b[0;34m\u001b[0m\n\u001b[0;32m----> 1\u001b[0;31m \u001b[0mprint\u001b[0m\u001b[0;34m(\u001b[0m\u001b[0;36m10\u001b[0m\u001b[0;34m/\u001b[0m\u001b[0;36m0\u001b[0m\u001b[0;34m)\u001b[0m\u001b[0;34m\u001b[0m\u001b[0;34m\u001b[0m\u001b[0m\n\u001b[0m",
      "\u001b[0;31mZeroDivisionError\u001b[0m: division by zero"
     ]
    }
   ],
   "source": [
    "print(10/0)"
   ]
  },
  {
   "cell_type": "code",
   "execution_count": 15,
   "id": "b921dd02",
   "metadata": {},
   "outputs": [
    {
     "name": "stdout",
     "output_type": "stream",
     "text": [
      "zero division error occured\n"
     ]
    }
   ],
   "source": [
    "try:\n",
    "    print(10/0)\n",
    "except ZeroDivisionError as e:\n",
    "    print(\"zero division error occured\")"
   ]
  },
  {
   "cell_type": "code",
   "execution_count": 14,
   "id": "558d2d58",
   "metadata": {},
   "outputs": [
    {
     "ename": "ValueError",
     "evalue": "invalid literal for int() with base 10: 'harsh'",
     "output_type": "error",
     "traceback": [
      "\u001b[0;31m---------------------------------------------------------------------------\u001b[0m",
      "\u001b[0;31mValueError\u001b[0m                                Traceback (most recent call last)",
      "\u001b[0;32m/tmp/ipykernel_3170/3039947870.py\u001b[0m in \u001b[0;36m<module>\u001b[0;34m\u001b[0m\n\u001b[1;32m      1\u001b[0m \u001b[0;32mtry\u001b[0m\u001b[0;34m:\u001b[0m\u001b[0;34m\u001b[0m\u001b[0;34m\u001b[0m\u001b[0m\n\u001b[0;32m----> 2\u001b[0;31m     \u001b[0ma\u001b[0m \u001b[0;34m=\u001b[0m \u001b[0mint\u001b[0m\u001b[0;34m(\u001b[0m\u001b[0;34m\"harsh\"\u001b[0m\u001b[0;34m)\u001b[0m\u001b[0;34m\u001b[0m\u001b[0;34m\u001b[0m\u001b[0m\n\u001b[0m\u001b[1;32m      3\u001b[0m \u001b[0;32mexcept\u001b[0m \u001b[0mZeroDivisionError\u001b[0m\u001b[0;34m:\u001b[0m\u001b[0;34m\u001b[0m\u001b[0;34m\u001b[0m\u001b[0m\n\u001b[1;32m      4\u001b[0m     \u001b[0mprint\u001b[0m\u001b[0;34m(\u001b[0m\u001b[0;34m\"zero division error occured\"\u001b[0m\u001b[0;34m)\u001b[0m\u001b[0;34m\u001b[0m\u001b[0;34m\u001b[0m\u001b[0m\n",
      "\u001b[0;31mValueError\u001b[0m: invalid literal for int() with base 10: 'harsh'"
     ]
    }
   ],
   "source": [
    "try:\n",
    "    a = int(\"harsh\")\n",
    "except ZeroDivisionError:\n",
    "    print(\"zero division error occured\")"
   ]
  },
  {
   "cell_type": "markdown",
   "id": "249e30da",
   "metadata": {},
   "source": [
    "- Here we got valued error. But out try except only handles ZeroDivisioError.\n",
    "- We can use multiple except block:  \n",
    "------------------------------------\n",
    "### try block with multiple except blocks"
   ]
  },
  {
   "cell_type": "code",
   "execution_count": 16,
   "id": "88620041",
   "metadata": {},
   "outputs": [
    {
     "name": "stdout",
     "output_type": "stream",
     "text": [
      "some error occured\n"
     ]
    }
   ],
   "source": [
    "try:\n",
    "    print(a/b)\n",
    "    num = int(\"harsh\")\n",
    "except ZeroDivisionError:\n",
    "    print(\"zero division error occured\")\n",
    "except:\n",
    "    print(\"some error occured\")"
   ]
  },
  {
   "cell_type": "markdown",
   "id": "1a5433fb",
   "metadata": {},
   "source": [
    "- we can even alias it and give some other name as:"
   ]
  },
  {
   "cell_type": "code",
   "execution_count": 18,
   "id": "98a390ac",
   "metadata": {},
   "outputs": [
    {
     "name": "stdout",
     "output_type": "stream",
     "text": [
      "division by zero\n",
      "<class 'ZeroDivisionError'>\n"
     ]
    }
   ],
   "source": [
    "try:\n",
    "    print(4/0)\n",
    "except ZeroDivisionError as e:\n",
    "    print(e)\n",
    "    print(type(e))"
   ]
  },
  {
   "cell_type": "markdown",
   "id": "dda84ed6",
   "metadata": {},
   "source": [
    "## -------------------------------------------------------------------------\n",
    "### raise \\<exception_class>\n",
    "- raising an exception means throwing a specified exception to the class. **using raise means an exception has already occured.**"
   ]
  },
  {
   "cell_type": "code",
   "execution_count": 10,
   "id": "631f8bcf",
   "metadata": {},
   "outputs": [
    {
     "ename": "ZeroDivisionError",
     "evalue": "Hey harsh, Some error occured !",
     "output_type": "error",
     "traceback": [
      "\u001b[0;31m---------------------------------------------------------------------------\u001b[0m",
      "\u001b[0;31mZeroDivisionError\u001b[0m                         Traceback (most recent call last)",
      "\u001b[0;32m/tmp/ipykernel_5293/4183746308.py\u001b[0m in \u001b[0;36m<module>\u001b[0;34m\u001b[0m\n\u001b[0;32m----> 1\u001b[0;31m \u001b[0;32mraise\u001b[0m \u001b[0mZeroDivisionError\u001b[0m\u001b[0;34m(\u001b[0m\u001b[0;34m\"Hey harsh, Some error occured !\"\u001b[0m\u001b[0;34m)\u001b[0m\u001b[0;34m\u001b[0m\u001b[0;34m\u001b[0m\u001b[0m\n\u001b[0m",
      "\u001b[0;31mZeroDivisionError\u001b[0m: Hey harsh, Some error occured !"
     ]
    }
   ],
   "source": [
    "raise ZeroDivisionError(\"Hey harsh, Some error occured !\")"
   ]
  },
  {
   "cell_type": "code",
   "execution_count": 11,
   "id": "692dd85b",
   "metadata": {},
   "outputs": [
    {
     "ename": "ZeroDivisionError",
     "evalue": "('Harsh', 4.0, 67)",
     "output_type": "error",
     "traceback": [
      "\u001b[0;31m---------------------------------------------------------------------------\u001b[0m",
      "\u001b[0;31mZeroDivisionError\u001b[0m                         Traceback (most recent call last)",
      "\u001b[0;32m/tmp/ipykernel_5293/802077538.py\u001b[0m in \u001b[0;36m<module>\u001b[0;34m\u001b[0m\n\u001b[0;32m----> 1\u001b[0;31m \u001b[0;32mraise\u001b[0m \u001b[0mZeroDivisionError\u001b[0m\u001b[0;34m(\u001b[0m\u001b[0;34m\"Harsh\"\u001b[0m\u001b[0;34m,\u001b[0m\u001b[0;36m4.0\u001b[0m\u001b[0;34m,\u001b[0m\u001b[0;36m67\u001b[0m\u001b[0;34m)\u001b[0m\u001b[0;34m\u001b[0m\u001b[0;34m\u001b[0m\u001b[0m\n\u001b[0m",
      "\u001b[0;31mZeroDivisionError\u001b[0m: ('Harsh', 4.0, 67)"
     ]
    }
   ],
   "source": [
    "raise ZeroDivisionError(\"Harsh\",4.0,67)"
   ]
  },
  {
   "cell_type": "code",
   "execution_count": 23,
   "id": "8eee2305",
   "metadata": {},
   "outputs": [
    {
     "name": "stdout",
     "output_type": "stream",
     "text": [
      "('Some OS error has been occured !', 5)\n",
      "('Some OS error has been occured !', 5)\n"
     ]
    }
   ],
   "source": [
    "try:\n",
    "    raise ZeroDivisionError(\"Some OS error has been occured !\", 5)\n",
    "    print(5)\n",
    "except ZeroDivisionError as e:\n",
    "    print(e)\n",
    "    print(e.args)"
   ]
  },
  {
   "cell_type": "code",
   "execution_count": 17,
   "id": "d7b2b6d5",
   "metadata": {},
   "outputs": [
    {
     "name": "stdout",
     "output_type": "stream",
     "text": [
      "hi\n"
     ]
    }
   ],
   "source": [
    "try:\n",
    "    raise ZeroDivisionError(\"Some OS error has been occured !\")\n",
    "    print(5)\n",
    "except ZeroDivisionError:\n",
    "    print(\"hi\")"
   ]
  },
  {
   "cell_type": "code",
   "execution_count": 18,
   "id": "146c7b52",
   "metadata": {},
   "outputs": [
    {
     "ename": "Exception",
     "evalue": "",
     "output_type": "error",
     "traceback": [
      "\u001b[0;31m---------------------------------------------------------------------------\u001b[0m",
      "\u001b[0;31mException\u001b[0m                                 Traceback (most recent call last)",
      "\u001b[0;32m/tmp/ipykernel_5293/3275756190.py\u001b[0m in \u001b[0;36m<module>\u001b[0;34m\u001b[0m\n\u001b[0;32m----> 1\u001b[0;31m \u001b[0;32mraise\u001b[0m \u001b[0mException\u001b[0m\u001b[0;34m\u001b[0m\u001b[0;34m\u001b[0m\u001b[0m\n\u001b[0m",
      "\u001b[0;31mException\u001b[0m: "
     ]
    }
   ],
   "source": [
    "raise Exception #if no args are passed, then it shows blank message."
   ]
  },
  {
   "cell_type": "markdown",
   "id": "0888982a",
   "metadata": {},
   "source": [
    "### User-defined Error/Exception classes:\n"
   ]
  },
  {
   "cell_type": "code",
   "execution_count": 26,
   "id": "de086bd3",
   "metadata": {},
   "outputs": [
    {
     "name": "stdout",
     "output_type": "stream",
     "text": [
      " My exception occured !\n"
     ]
    }
   ],
   "source": [
    "class MyException(Exception):\n",
    "    def __init__(self, message):\n",
    "        self.msg= message\n",
    "    def __str__(self):\n",
    "        return self.msg\n",
    "    \n",
    "try:\n",
    "    raise MyException(\" My exception occured !\")\n",
    "except MyException as x:\n",
    "    print(x)"
   ]
  },
  {
   "cell_type": "code",
   "execution_count": 1,
   "id": "0856f888",
   "metadata": {},
   "outputs": [
    {
     "name": "stdout",
     "output_type": "stream",
     "text": [
      "Testing some code\n",
      "No error occured. Performing some operations.\n",
      "Cleaning up evreything..\n"
     ]
    }
   ],
   "source": [
    "try:\n",
    "    print(\"Testing some code\")\n",
    "except:\n",
    "    print(\"Some error occured !\")\n",
    "else:\n",
    "    print(\"No error occured. Performing some operations.\")\n",
    "finally:\n",
    "     #cleanup code.\n",
    "    print(\"Cleaning up evreything..\")"
   ]
  },
  {
   "cell_type": "code",
   "execution_count": 2,
   "id": "e6616451",
   "metadata": {},
   "outputs": [
    {
     "name": "stdout",
     "output_type": "stream",
     "text": [
      "Testing some code\n",
      "Some error occured !\n",
      "Cleaning up everything..\n"
     ]
    }
   ],
   "source": [
    "try:\n",
    "    print(\"Testing some code\")\n",
    "    print(6/0)   # ZeroDivisionError occurs here\n",
    "except:\n",
    "    print(\"Some error occured !\")\n",
    "else:\n",
    "    print(\"No error occured. Performing some operations.\")\n",
    "finally:\n",
    "     #cleanup code.\n",
    "    print(\"Cleaning up everything..\")"
   ]
  },
  {
   "cell_type": "code",
   "execution_count": 4,
   "id": "b46e7b3b",
   "metadata": {},
   "outputs": [
    {
     "data": {
      "text/plain": [
       "2"
      ]
     },
     "execution_count": 4,
     "metadata": {},
     "output_type": "execute_result"
    }
   ],
   "source": [
    "def func():\n",
    "    try:\n",
    "        return 1\n",
    "    finally:\n",
    "        return 2\n",
    "func()"
   ]
  },
  {
   "cell_type": "code",
   "execution_count": 5,
   "id": "b2a66ddc",
   "metadata": {},
   "outputs": [
    {
     "data": {
      "text/plain": [
       "1"
      ]
     },
     "execution_count": 5,
     "metadata": {},
     "output_type": "execute_result"
    }
   ],
   "source": [
    "def func():\n",
    "    try:\n",
    "        return 1\n",
    "    except:\n",
    "        return 2\n",
    "    else:\n",
    "        return 3\n",
    "func()"
   ]
  },
  {
   "cell_type": "code",
   "execution_count": 6,
   "id": "566a412f",
   "metadata": {},
   "outputs": [
    {
     "name": "stdout",
     "output_type": "stream",
     "text": [
      "Error!\n"
     ]
    }
   ],
   "source": [
    "try: \n",
    "    f = open(\"a5.2sample_file.txt\", \"r\")\n",
    "    f.read()\n",
    "    print(8/0)\n",
    "except:\n",
    "    print(\"Error!\")\n",
    "finally:\n",
    "    f.close()"
   ]
  },
  {
   "cell_type": "markdown",
   "id": "da228bc5",
   "metadata": {},
   "source": [
    "### with statement:\n",
    "- with statement closes files at last even if some error is occured. Thus we should use with statement for handling files in place of using finally block for closing as with statement handles everything by itself."
   ]
  },
  {
   "cell_type": "code",
   "execution_count": 27,
   "id": "b7f4716c",
   "metadata": {},
   "outputs": [
    {
     "name": "stdout",
     "output_type": "stream",
     "text": [
      "4\n",
      "(None, None, None)\n",
      "hello\n"
     ]
    }
   ],
   "source": [
    "class A:\n",
    "    def __init__(self,n):\n",
    "        self.n = n\n",
    "    def __str__(self):\n",
    "        return str(self.n)\n",
    "    def __enter__(self):\n",
    "        return self\n",
    "    def __exit__(self, *args):\n",
    "        print(args)\n",
    "        \n",
    "with A(4) as obj:\n",
    "    print(obj)\n",
    "\n",
    "print(\"hello\")"
   ]
  },
  {
   "cell_type": "code",
   "execution_count": 32,
   "id": "65ff4c54",
   "metadata": {},
   "outputs": [
    {
     "name": "stdout",
     "output_type": "stream",
     "text": [
      "4\n",
      "(<class 'ZeroDivisionError'>, ZeroDivisionError('division by zero'), <traceback object at 0x7fb1581f3640>)\n"
     ]
    },
    {
     "ename": "ZeroDivisionError",
     "evalue": "division by zero",
     "output_type": "error",
     "traceback": [
      "\u001b[0;31m---------------------------------------------------------------------------\u001b[0m",
      "\u001b[0;31mZeroDivisionError\u001b[0m                         Traceback (most recent call last)",
      "\u001b[0;32m/tmp/ipykernel_3506/2333409044.py\u001b[0m in \u001b[0;36m<module>\u001b[0;34m\u001b[0m\n\u001b[1;32m     11\u001b[0m \u001b[0;32mwith\u001b[0m \u001b[0mA\u001b[0m\u001b[0;34m(\u001b[0m\u001b[0;36m4\u001b[0m\u001b[0;34m)\u001b[0m \u001b[0;32mas\u001b[0m \u001b[0mx\u001b[0m\u001b[0;34m:\u001b[0m\u001b[0;34m\u001b[0m\u001b[0;34m\u001b[0m\u001b[0m\n\u001b[1;32m     12\u001b[0m     \u001b[0mprint\u001b[0m\u001b[0;34m(\u001b[0m\u001b[0mx\u001b[0m\u001b[0;34m)\u001b[0m\u001b[0;34m\u001b[0m\u001b[0;34m\u001b[0m\u001b[0m\n\u001b[0;32m---> 13\u001b[0;31m     \u001b[0mprint\u001b[0m\u001b[0;34m(\u001b[0m\u001b[0;36m7\u001b[0m\u001b[0;34m/\u001b[0m\u001b[0;36m0\u001b[0m\u001b[0;34m)\u001b[0m\u001b[0;34m\u001b[0m\u001b[0;34m\u001b[0m\u001b[0m\n\u001b[0m\u001b[1;32m     14\u001b[0m \u001b[0mprint\u001b[0m\u001b[0;34m(\u001b[0m\u001b[0;34m\"hello\"\u001b[0m\u001b[0;34m)\u001b[0m\u001b[0;34m\u001b[0m\u001b[0;34m\u001b[0m\u001b[0m\n",
      "\u001b[0;31mZeroDivisionError\u001b[0m: division by zero"
     ]
    }
   ],
   "source": [
    "class A:\n",
    "    def __init__(self,n):\n",
    "        self.n = n\n",
    "    def __str__(self):\n",
    "        return str(self.n)\n",
    "    def __enter__(self):\n",
    "        return self\n",
    "    def __exit__(self, *args):\n",
    "        print(args)\n",
    "        \n",
    "with A(4) as x:\n",
    "    print(x)\n",
    "    print(7/0)\n",
    "print(\"hello\")"
   ]
  },
  {
   "cell_type": "code",
   "execution_count": 3,
   "id": "a3c667d2",
   "metadata": {},
   "outputs": [
    {
     "name": "stdout",
     "output_type": "stream",
     "text": [
      "4\n",
      "(<class 'ZeroDivisionError'>, ZeroDivisionError('division by zero'), <traceback object at 0x7fc7c871aa80>)\n",
      "hello\n"
     ]
    }
   ],
   "source": [
    "class A:\n",
    "    def __init__(self,n):\n",
    "        self.n = n\n",
    "    def __str__(self):\n",
    "        return str(self.n)\n",
    "    def __enter__(self):\n",
    "        return self\n",
    "    def __exit__(self, *args):\n",
    "        print(args)\n",
    "        return True\n",
    "with A(4) as x:\n",
    "    print(x)\n",
    "    print(7/0)\n",
    "print(\"hello\")"
   ]
  }
 ],
 "metadata": {
  "kernelspec": {
   "display_name": "Python 3 (ipykernel)",
   "language": "python",
   "name": "python3"
  },
  "language_info": {
   "codemirror_mode": {
    "name": "ipython",
    "version": 3
   },
   "file_extension": ".py",
   "mimetype": "text/x-python",
   "name": "python",
   "nbconvert_exporter": "python",
   "pygments_lexer": "ipython3",
   "version": "3.8.10"
  }
 },
 "nbformat": 4,
 "nbformat_minor": 5
}
