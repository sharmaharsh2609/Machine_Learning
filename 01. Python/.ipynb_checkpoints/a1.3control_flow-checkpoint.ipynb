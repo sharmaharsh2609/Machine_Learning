{
 "cells": [
  {
   "cell_type": "markdown",
   "id": "ec14c515",
   "metadata": {},
   "source": [
    "### If Else Blocks"
   ]
  },
  {
   "cell_type": "code",
   "execution_count": 3,
   "id": "426ff01d",
   "metadata": {},
   "outputs": [
    {
     "name": "stdout",
     "output_type": "stream",
     "text": [
      "Cool\n",
      "Lets play Cricket\n"
     ]
    }
   ],
   "source": [
    "weather  = input()\n",
    "\n",
    "if weather==\"Rainy\":\n",
    "    print(\"Don't go outside\")\n",
    "    print(\"It is raining heavilly\")\n",
    "    \n",
    "elif weather==\"Cool\":\n",
    "    print(\"Lets play Cricket\")\n",
    "\n",
    "else:\n",
    "    print(\"Lets go for shopping\")\n",
    "\n"
   ]
  },
  {
   "cell_type": "markdown",
   "id": "0094083f",
   "metadata": {},
   "source": [
    "### Indentation:\n",
    "* Indentation is spacing given to code snippets to show that they belong to some particular statement: eg-"
   ]
  },
  {
   "cell_type": "code",
   "execution_count": 2,
   "id": "79f9f319",
   "metadata": {},
   "outputs": [
    {
     "name": "stdout",
     "output_type": "stream",
     "text": [
      "positive\n",
      "Multiple of 5.\n"
     ]
    }
   ],
   "source": [
    "a=10\n",
    "if a>0:\n",
    "    print(\"positive\")\n",
    "    if a%5==0:\n",
    "        print(\"Multiple of 5.\")\n",
    "else:\n",
    "    print(negative)"
   ]
  },
  {
   "cell_type": "markdown",
   "id": "dba23c67",
   "metadata": {},
   "source": [
    "### 2. Loop Statements:  \n",
    "They controls the repitition of execution of some li"
   ]
  },
  {
   "cell_type": "markdown",
   "id": "66889bf7",
   "metadata": {},
   "source": [
    "### While Loop"
   ]
  },
  {
   "cell_type": "code",
   "execution_count": 5,
   "id": "1c9db324",
   "metadata": {},
   "outputs": [
    {
     "name": "stdout",
     "output_type": "stream",
     "text": [
      "Step 1\n",
      "Step 2\n",
      "Step 3\n",
      "Step 4\n",
      "Step 5\n",
      "Loop Finished\n"
     ]
    }
   ],
   "source": [
    "n = 5\n",
    "i = 1\n",
    "\n",
    "while i<=n:\n",
    "    print(\"Step %d\"%i)\n",
    "    i = i + 1\n",
    "\n",
    "print(\"Loop Finished\")"
   ]
  },
  {
   "cell_type": "code",
   "execution_count": 1,
   "id": "eebcb914",
   "metadata": {},
   "outputs": [
    {
     "name": "stdout",
     "output_type": "stream",
     "text": [
      "1\n",
      "2\n",
      "3\n",
      "4\n",
      "5\n"
     ]
    }
   ],
   "source": [
    "for i in [1,2,3,4,5]:\n",
    "    print(i)"
   ]
  },
  {
   "cell_type": "markdown",
   "id": "67e21eb5",
   "metadata": {},
   "source": [
    "#### range():  \n"
   ]
  },
  {
   "cell_type": "code",
   "execution_count": 9,
   "id": "5b9def2c",
   "metadata": {},
   "outputs": [
    {
     "name": "stdout",
     "output_type": "stream",
     "text": [
      "1,3,5,7,9,"
     ]
    }
   ],
   "source": [
    "for i in range(1,10,2):\n",
    "    print(i,end=\",\")"
   ]
  },
  {
   "cell_type": "code",
   "execution_count": 11,
   "id": "d0a8eaa2",
   "metadata": {},
   "outputs": [
    {
     "name": "stdout",
     "output_type": "stream",
     "text": [
      "10,8,6,4,2,"
     ]
    }
   ],
   "source": [
    "for i in range(10,1,-2):\n",
    "    print(i,end=',')"
   ]
  },
  {
   "cell_type": "code",
   "execution_count": 10,
   "id": "f1363313",
   "metadata": {},
   "outputs": [
    {
     "name": "stdout",
     "output_type": "stream",
     "text": [
      "3628800\n"
     ]
    }
   ],
   "source": [
    "num = 10\n",
    "ans = 1\n",
    "\n",
    "for i in range(1,11):\n",
    "    ans *= i\n",
    "    \n",
    "print(ans)"
   ]
  },
  {
   "cell_type": "code",
   "execution_count": 13,
   "id": "163c7d1b",
   "metadata": {},
   "outputs": [
    {
     "name": "stdout",
     "output_type": "stream",
     "text": [
      "5 5 5 5 5 \n",
      "5 4 4 4 5 \n",
      "5 4 3 4 5 \n",
      "5 4 4 4 5 \n",
      "5 5 5 5 5 \n"
     ]
    }
   ],
   "source": [
    "#5 X 5 Matrix\n",
    "n = 5\n",
    "for x in range(n):\n",
    "    for y in range(n):\n",
    "        print(max(x+1,y+1,n-x,n-y),end=\" \")\n",
    "    print()\n"
   ]
  },
  {
   "cell_type": "markdown",
   "id": "5421e3a0",
   "metadata": {},
   "source": [
    "### break, continue and pass statements"
   ]
  },
  {
   "cell_type": "code",
   "execution_count": 15,
   "id": "deb8299d",
   "metadata": {},
   "outputs": [
    {
     "name": "stdout",
     "output_type": "stream",
     "text": [
      "1\n",
      "2\n",
      "3\n",
      "4\n",
      "6\n",
      "Loop ends\n"
     ]
    }
   ],
   "source": [
    "for i in range(1,10):\n",
    "    if i==5:\n",
    "        continue\n",
    "    if i==7:\n",
    "        break\n",
    "    print(i)\n",
    "\n",
    "print(\"Loop ends\")"
   ]
  },
  {
   "cell_type": "code",
   "execution_count": 17,
   "id": "ed1bd817",
   "metadata": {},
   "outputs": [],
   "source": [
    "for i in range(1,10):\n",
    "    pass\n",
    "#a loop or function can't be left empty. So we need to write pass so that it would not show error"
   ]
  },
  {
   "cell_type": "markdown",
   "id": "0a66c83e",
   "metadata": {},
   "source": [
    "# Expressions:\n"
   ]
  },
  {
   "cell_type": "markdown",
   "id": "820c2067",
   "metadata": {},
   "source": [
    "### 1. Arithmetic Operators"
   ]
  },
  {
   "cell_type": "code",
   "execution_count": 19,
   "id": "c71a30c5",
   "metadata": {},
   "outputs": [
    {
     "name": "stdout",
     "output_type": "stream",
     "text": [
      "13\n",
      "7\n",
      "30\n",
      "3.3333\n",
      "3\n",
      "1000\n",
      "3\n"
     ]
    }
   ],
   "source": [
    "a = 10\n",
    "b = 3\n",
    "\n",
    "print(a+b)\n",
    "print(a-b)\n",
    "print(a*b)\n",
    "print(\"%0.4f\"%(a/b))\n",
    "print(a//b)\n",
    "#Exponent/Power Function\n",
    "print(a**b)\n",
    "print(b%a)"
   ]
  },
  {
   "cell_type": "markdown",
   "id": "be448280",
   "metadata": {},
   "source": [
    "### 2. Comparison Operators:\n",
    "    ==    !=    <    >    <=    >="
   ]
  },
  {
   "cell_type": "code",
   "execution_count": 21,
   "id": "6acd0735",
   "metadata": {},
   "outputs": [
    {
     "name": "stdout",
     "output_type": "stream",
     "text": [
      "True\n",
      "False\n",
      "False\n",
      "False\n",
      "True\n",
      "True\n"
     ]
    }
   ],
   "source": [
    "print(10==10)\n",
    "print(10!=10)\n",
    "print(10>10)\n",
    "print(10<10)\n",
    "print(10>=10)\n",
    "print(10<=10)"
   ]
  },
  {
   "cell_type": "code",
   "execution_count": 30,
   "id": "cdab3f16",
   "metadata": {},
   "outputs": [
    {
     "name": "stdout",
     "output_type": "stream",
     "text": [
      "True\n",
      "False\n",
      "False\n",
      "True\n"
     ]
    }
   ],
   "source": [
    "print(\"abc\"==\"abc\")\n",
    "print(\"abc\">\"xy\")   #here length of \"abc\" is more \n",
    "print(\"ABC\">\"abc\")   #ASCII value of A=65 and of a=97. So 97 > 65\n",
    "print(\"abc\">\"ab\")"
   ]
  },
  {
   "cell_type": "code",
   "execution_count": 37,
   "id": "99d0273a",
   "metadata": {},
   "outputs": [
    {
     "data": {
      "text/plain": [
       "35"
      ]
     },
     "execution_count": 37,
     "metadata": {},
     "output_type": "execute_result"
    }
   ],
   "source": [
    "#ord()\n",
    "ord(\"a\")     #ord() function prints ASCII value of any character\n"
   ]
  },
  {
   "cell_type": "markdown",
   "id": "cd9099b0",
   "metadata": {},
   "source": [
    "### 3. Assignment Operators:\n",
    "    =    +=    -=    *=    /=    %=    **="
   ]
  },
  {
   "cell_type": "code",
   "execution_count": 31,
   "id": "36e03367",
   "metadata": {},
   "outputs": [
    {
     "name": "stdout",
     "output_type": "stream",
     "text": [
      "20\n",
      "30\n",
      "20\n",
      "200\n",
      "20.0\n",
      "0.0\n",
      "0.0\n"
     ]
    }
   ],
   "source": [
    "a=20\n",
    "print(a)\n",
    "a+=10\n",
    "print(a)\n",
    "a-=10\n",
    "print(a)\n",
    "a*=10\n",
    "print(a)\n",
    "a/=10\n",
    "print(a)\n",
    "a%=10\n",
    "print(a)\n",
    "a**=10\n",
    "print(a)"
   ]
  },
  {
   "cell_type": "markdown",
   "id": "2a38f39d",
   "metadata": {},
   "source": [
    "### 4. Logical Operators:  \n"
   ]
  },
  {
   "cell_type": "code",
   "execution_count": 47,
   "id": "b339cdbe",
   "metadata": {},
   "outputs": [
    {
     "name": "stdout",
     "output_type": "stream",
     "text": [
      "True\n",
      "True\n",
      "True\n",
      "True\n",
      "False\n"
     ]
    }
   ],
   "source": [
    "#isinstance() returns True if 1st parameter passed belongs to class or subclass pssed in 2nd parameter.\n",
    "print(isinstance(1,int))   \n",
    "print(isinstance(\"asfas\",str))\n",
    "print(isinstance(True,int))   #it shows that True is of type int or any subclass of int.\n",
    "print(isinstance(True,bool))   #it shows that True is of type bool.\n",
    "print(isinstance(\"add\",int))"
   ]
  },
  {
   "cell_type": "code",
   "execution_count": 48,
   "id": "511c0ff3",
   "metadata": {},
   "outputs": [
    {
     "data": {
      "text/plain": [
       "bool"
      ]
     },
     "execution_count": 48,
     "metadata": {},
     "output_type": "execute_result"
    }
   ],
   "source": [
    "type(True)\n",
    "#Although type is bool. But bool is derived from int and is a subclass of int"
   ]
  },
  {
   "cell_type": "code",
   "execution_count": 54,
   "id": "331e49d9",
   "metadata": {},
   "outputs": [
    {
     "name": "stdout",
     "output_type": "stream",
     "text": [
      "6\n",
      "5\n",
      "True\n"
     ]
    }
   ],
   "source": [
    "print(5+True)  #True is int with value 1\n",
    "print(5+False)  #False is int with value 0\n",
    "print(True)   #However True shows value only if used with other int variables"
   ]
  },
  {
   "cell_type": "markdown",
   "id": "9f47063e",
   "metadata": {},
   "source": [
    "- There are 3 logical operators:  \n",
    "not  \n",
    "and  \n",
    "or"
   ]
  },
  {
   "cell_type": "markdown",
   "id": "791040f8",
   "metadata": {},
   "source": [
    "### not operator:  \n"
   ]
  },
  {
   "cell_type": "code",
   "execution_count": 55,
   "id": "f35ac1f4",
   "metadata": {},
   "outputs": [
    {
     "name": "stdout",
     "output_type": "stream",
     "text": [
      "False\n",
      "True\n"
     ]
    }
   ],
   "source": [
    "print(not True)\n",
    "print(not False)"
   ]
  },
  {
   "cell_type": "markdown",
   "id": "f80253a8",
   "metadata": {},
   "source": [
    "### and operator:  \n"
   ]
  },
  {
   "cell_type": "code",
   "execution_count": 60,
   "id": "61184b09",
   "metadata": {},
   "outputs": [
    {
     "data": {
      "text/plain": [
       "4"
      ]
     },
     "execution_count": 60,
     "metadata": {},
     "output_type": "execute_result"
    }
   ],
   "source": [
    "0 or 4    #prints 2nd as 1st is 0."
   ]
  },
  {
   "cell_type": "code",
   "execution_count": 61,
   "id": "7ef892a3",
   "metadata": {},
   "outputs": [
    {
     "data": {
      "text/plain": [
       "5"
      ]
     },
     "execution_count": 61,
     "metadata": {},
     "output_type": "execute_result"
    }
   ],
   "source": [
    "5 or 4    #prints 1st and ignores 2nd"
   ]
  },
  {
   "cell_type": "code",
   "execution_count": 62,
   "id": "7aaad710",
   "metadata": {},
   "outputs": [
    {
     "data": {
      "text/plain": [
       "0"
      ]
     },
     "execution_count": 62,
     "metadata": {},
     "output_type": "execute_result"
    }
   ],
   "source": [
    "0 and 4    #prints 0 (which is 1st) and ignores 2nd"
   ]
  },
  {
   "cell_type": "code",
   "execution_count": 63,
   "id": "60b09da3",
   "metadata": {},
   "outputs": [
    {
     "data": {
      "text/plain": [
       "4"
      ]
     },
     "execution_count": 63,
     "metadata": {},
     "output_type": "execute_result"
    }
   ],
   "source": [
    "5 and 4    #prints 2nd as 1st is true."
   ]
  }
 ],
 "metadata": {
  "kernelspec": {
   "display_name": "Python 3 (ipykernel)",
   "language": "python",
   "name": "python3"
  },
  "language_info": {
   "codemirror_mode": {
    "name": "ipython",
    "version": 3
   },
   "file_extension": ".py",
   "mimetype": "text/x-python",
   "name": "python",
   "nbconvert_exporter": "python",
   "pygments_lexer": "ipython3",
   "version": "3.8.10"
  }
 },
 "nbformat": 4,
 "nbformat_minor": 5
}
