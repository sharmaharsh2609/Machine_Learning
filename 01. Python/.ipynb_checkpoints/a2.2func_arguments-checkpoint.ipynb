{
 "cells": [
  {
   "cell_type": "markdown",
   "id": "42954034",
   "metadata": {},
   "source": [
    "# Function Arguments:"
   ]
  },
  {
   "cell_type": "markdown",
   "id": "38ec06e4",
   "metadata": {},
   "source": [
    "### Default Aguments:\n",
    "- In c++ we can have default arguments only on right side:  \n",
    "  eg.- void func(a,b,c,d=10,e=20)\n"
   ]
  },
  {
   "cell_type": "markdown",
   "id": "33c66615",
   "metadata": {},
   "source": [
    "## Keyword Arguments:\n",
    "-A keyword argument is where you provide a name to the variable as you pass it into the function."
   ]
  },
  {
   "cell_type": "code",
   "execution_count": 3,
   "id": "22e59f3f",
   "metadata": {},
   "outputs": [
    {
     "name": "stdout",
     "output_type": "stream",
     "text": [
      "hey\n",
      "welcome\n",
      "here\n"
     ]
    }
   ],
   "source": [
    "def show(a,b,c):\n",
    "    print(a)\n",
    "    print(b)\n",
    "    print(c)\n",
    "\n",
    "show(\"hey\",\"welcome\", \"here\")"
   ]
  },
  {
   "cell_type": "code",
   "execution_count": 4,
   "id": "be02b4ef",
   "metadata": {},
   "outputs": [
    {
     "name": "stdout",
     "output_type": "stream",
     "text": [
      "here\n",
      "hey\n",
      "welcome\n"
     ]
    }
   ],
   "source": [
    "#we can pass arguments in different order\n",
    "show(b=\"hey\",c=\"welcome\",a=\"here\")"
   ]
  },
  {
   "cell_type": "code",
   "execution_count": 10,
   "id": "29de3551",
   "metadata": {},
   "outputs": [
    {
     "name": "stdout",
     "output_type": "stream",
     "text": [
      "Name\n",
      "is\n",
      "Rohit\n",
      "Kumar\n"
     ]
    }
   ],
   "source": [
    "def show(a,b,c=\"Rohit\",d=\"Sharma\"):\n",
    "    print(a)\n",
    "    print(b)\n",
    "    print(c)\n",
    "    print(d)\n",
    "\n",
    "show(\"Name\",\"is\",d=\"Kumar\")\n",
    "\n",
    "#but we still can't use any non-default after default argument."
   ]
  },
  {
   "cell_type": "code",
   "execution_count": 2,
   "id": "47c5630f",
   "metadata": {},
   "outputs": [
    {
     "name": "stdout",
     "output_type": "stream",
     "text": [
      "one two three four\n",
      "one two three\n"
     ]
    }
   ],
   "source": [
    "print(\"one\",\"two\",\"three\",\"four\")\n",
    "print(\"one\",\"two\",\"three\")"
   ]
  },
  {
   "cell_type": "code",
   "execution_count": 4,
   "id": "42a11ac6",
   "metadata": {},
   "outputs": [
    {
     "name": "stdout",
     "output_type": "stream",
     "text": [
      "1\n",
      "2\n",
      "3 4 5 6\n",
      "0\n",
      "Data type of *args is:  <class 'tuple'>\n"
     ]
    }
   ],
   "source": [
    "def func(a,b,*args,d=0):\n",
    "    print(a)\n",
    "    print(b)\n",
    "    print(* args)\n",
    "    print(d)\n",
    "    print(\"Data type of *args is: \",type(args))\n",
    "\n",
    "func(1,2,3,4,5,6)"
   ]
  },
  {
   "cell_type": "markdown",
   "id": "e34cff7d",
   "metadata": {},
   "source": [
    "## Packing arguments:\n"
   ]
  },
  {
   "cell_type": "code",
   "execution_count": 16,
   "id": "5797c0e1",
   "metadata": {},
   "outputs": [
    {
     "name": "stdout",
     "output_type": "stream",
     "text": [
      "a=1, b=2\n",
      "c= (4, 6, 24, 5)\n",
      "*c= 4 6 24 5\n"
     ]
    }
   ],
   "source": [
    "#example:\n",
    "def show(a,b,*c):\n",
    "    print(\"a=%d, b=%d\"%(a,b))\n",
    "    #if we print c, then it prints tuple:\n",
    "    print(\"c=\",c)\n",
    "    #if we print *c, then it prints values of the tuple:\n",
    "    print(\"*c=\",*c)\n",
    "    \n",
    "    \n",
    "show(1,2,4,6,24,5)"
   ]
  },
  {
   "cell_type": "markdown",
   "id": "9c09fb6e",
   "metadata": {},
   "source": [
    "### Packing keyword arguments:\n"
   ]
  },
  {
   "cell_type": "code",
   "execution_count": 6,
   "id": "012bf737",
   "metadata": {},
   "outputs": [
    {
     "name": "stdout",
     "output_type": "stream",
     "text": [
      "{'name': 'Harsh', 'Branch': 'CSE', 'Sem': '5th'}\n",
      "Data type of *args is:  <class 'dict'>\n"
     ]
    }
   ],
   "source": [
    "def func(**kwargs):\n",
    "    print(kwargs)\n",
    "    # print(**kwargs)    this would give error\n",
    "    print(\"Data type of *args is: \",type(kwargs))\n",
    "    \n",
    "func(name=\"Harsh\", Branch=\"CSE\", Sem=\"5th\")"
   ]
  },
  {
   "cell_type": "code",
   "execution_count": 1,
   "id": "25f38828",
   "metadata": {},
   "outputs": [],
   "source": [
    "def show(a,b,*c,d=0,e=5,**f):\n",
    "    print(a,b,c,d,e,f,sep='\\n')\n",
    "    \n",
    "print()"
   ]
  },
  {
   "cell_type": "code",
   "execution_count": 24,
   "id": "efa0c972",
   "metadata": {},
   "outputs": [
    {
     "name": "stdout",
     "output_type": "stream",
     "text": [
      "20\n",
      "<function add at 0x7fc6fc078a60>\n",
      "10\n"
     ]
    },
    {
     "data": {
      "text/plain": [
       "int"
      ]
     },
     "execution_count": 24,
     "metadata": {},
     "output_type": "execute_result"
    }
   ],
   "source": [
    "def add():\n",
    "    return 10+10\n",
    "\n",
    "type(add)\n",
    "print(add())   # it shows the value executed by object add\n",
    "\n",
    "print(add)    # see what 'add' actually is\n",
    "\n",
    "add=10   # we assign value to object 'add'\n",
    "print(add)\n",
    "type(add)"
   ]
  },
  {
   "cell_type": "markdown",
   "id": "13e6f820",
   "metadata": {},
   "source": [
    "# Lambda function:\n",
    "- Lambda function is a 'one line function' with no name. Lambda is normal functions as other functions. But it do not have any name.\n"
   ]
  },
  {
   "cell_type": "code",
   "execution_count": 26,
   "id": "4723e933",
   "metadata": {},
   "outputs": [
    {
     "name": "stdout",
     "output_type": "stream",
     "text": [
      "<function <lambda> at 0x7fc6f4791e50>\n",
      "30\n"
     ]
    }
   ],
   "source": [
    "#example:\n",
    "add = lambda a,b : a+b\n",
    "print(add)\n",
    "print(add(10,20))"
   ]
  },
  {
   "cell_type": "code",
   "execution_count": 35,
   "id": "6deff2d4",
   "metadata": {},
   "outputs": [
    {
     "name": "stdout",
     "output_type": "stream",
     "text": [
      "[('Ashima', 10), ('Deepshikha', 5), ('Harsh', 15)]\n",
      "[('Deepshikha', 5), ('Ashima', 10), ('Harsh', 15)]\n"
     ]
    }
   ],
   "source": [
    "a = [(\"Harsh\",15), (\"Ashima\",10), (\"Deepshikha\",5)]\n",
    "b = sorted(a)\n",
    "print(b)\n",
    "# If we want to sort according to 2nd parameter, then sorted function has a parameter key=func() \n",
    "# which takes function as parameter and sorts according to that.\n",
    "#by default key=None\n",
    "\n",
    "b = sorted(a, key=lambda a : a[1])\n",
    "print(b)"
   ]
  }
 ],
 "metadata": {
  "kernelspec": {
   "display_name": "Python 3 (ipykernel)",
   "language": "python",
   "name": "python3"
  },
  "language_info": {
   "codemirror_mode": {
    "name": "ipython",
    "version": 3
   },
   "file_extension": ".py",
   "mimetype": "text/x-python",
   "name": "python",
   "nbconvert_exporter": "python",
   "pygments_lexer": "ipython3",
   "version": "3.8.10"
  }
 },
 "nbformat": 4,
 "nbformat_minor": 5
}
