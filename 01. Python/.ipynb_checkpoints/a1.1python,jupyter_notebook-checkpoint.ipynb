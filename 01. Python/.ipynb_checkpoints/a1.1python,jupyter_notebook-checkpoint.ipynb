{
 "cells": [
  {
   "cell_type": "markdown",
   "id": "f9ea04af",
   "metadata": {},
   "source": [
    "\n",
    "# Jupyter Notebook:\n",
    "* Jupyter notebook is simply a python shell.\n",
    "* It is similar to as typing python(which shows interface like >>>) in temrinal or cmd. But jupyter notebook is more intuitive and very easy to understand.\n",
    "* On typing   'jupyter notebook' in terminal or cmd, it opens in web browser and shows us all the files anf folders that are present in current working folder/directory where we typed jupyter notebook.\n"
   ]
  },
  {
   "cell_type": "markdown",
   "id": "ec84cf05",
   "metadata": {},
   "source": [
    "### Jupyter Themes:\n",
    "jt -t monokai :  it is a good dark theme for jupyter notebook.  \n",
    "jt -r : It resets jupyter notebook themes to initial state."
   ]
  }
 ],
 "metadata": {
  "kernelspec": {
   "display_name": "Python 3 (ipykernel)",
   "language": "python",
   "name": "python3"
  },
  "language_info": {
   "codemirror_mode": {
    "name": "ipython",
    "version": 3
   },
   "file_extension": ".py",
   "mimetype": "text/x-python",
   "name": "python",
   "nbconvert_exporter": "python",
   "pygments_lexer": "ipython3",
   "version": "3.8.10"
  }
 },
 "nbformat": 4,
 "nbformat_minor": 5
}
