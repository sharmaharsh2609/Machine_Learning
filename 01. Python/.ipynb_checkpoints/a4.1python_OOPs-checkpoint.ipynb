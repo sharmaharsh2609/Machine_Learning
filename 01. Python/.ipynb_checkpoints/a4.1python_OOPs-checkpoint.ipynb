{
 "cells": [
  {
   "cell_type": "markdown",
   "id": "844542f7",
   "metadata": {},
   "source": [
    "# OOPs: Object Oriented Programming\n",
    "- Object-oriented Programming (OOPs) is a programming paradigm that uses objects and classes in programming.\n"
   ]
  },
  {
   "cell_type": "markdown",
   "id": "82e328b3",
   "metadata": {},
   "source": [
    "- The most basic concepts of OOPs are: classes and objects \n",
    "### Class:\n",
    "- A class is the blueprintsor the prototype to create objects.\n",
    "- It is a logical entity that contains some attributes and methods.  \n",
    "### Objects: \n",
    "- Object is an instance of class. That means the state of class at some particular instance.  \n"
   ]
  },
  {
   "cell_type": "markdown",
   "id": "555dce0a",
   "metadata": {},
   "source": [
    "## 4 pillars of OOPs:\n",
    "- Object Oriented Programming is stands on 4 basic concepts:  \n",
    "Encapsulation  \n",
    "Abstraction  \n",
    "Inheritance  \n",
    "Polymorphism"
   ]
  },
  {
   "cell_type": "markdown",
   "id": "621253eb",
   "metadata": {},
   "source": [
    "## 1. Encapsulation: \n",
    "###### Encapsulation is the idea of wrapping up the data and the methods(functions) that work on data in a single unit.\n"
   ]
  },
  {
   "cell_type": "markdown",
   "id": "b766f0ab",
   "metadata": {},
   "source": [
    "## 2. Abstraction: \n",
    "- Abstraction means only showing essential features and hiding the unneccessary information. Means only showing the results and hiding up the implementation.  \n"
   ]
  },
  {
   "cell_type": "markdown",
   "id": "19c02c25",
   "metadata": {},
   "source": [
    "### Difference in Encapsulation and Abstraction:\n",
    "##### Data Abstraction is method of hiding unwanted information that user do not want to know.  Whereas encapsulation is a method to hide the data in a single entity or unit along with methods to protect information from outside.\n"
   ]
  },
  {
   "cell_type": "markdown",
   "id": "a00c4e7e",
   "metadata": {},
   "source": [
    "## 3. Inheritance:\n",
    "- Inheritance is the capability of one class to inherit the properties from another class or to derive properties to other class. The class that derives properties is called the derived class or child class and the class from which the properties are being derived is called the base class or parent class.\n"
   ]
  },
  {
   "cell_type": "markdown",
   "id": "833dd000",
   "metadata": {},
   "source": [
    "## 4. Polymorphism\n",
    "- poly means differrent and morph means forms. So polymorphism means different forms.\n",
    "- by polymorphism, we mean we can perform a task in different ways.  \n",
    "eg- In C++, we can use function overloading, which is an example of polymorphism."
   ]
  },
  {
   "cell_type": "markdown",
   "id": "65f667ee",
   "metadata": {},
   "source": [
    "### ----------------------------------------------------------------------------------"
   ]
  },
  {
   "cell_type": "code",
   "execution_count": 7,
   "id": "113ef430",
   "metadata": {},
   "outputs": [
    {
     "name": "stdout",
     "output_type": "stream",
     "text": [
      "<class '__main__.Person'>\n",
      "<__main__.Person object at 0x7f1764e27190>\n"
     ]
    }
   ],
   "source": [
    "#basic class example:\n",
    "class Person():     # It is a good practice to use first letter of class name capital \n",
    "    pass\n",
    "\n",
    "p = Person()  #create an object of name p\n",
    "print(type(p))\n",
    "print(p)"
   ]
  },
  {
   "cell_type": "markdown",
   "id": "4d38a550",
   "metadata": {},
   "source": [
    "#### About the objects: \n",
    "##### - Python is strictly Object Oriented Programming language and python treats everything as objects.\n",
    "eg- integer, float, <function>, <class> : everything in python is an object."
   ]
  },
  {
   "cell_type": "code",
   "execution_count": 13,
   "id": "12003a1f",
   "metadata": {},
   "outputs": [
    {
     "name": "stdout",
     "output_type": "stream",
     "text": [
      "True\n",
      "True\n",
      "True\n",
      "True\n",
      "True\n"
     ]
    }
   ],
   "source": [
    "a = 1  #int\n",
    "print(isinstance(a,object))   #to check if a is object or not\n",
    "a = \"Harsh\"   #string\n",
    "print(isinstance(a,object))   \n",
    "a = print  #print function\n",
    "print(isinstance(a,object))   \n",
    "a = Person  # class that we defined earlier\n",
    "print(isinstance(a,object))   \n",
    "a = Person()  # instance of class\n",
    "print(isinstance(a,object))   "
   ]
  },
  {
   "cell_type": "markdown",
   "id": "88e9c30b",
   "metadata": {},
   "source": [
    "### Methods: \n",
    "- A method is a function that “belongs to” an object. "
   ]
  },
  {
   "cell_type": "markdown",
   "id": "4f0edf79",
   "metadata": {},
   "source": [
    "### self:\n",
    "every function in classes passes a1st argument as address of class object which is called self generally."
   ]
  },
  {
   "cell_type": "code",
   "execution_count": 35,
   "id": "31aa11d5",
   "metadata": {},
   "outputs": [
    {
     "ename": "TypeError",
     "evalue": "show() takes 0 positional arguments but 1 was given",
     "output_type": "error",
     "traceback": [
      "\u001b[0;31m---------------------------------------------------------------------------\u001b[0m",
      "\u001b[0;31mTypeError\u001b[0m                                 Traceback (most recent call last)",
      "\u001b[0;32m/tmp/ipykernel_32213/416301799.py\u001b[0m in \u001b[0;36m<module>\u001b[0;34m\u001b[0m\n\u001b[1;32m      5\u001b[0m \u001b[0;34m\u001b[0m\u001b[0m\n\u001b[1;32m      6\u001b[0m \u001b[0mp1\u001b[0m \u001b[0;34m=\u001b[0m \u001b[0mPerson\u001b[0m\u001b[0;34m(\u001b[0m\u001b[0;34m)\u001b[0m\u001b[0;34m\u001b[0m\u001b[0;34m\u001b[0m\u001b[0m\n\u001b[0;32m----> 7\u001b[0;31m \u001b[0mp1\u001b[0m\u001b[0;34m.\u001b[0m\u001b[0mshow\u001b[0m\u001b[0;34m(\u001b[0m\u001b[0;34m)\u001b[0m\u001b[0;34m\u001b[0m\u001b[0;34m\u001b[0m\u001b[0m\n\u001b[0m",
      "\u001b[0;31mTypeError\u001b[0m: show() takes 0 positional arguments but 1 was given"
     ]
    }
   ],
   "source": [
    "class Person(): \n",
    "        name = \"Harsh\"\n",
    "        def show():\n",
    "            print(\"My name is \", name)\n",
    "\n",
    "p1 = Person()\n",
    "p1.show()"
   ]
  },
  {
   "cell_type": "markdown",
   "id": "f35b17ae",
   "metadata": {},
   "source": [
    "- self not passed. So it shows error."
   ]
  },
  {
   "cell_type": "code",
   "execution_count": 7,
   "id": "04be13a0",
   "metadata": {},
   "outputs": [
    {
     "name": "stdout",
     "output_type": "stream",
     "text": [
      "My name is  Harsh\n",
      "My name is  Harsh\n"
     ]
    }
   ],
   "source": [
    "class Person(): \n",
    "        name = \"Harsh\"\n",
    "        # we can write any identifier name in place of 'self'. But it is good practice to use self\n",
    "        def show(self):    \n",
    "            print(\"My name is \", self.name)\n",
    "\n",
    "p1 = Person()\n",
    "p1.show()\n",
    "\n",
    "#In python, we can call functions using abstract classes directly by passing object name as:\n",
    "Person.show(p1)"
   ]
  },
  {
   "cell_type": "markdown",
   "id": "aec08b96",
   "metadata": {},
   "source": [
    "### \\__init__ method:\n"
   ]
  },
  {
   "cell_type": "code",
   "execution_count": 6,
   "id": "2f8f9de0",
   "metadata": {},
   "outputs": [
    {
     "name": "stdout",
     "output_type": "stream",
     "text": [
      "New object created\n",
      "Hey\n"
     ]
    }
   ],
   "source": [
    "#example to show __init__\n",
    "class Person():\n",
    "    def __init__(self):\n",
    "        print(\"New object created\")\n",
    "\n",
    "p = Person()\n",
    "print(\"Hey\")\n",
    "\n",
    "#we can see, __init__ method is executed as soon as object is created. then after it gooes to next statement"
   ]
  },
  {
   "cell_type": "code",
   "execution_count": 8,
   "id": "528e040b",
   "metadata": {},
   "outputs": [
    {
     "name": "stdout",
     "output_type": "stream",
     "text": [
      "My name is  Harsh\n"
     ]
    }
   ],
   "source": [
    "#use of __init__\n",
    "# as class is an callable object and we can use paranthesis on a callable object.\n",
    "class Person():       # writing paranthesis is optional and are generally avoided\n",
    "    def __init__(self):    # it creates and initializes attributes name, branch, college for every obj.\n",
    "        self.name = \"Harsh\"\n",
    "        self.branch = \"CSE\"\n",
    "        self.college = \"NITH\"\n",
    "    def show(self):\n",
    "        print(\"My name is \", self.name)\n",
    "\n",
    "p1 = Person()\n",
    "p1.show()"
   ]
  }
 ],
 "metadata": {
  "kernelspec": {
   "display_name": "Python 3 (ipykernel)",
   "language": "python",
   "name": "python3"
  },
  "language_info": {
   "codemirror_mode": {
    "name": "ipython",
    "version": 3
   },
   "file_extension": ".py",
   "mimetype": "text/x-python",
   "name": "python",
   "nbconvert_exporter": "python",
   "pygments_lexer": "ipython3",
   "version": "3.8.10"
  }
 },
 "nbformat": 4,
 "nbformat_minor": 5
}
