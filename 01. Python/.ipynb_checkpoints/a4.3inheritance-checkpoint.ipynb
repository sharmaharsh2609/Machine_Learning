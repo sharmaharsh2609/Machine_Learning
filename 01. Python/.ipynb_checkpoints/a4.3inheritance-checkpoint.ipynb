{
 "cells": [
  {
   "cell_type": "markdown",
   "id": "36671ae5",
   "metadata": {},
   "source": [
    "## Inheritance :\n",
    "- Syntax:   class derivedclass_name(baseclass_name): ..."
   ]
  },
  {
   "cell_type": "code",
   "execution_count": 55,
   "id": "d413843f",
   "metadata": {},
   "outputs": [
    {
     "name": "stdout",
     "output_type": "stream",
     "text": [
      "Init School Member: Mr.Alpha of age: 30 \n",
      "Init Teacher : Mr.Alpha\n",
      "Init School Member: Xyz of age: 20 \n",
      "Init Student Xyz\n"
     ]
    }
   ],
   "source": [
    "# example of method overrinding in inheritance\n",
    "class SchoolMember:\n",
    "    def __init__(self,name,age):\n",
    "        self.name = name\n",
    "        self.age = age\n",
    "        print(\"Init School Member: {} of age: {} \".format(self.name,self.age))\n",
    "\n",
    "#Here __init__ method of Schoolmember is completely overriden by __init__ method of teacher.\n",
    "#Now objects of child class will not recognize actual __init__ method. They all will only \n",
    "#recognize overriden __init__ method of child class.\n",
    "class Teacher(SchoolMember):\n",
    "    def __init__(self,name,age,salary):\n",
    "        SchoolMember.__init__(self,name,age)  # name and age are passed to base __init__ method.\n",
    "        self.salary = salary  #salary is initiated inside derived class __init__ method. \n",
    "        print(\"Init Teacher : %s\"%self.name)\n",
    "\n",
    "class Student(SchoolMember):\n",
    "    #this below line is not an official way of defining comments. But in python, if we do not assign string to some variable, then it is considered as comment.\n",
    "    '''Represents a school student'''\n",
    "    def __init__(self,name,age,marks):\n",
    "        SchoolMember.__init__(self,name,age)   # name and age are passed to base __init__ method.\n",
    "        self.marks = marks\n",
    "        print(\"Init Student %s\"%(self.name))\n",
    "\n",
    "t = Teacher(\"Mr.Alpha\",30,45000)\n",
    "\n",
    "s = Student(\"Xyz\",20,90)"
   ]
  },
  {
   "cell_type": "code",
   "execution_count": 60,
   "id": "480dde79",
   "metadata": {},
   "outputs": [
    {
     "name": "stdout",
     "output_type": "stream",
     "text": [
      "Init School Member: Mr.Alpha \n",
      "Init Teacher : Mr.Alpha\n",
      "Init School Member: Xyz \n",
      "Init Student Xyz\n"
     ]
    }
   ],
   "source": [
    "# another way of calling functions from base class is:\n",
    "# example of method overrinding in inheritance\n",
    "class SchoolMember:\n",
    "    def __init__(self,name,age):\n",
    "        self.name = name\n",
    "        self.age = age\n",
    "        print(\"Init School Member: %s \"%self.name)    \n",
    "\n",
    "#Here __init__ method of Schoolmember is completely overriden by __init__ method of teacher.\n",
    "#Now objects of child class will not recognize actual __init__ method. They all will only \n",
    "#recognize overriden __init__ method of child class.\n",
    "class Teacher(SchoolMember):\n",
    "    def __init__(self,name,age,salary):\n",
    "        super().__init__(name,age)   #super() method calls method of base class.\n",
    "        self.salary = salary\n",
    "        print(\"Init Teacher : %s\"%self.name)\n",
    "\n",
    "class Student(SchoolMember):\n",
    "    '''Represents a school student'''\n",
    "    def __init__(self,name,age,marks):\n",
    "        super().__init__(name,age)\n",
    "        self.marks = marks\n",
    "        print(\"Init Student %s\"%(self.name))\n",
    "\n",
    "t = Teacher(\"Mr.Alpha\",30,45000)\n",
    "s = Student(\"Xyz\",20,90)"
   ]
  },
  {
   "cell_type": "markdown",
   "id": "a25cb880",
   "metadata": {},
   "source": [
    "## \\__mro__ : Method Resolution Operator\n",
    "- When we have heirarchical inheritance, means a class inherited from 2 classes and those classes are inherited from a single class, then it forms a diamond like structure .\n",
    "- Python uses **C3 linearization** technique to resove this thing.\n",
    "- There is a dunder named \\__mro__ which returns us the order in which it executes"
   ]
  },
  {
   "cell_type": "code",
   "execution_count": 66,
   "id": "50cf2b5a",
   "metadata": {},
   "outputs": [
    {
     "data": {
      "text/plain": [
       "(__main__.E, __main__.B, __main__.D, __main__.C, __main__.A, object)"
      ]
     },
     "execution_count": 66,
     "metadata": {},
     "output_type": "execute_result"
    }
   ],
   "source": [
    "class A:\n",
    "    x=10\n",
    "class B(A):\n",
    "    pass\n",
    "class C(A):\n",
    "    pass\n",
    "class D(C):\n",
    "    x=5\n",
    "class E(B,D):\n",
    "    pass\n",
    "\n",
    "E.__mro__"
   ]
  },
  {
   "cell_type": "markdown",
   "id": "191e7748",
   "metadata": {},
   "source": [
    "### Access specifiers:\n",
    "- Python has no privacy model, there are no access modifiers like in C++, C# or Java. There are no truly 'protected' or 'private' attributes.\n",
    "- However, python provides us a sytax which is similar to private and protected but not the same.\n",
    "1. **Public** : By default any member in a class is a public member.  \n",
    "2. **Protected** : any member name with 1 leading space is a protected member.(eg - self.\\_var)\n",
    "3. \"\"Private** : any member name with 2leading spaces is a private member(but name should not have more than 1 trailing space at end).\n"
   ]
  },
  {
   "cell_type": "markdown",
   "id": "e5ad9d22",
   "metadata": {},
   "source": [
    "| Access Specifiers | Same Class | Same Package | Derived Class | Other Class |\n",
    "| --- | --- | --- | --- | --- |\n",
    "| **Public** | Yes | Yes | Yes | Yes |\n",
    "| **Protected** | Yes | Yes | Yes | No |\n",
    "| **Private** | Yes | No | No | No |"
   ]
  },
  {
   "cell_type": "code",
   "execution_count": 71,
   "id": "982abfff",
   "metadata": {},
   "outputs": [
    {
     "name": "stdout",
     "output_type": "stream",
     "text": [
      "PythonLobby.com\n",
      "Method Here\n",
      "PythonLobby.com\n",
      "Method Here\n"
     ]
    }
   ],
   "source": [
    "#Syntax_protected_access_modifiers\n",
    "class Student:\n",
    "    def __init__(self):\n",
    "        self._name = \"PythonLobby.com\"   # protected member \n",
    "\n",
    "    def _funName(self):     # protected member\n",
    "        return \"Method Here\"\n",
    "\n",
    "class Subject(Student):\n",
    "    pass\n",
    "\n",
    "obj = Student()   #object of parent class\n",
    "obj1 = Subject()  #object of child class\n",
    "\n",
    "# calling by obj. ref. of Student class\n",
    "print(obj._name)      # PythonLobby.com\n",
    "print(obj._funName())     # Method Here\n",
    "\n",
    "# calling by obj. ref. of Subject class\n",
    "print(obj1._name)     # PythonLobby.com\n",
    "print(obj1._funName())    # Method Here\n",
    "\n",
    "#from above we can see , child class is also able to access protected member of parent class"
   ]
  },
  {
   "cell_type": "code",
   "execution_count": 76,
   "id": "cc53d032",
   "metadata": {},
   "outputs": [
    {
     "ename": "AttributeError",
     "evalue": "'Student' object has no attribute '__age'",
     "output_type": "error",
     "traceback": [
      "\u001b[0;31m---------------------------------------------------------------------------\u001b[0m",
      "\u001b[0;31mAttributeError\u001b[0m                            Traceback (most recent call last)",
      "\u001b[0;32m/tmp/ipykernel_5471/2890926766.py\u001b[0m in \u001b[0;36m<module>\u001b[0;34m\u001b[0m\n\u001b[1;32m     11\u001b[0m \u001b[0;34m\u001b[0m\u001b[0m\n\u001b[1;32m     12\u001b[0m \u001b[0;31m# calling by object reference of class Student\u001b[0m\u001b[0;34m\u001b[0m\u001b[0;34m\u001b[0m\u001b[0;34m\u001b[0m\u001b[0m\n\u001b[0;32m---> 13\u001b[0;31m \u001b[0mprint\u001b[0m\u001b[0;34m(\u001b[0m\u001b[0mobj\u001b[0m\u001b[0;34m.\u001b[0m\u001b[0m__age\u001b[0m\u001b[0;34m)\u001b[0m   \u001b[0;31m# it shows error as private members are not accessible from outside of class\u001b[0m\u001b[0;34m\u001b[0m\u001b[0;34m\u001b[0m\u001b[0m\n\u001b[0m\u001b[1;32m     14\u001b[0m \u001b[0mprint\u001b[0m\u001b[0;34m(\u001b[0m\u001b[0mobj\u001b[0m\u001b[0;34m.\u001b[0m\u001b[0m__funName\u001b[0m\u001b[0;34m(\u001b[0m\u001b[0;34m)\u001b[0m\u001b[0;34m)\u001b[0m\u001b[0;34m\u001b[0m\u001b[0;34m\u001b[0m\u001b[0m\n",
      "\u001b[0;31mAttributeError\u001b[0m: 'Student' object has no attribute '__age'"
     ]
    }
   ],
   "source": [
    "# Private_access_modifiers \n",
    "class Student: \n",
    "    def __init__(self, age, name): \n",
    "        self.__age = age\n",
    "        \n",
    "        def __funName(self):\n",
    "            self.y = 34\n",
    "            print(self.y)\n",
    "\n",
    "obj = Student(21,\"pythonlobby\")\n",
    "\n",
    "# calling by object reference of class Student\n",
    "print(obj.__age)   # it shows error as private members are not accessible from outside of class\n",
    "print(obj.__funName())"
   ]
  },
  {
   "cell_type": "code",
   "execution_count": 83,
   "id": "46424694",
   "metadata": {},
   "outputs": [
    {
     "name": "stdout",
     "output_type": "stream",
     "text": [
      "21\n"
     ]
    },
    {
     "ename": "AttributeError",
     "evalue": "'Student' object has no attribute '_Student__funName'",
     "output_type": "error",
     "traceback": [
      "\u001b[0;31m---------------------------------------------------------------------------\u001b[0m",
      "\u001b[0;31mAttributeError\u001b[0m                            Traceback (most recent call last)",
      "\u001b[0;32m/tmp/ipykernel_5471/3502160702.py\u001b[0m in \u001b[0;36m<module>\u001b[0;34m\u001b[0m\n\u001b[1;32m     12\u001b[0m \u001b[0;31m# calling by object reference of class Student\u001b[0m\u001b[0;34m\u001b[0m\u001b[0;34m\u001b[0m\u001b[0;34m\u001b[0m\u001b[0m\n\u001b[1;32m     13\u001b[0m \u001b[0mprint\u001b[0m\u001b[0;34m(\u001b[0m\u001b[0mobj\u001b[0m\u001b[0;34m.\u001b[0m\u001b[0m_Student__age\u001b[0m\u001b[0;34m)\u001b[0m   \u001b[0;31m#using name mangling resolved error in ver_names\u001b[0m\u001b[0;34m\u001b[0m\u001b[0;34m\u001b[0m\u001b[0m\n\u001b[0;32m---> 14\u001b[0;31m \u001b[0mprint\u001b[0m\u001b[0;34m(\u001b[0m\u001b[0mobj\u001b[0m\u001b[0;34m.\u001b[0m\u001b[0m_Student__funName\u001b[0m\u001b[0;34m(\u001b[0m\u001b[0;34m)\u001b[0m\u001b[0;34m)\u001b[0m  \u001b[0;31m# but it still gives us error\u001b[0m\u001b[0;34m\u001b[0m\u001b[0;34m\u001b[0m\u001b[0m\n\u001b[0m",
      "\u001b[0;31mAttributeError\u001b[0m: 'Student' object has no attribute '_Student__funName'"
     ]
    }
   ],
   "source": [
    "# Private_access_modifiers \n",
    "class Student: \n",
    "    def __init__(self, age, name): \n",
    "        self.__age = age\n",
    "        \n",
    "        def __funName(self):\n",
    "            self.y = 34\n",
    "            print(self.y)\n",
    "\n",
    "obj = Student(21,\"pythonlobby\")\n",
    "\n",
    "# calling by object reference of class Student\n",
    "print(obj._Student__age)   #using name mangling resolved error in ver_names\n",
    "\n",
    "print(obj._Student__funName())  # but it still gives us error"
   ]
  }
 ],
 "metadata": {
  "kernelspec": {
   "display_name": "Python 3 (ipykernel)",
   "language": "python",
   "name": "python3"
  },
  "language_info": {
   "codemirror_mode": {
    "name": "ipython",
    "version": 3
   },
   "file_extension": ".py",
   "mimetype": "text/x-python",
   "name": "python",
   "nbconvert_exporter": "python",
   "pygments_lexer": "ipython3",
   "version": "3.8.10"
  }
 },
 "nbformat": 4,
 "nbformat_minor": 5
}
