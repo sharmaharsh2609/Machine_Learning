{
 "cells": [
  {
   "cell_type": "markdown",
   "metadata": {},
   "source": [
    "## File Handling\n"
   ]
  },
  {
   "cell_type": "markdown",
   "metadata": {},
   "source": [
    "### File Access Modes:\n",
    "#### 1. Read Only Mode('r'):\n",
    "- Opens text file for reading. The cursur is placed at begining initially. If file does not exist, raises I/O error. This is also default mode in which file is opened.\n",
    "#### 2. Write Only Mode('w'):\n",
    "- Opens file for writing. Cursor is at begining initially(means it starts writing from begining). New data is all overritten in file and all previous data is deleted. **If file does not exist, it creates a new file.** \n",
    "#### 3. Append Only Mode('a'):\n",
    "- Opens file for writing. Cursor is positioned at end of file initially. Thus it appends data at the end of file and no previous data is lost. **If file does not exist, it creates a new file.**\n",
    "#### 4. read and write('r+'):\n",
    "- Opens file for reading and writing. **It raises I/O error if file do not exists. It do not delete the previous content unlike in w+**. Cusrur is at begining initially.\n",
    "#### 5. write and read('w+'):\n",
    "- Opens file for reading and writing. **It creates new file if file does not exist. It deletes all the previous content and starts writing from begining.** cursor is at begining initially.\n",
    "#### 6. Append and read('a+'):\n",
    "- opens file for reading and writing. It creates new file if does not exist. It appends data at end of file and do not delete previous data. cursur is at end of file initially."
   ]
  },
  {
   "cell_type": "markdown",
   "metadata": {},
   "source": [
    "| Mode | Read | Write | Create new file | Truncate(delete all previous data) |\n",
    "| --- | --- | --- | --- | --- |\n",
    "| **r** | Yes | No | No | No |\n",
    "| **w** | No | Yes | Yes | Yes |\n",
    "| **a** | No | Yes | Yes | No |\n",
    "| **r+** | Yes | Yes | No | No |\n",
    "| **w+** | Yes | Yes | Yes | Yes |\n",
    "| **a+** | Yes | Yes | Yes | No |"
   ]
  },
  {
   "cell_type": "markdown",
   "metadata": {},
   "source": [
    "- In python we generally have 2 types of files:   \n",
    "        1.Text files  \n",
    "        2.Binary files\n",
    "### 1. Text files:"
   ]
  },
  {
   "cell_type": "markdown",
   "metadata": {},
   "source": [
    "### Openinng a file:\n",
    "f = open(absolute_path_of_file)  # here we need absolute path of file. But if file is in same directory. then we can write name of file directly."
   ]
  },
  {
   "cell_type": "code",
   "execution_count": 5,
   "metadata": {},
   "outputs": [
    {
     "data": {
      "text/plain": [
       "'hello this is a sample file.'"
      ]
     },
     "execution_count": 5,
     "metadata": {},
     "output_type": "execute_result"
    }
   ],
   "source": [
    "f = open(\"a5.2sample_file.txt\",'r') # opening a file in read mode.\n",
    "f.read()   # to read data from a file. it is explained later"
   ]
  },
  {
   "cell_type": "markdown",
   "metadata": {},
   "source": [
    "### Closing a file"
   ]
  },
  {
   "cell_type": "code",
   "execution_count": 4,
   "metadata": {},
   "outputs": [],
   "source": [
    "f.close()"
   ]
  },
  {
   "cell_type": "markdown",
   "metadata": {},
   "source": [
    "### Writing to a file: \n",
    "- write()\n",
    "- writeline()"
   ]
  },
  {
   "cell_type": "code",
   "execution_count": 11,
   "metadata": {},
   "outputs": [
    {
     "data": {
      "text/plain": [
       "16"
      ]
     },
     "execution_count": 11,
     "metadata": {},
     "output_type": "execute_result"
    }
   ],
   "source": [
    "f = open(\"a5.3new.txt\", 'w') #file do not exist but it creates as we are using write mode.\n",
    "f.write(\"New file created\")"
   ]
  },
  {
   "cell_type": "code",
   "execution_count": 12,
   "metadata": {},
   "outputs": [],
   "source": [
    "f.close()\n",
    "#note: It will not show result until file is not closed. This is a very common error."
   ]
  },
  {
   "cell_type": "code",
   "execution_count": 14,
   "metadata": {},
   "outputs": [],
   "source": [
    "f = open(\"a5.3new.txt\",'w')\n",
    "\n",
    "content = \"hello World\\n\"\n",
    "l = [content]*3\n",
    "\n",
    "f.writelines(l)\n",
    "f.close()"
   ]
  },
  {
   "cell_type": "markdown",
   "metadata": {},
   "source": [
    "### Reading From a File\n",
    "- read()\n",
    "- readline()\n",
    "- readlines()  \n",
    "1. read() method returns all the data from the file.\n",
    "    - read(n) : returns first n number of bytes of file that is opened"
   ]
  },
  {
   "cell_type": "code",
   "execution_count": 20,
   "metadata": {},
   "outputs": [
    {
     "name": "stdout",
     "output_type": "stream",
     "text": [
      "hello this is a sample file.\n"
     ]
    }
   ],
   "source": [
    "#read() method\n",
    "f = open(\"a5.2sample_file.txt\", \"r\")\n",
    "print(f.read())\n",
    "f.close()"
   ]
  },
  {
   "cell_type": "code",
   "execution_count": 21,
   "metadata": {},
   "outputs": [
    {
     "name": "stdout",
     "output_type": "stream",
     "text": [
      "hello\n"
     ]
    }
   ],
   "source": [
    "#read(n) method\n",
    "f = open(\"a5.2sample_file.txt\", \"r\")\n",
    "print(f.read(5))\n",
    "f.close()"
   ]
  },
  {
   "cell_type": "code",
   "execution_count": 37,
   "metadata": {},
   "outputs": [
    {
     "name": "stdout",
     "output_type": "stream",
     "text": [
      "hello World\n",
      "\n"
     ]
    }
   ],
   "source": [
    "#readline() - reads one whole line\n",
    "f = open(\"a5.3new.txt\",\"r\")\n",
    "print(f.readline())\n",
    "f.close()"
   ]
  },
  {
   "cell_type": "code",
   "execution_count": 41,
   "metadata": {},
   "outputs": [
    {
     "name": "stdout",
     "output_type": "stream",
     "text": [
      "['hello World\\n', 'hello World\\n', 'hello World\\n']\n",
      "<class 'list'>\n"
     ]
    }
   ],
   "source": [
    "# 3. readlines() mthod returns all the lines **as a list of lines.**\n",
    "f = open(\"a5.3new.txt\",\"r\")\n",
    "l= f.readlines()\n",
    "print(l)\n",
    "print(type(l))\n",
    "f.close()"
   ]
  },
  {
   "cell_type": "code",
   "execution_count": 39,
   "metadata": {},
   "outputs": [
    {
     "name": "stdout",
     "output_type": "stream",
     "text": [
      "hello\n"
     ]
    }
   ],
   "source": [
    "f = open(\"a5.2sample_file.txt\", \"r\")\n",
    "print(f.read(5)) #print first 5bytes"
   ]
  },
  {
   "cell_type": "code",
   "execution_count": 40,
   "metadata": {},
   "outputs": [
    {
     "name": "stdout",
     "output_type": "stream",
     "text": [
      " this is a sample file.\n"
     ]
    }
   ],
   "source": [
    "#file is not closed yet\n",
    "print(f.read())\n",
    "f.close()"
   ]
  },
  {
   "cell_type": "code",
   "execution_count": 45,
   "metadata": {},
   "outputs": [
    {
     "name": "stdout",
     "output_type": "stream",
     "text": [
      "hello\n",
      "llo this is a sample file.\n"
     ]
    }
   ],
   "source": [
    "f = open(\"a5.2sample_file.txt\", \"r\")\n",
    "print(f.read(5)) #print first 5bytes\n",
    "f.seek(2)  # moves pointer to byte 2\n",
    "print(f.read())\n",
    "f.close()"
   ]
  },
  {
   "cell_type": "markdown",
   "metadata": {},
   "source": [
    "### Smarter way to open file:\n",
    "- we need to close a file everytime when we open it.\n",
    "- using \"with\" statement, we get a better syntax for file opening and and error handling.\n",
    "        with open(\"filename.txt\", \"r\") as file:\n",
    "            ..\n",
    "            ..\n"
   ]
  },
  {
   "cell_type": "code",
   "execution_count": 50,
   "metadata": {},
   "outputs": [
    {
     "name": "stdout",
     "output_type": "stream",
     "text": [
      "False\n",
      "hello this is a sample file.\n",
      "False\n"
     ]
    }
   ],
   "source": [
    "with open(\"a5.2sample_file.txt\",\"r\") as f:\n",
    "    print(f.closed)  # closed stores \"False\" if file is not closed else it has value \"True\"\n",
    "    print(f.read())\n",
    "    # Automatically closes the file, this ensures that a cleanup is there.\n",
    "    print(f.closed) #note: closed is a variable not a function"
   ]
  },
  {
   "cell_type": "code",
   "execution_count": 55,
   "metadata": {},
   "outputs": [
    {
     "name": "stdout",
     "output_type": "stream",
     "text": [
      " this is a sample file.\n"
     ]
    },
    {
     "ename": "ValueError",
     "evalue": "I/O operation on closed file.",
     "output_type": "error",
     "traceback": [
      "\u001b[0;31m---------------------------------------------------------------------------\u001b[0m",
      "\u001b[0;31mValueError\u001b[0m                                Traceback (most recent call last)",
      "\u001b[0;32m/tmp/ipykernel_17477/3646513180.py\u001b[0m in \u001b[0;36m<module>\u001b[0;34m\u001b[0m\n\u001b[1;32m      2\u001b[0m     \u001b[0mf\u001b[0m\u001b[0;34m.\u001b[0m\u001b[0mseek\u001b[0m\u001b[0;34m(\u001b[0m\u001b[0;36m5\u001b[0m\u001b[0;34m)\u001b[0m\u001b[0;34m\u001b[0m\u001b[0;34m\u001b[0m\u001b[0m\n\u001b[1;32m      3\u001b[0m     \u001b[0mprint\u001b[0m\u001b[0;34m(\u001b[0m\u001b[0mf\u001b[0m\u001b[0;34m.\u001b[0m\u001b[0mread\u001b[0m\u001b[0;34m(\u001b[0m\u001b[0;34m)\u001b[0m\u001b[0;34m)\u001b[0m\u001b[0;34m\u001b[0m\u001b[0;34m\u001b[0m\u001b[0m\n\u001b[0;32m----> 4\u001b[0;31m \u001b[0mprint\u001b[0m\u001b[0;34m(\u001b[0m\u001b[0mf\u001b[0m\u001b[0;34m.\u001b[0m\u001b[0mread\u001b[0m\u001b[0;34m(\u001b[0m\u001b[0;34m)\u001b[0m\u001b[0;34m)\u001b[0m\u001b[0;34m\u001b[0m\u001b[0;34m\u001b[0m\u001b[0m\n\u001b[0m",
      "\u001b[0;31mValueError\u001b[0m: I/O operation on closed file."
     ]
    }
   ],
   "source": [
    "with open(\"a5.2sample_file.txt\",\"r\") as f:\n",
    "    f.seek(5)\n",
    "    print(f.read())\n",
    "print(f.read())   "
   ]
  },
  {
   "cell_type": "markdown",
   "metadata": {},
   "source": [
    "### Exception Handling in Python\n",
    "#### Try Except"
   ]
  },
  {
   "cell_type": "code",
   "execution_count": 82,
   "metadata": {},
   "outputs": [
    {
     "name": "stdout",
     "output_type": "stream",
     "text": [
      "Enter your namea\n",
      "Please enter a valid name\n",
      "\n",
      "It is always there\n"
     ]
    }
   ],
   "source": [
    "\n",
    "try:\n",
    "    a  = input(\"Enter your name\")\n",
    "    if(len(a)<3):\n",
    "        raise Exception\n",
    "    \n",
    "except FileNotFoundError as e:\n",
    "    print(\"File doesnt exist. Please reupload\")\n",
    "    print(e)\n",
    "    \n",
    "except NameError as e:\n",
    "    print(\"b is not defined\")\n",
    "    print(e)\n",
    "    \n",
    "except Exception as e:\n",
    "    print(\"Please enter a valid name\")\n",
    "    print(e)\n",
    "    \n",
    "else:\n",
    "    print(\"Try executed without any error\")\n",
    "    print(\"Form Submitted Successfully\")\n",
    "    \n",
    "finally:\n",
    "    print(\"It is always there\")\n",
    "\n",
    "\n"
   ]
  }
 ],
 "metadata": {
  "kernelspec": {
   "display_name": "Python 3 (ipykernel)",
   "language": "python",
   "name": "python3"
  },
  "language_info": {
   "codemirror_mode": {
    "name": "ipython",
    "version": 3
   },
   "file_extension": ".py",
   "mimetype": "text/x-python",
   "name": "python",
   "nbconvert_exporter": "python",
   "pygments_lexer": "ipython3",
   "version": "3.8.10"
  }
 },
 "nbformat": 4,
 "nbformat_minor": 2
}
