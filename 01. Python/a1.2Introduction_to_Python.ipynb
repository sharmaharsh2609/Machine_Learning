{
 "cells": [
  {
   "cell_type": "markdown",
   "metadata": {},
   "source": [
    "### Python Basics\n",
    "    - Hello World\n",
    "    - Comments\n",
    "    - Data types\n",
    "    - Variables "
   ]
  },
  {
   "cell_type": "code",
   "execution_count": 6,
   "metadata": {},
   "outputs": [
    {
     "name": "stdout",
     "output_type": "stream",
     "text": [
      "Hello World\n"
     ]
    }
   ],
   "source": [
    "print(\"Hello World\")   #this is a comment"
   ]
  },
  {
   "cell_type": "code",
   "execution_count": 7,
   "metadata": {},
   "outputs": [
    {
     "name": "stdout",
     "output_type": "stream",
     "text": [
      "10\n",
      "10.5\n"
     ]
    }
   ],
   "source": [
    "a = 10\n",
    "b = 10.5\n",
    "\n",
    "print(a)\n",
    "print(b)\n",
    "#this\n",
    "#is\n",
    "#a\n",
    "#multiline\n",
    "#comment"
   ]
  },
  {
   "cell_type": "markdown",
   "metadata": {},
   "source": [
    "##### Python don't have a multiline comment syntax. "
   ]
  },
  {
   "cell_type": "code",
   "execution_count": 3,
   "metadata": {},
   "outputs": [
    {
     "name": "stdout",
     "output_type": "stream",
     "text": [
      "<class 'int'>\n",
      "<class 'float'>\n"
     ]
    }
   ],
   "source": [
    "print(type(a))\n",
    "print(type(b))"
   ]
  },
  {
   "cell_type": "code",
   "execution_count": 4,
   "metadata": {},
   "outputs": [
    {
     "name": "stdout",
     "output_type": "stream",
     "text": [
      "(5+3j)\n",
      "<class 'complex'>\n"
     ]
    }
   ],
   "source": [
    "c = 5 + 3j\n",
    "print(c)\n",
    "print(type(c))"
   ]
  },
  {
   "cell_type": "markdown",
   "metadata": {},
   "source": [
    "### strings:  \n",
    "1. Single line: 2ways: str1=\"harsh\"  and str2='harsh'\n",
    "#####    In python, there is no data type as char.   \n",
    "    x='a'     This is not a character as python don't have asuch data type. This is also considered as string in python\n",
    "2. Multiline: 2ways:     \n",
    "str1='''  \n",
    "this  \n",
    "is  \n",
    "multiline  \n",
    "string  \n",
    "'''  \n",
    "#method2:  \n",
    "str2=\"\"\"  \n",
    "this  \n",
    "is   \n",
    "multiline  \n",
    "string  \n",
    "\"\"\""
   ]
  },
  {
   "cell_type": "code",
   "execution_count": 5,
   "metadata": {},
   "outputs": [
    {
     "name": "stdout",
     "output_type": "stream",
     "text": [
      "<class 'str'>\n"
     ]
    }
   ],
   "source": [
    "d = \"hello_python\"\n",
    "print(type(d))"
   ]
  },
  {
   "cell_type": "markdown",
   "metadata": {},
   "source": [
    "## Working with Input"
   ]
  },
  {
   "cell_type": "code",
   "execution_count": 8,
   "metadata": {},
   "outputs": [
    {
     "name": "stdout",
     "output_type": "stream",
     "text": [
      "Enter the name of your organisation: NITH\n",
      "Hello NITH\n"
     ]
    }
   ],
   "source": [
    "name = input(\"Enter the name of your organisation: \")\n",
    "print(\"Hello\",end=' ')\n",
    "#by default end='\\n'   ,if we do not pass end parameter.\n",
    "print(name)"
   ]
  },
  {
   "cell_type": "markdown",
   "metadata": {},
   "source": [
    "## Reading Numbers | Typecasting"
   ]
  },
  {
   "cell_type": "code",
   "execution_count": 10,
   "metadata": {},
   "outputs": [
    {
     "name": "stdout",
     "output_type": "stream",
     "text": [
      "Enter a Number4\n",
      "4.0\n",
      "16.0\n",
      "<class 'float'>\n",
      "The square of the number is 16.0\n"
     ]
    }
   ],
   "source": [
    "a = float(input(\"Enter a Number\"))\n",
    "print(a)\n",
    "print(a*a)\n",
    "\n",
    "print(type(a))\n",
    "print(\"The square of the number is \" + str(a*a)) #we typecasted value of a*a to string"
   ]
  },
  {
   "cell_type": "markdown",
   "metadata": {},
   "source": [
    "## More about the Print Function\n",
    "\n",
    "- format \n",
    "- end and sep"
   ]
  },
  {
   "cell_type": "code",
   "execution_count": 11,
   "metadata": {},
   "outputs": [
    {
     "name": "stdout",
     "output_type": "stream",
     "text": [
      "Hello+World+I+Love+Python\n"
     ]
    }
   ],
   "source": [
    "print(\"Hello\",\"World\",\"I\",\"Love\",\"Python\",sep=\"+\")"
   ]
  },
  {
   "cell_type": "code",
   "execution_count": 12,
   "metadata": {},
   "outputs": [
    {
     "name": "stdout",
     "output_type": "stream",
     "text": [
      "10,20\n"
     ]
    }
   ],
   "source": [
    "a = 10\n",
    "b = 20\n",
    "print(a,end=',')\n",
    "print(b)"
   ]
  },
  {
   "cell_type": "code",
   "execution_count": 13,
   "metadata": {},
   "outputs": [],
   "source": [
    "a = \"Indians\"\n",
    "b = \"Mangoes\"\n",
    "\n",
    "c = \"Russians\"\n",
    "d = \"Pizza\""
   ]
  },
  {
   "cell_type": "code",
   "execution_count": 14,
   "metadata": {},
   "outputs": [
    {
     "name": "stdout",
     "output_type": "stream",
     "text": [
      "Russians love Pizza\n"
     ]
    }
   ],
   "source": [
    "print(\"{0} love {1}\".format(c,d))"
   ]
  },
  {
   "cell_type": "code",
   "execution_count": 15,
   "metadata": {},
   "outputs": [
    {
     "name": "stdout",
     "output_type": "stream",
     "text": [
      "You entered 10 and 20 and 20\n"
     ]
    }
   ],
   "source": [
    "a = 10\n",
    "b = 20\n",
    "\n",
    "print(\"You entered %d and %d and %d\"%(a,b,b))"
   ]
  },
  {
   "cell_type": "markdown",
   "metadata": {},
   "source": [
    "### Variables,Datatypes and Operators\n",
    "\n",
    "A type of identifier.\n",
    "\n",
    "Rules for naming identifiers:\n",
    "\n",
    "    The first character of the identifier must be a letter of the alphabet (uppercase ASCII or lowercase ASCII or Unicode character) or an underscore (_).\n",
    "\n",
    "    The rest of the identifier name can consist of letters (uppercase ASCII or lowercase ASCII or Unicode character), underscores (_) or digits (0-9).\n",
    "\n",
    "    Identifier names are case-sensitive. For example, myname and myName are not the same. Note the lowercase n in the former and the uppercase N in the latter.\n",
    "\n",
    "Examples of valid identifier names are i, name_2_3.\n",
    "\n",
    "Examples of invalid identifier names are 2things, this is spaced out, my-name and >a1b2_c3."
   ]
  },
  {
   "cell_type": "markdown",
   "metadata": {},
   "source": [
    "### Airthmetic Operators (+,-,*,**,/,//,%) \n",
    "\n"
   ]
  },
  {
   "cell_type": "code",
   "execution_count": 16,
   "metadata": {},
   "outputs": [
    {
     "name": "stdout",
     "output_type": "stream",
     "text": [
      "31\n",
      "-11\n",
      "210\n",
      "0.4762\n",
      "0\n",
      "1000000000000000000000\n",
      "1\n"
     ]
    }
   ],
   "source": [
    "a = 10\n",
    "b = 21\n",
    "\n",
    "print(a+b)\n",
    "print(a-b)\n",
    "print(a*b)\n",
    "print(\"%0.4f\"%(a/b))\n",
    "print(a//b)\n",
    "#Exponent/Power Function\n",
    "print(a**b)\n",
    "print(b%a)\n",
    "\n",
    "\n"
   ]
  },
  {
   "cell_type": "markdown",
   "metadata": {},
   "source": [
    "### Multiple Variable Assignment"
   ]
  },
  {
   "cell_type": "code",
   "execution_count": 1,
   "metadata": {},
   "outputs": [],
   "source": [
    "a,b,c = 10,20,30.34"
   ]
  },
  {
   "cell_type": "code",
   "execution_count": 18,
   "metadata": {},
   "outputs": [
    {
     "name": "stdout",
     "output_type": "stream",
     "text": [
      "10 20 30.34\n"
     ]
    }
   ],
   "source": [
    "# This functions print the variables\n",
    "print(a,b,c)"
   ]
  },
  {
   "cell_type": "markdown",
   "metadata": {},
   "source": [
    "##### Python does not require you to declare a variable. You do not need to tell Python ahead of time that you intend to reserve space for a variable. All you do is assign a variable a value. But this does not mean you can use a variable without having Python allocate it first. For example, the following line will fail in my session:"
   ]
  },
  {
   "cell_type": "code",
   "execution_count": 2,
   "metadata": {},
   "outputs": [
    {
     "ename": "NameError",
     "evalue": "name 'x' is not defined",
     "output_type": "error",
     "traceback": [
      "\u001b[0;31m---------------------------------------------------------------------------\u001b[0m",
      "\u001b[0;31mNameError\u001b[0m                                 Traceback (most recent call last)",
      "\u001b[0;32m/tmp/ipykernel_5769/1353120783.py\u001b[0m in \u001b[0;36m<module>\u001b[0;34m\u001b[0m\n\u001b[0;32m----> 1\u001b[0;31m \u001b[0mprint\u001b[0m\u001b[0;34m(\u001b[0m\u001b[0mx\u001b[0m\u001b[0;34m)\u001b[0m\u001b[0;34m\u001b[0m\u001b[0;34m\u001b[0m\u001b[0m\n\u001b[0m",
      "\u001b[0;31mNameError\u001b[0m: name 'x' is not defined"
     ]
    }
   ],
   "source": [
    "print(x)"
   ]
  },
  {
   "cell_type": "markdown",
   "metadata": {},
   "source": [
    "- above line failed because we don;t know the value of x. \n",
    "##### So although we don't need any declaration of variable. But still we need to assign some value to a variable before using them. "
   ]
  },
  {
   "cell_type": "markdown",
   "metadata": {},
   "source": [
    "### Whitespaces and Indendation\n",
    "\n",
    "\n",
    "- Whitespace is important in Python.\n",
    "\n",
    "- Actually, whitespace at the beginning of the line is important. This is called indentation.\n",
    "\n",
    "- Leading whitespace (spaces and tabs) at the beginning of the logical line is used to determine the indentation level of the logical line, which in turn is used to determine the grouping of statements.\n",
    "\n",
    "- This means that statements which go together must have the same indentation. Each such set of statements is called a block\n",
    "\n",
    "### Don't mix tabs and Spaces\n",
    "### Comments are Important for readability of your code"
   ]
  },
  {
   "cell_type": "code",
   "execution_count": 19,
   "metadata": {},
   "outputs": [
    {
     "name": "stdout",
     "output_type": "stream",
     "text": [
      "This is \n",
      "a multiline string \n"
     ]
    }
   ],
   "source": [
    "\n",
    "# This is a single comment !\n",
    "\n",
    "\"\"\"This is a \n",
    "multiline \n",
    "comment \"\"\"\n",
    "\n",
    "myString = \"\"\"This is \n",
    "a multiline string \"\"\"\n",
    "\n",
    "print(myString)\n",
    "\n"
   ]
  },
  {
   "cell_type": "markdown",
   "metadata": {},
   "source": [
    "##### Although there is no defined syntax in python for multiline comments. But '''  .......  '''  works as multiline comment sometimes: when we use it without assigning or comparing it's value."
   ]
  },
  {
   "cell_type": "markdown",
   "metadata": {},
   "source": [
    "### Operators - Arithmetic, Comparsion, Compound Assignment, Logical Operators\n",
    "\n"
   ]
  },
  {
   "cell_type": "code",
   "execution_count": 35,
   "metadata": {},
   "outputs": [
    {
     "name": "stdout",
     "output_type": "stream",
     "text": [
      "True\n"
     ]
    }
   ],
   "source": [
    "raining = True\n",
    "temperature = 30\n",
    "\n",
    "\n",
    "outing = raining and temperature <= 30\n",
    "print(outing)\n",
    "\n"
   ]
  }
 ],
 "metadata": {
  "kernelspec": {
   "display_name": "Python 3 (ipykernel)",
   "language": "python",
   "name": "python3"
  },
  "language_info": {
   "codemirror_mode": {
    "name": "ipython",
    "version": 3
   },
   "file_extension": ".py",
   "mimetype": "text/x-python",
   "name": "python",
   "nbconvert_exporter": "python",
   "pygments_lexer": "ipython3",
   "version": "3.8.10"
  }
 },
 "nbformat": 4,
 "nbformat_minor": 2
}
