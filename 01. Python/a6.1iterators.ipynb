{
 "cells": [
  {
   "cell_type": "markdown",
   "id": "c69ce2ad",
   "metadata": {},
   "source": [
    "### Iterators:\n",
    "- we know iterable object is an object in python ehich can be iterated upon.\n",
    "- **Iterators returns us a single object one by one from the iterable**.\n",
    "- As python is all made up of objects. Iterables like 'list', 'dictionary', 'range' etc.. also consists of objects.(as int, string, ... everything id object in python.)"
   ]
  },
  {
   "cell_type": "code",
   "execution_count": 3,
   "id": "a7eaa37b",
   "metadata": {},
   "outputs": [
    {
     "name": "stdout",
     "output_type": "stream",
     "text": [
      "1\n",
      "[1, 2]\n",
      "3\n",
      "4\n"
     ]
    }
   ],
   "source": [
    "# eg: list\n",
    "a = [ 1, [1,2], 3, 4 ] \n",
    "for i in a:\n",
    "    print(i)"
   ]
  },
  {
   "cell_type": "markdown",
   "id": "519ca55b",
   "metadata": {},
   "source": [
    "- This list contains 4 objects: 3int objects and 1list object.\n",
    "- Iterator iterates upon this list and returns these objects one by one in every iteration.\n",
    "- Iterator returns whole objects even if they are themself iterables. eg- list inside list is iterable, but iterator returns the whole list as object and not the elements of that list."
   ]
  },
  {
   "cell_type": "markdown",
   "id": "db05a956",
   "metadata": {},
   "source": [
    "- In dictionary, iterator returns 'keys' in every iteration:"
   ]
  },
  {
   "cell_type": "code",
   "execution_count": 4,
   "id": "d81d0e93",
   "metadata": {},
   "outputs": [
    {
     "name": "stdout",
     "output_type": "stream",
     "text": [
      "name\n",
      "Branch\n",
      "Age\n",
      "CGPI\n"
     ]
    }
   ],
   "source": [
    "d = {\"name\" : \"Harsh\", \"Branch\" : \"CSE\", \"Age\" : 19, \"CGPI\" : 8.9}\n",
    "for i in d:\n",
    "    print(i)"
   ]
  },
  {
   "cell_type": "markdown",
   "id": "448d134e",
   "metadata": {},
   "source": [
    "- In strings, iterator returns 'characters' of string in every iteration:"
   ]
  },
  {
   "cell_type": "code",
   "execution_count": 5,
   "id": "f9e29463",
   "metadata": {},
   "outputs": [
    {
     "name": "stdout",
     "output_type": "stream",
     "text": [
      "H\n",
      "a\n",
      "r\n",
      "s\n",
      "h\n"
     ]
    }
   ],
   "source": [
    "str = \"Harsh\"\n",
    "for i in str:\n",
    "    print(i)"
   ]
  },
  {
   "cell_type": "markdown",
   "id": "19d978a2",
   "metadata": {},
   "source": [
    "- It depends upon the iterator that which object is to return from the iterable.  \n",
    "eg- In dictionary: 'keys' are returned, In strings: 'characters' are returned, In list: 'object at ith index' are returned.\n",
    "- For different iterable classes, there are different iterators which have different code on what objects to return in each iteration.\n",
    "- We will create our own iterables and iterators in next file, they also have different iterator definition for what to return in every iteration."
   ]
  },
  {
   "cell_type": "markdown",
   "id": "f882633d",
   "metadata": {},
   "source": [
    "- Similarly, if we **iterate over a file**, **'lines' are returned** in every iteration."
   ]
  },
  {
   "cell_type": "code",
   "execution_count": 12,
   "id": "0340e22e",
   "metadata": {},
   "outputs": [
    {
     "name": "stdout",
     "output_type": "stream",
     "text": [
      "This is first line\n",
      "This is 2nd line\n",
      "This is 3rd line"
     ]
    }
   ],
   "source": [
    "for i in open(\"a6.3file.txt\"):\n",
    "    print(i, end='')\n",
    "# Here \\n is also printed with the lines."
   ]
  },
  {
   "cell_type": "markdown",
   "id": "3ff9081c",
   "metadata": {},
   "source": [
    "- **open()** iterable object returns line by line in every iteration"
   ]
  },
  {
   "cell_type": "markdown",
   "id": "a8f0daa3",
   "metadata": {},
   "source": [
    "### Use of Iterators and Iterables:\n",
    "- Major use of iterables and iterators is in for loop.\n",
    "- Except this, there are many more uses of iterators and iterables in python."
   ]
  },
  {
   "cell_type": "markdown",
   "id": "8800385a",
   "metadata": {},
   "source": [
    "#### Some of other use cases of iterators and iterables are:\n",
    "1. \"str\".join(iterable)\n",
    "2. list(iterable)\n",
    "3. sum(iterable)"
   ]
  },
  {
   "cell_type": "markdown",
   "id": "2f1089b5",
   "metadata": {},
   "source": [
    "##### 1. \"str\".join(iterable):\n",
    "- It iterates over iterable **with string objects**, returns those string object one by one each iteration and joins them with placing \"str\" in between them."
   ]
  },
  {
   "cell_type": "code",
   "execution_count": 15,
   "id": "9702e294",
   "metadata": {},
   "outputs": [
    {
     "data": {
      "text/plain": [
       "'a123b123c'"
      ]
     },
     "execution_count": 15,
     "metadata": {},
     "output_type": "execute_result"
    }
   ],
   "source": [
    "\"123\".join([\"a\", \"b\", \"c\"]) #this is a list containing string objects."
   ]
  },
  {
   "cell_type": "markdown",
   "id": "124fa6c0",
   "metadata": {},
   "source": [
    "- Here \"str\" is \"123\", so 123 acts as a delimeter in between the iterable strings to join them\n",
    "- If we use a dictionary inside join, then 'keys' are joined.  \n",
    "eg- let's use dictionary 'd' that we created earlier above."
   ]
  },
  {
   "cell_type": "code",
   "execution_count": 16,
   "id": "95f1cc53",
   "metadata": {},
   "outputs": [
    {
     "data": {
      "text/plain": [
       "'name:Branch:Age:CGPI'"
      ]
     },
     "execution_count": 16,
     "metadata": {},
     "output_type": "execute_result"
    }
   ],
   "source": [
    "\":\".join(d)"
   ]
  },
  {
   "cell_type": "markdown",
   "id": "cf01fc9d",
   "metadata": {},
   "source": [
    "##### 2. list(iterable):\n",
    "- This takes each element one by one from iterable with help of iterator and add them to the list.\n",
    "- Here below we can see, all the objects that iterator returns are added to list."
   ]
  },
  {
   "cell_type": "code",
   "execution_count": 17,
   "id": "2b896fad",
   "metadata": {},
   "outputs": [
    {
     "data": {
      "text/plain": [
       "['name', 'Branch', 'Age', 'CGPI']"
      ]
     },
     "execution_count": 17,
     "metadata": {},
     "output_type": "execute_result"
    }
   ],
   "source": [
    "list(d)"
   ]
  },
  {
   "cell_type": "markdown",
   "id": "a2dc9e6a",
   "metadata": {},
   "source": [
    "##### 3. sum(iterable):\n",
    "- This takes each element of the iterable one by one with help of iterator and adds them. But **iterable objects must be integers**."
   ]
  },
  {
   "cell_type": "code",
   "execution_count": 18,
   "id": "3c312146",
   "metadata": {},
   "outputs": [
    {
     "data": {
      "text/plain": [
       "15"
      ]
     },
     "execution_count": 18,
     "metadata": {},
     "output_type": "execute_result"
    }
   ],
   "source": [
    "#eg-\n",
    "a = [1,2,3,4,5]\n",
    "sum(a)"
   ]
  },
  {
   "cell_type": "code",
   "execution_count": 19,
   "id": "ba2b14e3",
   "metadata": {},
   "outputs": [
    {
     "data": {
      "text/plain": [
       "6"
      ]
     },
     "execution_count": 19,
     "metadata": {},
     "output_type": "execute_result"
    }
   ],
   "source": [
    "# eg of a dictionary\n",
    "dict = { 1 : \"Harsh\", 2 : \"Adarsh\", 3 : \"Nikhil\"}\n",
    "sum(dict)\n",
    "# Here all the 'keys' are integers thus it adds all of them which are returned by iterator."
   ]
  }
 ],
 "metadata": {
  "kernelspec": {
   "display_name": "Python 3 (ipykernel)",
   "language": "python",
   "name": "python3"
  },
  "language_info": {
   "codemirror_mode": {
    "name": "ipython",
    "version": 3
   },
   "file_extension": ".py",
   "mimetype": "text/x-python",
   "name": "python",
   "nbconvert_exporter": "python",
   "pygments_lexer": "ipython3",
   "version": "3.8.10"
  }
 },
 "nbformat": 4,
 "nbformat_minor": 5
}
