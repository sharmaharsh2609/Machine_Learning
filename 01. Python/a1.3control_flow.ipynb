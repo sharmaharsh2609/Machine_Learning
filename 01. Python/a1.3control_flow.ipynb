{
 "cells": [
  {
   "cell_type": "markdown",
   "id": "b4a3ec13",
   "metadata": {},
   "source": [
    "## Control Flow:  \n",
    "* In python, interpreter interprets line by line.\n",
    "* But we can change the flow of execution of the statements using control flow.\n",
    "   e.g.- By skipping(some line is skipped from order), or by iterative repeating(some lines execute repeatedly for some time instead of executing all lines once line by line).\n",
    "##### There are 2 types of lines in code of python:   \n",
    "(a) Statements\n",
    "(b) Expressions:\n",
    "\n",
    "# Statements:  \n",
    "##### We have various conditional statements which can control the flow of lines:\n",
    "### 1. Conditional Statements:  \n",
    "Conditional statements helps us execute some lines of code conditionally (means only if condition is true).  \n",
    "It controls the flow in this way."
   ]
  },
  {
   "cell_type": "markdown",
   "id": "ec14c515",
   "metadata": {},
   "source": [
    "### If Else Blocks"
   ]
  },
  {
   "cell_type": "code",
   "execution_count": 3,
   "id": "426ff01d",
   "metadata": {},
   "outputs": [
    {
     "name": "stdout",
     "output_type": "stream",
     "text": [
      "Cool\n",
      "Lets play Cricket\n"
     ]
    }
   ],
   "source": [
    "weather  = input()\n",
    "\n",
    "if weather==\"Rainy\":\n",
    "    print(\"Don't go outside\")\n",
    "    print(\"It is raining heavilly\")\n",
    "    \n",
    "elif weather==\"Cool\":\n",
    "    print(\"Lets play Cricket\")\n",
    "\n",
    "else:\n",
    "    print(\"Lets go for shopping\")\n",
    "\n"
   ]
  },
  {
   "cell_type": "markdown",
   "id": "0094083f",
   "metadata": {},
   "source": [
    "### Indentation:\n",
    "* Indentation is spacing given to code snippets to show that they belong to some particular statement: eg-"
   ]
  },
  {
   "cell_type": "code",
   "execution_count": 2,
   "id": "79f9f319",
   "metadata": {},
   "outputs": [
    {
     "name": "stdout",
     "output_type": "stream",
     "text": [
      "positive\n",
      "Multiple of 5.\n"
     ]
    }
   ],
   "source": [
    "a=10\n",
    "if a>0:\n",
    "    print(\"positive\")\n",
    "    if a%5==0:\n",
    "        print(\"Multiple of 5.\")\n",
    "else:\n",
    "    print(negative)"
   ]
  },
  {
   "cell_type": "markdown",
   "id": "640bbfd7",
   "metadata": {},
   "source": [
    "-In above example, else part has 0 indentation, so we can say that this else belongs to 1st if block.  \n",
    "-And if we give 1Tab space before else, then it's indentation would be 1Tab which is similar to that of 2nd if block. Then else would have belonged to 2nd if block.  \n",
    "##### In python indentation can be given as:   2spaces   or   4spaces   or   1Tab   \n",
    "-2spaces are better than 4spaces but 1tab space is much easier to use.\n"
   ]
  },
  {
   "cell_type": "markdown",
   "id": "dba23c67",
   "metadata": {},
   "source": [
    "### 2. Loop Statements:  \n",
    "They controls the repitition of execution of some li"
   ]
  },
  {
   "cell_type": "markdown",
   "id": "66889bf7",
   "metadata": {},
   "source": [
    "### While Loop"
   ]
  },
  {
   "cell_type": "code",
   "execution_count": 5,
   "id": "1c9db324",
   "metadata": {},
   "outputs": [
    {
     "name": "stdout",
     "output_type": "stream",
     "text": [
      "Step 1\n",
      "Step 2\n",
      "Step 3\n",
      "Step 4\n",
      "Step 5\n",
      "Loop Finished\n"
     ]
    }
   ],
   "source": [
    "n = 5\n",
    "i = 1\n",
    "\n",
    "while i<=n:\n",
    "    print(\"Step %d\"%i)\n",
    "    i = i + 1\n",
    "\n",
    "print(\"Loop Finished\")"
   ]
  },
  {
   "cell_type": "markdown",
   "id": "e252b39b",
   "metadata": {},
   "source": [
    "### For Loop:  \n",
    "Syntax: for __ in __:  \n",
    "#####  for iterator in iterable:  \n",
    "-Iterables are objects which can be broken down in smaller elements.\n",
    "  e.g.- a= [1,2,3,4,5]  can be broken down to 1,2,3,4,5 5elements. Thus this list is an iterable. Another eg- str=\"harsh\" , str can be broken down to h,a,r,s,h 5elements. So str is also an iterable. Another eg- num=1 is not iterable as it can't be broken down in smaller elements.  \n",
    "-Iterators are objects that break down iterables into smaller elements and returns one at a time."
   ]
  },
  {
   "cell_type": "code",
   "execution_count": 1,
   "id": "eebcb914",
   "metadata": {},
   "outputs": [
    {
     "name": "stdout",
     "output_type": "stream",
     "text": [
      "1\n",
      "2\n",
      "3\n",
      "4\n",
      "5\n"
     ]
    }
   ],
   "source": [
    "for i in [1,2,3,4,5]:\n",
    "    print(i)"
   ]
  },
  {
   "cell_type": "markdown",
   "id": "67e21eb5",
   "metadata": {},
   "source": [
    "#### range():  \n",
    "* A very famous iterable is range().\n",
    "* range(2,10) returns elements [2,10)  which is from 2 to 9.\n",
    "* range includes starting character but excludes ending character.\n",
    "* range syntax: range(start,end,increment)  where end is neccessary and both other are optional.  \n",
    "  If we pass single parameter, then that is end value and by default start=0, increment=1.  \n",
    "  If we pass 2parameters, then 1st is start and 2nd is end and increment is 1 by default.  \n",
    "  If we pass 3parameters, then 1st-start, 2nd-end, 3rd-increment"
   ]
  },
  {
   "cell_type": "code",
   "execution_count": 9,
   "id": "5b9def2c",
   "metadata": {},
   "outputs": [
    {
     "name": "stdout",
     "output_type": "stream",
     "text": [
      "1,3,5,7,9,"
     ]
    }
   ],
   "source": [
    "for i in range(1,10,2):\n",
    "    print(i,end=\",\")"
   ]
  },
  {
   "cell_type": "markdown",
   "id": "651ab298",
   "metadata": {},
   "source": [
    "* range() is not a part of for loop syntax. range() returns iterable which is then a part of for syntax.  \n",
    "eg- Here above, range() first returns iterable [1,3,5,7,9] then for loop is executed."
   ]
  },
  {
   "cell_type": "code",
   "execution_count": 11,
   "id": "d0a8eaa2",
   "metadata": {},
   "outputs": [
    {
     "name": "stdout",
     "output_type": "stream",
     "text": [
      "10,8,6,4,2,"
     ]
    }
   ],
   "source": [
    "for i in range(10,1,-2):\n",
    "    print(i,end=',')"
   ]
  },
  {
   "cell_type": "code",
   "execution_count": 10,
   "id": "f1363313",
   "metadata": {},
   "outputs": [
    {
     "name": "stdout",
     "output_type": "stream",
     "text": [
      "3628800\n"
     ]
    }
   ],
   "source": [
    "num = 10\n",
    "ans = 1\n",
    "\n",
    "for i in range(1,11):\n",
    "    ans *= i\n",
    "    \n",
    "print(ans)"
   ]
  },
  {
   "cell_type": "code",
   "execution_count": 13,
   "id": "163c7d1b",
   "metadata": {},
   "outputs": [
    {
     "name": "stdout",
     "output_type": "stream",
     "text": [
      "5 5 5 5 5 \n",
      "5 4 4 4 5 \n",
      "5 4 3 4 5 \n",
      "5 4 4 4 5 \n",
      "5 5 5 5 5 \n"
     ]
    }
   ],
   "source": [
    "#5 X 5 Matrix\n",
    "n = 5\n",
    "for x in range(n):\n",
    "    for y in range(n):\n",
    "        print(max(x+1,y+1,n-x,n-y),end=\" \")\n",
    "    print()\n"
   ]
  },
  {
   "cell_type": "markdown",
   "id": "5421e3a0",
   "metadata": {},
   "source": [
    "### break, continue and pass statements"
   ]
  },
  {
   "cell_type": "code",
   "execution_count": 15,
   "id": "deb8299d",
   "metadata": {},
   "outputs": [
    {
     "name": "stdout",
     "output_type": "stream",
     "text": [
      "1\n",
      "2\n",
      "3\n",
      "4\n",
      "6\n",
      "Loop ends\n"
     ]
    }
   ],
   "source": [
    "for i in range(1,10):\n",
    "    if i==5:\n",
    "        continue\n",
    "    if i==7:\n",
    "        break\n",
    "    print(i)\n",
    "\n",
    "print(\"Loop ends\")"
   ]
  },
  {
   "cell_type": "code",
   "execution_count": 17,
   "id": "ed1bd817",
   "metadata": {},
   "outputs": [],
   "source": [
    "for i in range(1,10):\n",
    "    pass\n",
    "#a loop or function can't be left empty. So we need to write pass so that it would not show error"
   ]
  },
  {
   "cell_type": "markdown",
   "id": "0a66c83e",
   "metadata": {},
   "source": [
    "* As written in starting lines in python are of 2types:  \n",
    "    (a) Statements   (b) Expressions.\n",
    "# Expressions:\n",
    "* In python, if we type    2+3     ,then output is 5. and if we type    print(2+3)    then also output is 5.  \n",
    "* But first output is output of line and 2nd output is STDOUT which is shown in terminal."
   ]
  },
  {
   "cell_type": "markdown",
   "id": "820c2067",
   "metadata": {},
   "source": [
    "### 1. Arithmetic Operators"
   ]
  },
  {
   "cell_type": "code",
   "execution_count": 19,
   "id": "c71a30c5",
   "metadata": {},
   "outputs": [
    {
     "name": "stdout",
     "output_type": "stream",
     "text": [
      "13\n",
      "7\n",
      "30\n",
      "3.3333\n",
      "3\n",
      "1000\n",
      "3\n"
     ]
    }
   ],
   "source": [
    "a = 10\n",
    "b = 3\n",
    "\n",
    "print(a+b)\n",
    "print(a-b)\n",
    "print(a*b)\n",
    "print(\"%0.4f\"%(a/b))\n",
    "print(a//b)\n",
    "#Exponent/Power Function\n",
    "print(a**b)\n",
    "print(b%a)"
   ]
  },
  {
   "cell_type": "markdown",
   "id": "df47941f",
   "metadata": {},
   "source": [
    "* Here 10/3 should be 3 as int/int= int. But python3 division always results in floating value.  \n",
    "* However, python2 division is followed by data types of operands( like in c++).\n",
    "* In Python3, we can use floor division operator '//' which result int result or we can say smaller integer result"
   ]
  },
  {
   "cell_type": "markdown",
   "id": "be448280",
   "metadata": {},
   "source": [
    "### 2. Comparison Operators:\n",
    "    ==    !=    <    >    <=    >="
   ]
  },
  {
   "cell_type": "code",
   "execution_count": 21,
   "id": "6acd0735",
   "metadata": {},
   "outputs": [
    {
     "name": "stdout",
     "output_type": "stream",
     "text": [
      "True\n",
      "False\n",
      "False\n",
      "False\n",
      "True\n",
      "True\n"
     ]
    }
   ],
   "source": [
    "print(10==10)\n",
    "print(10!=10)\n",
    "print(10>10)\n",
    "print(10<10)\n",
    "print(10>=10)\n",
    "print(10<=10)"
   ]
  },
  {
   "cell_type": "markdown",
   "id": "25c7ea20",
   "metadata": {},
   "source": [
    "* In python, we can use same comparison operators for strings also.\n",
    "* But strings don't compare on basis of length of string. Instead they are compared on basis of their lexicographical order(which is order of their ASCII values.). Same is done in C++ also.\n",
    "* In strings, values of characters of strings are compared according to their position. 1st character of both strings are comapared. If they are same, then 2nd characters are comaperd and so on."
   ]
  },
  {
   "cell_type": "code",
   "execution_count": 30,
   "id": "cdab3f16",
   "metadata": {},
   "outputs": [
    {
     "name": "stdout",
     "output_type": "stream",
     "text": [
      "True\n",
      "False\n",
      "False\n",
      "True\n"
     ]
    }
   ],
   "source": [
    "print(\"abc\"==\"abc\")\n",
    "print(\"abc\">\"xy\")   #here length of \"abc\" is more \n",
    "print(\"ABC\">\"abc\")   #ASCII value of A=65 and of a=97. So 97 > 65\n",
    "print(\"abc\">\"ab\")"
   ]
  },
  {
   "cell_type": "code",
   "execution_count": 37,
   "id": "99d0273a",
   "metadata": {},
   "outputs": [
    {
     "data": {
      "text/plain": [
       "35"
      ]
     },
     "execution_count": 37,
     "metadata": {},
     "output_type": "execute_result"
    }
   ],
   "source": [
    "#ord()\n",
    "ord(\"a\")     #ord() function prints ASCII value of any character\n"
   ]
  },
  {
   "cell_type": "markdown",
   "id": "cd9099b0",
   "metadata": {},
   "source": [
    "### 3. Assignment Operators:\n",
    "    =    +=    -=    *=    /=    %=    **="
   ]
  },
  {
   "cell_type": "code",
   "execution_count": 31,
   "id": "36e03367",
   "metadata": {},
   "outputs": [
    {
     "name": "stdout",
     "output_type": "stream",
     "text": [
      "20\n",
      "30\n",
      "20\n",
      "200\n",
      "20.0\n",
      "0.0\n",
      "0.0\n"
     ]
    }
   ],
   "source": [
    "a=20\n",
    "print(a)\n",
    "a+=10\n",
    "print(a)\n",
    "a-=10\n",
    "print(a)\n",
    "a*=10\n",
    "print(a)\n",
    "a/=10\n",
    "print(a)\n",
    "a%=10\n",
    "print(a)\n",
    "a**=10\n",
    "print(a)"
   ]
  },
  {
   "cell_type": "markdown",
   "id": "2a38f39d",
   "metadata": {},
   "source": [
    "### 4. Logical Operators:  \n",
    "- Logical operators work on boolean values\n",
    "- Boolean values are True and False. But this is case sensitive in python. T and F should be capital.\n",
    "- Boolean is nothing but integer(int data type) in python.\n",
    "- It shows boolean on type(True). But boolean is derived from int."
   ]
  },
  {
   "cell_type": "code",
   "execution_count": 47,
   "id": "b339cdbe",
   "metadata": {},
   "outputs": [
    {
     "name": "stdout",
     "output_type": "stream",
     "text": [
      "True\n",
      "True\n",
      "True\n",
      "True\n",
      "False\n"
     ]
    }
   ],
   "source": [
    "#isinstance() returns True if 1st parameter passed belongs to class or subclass pssed in 2nd parameter.\n",
    "print(isinstance(1,int))   \n",
    "print(isinstance(\"asfas\",str))\n",
    "print(isinstance(True,int))   #it shows that True is of type int or any subclass of int.\n",
    "print(isinstance(True,bool))   #it shows that True is of type bool.\n",
    "print(isinstance(\"add\",int))"
   ]
  },
  {
   "cell_type": "code",
   "execution_count": 48,
   "id": "511c0ff3",
   "metadata": {},
   "outputs": [
    {
     "data": {
      "text/plain": [
       "bool"
      ]
     },
     "execution_count": 48,
     "metadata": {},
     "output_type": "execute_result"
    }
   ],
   "source": [
    "type(True)\n",
    "#Although type is bool. But bool is derived from int and is a subclass of int"
   ]
  },
  {
   "cell_type": "code",
   "execution_count": 54,
   "id": "331e49d9",
   "metadata": {},
   "outputs": [
    {
     "name": "stdout",
     "output_type": "stream",
     "text": [
      "6\n",
      "5\n",
      "True\n"
     ]
    }
   ],
   "source": [
    "print(5+True)  #True is int with value 1\n",
    "print(5+False)  #False is int with value 0\n",
    "print(True)   #However True shows value only if used with other int variables"
   ]
  },
  {
   "cell_type": "markdown",
   "id": "9f47063e",
   "metadata": {},
   "source": [
    "- There are 3 logical operators:  \n",
    "not  \n",
    "and  \n",
    "or"
   ]
  },
  {
   "cell_type": "markdown",
   "id": "791040f8",
   "metadata": {},
   "source": [
    "### not operator:  \n",
    "- In python anything except is considered as 'truthy value' and 0 is considered as 'falsy value'.  \n",
    "- Logical operators compares on basis of truthy values and falsy values. They don't comare on absolute truth value or false value."
   ]
  },
  {
   "cell_type": "code",
   "execution_count": 55,
   "id": "f35ac1f4",
   "metadata": {},
   "outputs": [
    {
     "name": "stdout",
     "output_type": "stream",
     "text": [
      "False\n",
      "True\n"
     ]
    }
   ],
   "source": [
    "print(not True)\n",
    "print(not False)"
   ]
  },
  {
   "cell_type": "markdown",
   "id": "f80253a8",
   "metadata": {},
   "source": [
    "### and operator:  \n",
    "- 'and' and 'or' operators in python works on basis of \"SHORT CIRCUITING RULE\": which says these both operators executes second argument only if result is not obtained from 1st.  \n",
    "      0 or B = B  \n",
    "      1 or B = 1  \n",
    "      0 and B = 0  \n",
    "      1 and B = B  \n",
    "- In 'or': it prints 2nd value if 1st is 0, it prints 1st value and ignores 2nd if 1st is non zero\n",
    "- In 'and' loop: it prints 0 if 1st value is 0 and ignores 2nd, it prints 2nd value if 1st is 1."
   ]
  },
  {
   "cell_type": "code",
   "execution_count": 60,
   "id": "61184b09",
   "metadata": {},
   "outputs": [
    {
     "data": {
      "text/plain": [
       "4"
      ]
     },
     "execution_count": 60,
     "metadata": {},
     "output_type": "execute_result"
    }
   ],
   "source": [
    "0 or 4    #prints 2nd as 1st is 0."
   ]
  },
  {
   "cell_type": "code",
   "execution_count": 61,
   "id": "7ef892a3",
   "metadata": {},
   "outputs": [
    {
     "data": {
      "text/plain": [
       "5"
      ]
     },
     "execution_count": 61,
     "metadata": {},
     "output_type": "execute_result"
    }
   ],
   "source": [
    "5 or 4    #prints 1st and ignores 2nd"
   ]
  },
  {
   "cell_type": "code",
   "execution_count": 62,
   "id": "7aaad710",
   "metadata": {},
   "outputs": [
    {
     "data": {
      "text/plain": [
       "0"
      ]
     },
     "execution_count": 62,
     "metadata": {},
     "output_type": "execute_result"
    }
   ],
   "source": [
    "0 and 4    #prints 0 (which is 1st) and ignores 2nd"
   ]
  },
  {
   "cell_type": "code",
   "execution_count": 63,
   "id": "60b09da3",
   "metadata": {},
   "outputs": [
    {
     "data": {
      "text/plain": [
       "4"
      ]
     },
     "execution_count": 63,
     "metadata": {},
     "output_type": "execute_result"
    }
   ],
   "source": [
    "5 and 4    #prints 2nd as 1st is true."
   ]
  }
 ],
 "metadata": {
  "kernelspec": {
   "display_name": "Python 3 (ipykernel)",
   "language": "python",
   "name": "python3"
  },
  "language_info": {
   "codemirror_mode": {
    "name": "ipython",
    "version": 3
   },
   "file_extension": ".py",
   "mimetype": "text/x-python",
   "name": "python",
   "nbconvert_exporter": "python",
   "pygments_lexer": "ipython3",
   "version": "3.8.10"
  }
 },
 "nbformat": 4,
 "nbformat_minor": 5
}
