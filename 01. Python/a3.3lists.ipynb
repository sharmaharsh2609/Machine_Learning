{
 "cells": [
  {
   "cell_type": "markdown",
   "metadata": {},
   "source": [
    "## Data Structures in Python\n",
    "### Builtin Datatypes\n",
    "- Strings\n",
    "- Lists\n",
    "- Tuples\n",
    "- Dictionaries\n",
    "- Sets"
   ]
  },
  {
   "cell_type": "markdown",
   "metadata": {},
   "source": [
    "## Lists"
   ]
  },
  {
   "cell_type": "markdown",
   "metadata": {},
   "source": [
    "- List is like array in c++.\n",
    "- But list is heterogeneous: means list can store different data type elements. However it is recommended to use homogenous.(same data types)\n",
    "#### Attributes/Characteristics of list:\n",
    "1. list id 'ordered'  \n",
    "2. list is 'mutable'  \n",
    "3. list is 'accessed using index'  \n",
    "4. Heterogeneous"
   ]
  },
  {
   "cell_type": "code",
   "execution_count": 2,
   "metadata": {},
   "outputs": [
    {
     "name": "stdout",
     "output_type": "stream",
     "text": [
      "['Harsh', 1, 1.6, <built-in function print>]\n",
      "<class 'list'>\n",
      "Hello World\n"
     ]
    }
   ],
   "source": [
    "myList = [\"Harsh\",1,1.6,print]\n",
    "print(myList)\n",
    "print(type(myList))\n",
    "\n",
    "# it contains string, int, float, (function):print()\n",
    "# we can use this print function also\n",
    "l2=myList[3](\"Hello World\")"
   ]
  },
  {
   "cell_type": "code",
   "execution_count": 9,
   "metadata": {},
   "outputs": [
    {
     "name": "stdout",
     "output_type": "stream",
     "text": [
      "[1, 2, 3]\n",
      "[1, 2, 3, 1, 2, 3]\n",
      "[1, 2, 3, 1, 2, 3, 1, 2, 3]\n"
     ]
    }
   ],
   "source": [
    "l2=[1,2,3]\n",
    "\n",
    "l3= l2\n",
    "print(l3)\n",
    "\n",
    "#list concatenation\n",
    "l3 = l3 + l2\n",
    "print(l3)\n",
    "\n",
    "#The extend() method adds all the elements of an iterable (list, tuple, string etc.) to\n",
    "# the end of the list.\n",
    "l3.extend(l2)\n",
    "print(l3)\n",
    "#The only difference between both methods is on a bytecode level is that the lst.extend() way\n",
    "# involves a function call, which is slightly more expensive in Python than the INPLACE_ADD."
   ]
  },
  {
   "cell_type": "code",
   "execution_count": 10,
   "metadata": {},
   "outputs": [
    {
     "name": "stdout",
     "output_type": "stream",
     "text": [
      "[1, 4, 9, 16, 25]\n"
     ]
    }
   ],
   "source": [
    "#list is iterable\n",
    "\n",
    "# List of Square of the numbers from 1 to 5\n",
    "l4 = [i*i for i in range(1,6)]\n",
    "print(l4)"
   ]
  },
  {
   "cell_type": "code",
   "execution_count": 44,
   "metadata": {},
   "outputs": [
    {
     "name": "stdout",
     "output_type": "stream",
     "text": [
      "[1, 2, 3, 1, 2, 3, 1, 2, 3, 1, 2, 3]\n"
     ]
    }
   ],
   "source": [
    "l = ([1,2,3])\n",
    "l = l*4\n",
    "print(l)"
   ]
  },
  {
   "cell_type": "code",
   "execution_count": 46,
   "metadata": {},
   "outputs": [
    {
     "data": {
      "text/plain": [
       "True"
      ]
     },
     "execution_count": 46,
     "metadata": {},
     "output_type": "execute_result"
    }
   ],
   "source": [
    "# lists can also check the 'MEMBERSHIP OF ELEMENT'\n",
    "l = [\"Apple\",\"mango\",\"guava\",80]\n",
    "80 in l"
   ]
  },
  {
   "cell_type": "code",
   "execution_count": 49,
   "metadata": {},
   "outputs": [
    {
     "name": "stdout",
     "output_type": "stream",
     "text": [
      "Apple\n",
      "mango\n",
      "guava\n",
      "80\n"
     ]
    }
   ],
   "source": [
    "for i in range(len(l)):\n",
    "    print(l[i])"
   ]
  },
  {
   "cell_type": "code",
   "execution_count": 50,
   "metadata": {},
   "outputs": [
    {
     "name": "stdout",
     "output_type": "stream",
     "text": [
      "Apple\n",
      "mango\n",
      "guava\n",
      "80\n"
     ]
    }
   ],
   "source": [
    "for x in l:\n",
    "    print(x)\n",
    "#this is same as above one. But this is easier way and fastest also"
   ]
  },
  {
   "cell_type": "markdown",
   "metadata": {},
   "source": [
    "#### Backward indexing: \n",
    "- lists can be indexed using negative indexes also. where -1 represents last element, -2 represents 2nd last and so on"
   ]
  },
  {
   "cell_type": "code",
   "execution_count": 11,
   "metadata": {},
   "outputs": [
    {
     "name": "stdout",
     "output_type": "stream",
     "text": [
      "5\n",
      "2\n"
     ]
    }
   ],
   "source": [
    "a = [1,2,3,4,5]\n",
    "print(a[-1])\n",
    "print(a[-4])"
   ]
  },
  {
   "cell_type": "markdown",
   "metadata": {},
   "source": [
    "## List Slicing\n",
    "- To obtain subarray from a list.\n",
    "        Syntax: lst[<start>:<stop>:<step>]\n",
    "    where start is strating index  \n",
    "    stop is stopping index excluding stop index  \n",
    "    step is increment in every step(It is optional)"
   ]
  },
  {
   "cell_type": "code",
   "execution_count": 15,
   "metadata": {},
   "outputs": [
    {
     "name": "stdout",
     "output_type": "stream",
     "text": [
      "[1, 2, 3]\n",
      "[3, 4, 5]\n",
      "[1, 2, 3]\n",
      "[1, 2, 3, 4, 5]\n"
     ]
    }
   ],
   "source": [
    "a = [1,2,3,4,5]\n",
    "print(a[0:3])\n",
    "print(a[-3:])   #starts from 3rd last upto end\n",
    "print(a[:-2])   #from begining upto 3rd last element as last value(-2 here) is excluded\n",
    "print(a[:])   # prints from start upto end"
   ]
  },
  {
   "cell_type": "markdown",
   "metadata": {},
   "source": [
    "- we can add another dimension also, which tells us about 'sttep'. means the number of jumps or increment value."
   ]
  },
  {
   "cell_type": "code",
   "execution_count": 19,
   "metadata": {},
   "outputs": [
    {
     "name": "stdout",
     "output_type": "stream",
     "text": [
      "[1, 4, 7, 10]\n",
      "[4, 6, 8]\n"
     ]
    }
   ],
   "source": [
    "# example: \n",
    "b=[1,2,3,4,5,6,7,8,9,10]\n",
    "print(b[::3])  # prints all elements with a jump of 3values.\n",
    "print(b[3:9:2])    #prints all elemets between 3-8 with a jump of 2values\n",
    "# it prints all ele"
   ]
  },
  {
   "cell_type": "markdown",
   "metadata": {},
   "source": [
    "##### Ques.  What is the most elegant or easy way to reverse a string ?\n",
    "Ans.  a[::-1]  \n",
    "- Here it starts from end and stops at begining and decrement by 1 every step\n",
    "##### Ques. What is most elegant way to check palindrome ?\n",
    "Ans.  a==a[::-1]"
   ]
  },
  {
   "cell_type": "code",
   "execution_count": 22,
   "metadata": {},
   "outputs": [
    {
     "name": "stdout",
     "output_type": "stream",
     "text": [
      "[5, 4, 3, 2, 1]\n",
      "False\n"
     ]
    }
   ],
   "source": [
    "#reverse a string\n",
    "b = a[::-1] \n",
    "print(b)\n",
    "\n",
    "#check palindrome\n",
    "print(a==a[::-1])"
   ]
  },
  {
   "cell_type": "markdown",
   "metadata": {},
   "source": [
    "## Insertion and Deletion \n",
    "- append\n",
    "- insert\n",
    "\n",
    "- remove\n",
    "- pop\n",
    "- del "
   ]
  },
  {
   "cell_type": "code",
   "execution_count": 62,
   "metadata": {},
   "outputs": [
    {
     "name": "stdout",
     "output_type": "stream",
     "text": [
      "[1, 2, 3]\n",
      "[1, 2, 3, [1.0, 2.1], 4, 5, 6]\n",
      "[1, 2, 3, [1.0, 2.1], 4, 5, 6, 7, 8]\n"
     ]
    }
   ],
   "source": [
    "# appends a single element at last\n",
    "l = [1,2]\n",
    "l.append(3)\n",
    "print(l)\n",
    "\n",
    "l.append([1.0,2.1])\n",
    "l += [4,5,6]\n",
    "print(l)\n",
    "\n",
    "l.extend([7,8])\n",
    "print(l)\n",
    "\n",
    "# this is the main differenc ebetween append() and extend(), here append() appends multiple values\n",
    "# as another list in list. But extends appends all the elements in the list."
   ]
  },
  {
   "cell_type": "code",
   "execution_count": 63,
   "metadata": {},
   "outputs": [
    {
     "name": "stdout",
     "output_type": "stream",
     "text": [
      "[1, 2, 'Harsh', 3, [1.0, 2.1], 4, 5, 6, 7, 8]\n",
      "[1, 2, 'Harsh', 3, [1.0, 2.1], 4, 5, 6, 7, 8, 'Sharma']\n"
     ]
    }
   ],
   "source": [
    "#syntax: lst.insert(<index>,<val>)\n",
    "\n",
    "l.insert(2,\"Harsh\")    # inserts \"Harsh\" at index 2 and shifts all right side elements one position right\n",
    "print(l)\n",
    "l.append(\"Sharma\")\n",
    "print(l)"
   ]
  },
  {
   "cell_type": "code",
   "execution_count": 64,
   "metadata": {},
   "outputs": [
    {
     "name": "stdout",
     "output_type": "stream",
     "text": [
      "2.1\n"
     ]
    }
   ],
   "source": [
    "print(l[4][1])"
   ]
  },
  {
   "cell_type": "code",
   "execution_count": 65,
   "metadata": {},
   "outputs": [
    {
     "name": "stdout",
     "output_type": "stream",
     "text": [
      "Sharma\n",
      "[1, 2, 'Harsh', 3, [1.0, 2.1], 4, 5, 6, 7, 8]\n",
      "2\n",
      "[1, 'Harsh', 3, [1.0, 2.1], 4, 5, 6, 7, 8]\n"
     ]
    }
   ],
   "source": [
    "# returns the popped element\n",
    "# by default removes last element\n",
    "#check description by pressing shft+tab on pop\n",
    "print(l.pop())  # returns poped element and by default index=-1, which means last element is popped\n",
    "print(l)\n",
    "print(l.pop(1))    # pops and returns element at index 2\n",
    "print(l)"
   ]
  },
  {
   "cell_type": "code",
   "execution_count": 66,
   "metadata": {},
   "outputs": [
    {
     "name": "stdout",
     "output_type": "stream",
     "text": [
      "[1, 3, [1.0, 2.1], 4, 5, 6, 7, 8]\n"
     ]
    }
   ],
   "source": [
    "# remove() removes the value passed in parameter:\n",
    "l.remove(\"Harsh\")\n",
    "print(l)"
   ]
  },
  {
   "cell_type": "markdown",
   "metadata": {},
   "source": [
    "- If we know index, then use pop() method. If we have objects, then use remove() method.\n",
    "- next is del. del is not a funvtion of lists. \n",
    "- del is a keyword that delets objects"
   ]
  },
  {
   "cell_type": "code",
   "execution_count": null,
   "metadata": {},
   "outputs": [],
   "source": [
    "l.clear()    # deletes all elements of the list l."
   ]
  },
  {
   "cell_type": "code",
   "execution_count": 68,
   "metadata": {},
   "outputs": [
    {
     "name": "stdout",
     "output_type": "stream",
     "text": [
      "[[1.0, 2.1], 4, 5, 6, 7, 8]\n"
     ]
    }
   ],
   "source": [
    "del l[0]   #deletes object present at l[0]\n",
    "print(l)\n",
    "del l  #deletes whole object l"
   ]
  },
  {
   "cell_type": "markdown",
   "metadata": {},
   "source": [
    "## More functions on lists  : Searching & Sorting"
   ]
  },
  {
   "cell_type": "code",
   "execution_count": 74,
   "metadata": {},
   "outputs": [
    {
     "name": "stdout",
     "output_type": "stream",
     "text": [
      "18\n",
      "2\n",
      "3\n"
     ]
    }
   ],
   "source": [
    "l = [4,3,2,16,18]\n",
    "print(max(l))\n",
    "print(min(l))\n",
    "#Linear Search \n",
    "print(l.index(16))\n"
   ]
  },
  {
   "cell_type": "code",
   "execution_count": 75,
   "metadata": {},
   "outputs": [
    {
     "name": "stdout",
     "output_type": "stream",
     "text": [
      "[2, 3, 4, 16, 18]\n",
      "[4, 3, 2, 16, 18]\n"
     ]
    }
   ],
   "source": [
    "#sorted returns sorted list but do not change actual values.\n",
    "print(sorted(l))\n",
    "print(l)"
   ]
  },
  {
   "cell_type": "code",
   "execution_count": 76,
   "metadata": {},
   "outputs": [
    {
     "name": "stdout",
     "output_type": "stream",
     "text": [
      "[1, 2, 3, 4, 5]\n",
      "[5, 4, 3, 2, 1]\n"
     ]
    }
   ],
   "source": [
    "# unlike sorted(), sort() do not return anything, but it sorts the actual list.\n",
    "l = [4,5,1,3,2]\n",
    "l.sort()\n",
    "print(l)\n",
    "\n",
    "l.sort(reverse=True)   # by default reverse=False. Using reverse=True sorts in reverse order\n",
    "print(l)"
   ]
  },
  {
   "cell_type": "code",
   "execution_count": 63,
   "metadata": {},
   "outputs": [
    {
     "name": "stdout",
     "output_type": "stream",
     "text": [
      "1 2 3 4 \n",
      "[1, 4, 9, 16]\n",
      "<class 'list'>\n"
     ]
    }
   ],
   "source": [
    "## Read a list of Numbers\n",
    "numbers = [int(number)*int(number) for number in input().split()]\n",
    "print(numbers)\n",
    "print(type(numbers))\n"
   ]
  },
  {
   "cell_type": "code",
   "execution_count": 77,
   "metadata": {},
   "outputs": [
    {
     "name": "stdout",
     "output_type": "stream",
     "text": [
      "<list_reverseiterator object at 0x7fa01ecfe850>\n",
      "[4, 7, 2, 6, 34, 17]\n",
      "\n",
      "[17, 34, 6, 2, 7, 4]\n"
     ]
    }
   ],
   "source": [
    "# similarly reversed() returns reversed array but do not change actual array.\n",
    "# However reverse() do not return anything and reverses array in actual.\n",
    "l = [4,7,2,6,34,17]\n",
    "print(reversed(l))\n",
    "print(l)\n",
    "print()\n",
    "\n",
    "l.reverse()\n",
    "print(l)\n"
   ]
  }
 ],
 "metadata": {
  "kernelspec": {
   "display_name": "Python 3 (ipykernel)",
   "language": "python",
   "name": "python3"
  },
  "language_info": {
   "codemirror_mode": {
    "name": "ipython",
    "version": 3
   },
   "file_extension": ".py",
   "mimetype": "text/x-python",
   "name": "python",
   "nbconvert_exporter": "python",
   "pygments_lexer": "ipython3",
   "version": "3.8.10"
  }
 },
 "nbformat": 4,
 "nbformat_minor": 2
}
