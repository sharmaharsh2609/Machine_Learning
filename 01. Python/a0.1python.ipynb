{
 "cells": [
  {
   "cell_type": "code",
   "execution_count": 3,
   "id": "83d1b2ab",
   "metadata": {},
   "outputs": [
    {
     "name": "stdout",
     "output_type": "stream",
     "text": [
      "Enter some numbers(with space and enter to stop): 1 2 3 4 5\n",
      "1 2 3 4 5\n",
      "<class 'str'>\n"
     ]
    }
   ],
   "source": [
    "numbers = input(\"Enter some numbers(with space and enter to stop): \")\n",
    "print(numbers)\n",
    "print(type(numbers))"
   ]
  },
  {
   "cell_type": "code",
   "execution_count": 4,
   "id": "119f2b45",
   "metadata": {},
   "outputs": [
    {
     "name": "stdout",
     "output_type": "stream",
     "text": [
      "Enter same numbers again: 1 2 3 4 5\n",
      "['1', '2', '3', '4', '5']\n",
      "<class 'list'>\n"
     ]
    }
   ],
   "source": [
    "numbers = input(\"Enter same numbers again: \").split()\t#by default split takes space as delimeter.\n",
    "print(numbers)\n",
    "print(type(numbers))"
   ]
  },
  {
   "cell_type": "code",
   "execution_count": 5,
   "id": "a916666f",
   "metadata": {},
   "outputs": [
    {
     "name": "stdout",
     "output_type": "stream",
     "text": [
      "Enter same numbers once more: 1 2 3 4 5\n",
      "[1, 2, 3, 4, 5]\n"
     ]
    }
   ],
   "source": [
    "#Syntax to typecast:\n",
    "numbers = [int(x) for x in input(\"Enter same numbers once more: \").split()]\n",
    "print(numbers)\n",
    "# Now it will show us a list of integers {1, 2, 3, 4, 5 }\n",
    "#this is also called as list comprehension"
   ]
  },
  {
   "cell_type": "code",
   "execution_count": 6,
   "id": "b425a264",
   "metadata": {},
   "outputs": [
    {
     "name": "stdout",
     "output_type": "stream",
     "text": [
      "Enter a list with a seerator '-': 1-2-2-4-3\n",
      "[1, 2, 2, 4, 3]\n"
     ]
    }
   ],
   "source": [
    "#We can take input as other delimeters also also:\n",
    "#example\n",
    "lst = [int(x) for x in input(\"Enter a list with a seerator '-': \").split('-')]\t#it is necessary to use single quotes in split to recognize character. without '' , characters have other meaning also.\n",
    "print(lst)"
   ]
  },
  {
   "cell_type": "code",
   "execution_count": 9,
   "id": "447489f7",
   "metadata": {},
   "outputs": [
    {
     "name": "stdout",
     "output_type": "stream",
     "text": [
      "Enter a range: 1-100\n",
      "1 100\n"
     ]
    }
   ],
   "source": [
    "#we can take input with variables also instead of a single list. But then we have limit for number of inputs\n",
    "lower,upper = [int(x) for x in input(\"Enter a range: \").split('-')]\t#here we can input exactly 2 numbers \n",
    "print(lower,upper)"
   ]
  },
  {
   "cell_type": "markdown",
   "id": "771dc0a4",
   "metadata": {},
   "source": [
    "# -----------------------------------------------------------------------------------------------------------------\n",
    "\n",
    "# List Comprehension"
   ]
  },
  {
   "cell_type": "code",
   "execution_count": 12,
   "id": "5cf31ce4",
   "metadata": {},
   "outputs": [
    {
     "name": "stdout",
     "output_type": "stream",
     "text": [
      "[0, 1, 4, 9, 16, 25, 36, 49, 64, 81]\n"
     ]
    }
   ],
   "source": [
    "# For example, this list contains an expression: x**2(means x power 2) for x in range(10)\n",
    "lst1 = [x**2 for x in range(10)]\n",
    "print(lst1)"
   ]
  },
  {
   "cell_type": "code",
   "execution_count": 13,
   "id": "cb8c5d86",
   "metadata": {},
   "outputs": [
    {
     "name": "stdout",
     "output_type": "stream",
     "text": [
      "[0, 1, 4, 9, 16, 25, 36, 49, 64, 81]\n"
     ]
    }
   ],
   "source": [
    "#without list comprehension, we need to use a for loop and append every time. That makes code longer also\n",
    "lst2 = []\n",
    "for x in range(10):\n",
    "    lst2.append(x**2)\n",
    "print(lst2)"
   ]
  },
  {
   "cell_type": "markdown",
   "id": "2629a101",
   "metadata": {},
   "source": [
    "- both above codes do same thing. Using list comprehension makes it more readable."
   ]
  },
  {
   "cell_type": "code",
   "execution_count": 14,
   "id": "f77bb5b9",
   "metadata": {},
   "outputs": [
    {
     "name": "stdout",
     "output_type": "stream",
     "text": [
      "[(1, 3), (1, 4), (2, 3), (2, 1), (2, 4), (3, 1), (3, 4)]\n"
     ]
    }
   ],
   "source": [
    "#example2: we can take a list of tuples using 2 for loops\n",
    "\n",
    "lst3=[(x, y) for x in [1,2,3] for y in [3,1,4] if x != y]\t#2 for are only allowed in tuples\n",
    "#it will be as: [(1, 3), (1, 4), (2, 3), (2, 1), (2, 4), (3, 1), (3, 4)]\n",
    "print(lst3)"
   ]
  },
  {
   "cell_type": "code",
   "execution_count": 15,
   "id": "8818d5ff",
   "metadata": {},
   "outputs": [
    {
     "name": "stdout",
     "output_type": "stream",
     "text": [
      "[(1, 3), (1, 4), (2, 3), (2, 1), (2, 4), (3, 1), (3, 4)]\n"
     ]
    }
   ],
   "source": [
    "#same thing using for loop is as follows:\n",
    "lst4 = []\n",
    "for x in [1,2,3]:\n",
    "    for y in [3,1,4]:\n",
    "        if x != y:\n",
    "            lst4.append((x, y))\n",
    "print(lst4)"
   ]
  },
  {
   "cell_type": "markdown",
   "id": "05f86c11",
   "metadata": {},
   "source": [
    "- List comprehension to input an array:"
   ]
  },
  {
   "cell_type": "code",
   "execution_count": 16,
   "id": "537b11c6",
   "metadata": {},
   "outputs": [
    {
     "name": "stdout",
     "output_type": "stream",
     "text": [
      "Enter some numbers: 1 8 4 3 34 23 \n",
      "['1', '8', '4', '3', '34', '23']\n"
     ]
    }
   ],
   "source": [
    "# we can take multiple inputs in python using list comprehension:\n",
    "\n",
    "var = [x for x in input(\"Enter some numbers: \").split()]\n",
    "print(var)\n",
    "#here the expression is x\n",
    "#it takes input as characters by default, thus making it list of characters"
   ]
  },
  {
   "cell_type": "code",
   "execution_count": 18,
   "id": "c6c9614d",
   "metadata": {},
   "outputs": [
    {
     "name": "stdout",
     "output_type": "stream",
     "text": [
      "Enter some numbers: 12 4 6 6 77  3\n",
      "[12, 4, 6, 6, 77, 3]\n"
     ]
    }
   ],
   "source": [
    "#to make it integer, we need to type cast in the expression in list comprehension:\n",
    "var = [int(x) for x in input(\"Enter some numbers: \").split()]\n",
    "print(var)"
   ]
  },
  {
   "cell_type": "markdown",
   "id": "fede8940",
   "metadata": {},
   "source": [
    "# ----------------------------------------------------------------------------------------------------------------\n",
    "# Dictionary: "
   ]
  },
  {
   "cell_type": "code",
   "execution_count": 19,
   "id": "1c231616",
   "metadata": {},
   "outputs": [
    {
     "name": "stdout",
     "output_type": "stream",
     "text": [
      "Select some number for persons from following(select some random numbers for good understanding): \n",
      "1. Harsh\n",
      "2. Rohit\n",
      "3. Adarsh\n",
      "4. Ashima\n",
      "12 3 1 4 2 6 7\n",
      "Invalid choice!\n",
      "Adarsh\n",
      "Harsh\n",
      "Ashima\n",
      "Rohit\n",
      "Invalid choice!\n",
      "Invalid choice!\n"
     ]
    }
   ],
   "source": [
    "#script for menu driven program:\n",
    "print(\"Select some number for persons from following(select some random numbers for good understanding): \\n1. Harsh\\n2. Rohit\\n3. Adarsh\\n4. Ashima\")\n",
    "#taking multiple inputs will show us different casees\n",
    "numbers = [int(x) for x in input().split()]\n",
    "for i in numbers:\n",
    "    if i==1:\n",
    "        print(\"Harsh\")\n",
    "    elif i==2:\n",
    "        print(\"Rohit\")\n",
    "    elif i==3:\n",
    "        print(\"Adarsh\")\n",
    "    elif i==4:\n",
    "        print(\"Ashima\")\n",
    "    else:\n",
    "        print(\"Invalid choice!\")\n"
   ]
  },
  {
   "cell_type": "code",
   "execution_count": 20,
   "id": "8211801d",
   "metadata": {},
   "outputs": [
    {
     "name": "stdout",
     "output_type": "stream",
     "text": [
      "Select some number for persons from following(select some random numbers for good understanding): \n",
      "1. Harsh\n",
      "2. Rohit\n",
      "3. Adarsh\n",
      "4. Ashima\n",
      "1 3 42 2 4\n",
      "Harsh\n",
      "Adarsh\n",
      "Invalid choice!\n",
      "Rohit\n",
      "Ashima\n"
     ]
    }
   ],
   "source": [
    "#we can do similar using dictionary which do not uses this much if elif loops\n",
    "names = {\n",
    "1 : \"Harsh\",\n",
    "2 : \"Rohit\",\n",
    "3 : \"Adarsh\",\n",
    "4 : \"Ashima\"\n",
    "}\n",
    "\n",
    "print(\"Select some number for persons from following(select some random numbers for good understanding): \\n1. Harsh\\n2. Rohit\\n3. Adarsh\\n4. Ashima\")\n",
    "numbers = [int(x) for x in input().split()]\n",
    "for i in numbers :\n",
    "    #we can't use names.[i] here because that will show error if not found\t name.get() function returns 'None' instead of showing error if key not found\n",
    "    if names.get(i) is None:\t#here it checks directly at i. and do not checks for all if else for every input.\n",
    "        print(\"Invalid choice!\")\n",
    "    else:\n",
    "        print(names[i])"
   ]
  },
  {
   "cell_type": "code",
   "execution_count": 21,
   "id": "876d6aa4",
   "metadata": {},
   "outputs": [
    {
     "name": "stdout",
     "output_type": "stream",
     "text": [
      "<class 'list'>\n",
      "<class 'tuple'>\n"
     ]
    }
   ],
   "source": [
    "#we can have a list of tuples or list of list etc.. also\n",
    "lst=[(\"harsh\",100),(\"adarsh\",200),(\"ashima\",150)]\n",
    "print(type(lst))\n",
    "print(type(lst[0]))"
   ]
  }
 ],
 "metadata": {
  "kernelspec": {
   "display_name": "Python 3 (ipykernel)",
   "language": "python",
   "name": "python3"
  },
  "language_info": {
   "codemirror_mode": {
    "name": "ipython",
    "version": 3
   },
   "file_extension": ".py",
   "mimetype": "text/x-python",
   "name": "python",
   "nbconvert_exporter": "python",
   "pygments_lexer": "ipython3",
   "version": "3.8.10"
  }
 },
 "nbformat": 4,
 "nbformat_minor": 5
}
