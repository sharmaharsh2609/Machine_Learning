{
 "cells": [
  {
   "cell_type": "markdown",
   "id": "45f37c5b",
   "metadata": {},
   "source": [
    "### Iteration Protocols in Python:\n",
    "- **Iteration**: repetition of a process is called iteration.\n",
    "- **Iterable**: a python object which supports iteration.\n",
    "- **Iterator**: a python object to perform iteration on oterable."
   ]
  },
  {
   "cell_type": "markdown",
   "id": "b8d17cb1",
   "metadata": {},
   "source": [
    "- iteration is the process of repetition of a process.\n",
    "- iterable is an object using which we can perfrom  iteration upon it. eg- list, set, dictionary, range() etc.. as we can perform iteration upon them.\n",
    "- iterator is the object which handles and helps us to use iteration over iterable. eg- \n",
    "        for i in range(5)\n",
    "here 'i' is iterator which helps us to iterate over iterable 'range()'"
   ]
  },
  {
   "cell_type": "markdown",
   "id": "102863b6",
   "metadata": {},
   "source": [
    "- Generally whenever we use iterators, everything is handled by 2functions: \n",
    " #### 1. iter()\n",
    " #### 2. next()"
   ]
  },
  {
   "cell_type": "markdown",
   "id": "0762b6ad",
   "metadata": {},
   "source": [
    "- iter(object) function returns us the iterator of the class of passed object."
   ]
  },
  {
   "cell_type": "code",
   "execution_count": 5,
   "id": "98f9c4fd",
   "metadata": {},
   "outputs": [
    {
     "name": "stdout",
     "output_type": "stream",
     "text": [
      "<list_iterator object at 0x7fae18fc2820>\n"
     ]
    }
   ],
   "source": [
    "a = [1,2,3]\n",
    "\n",
    "x = iter(a) \n",
    "#iter(a) creates iterator for class of list and return that iterator which is stored inside 'x'\n",
    "print(x)"
   ]
  },
  {
   "cell_type": "markdown",
   "id": "16c6b2b9",
   "metadata": {},
   "source": [
    "- next(\\<iterator>) returns the element at current position and increments the pointer by 1 everytime it is called until the iterator is not reached to it's end.\n",
    "- So when we call it for first time, it returns a[0]. When we call next() again for same iterator, then it returns a[1]. For 3rd time, it returns a[3] and for next time, it shows **\"StopIteration\"** error."
   ]
  },
  {
   "cell_type": "code",
   "execution_count": 6,
   "id": "e21ac747",
   "metadata": {},
   "outputs": [
    {
     "name": "stdout",
     "output_type": "stream",
     "text": [
      "1\n",
      "2\n",
      "3\n"
     ]
    },
    {
     "ename": "StopIteration",
     "evalue": "",
     "output_type": "error",
     "traceback": [
      "\u001b[0;31m---------------------------------------------------------------------------\u001b[0m",
      "\u001b[0;31mStopIteration\u001b[0m                             Traceback (most recent call last)",
      "\u001b[0;32m/tmp/ipykernel_3083/1901097396.py\u001b[0m in \u001b[0;36m<module>\u001b[0;34m\u001b[0m\n\u001b[1;32m      2\u001b[0m \u001b[0mprint\u001b[0m\u001b[0;34m(\u001b[0m\u001b[0mnext\u001b[0m\u001b[0;34m(\u001b[0m\u001b[0mx\u001b[0m\u001b[0;34m)\u001b[0m\u001b[0;34m)\u001b[0m\u001b[0;34m\u001b[0m\u001b[0;34m\u001b[0m\u001b[0m\n\u001b[1;32m      3\u001b[0m \u001b[0mprint\u001b[0m\u001b[0;34m(\u001b[0m\u001b[0mnext\u001b[0m\u001b[0;34m(\u001b[0m\u001b[0mx\u001b[0m\u001b[0;34m)\u001b[0m\u001b[0;34m)\u001b[0m\u001b[0;34m\u001b[0m\u001b[0;34m\u001b[0m\u001b[0m\n\u001b[0;32m----> 4\u001b[0;31m \u001b[0mprint\u001b[0m\u001b[0;34m(\u001b[0m\u001b[0mnext\u001b[0m\u001b[0;34m(\u001b[0m\u001b[0mx\u001b[0m\u001b[0;34m)\u001b[0m\u001b[0;34m)\u001b[0m\u001b[0;34m\u001b[0m\u001b[0;34m\u001b[0m\u001b[0m\n\u001b[0m",
      "\u001b[0;31mStopIteration\u001b[0m: "
     ]
    }
   ],
   "source": [
    "print(next(x))\n",
    "print(next(x))\n",
    "print(next(x))\n",
    "print(next(x))"
   ]
  },
  {
   "cell_type": "markdown",
   "id": "a6ad7b52",
   "metadata": {},
   "source": [
    "### Creating iterables and iterators:\n",
    "- We can even create our own iterables and iterators.\n",
    "- In order to make a class an iterable, we need to write a magic function/dunder **\\_\\_iter__() inside that class. This dunder is called always whenever an iterable is used.\n",
    "- In order to make a class an iterator, we need to write dunder **\\_\\_next__() inside that class. This dunder is called whenever an iterator is used.\n",
    "- Let us create an iterable similar to as range()."
   ]
  },
  {
   "cell_type": "code",
   "execution_count": 23,
   "id": "11c6df75",
   "metadata": {},
   "outputs": [],
   "source": [
    "# Here we are creating iterable and iterator inside same class:\n",
    "class myrange:\n",
    "    def __init__(self,n):\n",
    "        self.i=0 # is is iterator which is 0 initially and incremented everytime in __next__()\n",
    "        self.n=n # n is size of iterable\n",
    "    \n",
    "#this dunder makes a 'class' an \"iterable\"\n",
    "    def __iter__(self):\n",
    "        return self # whenever we use iterable(eg- range() - we create instance of class range().)\n",
    "# When we use this iterable, then __iter__ returns object of that class.\n",
    "    \n",
    "# this dunder makes a 'class' an \"iterator\"\n",
    "    def __next__(self):\n",
    "        if self.i < self.n:\n",
    "            i = self.i\n",
    "            self.i += 1 #increment iterator by 1 in every iteration\n",
    "            return i #return previous value.\n",
    "# here we want to return the value and then increment. But that isn't possible. So we stored\n",
    "# initial value in 'var' then increment self.i and then return initial value i.e stored inside var\n",
    "        else:\n",
    "            raise StopIteration()"
   ]
  },
  {
   "cell_type": "markdown",
   "id": "8264e9b6",
   "metadata": {},
   "source": [
    "- Here we created iterator and iterable in same class. But this is a bad practice .(Reason is shown later below.)\n",
    "- As we created iterable and iterator. Now we can use it inside for loop as for loop syntax is:\n",
    "        for <iterator> in <itereable:>"
   ]
  },
  {
   "cell_type": "code",
   "execution_count": 24,
   "id": "f54a6ad0",
   "metadata": {},
   "outputs": [
    {
     "name": "stdout",
     "output_type": "stream",
     "text": [
      "0\n",
      "1\n",
      "2\n",
      "3\n",
      "4\n"
     ]
    }
   ],
   "source": [
    "for x in myrange(5):\n",
    "    print(x)"
   ]
  },
  {
   "cell_type": "markdown",
   "id": "ac4c2c63",
   "metadata": {},
   "source": [
    "- Now we can even use iter() and next() function also as this class is iterable and iterator."
   ]
  },
  {
   "cell_type": "code",
   "execution_count": 25,
   "id": "e717bf25",
   "metadata": {},
   "outputs": [
    {
     "name": "stdout",
     "output_type": "stream",
     "text": [
      "<__main__.myrange object at 0x7fae2a052d30>\n"
     ]
    }
   ],
   "source": [
    "y = myrange(5) #we create instance of class \"myrange\". \n",
    "print(y)"
   ]
  },
  {
   "cell_type": "markdown",
   "id": "169222bb",
   "metadata": {},
   "source": [
    "- y is an instance of class myrange().\n",
    "- Now we can use this 'y' object as iterable.\n",
    "- Also myrange class is both iterable and iterator. So our both iterator and iterable will be of same class."
   ]
  },
  {
   "cell_type": "code",
   "execution_count": 26,
   "id": "b908c72f",
   "metadata": {},
   "outputs": [
    {
     "name": "stdout",
     "output_type": "stream",
     "text": [
      "<__main__.myrange object at 0x7fae2a052d30>\n"
     ]
    }
   ],
   "source": [
    "my_itr = iter(y)\n",
    "print(my_itr)"
   ]
  },
  {
   "cell_type": "markdown",
   "id": "35bacfdf",
   "metadata": {},
   "source": [
    "- Here we created iterator \"my_itr\" for iterable 'y' using iter() function.\n",
    "- my_itr is object of class \"myrange\" as we see from output. Maybe iter(arg) function calls \\_\\_iter__ dunder of iterrable class passed as argument.\n",
    "- Now we can also use next() function on this iterable 'y' with help of iterator \"my_itr\"."
   ]
  },
  {
   "cell_type": "code",
   "execution_count": 27,
   "id": "5aa7c0e6",
   "metadata": {},
   "outputs": [
    {
     "name": "stdout",
     "output_type": "stream",
     "text": [
      "0\n",
      "1\n",
      "2\n",
      "3\n",
      "4\n"
     ]
    },
    {
     "ename": "StopIteration",
     "evalue": "",
     "output_type": "error",
     "traceback": [
      "\u001b[0;31m---------------------------------------------------------------------------\u001b[0m",
      "\u001b[0;31mStopIteration\u001b[0m                             Traceback (most recent call last)",
      "\u001b[0;32m/tmp/ipykernel_3083/1222260526.py\u001b[0m in \u001b[0;36m<module>\u001b[0;34m\u001b[0m\n\u001b[1;32m      4\u001b[0m \u001b[0mprint\u001b[0m\u001b[0;34m(\u001b[0m\u001b[0mnext\u001b[0m\u001b[0;34m(\u001b[0m\u001b[0mmy_itr\u001b[0m\u001b[0;34m)\u001b[0m\u001b[0;34m)\u001b[0m\u001b[0;34m\u001b[0m\u001b[0;34m\u001b[0m\u001b[0m\n\u001b[1;32m      5\u001b[0m \u001b[0mprint\u001b[0m\u001b[0;34m(\u001b[0m\u001b[0mnext\u001b[0m\u001b[0;34m(\u001b[0m\u001b[0mmy_itr\u001b[0m\u001b[0;34m)\u001b[0m\u001b[0;34m)\u001b[0m\u001b[0;34m\u001b[0m\u001b[0;34m\u001b[0m\u001b[0m\n\u001b[0;32m----> 6\u001b[0;31m \u001b[0mprint\u001b[0m\u001b[0;34m(\u001b[0m\u001b[0mnext\u001b[0m\u001b[0;34m(\u001b[0m\u001b[0mmy_itr\u001b[0m\u001b[0;34m)\u001b[0m\u001b[0;34m)\u001b[0m\u001b[0;34m\u001b[0m\u001b[0;34m\u001b[0m\u001b[0m\n\u001b[0m",
      "\u001b[0;32m/tmp/ipykernel_3083/1760146366.py\u001b[0m in \u001b[0;36m__next__\u001b[0;34m(self)\u001b[0m\n\u001b[1;32m     19\u001b[0m \u001b[0;31m# initial value in 'var' then increment self.i and then return initial value i.e stored inside var\u001b[0m\u001b[0;34m\u001b[0m\u001b[0;34m\u001b[0m\u001b[0;34m\u001b[0m\u001b[0m\n\u001b[1;32m     20\u001b[0m         \u001b[0;32melse\u001b[0m\u001b[0;34m:\u001b[0m\u001b[0;34m\u001b[0m\u001b[0;34m\u001b[0m\u001b[0m\n\u001b[0;32m---> 21\u001b[0;31m             \u001b[0;32mraise\u001b[0m \u001b[0mStopIteration\u001b[0m\u001b[0;34m(\u001b[0m\u001b[0;34m)\u001b[0m\u001b[0;34m\u001b[0m\u001b[0;34m\u001b[0m\u001b[0m\n\u001b[0m",
      "\u001b[0;31mStopIteration\u001b[0m: "
     ]
    }
   ],
   "source": [
    "print(next(my_itr))   # or      my_iter.__next__()\n",
    "print(next(my_itr))\n",
    "print(next(my_itr))\n",
    "print(next(my_itr))\n",
    "print(next(my_itr))\n",
    "print(next(my_itr))"
   ]
  },
  {
   "cell_type": "markdown",
   "id": "75eb9d6d",
   "metadata": {},
   "source": [
    "- here we can also use a single line and execute it for 5times again to test the outputs. 6lines are only written to explain everything without trying.\n",
    "- But this is a bad practice as both iterable and iterator are objects of same class.\n",
    "- Let us create 2 different classes for iterable and iterator."
   ]
  },
  {
   "cell_type": "code",
   "execution_count": 36,
   "id": "c7a72bb3",
   "metadata": {},
   "outputs": [],
   "source": [
    "#iterable class\n",
    "class somerange:\n",
    "    def __init__(self,n):\n",
    "        self.n = n\n",
    "    #this dunder makes class an iterable\n",
    "    def __iter__(self):\n",
    "        return somerange_iter(self.n) #return the object of iterator class and pass n as argument\n",
    "    \n",
    "#iterator class\n",
    "class somerange_iter:\n",
    "    def __init__(self,n):\n",
    "        self.i=0 #initialize iterator with 0\n",
    "        self.n = n\n",
    "    # this dunder makes a class an iterator\n",
    "    def __next__(self):\n",
    "        if self.i < self.n:\n",
    "            var = self.i\n",
    "            self.i += 1\n",
    "            return var\n",
    "        else:\n",
    "            raise StopIteration()"
   ]
  },
  {
   "cell_type": "code",
   "execution_count": 37,
   "id": "785d7eb6",
   "metadata": {},
   "outputs": [
    {
     "name": "stdout",
     "output_type": "stream",
     "text": [
      "0\n",
      "1\n",
      "2\n",
      "3\n",
      "4\n"
     ]
    }
   ],
   "source": [
    "for x in somerange(5):\n",
    "    print(x)"
   ]
  },
  {
   "cell_type": "markdown",
   "id": "68dbd96e",
   "metadata": {},
   "source": [
    "- The main differnce in using same class and different class for iterables and iterators is that in different class, iterable can be consumed more than once. But in same class iterable can only be consumed once."
   ]
  },
  {
   "cell_type": "code",
   "execution_count": 39,
   "id": "6c375420",
   "metadata": {},
   "outputs": [],
   "source": [
    "#eg-\n",
    "# same class\n",
    "z = somerange(5) #create an iterable 'z'"
   ]
  },
  {
   "cell_type": "code",
   "execution_count": 42,
   "id": "3803aa86",
   "metadata": {},
   "outputs": [
    {
     "name": "stdout",
     "output_type": "stream",
     "text": [
      "[0, 1, 2, 3, 4]\n",
      "[0, 1, 2, 3, 4]\n"
     ]
    }
   ],
   "source": [
    "# z is iterable of differenbt class\n",
    "print(list(z)) \n",
    "print(list(z))"
   ]
  },
  {
   "cell_type": "code",
   "execution_count": 45,
   "id": "168c2ac9",
   "metadata": {},
   "outputs": [
    {
     "name": "stdout",
     "output_type": "stream",
     "text": [
      "[0, 1, 2, 3, 4]\n",
      "[]\n"
     ]
    }
   ],
   "source": [
    "# y is iterable of same class .\n",
    "y = myrange(5)\n",
    "print(list(y)) \n",
    "print(list(y))"
   ]
  },
  {
   "cell_type": "markdown",
   "id": "8a3c8f92",
   "metadata": {},
   "source": [
    "- We can see the differnce: When using same class for iterable and iterator, we can consume our iterable only once. That's why using same class is bad practice."
   ]
  },
  {
   "cell_type": "markdown",
   "id": "fcc686e4",
   "metadata": {},
   "source": [
    "# Generators in python:\n",
    "- Python provides a **generator to create your own iterator function**. \n",
    "- A generator is a special type of function which **does not return a single value**, instead, **it returns an iterator object with a sequence of values**.\n",
    "- In a generator function, a ***yield*** statement is used rather than a **return** statement."
   ]
  },
  {
   "cell_type": "markdown",
   "id": "475b5369",
   "metadata": {},
   "source": [
    "- We studied iterators and iterables in same class are not useful. But they are required in some cases:  \n",
    "eg- create fibonnaci series( This is easier with having iterables and iterators in same class)\n",
    "- In fibonacci series we are given initially with 2 numbers: 0, 1    ... Then we add these 2 to get next number=1+0=1.. In next step we add current and previous=1+1=2 .. In next step 2+1=3, 3+2=5, 5+3=8, 8+5=13 ...."
   ]
  },
  {
   "cell_type": "markdown",
   "id": "f1bb4aa3",
   "metadata": {},
   "source": [
    "**0 1** 1 2 3 5 8 13 21 34 ......"
   ]
  },
  {
   "cell_type": "code",
   "execution_count": 9,
   "id": "f78de639",
   "metadata": {},
   "outputs": [],
   "source": [
    "class fib:\n",
    "    def __init__(self):\n",
    "        self.prev=0     #initial val of previous\n",
    "        self.cur=1      #initial val of current\n",
    "        \n",
    "    def __iter__(self):\n",
    "        return self     # return self as iterator is also in same class.\n",
    "    def  __next__(self):\n",
    "        # return previous value and move to one step forward.\n",
    "        tmp = self.prev\n",
    "        self.prev = self.cur\n",
    "        self.cur = self.cur + tmp  # tmp is prev\n",
    "        return tmp  "
   ]
  },
  {
   "cell_type": "code",
   "execution_count": 10,
   "id": "99f87642",
   "metadata": {},
   "outputs": [
    {
     "name": "stdout",
     "output_type": "stream",
     "text": [
      "0\n",
      "1\n",
      "1\n",
      "2\n",
      "3\n"
     ]
    }
   ],
   "source": [
    "f = iter(fib())\n",
    "print(next(f))   # or f.__next__()\n",
    "print(next(f))\n",
    "print(next(f))\n",
    "print(next(f))\n",
    "print(next(f))"
   ]
  },
  {
   "cell_type": "markdown",
   "id": "5534aafb",
   "metadata": {},
   "source": [
    "- Here a long code is requiredd to create itereators.\n",
    "- Using **generators**, we can do this same thing using functions and code length is also small.\n",
    "- ##### To make a function a **generator function**, yield keyword is required inside it.\n",
    "    - yield statement is used in place of return statement. But without any yiled, function is comsidered as normal function.\n",
    "    - yield returns an iterator object which contains different value in every iteration."
   ]
  },
  {
   "cell_type": "code",
   "execution_count": 18,
   "id": "4573aec0",
   "metadata": {},
   "outputs": [],
   "source": [
    "#generator function\n",
    "def fib():\n",
    "    prev, cur = 0,1 #initialize prev and cur with 0 and 1\n",
    "    while True:\n",
    "        yield prev\n",
    "        prev, cur = cur, cur+prev"
   ]
  },
  {
   "cell_type": "code",
   "execution_count": 36,
   "id": "c138e5ef",
   "metadata": {},
   "outputs": [],
   "source": [
    "gen = fib()"
   ]
  },
  {
   "cell_type": "code",
   "execution_count": 37,
   "id": "a37d22cf",
   "metadata": {},
   "outputs": [
    {
     "name": "stdout",
     "output_type": "stream",
     "text": [
      "0\n",
      "1\n",
      "1\n",
      "2\n",
      "3\n"
     ]
    }
   ],
   "source": [
    "print(next(gen))      # or  r  gen.__next__()\n",
    "print(next(gen))\n",
    "print(next(gen))\n",
    "print(next(gen))\n",
    "print(next(gen))"
   ]
  },
  {
   "cell_type": "markdown",
   "id": "246e62dd",
   "metadata": {},
   "source": [
    "- **fib** is a simple function but calling fib as **fib()** is a generator if there is yield statement inside function.\n",
    " - That is why we stored function call inside 'gen' keyword above."
   ]
  },
  {
   "cell_type": "code",
   "execution_count": 39,
   "id": "e943d4ab",
   "metadata": {},
   "outputs": [
    {
     "name": "stdout",
     "output_type": "stream",
     "text": [
      "<class 'function'>\n",
      "<class 'generator'>\n"
     ]
    }
   ],
   "source": [
    "# another eg- \n",
    "print(type(fib))\n",
    "print(type(fib()))"
   ]
  },
  {
   "cell_type": "markdown",
   "id": "a7485fd2",
   "metadata": {},
   "source": [
    "### Generator expressions:\n",
    "- Python provides us an expression to create generators as:\n",
    "        gen = ( x**2 for x in range(1,6) )\n",
    "- This is a generator and not a tuple comprehension. There is only list comprehension. No other comprehension like tuple, set, dcitionary etc. They all do not exist. So, Using paranthesis is creating a generator and not a tuple comrehension"
   ]
  },
  {
   "cell_type": "code",
   "execution_count": 48,
   "id": "2e7dc0ef",
   "metadata": {},
   "outputs": [],
   "source": [
    "gen = ( x**2 for x in range(1,6) )"
   ]
  },
  {
   "cell_type": "code",
   "execution_count": 49,
   "id": "20d32fca",
   "metadata": {},
   "outputs": [
    {
     "name": "stdout",
     "output_type": "stream",
     "text": [
      "1\n",
      "4\n",
      "9\n",
      "16\n",
      "25\n"
     ]
    },
    {
     "ename": "StopIteration",
     "evalue": "",
     "output_type": "error",
     "traceback": [
      "\u001b[0;31m---------------------------------------------------------------------------\u001b[0m",
      "\u001b[0;31mStopIteration\u001b[0m                             Traceback (most recent call last)",
      "\u001b[0;32m/tmp/ipykernel_3652/3502952055.py\u001b[0m in \u001b[0;36m<module>\u001b[0;34m\u001b[0m\n\u001b[1;32m      4\u001b[0m \u001b[0mprint\u001b[0m\u001b[0;34m(\u001b[0m\u001b[0mnext\u001b[0m\u001b[0;34m(\u001b[0m\u001b[0mgen\u001b[0m\u001b[0;34m)\u001b[0m\u001b[0;34m)\u001b[0m\u001b[0;34m\u001b[0m\u001b[0;34m\u001b[0m\u001b[0m\n\u001b[1;32m      5\u001b[0m \u001b[0mprint\u001b[0m\u001b[0;34m(\u001b[0m\u001b[0mnext\u001b[0m\u001b[0;34m(\u001b[0m\u001b[0mgen\u001b[0m\u001b[0;34m)\u001b[0m\u001b[0;34m)\u001b[0m\u001b[0;34m\u001b[0m\u001b[0;34m\u001b[0m\u001b[0m\n\u001b[0;32m----> 6\u001b[0;31m \u001b[0mprint\u001b[0m\u001b[0;34m(\u001b[0m\u001b[0mnext\u001b[0m\u001b[0;34m(\u001b[0m\u001b[0mgen\u001b[0m\u001b[0;34m)\u001b[0m\u001b[0;34m)\u001b[0m\u001b[0;34m\u001b[0m\u001b[0;34m\u001b[0m\u001b[0m\n\u001b[0m",
      "\u001b[0;31mStopIteration\u001b[0m: "
     ]
    }
   ],
   "source": [
    "print(next(gen))\n",
    "print(next(gen))\n",
    "print(next(gen))\n",
    "print(next(gen))\n",
    "print(next(gen))\n",
    "print(next(gen))"
   ]
  },
  {
   "cell_type": "markdown",
   "id": "1ff4fa4e",
   "metadata": {},
   "source": [
    "- Here we created a generator which yileds squares and returns squares in each iteration.\n",
    "- and when we reach end, it shows StopIteration error."
   ]
  }
 ],
 "metadata": {
  "kernelspec": {
   "display_name": "Python 3 (ipykernel)",
   "language": "python",
   "name": "python3"
  },
  "language_info": {
   "codemirror_mode": {
    "name": "ipython",
    "version": 3
   },
   "file_extension": ".py",
   "mimetype": "text/x-python",
   "name": "python",
   "nbconvert_exporter": "python",
   "pygments_lexer": "ipython3",
   "version": "3.8.10"
  }
 },
 "nbformat": 4,
 "nbformat_minor": 5
}
