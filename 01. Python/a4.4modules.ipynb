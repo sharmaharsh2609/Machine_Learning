{
 "cells": [
  {
   "cell_type": "markdown",
   "id": "91c7b70d",
   "metadata": {},
   "source": [
    "- open directory 'a4.5modules' to study about modules and packages.\n",
    "- Modules is important topic"
   ]
  },
  {
   "cell_type": "markdown",
   "id": "e6c04ca5",
   "metadata": {},
   "source": [
    "- Whenever we import any module or library, it first compile all the code of that library.\n",
    "<br>eg- import numpy , on executing this command, it first compile all the code inside numpy library. That is why it takes some time for importing some modules. Because and large libraries take some time to execute fully.\n",
    "- This is also the reason we are able to use methods of the numpy module inside our current program. Because on compiling a library, all the functions and variables of that library are defined in current python shell and we can use those functions now.\n",
    "- It is same in C++ and other languages also. In C++, #include\\<library> , this library is executed fully. "
   ]
  },
  {
   "cell_type": "markdown",
   "id": "532744a1",
   "metadata": {},
   "source": [
    "Interview Ques.- There are 5lines of code in a file. But when we execute that file, 330 lines are executed. Why?\n",
    "Anns. This is because there are some libraries imported in those 5lines using #include or import etc.. which also execute there whole code."
   ]
  }
 ],
 "metadata": {
  "kernelspec": {
   "display_name": "Python 3 (ipykernel)",
   "language": "python",
   "name": "python3"
  },
  "language_info": {
   "codemirror_mode": {
    "name": "ipython",
    "version": 3
   },
   "file_extension": ".py",
   "mimetype": "text/x-python",
   "name": "python",
   "nbconvert_exporter": "python",
   "pygments_lexer": "ipython3",
   "version": "3.8.10"
  }
 },
 "nbformat": 4,
 "nbformat_minor": 5
}
