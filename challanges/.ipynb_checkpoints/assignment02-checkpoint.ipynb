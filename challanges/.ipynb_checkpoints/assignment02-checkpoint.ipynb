{
 "cells": [
  {
   "cell_type": "markdown",
   "id": "54eceeb4",
   "metadata": {},
   "source": [
    "## Task: write a python script to implement cout<< \"text\" using class and objects"
   ]
  },
  {
   "cell_type": "code",
   "execution_count": 1,
   "id": "f9aad211",
   "metadata": {},
   "outputs": [
    {
     "name": "stdout",
     "output_type": "stream",
     "text": [
      "Harsh Sharma"
     ]
    },
    {
     "data": {
      "text/plain": [
       "<__main__.output at 0x7fc0ac3874f0>"
      ]
     },
     "execution_count": 1,
     "metadata": {},
     "output_type": "execute_result"
    }
   ],
   "source": [
    "class output :\n",
    "    def __lshift__(self, other):  #  __lshift__ is called on using operator <<\n",
    "        print(other,end='')\n",
    "        return self\n",
    "\n",
    "cout = output()\n",
    "cout << \"Harsh \" << \"Sharma\" \n",
    "# this is same as cout.__lshift__(\"Harsh \").__lshift__(\"Sharma\")"
   ]
  },
  {
   "cell_type": "markdown",
   "id": "355db942",
   "metadata": {},
   "source": [
    "- here we create a class output(or any name you want) and we rewrite '\\__lshift__' dunder to a new definition. Then we create an object named 'cout' of class 'output'  \n",
    "- Note: here return self is neccessary for executing multiple '<<' .\n",
    "- we use cout<<\"Harsh \"<<\"Sharma which is like Obj1 << Obj2 << Obj3 , where Obj1 is object 'cout' of class output that we defined here and Obj2 & Obj3 are both objects of class 'string' which is pre-defined.\n",
    "##### Output of above last statement explanation :\n",
    "-\\__lshift__ dunder is called when we encounter a '<<' operator \n",
    "- When we encounter first left_shift operator then Obj1 << Obj2 calls \\__lshift__ dunder. Now in \\__lshift__ definition, we print the Obj2 and return self\n",
    "- After returning from dunder, result is: **cout << \"Sharma\" ** as cout << \"Harsh\" returns cout after printing \"Harsh\" .\n",
    "- Now again << is met and it again calls \\__lshift__ dunder for Obj1 << Obj3 , now it prints Obj3 and returns Obj1 i.e - cout.\n",
    "- At last we are remaining with Obj1(cout) , on executing this, it prints address of object 'cout'.\n"
   ]
  },
  {
   "cell_type": "code",
   "execution_count": 2,
   "id": "93599916",
   "metadata": {},
   "outputs": [
    {
     "name": "stdout",
     "output_type": "stream",
     "text": [
      "5\n",
      "0\n"
     ]
    }
   ],
   "source": [
    "# try to implement cin>>a>>b\n",
    "class inp :\n",
    "    def __rshift__(self, other):\n",
    "        other = input()\n",
    "\n",
    "cin = inp()\n",
    "a=0\n",
    "cin >> a \n",
    "print(a)\n",
    "\n",
    "# I'm not able to do this. Maybe this is not possible to do. Let us try it later..."
   ]
  }
 ],
 "metadata": {
  "kernelspec": {
   "display_name": "Python 3 (ipykernel)",
   "language": "python",
   "name": "python3"
  },
  "language_info": {
   "codemirror_mode": {
    "name": "ipython",
    "version": 3
   },
   "file_extension": ".py",
   "mimetype": "text/x-python",
   "name": "python",
   "nbconvert_exporter": "python",
   "pygments_lexer": "ipython3",
   "version": "3.8.10"
  }
 },
 "nbformat": 4,
 "nbformat_minor": 5
}
