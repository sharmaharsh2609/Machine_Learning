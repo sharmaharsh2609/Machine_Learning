{
 "cells": [
  {
   "cell_type": "markdown",
   "id": "2b15543c",
   "metadata": {},
   "source": [
    "**QUES.** Given an integer 'n'. Print all the possible pairs of 'n' balanced parentheses.\n",
    "The output strings should be printed in the sorted order considering '(' has higher value than ')'. "
   ]
  },
  {
   "cell_type": "markdown",
   "id": "4f995469",
   "metadata": {},
   "source": [
    "- This is a **recursion and backtracking question** combined. This is a very popular question. It is asked in facebook, apple, amazon, google etc..\n",
    "##### https://youtu.be/dhqdjOdOXtk\n",
    "- Copy this link and paste in browser: it opens a video which has complete explanation for this program."
   ]
  },
  {
   "cell_type": "code",
   "execution_count": 1,
   "id": "7b40eb0a",
   "metadata": {},
   "outputs": [
    {
     "name": "stdout",
     "output_type": "stream",
     "text": [
      "2\n",
      "()()\n",
      "(())\n"
     ]
    }
   ],
   "source": [
    "def generateParenthesis(arr, openB, closeB, n):\n",
    "\tif(closeB==n):\n",
    "\t\tfor i in range(2*n):\n",
    "\t\t\tprint(arr[i], end='')\n",
    "\t\tprint()\n",
    "\telse:\n",
    "\t\tif(closeB<openB):\n",
    "\t\t\tarr.append(')')\n",
    "\t\t\tgenerateParenthesis(arr, openB, closeB+1, n)\n",
    "\t\t\tarr.pop()   #for backtracking, we need to do this after every iteration.\n",
    "\t\tif(openB<n):\n",
    "\t\t\tarr.append('(')\n",
    "\t\t\tgenerateParenthesis(arr, openB+1, closeB, n)\n",
    "\t\t\tarr.pop()\n",
    "\n",
    "if __name__ == \"__main__\":\n",
    "\tn=int(input())\n",
    "\tarr = []\n",
    "\tgenerateParenthesis(arr, 0, 0, n)\n"
   ]
  },
  {
   "cell_type": "markdown",
   "id": "ebb026f6",
   "metadata": {},
   "source": [
    "### Quicksort:\n",
    "- Program for sorting with quicksort. But **use any random element as pivot**:"
   ]
  },
  {
   "cell_type": "code",
   "execution_count": 2,
   "id": "0661f326",
   "metadata": {},
   "outputs": [
    {
     "name": "stdout",
     "output_type": "stream",
     "text": [
      "5\n",
      "4 3 6 1 5\n",
      "1 3 4 5 6 "
     ]
    }
   ],
   "source": [
    "import random\n",
    " \n",
    "def partition(a, lo, hi):\n",
    "    r = random.randrange(lo, hi+1)\n",
    " \n",
    "\t#swap\n",
    "    a[hi], a[r] = a[r], a[hi]  #make random index element last and make it pivot\n",
    "    pi = a[hi]\t#last element is pivot which is random element\n",
    "    \n",
    "    i=(lo-1)\n",
    "    for j in range(lo, hi):  # 'hi' is pivot element, don;t include it in for loop \t\n",
    "        if a[j] < a[hi] :\n",
    "            i+=1\n",
    "            a[i], a[j] = a[j], a[i]  #swap\n",
    "    i+=1\n",
    "    a[i],a[hi] = a[hi], a[i] #swap\n",
    "    return i\n",
    "\n",
    "\n",
    "def quicksort(arr, low , high):\n",
    "    if(low < high):\n",
    "        part = partition(arr, low, high)  # 'part' is partition index\n",
    "         \n",
    "        quicksort(arr , low, part-1)\n",
    "        quicksort(arr, part+1, high)\n",
    "\n",
    "\n",
    "# Driver Code\n",
    "if __name__ == \"__main__\":\n",
    "\tn=int(input())\t\n",
    "\ta = [int(x) for x in input().split()]\n",
    "\tquicksort(a, 0, n-1)\n",
    "\tfor i in a:\n",
    "\t\tprint(i, end=' ')"
   ]
  }
 ],
 "metadata": {
  "kernelspec": {
   "display_name": "Python 3 (ipykernel)",
   "language": "python",
   "name": "python3"
  },
  "language_info": {
   "codemirror_mode": {
    "name": "ipython",
    "version": 3
   },
   "file_extension": ".py",
   "mimetype": "text/x-python",
   "name": "python",
   "nbconvert_exporter": "python",
   "pygments_lexer": "ipython3",
   "version": "3.8.10"
  }
 },
 "nbformat": 4,
 "nbformat_minor": 5
}
