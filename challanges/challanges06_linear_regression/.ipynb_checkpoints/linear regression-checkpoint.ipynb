{
 "cells": [
  {
   "cell_type": "markdown",
   "id": "b25421a3",
   "metadata": {},
   "source": [
    "## Hardwork pays off challange:\n",
    "- In this challenge we are given a X array which stores the time spent by each student for studying ans Y array which stores the results.\n",
    "- And in test_data, we are given a X_test array which stores the time spent by some other students for studying and we have to find the results of these X_test.\n",
    "- We have tp submit result in csv file, sample csv file isgiven in test folder."
   ]
  },
  {
   "cell_type": "code",
   "execution_count": 2,
   "id": "d9f19f1d",
   "metadata": {},
   "outputs": [],
   "source": [
    "import pandas as pd, numpy as np, matplotlib.pyplot as plt\n",
    "from warnings import filterwarnings\n",
    "filterwarnings('ignore')"
   ]
  },
  {
   "cell_type": "code",
   "execution_count": 5,
   "id": "a81de7b3",
   "metadata": {},
   "outputs": [
    {
     "data": {
      "text/plain": [
       "((3750, 1), (3750, 1))"
      ]
     },
     "execution_count": 5,
     "metadata": {},
     "output_type": "execute_result"
    }
   ],
   "source": [
    "X_train = pd.read_csv(\"./Train/Linear_X_Train.csv\")\n",
    "Y_train = pd.read_csv(\"./Train/Linear_Y_Train.csv\")\n",
    "\n",
    "X_train.shape, Y_train.shape"
   ]
  },
  {
   "cell_type": "markdown",
   "id": "50a7b1be",
   "metadata": {},
   "source": [
    "- There are 3750 students study time in x and result in y label"
   ]
  },
  {
   "cell_type": "code",
   "execution_count": 6,
   "id": "a269246d",
   "metadata": {},
   "outputs": [
    {
     "data": {
      "text/plain": [
       "((3750, 1), (3750, 1))"
      ]
     },
     "execution_count": 6,
     "metadata": {},
     "output_type": "execute_result"
    }
   ],
   "source": [
    "# convert to numpy array as working with numpy array is easier \n",
    "X_train = X_train.values\n",
    "Y_train = Y_train.values\n",
    "X_train.shape, Y_train.shape"
   ]
  },
  {
   "cell_type": "markdown",
   "id": "52798f2e",
   "metadata": {},
   "source": [
    "### Data Visualization:"
   ]
  },
  {
   "cell_type": "code",
   "execution_count": 7,
   "id": "1dac5b48",
   "metadata": {},
   "outputs": [],
   "source": [
    "plt.style.use('seaborn')"
   ]
  },
  {
   "cell_type": "code",
   "execution_count": 10,
   "id": "65487bb2",
   "metadata": {},
   "outputs": [
    {
     "data": {
      "image/png": "[encoded data removed]",
      "text/plain": [
       "<Figure size 576x396 with 1 Axes>"
      ]
     },
     "metadata": {},
     "output_type": "display_data"
    }
   ],
   "source": [
    "plt.scatter(X_train, Y_train)\n",
    "plt.show()"
   ]
  },
  {
   "cell_type": "code",
   "execution_count": 11,
   "id": "d4a8e559",
   "metadata": {},
   "outputs": [
    {
     "data": {
      "text/plain": [
       "(-0.03779466168006854, 0.9920801322508517)"
      ]
     },
     "execution_count": 11,
     "metadata": {},
     "output_type": "execute_result"
    }
   ],
   "source": [
    "np.mean(X_train), np.std(X_train)"
   ]
  },
  {
   "cell_type": "markdown",
   "id": "20adb46e",
   "metadata": {},
   "source": [
    "- It is a standard normal distribution or close to that as mean=0 and std=1"
   ]
  },
  {
   "cell_type": "code",
   "execution_count": null,
   "id": "33596faf",
   "metadata": {},
   "outputs": [],
   "source": []
  },
  {
   "cell_type": "markdown",
   "id": "38411789",
   "metadata": {},
   "source": [
    "### Implementation of gradient descent to find best theta values"
   ]
  },
  {
   "cell_type": "code",
   "execution_count": 13,
   "id": "6c31490d",
   "metadata": {},
   "outputs": [],
   "source": [
    "## create hypothesis function\n",
    "def hypothesis(x,theta):\n",
    "    y_ = theta[0] + theta[1]*x\n",
    "    return y_"
   ]
  },
  {
   "cell_type": "code",
   "execution_count": 15,
   "id": "6168149f",
   "metadata": {},
   "outputs": [],
   "source": [
    "# calculate gradient\n",
    "def gradient(X, Y, theta):\n",
    "    grad = np.zeros((2,))  # create empty vector to store grad[0] and grad[1]\n",
    "    m = X.shape[0]\n",
    "    for i in range(m):\n",
    "        x = X[i]\n",
    "        y = Y[i]\n",
    "        y_ = hypothesis(x, theta)\n",
    "        grad[0] += (y_ - y)\n",
    "        grad[1] += (y_ - y)*x\n",
    "\n",
    "    return grad/m"
   ]
  },
  {
   "cell_type": "code",
   "execution_count": 35,
   "id": "f99478d7",
   "metadata": {},
   "outputs": [],
   "source": [
    "### This step is only for visualization and not required in the main algo\n",
    "def error(X,Y,theta):\n",
    "    m = X.shape[0]\n",
    "    total_error = 0.0\n",
    "    for i in range(m):\n",
    "        y_ = hypothesis(X[i],theta)\n",
    "        total_error += (y_ - Y[i])**2\n",
    "    return total_error/m"
   ]
  },
  {
   "cell_type": "code",
   "execution_count": 37,
   "id": "e9fdc843",
   "metadata": {},
   "outputs": [],
   "source": [
    "def grad_descent(X, Y, max_steps=100, learning_rate=0.1):\n",
    "    theta = np.zeros((2,)) # create empty vector to store theta\n",
    "    \n",
    "    error_list = []  # store error at each step\n",
    "    for i in range(max_steps):\n",
    "        grad = gradient(X, Y, theta)\n",
    "        \n",
    "        ## update theta rule:\n",
    "        theta[0] = theta[0] - learning_rate*grad[0]\n",
    "        theta[1] = theta[1] - learning_rate*grad[1]\n",
    "    \n",
    "        error_list.append(error(X,Y,theta))\n",
    "    return theta, error_list"
   ]
  },
  {
   "cell_type": "code",
   "execution_count": 38,
   "id": "a21c3a7d",
   "metadata": {},
   "outputs": [
    {
     "data": {
      "text/plain": [
       "array([ 3.72687896, 80.54086647])"
      ]
     },
     "execution_count": 38,
     "metadata": {},
     "output_type": "execute_result"
    }
   ],
   "source": [
    "theta, error_list = grad_descent(X_train, Y_train)\n",
    "theta"
   ]
  },
  {
   "cell_type": "markdown",
   "id": "33c1c503",
   "metadata": {},
   "source": [
    "- We've got best theta values. Now, we can try on our test data.\n",
    "- Before that, we can visualize our error. How our error decreased in each step as we've stored error already in a list. "
   ]
  },
  {
   "cell_type": "code",
   "execution_count": 39,
   "id": "2e680f55",
   "metadata": {},
   "outputs": [
    {
     "data": {
      "text/plain": [
       "[array([5382.10116306]),\n",
       " array([4411.49946152]),\n",
       " array([3622.60756627]),\n",
       " array([2981.36244807]),\n",
       " array([2460.09492819]),\n",
       " array([2036.32790862]),\n",
       " array([1691.80078718]),\n",
       " array([1411.67742971]),\n",
       " array([1183.90311642]),\n",
       " array([998.68240386]),\n",
       " array([848.05513558]),\n",
       " array([725.55212733]),\n",
       " array([625.91553452]),\n",
       " array([544.87173451]),\n",
       " array([478.94684832]),\n",
       " array([425.31688589]),\n",
       " array([381.68600791]),\n",
       " array([346.18762175]),\n",
       " array([317.30402305]),\n",
       " array([293.8011006]),\n",
       " array([274.67527734]),\n",
       " array([259.1103913]),\n",
       " array([246.44265199]),\n",
       " array([236.13215782]),\n",
       " array([227.7397446]),\n",
       " array([220.90816592]),\n",
       " array([215.34679392]),\n",
       " array([210.819181]),\n",
       " array([207.13294679]),\n",
       " array([204.13155518]),\n",
       " array([201.6876277]),\n",
       " array([199.69750573]),\n",
       " array([198.07682823]),\n",
       " array([196.75693483]),\n",
       " array([195.6819403]),\n",
       " array([194.80635471]),\n",
       " array([194.09314753]),\n",
       " array([193.51217265]),\n",
       " array([193.03888696]),\n",
       " array([192.65330781]),\n",
       " array([192.33916462]),\n",
       " array([192.08320849]),\n",
       " array([191.87465045]),\n",
       " array([191.70470416]),\n",
       " array([191.56621378]),\n",
       " array([191.45335109]),\n",
       " array([191.36136885]),\n",
       " array([191.28640014]),\n",
       " array([191.2252949]),\n",
       " array([191.17548693]),\n",
       " array([191.1348855]),\n",
       " array([191.10178723]),\n",
       " array([191.07480419]),\n",
       " array([191.05280545]),\n",
       " array([191.03486945]),\n",
       " array([191.02024517]),\n",
       " array([191.00832058]),\n",
       " array([190.99859683]),\n",
       " array([190.99066737]),\n",
       " array([190.9842008]),\n",
       " array([190.97892701]),\n",
       " array([190.97462577]),\n",
       " array([190.97111759]),\n",
       " array([190.96825611]),\n",
       " array([190.96592203]),\n",
       " array([190.96401804]),\n",
       " array([190.96246484]),\n",
       " array([190.96119774]),\n",
       " array([190.960164]),\n",
       " array([190.95932061]),\n",
       " array([190.95863249]),\n",
       " array([190.95807102]),\n",
       " array([190.95761289]),\n",
       " array([190.95723905]),\n",
       " array([190.95693399]),\n",
       " array([190.95668504]),\n",
       " array([190.95648188]),\n",
       " array([190.95631607]),\n",
       " array([190.95618074]),\n",
       " array([190.95607029]),\n",
       " array([190.95598014]),\n",
       " array([190.95590656]),\n",
       " array([190.95584649]),\n",
       " array([190.95579746]),\n",
       " array([190.95575744]),\n",
       " array([190.95572476]),\n",
       " array([190.95569809]),\n",
       " array([190.95567631]),\n",
       " array([190.95565853]),\n",
       " array([190.95564401]),\n",
       " array([190.95563216]),\n",
       " array([190.95562248]),\n",
       " array([190.95561458]),\n",
       " array([190.95560812]),\n",
       " array([190.95560285]),\n",
       " array([190.95559855]),\n",
       " array([190.95559504]),\n",
       " array([190.95559217]),\n",
       " array([190.95558982]),\n",
       " array([190.95558791])]"
      ]
     },
     "execution_count": 39,
     "metadata": {},
     "output_type": "execute_result"
    }
   ],
   "source": [
    "error_list"
   ]
  },
  {
   "cell_type": "code",
   "execution_count": 41,
   "id": "942db13c",
   "metadata": {},
   "outputs": [
    {
     "data": {
      "image/png": "[encoded data removed]",
      "text/plain": [
       "<Figure size 576x396 with 1 Axes>"
      ]
     },
     "metadata": {},
     "output_type": "display_data"
    }
   ],
   "source": [
    "plt.plot(error_list)\n",
    "plt.show()"
   ]
  },
  {
   "cell_type": "markdown",
   "id": "c14000ce",
   "metadata": {},
   "source": [
    "- Like this, our error a 1st iteration is more than 5000 and after around 30 iterations, it comes to a saturation point of minimum error."
   ]
  },
  {
   "cell_type": "markdown",
   "id": "1c0ca2d7",
   "metadata": {},
   "source": [
    "- We can write the wholw above code in a single cell. As we need error only for visualization, we can skip that here."
   ]
  },
  {
   "cell_type": "code",
   "execution_count": 42,
   "id": "4040a461",
   "metadata": {},
   "outputs": [],
   "source": [
    "def hypothesis(x,theta):\n",
    "\n",
    "    y_ = theta[0] + theta[1]*x\n",
    "    return y_\n",
    "\n",
    "def gradient(X,Y,theta):\n",
    "    m = X.shape[0]\n",
    "    grad = np.zeros((2,))\n",
    "    for i in range(m):\n",
    "        x = X[i]\n",
    "        y_ = hypothesis(x,theta)  \n",
    "        y = Y[i]\n",
    "        grad[0] += (y_ - y)\n",
    "        grad[1] += (y_ - y)*x\n",
    "    return grad/m\n",
    "\n",
    "# def error(X,Y,theta):\n",
    "#     m = X.shape[0]\n",
    "#     total_error = 0.0\n",
    "#     for i in range(m):\n",
    "#         y_ = hypothesis(X[i],theta)\n",
    "#         total_error += (y_ - Y[i])**2\n",
    "        \n",
    "#     return (total_error/m)\n",
    "    \n",
    "\n",
    "def gradientDescent(X,Y,max_steps=100,learning_rate =0.1):\n",
    "    \n",
    "    theta = np.zeros((2,))\n",
    "#     error_list = []\n",
    "#     theta_list = []\n",
    "    \n",
    "    for i in range(max_steps):\n",
    "        \n",
    "        # Compute grad\n",
    "        grad = gradient(X,Y,theta)\n",
    "#         e = error(X,Y,theta)[0]\n",
    "        \n",
    "        \n",
    "        #Update theta\n",
    "        theta[0] = theta[0] - learning_rate*grad[0]\n",
    "        theta[1] = theta[1] - learning_rate*grad[1]\n",
    "        # Storing the theta values during updates\n",
    "#         theta_list.append((theta[0],theta[1]))\n",
    "#         error_list.append(e)\n",
    "        \n",
    "#     return theta,error_list,theta_list\n",
    "    return theta"
   ]
  },
  {
   "cell_type": "code",
   "execution_count": 43,
   "id": "85adbce7",
   "metadata": {},
   "outputs": [
    {
     "data": {
      "text/plain": [
       "array([ 3.72687896, 80.54086647])"
      ]
     },
     "execution_count": 43,
     "metadata": {},
     "output_type": "execute_result"
    }
   ],
   "source": [
    "# theta, error_lst, theta_lst= gradientDescent(X_train, Y_train)\n",
    "theta = gradientDescent(X_train, Y_train)\n",
    "theta"
   ]
  },
  {
   "cell_type": "code",
   "execution_count": null,
   "id": "a612d4d2",
   "metadata": {},
   "outputs": [],
   "source": []
  },
  {
   "cell_type": "code",
   "execution_count": null,
   "id": "5af4bb25",
   "metadata": {},
   "outputs": [],
   "source": []
  },
  {
   "cell_type": "markdown",
   "id": "1f25f251",
   "metadata": {},
   "source": [
    "### Testing part"
   ]
  },
  {
   "cell_type": "code",
   "execution_count": 44,
   "id": "e7362165",
   "metadata": {},
   "outputs": [
    {
     "data": {
      "text/plain": [
       "(1250, 1)"
      ]
     },
     "execution_count": 44,
     "metadata": {},
     "output_type": "execute_result"
    }
   ],
   "source": [
    "X_test = pd.read_csv(\"./Test/Linear_X_Test.csv\")\n",
    "X_test = X_test.values\n",
    "X_test.shape"
   ]
  },
  {
   "cell_type": "code",
   "execution_count": 47,
   "id": "b86b188d",
   "metadata": {},
   "outputs": [
    {
     "data": {
      "text/plain": [
       "array([[-147.52439132],\n",
       "       [ -66.26570453],\n",
       "       [-200.05620583],\n",
       "       ...,\n",
       "       [  14.03673979],\n",
       "       [ -18.66650943],\n",
       "       [ -51.07517461]])"
      ]
     },
     "execution_count": 47,
     "metadata": {},
     "output_type": "execute_result"
    }
   ],
   "source": [
    "Y_pred = hypothesis(X_test, theta)  \n",
    "Y_pred"
   ]
  },
  {
   "cell_type": "code",
   "execution_count": null,
   "id": "3d004442",
   "metadata": {},
   "outputs": [],
   "source": []
  },
  {
   "cell_type": "code",
   "execution_count": 45,
   "id": "66322946",
   "metadata": {},
   "outputs": [],
   "source": [
    "## use hypothesis function and our calculated best value of theta to find the \n",
    "Y_pred = hypothesis(X_test, theta)  \n",
    "Y_pred = pd.DataFrame(Y_pred, columns=[\"y\"])\n",
    "Y_pred.to_csv(\"Output.csv\", index = False)"
   ]
  },
  {
   "cell_type": "code",
   "execution_count": 46,
   "id": "c497dec2",
   "metadata": {},
   "outputs": [
    {
     "data": {
      "text/html": [
       "<div>\n",
       "<style scoped>\n",
       "    .dataframe tbody tr th:only-of-type {\n",
       "        vertical-align: middle;\n",
       "    }\n",
       "\n",
       "    .dataframe tbody tr th {\n",
       "        vertical-align: top;\n",
       "    }\n",
       "\n",
       "    .dataframe thead th {\n",
       "        text-align: right;\n",
       "    }\n",
       "</style>\n",
       "<table border=\"1\" class=\"dataframe\">\n",
       "  <thead>\n",
       "    <tr style=\"text-align: right;\">\n",
       "      <th></th>\n",
       "      <th>y</th>\n",
       "    </tr>\n",
       "  </thead>\n",
       "  <tbody>\n",
       "    <tr>\n",
       "      <th>0</th>\n",
       "      <td>-147.524391</td>\n",
       "    </tr>\n",
       "    <tr>\n",
       "      <th>1</th>\n",
       "      <td>-66.265705</td>\n",
       "    </tr>\n",
       "    <tr>\n",
       "      <th>2</th>\n",
       "      <td>-200.056206</td>\n",
       "    </tr>\n",
       "    <tr>\n",
       "      <th>3</th>\n",
       "      <td>226.036217</td>\n",
       "    </tr>\n",
       "    <tr>\n",
       "      <th>4</th>\n",
       "      <td>51.326541</td>\n",
       "    </tr>\n",
       "    <tr>\n",
       "      <th>...</th>\n",
       "      <td>...</td>\n",
       "    </tr>\n",
       "    <tr>\n",
       "      <th>1245</th>\n",
       "      <td>-9.808697</td>\n",
       "    </tr>\n",
       "    <tr>\n",
       "      <th>1246</th>\n",
       "      <td>78.808891</td>\n",
       "    </tr>\n",
       "    <tr>\n",
       "      <th>1247</th>\n",
       "      <td>14.036740</td>\n",
       "    </tr>\n",
       "    <tr>\n",
       "      <th>1248</th>\n",
       "      <td>-18.666509</td>\n",
       "    </tr>\n",
       "    <tr>\n",
       "      <th>1249</th>\n",
       "      <td>-51.075175</td>\n",
       "    </tr>\n",
       "  </tbody>\n",
       "</table>\n",
       "<p>1250 rows × 1 columns</p>\n",
       "</div>"
      ],
      "text/plain": [
       "               y\n",
       "0    -147.524391\n",
       "1     -66.265705\n",
       "2    -200.056206\n",
       "3     226.036217\n",
       "4      51.326541\n",
       "...          ...\n",
       "1245   -9.808697\n",
       "1246   78.808891\n",
       "1247   14.036740\n",
       "1248  -18.666509\n",
       "1249  -51.075175\n",
       "\n",
       "[1250 rows x 1 columns]"
      ]
     },
     "execution_count": 46,
     "metadata": {},
     "output_type": "execute_result"
    }
   ],
   "source": [
    "Y_pred"
   ]
  }
 ],
 "metadata": {
  "kernelspec": {
   "display_name": "Python 3 (ipykernel)",
   "language": "python",
   "name": "python3"
  },
  "language_info": {
   "codemirror_mode": {
    "name": "ipython",
    "version": 3
   },
   "file_extension": ".py",
   "mimetype": "text/x-python",
   "name": "python",
   "nbconvert_exporter": "python",
   "pygments_lexer": "ipython3",
   "version": "3.8.10"
  }
 },
 "nbformat": 4,
 "nbformat_minor": 5
}
