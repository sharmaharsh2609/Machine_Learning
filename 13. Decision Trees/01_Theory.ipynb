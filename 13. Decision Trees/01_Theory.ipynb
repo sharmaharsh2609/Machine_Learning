{
 "cells": [
  {
   "cell_type": "markdown",
   "metadata": {},
   "source": [
    "## Decision Trees\n",
    "\n",
    "- Simple Tree like structure, model makes a decision at every node\n",
    "- Useful in simple tasks\n",
    "- One of the most popular algorithm\n",
    "- Easy explainability, easy to show how a decision process works!\n",
    "\n",
    "### Why decision trees are popular?\n",
    "   - Easy to interpret and present\n",
    "   - Well defined Logic, mimic human level thought\n",
    "   - Random Forests, Ensembles of decision trees are more powerful classifiers\n",
    "   - Feature values are preferred to be **categorical**. If the values are continuous then they are discretized prior to building the model.\n",
    "\n",
    "##  Build Decision Trees\n",
    "\n",
    "Two common algorithms - \n",
    "\n",
    "- CART (Classification and Regression Trees) → uses Gini Index(Classification) as metric.\n",
    "- ID3 (Iterative Dichotomiser 3) → uses Entropy function and Information gain as metrics\n",
    "\n",
    "\n",
    "    \n"
   ]
  }
 ],
 "metadata": {
  "kernelspec": {
   "display_name": "Python 3 (ipykernel)",
   "language": "python",
   "name": "python3"
  },
  "language_info": {
   "codemirror_mode": {
    "name": "ipython",
    "version": 3
   },
   "file_extension": ".py",
   "mimetype": "text/x-python",
   "name": "python",
   "nbconvert_exporter": "python",
   "pygments_lexer": "ipython3",
   "version": "3.8.10"
  }
 },
 "nbformat": 4,
 "nbformat_minor": 2
}
