{
 "cells": [
  {
   "cell_type": "markdown",
   "id": "866f09c2",
   "metadata": {},
   "source": [
    "**There are a lot of methods for image segmentation. But for now we are only using k-means clustering which is also very important,** But these applications are general applications.\n",
    "\n",
    "### Applications of Image segmentation:\n",
    "- Image segmentation is used very much in real life:\n",
    "\n",
    "\n",
    "### 1. Medical Imaging: \n",
    "<img src=\"3.1img.png\" style=\"width: 400px;\" align=\"left\">\n",
    "\n",
    "During medical diagnosis for cancer, it is hard to differentiate types of tissues from the image. But after segmenting, it is easy to differentiate different types of tissues.\n",
    "<br><br><br><br><br><br><br><br>\n",
    "### 2. Autonomous Driving:\n",
    "<img src=\"3.2img.png\" style=\"width: 400px;\" align=\"left\">\n",
    "\n",
    "When designing perception for autonomous vehicles, such as self-driving cars, semantic segmentation is popularly used to help the system identify and locate vehicles and other objects on the road.\n",
    "<br><br><br><br><br><br><br><br>\n",
    "**There are a lot more applications of image segmantation in real life. These were just to give a better idea for image segmentation.**"
   ]
  },
  {
   "cell_type": "code",
   "execution_count": null,
   "id": "48d9dc37",
   "metadata": {},
   "outputs": [],
   "source": []
  }
 ],
 "metadata": {
  "kernelspec": {
   "display_name": "Python 3 (ipykernel)",
   "language": "python",
   "name": "python3"
  },
  "language_info": {
   "codemirror_mode": {
    "name": "ipython",
    "version": 3
   },
   "file_extension": ".py",
   "mimetype": "text/x-python",
   "name": "python",
   "nbconvert_exporter": "python",
   "pygments_lexer": "ipython3",
   "version": "3.8.10"
  }
 },
 "nbformat": 4,
 "nbformat_minor": 5
}
