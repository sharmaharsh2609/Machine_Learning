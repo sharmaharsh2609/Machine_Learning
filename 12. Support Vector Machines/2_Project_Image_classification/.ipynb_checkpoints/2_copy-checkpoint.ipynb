{
 "cells": [
  {
   "cell_type": "markdown",
   "metadata": {},
   "source": [
    "##### Read \"01_Multiclass_classification\" file: explains about multiclass classification which we will implement in this project.\n",
    "- In general scikit learn uses 'one vs rest' algo by default. We can see while creating an object, there is a kwarg: `decision_function='ovr'` . 'ovr' is default value which means one vs rest and we can pass 'ovo' also means one vs one."
   ]
  },
  {
   "cell_type": "markdown",
   "metadata": {},
   "source": [
    "##### In this pproject, we are given with 4folder which contain images of cats, dogs, horses, humans respectively. So we will build SVM model for this data using multiclass classification from scratch(means no use of any pre-build functions)."
   ]
  },
  {
   "cell_type": "markdown",
   "metadata": {},
   "source": [
    "### Multiclass Classification Project\n",
    "\n",
    "Learning Goals\n",
    "- How to read different size images from a directory?\n",
    "- How to implement One-vs-one scheme for Multiclass classification?\n",
    "- How to use SVM for image classifcation?\n",
    "<img src=\"2.1classes.png\" alt=\"Classes\" style=\"width: 700px;\"/>\n"
   ]
  },
  {
   "cell_type": "markdown",
   "metadata": {},
   "source": [
    "## Dataset Preparation\n",
    "- We have images directory in which we are given 4folders: cat, dog, horse, human. We need to read images from there. We can import images using different platforms like openCV, keras, tensorflow, etc.. \n",
    "- As we have studied openCV already, let us try keras now"
   ]
  },
  {
   "cell_type": "code",
   "execution_count": 1,
   "metadata": {},
   "outputs": [
    {
     "name": "stderr",
     "output_type": "stream",
     "text": [
      "2022-02-24 16:24:54.099250: W tensorflow/stream_executor/platform/default/dso_loader.cc:64] Could not load dynamic library 'libcudart.so.11.0'; dlerror: libcudart.so.11.0: cannot open shared object file: No such file or directory\n",
      "2022-02-24 16:24:54.100256: I tensorflow/stream_executor/cuda/cudart_stub.cc:29] Ignore above cudart dlerror if you do not have a GPU set up on your machine.\n"
     ]
    }
   ],
   "source": [
    "import numpy as np\n",
    "import os ## to work with folders and files\n",
    "from pathlib import Path  ## to work with folders and files \n",
    "from keras.preprocessing import image"
   ]
  },
  {
   "cell_type": "markdown",
   "metadata": {},
   "source": [
    "- As written in 2nd line of error: **Ignore error like: \"libcudart.io\" file missing**. We need to install CUDA toolkit for that which is 7gb and it is really helpful bcoz it make use of GPU for graphics pupose rather than using CPU which increases the performance and speed.\n",
    "- But tensorflow can't give commands to GPU directly, so we need to install a CUDA toolkit which makes use of CUDA software to give commands to GPU directly. **But if you don't have installed CUDA, then tensorflow will use CPU and show error that CUDA file missing.** So you can ignore this error.\n"
   ]
  },
  {
   "cell_type": "markdown",
   "metadata": {},
   "source": [
    "- Generally keras or tensorflow make use of GPU when some graphics related work is required as using GPU instead of CPU gives us much better performance and very fast speed for graphics processing. \n",
    "- But **my system has integrated graphics which takes shared memory from CPU and do not have a differnt GPU unit** as 'dedicated GPU'. <font color=\"cyan\">**There will be no improvement in my system even if I install CUDA toolkit as I do not have a different GPU unit in my system(integrated graphic card). So using GPU with help of CUDA in my case will use shared memory from CPU which is same as using CPU directly**.</font> \n",
    "- So check your specs and download CUDA only if your graphics card is not integrated.\n",
    "- If someone have a different GPU in their system, then they can use CUDA(which is a software that handles GPU commands like a kernel or shell do) And python has a CUDA toolkit which makes use of CUDA software to perform operations on GPU.\n",
    "##### Read 03_GPU_IntegratedGraphics.ipynb file to read in detail about GPU, integrated circuit and CUDA toolkit."
   ]
  },
  {
   "cell_type": "markdown",
   "metadata": {},
   "source": [
    "- Now let us start our project from here. \n",
    "- Open images folder and see: there are images of dogs, cats, horses, humans\n",
    "- We can use os module or pathlib module to work with files and folders. For now we will use `pathlib module`. It is also easy to work with."
   ]
  },
  {
   "cell_type": "code",
   "execution_count": 1,
   "metadata": {},
   "outputs": [
    {
     "name": "stderr",
     "output_type": "stream",
     "text": [
      "2022-02-24 16:25:19.046232: W tensorflow/stream_executor/platform/default/dso_loader.cc:64] Could not load dynamic library 'libcudart.so.11.0'; dlerror: libcudart.so.11.0: cannot open shared object file: No such file or directory\n",
      "2022-02-24 16:25:19.046264: I tensorflow/stream_executor/cuda/cudart_stub.cc:29] Ignore above cudart dlerror if you do not have a GPU set up on your machine.\n"
     ]
    }
   ],
   "source": [
    "import numpy as np\n",
    "import os ## to work with folders and files\n",
    "from pathlib import Path  ## to work with folders and files \n",
    "from keras.preprocessing import image\n",
    "import matplotlib.pyplot as plt"
   ]
  },
  {
   "cell_type": "code",
   "execution_count": 6,
   "metadata": {},
   "outputs": [
    {
     "name": "stdout",
     "output_type": "stream",
     "text": [
      "../../Datasets/Images/images\n",
      "<class 'pathlib.PosixPath'>\n"
     ]
    }
   ],
   "source": [
    "p = Path('../../Datasets/Images/images')  ## create object of Path module\n",
    "print(p, type(p), sep='\\n')"
   ]
  },
  {
   "cell_type": "markdown",
   "metadata": {},
   "source": [
    "- So instance of Path() class returns us a string of path. But it is not actually a string, it is a class in pathlib module.\n",
    "- And this object of Path() class have many objects, one of which is **obj.glob()**\n",
    "\n",
    "##### Path_obj.glob(<reg>)\n",
    "- obj.glob() takes a regex as argument and returns all the files matched with that regex inside Path that we passed while creating the object(Here we passed path=../../Datasets/Images)"
   ]
  },
  {
   "cell_type": "code",
   "execution_count": 16,
   "metadata": {},
   "outputs": [
    {
     "data": {
      "text/plain": [
       "<generator object Path.glob at 0x7fbb1fb890b0>"
      ]
     },
     "execution_count": 16,
     "metadata": {},
     "output_type": "execute_result"
    }
   ],
   "source": [
    "p = Path(\"../../Datasets/Images/images\")  \n",
    "p.glob(\"*\") ## pass regex \"*\" , star means all type of files in regex"
   ]
  },
  {
   "cell_type": "markdown",
   "metadata": {},
   "source": [
    "- p.glob() gives us a generator object. Genrator object generates a value using either obj.next() or using this generator object inside a for loop which we studied.\n",
    "- So this generator object will generate all files present inside the file "
   ]
  },
  {
   "cell_type": "code",
   "execution_count": 21,
   "metadata": {},
   "outputs": [
    {
     "name": "stdout",
     "output_type": "stream",
     "text": [
      "../../Datasets/Images/images/dogs\n",
      "../../Datasets/Images/images/humans\n",
      "../../Datasets/Images/images/horses\n",
      "../../Datasets/Images/images/cats\n"
     ]
    }
   ],
   "source": [
    "for folder_dir in p.glob(\"*\"):\n",
    "    print(folder_dir)"
   ]
  },
  {
   "cell_type": "markdown",
   "metadata": {},
   "source": [
    "- And we can take last word as label by converting these to strings and then take '/' as seperator and take last value as [-1]\n",
    "\n",
    "[Note: in windows path is shown using '\\' and not '/'. So we need to use '\\\\' in windows instead of '/' as backslash needs another backslash before it to escape. Otherwise single backslash is used as it's speicial meaning. Using '\\\\': uses 1st backslash to escape character next to it which is 2nd '\\']"
   ]
  },
  {
   "cell_type": "code",
   "execution_count": 24,
   "metadata": {},
   "outputs": [
    {
     "name": "stdout",
     "output_type": "stream",
     "text": [
      "dogs\n",
      "humans\n",
      "horses\n",
      "cats\n"
     ]
    }
   ],
   "source": [
    "for folder_dir in p.glob('*'):\n",
    "    label = str(folder_dir).split(\"/\")[-1]\n",
    "    print(label)"
   ]
  },
  {
   "cell_type": "markdown",
   "metadata": {},
   "source": [
    "- As ML classifiers do not train on strings, so we need to convert these to integers and create a mapping for them. We will create this mapping intially.\n",
    "\n",
    "##### keras.preprocessing.image has a method load_img(path, teget_size): \n",
    "- it loads image by converting it into desired size. As we have different size of images. So we need to use a common scale woth common size for all images.\n"
   ]
  },
  {
   "cell_type": "code",
   "execution_count": 2,
   "metadata": {},
   "outputs": [],
   "source": [
    "p = Path(\"../../Datasets/Images/images/\")  \n",
    "dirs = p.glob(\"*\") ## * means all type of files present in it.\n",
    "\n",
    "labels_dict={\"cat\":0,\"dog\":1,\"horse\":2,\"human\":3} #convert labels to integers by creating mapping .\n",
    "\n",
    "image_data = []  ## list to store all the images in all subfolders.\n",
    "labels = []\n",
    "\n",
    "for folder_dir in dirs:\n",
    "    label = str(folder_dir).split(\"/\")[-1][:-1] # [:-1] to remove 's' from dogs,cats,horses,humans\n",
    "     \n",
    "    # iterate over all images inside all directories as glob returns a generator object with passed regex\n",
    "    for img_path in folder_dir.glob(\"*.jpg\"):\n",
    "        ## read image using image module from keras\n",
    "        img = image.load_img(img_path,target_size=(32,32)) #image is module from keras.preprocessing\n",
    "        img_array = image.img_to_array(img) ## convert image to array(RGB: 3values for each pixel)\n",
    "        # size of 1 image = (32x32x3) , 3 for RGB channels\n",
    "        image_data.append(img_array)   ## add image in each iteration inside this list\n",
    "        labels.append(labels_dict[label])\n",
    "## as seen earlier: label gives us value as last last value from path and remove last character\n",
    "# from it('s'). So label can be: cat,dog,... and label_dict[label] will give us 0 for cat, 1 for \n",
    "# dog,...\n",
    "## So here we are appending 0 if image has label=cat, 1 if label=dog,... for corresponding image\n",
    "# Here we append image in 'image_data' list and corresponding label in 'labels' list"
   ]
  },
  {
   "cell_type": "markdown",
   "metadata": {},
   "source": [
    "- Let us convert these lists to numpy arrays. \n",
    "- In visualization part there was an error: data should be in range '0-1' for floats or '0-255' for integers. Here image module reads pixels as 199.0, 200.0 which are floating values. So we can either use dtype='uint8' or we can divide whole image_data array by 255.0 which will make range of intensity in 0-1 and values will be in float."
   ]
  },
  {
   "cell_type": "markdown",
   "metadata": {},
   "source": [
    "- It was giving low accuracy and high error in SVM gradient descent update using 0-255 pixel values as we have (32x32x3 = 3072) features for single image and loss= w.T*x + b will be very high in this case and gradient also. So I tried with floating values from range 0-1 and then results were good."
   ]
  },
  {
   "cell_type": "code",
   "execution_count": 3,
   "metadata": {},
   "outputs": [
    {
     "name": "stdout",
     "output_type": "stream",
     "text": [
      "(808, 32, 32, 3) (808,)\n",
      "[[0.7607843  0.08627451 0.07843138]\n",
      " [0.7607843  0.08627451 0.07843138]\n",
      " [0.7607843  0.08627451 0.07843138]\n",
      " [0.7607843  0.08627451 0.07843138]\n",
      " [0.7607843  0.08627451 0.07843138]]\n"
     ]
    }
   ],
   "source": [
    "# Convert this 'image_data' list and 'labels' list into numpy array\n",
    "image_data = np.array(image_data,dtype='float32')/255   \n",
    "labels = np.array(labels)\n",
    "\n",
    "print(image_data.shape,labels.shape)\n",
    "print( image_data[0,0,:5])"
   ]
  },
  {
   "cell_type": "markdown",
   "metadata": {},
   "source": [
    "- These are first 5 pixels of 1st image and these have intensity range in 0-1. Or we can use dtype=\"uint8\" in above which will give intensity range 0-255.\n",
    "- So we got 808 images(with 32x32 pixels and 3 channels) from all 4folders and respective labels. But using above for loop, we got first 202 images from 1st folder and all have same label, similarly images fomr 203-404 have same label and so on.. So we need to shuffle our data"
   ]
  },
  {
   "cell_type": "code",
   "execution_count": 35,
   "metadata": {},
   "outputs": [
    {
     "name": "stdout",
     "output_type": "stream",
     "text": [
      "../../Datasets/Images/images/dogs/dog.127.jpg\n",
      "../../Datasets/Images/images/dogs/dog.119.jpg\n",
      "../../Datasets/Images/images/dogs/dog.17.jpg\n",
      "../../Datasets/Images/images/dogs/dog.161.jpg\n",
      "../../Datasets/Images/images/dogs/dog.82.jpg\n",
      "../../Datasets/Images/images/dogs/dog.197.jpg\n",
      "../../Datasets/Images/images/dogs/dog.186.jpg\n",
      "../../Datasets/Images/images/dogs/dog.178.jpg\n",
      "../../Datasets/Images/images/dogs/dog.183.jpg\n",
      "../../Datasets/Images/images/dogs/dog.31.jpg\n",
      "../../Datasets/Images/images/dogs/dog.60.jpg\n",
      "../../Datasets/Images/images/dogs/dog.159.jpg\n",
      "../../Datasets/Images/images/dogs/dog.53.jpg\n",
      "../../Datasets/Images/images/dogs/dog.70.jpg\n",
      "../../Datasets/Images/images/dogs/dog.176.jpg\n",
      "../../Datasets/Images/images/dogs/dog.174.jpg\n",
      "../../Datasets/Images/images/dogs/dog.145.jpg\n",
      "../../Datasets/Images/images/dogs/dog.30.jpg\n",
      "../../Datasets/Images/images/dogs/dog.62.jpg\n",
      "../../Datasets/Images/images/dogs/dog.173.jpg\n",
      "../../Datasets/Images/images/dogs/dog.136.jpg\n",
      "../../Datasets/Images/images/dogs/dog.69.jpg\n",
      "../../Datasets/Images/images/dogs/dog.128.jpg\n",
      "../../Datasets/Images/images/dogs/dog.129.jpg\n",
      "../../Datasets/Images/images/dogs/dog.89.jpg\n",
      "../../Datasets/Images/images/dogs/dog.132.jpg\n",
      "../../Datasets/Images/images/dogs/dog.166.jpg\n",
      "../../Datasets/Images/images/dogs/dog.64.jpg\n",
      "../../Datasets/Images/images/dogs/dog.94.jpg\n",
      "../../Datasets/Images/images/dogs/dog.158.jpg\n",
      "../../Datasets/Images/images/dogs/dog.56.jpg\n",
      "../../Datasets/Images/images/dogs/dog.118.jpg\n",
      "../../Datasets/Images/images/dogs/dog.191.jpg\n",
      "../../Datasets/Images/images/dogs/dog.51.jpg\n",
      "../../Datasets/Images/images/dogs/dog.45.jpg\n",
      "../../Datasets/Images/images/dogs/dog.88.jpg\n",
      "../../Datasets/Images/images/dogs/dog.121.jpg\n",
      "../../Datasets/Images/images/dogs/dog.85.jpg\n",
      "../../Datasets/Images/images/dogs/dog.202.jpg\n",
      "../../Datasets/Images/images/dogs/dog.37.jpg\n",
      "../../Datasets/Images/images/dogs/dog.16.jpg\n",
      "../../Datasets/Images/images/dogs/dog.163.jpg\n",
      "../../Datasets/Images/images/dogs/dog.111.jpg\n",
      "../../Datasets/Images/images/dogs/dog.41.jpg\n",
      "../../Datasets/Images/images/dogs/dog.77.jpg\n",
      "../../Datasets/Images/images/dogs/dog.179.jpg\n",
      "../../Datasets/Images/images/dogs/dog.151.jpg\n",
      "../../Datasets/Images/images/dogs/dog.34.jpg\n",
      "../../Datasets/Images/images/dogs/dog.107.jpg\n",
      "../../Datasets/Images/images/dogs/dog.26.jpg\n",
      "../../Datasets/Images/images/dogs/dog.155.jpg\n",
      "../../Datasets/Images/images/dogs/dog.104.jpg\n",
      "../../Datasets/Images/images/dogs/dog.102.jpg\n",
      "../../Datasets/Images/images/dogs/dog.109.jpg\n",
      "../../Datasets/Images/images/dogs/dog.100.jpg\n",
      "../../Datasets/Images/images/dogs/dog.91.jpg\n",
      "../../Datasets/Images/images/dogs/dog.177.jpg\n",
      "../../Datasets/Images/images/dogs/dog.5.jpg\n",
      "../../Datasets/Images/images/dogs/dog.137.jpg\n",
      "../../Datasets/Images/images/dogs/dog.78.jpg\n",
      "../../Datasets/Images/images/dogs/dog.71.jpg\n",
      "../../Datasets/Images/images/dogs/dog.66.jpg\n",
      "../../Datasets/Images/images/dogs/dog.65.jpg\n",
      "../../Datasets/Images/images/dogs/dog.98.jpg\n",
      "../../Datasets/Images/images/dogs/dog.156.jpg\n",
      "../../Datasets/Images/images/dogs/dog.10.jpg\n",
      "../../Datasets/Images/images/dogs/dog.133.jpg\n",
      "../../Datasets/Images/images/dogs/dog.171.jpg\n",
      "../../Datasets/Images/images/dogs/dog.124.jpg\n",
      "../../Datasets/Images/images/dogs/dog.57.jpg\n",
      "../../Datasets/Images/images/dogs/dog.180.jpg\n",
      "../../Datasets/Images/images/dogs/dog.83.jpg\n",
      "../../Datasets/Images/images/dogs/dog.185.jpg\n",
      "../../Datasets/Images/images/dogs/dog.192.jpg\n",
      "../../Datasets/Images/images/dogs/dog.196.jpg\n",
      "../../Datasets/Images/images/dogs/dog.182.jpg\n",
      "../../Datasets/Images/images/dogs/dog.110.jpg\n",
      "../../Datasets/Images/images/dogs/dog.22.jpg\n",
      "../../Datasets/Images/images/dogs/dog.150.jpg\n",
      "../../Datasets/Images/images/dogs/dog.195.jpg\n",
      "../../Datasets/Images/images/dogs/dog.193.jpg\n",
      "../../Datasets/Images/images/dogs/dog.25.jpg\n",
      "../../Datasets/Images/images/dogs/dog.29.jpg\n",
      "../../Datasets/Images/images/dogs/dog.148.jpg\n",
      "../../Datasets/Images/images/dogs/dog.42.jpg\n",
      "../../Datasets/Images/images/dogs/dog.116.jpg\n",
      "../../Datasets/Images/images/dogs/dog.59.jpg\n",
      "../../Datasets/Images/images/dogs/dog.20.jpg\n",
      "../../Datasets/Images/images/dogs/dog.126.jpg\n",
      "../../Datasets/Images/images/dogs/dog.6.jpg\n",
      "../../Datasets/Images/images/dogs/dog.175.jpg\n",
      "../../Datasets/Images/images/dogs/dog.142.jpg\n",
      "../../Datasets/Images/images/dogs/dog.123.jpg\n",
      "../../Datasets/Images/images/dogs/dog.184.jpg\n",
      "../../Datasets/Images/images/dogs/dog.48.jpg\n",
      "../../Datasets/Images/images/dogs/dog.79.jpg\n",
      "../../Datasets/Images/images/dogs/dog.43.jpg\n",
      "../../Datasets/Images/images/dogs/dog.93.jpg\n",
      "../../Datasets/Images/images/dogs/dog.147.jpg\n",
      "../../Datasets/Images/images/dogs/dog.139.jpg\n",
      "../../Datasets/Images/images/dogs/dog.18.jpg\n",
      "../../Datasets/Images/images/dogs/dog.181.jpg\n",
      "../../Datasets/Images/images/dogs/dog.7.jpg\n",
      "../../Datasets/Images/images/dogs/dog.21.jpg\n",
      "../../Datasets/Images/images/dogs/dog.55.jpg\n",
      "../../Datasets/Images/images/dogs/dog.165.jpg\n",
      "../../Datasets/Images/images/dogs/dog.187.jpg\n",
      "../../Datasets/Images/images/dogs/dog.1.jpg\n",
      "../../Datasets/Images/images/dogs/dog.143.jpg\n",
      "../../Datasets/Images/images/dogs/dog.61.jpg\n",
      "../../Datasets/Images/images/dogs/dog.152.jpg\n",
      "../../Datasets/Images/images/dogs/dog.188.jpg\n",
      "../../Datasets/Images/images/dogs/dog.164.jpg\n",
      "../../Datasets/Images/images/dogs/dog.15.jpg\n",
      "../../Datasets/Images/images/dogs/dog.47.jpg\n",
      "../../Datasets/Images/images/dogs/dog.36.jpg\n",
      "../../Datasets/Images/images/dogs/dog.117.jpg\n",
      "../../Datasets/Images/images/dogs/dog.122.jpg\n",
      "../../Datasets/Images/images/dogs/dog.95.jpg\n",
      "../../Datasets/Images/images/dogs/dog.105.jpg\n",
      "../../Datasets/Images/images/dogs/dog.167.jpg\n",
      "../../Datasets/Images/images/dogs/dog.38.jpg\n",
      "../../Datasets/Images/images/dogs/dog.3.jpg\n",
      "../../Datasets/Images/images/dogs/dog.149.jpg\n",
      "../../Datasets/Images/images/dogs/dog.35.jpg\n",
      "../../Datasets/Images/images/dogs/dog.134.jpg\n",
      "../../Datasets/Images/images/dogs/dog.68.jpg\n",
      "../../Datasets/Images/images/dogs/dog.157.jpg\n",
      "../../Datasets/Images/images/dogs/dog.194.jpg\n",
      "../../Datasets/Images/images/dogs/dog.76.jpg\n",
      "../../Datasets/Images/images/dogs/dog.113.jpg\n",
      "../../Datasets/Images/images/dogs/dog.200.jpg\n",
      "../../Datasets/Images/images/dogs/dog.24.jpg\n",
      "../../Datasets/Images/images/dogs/dog.32.jpg\n",
      "../../Datasets/Images/images/dogs/dog.97.jpg\n",
      "../../Datasets/Images/images/dogs/dog.92.jpg\n",
      "../../Datasets/Images/images/dogs/dog.50.jpg\n",
      "../../Datasets/Images/images/dogs/dog.112.jpg\n",
      "../../Datasets/Images/images/dogs/dog.130.jpg\n",
      "../../Datasets/Images/images/dogs/dog.8.jpg\n",
      "../../Datasets/Images/images/dogs/dog.172.jpg\n",
      "../../Datasets/Images/images/dogs/dog.27.jpg\n",
      "../../Datasets/Images/images/dogs/dog.144.jpg\n",
      "../../Datasets/Images/images/dogs/dog.201.jpg\n",
      "../../Datasets/Images/images/dogs/dog.28.jpg\n",
      "../../Datasets/Images/images/dogs/dog.168.jpg\n",
      "../../Datasets/Images/images/dogs/dog.96.jpg\n",
      "../../Datasets/Images/images/dogs/dog.170.jpg\n",
      "../../Datasets/Images/images/dogs/dog.101.jpg\n",
      "../../Datasets/Images/images/dogs/dog.23.jpg\n",
      "../../Datasets/Images/images/dogs/dog.19.jpg\n",
      "../../Datasets/Images/images/dogs/dog.67.jpg\n",
      "../../Datasets/Images/images/dogs/dog.120.jpg\n",
      "../../Datasets/Images/images/dogs/dog.33.jpg\n",
      "../../Datasets/Images/images/dogs/dog.131.jpg\n",
      "../../Datasets/Images/images/dogs/dog.199.jpg\n",
      "../../Datasets/Images/images/dogs/dog.46.jpg\n",
      "../../Datasets/Images/images/dogs/dog.138.jpg\n",
      "../../Datasets/Images/images/dogs/dog.99.jpg\n",
      "../../Datasets/Images/images/dogs/dog.12.jpg\n",
      "../../Datasets/Images/images/dogs/dog.58.jpg\n",
      "../../Datasets/Images/images/dogs/dog.14.jpg\n",
      "../../Datasets/Images/images/dogs/dog.2.jpg\n",
      "../../Datasets/Images/images/dogs/dog.190.jpg\n",
      "../../Datasets/Images/images/dogs/dog.72.jpg\n",
      "../../Datasets/Images/images/dogs/dog.13.jpg\n",
      "../../Datasets/Images/images/dogs/dog.9.jpg\n",
      "../../Datasets/Images/images/dogs/dog.54.jpg\n",
      "../../Datasets/Images/images/dogs/dog.86.jpg\n",
      "../../Datasets/Images/images/dogs/dog.115.jpg\n",
      "../../Datasets/Images/images/dogs/dog.87.jpg\n",
      "../../Datasets/Images/images/dogs/dog.4.jpg\n",
      "../../Datasets/Images/images/dogs/dog.40.jpg\n",
      "../../Datasets/Images/images/dogs/dog.84.jpg\n",
      "../../Datasets/Images/images/dogs/dog.44.jpg\n",
      "../../Datasets/Images/images/dogs/dog.39.jpg\n",
      "../../Datasets/Images/images/dogs/dog.154.jpg\n",
      "../../Datasets/Images/images/dogs/dog.198.jpg\n",
      "../../Datasets/Images/images/dogs/dog.90.jpg\n",
      "../../Datasets/Images/images/dogs/dog.103.jpg\n",
      "../../Datasets/Images/images/dogs/dog.11.jpg\n",
      "../../Datasets/Images/images/dogs/dog.80.jpg\n",
      "../../Datasets/Images/images/dogs/dog.63.jpg\n",
      "../../Datasets/Images/images/dogs/dog.52.jpg\n",
      "../../Datasets/Images/images/dogs/dog.169.jpg\n",
      "../../Datasets/Images/images/dogs/dog.73.jpg\n",
      "../../Datasets/Images/images/dogs/dog.160.jpg\n",
      "../../Datasets/Images/images/dogs/dog.75.jpg\n",
      "../../Datasets/Images/images/dogs/dog.189.jpg\n",
      "../../Datasets/Images/images/dogs/dog.49.jpg\n",
      "../../Datasets/Images/images/dogs/dog.162.jpg\n",
      "../../Datasets/Images/images/dogs/dog.140.jpg\n",
      "../../Datasets/Images/images/dogs/dog.146.jpg\n",
      "../../Datasets/Images/images/dogs/dog.81.jpg\n",
      "../../Datasets/Images/images/dogs/dog.135.jpg\n",
      "../../Datasets/Images/images/dogs/dog.141.jpg\n",
      "../../Datasets/Images/images/dogs/dog.114.jpg\n",
      "../../Datasets/Images/images/dogs/dog.74.jpg\n",
      "../../Datasets/Images/images/dogs/dog.153.jpg\n",
      "../../Datasets/Images/images/dogs/dog.108.jpg\n",
      "../../Datasets/Images/images/dogs/dog.106.jpg\n",
      "../../Datasets/Images/images/dogs/dog.125.jpg\n",
      "../../Datasets/Images/images/humans/rider-35.jpg\n",
      "../../Datasets/Images/images/humans/rider-184.jpg\n",
      "../../Datasets/Images/images/humans/rider-138.jpg\n",
      "../../Datasets/Images/images/humans/rider-160.jpg\n",
      "../../Datasets/Images/images/humans/rider-75.jpg\n",
      "../../Datasets/Images/images/humans/rider-178.jpg\n",
      "../../Datasets/Images/images/humans/rider-65.jpg\n",
      "../../Datasets/Images/images/humans/rider-48.jpg\n",
      "../../Datasets/Images/images/humans/rider-97.jpg\n",
      "../../Datasets/Images/images/humans/rider-179.jpg\n",
      "../../Datasets/Images/images/humans/rider-79.jpg\n",
      "../../Datasets/Images/images/humans/rider-154.jpg\n",
      "../../Datasets/Images/images/humans/rider-133.jpg\n",
      "../../Datasets/Images/images/humans/rider-70.jpg\n",
      "../../Datasets/Images/images/humans/rider-20.jpg\n",
      "../../Datasets/Images/images/humans/rider-148.jpg\n",
      "../../Datasets/Images/images/humans/rider-64.jpg\n",
      "../../Datasets/Images/images/humans/rider-81.jpg\n",
      "../../Datasets/Images/images/humans/rider-90.jpg\n",
      "../../Datasets/Images/images/humans/rider-139.jpg\n",
      "../../Datasets/Images/images/humans/rider-162.jpg\n",
      "../../Datasets/Images/images/humans/rider-83.jpg\n",
      "../../Datasets/Images/images/humans/rider-29.jpg\n",
      "../../Datasets/Images/images/humans/rider-14.jpg\n",
      "../../Datasets/Images/images/humans/rider-170.jpg\n",
      "../../Datasets/Images/images/humans/rider-46.jpg\n",
      "../../Datasets/Images/images/humans/rider-99.jpg\n",
      "../../Datasets/Images/images/humans/rider-198.jpg\n",
      "../../Datasets/Images/images/humans/rider-72.jpg\n",
      "../../Datasets/Images/images/humans/rider-15.jpg\n",
      "../../Datasets/Images/images/humans/rider-32.jpg\n",
      "../../Datasets/Images/images/humans/rider-60.jpg\n",
      "../../Datasets/Images/images/humans/rider-196.jpg\n",
      "../../Datasets/Images/images/humans/rider-36.jpg\n",
      "../../Datasets/Images/images/humans/rider-181.jpg\n",
      "../../Datasets/Images/images/humans/rider-120.jpg\n",
      "../../Datasets/Images/images/humans/rider-30.jpg\n",
      "../../Datasets/Images/images/humans/rider-98.jpg\n",
      "../../Datasets/Images/images/humans/rider-131.jpg\n",
      "../../Datasets/Images/images/humans/rider-192.jpg\n",
      "../../Datasets/Images/images/humans/rider-85.jpg\n",
      "../../Datasets/Images/images/humans/rider-118.jpg\n",
      "../../Datasets/Images/images/humans/rider-18.jpg\n",
      "../../Datasets/Images/images/humans/rider-67.jpg\n",
      "../../Datasets/Images/images/humans/rider-44.jpg\n",
      "../../Datasets/Images/images/humans/rider-38.jpg\n",
      "../../Datasets/Images/images/humans/rider-105.jpg\n",
      "../../Datasets/Images/images/humans/rider-165.jpg\n",
      "../../Datasets/Images/images/humans/rider-57.jpg\n",
      "../../Datasets/Images/images/humans/rider-147.jpg\n",
      "../../Datasets/Images/images/humans/rider-22.jpg\n",
      "../../Datasets/Images/images/humans/rider-151.jpg\n",
      "../../Datasets/Images/images/humans/rider-166.jpg\n",
      "../../Datasets/Images/images/humans/rider-8.jpg\n",
      "../../Datasets/Images/images/humans/rider-201.jpg\n",
      "../../Datasets/Images/images/humans/rider-153.jpg\n",
      "../../Datasets/Images/images/humans/rider-194.jpg\n",
      "../../Datasets/Images/images/humans/rider-199.jpg\n",
      "../../Datasets/Images/images/humans/rider-150.jpg\n",
      "../../Datasets/Images/images/humans/rider-110.jpg\n",
      "../../Datasets/Images/images/humans/rider-171.jpg\n",
      "../../Datasets/Images/images/humans/rider-2.jpg\n",
      "../../Datasets/Images/images/humans/rider-167.jpg\n",
      "../../Datasets/Images/images/humans/rider-174.jpg\n",
      "../../Datasets/Images/images/humans/rider-116.jpg\n",
      "../../Datasets/Images/images/humans/rider-188.jpg\n",
      "../../Datasets/Images/images/humans/rider-82.jpg\n",
      "../../Datasets/Images/images/humans/rider-159.jpg\n",
      "../../Datasets/Images/images/humans/rider-37.jpg\n",
      "../../Datasets/Images/images/humans/rider-185.jpg\n",
      "../../Datasets/Images/images/humans/rider-143.jpg\n",
      "../../Datasets/Images/images/humans/rider-158.jpg\n",
      "../../Datasets/Images/images/humans/rider-124.jpg\n",
      "../../Datasets/Images/images/humans/rider-33.jpg\n",
      "../../Datasets/Images/images/humans/rider-19.jpg\n",
      "../../Datasets/Images/images/humans/rider-126.jpg\n",
      "../../Datasets/Images/images/humans/rider-180.jpg\n",
      "../../Datasets/Images/images/humans/rider-190.jpg\n",
      "../../Datasets/Images/images/humans/rider-42.jpg\n",
      "../../Datasets/Images/images/humans/rider-49.jpg\n",
      "../../Datasets/Images/images/humans/rider-80.jpg\n",
      "../../Datasets/Images/images/humans/rider-69.jpg\n",
      "../../Datasets/Images/images/humans/rider-157.jpg\n",
      "../../Datasets/Images/images/humans/rider-76.jpg\n",
      "../../Datasets/Images/images/humans/rider-183.jpg\n",
      "../../Datasets/Images/images/humans/rider-103.jpg\n",
      "../../Datasets/Images/images/humans/rider-117.jpg\n",
      "../../Datasets/Images/images/humans/rider-12.jpg\n",
      "../../Datasets/Images/images/humans/rider-106.jpg\n",
      "../../Datasets/Images/images/humans/rider-129.jpg\n",
      "../../Datasets/Images/images/humans/rider-51.jpg\n",
      "../../Datasets/Images/images/humans/rider-68.jpg\n",
      "../../Datasets/Images/images/humans/rider-58.jpg\n",
      "../../Datasets/Images/images/humans/rider-128.jpg\n",
      "../../Datasets/Images/images/humans/rider-168.jpg\n",
      "../../Datasets/Images/images/humans/rider-146.jpg\n",
      "../../Datasets/Images/images/humans/rider-47.jpg\n",
      "../../Datasets/Images/images/humans/rider-136.jpg\n",
      "../../Datasets/Images/images/humans/rider-195.jpg\n",
      "../../Datasets/Images/images/humans/rider-197.jpg\n",
      "../../Datasets/Images/images/humans/rider-89.jpg\n",
      "../../Datasets/Images/images/humans/rider-102.jpg\n",
      "../../Datasets/Images/images/humans/rider-74.jpg\n",
      "../../Datasets/Images/images/humans/rider-86.jpg\n",
      "../../Datasets/Images/images/humans/rider-161.jpg\n",
      "../../Datasets/Images/images/humans/rider-121.jpg\n",
      "../../Datasets/Images/images/humans/rider-149.jpg\n",
      "../../Datasets/Images/images/humans/rider-100.jpg\n",
      "../../Datasets/Images/images/humans/rider-55.jpg\n",
      "../../Datasets/Images/images/humans/rider-40.jpg\n",
      "../../Datasets/Images/images/humans/rider-142.jpg\n",
      "../../Datasets/Images/images/humans/rider-114.jpg\n",
      "../../Datasets/Images/images/humans/rider-115.jpg\n",
      "../../Datasets/Images/images/humans/rider-11.jpg\n",
      "../../Datasets/Images/images/humans/rider-119.jpg\n",
      "../../Datasets/Images/images/humans/rider-91.jpg\n",
      "../../Datasets/Images/images/humans/rider-108.jpg\n",
      "../../Datasets/Images/images/humans/rider-169.jpg\n",
      "../../Datasets/Images/images/humans/rider-107.jpg\n",
      "../../Datasets/Images/images/humans/rider-50.jpg\n",
      "../../Datasets/Images/images/humans/rider-94.jpg\n",
      "../../Datasets/Images/images/humans/rider-111.jpg\n",
      "../../Datasets/Images/images/humans/rider-31.jpg\n",
      "../../Datasets/Images/images/humans/rider-144.jpg\n",
      "../../Datasets/Images/images/humans/rider-45.jpg\n",
      "../../Datasets/Images/images/humans/rider-152.jpg\n",
      "../../Datasets/Images/images/humans/rider-88.jpg\n",
      "../../Datasets/Images/images/humans/rider-140.jpg\n",
      "../../Datasets/Images/images/humans/rider-1.jpg\n",
      "../../Datasets/Images/images/humans/rider-104.jpg\n",
      "../../Datasets/Images/images/humans/rider-71.jpg\n",
      "../../Datasets/Images/images/humans/rider-62.jpg\n",
      "../../Datasets/Images/images/humans/rider-73.jpg\n",
      "../../Datasets/Images/images/humans/rider-53.jpg\n",
      "../../Datasets/Images/images/humans/rider-145.jpg\n",
      "../../Datasets/Images/images/humans/rider-16.jpg\n",
      "../../Datasets/Images/images/humans/rider-175.jpg\n",
      "../../Datasets/Images/images/humans/rider-63.jpg\n",
      "../../Datasets/Images/images/humans/rider-187.jpg\n",
      "../../Datasets/Images/images/humans/rider-61.jpg\n",
      "../../Datasets/Images/images/humans/rider-26.jpg\n",
      "../../Datasets/Images/images/humans/rider-177.jpg\n",
      "../../Datasets/Images/images/humans/rider-172.jpg\n",
      "../../Datasets/Images/images/humans/rider-7.jpg\n",
      "../../Datasets/Images/images/humans/rider-189.jpg\n",
      "../../Datasets/Images/images/humans/rider-155.jpg\n",
      "../../Datasets/Images/images/humans/rider-182.jpg\n",
      "../../Datasets/Images/images/humans/rider-163.jpg\n",
      "../../Datasets/Images/images/humans/rider-59.jpg\n",
      "../../Datasets/Images/images/humans/rider-17.jpg\n",
      "../../Datasets/Images/images/humans/rider-43.jpg\n",
      "../../Datasets/Images/images/humans/rider-77.jpg\n",
      "../../Datasets/Images/images/humans/rider-113.jpg\n",
      "../../Datasets/Images/images/humans/rider-34.jpg\n",
      "../../Datasets/Images/images/humans/rider-164.jpg\n",
      "../../Datasets/Images/images/humans/rider-52.jpg\n",
      "../../Datasets/Images/images/humans/rider-135.jpg\n",
      "../../Datasets/Images/images/humans/rider-109.jpg\n",
      "../../Datasets/Images/images/humans/rider-13.jpg\n",
      "../../Datasets/Images/images/humans/rider-6.jpg\n",
      "../../Datasets/Images/images/humans/rider-127.jpg\n",
      "../../Datasets/Images/images/humans/rider-21.jpg\n",
      "../../Datasets/Images/images/humans/rider-141.jpg\n",
      "../../Datasets/Images/images/humans/rider-92.jpg\n",
      "../../Datasets/Images/images/humans/rider-137.jpg\n",
      "../../Datasets/Images/images/humans/rider-123.jpg\n",
      "../../Datasets/Images/images/humans/rider-25.jpg\n",
      "../../Datasets/Images/images/humans/rider-186.jpg\n",
      "../../Datasets/Images/images/humans/rider-202.jpg\n",
      "../../Datasets/Images/images/humans/rider-93.jpg\n",
      "../../Datasets/Images/images/humans/rider-41.jpg\n",
      "../../Datasets/Images/images/humans/rider-9.jpg\n",
      "../../Datasets/Images/images/humans/rider-23.jpg\n",
      "../../Datasets/Images/images/humans/rider-84.jpg\n",
      "../../Datasets/Images/images/humans/rider-10.jpg\n",
      "../../Datasets/Images/images/humans/rider-200.jpg\n",
      "../../Datasets/Images/images/humans/rider-173.jpg\n",
      "../../Datasets/Images/images/humans/rider-134.jpg\n",
      "../../Datasets/Images/images/humans/rider-132.jpg\n",
      "../../Datasets/Images/images/humans/rider-112.jpg\n",
      "../../Datasets/Images/images/humans/rider-101.jpg\n",
      "../../Datasets/Images/images/humans/rider-125.jpg\n",
      "../../Datasets/Images/images/humans/rider-56.jpg\n",
      "../../Datasets/Images/images/humans/rider-130.jpg\n",
      "../../Datasets/Images/images/humans/rider-27.jpg\n",
      "../../Datasets/Images/images/humans/rider-5.jpg\n",
      "../../Datasets/Images/images/humans/rider-122.jpg\n",
      "../../Datasets/Images/images/humans/rider-193.jpg\n",
      "../../Datasets/Images/images/humans/rider-191.jpg\n",
      "../../Datasets/Images/images/humans/rider-87.jpg\n",
      "../../Datasets/Images/images/humans/rider-96.jpg\n",
      "../../Datasets/Images/images/humans/rider-4.jpg\n",
      "../../Datasets/Images/images/humans/rider-78.jpg\n",
      "../../Datasets/Images/images/humans/rider-156.jpg\n",
      "../../Datasets/Images/images/humans/rider-176.jpg\n",
      "../../Datasets/Images/images/humans/rider-3.jpg\n",
      "../../Datasets/Images/images/humans/rider-95.jpg\n",
      "../../Datasets/Images/images/humans/rider-28.jpg\n",
      "../../Datasets/Images/images/humans/rider-66.jpg\n",
      "../../Datasets/Images/images/humans/rider-39.jpg\n",
      "../../Datasets/Images/images/humans/rider-24.jpg\n",
      "../../Datasets/Images/images/humans/rider-54.jpg\n",
      "../../Datasets/Images/images/horses/horse-151.jpg\n",
      "../../Datasets/Images/images/horses/horse-101.jpg\n",
      "../../Datasets/Images/images/horses/horse-117.jpg\n",
      "../../Datasets/Images/images/horses/horse-29.jpg\n",
      "../../Datasets/Images/images/horses/horse-56.jpg\n",
      "../../Datasets/Images/images/horses/horse-130.jpg\n",
      "../../Datasets/Images/images/horses/horse-177.jpg\n",
      "../../Datasets/Images/images/horses/horse-157.jpg\n",
      "../../Datasets/Images/images/horses/horse-158.jpg\n",
      "../../Datasets/Images/images/horses/horse-14.jpg\n",
      "../../Datasets/Images/images/horses/horse-17.jpg\n",
      "../../Datasets/Images/images/horses/horse-16.jpg\n",
      "../../Datasets/Images/images/horses/horse-172.jpg\n",
      "../../Datasets/Images/images/horses/horse-59.jpg\n",
      "../../Datasets/Images/images/horses/horse-115.jpg\n",
      "../../Datasets/Images/images/horses/horse-155.jpg\n",
      "../../Datasets/Images/images/horses/horse-189.jpg\n",
      "../../Datasets/Images/images/horses/horse-63.jpg\n",
      "../../Datasets/Images/images/horses/horse-133.jpg\n",
      "../../Datasets/Images/images/horses/horse-114.jpg\n",
      "../../Datasets/Images/images/horses/horse-52.jpg\n",
      "../../Datasets/Images/images/horses/horse-124.jpg\n",
      "../../Datasets/Images/images/horses/horse-87.jpg\n",
      "../../Datasets/Images/images/horses/horse-40.jpg\n",
      "../../Datasets/Images/images/horses/horse-94.jpg\n",
      "../../Datasets/Images/images/horses/horse-108.jpg\n",
      "../../Datasets/Images/images/horses/horse-5.jpg\n",
      "../../Datasets/Images/images/horses/horse-149.jpg\n",
      "../../Datasets/Images/images/horses/horse-128.jpg\n",
      "../../Datasets/Images/images/horses/horse-38.jpg\n",
      "../../Datasets/Images/images/horses/horse-46.jpg\n",
      "../../Datasets/Images/images/horses/horse-119.jpg\n",
      "../../Datasets/Images/images/horses/horse-109.jpg\n",
      "../../Datasets/Images/images/horses/horse-125.jpg\n",
      "../../Datasets/Images/images/horses/horse-185.jpg\n",
      "../../Datasets/Images/images/horses/horse-194.jpg\n",
      "../../Datasets/Images/images/horses/horse-1.jpg\n",
      "../../Datasets/Images/images/horses/horse-154.jpg\n",
      "../../Datasets/Images/images/horses/horse-4.jpg\n",
      "../../Datasets/Images/images/horses/horse-98.jpg\n",
      "../../Datasets/Images/images/horses/horse-36.jpg\n",
      "../../Datasets/Images/images/horses/horse-83.jpg\n",
      "../../Datasets/Images/images/horses/horse-116.jpg\n",
      "../../Datasets/Images/images/horses/horse-179.jpg\n",
      "../../Datasets/Images/images/horses/horse-80.jpg\n",
      "../../Datasets/Images/images/horses/horse-198.jpg\n",
      "../../Datasets/Images/images/horses/horse-53.jpg\n",
      "../../Datasets/Images/images/horses/horse-9.jpg\n",
      "../../Datasets/Images/images/horses/horse-167.jpg\n",
      "../../Datasets/Images/images/horses/horse-73.jpg\n",
      "../../Datasets/Images/images/horses/horse-39.jpg\n",
      "../../Datasets/Images/images/horses/horse-170.jpg\n",
      "../../Datasets/Images/images/horses/horse-153.jpg\n",
      "../../Datasets/Images/images/horses/horse-122.jpg\n",
      "../../Datasets/Images/images/horses/horse-15.jpg\n",
      "../../Datasets/Images/images/horses/horse-72.jpg\n",
      "../../Datasets/Images/images/horses/horse-70.jpg\n",
      "../../Datasets/Images/images/horses/horse-182.jpg\n",
      "../../Datasets/Images/images/horses/horse-175.jpg\n",
      "../../Datasets/Images/images/horses/horse-78.jpg\n",
      "../../Datasets/Images/images/horses/horse-8.jpg\n",
      "../../Datasets/Images/images/horses/horse-60.jpg\n",
      "../../Datasets/Images/images/horses/horse-161.jpg\n",
      "../../Datasets/Images/images/horses/horse-110.jpg\n",
      "../../Datasets/Images/images/horses/horse-105.jpg\n",
      "../../Datasets/Images/images/horses/horse-164.jpg\n",
      "../../Datasets/Images/images/horses/horse-47.jpg\n",
      "../../Datasets/Images/images/horses/horse-136.jpg\n",
      "../../Datasets/Images/images/horses/horse-26.jpg\n",
      "../../Datasets/Images/images/horses/horse-25.jpg\n",
      "../../Datasets/Images/images/horses/horse-92.jpg\n",
      "../../Datasets/Images/images/horses/horse-19.jpg\n",
      "../../Datasets/Images/images/horses/horse-159.jpg\n",
      "../../Datasets/Images/images/horses/horse-85.jpg\n",
      "../../Datasets/Images/images/horses/horse-111.jpg\n",
      "../../Datasets/Images/images/horses/horse-102.jpg\n",
      "../../Datasets/Images/images/horses/horse-141.jpg\n",
      "../../Datasets/Images/images/horses/horse-41.jpg\n",
      "../../Datasets/Images/images/horses/horse-45.jpg\n",
      "../../Datasets/Images/images/horses/horse-178.jpg\n",
      "../../Datasets/Images/images/horses/horse-142.jpg\n",
      "../../Datasets/Images/images/horses/horse-138.jpg\n",
      "../../Datasets/Images/images/horses/horse-180.jpg\n",
      "../../Datasets/Images/images/horses/horse-199.jpg\n",
      "../../Datasets/Images/images/horses/horse-100.jpg\n",
      "../../Datasets/Images/images/horses/horse-74.jpg\n",
      "../../Datasets/Images/images/horses/horse-21.jpg\n",
      "../../Datasets/Images/images/horses/horse-71.jpg\n",
      "../../Datasets/Images/images/horses/horse-30.jpg\n",
      "../../Datasets/Images/images/horses/horse-152.jpg\n",
      "../../Datasets/Images/images/horses/horse-54.jpg\n",
      "../../Datasets/Images/images/horses/horse-156.jpg\n",
      "../../Datasets/Images/images/horses/horse-27.jpg\n",
      "../../Datasets/Images/images/horses/horse-193.jpg\n",
      "../../Datasets/Images/images/horses/horse-171.jpg\n",
      "../../Datasets/Images/images/horses/horse-23.jpg\n",
      "../../Datasets/Images/images/horses/horse-201.jpg\n",
      "../../Datasets/Images/images/horses/horse-191.jpg\n",
      "../../Datasets/Images/images/horses/horse-76.jpg\n",
      "../../Datasets/Images/images/horses/horse-148.jpg\n",
      "../../Datasets/Images/images/horses/horse-176.jpg\n",
      "../../Datasets/Images/images/horses/horse-6.jpg\n",
      "../../Datasets/Images/images/horses/horse-147.jpg\n",
      "../../Datasets/Images/images/horses/horse-139.jpg\n",
      "../../Datasets/Images/images/horses/horse-200.jpg\n",
      "../../Datasets/Images/images/horses/horse-65.jpg\n",
      "../../Datasets/Images/images/horses/horse-48.jpg\n",
      "../../Datasets/Images/images/horses/horse-10.jpg\n",
      "../../Datasets/Images/images/horses/horse-181.jpg\n",
      "../../Datasets/Images/images/horses/horse-112.jpg\n",
      "../../Datasets/Images/images/horses/horse-12.jpg\n",
      "../../Datasets/Images/images/horses/horse-121.jpg\n",
      "../../Datasets/Images/images/horses/horse-132.jpg\n",
      "../../Datasets/Images/images/horses/horse-168.jpg\n",
      "../../Datasets/Images/images/horses/horse-129.jpg\n",
      "../../Datasets/Images/images/horses/horse-134.jpg\n",
      "../../Datasets/Images/images/horses/horse-166.jpg\n",
      "../../Datasets/Images/images/horses/horse-77.jpg\n",
      "../../Datasets/Images/images/horses/horse-43.jpg\n",
      "../../Datasets/Images/images/horses/horse-104.jpg\n",
      "../../Datasets/Images/images/horses/horse-82.jpg\n",
      "../../Datasets/Images/images/horses/horse-20.jpg\n",
      "../../Datasets/Images/images/horses/horse-95.jpg\n",
      "../../Datasets/Images/images/horses/horse-42.jpg\n",
      "../../Datasets/Images/images/horses/horse-13.jpg\n",
      "../../Datasets/Images/images/horses/horse-192.jpg\n",
      "../../Datasets/Images/images/horses/horse-18.jpg\n",
      "../../Datasets/Images/images/horses/horse-106.jpg\n",
      "../../Datasets/Images/images/horses/horse-103.jpg\n",
      "../../Datasets/Images/images/horses/horse-146.jpg\n",
      "../../Datasets/Images/images/horses/horse-126.jpg\n",
      "../../Datasets/Images/images/horses/horse-32.jpg\n",
      "../../Datasets/Images/images/horses/horse-169.jpg\n",
      "../../Datasets/Images/images/horses/horse-67.jpg\n",
      "../../Datasets/Images/images/horses/horse-3.jpg\n",
      "../../Datasets/Images/images/horses/horse-34.jpg\n",
      "../../Datasets/Images/images/horses/horse-118.jpg\n",
      "../../Datasets/Images/images/horses/horse-113.jpg\n",
      "../../Datasets/Images/images/horses/horse-7.jpg\n",
      "../../Datasets/Images/images/horses/horse-190.jpg\n",
      "../../Datasets/Images/images/horses/horse-64.jpg\n",
      "../../Datasets/Images/images/horses/horse-165.jpg\n",
      "../../Datasets/Images/images/horses/horse-131.jpg\n",
      "../../Datasets/Images/images/horses/horse-11.jpg\n",
      "../../Datasets/Images/images/horses/horse-173.jpg\n",
      "../../Datasets/Images/images/horses/horse-58.jpg\n",
      "../../Datasets/Images/images/horses/horse-202.jpg\n",
      "../../Datasets/Images/images/horses/horse-127.jpg\n",
      "../../Datasets/Images/images/horses/horse-88.jpg\n",
      "../../Datasets/Images/images/horses/horse-187.jpg\n",
      "../../Datasets/Images/images/horses/horse-137.jpg\n",
      "../../Datasets/Images/images/horses/horse-188.jpg\n",
      "../../Datasets/Images/images/horses/horse-50.jpg\n",
      "../../Datasets/Images/images/horses/horse-184.jpg\n",
      "../../Datasets/Images/images/horses/horse-107.jpg\n",
      "../../Datasets/Images/images/horses/horse-51.jpg\n",
      "../../Datasets/Images/images/horses/horse-196.jpg\n",
      "../../Datasets/Images/images/horses/horse-90.jpg\n",
      "../../Datasets/Images/images/horses/horse-150.jpg\n",
      "../../Datasets/Images/images/horses/horse-195.jpg\n",
      "../../Datasets/Images/images/horses/horse-93.jpg\n",
      "../../Datasets/Images/images/horses/horse-99.jpg\n",
      "../../Datasets/Images/images/horses/horse-120.jpg\n",
      "../../Datasets/Images/images/horses/horse-96.jpg\n",
      "../../Datasets/Images/images/horses/horse-22.jpg\n",
      "../../Datasets/Images/images/horses/horse-66.jpg\n",
      "../../Datasets/Images/images/horses/horse-197.jpg\n",
      "../../Datasets/Images/images/horses/horse-160.jpg\n",
      "../../Datasets/Images/images/horses/horse-89.jpg\n",
      "../../Datasets/Images/images/horses/horse-79.jpg\n",
      "../../Datasets/Images/images/horses/horse-174.jpg\n",
      "../../Datasets/Images/images/horses/horse-145.jpg\n",
      "../../Datasets/Images/images/horses/horse-28.jpg\n",
      "../../Datasets/Images/images/horses/horse-163.jpg\n",
      "../../Datasets/Images/images/horses/horse-24.jpg\n",
      "../../Datasets/Images/images/horses/horse-2.jpg\n",
      "../../Datasets/Images/images/horses/horse-55.jpg\n",
      "../../Datasets/Images/images/horses/horse-68.jpg\n",
      "../../Datasets/Images/images/horses/horse-135.jpg\n",
      "../../Datasets/Images/images/horses/horse-49.jpg\n",
      "../../Datasets/Images/images/horses/horse-91.jpg\n",
      "../../Datasets/Images/images/horses/horse-62.jpg\n",
      "../../Datasets/Images/images/horses/horse-35.jpg\n",
      "../../Datasets/Images/images/horses/horse-44.jpg\n",
      "../../Datasets/Images/images/horses/horse-143.jpg\n",
      "../../Datasets/Images/images/horses/horse-97.jpg\n",
      "../../Datasets/Images/images/horses/horse-61.jpg\n",
      "../../Datasets/Images/images/horses/horse-186.jpg\n",
      "../../Datasets/Images/images/horses/horse-123.jpg\n",
      "../../Datasets/Images/images/horses/horse-33.jpg\n",
      "../../Datasets/Images/images/horses/horse-140.jpg\n",
      "../../Datasets/Images/images/horses/horse-84.jpg\n",
      "../../Datasets/Images/images/horses/horse-75.jpg\n",
      "../../Datasets/Images/images/horses/horse-69.jpg\n",
      "../../Datasets/Images/images/horses/horse-144.jpg\n",
      "../../Datasets/Images/images/horses/horse-81.jpg\n",
      "../../Datasets/Images/images/horses/horse-183.jpg\n",
      "../../Datasets/Images/images/horses/horse-162.jpg\n",
      "../../Datasets/Images/images/horses/horse-86.jpg\n",
      "../../Datasets/Images/images/horses/horse-57.jpg\n",
      "../../Datasets/Images/images/horses/horse-37.jpg\n",
      "../../Datasets/Images/images/horses/horse-31.jpg\n",
      "../../Datasets/Images/images/cats/cat.143.jpg\n",
      "../../Datasets/Images/images/cats/cat.7.jpg\n",
      "../../Datasets/Images/images/cats/cat.17.jpg\n",
      "../../Datasets/Images/images/cats/cat.124.jpg\n",
      "../../Datasets/Images/images/cats/cat.34.jpg\n",
      "../../Datasets/Images/images/cats/cat.141.jpg\n",
      "../../Datasets/Images/images/cats/cat.91.jpg\n",
      "../../Datasets/Images/images/cats/cat.44.jpg\n",
      "../../Datasets/Images/images/cats/cat.4.jpg\n",
      "../../Datasets/Images/images/cats/cat.131.jpg\n",
      "../../Datasets/Images/images/cats/cat.183.jpg\n",
      "../../Datasets/Images/images/cats/cat.104.jpg\n",
      "../../Datasets/Images/images/cats/cat.112.jpg\n",
      "../../Datasets/Images/images/cats/cat.94.jpg\n",
      "../../Datasets/Images/images/cats/cat.166.jpg\n",
      "../../Datasets/Images/images/cats/cat.19.jpg\n",
      "../../Datasets/Images/images/cats/cat.74.jpg\n",
      "../../Datasets/Images/images/cats/cat.132.jpg\n",
      "../../Datasets/Images/images/cats/cat.175.jpg\n",
      "../../Datasets/Images/images/cats/cat.93.jpg\n",
      "../../Datasets/Images/images/cats/cat.89.jpg\n",
      "../../Datasets/Images/images/cats/cat.25.jpg\n",
      "../../Datasets/Images/images/cats/cat.15.jpg\n",
      "../../Datasets/Images/images/cats/cat.20.jpg\n",
      "../../Datasets/Images/images/cats/cat.99.jpg\n",
      "../../Datasets/Images/images/cats/cat.107.jpg\n",
      "../../Datasets/Images/images/cats/cat.9.jpg\n",
      "../../Datasets/Images/images/cats/cat.80.jpg\n",
      "../../Datasets/Images/images/cats/cat.51.jpg\n",
      "../../Datasets/Images/images/cats/cat.154.jpg\n",
      "../../Datasets/Images/images/cats/cat.10.jpg\n",
      "../../Datasets/Images/images/cats/cat.22.jpg\n",
      "../../Datasets/Images/images/cats/cat.49.jpg\n",
      "../../Datasets/Images/images/cats/cat.101.jpg\n",
      "../../Datasets/Images/images/cats/cat.3.jpg\n",
      "../../Datasets/Images/images/cats/cat.16.jpg\n",
      "../../Datasets/Images/images/cats/cat.195.jpg\n",
      "../../Datasets/Images/images/cats/cat.103.jpg\n",
      "../../Datasets/Images/images/cats/cat.42.jpg\n",
      "../../Datasets/Images/images/cats/cat.184.jpg\n",
      "../../Datasets/Images/images/cats/cat.24.jpg\n",
      "../../Datasets/Images/images/cats/cat.37.jpg\n",
      "../../Datasets/Images/images/cats/cat.28.jpg\n",
      "../../Datasets/Images/images/cats/cat.69.jpg\n",
      "../../Datasets/Images/images/cats/cat.12.jpg\n",
      "../../Datasets/Images/images/cats/cat.48.jpg\n",
      "../../Datasets/Images/images/cats/cat.189.jpg\n",
      "../../Datasets/Images/images/cats/cat.180.jpg\n",
      "../../Datasets/Images/images/cats/cat.169.jpg\n",
      "../../Datasets/Images/images/cats/cat.161.jpg\n",
      "../../Datasets/Images/images/cats/cat.133.jpg\n",
      "../../Datasets/Images/images/cats/cat.197.jpg\n",
      "../../Datasets/Images/images/cats/cat.55.jpg\n",
      "../../Datasets/Images/images/cats/cat.21.jpg\n",
      "../../Datasets/Images/images/cats/cat.41.jpg\n",
      "../../Datasets/Images/images/cats/cat.153.jpg\n",
      "../../Datasets/Images/images/cats/cat.140.jpg\n",
      "../../Datasets/Images/images/cats/cat.85.jpg\n",
      "../../Datasets/Images/images/cats/cat.86.jpg\n",
      "../../Datasets/Images/images/cats/cat.151.jpg\n",
      "../../Datasets/Images/images/cats/cat.115.jpg\n",
      "../../Datasets/Images/images/cats/cat.149.jpg\n",
      "../../Datasets/Images/images/cats/cat.52.jpg\n",
      "../../Datasets/Images/images/cats/cat.67.jpg\n",
      "../../Datasets/Images/images/cats/cat.73.jpg\n",
      "../../Datasets/Images/images/cats/cat.110.jpg\n",
      "../../Datasets/Images/images/cats/cat.185.jpg\n",
      "../../Datasets/Images/images/cats/cat.137.jpg\n",
      "../../Datasets/Images/images/cats/cat.81.jpg\n",
      "../../Datasets/Images/images/cats/cat.31.jpg\n",
      "../../Datasets/Images/images/cats/cat.152.jpg\n",
      "../../Datasets/Images/images/cats/cat.172.jpg\n",
      "../../Datasets/Images/images/cats/cat.1.jpg\n",
      "../../Datasets/Images/images/cats/cat.61.jpg\n",
      "../../Datasets/Images/images/cats/cat.65.jpg\n",
      "../../Datasets/Images/images/cats/cat.98.jpg\n",
      "../../Datasets/Images/images/cats/cat.109.jpg\n",
      "../../Datasets/Images/images/cats/cat.123.jpg\n",
      "../../Datasets/Images/images/cats/cat.117.jpg\n",
      "../../Datasets/Images/images/cats/cat.114.jpg\n",
      "../../Datasets/Images/images/cats/cat.142.jpg\n",
      "../../Datasets/Images/images/cats/cat.192.jpg\n",
      "../../Datasets/Images/images/cats/cat.158.jpg\n",
      "../../Datasets/Images/images/cats/cat.66.jpg\n",
      "../../Datasets/Images/images/cats/cat.167.jpg\n",
      "../../Datasets/Images/images/cats/cat.102.jpg\n",
      "../../Datasets/Images/images/cats/cat.186.jpg\n",
      "../../Datasets/Images/images/cats/cat.121.jpg\n",
      "../../Datasets/Images/images/cats/cat.127.jpg\n",
      "../../Datasets/Images/images/cats/cat.163.jpg\n",
      "../../Datasets/Images/images/cats/cat.100.jpg\n",
      "../../Datasets/Images/images/cats/cat.150.jpg\n",
      "../../Datasets/Images/images/cats/cat.144.jpg\n",
      "../../Datasets/Images/images/cats/cat.36.jpg\n",
      "../../Datasets/Images/images/cats/cat.58.jpg\n",
      "../../Datasets/Images/images/cats/cat.135.jpg\n",
      "../../Datasets/Images/images/cats/cat.33.jpg\n",
      "../../Datasets/Images/images/cats/cat.119.jpg\n",
      "../../Datasets/Images/images/cats/cat.116.jpg\n",
      "../../Datasets/Images/images/cats/cat.29.jpg\n",
      "../../Datasets/Images/images/cats/cat.190.jpg\n",
      "../../Datasets/Images/images/cats/cat.122.jpg\n",
      "../../Datasets/Images/images/cats/cat.130.jpg\n",
      "../../Datasets/Images/images/cats/cat.129.jpg\n",
      "../../Datasets/Images/images/cats/cat.96.jpg\n",
      "../../Datasets/Images/images/cats/cat.97.jpg\n",
      "../../Datasets/Images/images/cats/cat.43.jpg\n",
      "../../Datasets/Images/images/cats/cat.13.jpg\n",
      "../../Datasets/Images/images/cats/cat.111.jpg\n",
      "../../Datasets/Images/images/cats/cat.2.jpg\n",
      "../../Datasets/Images/images/cats/cat.26.jpg\n",
      "../../Datasets/Images/images/cats/cat.113.jpg\n",
      "../../Datasets/Images/images/cats/cat.170.jpg\n",
      "../../Datasets/Images/images/cats/cat.39.jpg\n",
      "../../Datasets/Images/images/cats/cat.139.jpg\n",
      "../../Datasets/Images/images/cats/cat.178.jpg\n",
      "../../Datasets/Images/images/cats/cat.72.jpg\n",
      "../../Datasets/Images/images/cats/cat.138.jpg\n",
      "../../Datasets/Images/images/cats/cat.145.jpg\n",
      "../../Datasets/Images/images/cats/cat.105.jpg\n",
      "../../Datasets/Images/images/cats/cat.126.jpg\n",
      "../../Datasets/Images/images/cats/cat.23.jpg\n",
      "../../Datasets/Images/images/cats/cat.120.jpg\n",
      "../../Datasets/Images/images/cats/cat.11.jpg\n",
      "../../Datasets/Images/images/cats/cat.181.jpg\n",
      "../../Datasets/Images/images/cats/cat.198.jpg\n",
      "../../Datasets/Images/images/cats/cat.18.jpg\n",
      "../../Datasets/Images/images/cats/cat.193.jpg\n",
      "../../Datasets/Images/images/cats/cat.159.jpg\n",
      "../../Datasets/Images/images/cats/cat.87.jpg\n",
      "../../Datasets/Images/images/cats/cat.60.jpg\n",
      "../../Datasets/Images/images/cats/cat.27.jpg\n",
      "../../Datasets/Images/images/cats/cat.8.jpg\n",
      "../../Datasets/Images/images/cats/cat.164.jpg\n",
      "../../Datasets/Images/images/cats/cat.155.jpg\n",
      "../../Datasets/Images/images/cats/cat.84.jpg\n",
      "../../Datasets/Images/images/cats/cat.62.jpg\n",
      "../../Datasets/Images/images/cats/cat.177.jpg\n",
      "../../Datasets/Images/images/cats/cat.196.jpg\n",
      "../../Datasets/Images/images/cats/cat.108.jpg\n",
      "../../Datasets/Images/images/cats/cat.40.jpg\n",
      "../../Datasets/Images/images/cats/cat.71.jpg\n",
      "../../Datasets/Images/images/cats/cat.90.jpg\n",
      "../../Datasets/Images/images/cats/cat.118.jpg\n",
      "../../Datasets/Images/images/cats/cat.148.jpg\n",
      "../../Datasets/Images/images/cats/cat.5.jpg\n",
      "../../Datasets/Images/images/cats/cat.165.jpg\n",
      "../../Datasets/Images/images/cats/cat.14.jpg\n",
      "../../Datasets/Images/images/cats/cat.199.jpg\n",
      "../../Datasets/Images/images/cats/cat.56.jpg\n",
      "../../Datasets/Images/images/cats/cat.147.jpg\n",
      "../../Datasets/Images/images/cats/cat.128.jpg\n",
      "../../Datasets/Images/images/cats/cat.191.jpg\n",
      "../../Datasets/Images/images/cats/cat.194.jpg\n",
      "../../Datasets/Images/images/cats/cat.54.jpg\n",
      "../../Datasets/Images/images/cats/cat.35.jpg\n",
      "../../Datasets/Images/images/cats/cat.78.jpg\n",
      "../../Datasets/Images/images/cats/cat.82.jpg\n",
      "../../Datasets/Images/images/cats/cat.179.jpg\n",
      "../../Datasets/Images/images/cats/cat.160.jpg\n",
      "../../Datasets/Images/images/cats/cat.125.jpg\n",
      "../../Datasets/Images/images/cats/cat.174.jpg\n",
      "../../Datasets/Images/images/cats/cat.176.jpg\n",
      "../../Datasets/Images/images/cats/cat.46.jpg\n",
      "../../Datasets/Images/images/cats/cat.76.jpg\n",
      "../../Datasets/Images/images/cats/cat.64.jpg\n",
      "../../Datasets/Images/images/cats/cat.57.jpg\n",
      "../../Datasets/Images/images/cats/cat.171.jpg\n",
      "../../Datasets/Images/images/cats/cat.201.jpg\n",
      "../../Datasets/Images/images/cats/cat.202.jpg\n",
      "../../Datasets/Images/images/cats/cat.136.jpg\n",
      "../../Datasets/Images/images/cats/cat.77.jpg\n",
      "../../Datasets/Images/images/cats/cat.30.jpg\n",
      "../../Datasets/Images/images/cats/cat.70.jpg\n",
      "../../Datasets/Images/images/cats/cat.79.jpg\n",
      "../../Datasets/Images/images/cats/cat.187.jpg\n",
      "../../Datasets/Images/images/cats/cat.59.jpg\n",
      "../../Datasets/Images/images/cats/cat.156.jpg\n",
      "../../Datasets/Images/images/cats/cat.45.jpg\n",
      "../../Datasets/Images/images/cats/cat.92.jpg\n",
      "../../Datasets/Images/images/cats/cat.146.jpg\n",
      "../../Datasets/Images/images/cats/cat.32.jpg\n",
      "../../Datasets/Images/images/cats/cat.38.jpg\n",
      "../../Datasets/Images/images/cats/cat.75.jpg\n",
      "../../Datasets/Images/images/cats/cat.63.jpg\n",
      "../../Datasets/Images/images/cats/cat.88.jpg\n",
      "../../Datasets/Images/images/cats/cat.95.jpg\n",
      "../../Datasets/Images/images/cats/cat.6.jpg\n",
      "../../Datasets/Images/images/cats/cat.134.jpg\n",
      "../../Datasets/Images/images/cats/cat.50.jpg\n",
      "../../Datasets/Images/images/cats/cat.83.jpg\n",
      "../../Datasets/Images/images/cats/cat.53.jpg\n",
      "../../Datasets/Images/images/cats/cat.68.jpg\n",
      "../../Datasets/Images/images/cats/cat.173.jpg\n",
      "../../Datasets/Images/images/cats/cat.162.jpg\n",
      "../../Datasets/Images/images/cats/cat.47.jpg\n",
      "../../Datasets/Images/images/cats/cat.200.jpg\n",
      "../../Datasets/Images/images/cats/cat.182.jpg\n",
      "../../Datasets/Images/images/cats/cat.168.jpg\n",
      "../../Datasets/Images/images/cats/cat.106.jpg\n",
      "../../Datasets/Images/images/cats/cat.188.jpg\n",
      "../../Datasets/Images/images/cats/cat.157.jpg\n"
     ]
    }
   ],
   "source": [
    "dirs = p.glob(\"*\")\n",
    "for folder_dir in dirs:\n",
    "    label = str(folder_dir).split(\"/\")[-1][:-1] # [:-1] to remove 's' from dogs,cats,horses,humans\n",
    "    # iterate over all images inside all directories\n",
    "    for img_path in folder_dir.glob(\"*.jpg\"):\n",
    "        print(img_path)"
   ]
  },
  {
   "cell_type": "code",
   "execution_count": null,
   "metadata": {},
   "outputs": [],
   "source": []
  },
  {
   "cell_type": "markdown",
   "metadata": {},
   "source": [
    "### Randomly Shuffle our Data!\n",
    "- To shuffle data, we do not want to shuffle data but labels should remain same after shuffling. So we zip data and labels in a single unit, shuffle them and then unzip them  "
   ]
  },
  {
   "cell_type": "code",
   "execution_count": 4,
   "metadata": {},
   "outputs": [],
   "source": [
    "import random\n",
    "\n",
    "combined = list(zip(image_data,labels))\n",
    "random.shuffle(combined)\n",
    "\n",
    "#Unzip\n",
    "image_data[:],labels[:] = zip(*combined)  ## * is used to unzip any data which has been zipped"
   ]
  },
  {
   "cell_type": "markdown",
   "metadata": {},
   "source": [
    "\n",
    "### Visualise this data!"
   ]
  },
  {
   "cell_type": "code",
   "execution_count": 5,
   "metadata": {},
   "outputs": [
    {
     "data": {
      "image/png": "[encoded data removed]",
      "text/plain": [
       "<Figure size 432x288 with 1 Axes>"
      ]
     },
     "metadata": {
      "needs_background": "light"
     },
     "output_type": "display_data"
    },
    {
     "data": {
      "image/png": "[encoded data removed]",
      "text/plain": [
       "<Figure size 432x288 with 1 Axes>"
      ]
     },
     "metadata": {
      "needs_background": "light"
     },
     "output_type": "display_data"
    },
    {
     "data": {
      "image/png": "[encoded data removed]",
      "text/plain": [
       "<Figure size 432x288 with 1 Axes>"
      ]
     },
     "metadata": {
      "needs_background": "light"
     },
     "output_type": "display_data"
    },
    {
     "data": {
      "image/png": "[encoded data removed]",
      "text/plain": [
       "<Figure size 432x288 with 1 Axes>"
      ]
     },
     "metadata": {
      "needs_background": "light"
     },
     "output_type": "display_data"
    },
    {
     "data": {
      "image/png": "[encoded data removed]",
      "text/plain": [
       "<Figure size 432x288 with 1 Axes>"
      ]
     },
     "metadata": {
      "needs_background": "light"
     },
     "output_type": "display_data"
    },
    {
     "data": {
      "image/png": "[encoded data removed]",
      "text/plain": [
       "<Figure size 432x288 with 1 Axes>"
      ]
     },
     "metadata": {
      "needs_background": "light"
     },
     "output_type": "display_data"
    },
    {
     "data": {
      "image/png": "[encoded data removed]",
      "text/plain": [
       "<Figure size 432x288 with 1 Axes>"
      ]
     },
     "metadata": {
      "needs_background": "light"
     },
     "output_type": "display_data"
    },
    {
     "data": {
      "image/png": "[encoded data removed]",
      "text/plain": [
       "<Figure size 432x288 with 1 Axes>"
      ]
     },
     "metadata": {
      "needs_background": "light"
     },
     "output_type": "display_data"
    },
    {
     "data": {
      "image/png": "[encoded data removed]",
      "text/plain": [
       "<Figure size 432x288 with 1 Axes>"
      ]
     },
     "metadata": {
      "needs_background": "light"
     },
     "output_type": "display_data"
    },
    {
     "data": {
      "image/png": "[encoded data removed]",
      "text/plain": [
       "<Figure size 432x288 with 1 Axes>"
      ]
     },
     "metadata": {
      "needs_background": "light"
     },
     "output_type": "display_data"
    }
   ],
   "source": [
    "def drawImg(img):\n",
    "    plt.imshow(img)\n",
    "    plt.axis(\"off\")  ## turn off axis for images\n",
    "    plt.show()    \n",
    "    return \n",
    "\n",
    "for i in range(10):\n",
    "    drawImg(image_data[i])"
   ]
  },
  {
   "cell_type": "markdown",
   "metadata": {},
   "source": [
    "- These are some images after shuffeling. And these are not much clear bcoz we have read these images in size 32x32."
   ]
  },
  {
   "cell_type": "code",
   "execution_count": null,
   "metadata": {},
   "outputs": [],
   "source": []
  },
  {
   "cell_type": "markdown",
   "metadata": {},
   "source": [
    "## SVM Classifier\n",
    "- Now let us implement our SVM classifier for one-vs-one multiclass classification.\n",
    "- For 'ovo' , we need to make $^NC_2$ classifiers. We can copy code for SVM classifier for binary classification from our ../1.SVM folder and then add multiclassification using one-v-one by making $^NC_2$ classifiers."
   ]
  },
  {
   "cell_type": "code",
   "execution_count": 62,
   "metadata": {},
   "outputs": [],
   "source": [
    "class SVM:\n",
    "    def __init__(self,C=1.0):\n",
    "        self.C = C\n",
    "        self.theta = 0  \n",
    "        \n",
    "    def hingeLoss(self,theta,X,Y):    \n",
    "        loss  = 0.0\n",
    "        loss += .5*np.dot(theta,theta.T)\n",
    "\n",
    "        loss_2 = 0\n",
    "        for i in range(X.shape[0]):\n",
    "            ti = Y[i]*(np.dot(theta,X[i].T))  ## X is now: (m,n+1) and W is: (n+1,)\n",
    "            loss_2 += max(0,(1-ti))\n",
    "        loss = loss + self.C*loss_2\n",
    "        return loss[0][0]  ## loss is a array as [[value]], so return loss[0][0] \n",
    "    \n",
    "    def fit(self,X,Y,batch_size=100,learning_rate=0.001,maxItr=300):\n",
    "        m,n = X.shape        \n",
    "        c = self.C\n",
    "        \n",
    "        #Init the model parameters\n",
    "        theta = np.zeros((1,n))  ## create a vector of size n+1\n",
    "        \n",
    "        #Training starts from here...\n",
    "        losses = []  ## to store losses in each step\n",
    "        \n",
    "        ## using Mini-Batch Gradient Descent Algo\n",
    "        for i in range(maxItr):     #Training Loop for each epoch\n",
    "            l = self.hingeLoss(theta,X,Y)\n",
    "            losses.append(l)  ## store loss in each step in this list \n",
    "            ids = np.arange(m) ## create list for index values and then shuffle them\n",
    "            np.random.shuffle(ids) ## shuffle these and choose batches randomly in each iteration\n",
    "\n",
    "            #Batch Gradient Descent(Paper) with random shuffling\n",
    "            \n",
    "            for batch_start in range(0,m,batch_size): ## from 0..m with step_size=batch_size\n",
    "            ## here 'batch_start' is start idx of every mini batch.\n",
    "                gradw = 0  ## assume gradient=0 for each mini-batch initially\n",
    "                gradb = 0\n",
    "                \n",
    "                #Iterate over all examples in the mini batch\n",
    "                for j in range(batch_start,batch_start+batch_size):\n",
    "                    ## if j crosses 'm' then get out of loop\n",
    "# eg- last batch start from 48:56 ,But m=50, so j need to stop after 50 \n",
    "                    if j>=m:\n",
    "                        break\n",
    "                    else:\n",
    "                        i = ids[j]  ## i is idx for random values in the batch\n",
    "                        ti =  Y[i]*(np.dot(theta,X[i].T))\n",
    "                        ## we have used same variable 'i' for outer for loop and here to save memory\n",
    "## after ending of each whole epoch: 'i' will be changed to no_of_iterations: 0,1,2...max_iter\n",
    "## , according to first 'for' loop=>(this is to save memory, or we can use different variable for outer for loop and here)\n",
    "                        if ti<=1:\n",
    "                            gradw += c*Y[i]*X[i]\n",
    "                            \n",
    "                # Now update W,b after calculating gradient over all examples in mini-batch\n",
    "                theta = theta - learning_rate*theta + learning_rate*gradw                \n",
    "                ## update theta each mini batch.\n",
    "        self.theta = theta\n",
    "        return theta,losses        "
   ]
  },
  {
   "cell_type": "markdown",
   "metadata": {},
   "source": [
    "- In SVM, we made a hingeloss which is not required here. And we used mini-batch GD to make theta update and this SVM is applied using Pegoasos formulation and without using any kernel."
   ]
  },
  {
   "cell_type": "markdown",
   "metadata": {},
   "source": [
    "- Let us flatten our image from 808x32x32x3 --> 808 x 3072\n",
    "- Now every image has 3072 features."
   ]
  },
  {
   "cell_type": "code",
   "execution_count": 41,
   "metadata": {},
   "outputs": [
    {
     "name": "stdout",
     "output_type": "stream",
     "text": [
      "(808, 3072)\n",
      "(808,)\n"
     ]
    }
   ],
   "source": [
    "M = image_data.shape[0] \n",
    "image_data = image_data.reshape(M,-1)  # n0_of_rows = M and calculate columns automatically\n",
    "print(image_data.shape)\n",
    "print(labels.shape)"
   ]
  },
  {
   "cell_type": "markdown",
   "metadata": {},
   "source": [
    "- But in our SVM, we have used $\\theta$ instead of $w$ and $b$. So we need to add column of ones in the beginning:"
   ]
  },
  {
   "cell_type": "code",
   "execution_count": 48,
   "metadata": {},
   "outputs": [
    {
     "name": "stdout",
     "output_type": "stream",
     "text": [
      "(808, 3073)\n"
     ]
    }
   ],
   "source": [
    "## add 1s column to make it n+1 features \n",
    "ones = np.ones((image_data.shape[0],1)) # rows same as in X_train and one column\n",
    "new_img_data = np.hstack((ones, image_data)) \n",
    "print(new_img_data.shape)"
   ]
  },
  {
   "cell_type": "code",
   "execution_count": null,
   "metadata": {},
   "outputs": [],
   "source": []
  },
  {
   "cell_type": "markdown",
   "metadata": {},
   "source": [
    "### We need to convert data for One-for-One classifcation!\n",
    "- Read \"01_file.pdf\", there we dicussed that we need to train using points for only 2classes at a time. For that we need to know what points belong to each class. So we can create a dictionary for all 4 unique classes and create a list for each of these classes which contains all images belonging to that class"
   ]
  },
  {
   "cell_type": "code",
   "execution_count": 49,
   "metadata": {},
   "outputs": [
    {
     "name": "stdout",
     "output_type": "stream",
     "text": [
      "4\n"
     ]
    }
   ],
   "source": [
    "CLASSES = len(np.unique(labels))  ## gives us total number of classes\n",
    "print(CLASSES)"
   ]
  },
  {
   "cell_type": "code",
   "execution_count": 50,
   "metadata": {},
   "outputs": [],
   "source": [
    "def classWiseData(x,y):  ## X is images_data and y is labels here\n",
    "    data = {}  ## create dictionary to store all 4 unique classes\n",
    "    \n",
    "    for i in range(CLASSES):\n",
    "        data[i] = []  ## for all 4 classes: assign empty list to them initially\n",
    "## now data={0:[], 1:[], 2:[], 3:[]}. So these keys are also labels for cat,dog,horse,human\n",
    "## and we will assign X_points(images) to belonging class\n",
    "        \n",
    "    for i in range(x.shape[0]):  ## for all points\n",
    "        data[y[i]].append(x[i])  ## y[i] = 0 for cat, 1-dog,.. So add image to corresponding label\n",
    "## now data={0:[........], 1:[.......], 2:[........], 3:[........]}\n",
    "## All of these 4 classes will now have some points assigned to them \n",
    "    \n",
    "    for k in data.keys():\n",
    "        data[k] = np.array(data[k]) ## convert each list to a numpy array\n",
    "        \n",
    "    return data"
   ]
  },
  {
   "cell_type": "code",
   "execution_count": 51,
   "metadata": {},
   "outputs": [
    {
     "name": "stdout",
     "output_type": "stream",
     "text": [
      "<class 'dict'> <class 'numpy.ndarray'>\n",
      "(202, 3073) (202, 3073) (202, 3073) (202, 3073)\n"
     ]
    }
   ],
   "source": [
    "## don't forget to use updated data with n+1 features, else there will be lots of errors later on\n",
    "data = classWiseData(new_img_data,labels)\n",
    "print(type(data), type(data[0]))\n",
    "print(data[0].shape, data[1].shape, data[2].shape, data[3].shape)"
   ]
  },
  {
   "cell_type": "markdown",
   "metadata": {},
   "source": [
    "- 'data' is a dictionay where keys are class_labels and values are numpy_array containing all the images belonging to corresponding key(label).\n",
    "- As 'data' is dictionary, So len(dict) = 4 as there are 4 keys(unique labels) in it and every label has 202 images in them as shown by data[0].shape,..."
   ]
  },
  {
   "cell_type": "markdown",
   "metadata": {},
   "source": [
    "<img src=\"2.2img.jpeg\" alt=\"image\" align=\"left\" style=\"width: 450px;\">"
   ]
  },
  {
   "cell_type": "code",
   "execution_count": 52,
   "metadata": {},
   "outputs": [],
   "source": [
    "def getDataPairForSVM(d1,d2):\n",
    "    \"\"\"Combines Data of two classes into a signle matrix\"\"\"\n",
    "    \n",
    "    l1,l2 = d1.shape[0],d2.shape[0]\n",
    "    \n",
    "    samples = l1+l2  ## total number of examples\n",
    "    features = d1.shape[1]  ## number of features( here it will always be 3072)\n",
    "    \n",
    "    data_pair = np.zeros((samples,features))\n",
    "    data_labels = np.zeros((samples,))\n",
    "    \n",
    "    data_pair[:l1,:] = d1  ## assign d1 from 0:l1\n",
    "    data_pair[l1:,:] = d2  ## assign d2 from l1:l1+l2 which is end also\n",
    "    \n",
    "    data_labels[:l1] = -1  ## give labels -1 for 1st class\n",
    "    data_labels[l1:] = +1  ## give labels +1 for 1st class\n",
    "    \n",
    "    return data_pair,data_labels"
   ]
  },
  {
   "cell_type": "code",
   "execution_count": null,
   "metadata": {},
   "outputs": [],
   "source": []
  },
  {
   "cell_type": "markdown",
   "metadata": {},
   "source": [
    "## Training  $^NC_2$ SVM's Part!"
   ]
  },
  {
   "cell_type": "markdown",
   "metadata": {},
   "source": [
    "- Before training, as we are using $\\theta$ instead of using $w$ and $b$ . So we need to add a column of ones to make images with 3073 features and then pass that to training "
   ]
  },
  {
   "cell_type": "code",
   "execution_count": 53,
   "metadata": {},
   "outputs": [
    {
     "name": "stdout",
     "output_type": "stream",
     "text": [
      "(808, 3073)\n"
     ]
    }
   ],
   "source": [
    "## add 1s column to make it n+1 features \n",
    "ones = np.ones((image_data.shape[0],1)) # rows same as in X_train and one column\n",
    "new_img_data = np.hstack((ones, image_data)) \n",
    "print(new_img_data.shape)"
   ]
  },
  {
   "cell_type": "code",
   "execution_count": 66,
   "metadata": {},
   "outputs": [
    {
     "name": "stdout",
     "output_type": "stream",
     "text": [
      "[404.0, 39516.12570899407, 36332.829174108985, 35181.007142892886, 31238.589955390366, 22488.071217427856, 17159.426941775662, 10558.783604228727, 5519.557000843688, 998.919809702888, 1089.0118966356513, 24016.74939753806, 20952.783723931432, 24482.624838235464, 28044.221970702296, 28767.671490047484, 29587.499512265433, 32442.333540340125, 30936.229809217548, 28051.045453236973, 28587.029697566017, 28258.143515276905, 28519.43930737616, 22184.149061139677, 24745.600868603167, 25578.747945989762, 21955.76376972905, 27082.6597127024, 23907.858576857478, 24946.81147360687, 23139.13329776821, 21564.191124747733, 23988.80975580838, 23251.867355501076, 24821.29648554562, 21855.5529940784, 20960.503755552483, 14182.884064711177, 18570.397516935594, 13889.085650971954, 16181.869036905224, 16226.600725405951, 16909.033657426644, 19275.35106405436, 18782.978553417728, 11656.1449515258, 21635.873190417675, 15624.501851955936, 23842.512290915744, 16200.016770132095, 18125.07840012542, 17112.107761392326, 17434.849794334128, 12908.43527216456, 14751.842838435137, 13886.192021179288, 17206.856288531348, 13169.375634663884, 16553.27470453756, 13358.851170529902, 26226.849774373823, 12949.926544846456, 12781.652262537096, 16204.261720003955, 15781.103993979585, 21904.532621955062, 13225.856982501235, 17378.681518404726, 18299.212244353384, 9799.639310442373, 10980.123714915211, 13322.172649445934, 17555.55964677014, 17300.053774065007, 16009.110081162136, 16587.11027017986, 9588.044364490499, 12858.214452180104, 9950.570998243065, 9158.159828204574, 16515.33992834189, 9887.974907104955, 12089.114265617061, 16766.28304696559, 9872.665402598226, 5917.9225869046995, 11657.37649663457, 13466.439762599404, 12055.691088688896, 10997.291621104667, 15253.685999933132, 15578.919760424304, 10004.214190041122, 11632.10781215204, 6765.336711607409, 14785.514952536105, 12851.12536166856, 20666.06112671029, 19637.737795212393, 14564.542088117218, 12887.733829079583, 6096.530582300163, 13240.70365670154, 12821.02214585771, 7736.85523593871, 6973.777828926283, 8411.39135548461, 6126.159323900395, 7656.321831434878, 4977.904647724301, 12047.068244825914, 11401.96190449303, 7360.908794716587, 11529.65464475851, 8144.626828913731, 11997.708878911697, 11237.64353442284, 10550.273216077478, 19641.004249566653, 6611.811597558773, 11455.422479809891, 15863.16811601927, 9932.590973161452, 18881.79171951945, 8063.29259587169, 14687.620882316734, 13071.007433389557, 7066.285777031118, 12781.645040589827, 18524.08247595993, 16915.469808061927, 9188.979054924544, 11868.098597282908, 6142.271434422527, 7522.473041424673, 10398.607494012593, 12505.34718581631, 11928.807078219965, 7976.278519392024, 9607.947016390322, 9970.503732480687, 5289.250674838166, 4224.12773862259, 3481.7648532068647, 10967.868064071929, 16906.631100898638, 14346.868441226768, 9013.889148523167, 11541.056607447279, 12166.97477887434, 7321.180406675838, 13835.600829049617, 9317.280610873106, 12796.76734637245, 15302.435963470694, 9279.494441007255, 5990.03564439019, 10329.700843584129, 11116.33125917632, 11754.306980046329, 6714.77463663597, 5354.689934180947, 4693.825551546552, 5410.3203625402775, 16685.59304240507, 7448.378466469441, 12083.814389818122, 12554.466359880227, 17607.045973701526, 17876.880444239414, 5079.499189101433, 8898.12800835509, 8482.981982613157, 7098.947758039863, 16216.163510303015, 11206.78394737939, 5741.709095906602, 9266.56045030732, 8220.799476810344, 13601.855282357841, 7216.1897185388225, 10423.563374490424, 10582.509609122957, 10034.658420574102, 9989.289073388181, 10895.795033955952, 8652.59487259957, 6886.702416837784, 6199.360593837169, 4895.643614214288, 8406.177132428696, 4511.960207123352, 3355.18027194422, 3349.6260620484736, 3879.0649323736193, 3226.593890155084, 5397.936092729601, 10170.666356983702, 4850.442981144281, 7231.260386839227, 2952.1143083171974, 5412.674242473839, 12214.564880667187, 15473.456106311793, 11247.692989449364, 11885.28824167851, 20561.212906134257, 9872.28046880761, 12037.357399913564, 14524.95319247692, 11333.451885600087, 11789.406131631926, 23221.545010048103, 8003.282406461435, 6796.798858918163, 6683.016708220651, 4455.306978045775, 7348.4645655539025, 5887.216669174479, 8868.577155333121, 9213.823849836494, 12085.747424070281, 7133.052571446383, 7937.46608370821, 4511.058231891185, 13113.05295632888, 9384.603022001207, 6358.790154929136, 7372.269347459565, 8322.729263068588, 3801.04007997475, 3356.300813220589, 4083.287081461684, 2741.63725501966, 6303.493230843265, 13971.278075118265, 5529.559984663488, 6542.584134602199, 5363.376543987099, 7157.647489300986, 7612.084575252867, 12269.895848454915, 8348.183156686668, 10143.124724008485, 14707.314754380897, 13049.123818497503, 11754.234165444366, 2997.344219113161, 4217.918405786743, 3669.3999951709648, 2872.166758491617, 3670.1762972820848, 4109.577152146628, 6552.183269635962, 12121.43528316813, 8058.635220953655, 7730.570924649928, 9885.50588582734, 4315.94596664465, 3037.321122429175, 6783.538781697166, 12988.111730349498, 10992.131338013654, 3566.641887343046, 4660.268130429348, 4645.284059448524, 14561.443831885006, 14349.008522614218, 10050.902286147473, 12608.768566910652, 3664.798917225349, 6008.921630327277, 4754.2691496044035, 10756.029867120918, 4340.653851371135, 15783.114218339195, 2548.2041497880195, 6998.295055919022, 7629.668265090856, 14084.657639484947, 7977.458779988583, 13204.314990212504, 13659.075725646193, 3117.3454196658063, 5270.306320961029, 4371.823254638163, 2627.427796295209, 9292.466690818763, 11100.47870699588, 8594.535514698917, 8548.302443228335, 4320.814423991305, 8963.404662045725, 11137.797470779467, 7684.455702719848, 5708.343834176158, 7854.332740366421, 13890.254137793063, 5940.409438305668, 13796.47823563668, 3889.696747939846, 12928.760851238236, 6512.698694612298, 15961.48133187191, 3953.896914870849, 8423.635048603936, 8846.704182135445, 6074.062370916025, 3290.798642979666, 2928.5044552167624, 3095.2604941769614, 2528.1936219336717, 2587.6068240106774, 4829.6092611550575, 3767.797428518738, 4166.947428046753, 3387.0275579296595, 6677.207222848749, 11804.17158291194, 11034.888546802795, 6829.647658665598, 7349.592955612353, 10861.374630197257, 5151.682849621526, 3551.644405295591, 8999.522686043181, 3550.7617461817244, 13498.838973906277, 6116.285664146194, 5018.677751710683, 8832.32526199249, 13587.755685019967, 8428.20543424238, 9271.77170478748, 5430.485499125055, 9220.062754087201, 2711.0579812014175, 2493.775650600354, 3828.6388357574715, 6108.515683449467, 11545.954597404205, 4654.301992327002, 8617.734789259312, 7270.124413863057, 4798.038884168035, 7534.5478499633045, 7241.7305842277565, 2509.6170819923436, 3354.5652611978508, 2458.1931444992533, 5780.199435450464, 11847.064048588496, 5586.313215674631, 4500.110013236726, 2997.211040758623, 4607.805946940441, 8503.479709762032, 10777.587966241674, 4673.607763072249, 10326.940817258297, 6729.177010383664, 8399.567965288163, 3588.821328902542, 3048.2168182315268, 9664.158444544915, 2666.945152479173, 6482.226301070723, 2969.4996869303022, 6086.877675970867, 4183.989907698011, 4407.52307030001, 3138.962346109138, 6062.5319491808705, 9242.529248228659, 3859.454559567061, 7767.824160351881, 5656.091389537755, 3618.4603536447325, 2346.687688615142, 2667.663366617178, 2476.6547075891967, 2252.410902956868, 7918.2355828798445, 3602.7162235896812, 3937.2052661550247, 10972.575837505497, 7147.32138478823, 10076.192823994748, 10463.188989085525, 15177.221983192783, 5741.369961379511, 2201.4285192901148, 4561.793036515554, 3696.998172382056, 4059.282023426328, 11516.307737936531, 7445.919653408584, 7364.481678715117, 6855.475237297651, 4615.869408571204, 3297.6467764778386, 6016.535161930159, 8644.34048635923, 7592.315844876058, 3423.360251722497, 3942.67485547222, 4366.796944159131, 7190.368751356905, 6272.009108802088, 3634.1757331918743, 3899.469044948072, 12324.662508333582, 12849.240608778351, 3760.2653896930397, 5994.047396433976, 2994.9350757631746, 2963.6234096444114, 3096.8380454875196, 6132.849198320599, 8321.242942608402, 3449.806118055743, 2236.0840388816378, 4685.91726720688, 2119.9964388410713, 2009.6686182726414, 3494.5583767416942, 4596.838251185822, 3045.4814466659673, 3167.4525312499377, 11411.608743031233, 8983.610694677647, 7467.634690405427, 11508.54727224955, 3986.687952798192, 10646.548074768954, 5469.539531929798, 5943.285525502483, 2460.1007882502868, 3363.5421903440074, 6045.856784403112, 10201.5339606679, 8408.906549095243, 10383.848424755923, 7795.106921430548, 7246.832380770462, 8591.051228822043, 3501.5297429291263, 2470.5210116426606, 5508.636116936698, 2131.351272894844, 2746.455797266941, 6415.212037759986, 5605.789954366756, 2621.3116938939665, 2058.6409400857283, 2405.908031120709, 2446.3589126353345, 3623.438132810907, 1891.7217926999965, 2180.497928275789, 5243.280248611869, 3029.9557812992443, 5525.7624016013515, 3109.8279071881307, 12056.435809246017, 8677.327138773991, 4559.849713495096, 5811.818944381425, 3856.6708407201018, 5898.999927172777, 7304.9826871768955, 5742.522307847133, 2017.9159423990334, 9271.455666708822, 7476.75260737178, 4734.045562419688, 6729.644572621143, 2316.2622086769925, 2333.805304860208, 5541.682519529591, 6408.656434771919, 15320.760464055818, 3929.140289659578, 3562.003729232593, 1934.4040703805997, 12248.372874755216, 2753.1282315884596, 2443.4811870509106, 3603.888817024038, 4122.284303391979, 14995.201388893849, 6350.879419221262, 9597.48076999484, 9101.356450086998, 3356.0169536742874, 1913.3650516801433, 2120.1436094701276, 7499.387832734623, 2122.8551430789803, 2148.4721429805086, 2303.792350141026, 1750.4439838014746, 10818.794154702031, 8439.559461998573, 4682.229917103419, 4969.057532930262, 10022.091777819707, 11239.881346028124, 13081.160368346493, 5431.551981703869, 6300.605832928154, 2256.4731284300883, 4163.494950934005, 5663.39796381414, 4054.7880624871123, 12003.902836389447, 2604.1412111301693, 3079.9768864046455, 2323.6504909404885, 2104.354608397502, 2609.122101501679, 4171.592240558932, 4640.390704743823, 9254.335875104329, 9106.404759846624, 8972.671113158527, 5240.780178132074, 7763.999683433466, 7794.7016858905245, 4728.25810119701, 3075.860046962269, 4486.546561975182, 2680.2129214016163, 5813.671051734537, 4105.3075568088425, 1985.861343079749, 2692.677410158324, 5934.225094196789, 9588.134033535689, 3186.833575227592, 2689.8464643907755, 3196.26831691847, 5744.491669438388, 6437.411667820898, 7830.2650101525305, 10126.093087070127, 2136.966214615806, 2176.910971324658, 4354.214845427548, 2102.2176059504654, 1787.661849432857, 3529.1925716120654, 4542.655083628261, 2242.7391719835464, 10622.019125335337, 6795.652518742488, 4973.839149369928, 5963.311848276143, 2835.1847351785077, 3695.7948244702948, 4749.677394978112, 14557.71340177034, 8546.620402168539, 15590.4919728041, 6069.266333257813, 2939.6184752803883, 2811.8966090891427, 1861.1374824412776, 2016.184327691503, 4006.9639551169435, 4367.173816276472, 1953.5961928990766, 1751.5154909760881, 1636.555514520326, 1848.372101051151, 5314.934825012024, 5079.051773705614, 8463.441010968552, 4021.1439364177, 3906.1420184511207, 7891.976100899601, 3571.4472245043744, 3446.485607707212, 8618.746737108513, 3224.136978761496, 5186.306967472296, 2709.7547930855467, 7358.840340594367, 2948.943710492935, 8226.198764944229, 2156.273285809354, 2537.73512208799, 1782.7871115276926, 3548.32868849216, 5802.534223798065, 3476.6921686157057, 1877.8981863060285, 3324.922486505977, 5038.700189652516, 5868.785476783098, 6841.726105408091, 7595.824644408788, 5514.463571546809, 3231.8423091300074, 1854.1148932307135, 2471.2027867455968, 3024.4735657565398, 4219.746445074313, 9491.632388205513, 11106.908978083215, 6956.172652862862, 1973.5570183764614, 2661.102177557427, 2156.442073931604, 1634.0381921079725, 1752.9584167620883, 8611.373171076439, 3146.848995613322, 4862.054861491655, 7643.194772337524, 5116.443644598586, 3908.40214261258, 5860.982935102161, 5984.534303799485, 4898.359923549598, 2029.2554240285779, 1608.0122085928947, 3082.809218779981, 8159.567833064155, 1712.3287700516576, 3400.6923684850813, 5989.91711859068, 6689.80215981267, 6503.811631671486, 4821.132431282345, 6498.476902146414, 2551.3300125748215, 5606.052042735005, 5483.187489690005, 7877.042396027244, 9073.951967598747, 7494.970056187094, 3086.9093094851237, 3117.200458919953, 2483.173505589048, 8640.996580765242, 6908.309106655051, 9010.985011227096, 2287.588209636696, 1802.349702719901, 1758.4353380670277, 2194.676717997551, 5556.6398570586025, 4272.8908857202105, 7301.12633694981, 2685.967604258189, 2093.072608804279, 1639.5123855233694, 3940.46529151994, 3485.0496089491644, 3068.552434604908, 2409.3993035542835, 4145.763786932533, 2921.9010650434457, 3436.9181145413027, 3969.0304315823323, 2540.9008082614764, 2372.991338561827, 6711.330477749143, 6635.9922363491305, 3970.434687003704, 17239.28419347613, 2231.681043639218, 1723.5495022364157, 4540.157322071345, 3785.5409411120118, 3728.854528836384, 6168.661541422611, 5937.80291178351, 2605.864451548575, 4809.309877589878, 3133.5660085692093, 7688.699877220066, 7859.406082320654, 3217.6961769796285, 5306.150970456975, 3817.5041275441627, 4154.702851206235, 1752.842186839031, 1840.3571167902016, 3475.256252391988, 2077.6811594071337, 4717.392931893526, 4446.990727142629, 6219.688934778934, 6227.5772362467505, 1708.7337558009149, 3138.526477069171, 2061.62793751694, 2292.8219769225957, 1875.7306509029447, 2318.787828600464, 1528.7526897108576, 1584.3774423822404, 5236.53229496752, 3244.903251822309, 4178.920102855545, 4143.097253988489, 2447.640905181257, 4797.354548640881, 2898.8598643087366, 4196.073663794386, 2880.2411402502325, 4503.385113081207, 4450.881776498217, 3230.2893648427957, 3265.280029966576, 3644.4800380108245, 7814.345418017762, 6843.995489715377, 4921.033558914553, 7232.524661579677, 1778.082782746379, 3345.7100091999705, 3461.7373235926175, 3430.8979313510627, 7150.448453497673, 1674.9952960732037, 2520.115766059006, 3381.861709754676, 3632.191031188111, 2062.1849959019087, 4883.697293838181, 4900.265125554457, 2832.8390347565337, 1823.8620377155605, 5857.8827845031765, 3874.90953117588, 7056.403239901259, 2928.1771013744374, 5082.181196101273, 4470.230661178171, 4260.092973230626, 9378.835794178985, 3869.7759897619567, 8509.181950386157, 7208.575699182838, 4215.588072828783, 2923.0136072346313, 4702.2469916135415, 6056.924461279217, 3466.0993700965655, 2587.8799781136304, 5205.782482590899, 2510.6011420668788, 1728.8889610553438, 5211.93052598597, 2047.348968738622, 2149.3528713421333, 3629.1310803221195, 2396.4737549634997, 2058.3414548855812, 2261.4944929995877, 4907.765327618017, 2263.0489973637814, 2054.3139626696375, 2396.836131363438, 3778.1587690371534, 7719.703626237455, 3343.5477533495346, 1876.0089779203722, 4972.125879693239, 1978.911836214053, 3141.8558308561273, 4196.435164934291, 9272.519183619776, 10016.927007446486, 5584.886583050063, 5035.836268693705, 2812.732883561366, 1646.9766399441364, 1995.9949781613686, 2155.89040355523, 1545.4128245901304, 1475.8906667405836, 3725.425715286703, 3661.6417025778455, 3271.545707193396, 5176.173327460027, 2769.2517780962253, 3258.1819975782455, 5530.470204078729, 2240.9646828155373, 2407.515279146065, 6578.956783976926, 3066.4865910640256, 4684.604131737405, 5073.304698480276, 1569.7722501678654, 2606.9718901675515, 2126.3418548440063, 2491.8709963033994, 8560.893155427862, 4217.5799650545305, 5234.061637179409, 2374.1189572185913, 12564.102774109391, 5936.322622282143, 4826.022233245811, 4320.453642639951, 4325.750591732434, 6710.357372135908, 5822.505176024547, 3172.1560749022574, 1954.207499666083, 4982.646879263176, 1722.699066358305, 4866.508062090289, 7926.407136872513, 7918.100566701948, 3754.9655363410343, 1803.1223733638262, 5225.186324088664, 2363.1835851058195, 1661.848210582815, 1535.3301691641539, 4497.9172069356355, 1538.1996081321827, 2483.0432889542885, 3313.7621827472904, 3356.0374523747137, 3852.1892692022093, 5826.008210074073, 2907.431027937803, 4847.960682928847, 2764.3000421281813, 2013.2993285217174, 4222.450689634257, 3171.4954547582456, 2067.568113167608, 4941.080936688896, 1837.8583037147798, 3030.391657824168, 3478.148709241886, 7007.853343236138, 4066.852345998646, 1764.4979435072285, 3327.709661471366, 4175.442520454363, 2921.8748406878817, 2567.315100518081, 1940.0844273022853, 7200.419787889754, 3950.0679755531505, 1708.5068700782676, 2449.349067101573, 1650.3113654388503, 8873.260975055684, 3113.9289265260613, 6207.744508140051, 2375.1430602081573, 3743.3720247509555, 4366.295172545113, 4539.0683483147295, 3942.8419643115753, 3580.0639999834475, 1938.0400669304381, 4510.775054839056, 7349.089455822821, 2148.9568476449713, 1937.9460477342855, 2926.432038781926, 3993.8783710321095, 4616.404553874177, 2986.510146314817, 3475.0775570020405, 3381.9248190474464, 4697.388478443414, 4223.84332869347, 1647.0444911969676, 2956.7804101665915, 1705.324020668587, 2884.9308995503093, 2288.303395348254, 2522.9514563430525, 2561.375799838831, 4713.496209804974, 5585.938595699227, 2663.0878777944586, 1516.2347036377269, 2585.487004715201, 3596.7726346584336, 3404.221980933527, 1622.8389819796844, 2579.8742390203633, 1572.8788500377793, 3034.281226044684, 3833.439462129016, 4985.454095880709, 2062.017597358762, 8139.610695518235, 3110.896001013966, 1868.813369637311, 4427.214268843211, 4840.966281632269, 4055.939289324471, 4631.630699713595, 13821.105498277917, 2357.052126598953, 2426.669765397689, 1771.9912528171096, 1459.5604134016849, 4312.309958707988, 3071.0897643357634, 3040.0845716552026, 1794.4360728042136, 1540.3104654965657, 3546.7496078399026, 4980.105352159691, 3373.4451906748945, 2349.8844377775254, 2430.1530902200157, 3831.879462289703, 2042.6325952878583, 3408.1932390091297, 4714.349824309507, 3009.4077941147457, 6122.83316515613, 6814.770996069383, 2130.6509573199096, 2479.6053836112737, 2622.191849365323, 2750.398860377878, 5065.959711783076, 7970.3781239569835, 5663.3864326448065, 2724.4399665399064, 4314.483653405182, 2572.3513420968065, 4034.4897995618985, 3517.079258118971, 2363.074267062688, 2632.673981405268, 2533.981824924625, 1932.956334278896, 1808.2310037072305, 1988.5100264264465, 2659.8274842234146, 4344.520179582734, 6032.8452018648295, 3776.1852331277696, 6985.87268428182, 4045.2886226572205, 4521.946175732086, 5357.453265558683, 4439.783657040623, 3574.8215194318195, 3811.8798281758986, 1674.8162017127897, 1507.9089193279667, 2688.497525161054, 15300.037559657485, 6350.268772661349, 2159.323116003406, 2592.4449231911753, 3394.559688369819, 3476.159235966056, 3079.3185502659, 2099.108672836227, 2572.3212153734517, 2617.924512865382, 3740.659231905008, 6818.139998772508, 1929.0991721972487, 4104.934065807286, 3430.39959641108, 3338.811551910549, 2694.45227742906, 1582.0228375540194, 5609.713137235452, 5502.155027627179, 4461.591869297706, 2036.0512999447412, 1561.643441211179, 1923.8007434713938, 1550.463653693592, 2721.5068682103783, 3878.016124312563, 1978.3629193616853, 5098.441720390842, 3935.567153962311, 3067.714299882555, 2414.6197902388403, 2595.382488171405, 4127.163409956673, 2399.3342477912015, 3281.6020040709836, 6332.570102116606, 3449.012184600764, 3544.7475437337685]\n"
     ]
    },
    {
     "data": {
      "text/plain": [
       "<Figure size 360x216 with 0 Axes>"
      ]
     },
     "metadata": {},
     "output_type": "display_data"
    }
   ],
   "source": [
    "plt.style.use('seaborn')\n",
    "plt.figure(figsize=(5,3))\n",
    "mySVM  = SVM()\n",
    "xp, yp  = getDataPairForSVM(data[0],data[1]) #data is dict. that gives us all points in a class.\n",
    "theta, loss  = mySVM.fit(xp,yp,learning_rate=0.0000001,maxItr=1000)\n",
    "print(loss)\n",
    "# plt.plot(loss)"
   ]
  },
  {
   "cell_type": "markdown",
   "metadata": {},
   "source": [
    "- To get a pairwise data: eg- if we have classes: 0,1,2,3 then pairs will be like 0 will be paired with=> 1,2,3 and then 1 with=> 2,3 and 2 with=> 3\n",
    "- So we make pairs using 2 for loops  to pair and j always starts from i+1 as seen in above example. i=0--> j=1,2,3 , i=1--> j=2,3 , i=2--> j=3"
   ]
  },
  {
   "cell_type": "code",
   "execution_count": 57,
   "metadata": {},
   "outputs": [],
   "source": [
    "def trainSVMs(x,y):\n",
    "    \n",
    "    svm_classifiers = {}  ## to store all NC2 classifiers\n",
    "    for i in range(CLASSES):  ## CLASSES=N=4 here\n",
    "        svm_classifiers[i] = {}  ## create a sub_dictionary for each classes where key=\"class_id\"\n",
    "        ## we will add all the pairs in sub dictionary. At last svm_classifier will be as:\n",
    "# {0 : {1 : 'theta(0-1)' , 2:.. , 3:..}, 1: {2:.., 3:..}, 2:{3:..}, 3:{}} see below cell O/P\n",
    "        for j in range(i+1,CLASSES):  ## start from i+1\n",
    "            xpair,ypair = getDataPairForSVM(data[i],data[j]) # get data of 2pairs only to train for each classifier\n",
    "            theta,loss = mySVM.fit(xpair,ypair,learning_rate=0.00001,maxItr=1000)\n",
    "            svm_classifiers[i][j] = theta  ## add theta for (i-j) pair\n",
    "            \n",
    "            plt.figure(figsize=(5,3))\n",
    "            plt.plot(loss)\n",
    "            plt.show()\n",
    "            \n",
    "    \n",
    "    return svm_classifiers"
   ]
  },
  {
   "cell_type": "code",
   "execution_count": 58,
   "metadata": {},
   "outputs": [
    {
     "data": {
      "image/png": "[encoded data removed]",
      "text/plain": [
       "<Figure size 360x216 with 1 Axes>"
      ]
     },
     "metadata": {},
     "output_type": "display_data"
    },
    {
     "data": {
      "image/png": "[encoded data removed]",
      "text/plain": [
       "<Figure size 360x216 with 1 Axes>"
      ]
     },
     "metadata": {},
     "output_type": "display_data"
    },
    {
     "data": {
      "image/png": "[encoded data removed]",
      "text/plain": [
       "<Figure size 360x216 with 1 Axes>"
      ]
     },
     "metadata": {},
     "output_type": "display_data"
    },
    {
     "data": {
      "image/png": "[encoded data removed]",
      "text/plain": [
       "<Figure size 360x216 with 1 Axes>"
      ]
     },
     "metadata": {},
     "output_type": "display_data"
    },
    {
     "data": {
      "image/png": "[encoded data removed]",
      "text/plain": [
       "<Figure size 360x216 with 1 Axes>"
      ]
     },
     "metadata": {},
     "output_type": "display_data"
    },
    {
     "data": {
      "image/png": "[encoded data removed]",
      "text/plain": [
       "<Figure size 360x216 with 1 Axes>"
      ]
     },
     "metadata": {},
     "output_type": "display_data"
    }
   ],
   "source": [
    "## don't forget to pass updated images data with 3073 features, else it'll give some error \n",
    "svm_classifiers = trainSVMs(new_img_data,labels)"
   ]
  },
  {
   "cell_type": "code",
   "execution_count": 90,
   "metadata": {},
   "outputs": [
    {
     "name": "stdout",
     "output_type": "stream",
     "text": [
      "(3073,)\n"
     ]
    }
   ],
   "source": [
    "#Parameters for Cats and dogs\n",
    "cats_dogs = svm_classifiers[0][1]\n",
    "cats_humans = svm_classifiers[0][3]\n",
    "print(cats_dogs[0].shape)"
   ]
  },
  {
   "cell_type": "markdown",
   "metadata": {},
   "source": [
    "## Prediction\n",
    "- Now we have trained $^NC_2$ classifiers and know $\\theta$ parameters which are parameters of hyperplane seperating all (i-j) pairs. To make predictions, we need to test our testing_point over all classifiers, and then do majority voting. "
   ]
  },
  {
   "cell_type": "code",
   "execution_count": 91,
   "metadata": {},
   "outputs": [],
   "source": [
    "## this function predicts for a binary classifier: if distance>0: then +ve class else -ve class\n",
    "def binaryPredict(x,theta):\n",
    "    z  = np.dot(x,theta.T)\n",
    "    if z>=0:\n",
    "        return 1\n",
    "    else:\n",
    "        return -1  ## in case of logistic regression, it would be 0"
   ]
  },
  {
   "cell_type": "markdown",
   "metadata": {},
   "source": [
    "- Here in below cell: we have create a vector with N(CLASSES) size and initialized all to zero. Then we will train on all $^NC_2$ classifiers and increase the count of class which is the predicted O/P in each iteration. In end, the class which has maximum count will be predicted O/P. (As we discussed in 01_file.pdf)"
   ]
  },
  {
   "cell_type": "code",
   "execution_count": 92,
   "metadata": {},
   "outputs": [],
   "source": [
    "def predict(x):    \n",
    "    count = np.zeros((CLASSES,))  \n",
    "    \n",
    "    for i in range(CLASSES):\n",
    "        for j in range(i+1,CLASSES):\n",
    "            theta = svm_classifiers[i][j]  ## get theta for (i-j) classiifier\n",
    "            \n",
    "            #Take a majority prediction \n",
    "            z = binaryPredict(x,theta)  \n",
    "            if(z==1):  ## increase count of class which predicts output in (i,j)th iteration\n",
    "                count[j] += 1\n",
    "            else:\n",
    "                count[i] += 1\n",
    "    \n",
    "    final_prediction = np.argmax(count)  # predicted output is class which has majority count\n",
    "    #print(count)\n",
    "    return final_prediction"
   ]
  },
  {
   "cell_type": "markdown",
   "metadata": {},
   "source": [
    "- We can add 1 to make every image with 3073 features inside our predictions. But instead of adding 1 for each image inside predictions for loop, we can first conevrt whole testing array to array of ones and then do testing."
   ]
  },
  {
   "cell_type": "code",
   "execution_count": 93,
   "metadata": {},
   "outputs": [
    {
     "name": "stdout",
     "output_type": "stream",
     "text": [
      "3\n",
      "1\n"
     ]
    }
   ],
   "source": [
    "print(predict(new_img_data[0]))\n",
    "print(labels[0])"
   ]
  },
  {
   "cell_type": "code",
   "execution_count": 94,
   "metadata": {},
   "outputs": [],
   "source": [
    "def accuracy(x,y):\n",
    "    \n",
    "    count = 0\n",
    "    for i in range(x.shape[0]):\n",
    "        prediction = predict(x[i])\n",
    "        if(prediction==y[i]):\n",
    "            count += 1\n",
    "            \n",
    "    return count/x.shape[0]"
   ]
  },
  {
   "cell_type": "code",
   "execution_count": 96,
   "metadata": {},
   "outputs": [
    {
     "data": {
      "text/plain": [
       "0.49876237623762376"
      ]
     },
     "execution_count": 96,
     "metadata": {},
     "output_type": "execute_result"
    }
   ],
   "source": [
    "accuracy(new_img_data,labels)"
   ]
  },
  {
   "cell_type": "markdown",
   "metadata": {},
   "source": [
    "# SVM using SK-learn \n",
    "\n"
   ]
  },
  {
   "cell_type": "code",
   "execution_count": 97,
   "metadata": {},
   "outputs": [],
   "source": [
    "from sklearn import svm"
   ]
  },
  {
   "cell_type": "code",
   "execution_count": 98,
   "metadata": {},
   "outputs": [],
   "source": [
    "svm_classifier = svm.SVC(kernel='linear',C=1.0)"
   ]
  },
  {
   "cell_type": "code",
   "execution_count": 99,
   "metadata": {},
   "outputs": [
    {
     "data": {
      "text/plain": [
       "0.5792079207920792"
      ]
     },
     "execution_count": 99,
     "metadata": {},
     "output_type": "execute_result"
    }
   ],
   "source": [
    "svm_classifier.fit(image_data,labels)\n",
    "svm_classifier.score(image_data,labels)"
   ]
  },
  {
   "cell_type": "code",
   "execution_count": null,
   "metadata": {},
   "outputs": [],
   "source": []
  }
 ],
 "metadata": {
  "kernelspec": {
   "display_name": "Python 3 (ipykernel)",
   "language": "python",
   "name": "python3"
  },
  "language_info": {
   "codemirror_mode": {
    "name": "ipython",
    "version": 3
   },
   "file_extension": ".py",
   "mimetype": "text/x-python",
   "name": "python",
   "nbconvert_exporter": "python",
   "pygments_lexer": "ipython3",
   "version": "3.8.10"
  }
 },
 "nbformat": 4,
 "nbformat_minor": 2
}
