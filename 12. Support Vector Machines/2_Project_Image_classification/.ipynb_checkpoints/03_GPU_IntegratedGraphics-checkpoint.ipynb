{
 "cells": [
  {
   "cell_type": "markdown",
   "id": "25ace7a5",
   "metadata": {},
   "source": [
    "### **What is GPU and Why having a GPU gives better performance in image processing than integrated graphics**:"
   ]
  },
  {
   "cell_type": "markdown",
   "id": "08be6e25",
   "metadata": {},
   "source": [
    "#### Topics:\n",
    "1. What is GPU\n",
    "2. What is Dedicated GPU\n",
    "3. What is Integrated Graphics \n",
    "4. Difference in Dedicated GPU and Integrated Graphics\n",
    "5. What is CUDA toolkit \n",
    "6. Specs(specifications) of my system"
   ]
  },
  {
   "cell_type": "markdown",
   "id": "a07cc778",
   "metadata": {},
   "source": [
    "#### 1. GPU:\n",
    "GPU is a Graphical Processing unit which is similar to CPU, but it mainly handles the processing of graphics-related data and instructions."
   ]
  },
  {
   "cell_type": "markdown",
   "id": "20d94438",
   "metadata": {},
   "source": [
    "#### 2. Dedicated GPU:\n",
    "- Dedicated GPU have their own seperate PCB(circuit board) for GPU and they perform all GPU operation on this processor. It is like a mini-board itself.\n",
    "- Dedicated GPU is just like a mini-CPU irself. A CPU has processor, CPU fan, memory. Similarly a GPU has processor, fan, memory. And it can be fit on the motherboard. There is spce left on motherboard for this if anyone wants to add some GPU externally. \n",
    "- As it has seperate unit for graphics opperations, it increases performance of system and do graphics related operations much faster. But GPU uses so much of power and releases large amount of heat. So they decrease battery life when GPU is in use.\n",
    "\n",
    "- **There are around 1000-4000 cores in a dedicated GPU**.\n",
    "\n",
    "##### Why do we have so high number of cores in GPU whereas only 8cores in CPU?\n",
    "**Ans.** This is bcoz GPU cores are very small compared to CPU and they are very less efficient compared to CPU cores. And **GPU cores are specialized for only graphics pupose**. All of these GPU perofrm in parralel and as they are designed only for graphics related things. **GPU gives much better performance than CPU for grpahics work. But for other purposes, GPU is very bad compared to CPU.** "
   ]
  },
  {
   "cell_type": "markdown",
   "id": "ba2c3b6a",
   "metadata": {},
   "source": [
    "#### 3.Integrated Graphics:\n",
    "- Integrated graphics do not have their own seperate memory for GPU. They use shared memory. They take some memory from RAM(of 8GB). \n",
    "- This do not take much power as CPU is used for graphics purpose not GPU due to which **it give longer battery life**. But as CPU is performing all the operations here, So **workload on CPU is increased which decreases the performance as compared to dedicated GPU**."
   ]
  },
  {
   "cell_type": "markdown",
   "id": "74415161",
   "metadata": {},
   "source": [
    "#### 4. Dedicated GPU vs Integrated Graphics Card:\n",
    "- System may slow down using Integrated Circuits if graphics related work is processing like gaming etc.. bcoz some part of CPU is then used by Integrated graphics for graphics pupose.\n",
    "- Dedicated GPUs release much heat. But they're designed in a way so that they can handle heat easily.\n",
    "- A system has 4gb-ram for CPU and 2gb-ram for GPU(calles as VRAM). If we have dedicated GPU, then there is a total of 6gb ram: 4gb on CPU and 2gb on GPU.\n",
    "- And if we have a integrates sytem with 4gb-ram for CPu and 2gb-VRAM, then total ram is 4gb, from which 2gb is shared with graphics card\n",
    "\n",
    "- It was just to give a idea. In real systems, **integrated circuits can use (1-5)% memory of CPU.**\n",
    "\n",
    "Almost all the differences are given in detail in 2. and 3. part , But still there are many more differences which you can see in below link in detail:\n",
    "https://techguided.com/dedicated-graphics-card-vs-integrated-graphics/#:~:text=A%20GPU%20."
   ]
  },
  {
   "cell_type": "markdown",
   "id": "9b64927e",
   "metadata": {},
   "source": [
    "##### When to use GPU and when integrated graphics:\n",
    "- If someone have low budget or do not perform any graphics related tasks, and need computer for only simple tasks: then they can use integrated circuits.\n",
    "- dedicated GPU is used when someone need computer for gaming, animations, 3d designing, image processing, computer vision or any other graphics related work"
   ]
  },
  {
   "cell_type": "markdown",
   "id": "dc82c8e2",
   "metadata": {},
   "source": [
    "#### 5. CUDA and CUDA toolkit in python:\n",
    "- CUDA is a software layer that gives direct access to the GPU's virtual instruction set and parallel computational elements, for the execution of compute kernels.\n",
    "- CUDA toolkit is a package in python which handles allows us to use GPU directly instead of CPU for desired operations.\n",
    "- So **there are some image processing things in Machine Learning for which tensorflow uses CUDA toolkit to work on GPU instead of CPU as GPU is specially designed for graphics purpose and gives better performance**."
   ]
  },
  {
   "cell_type": "markdown",
   "id": "0e804892",
   "metadata": {},
   "source": [
    "#### 6. Specs of my system:\n",
    "- My system has integrated Circuit which has 128mb RAM and 3966mb shared memory. And my CPU has 8GB RAM and 512GB SSD(475 usable).\n",
    "- So 128/8192*100 = 1.56% of CPU RAM is used by integrated circuits. \n",
    "- 4gb/475gb*100 = 0.85% of my memory is shared by integrated graphics."
   ]
  },
  {
   "cell_type": "code",
   "execution_count": null,
   "id": "02de0620",
   "metadata": {},
   "outputs": [],
   "source": []
  }
 ],
 "metadata": {
  "kernelspec": {
   "display_name": "Python 3 (ipykernel)",
   "language": "python",
   "name": "python3"
  },
  "language_info": {
   "codemirror_mode": {
    "name": "ipython",
    "version": 3
   },
   "file_extension": ".py",
   "mimetype": "text/x-python",
   "name": "python",
   "nbconvert_exporter": "python",
   "pygments_lexer": "ipython3",
   "version": "3.8.10"
  }
 },
 "nbformat": 4,
 "nbformat_minor": 5
}
