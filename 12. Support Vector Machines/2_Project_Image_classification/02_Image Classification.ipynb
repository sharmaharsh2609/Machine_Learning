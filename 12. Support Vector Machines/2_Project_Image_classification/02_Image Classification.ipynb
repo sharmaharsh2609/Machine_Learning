{
 "cells": [
  {
   "cell_type": "markdown",
   "metadata": {},
   "source": [
    "##### Read \"01_Multiclass_classification\" file: explains about multiclass classification which we will implement in this project.\n",
    "- In general scikit learn uses 'one vs rest' algo by default. We can see while creating an object, there is a kwarg: `decision_function='ovr'` . 'ovr' is default value which means one vs rest and we can pass 'ovo' also means one vs one."
   ]
  },
  {
   "cell_type": "markdown",
   "metadata": {},
   "source": [
    "##### In this pproject, we are given with 4folder which contain images of cats, dogs, horses, humans respectively. So we will build SVM model for this data using multiclass classification from scratch(means no use of any pre-build functions)."
   ]
  },
  {
   "cell_type": "markdown",
   "metadata": {},
   "source": [
    "### Multiclass Classification Project\n",
    "\n",
    "Learning Goals\n",
    "- How to read different size images from a directory?\n",
    "- How to implement One-vs-one scheme for Multiclass classification?\n",
    "- How to use SVM for image classifcation?\n",
    "<img src=\"2.1classes.png\" alt=\"Classes\" style=\"width: 700px;\"/>\n"
   ]
  },
  {
   "cell_type": "markdown",
   "metadata": {},
   "source": [
    "## Dataset Preparation\n",
    "- We have images directory in which we are given 4folders: cat, dog, horse, human. We need to read images from there. We can import images using different platforms like openCV, keras, tensorflow, etc.. \n",
    "- As we have studied openCV already, let us try keras now"
   ]
  },
  {
   "cell_type": "code",
   "execution_count": 1,
   "metadata": {},
   "outputs": [
    {
     "name": "stderr",
     "output_type": "stream",
     "text": [
      "2022-02-24 17:33:05.096719: W tensorflow/stream_executor/platform/default/dso_loader.cc:64] Could not load dynamic library 'libcudart.so.11.0'; dlerror: libcudart.so.11.0: cannot open shared object file: No such file or directory\n",
      "2022-02-24 17:33:05.096842: I tensorflow/stream_executor/cuda/cudart_stub.cc:29] Ignore above cudart dlerror if you do not have a GPU set up on your machine.\n"
     ]
    }
   ],
   "source": [
    "import numpy as np\n",
    "import os ## to work with folders and files\n",
    "from pathlib import Path  ## to work with folders and files \n",
    "from keras.preprocessing import image"
   ]
  },
  {
   "cell_type": "markdown",
   "metadata": {},
   "source": [
    "- As written in 2nd line of error: **Ignore error like: \"libcudart.io\" file missing**. We need to install CUDA toolkit for that which is 7gb and it is really helpful bcoz it make use of GPU for graphics pupose rather than using CPU which increases the performance and speed.\n",
    "- But tensorflow can't give commands to GPU directly, so we need to install a CUDA toolkit which makes use of CUDA software to give commands to GPU directly. **But if you don't have installed CUDA, then tensorflow will use CPU and show error that CUDA file missing.** So you can ignore this error.\n"
   ]
  },
  {
   "cell_type": "markdown",
   "metadata": {},
   "source": [
    "- Generally keras or tensorflow make use of GPU when some graphics related work is required as using GPU instead of CPU gives us much better performance and very fast speed for graphics processing. \n",
    "- But **my system has integrated graphics which takes shared memory from CPU and do not have a differnt GPU unit** as 'dedicated GPU'. <font color=\"cyan\">**There will be no improvement in my system even if I install CUDA toolkit as I do not have a different GPU unit in my system(integrated graphic card). So using GPU with help of CUDA in my case will use shared memory from CPU which is same as using CPU directly**.</font> \n",
    "- So check your specs and download CUDA only if your graphics card is not integrated.\n",
    "- If someone have a different GPU in their system, then they can use CUDA(which is a software that handles GPU commands like a kernel or shell do) And python has a CUDA toolkit which makes use of CUDA software to perform operations on GPU.\n",
    "##### Read 03_GPU_IntegratedGraphics.ipynb file to read in detail about GPU, integrated circuit and CUDA toolkit."
   ]
  },
  {
   "cell_type": "markdown",
   "metadata": {},
   "source": [
    "- Now let us start our project from here. \n",
    "- Open images folder and see: there are images of dogs, cats, horses, humans\n",
    "- We can use os module or pathlib module to work with files and folders. For now we will use `pathlib module`. It is also easy to work with."
   ]
  },
  {
   "cell_type": "code",
   "execution_count": 2,
   "metadata": {},
   "outputs": [],
   "source": [
    "import numpy as np\n",
    "import os ## to work with folders and files\n",
    "from pathlib import Path  ## to work with folders and files \n",
    "from keras.preprocessing import image\n",
    "import matplotlib.pyplot as plt"
   ]
  },
  {
   "cell_type": "code",
   "execution_count": 3,
   "metadata": {},
   "outputs": [
    {
     "name": "stdout",
     "output_type": "stream",
     "text": [
      "../../Datasets/Images/images\n",
      "<class 'pathlib.PosixPath'>\n"
     ]
    }
   ],
   "source": [
    "p = Path('../../Datasets/Images/images')  ## create object of Path module\n",
    "print(p, type(p), sep='\\n')"
   ]
  },
  {
   "cell_type": "markdown",
   "metadata": {},
   "source": [
    "- So instance of Path() class returns us a string of path. But it is not actually a string, it is a class in pathlib module.\n",
    "- And this object of Path() class have many objects, one of which is **obj.glob()**\n",
    "\n",
    "##### Path_obj.glob(<reg>)\n",
    "- obj.glob() takes a regex as argument and returns all the files matched with that regex inside Path that we passed while creating the object(Here we passed path=../../Datasets/Images)"
   ]
  },
  {
   "cell_type": "code",
   "execution_count": 4,
   "metadata": {},
   "outputs": [
    {
     "data": {
      "text/plain": [
       "<generator object Path.glob at 0x7f928c43b040>"
      ]
     },
     "execution_count": 4,
     "metadata": {},
     "output_type": "execute_result"
    }
   ],
   "source": [
    "p = Path(\"../../Datasets/Images/images\")  \n",
    "p.glob(\"*\") ## pass regex \"*\" , star means all type of files in regex"
   ]
  },
  {
   "cell_type": "markdown",
   "metadata": {},
   "source": [
    "- p.glob() gives us a generator object. Genrator object generates a value using either obj.next() or using this generator object inside a for loop which we studied.\n",
    "- So this generator object will generate all files present inside the file "
   ]
  },
  {
   "cell_type": "code",
   "execution_count": 5,
   "metadata": {},
   "outputs": [
    {
     "name": "stdout",
     "output_type": "stream",
     "text": [
      "../../Datasets/Images/images/dogs\n",
      "../../Datasets/Images/images/humans\n",
      "../../Datasets/Images/images/horses\n",
      "../../Datasets/Images/images/cats\n"
     ]
    }
   ],
   "source": [
    "for folder_dir in p.glob(\"*\"):\n",
    "    print(folder_dir)"
   ]
  },
  {
   "cell_type": "markdown",
   "metadata": {},
   "source": [
    "- And we can take last word as label by converting these to strings and then take '/' as seperator and take last value as [-1]\n",
    "\n",
    "[Note: in windows path is shown using '\\' and not '/'. So we need to use '\\\\' in windows instead of '/' as backslash needs another backslash before it to escape. Otherwise single backslash is used as it's speicial meaning. Using '\\\\': uses 1st backslash to escape character next to it which is 2nd '\\']"
   ]
  },
  {
   "cell_type": "code",
   "execution_count": 6,
   "metadata": {},
   "outputs": [
    {
     "name": "stdout",
     "output_type": "stream",
     "text": [
      "dogs\n",
      "humans\n",
      "horses\n",
      "cats\n"
     ]
    }
   ],
   "source": [
    "for folder_dir in p.glob('*'):\n",
    "    label = str(folder_dir).split(\"/\")[-1]\n",
    "    print(label)"
   ]
  },
  {
   "cell_type": "markdown",
   "metadata": {},
   "source": [
    "- As ML classifiers do not train on strings, so we need to convert these to integers and create a mapping for them. We will create this mapping intially.\n",
    "\n",
    "##### keras.preprocessing.image has a method load_img(path, teget_size): \n",
    "- it loads image by converting it into desired size. As we have different size of images. So we need to use a common scale woth common size for all images.\n"
   ]
  },
  {
   "cell_type": "code",
   "execution_count": 7,
   "metadata": {},
   "outputs": [],
   "source": [
    "p = Path(\"../../Datasets/Images/images/\")  \n",
    "dirs = p.glob(\"*\") ## * means all type of files present in it.\n",
    "\n",
    "labels_dict={\"cat\":0,\"dog\":1,\"horse\":2,\"human\":3} #convert labels to integers by creating mapping .\n",
    "\n",
    "image_data = []  ## list to store all the images in all subfolders.\n",
    "labels = []\n",
    "\n",
    "for folder_dir in dirs:\n",
    "    label = str(folder_dir).split(\"/\")[-1][:-1] # [:-1] to remove 's' from dogs,cats,horses,humans\n",
    "     \n",
    "    # iterate over all images inside all directories as glob returns a generator object with passed regex\n",
    "    for img_path in folder_dir.glob(\"*.jpg\"):\n",
    "        ## read image using image module from keras\n",
    "        img = image.load_img(img_path,target_size=(32,32)) #image is module from keras.preprocessing\n",
    "        img_array = image.img_to_array(img) ## convert image to array(RGB: 3values for each pixel)\n",
    "        # size of 1 image = (32x32x3) , 3 for RGB channels\n",
    "        image_data.append(img_array)   ## add image in each iteration inside this list\n",
    "        labels.append(labels_dict[label])\n",
    "## as seen earlier: label gives us value as last last value from path and remove last character\n",
    "# from it('s'). So label can be: cat,dog,... and label_dict[label] will give us 0 for cat, 1 for \n",
    "# dog,...\n",
    "## So here we are appending 0 if image has label=cat, 1 if label=dog,... for corresponding image\n",
    "# Here we append image in 'image_data' list and corresponding label in 'labels' list"
   ]
  },
  {
   "cell_type": "markdown",
   "metadata": {},
   "source": [
    "- Let us convert these lists to numpy arrays. \n",
    "- In visualization part there was an error: data should be in range '0-1' for floats or '0-255' for integers. Here image module reads pixels as 199.0, 200.0 which are floating values. So we can either use dtype='uint8' or we can divide whole image_data array by 255.0 which will make range of intensity in 0-1 and values will be in float."
   ]
  },
  {
   "cell_type": "markdown",
   "metadata": {},
   "source": [
    "- It was giving low accuracy and high error in SVM gradient descent update using 0-255 pixel values as we have (32x32x3 = 3072) features for single image and loss= w.T*x + b will be very high in this case and gradient also. So I tried with floating values from range 0-1 and then results were good."
   ]
  },
  {
   "cell_type": "code",
   "execution_count": 8,
   "metadata": {},
   "outputs": [
    {
     "name": "stdout",
     "output_type": "stream",
     "text": [
      "(808, 32, 32, 3) (808,)\n",
      "[[0.7607843  0.08627451 0.07843138]\n",
      " [0.7607843  0.08627451 0.07843138]\n",
      " [0.7607843  0.08627451 0.07843138]\n",
      " [0.7607843  0.08627451 0.07843138]\n",
      " [0.7607843  0.08627451 0.07843138]]\n"
     ]
    }
   ],
   "source": [
    "# Convert this 'image_data' list and 'labels' list into numpy array\n",
    "image_data = np.array(image_data,dtype='float32')/255   \n",
    "labels = np.array(labels)\n",
    "\n",
    "print(image_data.shape,labels.shape)\n",
    "print( image_data[0,0,:5])"
   ]
  },
  {
   "cell_type": "markdown",
   "metadata": {},
   "source": [
    "- These are first 5 pixels of 1st image and these have intensity range in 0-1. Or we can use dtype=\"uint8\" in above which will give intensity range 0-255.\n",
    "- So we got 808 images(with 32x32 pixels and 3 channels) from all 4folders and respective labels. But using above for loop, we got first 202 images from 1st folder and all have same label, similarly images fomr 203-404 have same label and so on.. So we need to shuffle our data"
   ]
  },
  {
   "cell_type": "code",
   "execution_count": 9,
   "metadata": {},
   "outputs": [
    {
     "name": "stdout",
     "output_type": "stream",
     "text": [
      "../../Datasets/Images/images/dogs/dog.127.jpg\n",
      "../../Datasets/Images/images/dogs/dog.119.jpg\n",
      "../../Datasets/Images/images/dogs/dog.17.jpg\n",
      "../../Datasets/Images/images/dogs/dog.161.jpg\n",
      "../../Datasets/Images/images/dogs/dog.82.jpg\n",
      "../../Datasets/Images/images/dogs/dog.197.jpg\n",
      "../../Datasets/Images/images/dogs/dog.186.jpg\n",
      "../../Datasets/Images/images/dogs/dog.178.jpg\n",
      "../../Datasets/Images/images/dogs/dog.183.jpg\n",
      "../../Datasets/Images/images/dogs/dog.31.jpg\n",
      "../../Datasets/Images/images/dogs/dog.60.jpg\n",
      "../../Datasets/Images/images/dogs/dog.159.jpg\n",
      "../../Datasets/Images/images/dogs/dog.53.jpg\n",
      "../../Datasets/Images/images/dogs/dog.70.jpg\n",
      "../../Datasets/Images/images/dogs/dog.176.jpg\n",
      "../../Datasets/Images/images/dogs/dog.174.jpg\n",
      "../../Datasets/Images/images/dogs/dog.145.jpg\n",
      "../../Datasets/Images/images/dogs/dog.30.jpg\n",
      "../../Datasets/Images/images/dogs/dog.62.jpg\n",
      "../../Datasets/Images/images/dogs/dog.173.jpg\n",
      "../../Datasets/Images/images/dogs/dog.136.jpg\n",
      "../../Datasets/Images/images/dogs/dog.69.jpg\n",
      "../../Datasets/Images/images/dogs/dog.128.jpg\n",
      "../../Datasets/Images/images/dogs/dog.129.jpg\n",
      "../../Datasets/Images/images/dogs/dog.89.jpg\n",
      "../../Datasets/Images/images/dogs/dog.132.jpg\n",
      "../../Datasets/Images/images/dogs/dog.166.jpg\n",
      "../../Datasets/Images/images/dogs/dog.64.jpg\n",
      "../../Datasets/Images/images/dogs/dog.94.jpg\n",
      "../../Datasets/Images/images/dogs/dog.158.jpg\n",
      "../../Datasets/Images/images/dogs/dog.56.jpg\n",
      "../../Datasets/Images/images/dogs/dog.118.jpg\n",
      "../../Datasets/Images/images/dogs/dog.191.jpg\n",
      "../../Datasets/Images/images/dogs/dog.51.jpg\n",
      "../../Datasets/Images/images/dogs/dog.45.jpg\n",
      "../../Datasets/Images/images/dogs/dog.88.jpg\n",
      "../../Datasets/Images/images/dogs/dog.121.jpg\n",
      "../../Datasets/Images/images/dogs/dog.85.jpg\n",
      "../../Datasets/Images/images/dogs/dog.202.jpg\n",
      "../../Datasets/Images/images/dogs/dog.37.jpg\n",
      "../../Datasets/Images/images/dogs/dog.16.jpg\n",
      "../../Datasets/Images/images/dogs/dog.163.jpg\n",
      "../../Datasets/Images/images/dogs/dog.111.jpg\n",
      "../../Datasets/Images/images/dogs/dog.41.jpg\n",
      "../../Datasets/Images/images/dogs/dog.77.jpg\n",
      "../../Datasets/Images/images/dogs/dog.179.jpg\n",
      "../../Datasets/Images/images/dogs/dog.151.jpg\n",
      "../../Datasets/Images/images/dogs/dog.34.jpg\n",
      "../../Datasets/Images/images/dogs/dog.107.jpg\n",
      "../../Datasets/Images/images/dogs/dog.26.jpg\n",
      "../../Datasets/Images/images/dogs/dog.155.jpg\n",
      "../../Datasets/Images/images/dogs/dog.104.jpg\n",
      "../../Datasets/Images/images/dogs/dog.102.jpg\n",
      "../../Datasets/Images/images/dogs/dog.109.jpg\n",
      "../../Datasets/Images/images/dogs/dog.100.jpg\n",
      "../../Datasets/Images/images/dogs/dog.91.jpg\n",
      "../../Datasets/Images/images/dogs/dog.177.jpg\n",
      "../../Datasets/Images/images/dogs/dog.5.jpg\n",
      "../../Datasets/Images/images/dogs/dog.137.jpg\n",
      "../../Datasets/Images/images/dogs/dog.78.jpg\n",
      "../../Datasets/Images/images/dogs/dog.71.jpg\n",
      "../../Datasets/Images/images/dogs/dog.66.jpg\n",
      "../../Datasets/Images/images/dogs/dog.65.jpg\n",
      "../../Datasets/Images/images/dogs/dog.98.jpg\n",
      "../../Datasets/Images/images/dogs/dog.156.jpg\n",
      "../../Datasets/Images/images/dogs/dog.10.jpg\n",
      "../../Datasets/Images/images/dogs/dog.133.jpg\n",
      "../../Datasets/Images/images/dogs/dog.171.jpg\n",
      "../../Datasets/Images/images/dogs/dog.124.jpg\n",
      "../../Datasets/Images/images/dogs/dog.57.jpg\n",
      "../../Datasets/Images/images/dogs/dog.180.jpg\n",
      "../../Datasets/Images/images/dogs/dog.83.jpg\n",
      "../../Datasets/Images/images/dogs/dog.185.jpg\n",
      "../../Datasets/Images/images/dogs/dog.192.jpg\n",
      "../../Datasets/Images/images/dogs/dog.196.jpg\n",
      "../../Datasets/Images/images/dogs/dog.182.jpg\n",
      "../../Datasets/Images/images/dogs/dog.110.jpg\n",
      "../../Datasets/Images/images/dogs/dog.22.jpg\n",
      "../../Datasets/Images/images/dogs/dog.150.jpg\n",
      "../../Datasets/Images/images/dogs/dog.195.jpg\n",
      "../../Datasets/Images/images/dogs/dog.193.jpg\n",
      "../../Datasets/Images/images/dogs/dog.25.jpg\n",
      "../../Datasets/Images/images/dogs/dog.29.jpg\n",
      "../../Datasets/Images/images/dogs/dog.148.jpg\n",
      "../../Datasets/Images/images/dogs/dog.42.jpg\n",
      "../../Datasets/Images/images/dogs/dog.116.jpg\n",
      "../../Datasets/Images/images/dogs/dog.59.jpg\n",
      "../../Datasets/Images/images/dogs/dog.20.jpg\n",
      "../../Datasets/Images/images/dogs/dog.126.jpg\n",
      "../../Datasets/Images/images/dogs/dog.6.jpg\n",
      "../../Datasets/Images/images/dogs/dog.175.jpg\n",
      "../../Datasets/Images/images/dogs/dog.142.jpg\n",
      "../../Datasets/Images/images/dogs/dog.123.jpg\n",
      "../../Datasets/Images/images/dogs/dog.184.jpg\n",
      "../../Datasets/Images/images/dogs/dog.48.jpg\n",
      "../../Datasets/Images/images/dogs/dog.79.jpg\n",
      "../../Datasets/Images/images/dogs/dog.43.jpg\n",
      "../../Datasets/Images/images/dogs/dog.93.jpg\n",
      "../../Datasets/Images/images/dogs/dog.147.jpg\n",
      "../../Datasets/Images/images/dogs/dog.139.jpg\n",
      "../../Datasets/Images/images/dogs/dog.18.jpg\n",
      "../../Datasets/Images/images/dogs/dog.181.jpg\n",
      "../../Datasets/Images/images/dogs/dog.7.jpg\n",
      "../../Datasets/Images/images/dogs/dog.21.jpg\n",
      "../../Datasets/Images/images/dogs/dog.55.jpg\n",
      "../../Datasets/Images/images/dogs/dog.165.jpg\n",
      "../../Datasets/Images/images/dogs/dog.187.jpg\n",
      "../../Datasets/Images/images/dogs/dog.1.jpg\n",
      "../../Datasets/Images/images/dogs/dog.143.jpg\n",
      "../../Datasets/Images/images/dogs/dog.61.jpg\n",
      "../../Datasets/Images/images/dogs/dog.152.jpg\n",
      "../../Datasets/Images/images/dogs/dog.188.jpg\n",
      "../../Datasets/Images/images/dogs/dog.164.jpg\n",
      "../../Datasets/Images/images/dogs/dog.15.jpg\n",
      "../../Datasets/Images/images/dogs/dog.47.jpg\n",
      "../../Datasets/Images/images/dogs/dog.36.jpg\n",
      "../../Datasets/Images/images/dogs/dog.117.jpg\n",
      "../../Datasets/Images/images/dogs/dog.122.jpg\n",
      "../../Datasets/Images/images/dogs/dog.95.jpg\n",
      "../../Datasets/Images/images/dogs/dog.105.jpg\n",
      "../../Datasets/Images/images/dogs/dog.167.jpg\n",
      "../../Datasets/Images/images/dogs/dog.38.jpg\n",
      "../../Datasets/Images/images/dogs/dog.3.jpg\n",
      "../../Datasets/Images/images/dogs/dog.149.jpg\n",
      "../../Datasets/Images/images/dogs/dog.35.jpg\n",
      "../../Datasets/Images/images/dogs/dog.134.jpg\n",
      "../../Datasets/Images/images/dogs/dog.68.jpg\n",
      "../../Datasets/Images/images/dogs/dog.157.jpg\n",
      "../../Datasets/Images/images/dogs/dog.194.jpg\n",
      "../../Datasets/Images/images/dogs/dog.76.jpg\n",
      "../../Datasets/Images/images/dogs/dog.113.jpg\n",
      "../../Datasets/Images/images/dogs/dog.200.jpg\n",
      "../../Datasets/Images/images/dogs/dog.24.jpg\n",
      "../../Datasets/Images/images/dogs/dog.32.jpg\n",
      "../../Datasets/Images/images/dogs/dog.97.jpg\n",
      "../../Datasets/Images/images/dogs/dog.92.jpg\n",
      "../../Datasets/Images/images/dogs/dog.50.jpg\n",
      "../../Datasets/Images/images/dogs/dog.112.jpg\n",
      "../../Datasets/Images/images/dogs/dog.130.jpg\n",
      "../../Datasets/Images/images/dogs/dog.8.jpg\n",
      "../../Datasets/Images/images/dogs/dog.172.jpg\n",
      "../../Datasets/Images/images/dogs/dog.27.jpg\n",
      "../../Datasets/Images/images/dogs/dog.144.jpg\n",
      "../../Datasets/Images/images/dogs/dog.201.jpg\n",
      "../../Datasets/Images/images/dogs/dog.28.jpg\n",
      "../../Datasets/Images/images/dogs/dog.168.jpg\n",
      "../../Datasets/Images/images/dogs/dog.96.jpg\n",
      "../../Datasets/Images/images/dogs/dog.170.jpg\n",
      "../../Datasets/Images/images/dogs/dog.101.jpg\n",
      "../../Datasets/Images/images/dogs/dog.23.jpg\n",
      "../../Datasets/Images/images/dogs/dog.19.jpg\n",
      "../../Datasets/Images/images/dogs/dog.67.jpg\n",
      "../../Datasets/Images/images/dogs/dog.120.jpg\n",
      "../../Datasets/Images/images/dogs/dog.33.jpg\n",
      "../../Datasets/Images/images/dogs/dog.131.jpg\n",
      "../../Datasets/Images/images/dogs/dog.199.jpg\n",
      "../../Datasets/Images/images/dogs/dog.46.jpg\n",
      "../../Datasets/Images/images/dogs/dog.138.jpg\n",
      "../../Datasets/Images/images/dogs/dog.99.jpg\n",
      "../../Datasets/Images/images/dogs/dog.12.jpg\n",
      "../../Datasets/Images/images/dogs/dog.58.jpg\n",
      "../../Datasets/Images/images/dogs/dog.14.jpg\n",
      "../../Datasets/Images/images/dogs/dog.2.jpg\n",
      "../../Datasets/Images/images/dogs/dog.190.jpg\n",
      "../../Datasets/Images/images/dogs/dog.72.jpg\n",
      "../../Datasets/Images/images/dogs/dog.13.jpg\n",
      "../../Datasets/Images/images/dogs/dog.9.jpg\n",
      "../../Datasets/Images/images/dogs/dog.54.jpg\n",
      "../../Datasets/Images/images/dogs/dog.86.jpg\n",
      "../../Datasets/Images/images/dogs/dog.115.jpg\n",
      "../../Datasets/Images/images/dogs/dog.87.jpg\n",
      "../../Datasets/Images/images/dogs/dog.4.jpg\n",
      "../../Datasets/Images/images/dogs/dog.40.jpg\n",
      "../../Datasets/Images/images/dogs/dog.84.jpg\n",
      "../../Datasets/Images/images/dogs/dog.44.jpg\n",
      "../../Datasets/Images/images/dogs/dog.39.jpg\n",
      "../../Datasets/Images/images/dogs/dog.154.jpg\n",
      "../../Datasets/Images/images/dogs/dog.198.jpg\n",
      "../../Datasets/Images/images/dogs/dog.90.jpg\n",
      "../../Datasets/Images/images/dogs/dog.103.jpg\n",
      "../../Datasets/Images/images/dogs/dog.11.jpg\n",
      "../../Datasets/Images/images/dogs/dog.80.jpg\n",
      "../../Datasets/Images/images/dogs/dog.63.jpg\n",
      "../../Datasets/Images/images/dogs/dog.52.jpg\n",
      "../../Datasets/Images/images/dogs/dog.169.jpg\n",
      "../../Datasets/Images/images/dogs/dog.73.jpg\n",
      "../../Datasets/Images/images/dogs/dog.160.jpg\n",
      "../../Datasets/Images/images/dogs/dog.75.jpg\n",
      "../../Datasets/Images/images/dogs/dog.189.jpg\n",
      "../../Datasets/Images/images/dogs/dog.49.jpg\n",
      "../../Datasets/Images/images/dogs/dog.162.jpg\n",
      "../../Datasets/Images/images/dogs/dog.140.jpg\n",
      "../../Datasets/Images/images/dogs/dog.146.jpg\n",
      "../../Datasets/Images/images/dogs/dog.81.jpg\n",
      "../../Datasets/Images/images/dogs/dog.135.jpg\n",
      "../../Datasets/Images/images/dogs/dog.141.jpg\n",
      "../../Datasets/Images/images/dogs/dog.114.jpg\n",
      "../../Datasets/Images/images/dogs/dog.74.jpg\n",
      "../../Datasets/Images/images/dogs/dog.153.jpg\n",
      "../../Datasets/Images/images/dogs/dog.108.jpg\n",
      "../../Datasets/Images/images/dogs/dog.106.jpg\n",
      "../../Datasets/Images/images/dogs/dog.125.jpg\n",
      "../../Datasets/Images/images/humans/rider-35.jpg\n",
      "../../Datasets/Images/images/humans/rider-184.jpg\n",
      "../../Datasets/Images/images/humans/rider-138.jpg\n",
      "../../Datasets/Images/images/humans/rider-160.jpg\n",
      "../../Datasets/Images/images/humans/rider-75.jpg\n",
      "../../Datasets/Images/images/humans/rider-178.jpg\n",
      "../../Datasets/Images/images/humans/rider-65.jpg\n",
      "../../Datasets/Images/images/humans/rider-48.jpg\n",
      "../../Datasets/Images/images/humans/rider-97.jpg\n",
      "../../Datasets/Images/images/humans/rider-179.jpg\n",
      "../../Datasets/Images/images/humans/rider-79.jpg\n",
      "../../Datasets/Images/images/humans/rider-154.jpg\n",
      "../../Datasets/Images/images/humans/rider-133.jpg\n",
      "../../Datasets/Images/images/humans/rider-70.jpg\n",
      "../../Datasets/Images/images/humans/rider-20.jpg\n",
      "../../Datasets/Images/images/humans/rider-148.jpg\n",
      "../../Datasets/Images/images/humans/rider-64.jpg\n",
      "../../Datasets/Images/images/humans/rider-81.jpg\n",
      "../../Datasets/Images/images/humans/rider-90.jpg\n",
      "../../Datasets/Images/images/humans/rider-139.jpg\n",
      "../../Datasets/Images/images/humans/rider-162.jpg\n",
      "../../Datasets/Images/images/humans/rider-83.jpg\n",
      "../../Datasets/Images/images/humans/rider-29.jpg\n",
      "../../Datasets/Images/images/humans/rider-14.jpg\n",
      "../../Datasets/Images/images/humans/rider-170.jpg\n",
      "../../Datasets/Images/images/humans/rider-46.jpg\n",
      "../../Datasets/Images/images/humans/rider-99.jpg\n",
      "../../Datasets/Images/images/humans/rider-198.jpg\n",
      "../../Datasets/Images/images/humans/rider-72.jpg\n",
      "../../Datasets/Images/images/humans/rider-15.jpg\n",
      "../../Datasets/Images/images/humans/rider-32.jpg\n",
      "../../Datasets/Images/images/humans/rider-60.jpg\n",
      "../../Datasets/Images/images/humans/rider-196.jpg\n",
      "../../Datasets/Images/images/humans/rider-36.jpg\n",
      "../../Datasets/Images/images/humans/rider-181.jpg\n",
      "../../Datasets/Images/images/humans/rider-120.jpg\n",
      "../../Datasets/Images/images/humans/rider-30.jpg\n",
      "../../Datasets/Images/images/humans/rider-98.jpg\n",
      "../../Datasets/Images/images/humans/rider-131.jpg\n",
      "../../Datasets/Images/images/humans/rider-192.jpg\n",
      "../../Datasets/Images/images/humans/rider-85.jpg\n",
      "../../Datasets/Images/images/humans/rider-118.jpg\n",
      "../../Datasets/Images/images/humans/rider-18.jpg\n",
      "../../Datasets/Images/images/humans/rider-67.jpg\n",
      "../../Datasets/Images/images/humans/rider-44.jpg\n",
      "../../Datasets/Images/images/humans/rider-38.jpg\n",
      "../../Datasets/Images/images/humans/rider-105.jpg\n",
      "../../Datasets/Images/images/humans/rider-165.jpg\n",
      "../../Datasets/Images/images/humans/rider-57.jpg\n",
      "../../Datasets/Images/images/humans/rider-147.jpg\n",
      "../../Datasets/Images/images/humans/rider-22.jpg\n",
      "../../Datasets/Images/images/humans/rider-151.jpg\n",
      "../../Datasets/Images/images/humans/rider-166.jpg\n",
      "../../Datasets/Images/images/humans/rider-8.jpg\n",
      "../../Datasets/Images/images/humans/rider-201.jpg\n",
      "../../Datasets/Images/images/humans/rider-153.jpg\n",
      "../../Datasets/Images/images/humans/rider-194.jpg\n",
      "../../Datasets/Images/images/humans/rider-199.jpg\n",
      "../../Datasets/Images/images/humans/rider-150.jpg\n",
      "../../Datasets/Images/images/humans/rider-110.jpg\n",
      "../../Datasets/Images/images/humans/rider-171.jpg\n",
      "../../Datasets/Images/images/humans/rider-2.jpg\n",
      "../../Datasets/Images/images/humans/rider-167.jpg\n",
      "../../Datasets/Images/images/humans/rider-174.jpg\n",
      "../../Datasets/Images/images/humans/rider-116.jpg\n",
      "../../Datasets/Images/images/humans/rider-188.jpg\n",
      "../../Datasets/Images/images/humans/rider-82.jpg\n",
      "../../Datasets/Images/images/humans/rider-159.jpg\n",
      "../../Datasets/Images/images/humans/rider-37.jpg\n",
      "../../Datasets/Images/images/humans/rider-185.jpg\n",
      "../../Datasets/Images/images/humans/rider-143.jpg\n",
      "../../Datasets/Images/images/humans/rider-158.jpg\n",
      "../../Datasets/Images/images/humans/rider-124.jpg\n",
      "../../Datasets/Images/images/humans/rider-33.jpg\n",
      "../../Datasets/Images/images/humans/rider-19.jpg\n",
      "../../Datasets/Images/images/humans/rider-126.jpg\n",
      "../../Datasets/Images/images/humans/rider-180.jpg\n",
      "../../Datasets/Images/images/humans/rider-190.jpg\n",
      "../../Datasets/Images/images/humans/rider-42.jpg\n",
      "../../Datasets/Images/images/humans/rider-49.jpg\n",
      "../../Datasets/Images/images/humans/rider-80.jpg\n",
      "../../Datasets/Images/images/humans/rider-69.jpg\n",
      "../../Datasets/Images/images/humans/rider-157.jpg\n",
      "../../Datasets/Images/images/humans/rider-76.jpg\n",
      "../../Datasets/Images/images/humans/rider-183.jpg\n",
      "../../Datasets/Images/images/humans/rider-103.jpg\n",
      "../../Datasets/Images/images/humans/rider-117.jpg\n",
      "../../Datasets/Images/images/humans/rider-12.jpg\n",
      "../../Datasets/Images/images/humans/rider-106.jpg\n",
      "../../Datasets/Images/images/humans/rider-129.jpg\n",
      "../../Datasets/Images/images/humans/rider-51.jpg\n",
      "../../Datasets/Images/images/humans/rider-68.jpg\n",
      "../../Datasets/Images/images/humans/rider-58.jpg\n",
      "../../Datasets/Images/images/humans/rider-128.jpg\n",
      "../../Datasets/Images/images/humans/rider-168.jpg\n",
      "../../Datasets/Images/images/humans/rider-146.jpg\n",
      "../../Datasets/Images/images/humans/rider-47.jpg\n",
      "../../Datasets/Images/images/humans/rider-136.jpg\n",
      "../../Datasets/Images/images/humans/rider-195.jpg\n",
      "../../Datasets/Images/images/humans/rider-197.jpg\n",
      "../../Datasets/Images/images/humans/rider-89.jpg\n",
      "../../Datasets/Images/images/humans/rider-102.jpg\n",
      "../../Datasets/Images/images/humans/rider-74.jpg\n",
      "../../Datasets/Images/images/humans/rider-86.jpg\n",
      "../../Datasets/Images/images/humans/rider-161.jpg\n",
      "../../Datasets/Images/images/humans/rider-121.jpg\n",
      "../../Datasets/Images/images/humans/rider-149.jpg\n",
      "../../Datasets/Images/images/humans/rider-100.jpg\n",
      "../../Datasets/Images/images/humans/rider-55.jpg\n",
      "../../Datasets/Images/images/humans/rider-40.jpg\n",
      "../../Datasets/Images/images/humans/rider-142.jpg\n",
      "../../Datasets/Images/images/humans/rider-114.jpg\n",
      "../../Datasets/Images/images/humans/rider-115.jpg\n",
      "../../Datasets/Images/images/humans/rider-11.jpg\n",
      "../../Datasets/Images/images/humans/rider-119.jpg\n",
      "../../Datasets/Images/images/humans/rider-91.jpg\n",
      "../../Datasets/Images/images/humans/rider-108.jpg\n",
      "../../Datasets/Images/images/humans/rider-169.jpg\n",
      "../../Datasets/Images/images/humans/rider-107.jpg\n",
      "../../Datasets/Images/images/humans/rider-50.jpg\n",
      "../../Datasets/Images/images/humans/rider-94.jpg\n",
      "../../Datasets/Images/images/humans/rider-111.jpg\n",
      "../../Datasets/Images/images/humans/rider-31.jpg\n",
      "../../Datasets/Images/images/humans/rider-144.jpg\n",
      "../../Datasets/Images/images/humans/rider-45.jpg\n",
      "../../Datasets/Images/images/humans/rider-152.jpg\n",
      "../../Datasets/Images/images/humans/rider-88.jpg\n",
      "../../Datasets/Images/images/humans/rider-140.jpg\n",
      "../../Datasets/Images/images/humans/rider-1.jpg\n",
      "../../Datasets/Images/images/humans/rider-104.jpg\n",
      "../../Datasets/Images/images/humans/rider-71.jpg\n",
      "../../Datasets/Images/images/humans/rider-62.jpg\n",
      "../../Datasets/Images/images/humans/rider-73.jpg\n",
      "../../Datasets/Images/images/humans/rider-53.jpg\n",
      "../../Datasets/Images/images/humans/rider-145.jpg\n",
      "../../Datasets/Images/images/humans/rider-16.jpg\n",
      "../../Datasets/Images/images/humans/rider-175.jpg\n",
      "../../Datasets/Images/images/humans/rider-63.jpg\n",
      "../../Datasets/Images/images/humans/rider-187.jpg\n",
      "../../Datasets/Images/images/humans/rider-61.jpg\n",
      "../../Datasets/Images/images/humans/rider-26.jpg\n",
      "../../Datasets/Images/images/humans/rider-177.jpg\n",
      "../../Datasets/Images/images/humans/rider-172.jpg\n",
      "../../Datasets/Images/images/humans/rider-7.jpg\n",
      "../../Datasets/Images/images/humans/rider-189.jpg\n",
      "../../Datasets/Images/images/humans/rider-155.jpg\n",
      "../../Datasets/Images/images/humans/rider-182.jpg\n",
      "../../Datasets/Images/images/humans/rider-163.jpg\n",
      "../../Datasets/Images/images/humans/rider-59.jpg\n",
      "../../Datasets/Images/images/humans/rider-17.jpg\n",
      "../../Datasets/Images/images/humans/rider-43.jpg\n",
      "../../Datasets/Images/images/humans/rider-77.jpg\n",
      "../../Datasets/Images/images/humans/rider-113.jpg\n",
      "../../Datasets/Images/images/humans/rider-34.jpg\n",
      "../../Datasets/Images/images/humans/rider-164.jpg\n",
      "../../Datasets/Images/images/humans/rider-52.jpg\n",
      "../../Datasets/Images/images/humans/rider-135.jpg\n",
      "../../Datasets/Images/images/humans/rider-109.jpg\n",
      "../../Datasets/Images/images/humans/rider-13.jpg\n",
      "../../Datasets/Images/images/humans/rider-6.jpg\n",
      "../../Datasets/Images/images/humans/rider-127.jpg\n",
      "../../Datasets/Images/images/humans/rider-21.jpg\n",
      "../../Datasets/Images/images/humans/rider-141.jpg\n",
      "../../Datasets/Images/images/humans/rider-92.jpg\n",
      "../../Datasets/Images/images/humans/rider-137.jpg\n",
      "../../Datasets/Images/images/humans/rider-123.jpg\n",
      "../../Datasets/Images/images/humans/rider-25.jpg\n",
      "../../Datasets/Images/images/humans/rider-186.jpg\n",
      "../../Datasets/Images/images/humans/rider-202.jpg\n",
      "../../Datasets/Images/images/humans/rider-93.jpg\n",
      "../../Datasets/Images/images/humans/rider-41.jpg\n",
      "../../Datasets/Images/images/humans/rider-9.jpg\n",
      "../../Datasets/Images/images/humans/rider-23.jpg\n",
      "../../Datasets/Images/images/humans/rider-84.jpg\n",
      "../../Datasets/Images/images/humans/rider-10.jpg\n",
      "../../Datasets/Images/images/humans/rider-200.jpg\n",
      "../../Datasets/Images/images/humans/rider-173.jpg\n",
      "../../Datasets/Images/images/humans/rider-134.jpg\n",
      "../../Datasets/Images/images/humans/rider-132.jpg\n",
      "../../Datasets/Images/images/humans/rider-112.jpg\n",
      "../../Datasets/Images/images/humans/rider-101.jpg\n",
      "../../Datasets/Images/images/humans/rider-125.jpg\n",
      "../../Datasets/Images/images/humans/rider-56.jpg\n",
      "../../Datasets/Images/images/humans/rider-130.jpg\n",
      "../../Datasets/Images/images/humans/rider-27.jpg\n",
      "../../Datasets/Images/images/humans/rider-5.jpg\n",
      "../../Datasets/Images/images/humans/rider-122.jpg\n",
      "../../Datasets/Images/images/humans/rider-193.jpg\n",
      "../../Datasets/Images/images/humans/rider-191.jpg\n",
      "../../Datasets/Images/images/humans/rider-87.jpg\n",
      "../../Datasets/Images/images/humans/rider-96.jpg\n",
      "../../Datasets/Images/images/humans/rider-4.jpg\n",
      "../../Datasets/Images/images/humans/rider-78.jpg\n",
      "../../Datasets/Images/images/humans/rider-156.jpg\n",
      "../../Datasets/Images/images/humans/rider-176.jpg\n",
      "../../Datasets/Images/images/humans/rider-3.jpg\n",
      "../../Datasets/Images/images/humans/rider-95.jpg\n",
      "../../Datasets/Images/images/humans/rider-28.jpg\n",
      "../../Datasets/Images/images/humans/rider-66.jpg\n",
      "../../Datasets/Images/images/humans/rider-39.jpg\n",
      "../../Datasets/Images/images/humans/rider-24.jpg\n",
      "../../Datasets/Images/images/humans/rider-54.jpg\n",
      "../../Datasets/Images/images/horses/horse-151.jpg\n",
      "../../Datasets/Images/images/horses/horse-101.jpg\n",
      "../../Datasets/Images/images/horses/horse-117.jpg\n",
      "../../Datasets/Images/images/horses/horse-29.jpg\n",
      "../../Datasets/Images/images/horses/horse-56.jpg\n",
      "../../Datasets/Images/images/horses/horse-130.jpg\n",
      "../../Datasets/Images/images/horses/horse-177.jpg\n",
      "../../Datasets/Images/images/horses/horse-157.jpg\n",
      "../../Datasets/Images/images/horses/horse-158.jpg\n",
      "../../Datasets/Images/images/horses/horse-14.jpg\n",
      "../../Datasets/Images/images/horses/horse-17.jpg\n",
      "../../Datasets/Images/images/horses/horse-16.jpg\n",
      "../../Datasets/Images/images/horses/horse-172.jpg\n",
      "../../Datasets/Images/images/horses/horse-59.jpg\n",
      "../../Datasets/Images/images/horses/horse-115.jpg\n",
      "../../Datasets/Images/images/horses/horse-155.jpg\n",
      "../../Datasets/Images/images/horses/horse-189.jpg\n",
      "../../Datasets/Images/images/horses/horse-63.jpg\n",
      "../../Datasets/Images/images/horses/horse-133.jpg\n",
      "../../Datasets/Images/images/horses/horse-114.jpg\n",
      "../../Datasets/Images/images/horses/horse-52.jpg\n",
      "../../Datasets/Images/images/horses/horse-124.jpg\n",
      "../../Datasets/Images/images/horses/horse-87.jpg\n",
      "../../Datasets/Images/images/horses/horse-40.jpg\n",
      "../../Datasets/Images/images/horses/horse-94.jpg\n",
      "../../Datasets/Images/images/horses/horse-108.jpg\n",
      "../../Datasets/Images/images/horses/horse-5.jpg\n",
      "../../Datasets/Images/images/horses/horse-149.jpg\n",
      "../../Datasets/Images/images/horses/horse-128.jpg\n",
      "../../Datasets/Images/images/horses/horse-38.jpg\n",
      "../../Datasets/Images/images/horses/horse-46.jpg\n",
      "../../Datasets/Images/images/horses/horse-119.jpg\n",
      "../../Datasets/Images/images/horses/horse-109.jpg\n",
      "../../Datasets/Images/images/horses/horse-125.jpg\n",
      "../../Datasets/Images/images/horses/horse-185.jpg\n",
      "../../Datasets/Images/images/horses/horse-194.jpg\n",
      "../../Datasets/Images/images/horses/horse-1.jpg\n",
      "../../Datasets/Images/images/horses/horse-154.jpg\n",
      "../../Datasets/Images/images/horses/horse-4.jpg\n",
      "../../Datasets/Images/images/horses/horse-98.jpg\n",
      "../../Datasets/Images/images/horses/horse-36.jpg\n",
      "../../Datasets/Images/images/horses/horse-83.jpg\n",
      "../../Datasets/Images/images/horses/horse-116.jpg\n",
      "../../Datasets/Images/images/horses/horse-179.jpg\n",
      "../../Datasets/Images/images/horses/horse-80.jpg\n",
      "../../Datasets/Images/images/horses/horse-198.jpg\n",
      "../../Datasets/Images/images/horses/horse-53.jpg\n",
      "../../Datasets/Images/images/horses/horse-9.jpg\n",
      "../../Datasets/Images/images/horses/horse-167.jpg\n",
      "../../Datasets/Images/images/horses/horse-73.jpg\n",
      "../../Datasets/Images/images/horses/horse-39.jpg\n",
      "../../Datasets/Images/images/horses/horse-170.jpg\n",
      "../../Datasets/Images/images/horses/horse-153.jpg\n",
      "../../Datasets/Images/images/horses/horse-122.jpg\n",
      "../../Datasets/Images/images/horses/horse-15.jpg\n",
      "../../Datasets/Images/images/horses/horse-72.jpg\n",
      "../../Datasets/Images/images/horses/horse-70.jpg\n",
      "../../Datasets/Images/images/horses/horse-182.jpg\n",
      "../../Datasets/Images/images/horses/horse-175.jpg\n",
      "../../Datasets/Images/images/horses/horse-78.jpg\n",
      "../../Datasets/Images/images/horses/horse-8.jpg\n",
      "../../Datasets/Images/images/horses/horse-60.jpg\n",
      "../../Datasets/Images/images/horses/horse-161.jpg\n",
      "../../Datasets/Images/images/horses/horse-110.jpg\n",
      "../../Datasets/Images/images/horses/horse-105.jpg\n",
      "../../Datasets/Images/images/horses/horse-164.jpg\n",
      "../../Datasets/Images/images/horses/horse-47.jpg\n",
      "../../Datasets/Images/images/horses/horse-136.jpg\n",
      "../../Datasets/Images/images/horses/horse-26.jpg\n",
      "../../Datasets/Images/images/horses/horse-25.jpg\n",
      "../../Datasets/Images/images/horses/horse-92.jpg\n",
      "../../Datasets/Images/images/horses/horse-19.jpg\n",
      "../../Datasets/Images/images/horses/horse-159.jpg\n",
      "../../Datasets/Images/images/horses/horse-85.jpg\n",
      "../../Datasets/Images/images/horses/horse-111.jpg\n",
      "../../Datasets/Images/images/horses/horse-102.jpg\n",
      "../../Datasets/Images/images/horses/horse-141.jpg\n",
      "../../Datasets/Images/images/horses/horse-41.jpg\n",
      "../../Datasets/Images/images/horses/horse-45.jpg\n",
      "../../Datasets/Images/images/horses/horse-178.jpg\n",
      "../../Datasets/Images/images/horses/horse-142.jpg\n",
      "../../Datasets/Images/images/horses/horse-138.jpg\n",
      "../../Datasets/Images/images/horses/horse-180.jpg\n",
      "../../Datasets/Images/images/horses/horse-199.jpg\n",
      "../../Datasets/Images/images/horses/horse-100.jpg\n",
      "../../Datasets/Images/images/horses/horse-74.jpg\n",
      "../../Datasets/Images/images/horses/horse-21.jpg\n",
      "../../Datasets/Images/images/horses/horse-71.jpg\n",
      "../../Datasets/Images/images/horses/horse-30.jpg\n",
      "../../Datasets/Images/images/horses/horse-152.jpg\n",
      "../../Datasets/Images/images/horses/horse-54.jpg\n",
      "../../Datasets/Images/images/horses/horse-156.jpg\n",
      "../../Datasets/Images/images/horses/horse-27.jpg\n",
      "../../Datasets/Images/images/horses/horse-193.jpg\n",
      "../../Datasets/Images/images/horses/horse-171.jpg\n",
      "../../Datasets/Images/images/horses/horse-23.jpg\n",
      "../../Datasets/Images/images/horses/horse-201.jpg\n",
      "../../Datasets/Images/images/horses/horse-191.jpg\n",
      "../../Datasets/Images/images/horses/horse-76.jpg\n",
      "../../Datasets/Images/images/horses/horse-148.jpg\n",
      "../../Datasets/Images/images/horses/horse-176.jpg\n",
      "../../Datasets/Images/images/horses/horse-6.jpg\n",
      "../../Datasets/Images/images/horses/horse-147.jpg\n",
      "../../Datasets/Images/images/horses/horse-139.jpg\n",
      "../../Datasets/Images/images/horses/horse-200.jpg\n",
      "../../Datasets/Images/images/horses/horse-65.jpg\n",
      "../../Datasets/Images/images/horses/horse-48.jpg\n",
      "../../Datasets/Images/images/horses/horse-10.jpg\n",
      "../../Datasets/Images/images/horses/horse-181.jpg\n",
      "../../Datasets/Images/images/horses/horse-112.jpg\n",
      "../../Datasets/Images/images/horses/horse-12.jpg\n",
      "../../Datasets/Images/images/horses/horse-121.jpg\n",
      "../../Datasets/Images/images/horses/horse-132.jpg\n",
      "../../Datasets/Images/images/horses/horse-168.jpg\n",
      "../../Datasets/Images/images/horses/horse-129.jpg\n",
      "../../Datasets/Images/images/horses/horse-134.jpg\n",
      "../../Datasets/Images/images/horses/horse-166.jpg\n",
      "../../Datasets/Images/images/horses/horse-77.jpg\n",
      "../../Datasets/Images/images/horses/horse-43.jpg\n",
      "../../Datasets/Images/images/horses/horse-104.jpg\n",
      "../../Datasets/Images/images/horses/horse-82.jpg\n",
      "../../Datasets/Images/images/horses/horse-20.jpg\n",
      "../../Datasets/Images/images/horses/horse-95.jpg\n",
      "../../Datasets/Images/images/horses/horse-42.jpg\n",
      "../../Datasets/Images/images/horses/horse-13.jpg\n",
      "../../Datasets/Images/images/horses/horse-192.jpg\n",
      "../../Datasets/Images/images/horses/horse-18.jpg\n",
      "../../Datasets/Images/images/horses/horse-106.jpg\n",
      "../../Datasets/Images/images/horses/horse-103.jpg\n",
      "../../Datasets/Images/images/horses/horse-146.jpg\n",
      "../../Datasets/Images/images/horses/horse-126.jpg\n",
      "../../Datasets/Images/images/horses/horse-32.jpg\n",
      "../../Datasets/Images/images/horses/horse-169.jpg\n",
      "../../Datasets/Images/images/horses/horse-67.jpg\n",
      "../../Datasets/Images/images/horses/horse-3.jpg\n",
      "../../Datasets/Images/images/horses/horse-34.jpg\n",
      "../../Datasets/Images/images/horses/horse-118.jpg\n",
      "../../Datasets/Images/images/horses/horse-113.jpg\n",
      "../../Datasets/Images/images/horses/horse-7.jpg\n",
      "../../Datasets/Images/images/horses/horse-190.jpg\n",
      "../../Datasets/Images/images/horses/horse-64.jpg\n",
      "../../Datasets/Images/images/horses/horse-165.jpg\n",
      "../../Datasets/Images/images/horses/horse-131.jpg\n",
      "../../Datasets/Images/images/horses/horse-11.jpg\n",
      "../../Datasets/Images/images/horses/horse-173.jpg\n",
      "../../Datasets/Images/images/horses/horse-58.jpg\n",
      "../../Datasets/Images/images/horses/horse-202.jpg\n",
      "../../Datasets/Images/images/horses/horse-127.jpg\n",
      "../../Datasets/Images/images/horses/horse-88.jpg\n",
      "../../Datasets/Images/images/horses/horse-187.jpg\n",
      "../../Datasets/Images/images/horses/horse-137.jpg\n",
      "../../Datasets/Images/images/horses/horse-188.jpg\n",
      "../../Datasets/Images/images/horses/horse-50.jpg\n",
      "../../Datasets/Images/images/horses/horse-184.jpg\n",
      "../../Datasets/Images/images/horses/horse-107.jpg\n",
      "../../Datasets/Images/images/horses/horse-51.jpg\n",
      "../../Datasets/Images/images/horses/horse-196.jpg\n",
      "../../Datasets/Images/images/horses/horse-90.jpg\n",
      "../../Datasets/Images/images/horses/horse-150.jpg\n",
      "../../Datasets/Images/images/horses/horse-195.jpg\n",
      "../../Datasets/Images/images/horses/horse-93.jpg\n",
      "../../Datasets/Images/images/horses/horse-99.jpg\n",
      "../../Datasets/Images/images/horses/horse-120.jpg\n",
      "../../Datasets/Images/images/horses/horse-96.jpg\n",
      "../../Datasets/Images/images/horses/horse-22.jpg\n",
      "../../Datasets/Images/images/horses/horse-66.jpg\n",
      "../../Datasets/Images/images/horses/horse-197.jpg\n",
      "../../Datasets/Images/images/horses/horse-160.jpg\n",
      "../../Datasets/Images/images/horses/horse-89.jpg\n",
      "../../Datasets/Images/images/horses/horse-79.jpg\n",
      "../../Datasets/Images/images/horses/horse-174.jpg\n",
      "../../Datasets/Images/images/horses/horse-145.jpg\n",
      "../../Datasets/Images/images/horses/horse-28.jpg\n",
      "../../Datasets/Images/images/horses/horse-163.jpg\n",
      "../../Datasets/Images/images/horses/horse-24.jpg\n",
      "../../Datasets/Images/images/horses/horse-2.jpg\n",
      "../../Datasets/Images/images/horses/horse-55.jpg\n",
      "../../Datasets/Images/images/horses/horse-68.jpg\n",
      "../../Datasets/Images/images/horses/horse-135.jpg\n",
      "../../Datasets/Images/images/horses/horse-49.jpg\n",
      "../../Datasets/Images/images/horses/horse-91.jpg\n",
      "../../Datasets/Images/images/horses/horse-62.jpg\n",
      "../../Datasets/Images/images/horses/horse-35.jpg\n",
      "../../Datasets/Images/images/horses/horse-44.jpg\n",
      "../../Datasets/Images/images/horses/horse-143.jpg\n",
      "../../Datasets/Images/images/horses/horse-97.jpg\n",
      "../../Datasets/Images/images/horses/horse-61.jpg\n",
      "../../Datasets/Images/images/horses/horse-186.jpg\n",
      "../../Datasets/Images/images/horses/horse-123.jpg\n",
      "../../Datasets/Images/images/horses/horse-33.jpg\n",
      "../../Datasets/Images/images/horses/horse-140.jpg\n",
      "../../Datasets/Images/images/horses/horse-84.jpg\n",
      "../../Datasets/Images/images/horses/horse-75.jpg\n",
      "../../Datasets/Images/images/horses/horse-69.jpg\n",
      "../../Datasets/Images/images/horses/horse-144.jpg\n",
      "../../Datasets/Images/images/horses/horse-81.jpg\n",
      "../../Datasets/Images/images/horses/horse-183.jpg\n",
      "../../Datasets/Images/images/horses/horse-162.jpg\n",
      "../../Datasets/Images/images/horses/horse-86.jpg\n",
      "../../Datasets/Images/images/horses/horse-57.jpg\n",
      "../../Datasets/Images/images/horses/horse-37.jpg\n",
      "../../Datasets/Images/images/horses/horse-31.jpg\n",
      "../../Datasets/Images/images/cats/cat.143.jpg\n",
      "../../Datasets/Images/images/cats/cat.7.jpg\n",
      "../../Datasets/Images/images/cats/cat.17.jpg\n",
      "../../Datasets/Images/images/cats/cat.124.jpg\n",
      "../../Datasets/Images/images/cats/cat.34.jpg\n",
      "../../Datasets/Images/images/cats/cat.141.jpg\n",
      "../../Datasets/Images/images/cats/cat.91.jpg\n",
      "../../Datasets/Images/images/cats/cat.44.jpg\n",
      "../../Datasets/Images/images/cats/cat.4.jpg\n",
      "../../Datasets/Images/images/cats/cat.131.jpg\n",
      "../../Datasets/Images/images/cats/cat.183.jpg\n",
      "../../Datasets/Images/images/cats/cat.104.jpg\n",
      "../../Datasets/Images/images/cats/cat.112.jpg\n",
      "../../Datasets/Images/images/cats/cat.94.jpg\n",
      "../../Datasets/Images/images/cats/cat.166.jpg\n",
      "../../Datasets/Images/images/cats/cat.19.jpg\n",
      "../../Datasets/Images/images/cats/cat.74.jpg\n",
      "../../Datasets/Images/images/cats/cat.132.jpg\n",
      "../../Datasets/Images/images/cats/cat.175.jpg\n",
      "../../Datasets/Images/images/cats/cat.93.jpg\n",
      "../../Datasets/Images/images/cats/cat.89.jpg\n",
      "../../Datasets/Images/images/cats/cat.25.jpg\n",
      "../../Datasets/Images/images/cats/cat.15.jpg\n",
      "../../Datasets/Images/images/cats/cat.20.jpg\n",
      "../../Datasets/Images/images/cats/cat.99.jpg\n",
      "../../Datasets/Images/images/cats/cat.107.jpg\n",
      "../../Datasets/Images/images/cats/cat.9.jpg\n",
      "../../Datasets/Images/images/cats/cat.80.jpg\n",
      "../../Datasets/Images/images/cats/cat.51.jpg\n",
      "../../Datasets/Images/images/cats/cat.154.jpg\n",
      "../../Datasets/Images/images/cats/cat.10.jpg\n",
      "../../Datasets/Images/images/cats/cat.22.jpg\n",
      "../../Datasets/Images/images/cats/cat.49.jpg\n",
      "../../Datasets/Images/images/cats/cat.101.jpg\n",
      "../../Datasets/Images/images/cats/cat.3.jpg\n",
      "../../Datasets/Images/images/cats/cat.16.jpg\n",
      "../../Datasets/Images/images/cats/cat.195.jpg\n",
      "../../Datasets/Images/images/cats/cat.103.jpg\n",
      "../../Datasets/Images/images/cats/cat.42.jpg\n",
      "../../Datasets/Images/images/cats/cat.184.jpg\n",
      "../../Datasets/Images/images/cats/cat.24.jpg\n",
      "../../Datasets/Images/images/cats/cat.37.jpg\n",
      "../../Datasets/Images/images/cats/cat.28.jpg\n",
      "../../Datasets/Images/images/cats/cat.69.jpg\n",
      "../../Datasets/Images/images/cats/cat.12.jpg\n",
      "../../Datasets/Images/images/cats/cat.48.jpg\n",
      "../../Datasets/Images/images/cats/cat.189.jpg\n",
      "../../Datasets/Images/images/cats/cat.180.jpg\n",
      "../../Datasets/Images/images/cats/cat.169.jpg\n",
      "../../Datasets/Images/images/cats/cat.161.jpg\n",
      "../../Datasets/Images/images/cats/cat.133.jpg\n",
      "../../Datasets/Images/images/cats/cat.197.jpg\n",
      "../../Datasets/Images/images/cats/cat.55.jpg\n",
      "../../Datasets/Images/images/cats/cat.21.jpg\n",
      "../../Datasets/Images/images/cats/cat.41.jpg\n",
      "../../Datasets/Images/images/cats/cat.153.jpg\n",
      "../../Datasets/Images/images/cats/cat.140.jpg\n",
      "../../Datasets/Images/images/cats/cat.85.jpg\n",
      "../../Datasets/Images/images/cats/cat.86.jpg\n",
      "../../Datasets/Images/images/cats/cat.151.jpg\n",
      "../../Datasets/Images/images/cats/cat.115.jpg\n",
      "../../Datasets/Images/images/cats/cat.149.jpg\n",
      "../../Datasets/Images/images/cats/cat.52.jpg\n",
      "../../Datasets/Images/images/cats/cat.67.jpg\n",
      "../../Datasets/Images/images/cats/cat.73.jpg\n",
      "../../Datasets/Images/images/cats/cat.110.jpg\n",
      "../../Datasets/Images/images/cats/cat.185.jpg\n",
      "../../Datasets/Images/images/cats/cat.137.jpg\n",
      "../../Datasets/Images/images/cats/cat.81.jpg\n",
      "../../Datasets/Images/images/cats/cat.31.jpg\n",
      "../../Datasets/Images/images/cats/cat.152.jpg\n",
      "../../Datasets/Images/images/cats/cat.172.jpg\n",
      "../../Datasets/Images/images/cats/cat.1.jpg\n",
      "../../Datasets/Images/images/cats/cat.61.jpg\n",
      "../../Datasets/Images/images/cats/cat.65.jpg\n",
      "../../Datasets/Images/images/cats/cat.98.jpg\n",
      "../../Datasets/Images/images/cats/cat.109.jpg\n",
      "../../Datasets/Images/images/cats/cat.123.jpg\n",
      "../../Datasets/Images/images/cats/cat.117.jpg\n",
      "../../Datasets/Images/images/cats/cat.114.jpg\n",
      "../../Datasets/Images/images/cats/cat.142.jpg\n",
      "../../Datasets/Images/images/cats/cat.192.jpg\n",
      "../../Datasets/Images/images/cats/cat.158.jpg\n",
      "../../Datasets/Images/images/cats/cat.66.jpg\n",
      "../../Datasets/Images/images/cats/cat.167.jpg\n",
      "../../Datasets/Images/images/cats/cat.102.jpg\n",
      "../../Datasets/Images/images/cats/cat.186.jpg\n",
      "../../Datasets/Images/images/cats/cat.121.jpg\n",
      "../../Datasets/Images/images/cats/cat.127.jpg\n",
      "../../Datasets/Images/images/cats/cat.163.jpg\n",
      "../../Datasets/Images/images/cats/cat.100.jpg\n",
      "../../Datasets/Images/images/cats/cat.150.jpg\n",
      "../../Datasets/Images/images/cats/cat.144.jpg\n",
      "../../Datasets/Images/images/cats/cat.36.jpg\n",
      "../../Datasets/Images/images/cats/cat.58.jpg\n",
      "../../Datasets/Images/images/cats/cat.135.jpg\n",
      "../../Datasets/Images/images/cats/cat.33.jpg\n",
      "../../Datasets/Images/images/cats/cat.119.jpg\n",
      "../../Datasets/Images/images/cats/cat.116.jpg\n",
      "../../Datasets/Images/images/cats/cat.29.jpg\n",
      "../../Datasets/Images/images/cats/cat.190.jpg\n",
      "../../Datasets/Images/images/cats/cat.122.jpg\n",
      "../../Datasets/Images/images/cats/cat.130.jpg\n",
      "../../Datasets/Images/images/cats/cat.129.jpg\n",
      "../../Datasets/Images/images/cats/cat.96.jpg\n",
      "../../Datasets/Images/images/cats/cat.97.jpg\n",
      "../../Datasets/Images/images/cats/cat.43.jpg\n",
      "../../Datasets/Images/images/cats/cat.13.jpg\n",
      "../../Datasets/Images/images/cats/cat.111.jpg\n",
      "../../Datasets/Images/images/cats/cat.2.jpg\n",
      "../../Datasets/Images/images/cats/cat.26.jpg\n",
      "../../Datasets/Images/images/cats/cat.113.jpg\n",
      "../../Datasets/Images/images/cats/cat.170.jpg\n",
      "../../Datasets/Images/images/cats/cat.39.jpg\n",
      "../../Datasets/Images/images/cats/cat.139.jpg\n",
      "../../Datasets/Images/images/cats/cat.178.jpg\n",
      "../../Datasets/Images/images/cats/cat.72.jpg\n",
      "../../Datasets/Images/images/cats/cat.138.jpg\n",
      "../../Datasets/Images/images/cats/cat.145.jpg\n",
      "../../Datasets/Images/images/cats/cat.105.jpg\n",
      "../../Datasets/Images/images/cats/cat.126.jpg\n",
      "../../Datasets/Images/images/cats/cat.23.jpg\n",
      "../../Datasets/Images/images/cats/cat.120.jpg\n",
      "../../Datasets/Images/images/cats/cat.11.jpg\n",
      "../../Datasets/Images/images/cats/cat.181.jpg\n",
      "../../Datasets/Images/images/cats/cat.198.jpg\n",
      "../../Datasets/Images/images/cats/cat.18.jpg\n",
      "../../Datasets/Images/images/cats/cat.193.jpg\n",
      "../../Datasets/Images/images/cats/cat.159.jpg\n",
      "../../Datasets/Images/images/cats/cat.87.jpg\n",
      "../../Datasets/Images/images/cats/cat.60.jpg\n",
      "../../Datasets/Images/images/cats/cat.27.jpg\n",
      "../../Datasets/Images/images/cats/cat.8.jpg\n",
      "../../Datasets/Images/images/cats/cat.164.jpg\n",
      "../../Datasets/Images/images/cats/cat.155.jpg\n",
      "../../Datasets/Images/images/cats/cat.84.jpg\n",
      "../../Datasets/Images/images/cats/cat.62.jpg\n",
      "../../Datasets/Images/images/cats/cat.177.jpg\n",
      "../../Datasets/Images/images/cats/cat.196.jpg\n",
      "../../Datasets/Images/images/cats/cat.108.jpg\n",
      "../../Datasets/Images/images/cats/cat.40.jpg\n",
      "../../Datasets/Images/images/cats/cat.71.jpg\n",
      "../../Datasets/Images/images/cats/cat.90.jpg\n",
      "../../Datasets/Images/images/cats/cat.118.jpg\n",
      "../../Datasets/Images/images/cats/cat.148.jpg\n",
      "../../Datasets/Images/images/cats/cat.5.jpg\n",
      "../../Datasets/Images/images/cats/cat.165.jpg\n",
      "../../Datasets/Images/images/cats/cat.14.jpg\n",
      "../../Datasets/Images/images/cats/cat.199.jpg\n",
      "../../Datasets/Images/images/cats/cat.56.jpg\n",
      "../../Datasets/Images/images/cats/cat.147.jpg\n",
      "../../Datasets/Images/images/cats/cat.128.jpg\n",
      "../../Datasets/Images/images/cats/cat.191.jpg\n",
      "../../Datasets/Images/images/cats/cat.194.jpg\n",
      "../../Datasets/Images/images/cats/cat.54.jpg\n",
      "../../Datasets/Images/images/cats/cat.35.jpg\n",
      "../../Datasets/Images/images/cats/cat.78.jpg\n",
      "../../Datasets/Images/images/cats/cat.82.jpg\n",
      "../../Datasets/Images/images/cats/cat.179.jpg\n",
      "../../Datasets/Images/images/cats/cat.160.jpg\n",
      "../../Datasets/Images/images/cats/cat.125.jpg\n",
      "../../Datasets/Images/images/cats/cat.174.jpg\n",
      "../../Datasets/Images/images/cats/cat.176.jpg\n",
      "../../Datasets/Images/images/cats/cat.46.jpg\n",
      "../../Datasets/Images/images/cats/cat.76.jpg\n",
      "../../Datasets/Images/images/cats/cat.64.jpg\n",
      "../../Datasets/Images/images/cats/cat.57.jpg\n",
      "../../Datasets/Images/images/cats/cat.171.jpg\n",
      "../../Datasets/Images/images/cats/cat.201.jpg\n",
      "../../Datasets/Images/images/cats/cat.202.jpg\n",
      "../../Datasets/Images/images/cats/cat.136.jpg\n",
      "../../Datasets/Images/images/cats/cat.77.jpg\n",
      "../../Datasets/Images/images/cats/cat.30.jpg\n",
      "../../Datasets/Images/images/cats/cat.70.jpg\n",
      "../../Datasets/Images/images/cats/cat.79.jpg\n",
      "../../Datasets/Images/images/cats/cat.187.jpg\n",
      "../../Datasets/Images/images/cats/cat.59.jpg\n",
      "../../Datasets/Images/images/cats/cat.156.jpg\n",
      "../../Datasets/Images/images/cats/cat.45.jpg\n",
      "../../Datasets/Images/images/cats/cat.92.jpg\n",
      "../../Datasets/Images/images/cats/cat.146.jpg\n",
      "../../Datasets/Images/images/cats/cat.32.jpg\n",
      "../../Datasets/Images/images/cats/cat.38.jpg\n",
      "../../Datasets/Images/images/cats/cat.75.jpg\n",
      "../../Datasets/Images/images/cats/cat.63.jpg\n",
      "../../Datasets/Images/images/cats/cat.88.jpg\n",
      "../../Datasets/Images/images/cats/cat.95.jpg\n",
      "../../Datasets/Images/images/cats/cat.6.jpg\n",
      "../../Datasets/Images/images/cats/cat.134.jpg\n",
      "../../Datasets/Images/images/cats/cat.50.jpg\n",
      "../../Datasets/Images/images/cats/cat.83.jpg\n",
      "../../Datasets/Images/images/cats/cat.53.jpg\n",
      "../../Datasets/Images/images/cats/cat.68.jpg\n",
      "../../Datasets/Images/images/cats/cat.173.jpg\n",
      "../../Datasets/Images/images/cats/cat.162.jpg\n",
      "../../Datasets/Images/images/cats/cat.47.jpg\n",
      "../../Datasets/Images/images/cats/cat.200.jpg\n",
      "../../Datasets/Images/images/cats/cat.182.jpg\n",
      "../../Datasets/Images/images/cats/cat.168.jpg\n",
      "../../Datasets/Images/images/cats/cat.106.jpg\n",
      "../../Datasets/Images/images/cats/cat.188.jpg\n",
      "../../Datasets/Images/images/cats/cat.157.jpg\n"
     ]
    }
   ],
   "source": [
    "## this is how our images look like after what we did above:(see output)\n",
    "for folder_dir in p.glob(\"*\"):\n",
    "    for img_path in folder_dir.glob(\"*.jpg\"):\n",
    "        print(img_path)"
   ]
  },
  {
   "cell_type": "code",
   "execution_count": null,
   "metadata": {},
   "outputs": [],
   "source": []
  },
  {
   "cell_type": "markdown",
   "metadata": {},
   "source": [
    "### Randomly Shuffle our Data!\n",
    "- To shuffle data, we do not want to shuffle data but labels should remain same after shuffling. So we zip data and labels in a single unit, shuffle them and then unzip them  "
   ]
  },
  {
   "cell_type": "code",
   "execution_count": 10,
   "metadata": {},
   "outputs": [],
   "source": [
    "import random\n",
    "\n",
    "combined = list(zip(image_data,labels))\n",
    "random.shuffle(combined)\n",
    "\n",
    "#Unzip\n",
    "image_data[:],labels[:] = zip(*combined)  ## * is used to unzip any data which has been zipped"
   ]
  },
  {
   "cell_type": "markdown",
   "metadata": {},
   "source": [
    "\n",
    "### Visualise this data!"
   ]
  },
  {
   "cell_type": "code",
   "execution_count": 11,
   "metadata": {},
   "outputs": [
    {
     "data": {
      "image/png": "[encoded data removed]",
      "text/plain": [
       "<Figure size 432x288 with 1 Axes>"
      ]
     },
     "metadata": {
      "needs_background": "light"
     },
     "output_type": "display_data"
    },
    {
     "data": {
      "image/png": "[encoded data removed]",
      "text/plain": [
       "<Figure size 432x288 with 1 Axes>"
      ]
     },
     "metadata": {
      "needs_background": "light"
     },
     "output_type": "display_data"
    },
    {
     "data": {
      "image/png": "[encoded data removed]",
      "text/plain": [
       "<Figure size 432x288 with 1 Axes>"
      ]
     },
     "metadata": {
      "needs_background": "light"
     },
     "output_type": "display_data"
    },
    {
     "data": {
      "image/png": "[encoded data removed]",
      "text/plain": [
       "<Figure size 432x288 with 1 Axes>"
      ]
     },
     "metadata": {
      "needs_background": "light"
     },
     "output_type": "display_data"
    },
    {
     "data": {
      "image/png": "[encoded data removed]",
      "text/plain": [
       "<Figure size 432x288 with 1 Axes>"
      ]
     },
     "metadata": {
      "needs_background": "light"
     },
     "output_type": "display_data"
    },
    {
     "data": {
      "image/png": "[encoded data removed]",
      "text/plain": [
       "<Figure size 432x288 with 1 Axes>"
      ]
     },
     "metadata": {
      "needs_background": "light"
     },
     "output_type": "display_data"
    },
    {
     "data": {
      "image/png": "[encoded data removed]",
      "text/plain": [
       "<Figure size 432x288 with 1 Axes>"
      ]
     },
     "metadata": {
      "needs_background": "light"
     },
     "output_type": "display_data"
    },
    {
     "data": {
      "image/png": "[encoded data removed]",
      "text/plain": [
       "<Figure size 432x288 with 1 Axes>"
      ]
     },
     "metadata": {
      "needs_background": "light"
     },
     "output_type": "display_data"
    },
    {
     "data": {
      "image/png": "[encoded data removed]",
      "text/plain": [
       "<Figure size 432x288 with 1 Axes>"
      ]
     },
     "metadata": {
      "needs_background": "light"
     },
     "output_type": "display_data"
    },
    {
     "data": {
      "image/png": "[encoded data removed]",
      "text/plain": [
       "<Figure size 432x288 with 1 Axes>"
      ]
     },
     "metadata": {
      "needs_background": "light"
     },
     "output_type": "display_data"
    }
   ],
   "source": [
    "def drawImg(img):\n",
    "    plt.imshow(img)\n",
    "    plt.axis(\"off\")  ## turn off axis for images\n",
    "    plt.show()    \n",
    "    return \n",
    "\n",
    "for i in range(10):\n",
    "    drawImg(image_data[i])"
   ]
  },
  {
   "cell_type": "markdown",
   "metadata": {},
   "source": [
    "- These are some images after shuffeling. And these are not much clear bcoz we have read these images in size 32x32."
   ]
  },
  {
   "cell_type": "code",
   "execution_count": null,
   "metadata": {},
   "outputs": [],
   "source": []
  },
  {
   "cell_type": "markdown",
   "metadata": {},
   "source": [
    "## SVM Classifier\n",
    "- Now let us implement our SVM classifier for one-vs-one multiclass classification.\n",
    "- For 'ovo' , we need to make $^NC_2$ classifiers. We can copy code for SVM classifier for binary classification from our ../1.SVM folder and then add multiclassification using one-v-one by making $^NC_2$ classifiers."
   ]
  },
  {
   "cell_type": "code",
   "execution_count": 12,
   "metadata": {},
   "outputs": [],
   "source": [
    "class SVM:\n",
    "    def __init__(self,C=1.0):\n",
    "        self.C = C\n",
    "        self.theta = 0  \n",
    "        \n",
    "    def hingeLoss(self,theta,X,Y):    \n",
    "        loss  = 0.0\n",
    "        loss += .5*np.dot(theta,theta.T)\n",
    "\n",
    "        loss_2 = 0\n",
    "        for i in range(X.shape[0]):\n",
    "            ti = Y[i]*(np.dot(theta,X[i].T))  ## X is now: (m,n+1) and W is: (n+1,)\n",
    "            loss_2 += max(0,(1-ti))\n",
    "        loss = loss + self.C*loss_2\n",
    "        return loss[0][0]  ## loss is a array as [[value]], so return loss[0][0] \n",
    "    \n",
    "    def fit(self,X,Y,batch_size=100,learning_rate=0.001,maxItr=300):\n",
    "        m,n = X.shape        \n",
    "        c = self.C\n",
    "        \n",
    "        #Init the model parameters\n",
    "        theta = np.zeros((1,n))  ## create a vector of size n+1\n",
    "        \n",
    "        #Training starts from here...\n",
    "        losses = []  ## to store losses in each step\n",
    "        \n",
    "        ## using Mini-Batch Gradient Descent Algo\n",
    "        for i in range(maxItr):     #Training Loop for each epoch\n",
    "            l = self.hingeLoss(theta,X,Y)\n",
    "            losses.append(l)  ## store loss in each step in this list \n",
    "            ids = np.arange(m) ## create list for index values and then shuffle them\n",
    "            np.random.shuffle(ids) ## shuffle these and choose batches randomly in each iteration\n",
    "\n",
    "            #Batch Gradient Descent(Paper) with random shuffling\n",
    "            \n",
    "            for batch_start in range(0,m,batch_size): ## from 0..m with step_size=batch_size\n",
    "            ## here 'batch_start' is start idx of every mini batch.\n",
    "                gradw = 0  ## assume gradient=0 for each mini-batch initially\n",
    "                gradb = 0\n",
    "                \n",
    "                #Iterate over all examples in the mini batch\n",
    "                for j in range(batch_start,batch_start+batch_size):\n",
    "                    ## if j crosses 'm' then get out of loop\n",
    "# eg- last batch start from 48:56 ,But m=50, so j need to stop after 50 \n",
    "                    if j>=m:\n",
    "                        break\n",
    "                    else:\n",
    "                        i = ids[j]  ## i is idx for random values in the batch\n",
    "                        ti =  Y[i]*(np.dot(theta,X[i].T))\n",
    "                        ## we have used same variable 'i' for outer for loop and here to save memory\n",
    "## after ending of each whole epoch: 'i' will be changed to no_of_iterations: 0,1,2...max_iter\n",
    "## , according to first 'for' loop=>(this is to save memory, or we can use different variable for outer for loop and here)\n",
    "                        if ti<=1:\n",
    "                            gradw += c*Y[i]*X[i]\n",
    "                            \n",
    "                # Now update W,b after calculating gradient over all examples in mini-batch\n",
    "                theta = theta - learning_rate*theta + learning_rate*gradw                \n",
    "                ## update theta each mini batch.\n",
    "        self.theta = theta\n",
    "        return theta,losses        "
   ]
  },
  {
   "cell_type": "markdown",
   "metadata": {},
   "source": [
    "- In SVM, we made a hingeloss which is not required here. And we used mini-batch GD to make theta update and this SVM is applied using Pegoasos formulation and without using any kernel."
   ]
  },
  {
   "cell_type": "markdown",
   "metadata": {},
   "source": [
    "- Let us flatten our image from 808x32x32x3 --> 808 x 3072\n",
    "- Now every image has 3072 features."
   ]
  },
  {
   "cell_type": "code",
   "execution_count": 13,
   "metadata": {},
   "outputs": [
    {
     "name": "stdout",
     "output_type": "stream",
     "text": [
      "(808, 3072)\n",
      "(808,)\n"
     ]
    }
   ],
   "source": [
    "M = image_data.shape[0] \n",
    "image_data = image_data.reshape(M,-1)  # n0_of_rows = M and calculate columns automatically\n",
    "print(image_data.shape)\n",
    "print(labels.shape)"
   ]
  },
  {
   "cell_type": "markdown",
   "metadata": {},
   "source": [
    "- But in our SVM, we have used $\\theta$ instead of $w$ and $b$. So we need to add column of ones in the beginning:"
   ]
  },
  {
   "cell_type": "code",
   "execution_count": 14,
   "metadata": {},
   "outputs": [
    {
     "name": "stdout",
     "output_type": "stream",
     "text": [
      "(808, 3073)\n"
     ]
    }
   ],
   "source": [
    "## add 1s column to make it n+1 features \n",
    "ones = np.ones((image_data.shape[0],1)) # rows same as in X_train and one column\n",
    "new_img_data = np.hstack((ones, image_data)) \n",
    "print(new_img_data.shape)"
   ]
  },
  {
   "cell_type": "code",
   "execution_count": null,
   "metadata": {},
   "outputs": [],
   "source": []
  },
  {
   "cell_type": "markdown",
   "metadata": {},
   "source": [
    "### We need to convert data for One-for-One classifcation!\n",
    "- Read \"01_file.pdf\", there we dicussed that we need to train using points for only 2classes at a time. For that we need to know what points belong to each class. So we can create a dictionary for all 4 unique classes and create a list for each of these classes which contains all images belonging to that class"
   ]
  },
  {
   "cell_type": "code",
   "execution_count": 15,
   "metadata": {},
   "outputs": [
    {
     "name": "stdout",
     "output_type": "stream",
     "text": [
      "4\n"
     ]
    }
   ],
   "source": [
    "CLASSES = len(np.unique(labels))  ## gives us total number of classes\n",
    "print(CLASSES)"
   ]
  },
  {
   "cell_type": "code",
   "execution_count": 16,
   "metadata": {},
   "outputs": [],
   "source": [
    "def classWiseData(x,y):  ## X is images_data and y is labels here\n",
    "    data = {}  ## create dictionary to store all 4 unique classes\n",
    "    \n",
    "    for i in range(CLASSES):\n",
    "        data[i] = []  ## for all 4 classes: assign empty list to them initially\n",
    "## now data={0:[], 1:[], 2:[], 3:[]}. So these keys are also labels for cat,dog,horse,human\n",
    "## and we will assign X_points(images) to belonging class\n",
    "        \n",
    "    for i in range(x.shape[0]):  ## for all points\n",
    "        data[y[i]].append(x[i])  ## y[i] = 0 for cat, 1-dog,.. So add image to corresponding label\n",
    "## now data={0:[........], 1:[.......], 2:[........], 3:[........]}\n",
    "## All of these 4 classes will now have some points assigned to them \n",
    "    \n",
    "    for k in data.keys():\n",
    "        data[k] = np.array(data[k]) ## convert each list to a numpy array\n",
    "        \n",
    "    return data"
   ]
  },
  {
   "cell_type": "code",
   "execution_count": 17,
   "metadata": {},
   "outputs": [
    {
     "name": "stdout",
     "output_type": "stream",
     "text": [
      "<class 'dict'> <class 'numpy.ndarray'>\n",
      "(202, 3073) (202, 3073) (202, 3073) (202, 3073)\n"
     ]
    }
   ],
   "source": [
    "## don't forget to use updated data with n+1 features, else there will be lots of errors later on\n",
    "data = classWiseData(new_img_data,labels)\n",
    "print(type(data), type(data[0]))\n",
    "print(data[0].shape, data[1].shape, data[2].shape, data[3].shape)"
   ]
  },
  {
   "cell_type": "markdown",
   "metadata": {},
   "source": [
    "- 'data' is a dictionay where keys are class_labels and values are numpy_array containing all the images belonging to corresponding key(label).\n",
    "- As 'data' is dictionary, So len(dict) = 4 as there are 4 keys(unique labels) in it and every label has 202 images in them as shown by data[0].shape,..."
   ]
  },
  {
   "cell_type": "markdown",
   "metadata": {},
   "source": [
    "<img src=\"2.2img.jpeg\" alt=\"image\" align=\"left\" style=\"width: 450px;\">"
   ]
  },
  {
   "cell_type": "code",
   "execution_count": 18,
   "metadata": {},
   "outputs": [],
   "source": [
    "def getDataPairForSVM(d1,d2):\n",
    "    \"\"\"Combines Data of two classes into a signle matrix\"\"\"\n",
    "    \n",
    "    l1,l2 = d1.shape[0],d2.shape[0]\n",
    "    \n",
    "    samples = l1+l2  ## total number of examples\n",
    "    features = d1.shape[1]  ## number of features( here it will always be 3072)\n",
    "    \n",
    "    data_pair = np.zeros((samples,features))\n",
    "    data_labels = np.zeros((samples,))\n",
    "    \n",
    "    data_pair[:l1,:] = d1  ## assign d1 from 0:l1\n",
    "    data_pair[l1:,:] = d2  ## assign d2 from l1:l1+l2 which is end also\n",
    "    \n",
    "    data_labels[:l1] = -1  ## give labels -1 for 1st class\n",
    "    data_labels[l1:] = +1  ## give labels +1 for 1st class\n",
    "    \n",
    "    return data_pair,data_labels"
   ]
  },
  {
   "cell_type": "code",
   "execution_count": null,
   "metadata": {},
   "outputs": [],
   "source": []
  },
  {
   "cell_type": "markdown",
   "metadata": {},
   "source": [
    "## Training  $^NC_2$ SVM's Part!"
   ]
  },
  {
   "cell_type": "markdown",
   "metadata": {},
   "source": [
    "- Before training, as we are using $\\theta$ instead of using $w$ and $b$ . So we need to add a column of ones to make images with 3073 features and then pass that to training "
   ]
  },
  {
   "cell_type": "code",
   "execution_count": 19,
   "metadata": {},
   "outputs": [
    {
     "name": "stdout",
     "output_type": "stream",
     "text": [
      "(808, 3073)\n"
     ]
    }
   ],
   "source": [
    "## add 1s column to make it n+1 features \n",
    "ones = np.ones((image_data.shape[0],1)) # rows same as in X_train and one column\n",
    "new_img_data = np.hstack((ones, image_data)) \n",
    "print(new_img_data.shape)"
   ]
  },
  {
   "cell_type": "markdown",
   "metadata": {},
   "source": [
    "- **Earlier it was giving very high deviations in error and error started from 400 and went upto $10^5$. This was bcoz learning rate was high. So I decreased learning_rate from 0.001--> 0.00001.** Now results are better and error is decreasing.\n",
    "- And error was not reached to minimum, it was still decreasing after 500iterations. So I passed 1000 iterations(we can do more, but that will take more time.)"
   ]
  },
  {
   "cell_type": "code",
   "execution_count": 20,
   "metadata": {},
   "outputs": [
    {
     "data": {
      "text/plain": [
       "[<matplotlib.lines.Line2D at 0x7f9289f239a0>]"
      ]
     },
     "execution_count": 20,
     "metadata": {},
     "output_type": "execute_result"
    },
    {
     "data": {
      "image/png": "[encoded data removed]",
      "text/plain": [
       "<Figure size 360x216 with 1 Axes>"
      ]
     },
     "metadata": {},
     "output_type": "display_data"
    }
   ],
   "source": [
    "plt.style.use('seaborn')\n",
    "plt.figure(figsize=(5,3))\n",
    "mySVM  = SVM()\n",
    "xp, yp  = getDataPairForSVM(data[0],data[1]) #data is dict. that gives us all points in a class.\n",
    "theta, loss  = mySVM.fit(xp,yp,learning_rate=0.00001,maxItr=1000)\n",
    "# print(loss)\n",
    "plt.plot(loss)"
   ]
  },
  {
   "cell_type": "markdown",
   "metadata": {},
   "source": [
    "- To get a pairwise data: eg- if we have classes: 0,1,2,3 then pairs will be like 0 will be paired with=> 1,2,3 and then 1 with=> 2,3 and 2 with=> 3\n",
    "- So we make pairs using 2 for loops  to pair and j always starts from i+1 as seen in above example. i=0--> j=1,2,3 , i=1--> j=2,3 , i=2--> j=3"
   ]
  },
  {
   "cell_type": "code",
   "execution_count": 21,
   "metadata": {},
   "outputs": [],
   "source": [
    "def trainSVMs(x,y):\n",
    "    \n",
    "    svm_classifiers = {}  ## to store all NC2 classifiers\n",
    "    for i in range(CLASSES):  ## CLASSES=N=4 here\n",
    "        svm_classifiers[i] = {}  ## create a sub_dictionary for each classes where key=\"class_id\"\n",
    "        ## we will add all the pairs in sub dictionary. At last svm_classifier will be as:\n",
    "# {0 : {1 : 'theta(0-1)' , 2:.. , 3:..}, 1: {2:.., 3:..}, 2:{3:..}, 3:{}} see below cell O/P\n",
    "        for j in range(i+1,CLASSES):  ## start from i+1\n",
    "            xpair,ypair = getDataPairForSVM(data[i],data[j]) # get data of 2pairs only to train for each classifier\n",
    "            theta,loss = mySVM.fit(xpair,ypair,learning_rate=0.00001,maxItr=1000)\n",
    "            svm_classifiers[i][j] = theta  ## add theta for (i-j) pair\n",
    "            \n",
    "            plt.figure(figsize=(5,3))\n",
    "            plt.plot(loss)\n",
    "            plt.show()\n",
    "            \n",
    "    \n",
    "    return svm_classifiers"
   ]
  },
  {
   "cell_type": "code",
   "execution_count": 22,
   "metadata": {},
   "outputs": [
    {
     "data": {
      "image/png": "[encoded data removed]",
      "text/plain": [
       "<Figure size 360x216 with 1 Axes>"
      ]
     },
     "metadata": {},
     "output_type": "display_data"
    },
    {
     "data": {
      "image/png": "[encoded data removed]",
      "text/plain": [
       "<Figure size 360x216 with 1 Axes>"
      ]
     },
     "metadata": {},
     "output_type": "display_data"
    },
    {
     "data": {
      "image/png": "[encoded data removed]",
      "text/plain": [
       "<Figure size 360x216 with 1 Axes>"
      ]
     },
     "metadata": {},
     "output_type": "display_data"
    },
    {
     "data": {
      "image/png": "[encoded data removed]",
      "text/plain": [
       "<Figure size 360x216 with 1 Axes>"
      ]
     },
     "metadata": {},
     "output_type": "display_data"
    },
    {
     "data": {
      "image/png": "[encoded data removed]",
      "text/plain": [
       "<Figure size 360x216 with 1 Axes>"
      ]
     },
     "metadata": {},
     "output_type": "display_data"
    },
    {
     "data": {
      "image/png": "[encoded data removed]",
      "text/plain": [
       "<Figure size 360x216 with 1 Axes>"
      ]
     },
     "metadata": {},
     "output_type": "display_data"
    }
   ],
   "source": [
    "## don't forget to pass updated images data with 3073 features, else it'll give some error \n",
    "svm_classifiers = trainSVMs(new_img_data,labels)"
   ]
  },
  {
   "cell_type": "code",
   "execution_count": 23,
   "metadata": {},
   "outputs": [
    {
     "name": "stdout",
     "output_type": "stream",
     "text": [
      "{0: {1: array([[-0.08419907, -0.00376962,  0.02733637, ...,  0.01797096,\n",
      "         0.02556984,  0.00454161]]), 2: array([[-0.15089789, -0.02437183, -0.00390203, ...,  0.04222986,\n",
      "         0.03511033, -0.00232154]]), 3: array([[-0.04941661,  0.02086216,  0.0341381 , ...,  0.05191514,\n",
      "         0.05730103,  0.03465083]])}, 1: {2: array([[-0.08486835, -0.02323106, -0.02493308, ...,  0.01421666,\n",
      "         0.00747898, -0.01738211]]), 3: array([[0.01960758, 0.02253681, 0.00956282, ..., 0.04030983, 0.04300179,\n",
      "        0.04241934]])}, 2: {3: array([[0.09175992, 0.03904272, 0.02700207, ..., 0.02364212, 0.03462464,\n",
      "        0.04955465]])}, 3: {}}\n",
      "theta for cats_dogs:  (1, 3073)\n",
      "theta for dogs_humans:  (1, 3073)\n"
     ]
    }
   ],
   "source": [
    "print(svm_classifiers)\n",
    "print(\"theta for cats_dogs: \", svm_classifiers[0][1].shape)\n",
    "print(\"theta for dogs_humans: \", svm_classifiers[1][3].shape)"
   ]
  },
  {
   "cell_type": "markdown",
   "metadata": {},
   "source": [
    "- We have 4dictionaries in svm_classifiers dict. And 0 is mapped with --> {1,2,3} .. 1 with --> {2,3} and 2--> {3} and 3--> {} empty. as cat=0, dog=1, horse=2, human=3. So (0,1) has $\\theta = [\\theta_0, \\theta_1 ... \\theta_{3073}]$ for seperating cat and dogs and is has been trained only on cats and dogs data. Similar for all others"
   ]
  },
  {
   "cell_type": "code",
   "execution_count": null,
   "metadata": {},
   "outputs": [],
   "source": []
  },
  {
   "cell_type": "markdown",
   "metadata": {},
   "source": [
    "## Prediction\n",
    "- Now we have trained $^NC_2$ classifiers and know $\\theta$ parameters which are parameters of hyperplane seperating all (i-j) pairs. To make predictions, we need to test our testing_point over all classifiers, and then do majority voting. "
   ]
  },
  {
   "cell_type": "code",
   "execution_count": 24,
   "metadata": {},
   "outputs": [],
   "source": [
    "## this function predicts for a binary classifier: if distance>0: then +ve class else -ve class\n",
    "def binaryPredict(x,theta):\n",
    "    z  = np.dot(x,theta.T)\n",
    "    if z>=0:\n",
    "        return 1\n",
    "    else:\n",
    "        return -1  ## in case of logistic regression, it would be 0"
   ]
  },
  {
   "cell_type": "markdown",
   "metadata": {},
   "source": [
    "- Here in below cell: we have create a vector with N(CLASSES) size and initialized all to zero. Then we will train on all $^NC_2$ classifiers and increase the count of class which is the predicted O/P in each iteration. In end, the class which has maximum count will be predicted O/P. (As we discussed in 01_file.pdf)"
   ]
  },
  {
   "cell_type": "code",
   "execution_count": 25,
   "metadata": {},
   "outputs": [],
   "source": [
    "def predict(x):    \n",
    "    count = np.zeros((CLASSES,))  \n",
    "    \n",
    "    for i in range(CLASSES):\n",
    "        for j in range(i+1,CLASSES):\n",
    "            theta = svm_classifiers[i][j]  ## get theta for (i-j) classiifier\n",
    "            \n",
    "            #Take a majority prediction \n",
    "            z = binaryPredict(x,theta)  \n",
    "            if(z==1):  ## increase count of class which predicts output in (i,j)th iteration\n",
    "                count[j] += 1\n",
    "            else:\n",
    "                count[i] += 1\n",
    "    \n",
    "    final_prediction = np.argmax(count)  # predicted output is class which has majority count\n",
    "    #print(count)\n",
    "    return final_prediction"
   ]
  },
  {
   "cell_type": "markdown",
   "metadata": {},
   "source": [
    "- We can add 1 to make every image with 3073 features inside our predictions. But instead of adding 1 for each image inside predictions for loop, we can first conevrt whole testing array to array of ones and then do testing."
   ]
  },
  {
   "cell_type": "code",
   "execution_count": 26,
   "metadata": {},
   "outputs": [
    {
     "name": "stdout",
     "output_type": "stream",
     "text": [
      "3\n",
      "3\n"
     ]
    }
   ],
   "source": [
    "print(predict(new_img_data[0]))\n",
    "print(labels[0])"
   ]
  },
  {
   "cell_type": "code",
   "execution_count": 27,
   "metadata": {},
   "outputs": [],
   "source": [
    "def accuracy(x,y):\n",
    "    \n",
    "    count = 0\n",
    "    for i in range(x.shape[0]):\n",
    "        prediction = predict(x[i])\n",
    "        if(prediction==y[i]):\n",
    "            count += 1\n",
    "            \n",
    "    return count/x.shape[0]"
   ]
  },
  {
   "cell_type": "code",
   "execution_count": 28,
   "metadata": {},
   "outputs": [
    {
     "data": {
      "text/plain": [
       "0.594059405940594"
      ]
     },
     "execution_count": 28,
     "metadata": {},
     "output_type": "execute_result"
    }
   ],
   "source": [
    "accuracy(new_img_data,labels)"
   ]
  },
  {
   "cell_type": "markdown",
   "metadata": {},
   "source": [
    "# SVM using SK-learn \n",
    "\n"
   ]
  },
  {
   "cell_type": "code",
   "execution_count": 29,
   "metadata": {},
   "outputs": [],
   "source": [
    "from sklearn import svm"
   ]
  },
  {
   "cell_type": "code",
   "execution_count": 30,
   "metadata": {},
   "outputs": [],
   "source": [
    "svm_classifier = svm.SVC(kernel='linear',C=1.0)"
   ]
  },
  {
   "cell_type": "code",
   "execution_count": 31,
   "metadata": {},
   "outputs": [
    {
     "data": {
      "text/plain": [
       "0.6472772277227723"
      ]
     },
     "execution_count": 31,
     "metadata": {},
     "output_type": "execute_result"
    }
   ],
   "source": [
    "svm_classifier.fit(image_data,labels)\n",
    "svm_classifier.score(image_data,labels)"
   ]
  },
  {
   "cell_type": "markdown",
   "metadata": {},
   "source": [
    "- We can see that our accuracy is 60% and sklearn gives us 65% accuracy. So we have build quiet good model.\n",
    "- And we can increase accuracy by increasing size of image and increasing number of iterations. But that will take more time also. "
   ]
  },
  {
   "cell_type": "markdown",
   "metadata": {},
   "source": [
    "#### See assignment_10 also"
   ]
  },
  {
   "cell_type": "code",
   "execution_count": null,
   "metadata": {},
   "outputs": [],
   "source": []
  }
 ],
 "metadata": {
  "kernelspec": {
   "display_name": "Python 3 (ipykernel)",
   "language": "python",
   "name": "python3"
  },
  "language_info": {
   "codemirror_mode": {
    "name": "ipython",
    "version": 3
   },
   "file_extension": ".py",
   "mimetype": "text/x-python",
   "name": "python",
   "nbconvert_exporter": "python",
   "pygments_lexer": "ipython3",
   "version": "3.8.10"
  }
 },
 "nbformat": 4,
 "nbformat_minor": 2
}
