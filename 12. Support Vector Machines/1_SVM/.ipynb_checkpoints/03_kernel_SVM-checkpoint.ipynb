{
 "cells": [
  {
   "cell_type": "markdown",
   "id": "df7143f9",
   "metadata": {},
   "source": [
    "##### Read \"05_kernel_SVM.pdf\" file to understand everything about kernels and Langrangian Formulation.\n",
    "- **Read this file bcoz sklearn uses Lagrangian's Formulation. And Kernels are also used in Lagrangian Formulation**.\n",
    "- This is link for derivation of lagrangian formulation, see if interested in it:\n",
    "https://towardsdatascience.com/understanding-support-vector-machine-part-1-lagrange-multipliers-5c24a52ffc5e"
   ]
  },
  {
   "cell_type": "markdown",
   "id": "6cfd5b88",
   "metadata": {},
   "source": [
    "## Kernel Based Classifcation in SVM's\n",
    "Sklearn supports the following types of Kernels, which can be used in many-real life problems.\n",
    "\n",
    "- Linear Kernel\n",
    "- RBF Kernel\n",
    "- Polynomial Kernel\n",
    "- Sigmoid Kernel\n",
    "\n",
    "**Kernel trick** is method of using a linear classifer to solve a non-linear problem. It transforms the linearly in-separable data into linearly separable one."
   ]
  },
  {
   "cell_type": "code",
   "execution_count": 1,
   "id": "8f279002",
   "metadata": {},
   "outputs": [],
   "source": [
    "from sklearn import svm\n",
    "from sklearn.datasets import make_circles  ## to generate data\n",
    "from matplotlib import pyplot as plt\n",
    "from mpl_toolkits.mplot3d import Axes3D  ## to make 3d plot\n",
    "import numpy as np"
   ]
  },
  {
   "cell_type": "code",
   "execution_count": 3,
   "id": "dce7f343",
   "metadata": {},
   "outputs": [],
   "source": [
    "X,Y = make_circles(n_samples=500,noise=0.02)"
   ]
  },
  {
   "cell_type": "code",
   "execution_count": 4,
   "id": "2aba6ed4",
   "metadata": {},
   "outputs": [
    {
     "data": {
      "image/png": "[encoded data removed]",
      "text/plain": [
       "<Figure size 360x216 with 1 Axes>"
      ]
     },
     "metadata": {},
     "output_type": "display_data"
    }
   ],
   "source": [
    "plt.style.use('seaborn')\n",
    "plt.figure(figsize=(5,3))\n",
    "plt.scatter(X[:,0],X[:,1],c=Y, cmap=plt.cm.Accent)\n",
    "plt.show()"
   ]
  },
  {
   "cell_type": "markdown",
   "id": "75df2b2d",
   "metadata": {},
   "source": [
    "- This is same data as we generated in 04_non_linear_transformation file. There we transformed every example of array. But now we will use \"kernel functions\" to use some mathematical formula for transformation which is more efficient and much faster than transforming every single element $x_i$ --> $\\phi(x_i)$"
   ]
  },
  {
   "cell_type": "markdown",
   "id": "f1902d6d",
   "metadata": {},
   "source": [
    "### 1. Linear Kernel SVM\n",
    "- We pass kernel while creating svc(support vector classifier). By default SVC uses RBF kernel as default."
   ]
  },
  {
   "cell_type": "code",
   "execution_count": 6,
   "id": "fe998a0b",
   "metadata": {},
   "outputs": [
    {
     "data": {
      "text/plain": [
       "SVC(kernel='linear')"
      ]
     },
     "execution_count": 6,
     "metadata": {},
     "output_type": "execute_result"
    }
   ],
   "source": [
    "svc = svm.SVC(kernel=\"linear\")\n",
    "svc.fit(X,Y)  ## do training"
   ]
  },
  {
   "cell_type": "code",
   "execution_count": 7,
   "id": "5484f290",
   "metadata": {},
   "outputs": [
    {
     "data": {
      "text/plain": [
       "0.504"
      ]
     },
     "execution_count": 7,
     "metadata": {},
     "output_type": "execute_result"
    }
   ],
   "source": [
    "svc.score(X,Y)"
   ]
  },
  {
   "cell_type": "markdown",
   "id": "62fe9e28",
   "metadata": {},
   "source": [
    "- Linear kernel gives us only 50% accuracy as our data is circular. It gives 50% accuracy bcoz even after linear transformation, data is not easily seperable"
   ]
  },
  {
   "cell_type": "markdown",
   "id": "66c8bf70",
   "metadata": {},
   "source": [
    "### 2. RBF Kernel SVM\n",
    "- RBF is also the default kernel "
   ]
  },
  {
   "cell_type": "code",
   "execution_count": 8,
   "id": "d1913c7b",
   "metadata": {},
   "outputs": [
    {
     "data": {
      "text/plain": [
       "1.0"
      ]
     },
     "execution_count": 8,
     "metadata": {},
     "output_type": "execute_result"
    }
   ],
   "source": [
    "svc = svm.SVC(kernel=\"rbf\")\n",
    "svc.fit(X,Y)\n",
    "svc.score(X,Y)"
   ]
  },
  {
   "cell_type": "markdown",
   "id": "15e43c08",
   "metadata": {},
   "source": [
    "- Now it gives us 100% accuracy. It classifies circular data correctly. After applying RBF kernel trasnformation, data is easily seperable."
   ]
  },
  {
   "cell_type": "markdown",
   "id": "9528eabf",
   "metadata": {},
   "source": [
    "## 3. Polynomial "
   ]
  },
  {
   "cell_type": "code",
   "execution_count": 9,
   "id": "4fa793f3",
   "metadata": {},
   "outputs": [
    {
     "data": {
      "text/plain": [
       "0.59"
      ]
     },
     "execution_count": 9,
     "metadata": {},
     "output_type": "execute_result"
    }
   ],
   "source": [
    "svc = svm.SVC(kernel=\"poly\")\n",
    "svc.fit(X,Y)\n",
    "svc.score(X,Y)"
   ]
  },
  {
   "cell_type": "markdown",
   "id": "e464465a",
   "metadata": {},
   "source": [
    "## 4. Sigmoid "
   ]
  },
  {
   "cell_type": "code",
   "execution_count": 11,
   "id": "f866dbd8",
   "metadata": {},
   "outputs": [
    {
     "data": {
      "text/plain": [
       "0.498"
      ]
     },
     "execution_count": 11,
     "metadata": {},
     "output_type": "execute_result"
    }
   ],
   "source": [
    "svc = svm.SVC(kernel=\"sigmoid\")\n",
    "svc.fit(X,Y)\n",
    "svc.score(X,Y)"
   ]
  },
  {
   "cell_type": "markdown",
   "id": "b85bd520",
   "metadata": {},
   "source": [
    "## Custom Kernel\n",
    "- Now let us build our own Custom Kernel(See 05_kernel_svm.pdf file). We discussed ine earlier."
   ]
  },
  {
   "cell_type": "code",
   "execution_count": 13,
   "id": "da64e642",
   "metadata": {},
   "outputs": [
    {
     "data": {
      "text/plain": [
       "1.0"
      ]
     },
     "execution_count": 13,
     "metadata": {},
     "output_type": "execute_result"
    }
   ],
   "source": [
    "def custom_kernel(x1,x2):\n",
    "    return np.square(np.dot(x1,x2.T))\n",
    "\n",
    "svc = svm.SVC(kernel=custom_kernel)\n",
    "svc.fit(X,Y)\n",
    "svc.score(X,Y)"
   ]
  },
  {
   "cell_type": "markdown",
   "id": "561ec0b7",
   "metadata": {},
   "source": [
    "- Here we simply return $(x_1.x_2)^2$ first we do dot product and then square.\n",
    "- This also gives us 100% of accuracy."
   ]
  },
  {
   "cell_type": "markdown",
   "id": "767b3515",
   "metadata": {},
   "source": [
    "<font color=\"cyan\"><b> For every problem, some kernel gives good results and some give bad results. But we can't manually train our data for all the kernels. So there is a method called \"_gridsearch_ which gives us best kernel for our training data and best values of 'c'(penality) that we should give to each error term.\"\n",
    "</b></font>\n",
    "- We will see this thing in next file."
   ]
  },
  {
   "cell_type": "code",
   "execution_count": null,
   "id": "8ef5b582",
   "metadata": {},
   "outputs": [],
   "source": []
  },
  {
   "cell_type": "markdown",
   "id": "0719974f",
   "metadata": {},
   "source": [
    "## Mathematical Formulation\n",
    "https://scikit-learn.org/stable/modules/svm.html#svm-mathematical-formulation\n",
    "\n",
    "\n",
    "https://scikit-learn.org/stable/modules/svm.html\n"
   ]
  },
  {
   "cell_type": "code",
   "execution_count": null,
   "id": "d9f16957",
   "metadata": {},
   "outputs": [],
   "source": []
  }
 ],
 "metadata": {
  "kernelspec": {
   "display_name": "Python 3 (ipykernel)",
   "language": "python",
   "name": "python3"
  },
  "language_info": {
   "codemirror_mode": {
    "name": "ipython",
    "version": 3
   },
   "file_extension": ".py",
   "mimetype": "text/x-python",
   "name": "python",
   "nbconvert_exporter": "python",
   "pygments_lexer": "ipython3",
   "version": "3.8.10"
  }
 },
 "nbformat": 4,
 "nbformat_minor": 5
}
