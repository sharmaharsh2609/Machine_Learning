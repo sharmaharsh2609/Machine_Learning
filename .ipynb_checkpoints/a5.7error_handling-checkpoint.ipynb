{
 "cells": [
  {
   "cell_type": "markdown",
   "id": "2ba63991",
   "metadata": {},
   "source": [
    "# Error and Exception Handling:"
   ]
  },
  {
   "cell_type": "markdown",
   "id": "a29b9685",
   "metadata": {},
   "source": [
    "- When we write programs, we encounter different types of errors. \n",
    "- Every programming language have a built-in concept of **exception handling** to handle these errors.\n",
    "### Difference in error and exception:\n",
    "- **Error** : Error is caused when there is something wrong in the program and compiler can't process it.\n",
    "- **Exception** : Exception is caused when program is correct but there may be error on some special cases(or exceptional cases).\n",
    "- **Exceptions are the errors that occur during execution** .\n",
    "---------------------------------------------------------------------------\n",
    "- Exceptions can be handled but errors can't be handled.\n",
    "- eg:"
   ]
  },
  {
   "cell_type": "code",
   "execution_count": 1,
   "id": "06d0a733",
   "metadata": {},
   "outputs": [
    {
     "ename": "SyntaxError",
     "evalue": "invalid syntax (3235127777.py, line 1)",
     "output_type": "error",
     "traceback": [
      "\u001b[0;36m  File \u001b[0;32m\"/tmp/ipykernel_3170/3235127777.py\"\u001b[0;36m, line \u001b[0;32m1\u001b[0m\n\u001b[0;31m    fora i in range(5):\u001b[0m\n\u001b[0m         ^\u001b[0m\n\u001b[0;31mSyntaxError\u001b[0m\u001b[0;31m:\u001b[0m invalid syntax\n"
     ]
    }
   ],
   "source": [
    "fora i in range(5):\n",
    "    print(i)"
   ]
  },
  {
   "cell_type": "markdown",
   "id": "61e86cc8",
   "metadata": {},
   "source": [
    "- this is a syntax error, this occurs during compilation due to wrong syntax and there is no way we can correct it with exception handling. It can only be corrected by editting the code.\n",
    "- eg of exception:\n",
    "- when we divide 2 numbers as (a/b) , there is no error at compile time. But when we have (a/0) , then we get error as 'ZERODIVISIONERROR' . This error occurs during execution on a special case. This is an exception.\n",
    "- We can correct it at runtime by usibg if(bf==0): then show \"error message\"."
   ]
  },
  {
   "cell_type": "code",
   "execution_count": 2,
   "id": "a8a8ce0d",
   "metadata": {},
   "outputs": [
    {
     "ename": "ZeroDivisionError",
     "evalue": "division by zero",
     "output_type": "error",
     "traceback": [
      "\u001b[0;31m---------------------------------------------------------------------------\u001b[0m",
      "\u001b[0;31mZeroDivisionError\u001b[0m                         Traceback (most recent call last)",
      "\u001b[0;32m/tmp/ipykernel_3170/1877742648.py\u001b[0m in \u001b[0;36m<module>\u001b[0;34m\u001b[0m\n\u001b[0;32m----> 1\u001b[0;31m \u001b[0mprint\u001b[0m\u001b[0;34m(\u001b[0m\u001b[0;36m8\u001b[0m\u001b[0;34m/\u001b[0m\u001b[0;36m0\u001b[0m\u001b[0;34m)\u001b[0m\u001b[0;34m\u001b[0m\u001b[0;34m\u001b[0m\u001b[0m\n\u001b[0m",
      "\u001b[0;31mZeroDivisionError\u001b[0m: division by zero"
     ]
    }
   ],
   "source": [
    "print(8/0)"
   ]
  },
  {
   "cell_type": "markdown",
   "id": "4698435e",
   "metadata": {},
   "source": [
    "### Need of exception handling:\n",
    "- Exceptional handling is very very important for a programmer.\n",
    "- When a user runs a program, if exceptions are not handled properly then program will stop at that point and terminate when an exception occurs.\n",
    "- If handled properly, then it shows error message and there is no break in the flow of statements of the code.\n",
    "- eg- Suppose we are not connected to internet and we get error404 on google. If google do not uses the exception handling for that, then chrome browser would crash or stop working. This is very annoying for the customers."
   ]
  },
  {
   "cell_type": "markdown",
   "id": "7ea560b4",
   "metadata": {},
   "source": [
    "- ##### try:\n",
    "- ##### except:\n",
    "- (try: ... except: ...): 'try except' block is just like 'if else' block but in 'try except' , try and except both blocks are required. We can't use try without except or except without try according to the syntax."
   ]
  },
  {
   "cell_type": "code",
   "execution_count": 5,
   "id": "aab149cd",
   "metadata": {
    "scrolled": true
   },
   "outputs": [
    {
     "name": "stdout",
     "output_type": "stream",
     "text": [
      "0.6666666666666666\n",
      "hi\n",
      "error\n"
     ]
    }
   ],
   "source": [
    "def div(a,b):\n",
    "    try:\n",
    "        print(a/b)\n",
    "        print(\"hi\")\n",
    "    except:\n",
    "        print(\"error\")\n",
    "\n",
    "div(4,6)\n",
    "div(4,0)"
   ]
  },
  {
   "cell_type": "markdown",
   "id": "a027e6b1",
   "metadata": {},
   "source": [
    "- Here try block is executed first. if no exception occurs then it executes try block and skips except.\n",
    "- But if any exception occurs in try block, compiler stops executing try block any furthur and jumps directly to the except block and executes except block. We can see this in above output as when ZeroDivisionError occured, \"hi\" was not printed."
   ]
  },
  {
   "cell_type": "markdown",
   "id": "a6b45320",
   "metadata": {},
   "source": [
    "### --------------------------------------------------------------------------------------------\n",
    "### Exception classes:\n",
    "- all the exceptions that we get as runtime/execution errors are basically classes\n",
    "- eg- see below cell, we get error as:\n",
    "        ZeroDivisionError: division by zero\n",
    "here  \"\"ZeroDivisionError\" is a class and \"division by zero\" is error message"
   ]
  },
  {
   "cell_type": "code",
   "execution_count": 6,
   "id": "bdad8aa9",
   "metadata": {},
   "outputs": [
    {
     "ename": "ZeroDivisionError",
     "evalue": "division by zero",
     "output_type": "error",
     "traceback": [
      "\u001b[0;31m---------------------------------------------------------------------------\u001b[0m",
      "\u001b[0;31mZeroDivisionError\u001b[0m                         Traceback (most recent call last)",
      "\u001b[0;32m/tmp/ipykernel_3170/179726827.py\u001b[0m in \u001b[0;36m<module>\u001b[0;34m\u001b[0m\n\u001b[0;32m----> 1\u001b[0;31m \u001b[0mprint\u001b[0m\u001b[0;34m(\u001b[0m\u001b[0;36m10\u001b[0m\u001b[0;34m/\u001b[0m\u001b[0;36m0\u001b[0m\u001b[0;34m)\u001b[0m\u001b[0;34m\u001b[0m\u001b[0;34m\u001b[0m\u001b[0m\n\u001b[0m",
      "\u001b[0;31mZeroDivisionError\u001b[0m: division by zero"
     ]
    }
   ],
   "source": [
    "print(10/0)"
   ]
  },
  {
   "cell_type": "markdown",
   "id": "0602b51b",
   "metadata": {},
   "source": [
    "##### All the exception classes are derived from class named  '**BaseException**' .\n",
    "- This class is the base class and all the exceptions are derived from it.\n",
    "- This class has furthur 2children: \n",
    "    - '**Exception**'\n",
    "    - '**KeyboardInterrupt**'    \n",
    "- ##### All built-in, non-system-exiting exceptions are derived from '**Exception**' class. All user-defined exceptions should also be derived from this class."
   ]
  },
  {
   "cell_type": "markdown",
   "id": "63fbf885",
   "metadata": {},
   "source": [
    "- When we use try: except: , then by default it uses **Exception** class. But we can define a specific base class.\n",
    "- eg: If we only want to check error for 'zero division' and nothing else, then we can define it by specifying as:\n",
    "        try:\n",
    "            a/b\n",
    "        except ZeroDivisionError:\n",
    "            ...\n",
    "- here we define exception class name with except."
   ]
  },
  {
   "cell_type": "code",
   "execution_count": 15,
   "id": "b921dd02",
   "metadata": {},
   "outputs": [
    {
     "name": "stdout",
     "output_type": "stream",
     "text": [
      "zero division error occured\n"
     ]
    }
   ],
   "source": [
    "try:\n",
    "    print(10/0)\n",
    "except ZeroDivisionError as e:\n",
    "    print(\"zero division error occured\")"
   ]
  },
  {
   "cell_type": "markdown",
   "id": "3fb82fb3",
   "metadata": {},
   "source": [
    "- Now if we get any other exception, our try block won't be able to handle it."
   ]
  },
  {
   "cell_type": "code",
   "execution_count": 14,
   "id": "558d2d58",
   "metadata": {},
   "outputs": [
    {
     "ename": "ValueError",
     "evalue": "invalid literal for int() with base 10: 'harsh'",
     "output_type": "error",
     "traceback": [
      "\u001b[0;31m---------------------------------------------------------------------------\u001b[0m",
      "\u001b[0;31mValueError\u001b[0m                                Traceback (most recent call last)",
      "\u001b[0;32m/tmp/ipykernel_3170/3039947870.py\u001b[0m in \u001b[0;36m<module>\u001b[0;34m\u001b[0m\n\u001b[1;32m      1\u001b[0m \u001b[0;32mtry\u001b[0m\u001b[0;34m:\u001b[0m\u001b[0;34m\u001b[0m\u001b[0;34m\u001b[0m\u001b[0m\n\u001b[0;32m----> 2\u001b[0;31m     \u001b[0ma\u001b[0m \u001b[0;34m=\u001b[0m \u001b[0mint\u001b[0m\u001b[0;34m(\u001b[0m\u001b[0;34m\"harsh\"\u001b[0m\u001b[0;34m)\u001b[0m\u001b[0;34m\u001b[0m\u001b[0;34m\u001b[0m\u001b[0m\n\u001b[0m\u001b[1;32m      3\u001b[0m \u001b[0;32mexcept\u001b[0m \u001b[0mZeroDivisionError\u001b[0m\u001b[0;34m:\u001b[0m\u001b[0;34m\u001b[0m\u001b[0;34m\u001b[0m\u001b[0m\n\u001b[1;32m      4\u001b[0m     \u001b[0mprint\u001b[0m\u001b[0;34m(\u001b[0m\u001b[0;34m\"zero division error occured\"\u001b[0m\u001b[0;34m)\u001b[0m\u001b[0;34m\u001b[0m\u001b[0;34m\u001b[0m\u001b[0m\n",
      "\u001b[0;31mValueError\u001b[0m: invalid literal for int() with base 10: 'harsh'"
     ]
    }
   ],
   "source": [
    "try:\n",
    "    a = int(\"harsh\")\n",
    "except ZeroDivisionError:\n",
    "    print(\"zero division error occured\")"
   ]
  },
  {
   "cell_type": "markdown",
   "id": "249e30da",
   "metadata": {},
   "source": [
    "- Here we got valued error. But out try except only handles ZeroDivisioError.\n",
    "- We can use multiple except block:  \n",
    "------------------------------------\n",
    "### try block with multiple except blocks"
   ]
  },
  {
   "cell_type": "code",
   "execution_count": 16,
   "id": "88620041",
   "metadata": {},
   "outputs": [
    {
     "name": "stdout",
     "output_type": "stream",
     "text": [
      "some error occured\n"
     ]
    }
   ],
   "source": [
    "try:\n",
    "    print(a/b)\n",
    "    num = int(\"harsh\")\n",
    "except ZeroDivisionError:\n",
    "    print(\"zero division error occured\")\n",
    "except:\n",
    "    print(\"some error occured\")"
   ]
  },
  {
   "cell_type": "markdown",
   "id": "75599a0e",
   "metadata": {},
   "source": [
    "- In above program, there is ZeroDiviosionError in print(a/b) . It jumps directly to 1st except block without executing try block any furthur. thats why ValueError is not occured.\n",
    "- Now if we get ZeroDivision error, then it executes 1st block. If any other error occurs, then it executes 2nd except block"
   ]
  },
  {
   "cell_type": "markdown",
   "id": "1a5433fb",
   "metadata": {},
   "source": [
    "- we can even alias it and give some other name as:"
   ]
  },
  {
   "cell_type": "code",
   "execution_count": 18,
   "id": "98a390ac",
   "metadata": {},
   "outputs": [
    {
     "name": "stdout",
     "output_type": "stream",
     "text": [
      "division by zero\n",
      "<class 'ZeroDivisionError'>\n"
     ]
    }
   ],
   "source": [
    "try:\n",
    "    print(4/0)\n",
    "except ZeroDivisionError as e:\n",
    "    print(e)\n",
    "    print(type(e))"
   ]
  },
  {
   "cell_type": "markdown",
   "id": "dda84ed6",
   "metadata": {},
   "source": [
    "## -------------------------------------------------------------------------\n",
    "### raise \\<exception_class>\n",
    "- raising an exception means throwing a specified exception to the class. **using raise means an exception has already occured.**\n",
    "- raise is not a part of try except block. raise is simply throwing an exception and we can handle this raised exception with our try except block."
   ]
  },
  {
   "cell_type": "code",
   "execution_count": 10,
   "id": "631f8bcf",
   "metadata": {},
   "outputs": [
    {
     "ename": "ZeroDivisionError",
     "evalue": "Hey harsh, Some error occured !",
     "output_type": "error",
     "traceback": [
      "\u001b[0;31m---------------------------------------------------------------------------\u001b[0m",
      "\u001b[0;31mZeroDivisionError\u001b[0m                         Traceback (most recent call last)",
      "\u001b[0;32m/tmp/ipykernel_5293/4183746308.py\u001b[0m in \u001b[0;36m<module>\u001b[0;34m\u001b[0m\n\u001b[0;32m----> 1\u001b[0;31m \u001b[0;32mraise\u001b[0m \u001b[0mZeroDivisionError\u001b[0m\u001b[0;34m(\u001b[0m\u001b[0;34m\"Hey harsh, Some error occured !\"\u001b[0m\u001b[0;34m)\u001b[0m\u001b[0;34m\u001b[0m\u001b[0;34m\u001b[0m\u001b[0m\n\u001b[0m",
      "\u001b[0;31mZeroDivisionError\u001b[0m: Hey harsh, Some error occured !"
     ]
    }
   ],
   "source": [
    "raise ZeroDivisionError(\"Hey harsh, Some error occured !\")"
   ]
  },
  {
   "cell_type": "markdown",
   "id": "70f0368d",
   "metadata": {},
   "source": [
    "- raise throws specified 'exception_class'. But this 'exception_class' must be derived from **Exception** class or any of it's children.\n",
    "- here above we threw a ZeroDivisionError.\n",
    "- ##### we can see that raised exception shows us the arguments passed as error message. "
   ]
  },
  {
   "cell_type": "code",
   "execution_count": 11,
   "id": "692dd85b",
   "metadata": {},
   "outputs": [
    {
     "ename": "ZeroDivisionError",
     "evalue": "('Harsh', 4.0, 67)",
     "output_type": "error",
     "traceback": [
      "\u001b[0;31m---------------------------------------------------------------------------\u001b[0m",
      "\u001b[0;31mZeroDivisionError\u001b[0m                         Traceback (most recent call last)",
      "\u001b[0;32m/tmp/ipykernel_5293/802077538.py\u001b[0m in \u001b[0;36m<module>\u001b[0;34m\u001b[0m\n\u001b[0;32m----> 1\u001b[0;31m \u001b[0;32mraise\u001b[0m \u001b[0mZeroDivisionError\u001b[0m\u001b[0;34m(\u001b[0m\u001b[0;34m\"Harsh\"\u001b[0m\u001b[0;34m,\u001b[0m\u001b[0;36m4.0\u001b[0m\u001b[0;34m,\u001b[0m\u001b[0;36m67\u001b[0m\u001b[0;34m)\u001b[0m\u001b[0;34m\u001b[0m\u001b[0;34m\u001b[0m\u001b[0m\n\u001b[0m",
      "\u001b[0;31mZeroDivisionError\u001b[0m: ('Harsh', 4.0, 67)"
     ]
    }
   ],
   "source": [
    "raise ZeroDivisionError(\"Harsh\",4.0,67)"
   ]
  },
  {
   "cell_type": "markdown",
   "id": "842d5341",
   "metadata": {},
   "source": [
    "- Now we can handle this raised exception with try except block"
   ]
  },
  {
   "cell_type": "code",
   "execution_count": 23,
   "id": "8eee2305",
   "metadata": {},
   "outputs": [
    {
     "name": "stdout",
     "output_type": "stream",
     "text": [
      "('Some OS error has been occured !', 5)\n",
      "('Some OS error has been occured !', 5)\n"
     ]
    }
   ],
   "source": [
    "try:\n",
    "    raise ZeroDivisionError(\"Some OS error has been occured !\", 5)\n",
    "    print(5)\n",
    "except ZeroDivisionError as e:\n",
    "    print(e)\n",
    "    print(e.args)"
   ]
  },
  {
   "cell_type": "markdown",
   "id": "b2be03e3",
   "metadata": {},
   "source": [
    "- Here we can see that exception class returns obj.arguments\n",
    "- By raising error, the error message is replaced by the arguments that we pass. But it can only be seen by printing ZeroDivisionError as we did print(e).\n",
    "- By handling the raised exception, the error message is not printed. Only the things written inside except block are printed.\n",
    "- **raising an exception always leads to an exception. So writing anything after raise is useless inside try block.**"
   ]
  },
  {
   "cell_type": "code",
   "execution_count": 17,
   "id": "d7b2b6d5",
   "metadata": {},
   "outputs": [
    {
     "name": "stdout",
     "output_type": "stream",
     "text": [
      "hi\n"
     ]
    }
   ],
   "source": [
    "try:\n",
    "    raise ZeroDivisionError(\"Some OS error has been occured !\")\n",
    "    print(5)\n",
    "except ZeroDivisionError:\n",
    "    print(\"hi\")"
   ]
  },
  {
   "cell_type": "code",
   "execution_count": 18,
   "id": "146c7b52",
   "metadata": {},
   "outputs": [
    {
     "ename": "Exception",
     "evalue": "",
     "output_type": "error",
     "traceback": [
      "\u001b[0;31m---------------------------------------------------------------------------\u001b[0m",
      "\u001b[0;31mException\u001b[0m                                 Traceback (most recent call last)",
      "\u001b[0;32m/tmp/ipykernel_5293/3275756190.py\u001b[0m in \u001b[0;36m<module>\u001b[0;34m\u001b[0m\n\u001b[0;32m----> 1\u001b[0;31m \u001b[0;32mraise\u001b[0m \u001b[0mException\u001b[0m\u001b[0;34m\u001b[0m\u001b[0;34m\u001b[0m\u001b[0m\n\u001b[0m",
      "\u001b[0;31mException\u001b[0m: "
     ]
    }
   ],
   "source": [
    "raise Exception #if no args are passed, then it shows blank message."
   ]
  },
  {
   "cell_type": "markdown",
   "id": "0888982a",
   "metadata": {},
   "source": [
    "### User-defined Error/Exception classes:\n",
    "- As we saw using raise with in-built classes returns us e.args, in user-defined we can return e.message when we pass as:  raise userd_exception(message, arg2, arg3..)"
   ]
  },
  {
   "cell_type": "code",
   "execution_count": 26,
   "id": "de086bd3",
   "metadata": {},
   "outputs": [
    {
     "name": "stdout",
     "output_type": "stream",
     "text": [
      " My exception occured !\n"
     ]
    }
   ],
   "source": [
    "class MyException(Exception):\n",
    "    def __init__(self, message):\n",
    "        self.msg= message\n",
    "    def __str__(self):\n",
    "        return self.msg\n",
    "    \n",
    "try:\n",
    "    raise MyException(\" My exception occured !\")\n",
    "except MyException as x:\n",
    "    print(x)"
   ]
  },
  {
   "cell_type": "markdown",
   "id": "abf1f92c",
   "metadata": {},
   "source": [
    "- Note it is very important to derive user defined exception class from **Exception** or ant of it's children. Otherwise it will show us error as:\n",
    "        exceptions must be derived from BaseException \n",
    "where 'BaseException' is parent of 'Exception'.\n",
    "- The main thing is that if this error occurs inside try block(in raise statement), then it would jump to except block due to this error and not due to the error of raised exception. and we won't even know that this is not raised exception."
   ]
  },
  {
   "cell_type": "markdown",
   "id": "7f909c94",
   "metadata": {},
   "source": [
    "### --------------------------------------------------------------\n",
    "- ##### **else** : else blocks is always executed **if there is no exception** .\n",
    "- ##### **finally** : finally block is always executed."
   ]
  },
  {
   "cell_type": "markdown",
   "id": "e0cd3fef",
   "metadata": {},
   "source": [
    "- else block always executes when there is no exception.\n",
    "- finally block is always executed whatever the case is.\n",
    "##### Use of else and finally block.\n",
    "- else block is used when we want to do some operations if no error is occured.\n",
    "- **finally block is used to do the cleanup at last. That is why it is always executed whatever the case is.**\n",
    "- eg: if we get some error, then our program is terminated and we don't get any chance to close files. In that case we use finally block to clean up everything remaining.\n",
    "- finally block is very very important in exception handling."
   ]
  },
  {
   "cell_type": "code",
   "execution_count": 1,
   "id": "0856f888",
   "metadata": {},
   "outputs": [
    {
     "name": "stdout",
     "output_type": "stream",
     "text": [
      "Testing some code\n",
      "No error occured. Performing some operations.\n",
      "Cleaning up evreything..\n"
     ]
    }
   ],
   "source": [
    "try:\n",
    "    print(\"Testing some code\")\n",
    "except:\n",
    "    print(\"Some error occured !\")\n",
    "else:\n",
    "    print(\"No error occured. Performing some operations.\")\n",
    "finally:\n",
    "     #cleanup code.\n",
    "    print(\"Cleaning up evreything..\")"
   ]
  },
  {
   "cell_type": "markdown",
   "id": "f1813861",
   "metadata": {},
   "source": [
    "- Here in above code, we don't have eany error in the try block. Thus else block is executed and finally is always executed."
   ]
  },
  {
   "cell_type": "code",
   "execution_count": 2,
   "id": "e6616451",
   "metadata": {},
   "outputs": [
    {
     "name": "stdout",
     "output_type": "stream",
     "text": [
      "Testing some code\n",
      "Some error occured !\n",
      "Cleaning up everything..\n"
     ]
    }
   ],
   "source": [
    "try:\n",
    "    print(\"Testing some code\")\n",
    "    print(6/0)   # ZeroDivisionError occurs here\n",
    "except:\n",
    "    print(\"Some error occured !\")\n",
    "else:\n",
    "    print(\"No error occured. Performing some operations.\")\n",
    "finally:\n",
    "     #cleanup code.\n",
    "    print(\"Cleaning up everything..\")"
   ]
  },
  {
   "cell_type": "markdown",
   "id": "096a8a6a",
   "metadata": {},
   "source": [
    "- Here in above code, there is error inside try block. Thus else block is **not** executed.\n",
    "- finally is always executed even if error is thrown or not."
   ]
  },
  {
   "cell_type": "markdown",
   "id": "a15f9549",
   "metadata": {},
   "source": [
    "##### Ques. What value is returned from the below function\n",
    "        def func():\n",
    "            try:\n",
    "                return 1\n",
    "            finally:\n",
    "                return 2\n",
    "##### Ans. 2\n",
    "- Explanation: Even if there is no error inside try block, but whenever there is finally block inside a function, return statement of finally block is overriden by any other return statement that is executed before finally. This happens because no matter what, finally block is executed and previous return is put on hold until then. If there is return in finally then return is overriden."
   ]
  },
  {
   "cell_type": "code",
   "execution_count": 4,
   "id": "b46e7b3b",
   "metadata": {},
   "outputs": [
    {
     "data": {
      "text/plain": [
       "2"
      ]
     },
     "execution_count": 4,
     "metadata": {},
     "output_type": "execute_result"
    }
   ],
   "source": [
    "def func():\n",
    "    try:\n",
    "        return 1\n",
    "    finally:\n",
    "        return 2\n",
    "func()"
   ]
  },
  {
   "cell_type": "code",
   "execution_count": 5,
   "id": "b2a66ddc",
   "metadata": {},
   "outputs": [
    {
     "data": {
      "text/plain": [
       "1"
      ]
     },
     "execution_count": 5,
     "metadata": {},
     "output_type": "execute_result"
    }
   ],
   "source": [
    "def func():\n",
    "    try:\n",
    "        return 1\n",
    "    except:\n",
    "        return 2\n",
    "    else:\n",
    "        return 3\n",
    "func()"
   ]
  },
  {
   "cell_type": "markdown",
   "id": "4ce7c717",
   "metadata": {},
   "source": [
    "- without finally block, return of try is executed. \n",
    "- Even if there is no error, but return statement is met and try block is not completely executed but returned 1 to the function call.\n",
    "- Only exception is with finally block that is executed even if return statement is met."
   ]
  },
  {
   "cell_type": "code",
   "execution_count": 6,
   "id": "566a412f",
   "metadata": {},
   "outputs": [
    {
     "name": "stdout",
     "output_type": "stream",
     "text": [
      "Error!\n"
     ]
    }
   ],
   "source": [
    "try: \n",
    "    f = open(\"a5.2sample_file.txt\", \"r\")\n",
    "    f.read()\n",
    "    print(8/0)\n",
    "except:\n",
    "    print(\"Error!\")\n",
    "finally:\n",
    "    f.close()"
   ]
  },
  {
   "cell_type": "markdown",
   "id": "da228bc5",
   "metadata": {},
   "source": [
    "- Here some error is occured. This program would terminate without closing the file. But we close the file using finally block.\n",
    "### with statement:\n",
    "- with statement closes files at last even if some error is occured. Thus we should use with statement for handling files in place of using finally block for closing as with statement handles everything by itself."
   ]
  },
  {
   "cell_type": "code",
   "execution_count": 27,
   "id": "b7f4716c",
   "metadata": {},
   "outputs": [
    {
     "name": "stdout",
     "output_type": "stream",
     "text": [
      "4\n",
      "(None, None, None)\n",
      "hello\n"
     ]
    }
   ],
   "source": [
    "class A:\n",
    "    def __init__(self,n):\n",
    "        self.n = n\n",
    "    def __str__(self):\n",
    "        return str(self.n)\n",
    "    def __enter__(self):\n",
    "        return self\n",
    "    def __exit__(self, *args):\n",
    "        print(args)\n",
    "        \n",
    "with A(4) as obj:\n",
    "    print(obj)\n",
    "\n",
    "print(\"hello\")"
   ]
  },
  {
   "cell_type": "markdown",
   "id": "9e4b9b4c",
   "metadata": {},
   "source": [
    "- as soon as with block creates object of class A with argument 5, **\\_\\_enter__** dunder of the class is called. This returns the object(self) which we save inside 'obj'.\n",
    "- as soon as with block is executed completely, the **\\_\\_exit__** dunder of the class is called automatically. if any error occured inside with block, then error details are passed as \\*args to this dunder.(In above code, there was no error and thus \\*args returned None)"
   ]
  },
  {
   "cell_type": "code",
   "execution_count": 32,
   "id": "65ff4c54",
   "metadata": {},
   "outputs": [
    {
     "name": "stdout",
     "output_type": "stream",
     "text": [
      "4\n",
      "(<class 'ZeroDivisionError'>, ZeroDivisionError('division by zero'), <traceback object at 0x7fb1581f3640>)\n"
     ]
    },
    {
     "ename": "ZeroDivisionError",
     "evalue": "division by zero",
     "output_type": "error",
     "traceback": [
      "\u001b[0;31m---------------------------------------------------------------------------\u001b[0m",
      "\u001b[0;31mZeroDivisionError\u001b[0m                         Traceback (most recent call last)",
      "\u001b[0;32m/tmp/ipykernel_3506/2333409044.py\u001b[0m in \u001b[0;36m<module>\u001b[0;34m\u001b[0m\n\u001b[1;32m     11\u001b[0m \u001b[0;32mwith\u001b[0m \u001b[0mA\u001b[0m\u001b[0;34m(\u001b[0m\u001b[0;36m4\u001b[0m\u001b[0;34m)\u001b[0m \u001b[0;32mas\u001b[0m \u001b[0mx\u001b[0m\u001b[0;34m:\u001b[0m\u001b[0;34m\u001b[0m\u001b[0;34m\u001b[0m\u001b[0m\n\u001b[1;32m     12\u001b[0m     \u001b[0mprint\u001b[0m\u001b[0;34m(\u001b[0m\u001b[0mx\u001b[0m\u001b[0;34m)\u001b[0m\u001b[0;34m\u001b[0m\u001b[0;34m\u001b[0m\u001b[0m\n\u001b[0;32m---> 13\u001b[0;31m     \u001b[0mprint\u001b[0m\u001b[0;34m(\u001b[0m\u001b[0;36m7\u001b[0m\u001b[0;34m/\u001b[0m\u001b[0;36m0\u001b[0m\u001b[0;34m)\u001b[0m\u001b[0;34m\u001b[0m\u001b[0;34m\u001b[0m\u001b[0m\n\u001b[0m\u001b[1;32m     14\u001b[0m \u001b[0mprint\u001b[0m\u001b[0;34m(\u001b[0m\u001b[0;34m\"hello\"\u001b[0m\u001b[0;34m)\u001b[0m\u001b[0;34m\u001b[0m\u001b[0;34m\u001b[0m\u001b[0m\n",
      "\u001b[0;31mZeroDivisionError\u001b[0m: division by zero"
     ]
    }
   ],
   "source": [
    "class A:\n",
    "    def __init__(self,n):\n",
    "        self.n = n\n",
    "    def __str__(self):\n",
    "        return str(self.n)\n",
    "    def __enter__(self):\n",
    "        return self\n",
    "    def __exit__(self, *args):\n",
    "        print(args)\n",
    "        \n",
    "with A(4) as x:\n",
    "    print(x)\n",
    "    print(7/0)\n",
    "print(\"hello\")"
   ]
  },
  {
   "cell_type": "markdown",
   "id": "26d26183",
   "metadata": {},
   "source": [
    "- As error occured thus error class, error object, traceback object are passed as arguments to **\\_\\_exit__** dunder.\n",
    "- It shows error to our display by default and terminates program there . But if we return True from \\_\\_exit__ dunder, then error is not displayed and also program is not terminated. "
   ]
  },
  {
   "cell_type": "code",
   "execution_count": 3,
   "id": "a3c667d2",
   "metadata": {},
   "outputs": [
    {
     "name": "stdout",
     "output_type": "stream",
     "text": [
      "4\n",
      "(<class 'ZeroDivisionError'>, ZeroDivisionError('division by zero'), <traceback object at 0x7fc7c871aa80>)\n",
      "hello\n"
     ]
    }
   ],
   "source": [
    "class A:\n",
    "    def __init__(self,n):\n",
    "        self.n = n\n",
    "    def __str__(self):\n",
    "        return str(self.n)\n",
    "    def __enter__(self):\n",
    "        return self\n",
    "    def __exit__(self, *args):\n",
    "        print(args)\n",
    "        return True\n",
    "with A(4) as x:\n",
    "    print(x)\n",
    "    print(7/0)\n",
    "print(\"hello\")"
   ]
  },
  {
   "cell_type": "markdown",
   "id": "8f9e0382",
   "metadata": {},
   "source": [
    "- Here we can do all the clean up of with block inside \\_\\_exit__ dunder before return statement if there is any. After that we can either raise the error by returning False or we can skip the error by returning True showing that program worked successfully."
   ]
  }
 ],
 "metadata": {
  "kernelspec": {
   "display_name": "Python 3 (ipykernel)",
   "language": "python",
   "name": "python3"
  },
  "language_info": {
   "codemirror_mode": {
    "name": "ipython",
    "version": 3
   },
   "file_extension": ".py",
   "mimetype": "text/x-python",
   "name": "python",
   "nbconvert_exporter": "python",
   "pygments_lexer": "ipython3",
   "version": "3.8.10"
  }
 },
 "nbformat": 4,
 "nbformat_minor": 5
}
