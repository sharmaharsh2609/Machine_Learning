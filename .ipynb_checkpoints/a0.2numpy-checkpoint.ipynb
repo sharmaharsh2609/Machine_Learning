{
 "cells": [
  {
   "cell_type": "code",
   "execution_count": 2,
   "id": "643f46a7",
   "metadata": {},
   "outputs": [],
   "source": [
    "import numpy as np\n",
    "# we are using alias 'np' for 'numpy' as 'np' is easy to call methods of 'numpy library' like: np.func()"
   ]
  },
  {
   "cell_type": "markdown",
   "id": "b3239a74",
   "metadata": {},
   "source": [
    "# Few Important Functions:   \n",
    "We can perform these functions on numpy array only. We can't perform these on python lists(python list are arrays in python)."
   ]
  },
  {
   "cell_type": "code",
   "execution_count": 3,
   "id": "acfbd944",
   "metadata": {},
   "outputs": [
    {
     "name": "stdout",
     "output_type": "stream",
     "text": [
      "<class 'numpy.ndarray'>\n"
     ]
    }
   ],
   "source": [
    "a = np.array([1,2,3,4,5])    #It converts this list [1,2,3,4,5] into numpy array and stores in a .\n",
    "print(type(a))"
   ]
  },
  {
   "cell_type": "code",
   "execution_count": 4,
   "id": "dae38df5",
   "metadata": {},
   "outputs": [
    {
     "data": {
      "text/plain": [
       "(5,)"
      ]
     },
     "execution_count": 4,
     "metadata": {},
     "output_type": "execute_result"
    }
   ],
   "source": [
    "a.shape\n",
    "#shape tells us about the dimensions of numpy array\n",
    "#list object in python has no attribute shape. So we can only perform these all functions on numpy objects.\n",
    "#if we try it like: lst=[1,2,3,4,5] and in next line list.shape   then it shows error as these are numpy functions\n",
    "#  and not functions of python list."
   ]
  },
  {
   "cell_type": "markdown",
   "id": "7b7d307f",
   "metadata": {},
   "source": [
    "2D array:"
   ]
  },
  {
   "cell_type": "code",
   "execution_count": 5,
   "id": "3b7579df",
   "metadata": {},
   "outputs": [
    {
     "data": {
      "text/plain": [
       "(2, 5)"
      ]
     },
     "execution_count": 5,
     "metadata": {},
     "output_type": "execute_result"
    }
   ],
   "source": [
    "b = np.array([[1,2,3,4,5],[2,3,4,5,2]])   #It must be eenclosed in 2brackets like  ([ obj1,onj2,... ])\n",
    "b     # it prints b\n",
    "b.shape    #dimensions of b"
   ]
  },
  {
   "cell_type": "markdown",
   "id": "778f1c3d",
   "metadata": {},
   "source": [
    "Transpose of a Matrix:"
   ]
  },
  {
   "cell_type": "code",
   "execution_count": 6,
   "id": "59a2abdf",
   "metadata": {},
   "outputs": [
    {
     "data": {
      "text/plain": [
       "array([[1, 2],\n",
       "       [2, 3],\n",
       "       [3, 4],\n",
       "       [4, 5],\n",
       "       [5, 2]])"
      ]
     },
     "execution_count": 6,
     "metadata": {},
     "output_type": "execute_result"
    }
   ],
   "source": [
    "b.T "
   ]
  },
  {
   "cell_type": "markdown",
   "id": "4b53a169",
   "metadata": {},
   "source": [
    "Dot product: "
   ]
  },
  {
   "cell_type": "code",
   "execution_count": 7,
   "id": "50805ee1",
   "metadata": {},
   "outputs": [
    {
     "data": {
      "text/plain": [
       "array([[55, 50],\n",
       "       [50, 58]])"
      ]
     },
     "execution_count": 7,
     "metadata": {},
     "output_type": "execute_result"
    }
   ],
   "source": [
    "np.dot(b,b.T)    #for dot product of m x n and n x p , cols of 1st must be same as rows of 2nd. SO we multiply here b and b transpose"
   ]
  },
  {
   "cell_type": "markdown",
   "id": "2c876afd",
   "metadata": {},
   "source": [
    "Random Module:  \n",
    "-It creates random array.  \n",
    "-This random module contains many different funcyions.  \n",
    "-Syntax:    np.random.<function>  \n",
    "-We can check what arguments are there in the function using?"
   ]
  },
  {
   "cell_type": "code",
   "execution_count": 8,
   "id": "d6e2cc7a",
   "metadata": {},
   "outputs": [],
   "source": [
    "np.random.randint?\n",
    "#run this and it is similar as we type man command in linux\n",
    "#This symbol(?) gives us all details about a function."
   ]
  },
  {
   "cell_type": "markdown",
   "id": "045c768b",
   "metadata": {},
   "source": [
    "Syntax of randint:   np.random.randint(low,high,size,datatype=int)  \n",
    "Here low and high are range in which you want to generrate random number and size is number of elements you want to generate"
   ]
  },
  {
   "cell_type": "code",
   "execution_count": 9,
   "id": "ffb86b39",
   "metadata": {},
   "outputs": [
    {
     "data": {
      "text/plain": [
       "array([69, 68, 63, 75, 62])"
      ]
     },
     "execution_count": 9,
     "metadata": {},
     "output_type": "execute_result"
    }
   ],
   "source": [
    "np.random.randint(60,80,5)"
   ]
  },
  {
   "cell_type": "code",
   "execution_count": 10,
   "id": "ca2fe533",
   "metadata": {},
   "outputs": [
    {
     "name": "stdout",
     "output_type": "stream",
     "text": [
      "[[66 69 66 74 64]\n",
      " [68 78 62 72 74]\n",
      " [60 72 78 65 68]\n",
      " [76 66 76 66 65]\n",
      " [66 73 68 64 70]]\n"
     ]
    }
   ],
   "source": [
    "#we can generate 2d array or more using different values of size\n",
    "matrix = np.random.randint(60,80,(5,5))\n",
    "print(matrix)"
   ]
  },
  {
   "cell_type": "markdown",
   "id": "c34d14d2",
   "metadata": {},
   "source": [
    "max and min functions returns the maximum and minimum values"
   ]
  },
  {
   "cell_type": "code",
   "execution_count": 11,
   "id": "9a27fdb4",
   "metadata": {},
   "outputs": [
    {
     "name": "stdout",
     "output_type": "stream",
     "text": [
      "78 60\n"
     ]
    }
   ],
   "source": [
    "max = np.max(matrix)\n",
    "min = np.min(matrix)\n",
    "print(max,min)"
   ]
  },
  {
   "cell_type": "markdown",
   "id": "c7391e39",
   "metadata": {},
   "source": [
    "armin and argmax: returns the index of minimum and maximum elements"
   ]
  },
  {
   "cell_type": "code",
   "execution_count": 12,
   "id": "87973547",
   "metadata": {},
   "outputs": [
    {
     "name": "stdout",
     "output_type": "stream",
     "text": [
      "Index for minimum:  11\n",
      "Index for maximum:  10\n"
     ]
    }
   ],
   "source": [
    "arr = np.array([5,2,2,2,2,2,4,4,4,5,68,-4,24,43])\n",
    "min = np.argmin(arr)\n",
    "max = np.argmax(arr)\n",
    "print(\"Index for minimum: \",min)\n",
    "print(\"Index for maximum: \",max)"
   ]
  },
  {
   "cell_type": "markdown",
   "id": "ea2cfc19",
   "metadata": {},
   "source": [
    "--------------------------------------------------------------\n",
    "unique:   -returns unique elements from array.  \n",
    "          -if 2nd argument count is passed true, then it shows counts of all elements also how many times they are present in array     "
   ]
  },
  {
   "cell_type": "code",
   "execution_count": 13,
   "id": "fff64772",
   "metadata": {},
   "outputs": [
    {
     "name": "stdout",
     "output_type": "stream",
     "text": [
      "[-4  2  4  5 24 43 68]\n"
     ]
    }
   ],
   "source": [
    "print(np.unique(arr))"
   ]
  },
  {
   "cell_type": "code",
   "execution_count": 14,
   "id": "25db4c2c",
   "metadata": {},
   "outputs": [
    {
     "name": "stdout",
     "output_type": "stream",
     "text": [
      "(array([-4,  2,  4,  5, 24, 43, 68]), array([1, 5, 3, 2, 1, 1, 1]))\n"
     ]
    }
   ],
   "source": [
    "a = np.unique(arr,return_counts=True)\n",
    "print(a)"
   ]
  },
  {
   "cell_type": "markdown",
   "id": "2ee780bb",
   "metadata": {},
   "source": [
    "This above result is tuple of 2 lists where 1st list shows the unique array and 2nd list shows number of counts"
   ]
  },
  {
   "cell_type": "markdown",
   "id": "2b2d0037",
   "metadata": {},
   "source": [
    "# program to find number with highest frequency "
   ]
  },
  {
   "cell_type": "code",
   "execution_count": 15,
   "id": "9227e767",
   "metadata": {},
   "outputs": [
    {
     "name": "stdout",
     "output_type": "stream",
     "text": [
      "Element with highest frequency:  2\n"
     ]
    }
   ],
   "source": [
    "idx = np.argmax(a[1])   #it shows the highest element in 2nd list which is highest numbers of counts.\n",
    "#we store index of higest frequency element in idx.\n",
    "#now we can print element from 1st list with idx index\n",
    "print(\"Element with highest frequency: \",a[0][idx])"
   ]
  },
  {
   "cell_type": "markdown",
   "id": "7bc348a2",
   "metadata": {},
   "source": [
    "#Slicing of array: we can slice some part of an array using arr[lindex:uindex+1] as last value is not included."
   ]
  },
  {
   "cell_type": "code",
   "execution_count": 16,
   "id": "0cea00f0",
   "metadata": {},
   "outputs": [
    {
     "data": {
      "text/plain": [
       "array([3, 5])"
      ]
     },
     "execution_count": 16,
     "metadata": {},
     "output_type": "execute_result"
    }
   ],
   "source": [
    "arr = np.array([1,5,3,5,2])\n",
    "arr[2:4]  #prints array from indx 2-3 as last is not included"
   ]
  },
  {
   "cell_type": "code",
   "execution_count": 17,
   "id": "720022fe",
   "metadata": {},
   "outputs": [
    {
     "name": "stdout",
     "output_type": "stream",
     "text": [
      "[[26 37 30 22 11]\n",
      " [11 34 39 22 35]\n",
      " [11 32 11 18 11]\n",
      " [20 36 21 35 16]\n",
      " [36 17 22 30 25]]\n",
      "[[18 11]\n",
      " [35 16]]\n"
     ]
    }
   ],
   "source": [
    "matrix = np.random.randint(10,40,(5,5))\n",
    "print(matrix)\n",
    "\n",
    "print(matrix[2:4,3:5])    # slicing can be done in 1d, 2d, 3d...array"
   ]
  },
  {
   "cell_type": "code",
   "execution_count": 18,
   "id": "10c6c2a3",
   "metadata": {},
   "outputs": [
    {
     "data": {
      "text/plain": [
       "11"
      ]
     },
     "execution_count": 18,
     "metadata": {},
     "output_type": "execute_result"
    }
   ],
   "source": [
    "#To print some element of this array, we can print it like:\n",
    "matrix[1][0]"
   ]
  },
  {
   "cell_type": "markdown",
   "id": "c7b7d59c",
   "metadata": {},
   "source": [
    "## Another ways of creating numpy array:  \n",
    "1. np.empty((r,c))    #To create r x c array with random values  \n",
    "2. np.zeros((r,c))    #To create r x c array with all 0 values\n",
    "3. np.ones((r,c))     #To create r x c array with all 1 values"
   ]
  },
  {
   "cell_type": "code",
   "execution_count": 24,
   "id": "a29c9597",
   "metadata": {},
   "outputs": [
    {
     "name": "stdout",
     "output_type": "stream",
     "text": [
      "[[0. 0.]\n",
      " [0. 0.]]\n"
     ]
    },
    {
     "data": {
      "text/plain": [
       "(2, 2)"
      ]
     },
     "execution_count": 24,
     "metadata": {},
     "output_type": "execute_result"
    }
   ],
   "source": [
    "arr = np.zeros((2,2))\n",
    "print(arr)\n",
    "arr.shape"
   ]
  }
 ],
 "metadata": {
  "kernelspec": {
   "display_name": "Python 3 (ipykernel)",
   "language": "python",
   "name": "python3"
  },
  "language_info": {
   "codemirror_mode": {
    "name": "ipython",
    "version": 3
   },
   "file_extension": ".py",
   "mimetype": "text/x-python",
   "name": "python",
   "nbconvert_exporter": "python",
   "pygments_lexer": "ipython3",
   "version": "3.8.10"
  }
 },
 "nbformat": 4,
 "nbformat_minor": 5
}
