{
 "cells": [
  {
   "cell_type": "markdown",
   "id": "9065ec6a",
   "metadata": {},
   "source": [
    "## Pandas  \n",
    "-Pandas helps us to work with tabular data.  \n",
    "-We can read data from excel or csv files.  \n",
    "-csv files are comma seperated files. We can read them with help of pandas."
   ]
  },
  {
   "cell_type": "code",
   "execution_count": 3,
   "id": "cb92b69f",
   "metadata": {},
   "outputs": [],
   "source": [
    "import pandas as pd\n",
    "import numpy as np"
   ]
  },
  {
   "cell_type": "code",
   "execution_count": 4,
   "id": "c747b1d1",
   "metadata": {},
   "outputs": [],
   "source": [
    "pokemon={\n",
    "\"height\" : np.random.randint(50,70,5),\n",
    "\"weight\" : np.random.randint(30,50,5),\n",
    "\"power\" : np.random.randint(140,160,5)\n",
    "}\n",
    "#pokemon is a dictionary which has 3 keys height, weight, power for 5 pokemons as we have made 5values for every func."
   ]
  },
  {
   "cell_type": "code",
   "execution_count": 5,
   "id": "542fc5ce",
   "metadata": {},
   "outputs": [
    {
     "name": "stdout",
     "output_type": "stream",
     "text": [
      "{'height': array([62, 63, 52, 60, 63]), 'weight': array([48, 46, 45, 37, 40]), 'power': array([159, 159, 146, 153, 156])}\n"
     ]
    }
   ],
   "source": [
    "print(pokemon)"
   ]
  },
  {
   "cell_type": "markdown",
   "id": "c1130938",
   "metadata": {},
   "source": [
    "----------------------------------------------------------------------------------------------  \n",
    "- We can store this above data in tabular form. To do so we need help of pandas library."
   ]
  },
  {
   "cell_type": "markdown",
   "id": "54ce00e4",
   "metadata": {},
   "source": [
    "## Dataframes  \n",
    "- A dataframe is a 2D data structure with columns of potentially different data types "
   ]
  },
  {
   "cell_type": "code",
   "execution_count": 6,
   "id": "f614ef12",
   "metadata": {},
   "outputs": [
    {
     "name": "stdout",
     "output_type": "stream",
     "text": [
      "   height  weight  power\n",
      "0      62      48    159\n",
      "1      63      46    159\n",
      "2      52      45    146\n",
      "3      60      37    153\n",
      "4      63      40    156\n"
     ]
    }
   ],
   "source": [
    "df = pd.DataFrame(pokemon)\n",
    "print(df)"
   ]
  },
  {
   "cell_type": "markdown",
   "id": "8a2b9314",
   "metadata": {},
   "source": [
    "- This looks like an excel sheet.\n",
    "- It contains colums, rows, data and also 'headers like height weight power etc'.  \n",
    "- 1st column is  index"
   ]
  },
  {
   "cell_type": "code",
   "execution_count": 7,
   "id": "afbef24d",
   "metadata": {},
   "outputs": [
    {
     "data": {
      "text/html": [
       "<div>\n",
       "<style scoped>\n",
       "    .dataframe tbody tr th:only-of-type {\n",
       "        vertical-align: middle;\n",
       "    }\n",
       "\n",
       "    .dataframe tbody tr th {\n",
       "        vertical-align: top;\n",
       "    }\n",
       "\n",
       "    .dataframe thead th {\n",
       "        text-align: right;\n",
       "    }\n",
       "</style>\n",
       "<table border=\"1\" class=\"dataframe\">\n",
       "  <thead>\n",
       "    <tr style=\"text-align: right;\">\n",
       "      <th></th>\n",
       "      <th>height</th>\n",
       "      <th>weight</th>\n",
       "      <th>power</th>\n",
       "    </tr>\n",
       "  </thead>\n",
       "  <tbody>\n",
       "    <tr>\n",
       "      <th>0</th>\n",
       "      <td>62</td>\n",
       "      <td>48</td>\n",
       "      <td>159</td>\n",
       "    </tr>\n",
       "    <tr>\n",
       "      <th>1</th>\n",
       "      <td>63</td>\n",
       "      <td>46</td>\n",
       "      <td>159</td>\n",
       "    </tr>\n",
       "    <tr>\n",
       "      <th>2</th>\n",
       "      <td>52</td>\n",
       "      <td>45</td>\n",
       "      <td>146</td>\n",
       "    </tr>\n",
       "    <tr>\n",
       "      <th>3</th>\n",
       "      <td>60</td>\n",
       "      <td>37</td>\n",
       "      <td>153</td>\n",
       "    </tr>\n",
       "    <tr>\n",
       "      <th>4</th>\n",
       "      <td>63</td>\n",
       "      <td>40</td>\n",
       "      <td>156</td>\n",
       "    </tr>\n",
       "  </tbody>\n",
       "</table>\n",
       "</div>"
      ],
      "text/plain": [
       "   height  weight  power\n",
       "0      62      48    159\n",
       "1      63      46    159\n",
       "2      52      45    146\n",
       "3      60      37    153\n",
       "4      63      40    156"
      ]
     },
     "execution_count": 7,
     "metadata": {},
     "output_type": "execute_result"
    }
   ],
   "source": [
    "df.head()    # it gives a better view"
   ]
  },
  {
   "cell_type": "code",
   "execution_count": 8,
   "id": "730f7241",
   "metadata": {},
   "outputs": [
    {
     "data": {
      "text/html": [
       "<div>\n",
       "<style scoped>\n",
       "    .dataframe tbody tr th:only-of-type {\n",
       "        vertical-align: middle;\n",
       "    }\n",
       "\n",
       "    .dataframe tbody tr th {\n",
       "        vertical-align: top;\n",
       "    }\n",
       "\n",
       "    .dataframe thead th {\n",
       "        text-align: right;\n",
       "    }\n",
       "</style>\n",
       "<table border=\"1\" class=\"dataframe\">\n",
       "  <thead>\n",
       "    <tr style=\"text-align: right;\">\n",
       "      <th></th>\n",
       "      <th>height</th>\n",
       "      <th>weight</th>\n",
       "      <th>power</th>\n",
       "    </tr>\n",
       "  </thead>\n",
       "  <tbody>\n",
       "    <tr>\n",
       "      <th>0</th>\n",
       "      <td>62</td>\n",
       "      <td>48</td>\n",
       "      <td>159</td>\n",
       "    </tr>\n",
       "    <tr>\n",
       "      <th>1</th>\n",
       "      <td>63</td>\n",
       "      <td>46</td>\n",
       "      <td>159</td>\n",
       "    </tr>\n",
       "    <tr>\n",
       "      <th>2</th>\n",
       "      <td>52</td>\n",
       "      <td>45</td>\n",
       "      <td>146</td>\n",
       "    </tr>\n",
       "  </tbody>\n",
       "</table>\n",
       "</div>"
      ],
      "text/plain": [
       "   height  weight  power\n",
       "0      62      48    159\n",
       "1      63      46    159\n",
       "2      52      45    146"
      ]
     },
     "execution_count": 8,
     "metadata": {},
     "output_type": "execute_result"
    }
   ],
   "source": [
    "df.head(3)    # it prints onlt top 3lines excluding the headers"
   ]
  },
  {
   "cell_type": "code",
   "execution_count": 9,
   "id": "01f86be9",
   "metadata": {},
   "outputs": [
    {
     "data": {
      "text/plain": [
       "Index(['height', 'weight', 'power'], dtype='object')"
      ]
     },
     "execution_count": 9,
     "metadata": {},
     "output_type": "execute_result"
    }
   ],
   "source": [
    "df.columns    #to see the names of columns"
   ]
  },
  {
   "cell_type": "markdown",
   "id": "0b498547",
   "metadata": {},
   "source": [
    "## Create a CSV(comma seperated) file"
   ]
  },
  {
   "cell_type": "code",
   "execution_count": 29,
   "id": "5c03b589",
   "metadata": {},
   "outputs": [],
   "source": [
    "df.to_csv(\"a0.7csv_file\")      #df is dataframe that we created earlier. So we convert dataframe 'df' to csv file 'csv_file'.\n",
    "#if we see after executing this command, then a csv file named csv_file will be created in our current directory.\n",
    "#goto home page jupyter notebook and see there."
   ]
  },
  {
   "cell_type": "markdown",
   "id": "23842288",
   "metadata": {},
   "source": [
    "## Read a CSV file  \n",
    "- We studies how to write into a csv file. Now let's study how to read csv file.  \n",
    "- There are lot of methods to read csv file."
   ]
  },
  {
   "cell_type": "code",
   "execution_count": 25,
   "id": "79f510c4",
   "metadata": {},
   "outputs": [],
   "source": [
    "new_df = pd.read_csv(\"a0.7csv_file\")    # it converts csv file 'csv_file' to dataframe 'new_df'. "
   ]
  },
  {
   "cell_type": "code",
   "execution_count": 26,
   "id": "9afb8659",
   "metadata": {},
   "outputs": [
    {
     "data": {
      "text/html": [
       "<div>\n",
       "<style scoped>\n",
       "    .dataframe tbody tr th:only-of-type {\n",
       "        vertical-align: middle;\n",
       "    }\n",
       "\n",
       "    .dataframe tbody tr th {\n",
       "        vertical-align: top;\n",
       "    }\n",
       "\n",
       "    .dataframe thead th {\n",
       "        text-align: right;\n",
       "    }\n",
       "</style>\n",
       "<table border=\"1\" class=\"dataframe\">\n",
       "  <thead>\n",
       "    <tr style=\"text-align: right;\">\n",
       "      <th></th>\n",
       "      <th>Unnamed: 0</th>\n",
       "      <th>height</th>\n",
       "      <th>weight</th>\n",
       "      <th>power</th>\n",
       "    </tr>\n",
       "  </thead>\n",
       "  <tbody>\n",
       "    <tr>\n",
       "      <th>0</th>\n",
       "      <td>0</td>\n",
       "      <td>62</td>\n",
       "      <td>48</td>\n",
       "      <td>159</td>\n",
       "    </tr>\n",
       "    <tr>\n",
       "      <th>1</th>\n",
       "      <td>1</td>\n",
       "      <td>63</td>\n",
       "      <td>46</td>\n",
       "      <td>159</td>\n",
       "    </tr>\n",
       "    <tr>\n",
       "      <th>2</th>\n",
       "      <td>2</td>\n",
       "      <td>52</td>\n",
       "      <td>45</td>\n",
       "      <td>146</td>\n",
       "    </tr>\n",
       "    <tr>\n",
       "      <th>3</th>\n",
       "      <td>3</td>\n",
       "      <td>60</td>\n",
       "      <td>37</td>\n",
       "      <td>153</td>\n",
       "    </tr>\n",
       "    <tr>\n",
       "      <th>4</th>\n",
       "      <td>4</td>\n",
       "      <td>63</td>\n",
       "      <td>40</td>\n",
       "      <td>156</td>\n",
       "    </tr>\n",
       "  </tbody>\n",
       "</table>\n",
       "</div>"
      ],
      "text/plain": [
       "   Unnamed: 0  height  weight  power\n",
       "0           0      62      48    159\n",
       "1           1      63      46    159\n",
       "2           2      52      45    146\n",
       "3           3      60      37    153\n",
       "4           4      63      40    156"
      ]
     },
     "execution_count": 26,
     "metadata": {},
     "output_type": "execute_result"
    }
   ],
   "source": [
    "new_df.head()"
   ]
  },
  {
   "cell_type": "markdown",
   "id": "07ed1670",
   "metadata": {},
   "source": [
    "--------------------------------------------------------------------------------------------  \n",
    "- We can also delete columns:"
   ]
  },
  {
   "cell_type": "code",
   "execution_count": 27,
   "id": "f9770177",
   "metadata": {},
   "outputs": [
    {
     "data": {
      "text/html": [
       "<div>\n",
       "<style scoped>\n",
       "    .dataframe tbody tr th:only-of-type {\n",
       "        vertical-align: middle;\n",
       "    }\n",
       "\n",
       "    .dataframe tbody tr th {\n",
       "        vertical-align: top;\n",
       "    }\n",
       "\n",
       "    .dataframe thead th {\n",
       "        text-align: right;\n",
       "    }\n",
       "</style>\n",
       "<table border=\"1\" class=\"dataframe\">\n",
       "  <thead>\n",
       "    <tr style=\"text-align: right;\">\n",
       "      <th></th>\n",
       "      <th>height</th>\n",
       "      <th>weight</th>\n",
       "      <th>power</th>\n",
       "    </tr>\n",
       "  </thead>\n",
       "  <tbody>\n",
       "    <tr>\n",
       "      <th>0</th>\n",
       "      <td>62</td>\n",
       "      <td>48</td>\n",
       "      <td>159</td>\n",
       "    </tr>\n",
       "    <tr>\n",
       "      <th>1</th>\n",
       "      <td>63</td>\n",
       "      <td>46</td>\n",
       "      <td>159</td>\n",
       "    </tr>\n",
       "    <tr>\n",
       "      <th>2</th>\n",
       "      <td>52</td>\n",
       "      <td>45</td>\n",
       "      <td>146</td>\n",
       "    </tr>\n",
       "    <tr>\n",
       "      <th>3</th>\n",
       "      <td>60</td>\n",
       "      <td>37</td>\n",
       "      <td>153</td>\n",
       "    </tr>\n",
       "    <tr>\n",
       "      <th>4</th>\n",
       "      <td>63</td>\n",
       "      <td>40</td>\n",
       "      <td>156</td>\n",
       "    </tr>\n",
       "  </tbody>\n",
       "</table>\n",
       "</div>"
      ],
      "text/plain": [
       "   height  weight  power\n",
       "0      62      48    159\n",
       "1      63      46    159\n",
       "2      52      45    146\n",
       "3      60      37    153\n",
       "4      63      40    156"
      ]
     },
     "execution_count": 27,
     "metadata": {},
     "output_type": "execute_result"
    }
   ],
   "source": [
    "new_df.drop(columns=['Unnamed: 0'])    # to delete column with name 'Unnamed: 0'"
   ]
  },
  {
   "cell_type": "code",
   "execution_count": 30,
   "id": "fef5d1b6",
   "metadata": {},
   "outputs": [],
   "source": [
    "#while creating dataframe, we can also remove index during creation as:\n",
    "df.to_csv(\"a0.7csv_file\", index=False,header=['header1','header2','header3'])\n",
    "#index=False removes the index folder. if we execute this, then index will not be found in csv file.\n",
    "#header gives these 3headers and removes any headers that were given previously.\n",
    "\n",
    "#there are many more parameters like this"
   ]
  }
 ],
 "metadata": {
  "kernelspec": {
   "display_name": "Python 3 (ipykernel)",
   "language": "python",
   "name": "python3"
  },
  "language_info": {
   "codemirror_mode": {
    "name": "ipython",
    "version": 3
   },
   "file_extension": ".py",
   "mimetype": "text/x-python",
   "name": "python",
   "nbconvert_exporter": "python",
   "pygments_lexer": "ipython3",
   "version": "3.8.10"
  }
 },
 "nbformat": 4,
 "nbformat_minor": 5
}
