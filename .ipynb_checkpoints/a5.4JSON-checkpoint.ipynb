{
 "cells": [
  {
   "cell_type": "markdown",
   "id": "0acf70a2",
   "metadata": {},
   "source": [
    "## JSON files:\n",
    "- JSON stands for **Java Script Object Notation**.\n",
    "- JSON is a **text format** for storing and transporting data.\n",
    "- It is very common format used throughout the web for handling files."
   ]
  },
  {
   "cell_type": "markdown",
   "id": "959e8abf",
   "metadata": {},
   "source": [
    "#### Need of JSON files:\n",
    "- Supppose we have our back-end 'server site' written in python and our front-end 'browser application' is written in java script. We can't use same data for both the languages. So we need a common format for sharing data. \n",
    "- For this purpose we use JSON files. **JSON files can be used to share data in a common format in different languages.**\n",
    "- most of the sites on google send their data as JSON files from their server. \n",
    "Then our front-end that we use here converts that JSON file data into desirable format."
   ]
  },
  {
   "cell_type": "markdown",
   "id": "270d8143",
   "metadata": {},
   "source": [
    "- ##### In python, we have a in-built package 'json' which have different functions to handle json files.\n",
    "- we can use these all functions by importing json package in order to handle json files."
   ]
  },
  {
   "cell_type": "markdown",
   "id": "493fe7d3",
   "metadata": {},
   "source": [
    "- JSON file is same as dictionary in python.\n",
    "- A JSON file always **starts and ends with curly braces** similar to as dictionory in python.(open and see file \"a5.5sample.json\").\n",
    "- Just like dictionary, we have strings, list, int etc.. everything inside json file."
   ]
  },
  {
   "cell_type": "code",
   "execution_count": 5,
   "id": "8434da38",
   "metadata": {},
   "outputs": [
    {
     "name": "stdout",
     "output_type": "stream",
     "text": [
      "{\n",
      "    name : \"Harsh\"\n",
      "    age : 19\n",
      "    subjects : ['OS' , 'OOPS' , 'COA' , 'ADA' , 'DS']\n",
      "}\n",
      "<class 'str'>\n"
     ]
    }
   ],
   "source": [
    "with open(\"a5.5sample.json\" , 'r') as f :\n",
    "    data = f.read()\n",
    "    print(data)\n",
    "    print(type(data))"
   ]
  },
  {
   "cell_type": "markdown",
   "id": "82ac36cf",
   "metadata": {},
   "source": [
    "- To access json file, we need to read it's data first using \"with open() as file: \" statement\n",
    "- Then we read all the content and store it inside variable 'data'.\n",
    "##### But this above method is a wrong way of handling json files.\n",
    "- this data is of type \\<str> not json data.\n",
    "- For this, we use functions from json package to handle it properly. This above method only shows us content as string and not as it's real meaning."
   ]
  },
  {
   "cell_type": "markdown",
   "id": "897db44e",
   "metadata": {},
   "source": [
    "### import json (json package):\n",
    "- json package has 4 different functions that we use to handle json files.:  \n",
    "1. **json.load(JSON_FILE)**  \n",
    "2. **json.loads(JSON_FILE)**  \n",
    "3. **json.dump(OBJECT)** #object is generally dictionary \n",
    "4. **json.dumps(OBJECT, FILE_OBJECT)**  ,where file_object is : [f = open() ] f is file obj"
   ]
  },
  {
   "cell_type": "code",
   "execution_count": null,
   "id": "073da45d",
   "metadata": {},
   "outputs": [],
   "source": []
  },
  {
   "cell_type": "code",
   "execution_count": 20,
   "id": "6be74b18",
   "metadata": {},
   "outputs": [
    {
     "name": "stdout",
     "output_type": "stream",
     "text": [
      "{'name': 'Harsh', 'age': 19, 'subjects': ['OS', 'OOPS', 'COA', 'ADA', 'DS']}\n",
      "<class 'dict'>\n",
      "19\n",
      "COA\n"
     ]
    }
   ],
   "source": [
    "# 1. json.loads() --> It reads the data from the opened file and parses that data into the real \n",
    "# meaning of that data\n",
    "import json\n",
    "\n",
    "with open(\"a5.5sample.json\" , 'r') as f:\n",
    "    data = json.load(f)\n",
    "print(data)\n",
    "print(type(data))\n",
    "\n",
    "#as this is dictionary, we can perform operations of dictionary on it now like:\n",
    "print(data['age'])  #print the age\n",
    "print(data['subjects'][2])  #print the 3rd subject"
   ]
  },
  {
   "cell_type": "markdown",
   "id": "1cc1e819",
   "metadata": {},
   "source": [
    "- we can see that json.load() parses all the data of file into it's real meaning .\n",
    "- as it's type is dictionary now and not string. So we can perform some operations on dictionary also.\n",
    "- This is the correct way of decoding json data ."
   ]
  },
  {
   "cell_type": "markdown",
   "id": "36889ddc",
   "metadata": {},
   "source": [
    "#### 2. json.loads() :  It parses a string into json data.\n",
    "- this is another way of decoding data from a json file. \n",
    "- In this method, we read data of json file as string as we did in above 1st method.\n",
    "- Then we convert that string into json data.\n",
    "- ##### loads() means load string."
   ]
  },
  {
   "cell_type": "code",
   "execution_count": 23,
   "id": "5c239ed1",
   "metadata": {},
   "outputs": [
    {
     "name": "stdout",
     "output_type": "stream",
     "text": [
      "{'name': 'Harsh', 'age': 19, 'subjects': ['OS', 'OOPS', 'COA', 'ADA', 'DS']}\n"
     ]
    }
   ],
   "source": [
    "with open(\"a5.5sample.json\" , 'r') as f :\n",
    "    data = f.read()\n",
    "    data1 = json.loads(data)\n",
    "print(data1)"
   ]
  },
  {
   "cell_type": "markdown",
   "id": "61bcbf57",
   "metadata": {},
   "source": [
    "- json.load() converts json file into dictionary. json.loads() converts string into dictionary.\n",
    "- Now let us study converting dictionary to string or to json file  \n",
    "### 3. json.dumps('dict_name') : It converts json dictionary into a string.\n",
    "- we can write this string into a json file now.\n",
    "### 4. json.dump(\\<dict_name> , \\<file_object>) : It converts dictionary into a json file that is opened currently.\n",
    "- Here we can write dump only when a file is opened with writing permission."
   ]
  },
  {
   "cell_type": "code",
   "execution_count": 25,
   "id": "9010a429",
   "metadata": {},
   "outputs": [
    {
     "name": "stdout",
     "output_type": "stream",
     "text": [
      "{\"name\": \"Harsh\", \"age\": 19, \"subjects\": [\"OS\", \"OOPS\", \"COA\", \"ADA\", \"DS\"]}\n"
     ]
    }
   ],
   "source": [
    "# 3. json.dumps()\n",
    "import json\n",
    "\n",
    "string = json.dumps(data1)  #data1 dict from above cell is converted into string\n",
    "print(string)"
   ]
  },
  {
   "cell_type": "code",
   "execution_count": 27,
   "id": "6a3fca84",
   "metadata": {},
   "outputs": [],
   "source": [
    "# 4. json.dump()\n",
    "import json\n",
    "\n",
    "with open(\"a5.6data.json\" , 'w') as file:\n",
    "    json.dump(data1 , file)  \n",
    "    #here 'data1' is dictionary and 'file' is file object which stores result of open() command \n",
    "# now check the contents of a5.6data.json file"
   ]
  },
  {
   "cell_type": "markdown",
   "id": "12166fe9",
   "metadata": {},
   "source": [
    "### -----------------------------------------------------------------------------\n",
    "- jupyter notebook is also a json file which is converted as this interface in the front-end.\n",
    "- If we seee this file in terminal as: \"nano file.ipynb\" , then it shows us curly braces at begining and end. Just like dictionary, this file also have strings, lists, dictionaries etc as it's values .\n",
    "- this dictionary contains 1st key \"cell\" , 2nd key \"metadata\", 3rd key \"nbformat\" , 4th key \"nbformat_minor\".\n",
    "- among these 4 keys, 1st one is most complicated: \"cell\" has value as a list of dictionaries and these dictionaries furthur have lists and dictionaries inside them.\n",
    "        \"cell\" : [ {} , {} , {} , {} ...]"
   ]
  },
  {
   "cell_type": "markdown",
   "id": "063a1f1e",
   "metadata": {},
   "source": [
    "##### pprint is pretty print.\n",
    "- It is used when we have a very complicated dictionary. \n",
    "- With print() , data is not very well organised and all data is printed as lines.\n",
    "- But with pprint(), when we have large data, then pprint() shows us data in an organized way woth a proper indentation which makes it easy to understand."
   ]
  },
  {
   "cell_type": "code",
   "execution_count": 34,
   "id": "e02b535f",
   "metadata": {},
   "outputs": [
    {
     "name": "stdout",
     "output_type": "stream",
     "text": [
      "{'age': 19, 'name': 'Harsh', 'subjects': ['OS', 'OOPS', 'COA', 'ADA', 'DS']}\n"
     ]
    }
   ],
   "source": [
    "import pprint\n",
    "\n",
    "with open(\"a5.5sample.json\",'r') as f:\n",
    "    data = json.load(f)\n",
    "    pprint.pprint(data)\n",
    "# this is just a simple example. pprint() has no effect here. It organises everything when\n",
    "# we have large data."
   ]
  }
 ],
 "metadata": {
  "kernelspec": {
   "display_name": "Python 3 (ipykernel)",
   "language": "python",
   "name": "python3"
  },
  "language_info": {
   "codemirror_mode": {
    "name": "ipython",
    "version": 3
   },
   "file_extension": ".py",
   "mimetype": "text/x-python",
   "name": "python",
   "nbconvert_exporter": "python",
   "pygments_lexer": "ipython3",
   "version": "3.8.10"
  }
 },
 "nbformat": 4,
 "nbformat_minor": 5
}
