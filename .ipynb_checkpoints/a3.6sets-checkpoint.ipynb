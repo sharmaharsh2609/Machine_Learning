{
 "cells": [
  {
   "cell_type": "code",
   "execution_count": 33,
   "metadata": {},
   "outputs": [
    {
     "name": "stdout",
     "output_type": "stream",
     "text": [
      "dict_items([('Mango', 120), ('Apple', 80), ('Guava', 60)])\n",
      "('Mango', 120)\n",
      "('Apple', 80)\n",
      "('Guava', 60)\n",
      "Mango => 120\n",
      "Apple => 80\n",
      "Guava => 60\n"
     ]
    }
   ],
   "source": [
    "# items() returns us key,value pair tuples. This is used to view key-value pairs.\n",
    "# items() returns tuples for every key- value pair\n",
    "l = (d.items())   \n",
    "print(l)\n",
    "\n",
    "for x in d.items():\n",
    "    print(x)\n",
    "#or we can do like this:\n",
    "for k,v in d.items():\n",
    "    print(k, \"=>\", v)"
   ]
  },
  {
   "cell_type": "code",
   "execution_count": 39,
   "metadata": {},
   "outputs": [
    {
     "name": "stdout",
     "output_type": "stream",
     "text": [
      "{'Mango': 120, 'Apple': 80, 'Guava': 60, 'Strawberry': 95}\n",
      "{'Mango': 120, 'Apple': 80, 'Guava': 60, 'Strawberry': 95, 'Orange': 90}\n"
     ]
    }
   ],
   "source": [
    "d2 = {\"Strawberry\":95}\n",
    "\n",
    "#update() methods inserts specified items to a dictionary\n",
    "#these specified items can be a dictionary also\n",
    "d.update(d2)    #here we insert dictionary 'd2' to dictionary 'd'\n",
    "print(d)\n",
    "\n",
    "d.update({\"Orange\" : 90})\n",
    "print(d)"
   ]
  },
  {
   "cell_type": "code",
   "execution_count": 40,
   "metadata": {},
   "outputs": [
    {
     "name": "stdout",
     "output_type": "stream",
     "text": [
      "5\n"
     ]
    }
   ],
   "source": [
    "print(len(d))"
   ]
  },
  {
   "cell_type": "code",
   "execution_count": 42,
   "metadata": {},
   "outputs": [
    {
     "name": "stdout",
     "output_type": "stream",
     "text": [
      "0\n"
     ]
    }
   ],
   "source": [
    "d.clear()      #deletes all elements of list\n",
    "print(len(d))\n",
    "\n",
    "del d  #deletes dictionary"
   ]
  },
  {
   "cell_type": "code",
   "execution_count": 53,
   "metadata": {},
   "outputs": [
    {
     "name": "stdout",
     "output_type": "stream",
     "text": [
      "<zip object at 0x7f7cd1cb9780>\n",
      "[(1, 'a', 'Harsh'), (2, 'b', 'Ashima'), (3, 'c', 'Deepshikha')]\n"
     ]
    }
   ],
   "source": [
    "#zip() converts 'n' iterables of same length into tuples of size 'n'\n",
    "numbers = [1, 2, 3]\n",
    "letters = ['a', 'b', 'c']\n",
    "names = [\"Harsh\", \"Ashima\", \"Deepshikha\"]\n",
    "a = zip(numbers, letters, names)\n",
    "print(a)  # this variable holds an iterator object. It shows address of zip as it stores zip now\n",
    "type(a)\n",
    "\n",
    "#zip is not callable. so we need to convert it to some other data structure\n",
    "print(list(a))"
   ]
  },
  {
   "cell_type": "code",
   "execution_count": 54,
   "metadata": {},
   "outputs": [
    {
     "name": "stdout",
     "output_type": "stream",
     "text": [
      "{'Apple': 100, 'Papaya': 120, 'Guava': 30, 'Banana': 50}\n",
      "<class 'dict'>\n"
     ]
    }
   ],
   "source": [
    "#using zip() to convert 2lists into 1 dictionary\n",
    "l1 = [\"Apple\",\"Papaya\",\"Guava\",\"Banana\"]\n",
    "l2 = [100,120,30,50]\n",
    "\n",
    "p = dict(zip(l1,l2))\n",
    "print(p)\n",
    "print(type(p))\n",
    "#eg- Here zip converts 2 lists into tuples of size 2 as: "
   ]
  },
  {
   "cell_type": "code",
   "execution_count": 55,
   "metadata": {},
   "outputs": [
    {
     "name": "stdout",
     "output_type": "stream",
     "text": [
      "100\n",
      "120\n",
      "30\n",
      "50\n"
     ]
    }
   ],
   "source": [
    "for k in p.values():     # iterate in values of dictionary\n",
    "    print(k)"
   ]
  },
  {
   "cell_type": "markdown",
   "metadata": {},
   "source": [
    "- keys in python can be any immutable DS."
   ]
  },
  {
   "cell_type": "code",
   "execution_count": 58,
   "metadata": {},
   "outputs": [
    {
     "name": "stdout",
     "output_type": "stream",
     "text": [
      "harsh\n"
     ]
    }
   ],
   "source": [
    "dic = {\n",
    "    (1,2) : \"harsh\"\n",
    "}\n",
    "\n",
    "print(dic[(1,2)])\n",
    "# tuple is immutable. So we can use tuple as key. But list is immutable. Using list will give\n",
    "# us an error here."
   ]
  },
  {
   "cell_type": "markdown",
   "metadata": {},
   "source": [
    "- There are many more functions in dictionaries like:  \n",
    "append(key:val) : to append data to a dictionary  \n",
    "pop(key) : removes element with given key   \n",
    "and many more.. "
   ]
  },
  {
   "cell_type": "code",
   "execution_count": null,
   "metadata": {},
   "outputs": [],
   "source": []
  },
  {
   "cell_type": "code",
   "execution_count": null,
   "metadata": {},
   "outputs": [],
   "source": []
  },
  {
   "cell_type": "code",
   "execution_count": null,
   "metadata": {},
   "outputs": [],
   "source": []
  },
  {
   "cell_type": "code",
   "execution_count": null,
   "metadata": {},
   "outputs": [],
   "source": []
  },
  {
   "cell_type": "code",
   "execution_count": null,
   "metadata": {},
   "outputs": [],
   "source": []
  },
  {
   "cell_type": "markdown",
   "metadata": {},
   "source": [
    "### Python Sets\n",
    "- Unordered collection of simple objects.\n",
    "- These are also iterables. But are not meant to be iterated.\n",
    "- Sets are used for checking the existence of an object in some collection.\n",
    "- Sets are derived from Discrete Mathematics\n",
    "- Values of sets are unique."
   ]
  },
  {
   "cell_type": "code",
   "execution_count": 1,
   "metadata": {},
   "outputs": [
    {
     "name": "stdout",
     "output_type": "stream",
     "text": [
      "{1, 2, 3, 4} <class 'set'>\n",
      "<class 'dict'>\n",
      "set() <class 'set'>\n"
     ]
    }
   ],
   "source": [
    "s={1,2,3,4}\n",
    "print(s, type(s))\n",
    "#sets are defined same as dictionaries. But set do not contain a 'key: val' pair .\n",
    "a = {}  #as dict is prior DS. So empty {} returns a dictionary\n",
    "print(type(a))\n",
    "\n",
    "#to define empty set, we use set() method\n",
    "b=set()\n",
    "print(b, type(b))"
   ]
  },
  {
   "cell_type": "code",
   "execution_count": 2,
   "metadata": {},
   "outputs": [
    {
     "name": "stdout",
     "output_type": "stream",
     "text": [
      "{3, 4}\n",
      "{1, 2, 3, 4, 5, 6, 7}\n",
      "{1, 2}\n"
     ]
    }
   ],
   "source": [
    "#operations on sets:\n",
    "a={1,2,3,4}\n",
    "b={3,4,5,6,7}\n",
    "print(a.intersection(b)) #print elements present in both a and b\n",
    "print(a.union(b))    # prints elemts in either a or b\n",
    "print(a-b)    # prints elemets in a but not common with b"
   ]
  },
  {
   "cell_type": "code",
   "execution_count": 4,
   "metadata": {},
   "outputs": [
    {
     "name": "stdout",
     "output_type": "stream",
     "text": [
      "{1, 2, 3, 4}\n",
      "4\n"
     ]
    }
   ],
   "source": [
    "# values of set are unique\n",
    "a={1,2,3,4,1,2,4,3,2,1}\n",
    "print(a)    #all duplicate elements are removed\n",
    "print(len(a))"
   ]
  },
  {
   "cell_type": "markdown",
   "metadata": {},
   "source": [
    "##### Ques. How to remove duplicacy of lists or something like this?\n",
    "Ans. Convert list into set and then set into list.  \n",
    "- This method is used a lot . But it may change the order of list as sets ar eunordered, unindexed."
   ]
  },
  {
   "cell_type": "code",
   "execution_count": 8,
   "metadata": {},
   "outputs": [
    {
     "name": "stdout",
     "output_type": "stream",
     "text": [
      "[1, 2]\n"
     ]
    }
   ],
   "source": [
    "l=[1,2,1,2,2,2,1,1]\n",
    "\n",
    "l=list(set(l))\n",
    "print(l)\n",
    "\n",
    "#it's order is not same always. It may come [2,1] sometimes as during set conversion, \n",
    "#they all are unorderd"
   ]
  },
  {
   "cell_type": "code",
   "execution_count": 15,
   "metadata": {},
   "outputs": [
    {
     "name": "stdout",
     "output_type": "stream",
     "text": [
      "not present\n"
     ]
    }
   ],
   "source": [
    "s={1,4,6,34}\n",
    "if 14 in s:\n",
    "    print(\"present\")\n",
    "else:\n",
    "    print(\"not present\")"
   ]
  },
  {
   "cell_type": "code",
   "execution_count": 19,
   "metadata": {},
   "outputs": [
    {
     "name": "stdout",
     "output_type": "stream",
     "text": [
      "{1, 34, 4, 6, 50}\n"
     ]
    }
   ],
   "source": [
    "s.add(50)  # add element in set.set is unordered, so index in not reuired to define\n",
    "print(s)"
   ]
  },
  {
   "cell_type": "code",
   "execution_count": 20,
   "metadata": {},
   "outputs": [],
   "source": [
    "s.clear()  #delete all elements of set"
   ]
  },
  {
   "cell_type": "code",
   "execution_count": 22,
   "metadata": {},
   "outputs": [
    {
     "name": "stdout",
     "output_type": "stream",
     "text": [
      "{1, 5, 6}\n"
     ]
    }
   ],
   "source": [
    "a1 = {1,2,3,4}\n",
    "a2 = {2,3,4,5,6}\n",
    "\n",
    "#Those element which are only in one of the sets\n",
    "print(a1^a2)"
   ]
  }
 ],
 "metadata": {
  "kernelspec": {
   "display_name": "Python 3 (ipykernel)",
   "language": "python",
   "name": "python3"
  },
  "language_info": {
   "codemirror_mode": {
    "name": "ipython",
    "version": 3
   },
   "file_extension": ".py",
   "mimetype": "text/x-python",
   "name": "python",
   "nbconvert_exporter": "python",
   "pygments_lexer": "ipython3",
   "version": "3.8.10"
  }
 },
 "nbformat": 4,
 "nbformat_minor": 2
}
