{
 "cells": [
  {
   "cell_type": "markdown",
   "id": "d6098f58",
   "metadata": {},
   "source": [
    "## executing python commands:  \n",
    " There are various methods in which we can execute a python command or file:  \n",
    " 1. Type 'python' in terminal or in cmd and then you can type any python statement there. It shows output:  \n",
    "     -In this method, interpreter shows us >>> which means it is ready to take input.  \n",
    "   \n",
    " 2. Write code in a file(let's say file name is 'file.py'), then we can execute this file by typing:      python 'file.py'                  . It executes the file whose name is typed after python.  \n",
    "     -By default linux uses python2.0. But we can interpret it by typing:     python3 file.py    \n",
    "     \n",
    " 3. Write code in file(say file.py), then type path of file to execute it. If file is present in current working directory, then type:    ./file.py         .If path of file is: /home/harsh/python/file.py   , then we can execute it like:    /home/harsh/python/file.py  \n",
    "     -It is same method which is used to execute bash files.   \n",
    "       \n",
    " 4. Using jupyter notebook\n",
    "     \n",
    "# -----------------------------------------------------------------------------------------\n"
   ]
  },
  {
   "cell_type": "markdown",
   "id": "be114c1f",
   "metadata": {},
   "source": [
    "# Interpreter vs compiler\n",
    "* python is an interpreted language. It interprets line by line.\n",
    "* Interpretor converts high level language into object codes line by line.\n",
    "  - All lines are independent of each other.\n",
    "  - If there is error in any line, still all lines before that are executed.\n",
    "  - In interpreter, 1st line is converted to Machine codes(0,1) and then executed directly. Then 2nd line is converted and printed, then 3rd line is converted and pexecuted and so on..\n",
    "\n",
    "* Compiler however converts all the source code(HLL) to Machine codes and stores them in an executable file(In windows- .exe  file, In linux, they have a flag-  +x flag). Then it exectes all the machine code after converting it.  \n",
    "   - Lines are dependent on each other.\n",
    "   - If a line has some error, then nothing is executed until all the errors have not been removed.  \n",
    "* Python is an interpreted language and c++ is a compiled language.\n",
    "* Note: C++ can access direct memory using pointers. But python can't access memory.(This has nothing to do with interpreter and compiler. This is just a point) \n",
    "# ----------------------------------------------------------------------------------------\n"
   ]
  },
  {
   "cell_type": "markdown",
   "id": "cbaee5b2",
   "metadata": {},
   "source": [
    "Python virtual machine:\n",
    " - When we type python in terminal, then it shows us >>> . This is python virtual machine opened in terminal.\n",
    " - Python virtual machine is a machine that takes .py file as input and converts that to object codes.\n",
    " - It is interesting to note that python virtual machine is actually written in c language.\n",
    "\n",
    "------------------------------------------------------------------------------------------"
   ]
  },
  {
   "cell_type": "markdown",
   "id": "f9ea04af",
   "metadata": {},
   "source": [
    "\n",
    "# Jupyter Notebook:\n",
    "* Jupyter notebook is simply a python shell.\n",
    "* It is similar to as typing python(which shows interface like >>>) in temrinal or cmd. But jupyter notebook is more intuitive and very easy to understand.\n",
    "* On typing   'jupyter notebook' in terminal or cmd, it opens in web browser and shows us all the files anf folders that are present in current working folder/directory where we typed jupyter notebook.\n"
   ]
  },
  {
   "cell_type": "markdown",
   "id": "d4487e99",
   "metadata": {},
   "source": [
    "# How to use of Jupyter Notebook:\n",
    "* Shft+Enter --> executes current cell and goes to next cell.\n",
    "* Ctr+Enter --> executes current cell and stay in same cell.\n",
    "* esc,m  --> press esc button, then press m button on any cell and that cell will convert to markdown from code.(markdown is text area which we can use to make notes.)\n",
    "* esc,y --> convert markdown to code.\n",
    "* esc, dd --> press escape, then 2times dd. It removes current cell.\n",
    "* esc, a --> to create new cell above present cell.\n",
    "* esc, b --> to create new cell below current cell.\n",
    "* Press Enter to enter to any cell.\n",
    "* '# ' --> type '# ' hash and space in markdown, it convers it to header.\n",
    "* '## ' --> means H2 heading which is smaller than H1 heading. As we keep increasing number of hash, size of heading decreases.\n",
    "\n",
    "* '* ' --> type '* ' star space, it creates a bullet in markdown.\n",
    "* '- '  --> same as '* ', it is also used for bullets.\n",
    "* '  enter'  --> space space enter(2space and then enter) goes to newline. Simple enter don't goes no newline. Only bullets and headings are shown in newline on simple enter\n",
    "* There are many buttons at top: like click '>file>rename' , it renames file....click up or low arrow to move a cell up or low....click cut to cut one or more selected cells....+ to insert a cell below and many more.\n",
    "* shift+tab :  press these both buttons on any method, it shows about description of a function...\n",
    "- _underscore before and after text_ : to make italic\n",
    "- *star before and after text* : also for italic\n",
    "- __double underscore before and after text__ : to make bold\n",
    "- **double star before and after text** : also for bold\n",
    "- ___triple underscore before and after text___ : for bold+italic\n",
    "- we can use backslash before these characters, id we want to use them: \\__init__\n",
    "- Since markdown is a markup language, we can use HTML/CSS inside it.  \n",
    "  <u>underscored text </u>: I used html syntax to underline. See it\n",
    "\n",
    "* There are a lot more features. These are just basic ones. \n",
    "---------------------\n",
    "-In jupyter notebook order of cell do not matters, only order of execution matters.  \n",
    "eg.- If we execute 2nd cell, then 1st cell and then we print the values of variables. Then values of 1st cell are overwriten on that of 2nd cell for common variables as 1st cell is executed after 2nd cell."
   ]
  },
  {
   "cell_type": "markdown",
   "id": "ec84cf05",
   "metadata": {},
   "source": [
    "### Jupyter Themes:\n",
    "jt -t monokai :  it is a good dark theme for jupyter notebook.  \n",
    "jt -r : It resets jupyter notebook themes to initial state."
   ]
  }
 ],
 "metadata": {
  "kernelspec": {
   "display_name": "Python 3 (ipykernel)",
   "language": "python",
   "name": "python3"
  },
  "language_info": {
   "codemirror_mode": {
    "name": "ipython",
    "version": 3
   },
   "file_extension": ".py",
   "mimetype": "text/x-python",
   "name": "python",
   "nbconvert_exporter": "python",
   "pygments_lexer": "ipython3",
   "version": "3.8.10"
  }
 },
 "nbformat": 4,
 "nbformat_minor": 5
}
