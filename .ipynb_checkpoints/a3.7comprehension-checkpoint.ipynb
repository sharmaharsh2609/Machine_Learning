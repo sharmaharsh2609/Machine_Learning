{
 "cells": [
  {
   "cell_type": "markdown",
   "id": "220c6fcf",
   "metadata": {},
   "source": [
    "## Comprehension:\n",
    "- A method using which we can create a list, dictionary, or set using single line of code."
   ]
  },
  {
   "cell_type": "markdown",
   "id": "787e86a4",
   "metadata": {},
   "source": [
    "### List Comrehension:\n",
    "        Syntax: [ x <iteration statement>]     \n",
    "        , where x is the variable to be appended at every iteration.\n",
    "        eg- [i**2 for i in range(5)]   , here x=i**2 (means i**2 is appended in\n",
    "        every step) and for i in range(5) is iteration statement\n",
    "- Iteration statement can have if loop also or nested for loop etc..\n",
    "- variable x can be a tuple also: which means we can assign values to more than 1 variable also. eg- x,y = [a,b for ....]"
   ]
  },
  {
   "cell_type": "code",
   "execution_count": 6,
   "id": "5de2e4d8",
   "metadata": {},
   "outputs": [
    {
     "name": "stdout",
     "output_type": "stream",
     "text": [
      "[0, 1, 4, 9, 16, 25, 36, 49, 64, 81]\n"
     ]
    }
   ],
   "source": [
    "#to create a list:\n",
    "#method 1\n",
    "a=[]\n",
    "for i in range(10):\n",
    "    a.append(i**2)\n",
    "print(a)"
   ]
  },
  {
   "cell_type": "code",
   "execution_count": 5,
   "id": "3d1465dc",
   "metadata": {},
   "outputs": [
    {
     "name": "stdout",
     "output_type": "stream",
     "text": [
      "[0, 1, 4, 9, 16, 25, 36, 49, 64, 81]\n"
     ]
    }
   ],
   "source": [
    "# Using list comrehension:\n",
    "a = [i**2 for i in range(10)]\n",
    "print(a)"
   ]
  },
  {
   "cell_type": "code",
   "execution_count": 8,
   "id": "ff3a58d1",
   "metadata": {},
   "outputs": [
    {
     "data": {
      "text/plain": [
       "[0, 4, 16, 36, 64]"
      ]
     },
     "execution_count": 8,
     "metadata": {},
     "output_type": "execute_result"
    }
   ],
   "source": [
    "#The iteration statement can contain if loop also\n",
    "[i**2 for i in range(10) if i%2==0]\n",
    "#it prints square of even no. between 1-10"
   ]
  },
  {
   "cell_type": "markdown",
   "id": "ad93f675",
   "metadata": {},
   "source": [
    "### Dictionary comprehension:"
   ]
  },
  {
   "cell_type": "code",
   "execution_count": 11,
   "id": "659ea52c",
   "metadata": {},
   "outputs": [
    {
     "name": "stdout",
     "output_type": "stream",
     "text": [
      "{0: 0, 2: 4, 4: 16, 6: 36, 8: 64}\n"
     ]
    }
   ],
   "source": [
    "d={i: i**2 for i in range(10) if i%2==0}\n",
    "# here i is key and i**2 is val\n",
    "print(d)"
   ]
  },
  {
   "cell_type": "markdown",
   "id": "8c6647b3",
   "metadata": {},
   "source": [
    "### Set comrehension:"
   ]
  },
  {
   "cell_type": "code",
   "execution_count": 13,
   "id": "340fdf16",
   "metadata": {},
   "outputs": [
    {
     "name": "stdout",
     "output_type": "stream",
     "text": [
      "{0, 64, 4, 36, 16}\n"
     ]
    }
   ],
   "source": [
    "s={i**2 for i in range(10) if i%2==0}\n",
    "print(s)"
   ]
  },
  {
   "cell_type": "markdown",
   "id": "36929094",
   "metadata": {},
   "source": [
    "- Note: Tuple comrehension is not allowed.\n",
    "- If we try to use tuple comprehension, then it will be done successfully. But that is not a tuple. The result is a generator"
   ]
  },
  {
   "cell_type": "code",
   "execution_count": 17,
   "id": "d7beb2b7",
   "metadata": {},
   "outputs": [
    {
     "name": "stdout",
     "output_type": "stream",
     "text": [
      "<generator object <genexpr> at 0x7fc9a060e580>\n"
     ]
    }
   ],
   "source": [
    "a = (i**2 for i in range(5))\n",
    "print(a)\n",
    "#it shows a is generator. which shows us that a is not a tuple "
   ]
  }
 ],
 "metadata": {
  "kernelspec": {
   "display_name": "Python 3 (ipykernel)",
   "language": "python",
   "name": "python3"
  },
  "language_info": {
   "codemirror_mode": {
    "name": "ipython",
    "version": 3
   },
   "file_extension": ".py",
   "mimetype": "text/x-python",
   "name": "python",
   "nbconvert_exporter": "python",
   "pygments_lexer": "ipython3",
   "version": "3.8.10"
  }
 },
 "nbformat": 4,
 "nbformat_minor": 5
}
