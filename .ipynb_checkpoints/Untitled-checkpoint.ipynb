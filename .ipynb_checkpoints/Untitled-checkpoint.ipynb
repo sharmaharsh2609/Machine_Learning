{
 "cells": [
  {
   "cell_type": "markdown",
   "id": "0c0a927e",
   "metadata": {},
   "source": [
    "- make notes on notebook.\n",
    "- create pdf of 2 or 3 lectures or as many you want as a single pdf.\n",
    "- now rename that pdf as b0.1\\<name>"
   ]
  },
  {
   "cell_type": "code",
   "execution_count": null,
   "id": "eb6a092c",
   "metadata": {},
   "outputs": [],
   "source": []
  },
  {
   "cell_type": "code",
   "execution_count": null,
   "id": "3c790866",
   "metadata": {},
   "outputs": [],
   "source": []
  }
 ],
 "metadata": {
  "kernelspec": {
   "display_name": "Python 3 (ipykernel)",
   "language": "python",
   "name": "python3"
  },
  "language_info": {
   "codemirror_mode": {
    "name": "ipython",
    "version": 3
   },
   "file_extension": ".py",
   "mimetype": "text/x-python",
   "name": "python",
   "nbconvert_exporter": "python",
   "pygments_lexer": "ipython3",
   "version": "3.8.10"
  }
 },
 "nbformat": 4,
 "nbformat_minor": 5
}
