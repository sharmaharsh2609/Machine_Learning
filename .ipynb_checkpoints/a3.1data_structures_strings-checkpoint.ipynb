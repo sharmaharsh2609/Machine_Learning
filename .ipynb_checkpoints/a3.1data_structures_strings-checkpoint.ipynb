{
 "cells": [
  {
   "cell_type": "markdown",
   "id": "60c3a746",
   "metadata": {},
   "source": [
    "# Data Structures\n",
    "- We need data structures to store data and to perform operations on them.(operations are - creation, reading, updating, deletion)\n",
    "- There are some basic and primary data structures in python:  \n",
    "1) int  \n",
    "2) float  \n",
    "3) bool  \n",
    "4) string  \n",
    "5) complex\n",
    "- These 5 are basic built-in data structures.\n",
    "- Then come 'derived data structures': derived data structures depend on primary data structures and are derived from them:  \n",
    "6) list  \n",
    "7) tuple  \n",
    "8) dictionary  \n",
    "9) set\n",
    "- These all above are most common data structures in python.\n",
    "###### Most of DS in python are immutable. Only mutable DS in python are:  \n",
    "1) list  \n",
    "2) dictionary  \n",
    "3) set"
   ]
  },
  {
   "cell_type": "markdown",
   "id": "3c7d6a85",
   "metadata": {},
   "source": [
    "- python creates a map for all the variables. eg- a=10 , It creates a map with 2 columns where 1st column stores the variable and 2nd column stores the memory address assigned to the corresponding value in 1st column."
   ]
  },
  {
   "cell_type": "markdown",
   "id": "d0b8d42d",
   "metadata": {},
   "source": [
    "## Strings\n",
    "- string is a little comple DS from others in primary DS.\n",
    "##### String is a collection of 'characters' placed in a sequence.  \n",
    "    where characters are [a-zA-Z0-9...] and any character present on keyword and even characters that are not present on keyword.\n",
    "##### Generally python works with UTF-8 encoding. But we can assume that we are working with ASCII encoding. Because ASCII is a subset of Unicode(or we can say UTF_8 also.)\n",
    "- ASCII provides us indexes for every character.\n",
    "- python stores characters in a sequence in RAM.  \n",
    "eg- str=\"Harsh Sharma\"  \n",
    "  It stores ASCII value of H(=72) at some random memory(say 2002 mem address). then it stores ASCII val of a(=97) at next memory address and so on..\n",
    "- As system understands only 0,1 so we convert every character into a binary code: to do so, we need encoding techniques.\n",
    "- ASCII converts a charcater into 8bit(1byte) code which means every position in ASCII can have 2^8 combinations. However 1bit is parity bit. Thus ASCII have 2^7=128 indexes for 128 characters.\n",
    "- ASCII can represent only 128 characters and ASCII isn't able to represent many characters, so developers made some new encoding techniques. One of which is Unicode.\n",
    "- Unicode is not an encoding. but unicodes are used by different encoding techniques. eg- UTF-8, UTF-16, UTF-32 etc.\n",
    "###### encoding is simply converting of characters to integers and from integers to binary codes.(In reality, it directly converts from charatcers to binary codes.)\n",
    "- First 128 characters of unicode are same as ASCII. Thus any unicode type encoding have first 128 characters same as ASCII. and that's why ASCII is safe to use in python.\n",
    "- Encoding is a very vast topic. It is also used in socket programming.(In sending and receiving messages)"
   ]
  },
  {
   "cell_type": "markdown",
   "id": "bcf5c98a",
   "metadata": {},
   "source": [
    "- In most of programming languages, string is 'array of characters', i.e- char arr[n]\n",
    "- But in python, string is just string. char is not a data type in python.  \n",
    "       eg-    str='a'       ,this is a string of length 1 in python.\n",
    "- String in python is also immutable.  \n",
    "       eg-    str=\"Harsh\"\n",
    "              str[1]='o'\n",
    "       we can't do this. This is wrong and not allowed for strings as string is immutable DS in python.\n",
    "### Representation of string: \n",
    "- there are 4ways to represent strings in python:\n",
    "1. double quotes  \n",
    "2. single quotes  \n",
    "- Note: single quotes and double quotes are same in python\n",
    "3. three single quotes: for multiline string\n",
    "4. three double quotes: for multiline string"
   ]
  },
  {
   "cell_type": "code",
   "execution_count": 6,
   "id": "3cc4abd8",
   "metadata": {},
   "outputs": [
    {
     "name": "stdout",
     "output_type": "stream",
     "text": [
      "Harsh Sharma\n",
      "a\n"
     ]
    }
   ],
   "source": [
    "a=\"Harsh Sharma\"\n",
    "\n",
    "print(a)\n",
    "print(a[1])"
   ]
  },
  {
   "cell_type": "code",
   "execution_count": 7,
   "id": "e4e6897e",
   "metadata": {},
   "outputs": [
    {
     "name": "stdout",
     "output_type": "stream",
     "text": [
      "<class 'str'>\n"
     ]
    }
   ],
   "source": [
    "a='c'     #single character is also a string in python.\n",
    "print(type(a))"
   ]
  },
  {
   "cell_type": "code",
   "execution_count": 9,
   "id": "d0b4cb2e",
   "metadata": {},
   "outputs": [
    {
     "name": "stdout",
     "output_type": "stream",
     "text": [
      "Harsh\n",
      "Harsh\n"
     ]
    }
   ],
   "source": [
    "a='Harsh'    # single quotes and double quotes are same\n",
    "b=\"Harsh\"\n",
    "print(a,b,sep='\\n')"
   ]
  },
  {
   "cell_type": "code",
   "execution_count": 12,
   "id": "4888107a",
   "metadata": {},
   "outputs": [
    {
     "data": {
      "text/plain": [
       "'This\\nis a code\\nin python.\\n'"
      ]
     },
     "execution_count": 12,
     "metadata": {},
     "output_type": "execute_result"
    }
   ],
   "source": [
    "#multiline string\n",
    "str='''This\n",
    "is a code\n",
    "in python.\n",
    "'''\n",
    "str    #str shows output of this string not the stdout. That is why it shows us \\n instead of newline character"
   ]
  },
  {
   "cell_type": "code",
   "execution_count": 13,
   "id": "749337e7",
   "metadata": {},
   "outputs": [
    {
     "name": "stdout",
     "output_type": "stream",
     "text": [
      "This\n",
      "is a code\n",
      "in python.\n",
      "\n"
     ]
    }
   ],
   "source": [
    "str='''This\n",
    "is a code\n",
    "in python.\n",
    "'''\n",
    "print(str)"
   ]
  },
  {
   "cell_type": "code",
   "execution_count": 15,
   "id": "bc74a91f",
   "metadata": {},
   "outputs": [
    {
     "name": "stdout",
     "output_type": "stream",
     "text": [
      "This\n",
      "is a code\n",
      "in python.\n",
      "\n"
     ]
    }
   ],
   "source": [
    "#multiline string with double quotes\n",
    "str=\"\"\"This\n",
    "is a code\n",
    "in python.\n",
    "\"\"\"\n",
    "print(str)"
   ]
  },
  {
   "cell_type": "markdown",
   "id": "3b990dea",
   "metadata": {},
   "source": [
    "#### order and chr functions:\n",
    "- ord('char'): takes character as argument and returns ASCII equivalent value\n",
    "- chr(ASCII_val): takes ASCII value as input and returns ASCII euivalent character."
   ]
  },
  {
   "cell_type": "code",
   "execution_count": 19,
   "id": "fcd8a3e4",
   "metadata": {},
   "outputs": [
    {
     "name": "stdout",
     "output_type": "stream",
     "text": [
      "65\n",
      "c\n"
     ]
    }
   ],
   "source": [
    "#type shift+tab on ord to see it's desvription. It works on any function.\n",
    "print(ord('A'))\n",
    "print(chr(99))"
   ]
  },
  {
   "cell_type": "markdown",
   "id": "ed313256",
   "metadata": {},
   "source": [
    "### Strings and BuiltIn Methods"
   ]
  },
  {
   "cell_type": "code",
   "execution_count": 25,
   "id": "0becd605",
   "metadata": {},
   "outputs": [
    {
     "name": "stdout",
     "output_type": "stream",
     "text": [
      "Harsh Sharma\n"
     ]
    }
   ],
   "source": [
    "a = \"Harsh Sharma\"\n",
    "print(a)\n"
   ]
  },
  {
   "cell_type": "code",
   "execution_count": 28,
   "id": "3b5cfa0a",
   "metadata": {},
   "outputs": [
    {
     "name": "stdout",
     "output_type": "stream",
     "text": [
      "a\n"
     ]
    }
   ],
   "source": [
    "print(a[1])"
   ]
  },
  {
   "cell_type": "code",
   "execution_count": 29,
   "id": "a15e847e",
   "metadata": {},
   "outputs": [
    {
     "name": "stdout",
     "output_type": "stream",
     "text": [
      "m\n"
     ]
    }
   ],
   "source": [
    "print(a[-2])"
   ]
  },
  {
   "cell_type": "code",
   "execution_count": 30,
   "id": "fbd08807",
   "metadata": {},
   "outputs": [
    {
     "name": "stdout",
     "output_type": "stream",
     "text": [
      "12\n"
     ]
    }
   ],
   "source": [
    "print(len(a))"
   ]
  },
  {
   "cell_type": "code",
   "execution_count": 31,
   "id": "0de94ea5",
   "metadata": {},
   "outputs": [
    {
     "name": "stdout",
     "output_type": "stream",
     "text": [
      "Harsh\n"
     ]
    }
   ],
   "source": [
    "# Strings are Not Mutable!\n",
    "a = \"Harsh\"\n",
    "print(a)"
   ]
  },
  {
   "cell_type": "code",
   "execution_count": 32,
   "id": "295d6df6",
   "metadata": {},
   "outputs": [
    {
     "name": "stdout",
     "output_type": "stream",
     "text": [
      "H\n",
      "a\n",
      "r\n",
      "s\n",
      "h\n"
     ]
    }
   ],
   "source": [
    "for i in range(len(a)):\n",
    "    print(a[i])"
   ]
  },
  {
   "cell_type": "code",
   "execution_count": 33,
   "id": "1d87aded",
   "metadata": {},
   "outputs": [
    {
     "name": "stdout",
     "output_type": "stream",
     "text": [
      "H\n",
      "a\n",
      "r\n",
      "s\n",
      "h\n"
     ]
    }
   ],
   "source": [
    "for c in a:\n",
    "    print(c)"
   ]
  },
  {
   "cell_type": "markdown",
   "id": "d9df1f57",
   "metadata": {},
   "source": [
    "### Working with Strings"
   ]
  },
  {
   "cell_type": "code",
   "execution_count": 34,
   "id": "e4e473bf",
   "metadata": {},
   "outputs": [
    {
     "name": "stdout",
     "output_type": "stream",
     "text": [
      "MangoJuice\n"
     ]
    }
   ],
   "source": [
    "a = \"Mango\"\n",
    "b = \"Juice\"\n",
    "print(a + b)"
   ]
  },
  {
   "cell_type": "code",
   "execution_count": 14,
   "id": "95e51feb",
   "metadata": {},
   "outputs": [
    {
     "name": "stdout",
     "output_type": "stream",
     "text": [
      "MangoMangoMangoMangoMango\n"
     ]
    }
   ],
   "source": [
    "print(a*5)"
   ]
  },
  {
   "cell_type": "code",
   "execution_count": 36,
   "id": "4221adc4",
   "metadata": {},
   "outputs": [
    {
     "name": "stdout",
     "output_type": "stream",
     "text": [
      "an\n",
      "Mango\n",
      "go\n",
      "an\n"
     ]
    }
   ],
   "source": [
    "# Range Slicing \n",
    "print(a[1:-2])\n",
    "print(a[ : ])\n",
    "print(a[-2:])\n",
    "print(a[1:3])"
   ]
  },
  {
   "cell_type": "code",
   "execution_count": 38,
   "id": "2b313fed",
   "metadata": {},
   "outputs": [
    {
     "name": "stdout",
     "output_type": "stream",
     "text": [
      "No\n"
     ]
    }
   ],
   "source": [
    "# Membership - Substring is present in bigger string\n",
    "a = \"Harsh Sharma\"\n",
    "b = \"arsh\"\n",
    "if b not in a:\n",
    "    print(\"Yes\")\n",
    "else:\n",
    "    print(\"No\")"
   ]
  },
  {
   "cell_type": "code",
   "execution_count": 43,
   "id": "c6813413",
   "metadata": {},
   "outputs": [
    {
     "name": "stdout",
     "output_type": "stream",
     "text": [
      "My favourite fruit is Mango and it comes from I\n"
     ]
    }
   ],
   "source": [
    "# String Formating \n",
    "print(\"My favourite fruit is %s and it comes from %c\"%(\"Mango\",\"I\"))"
   ]
  }
 ],
 "metadata": {
  "kernelspec": {
   "display_name": "Python 3 (ipykernel)",
   "language": "python",
   "name": "python3"
  },
  "language_info": {
   "codemirror_mode": {
    "name": "ipython",
    "version": 3
   },
   "file_extension": ".py",
   "mimetype": "text/x-python",
   "name": "python",
   "nbconvert_exporter": "python",
   "pygments_lexer": "ipython3",
   "version": "3.8.10"
  }
 },
 "nbformat": 4,
 "nbformat_minor": 5
}
