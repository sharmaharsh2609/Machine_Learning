{
 "cells": [
  {
   "cell_type": "markdown",
   "metadata": {},
   "source": [
    "## Dictionaries in Python\n",
    "###### Dictionaries are unordered DS in which shows information in a key value pair.\n",
    "- List and tuple stores values according to their indices. They both are called ordered DS. All of their information can be accessed using indices.\n",
    "- But dictionaries are unordered: means data stored  in the dictionary might not be at same memory as it was during intiation.\n",
    "        Syntax:  a = { key1 : val1 , key2 : val2 , key3 : val3 ........}"
   ]
  },
  {
   "cell_type": "code",
   "execution_count": 12,
   "metadata": {},
   "outputs": [
    {
     "name": "stdout",
     "output_type": "stream",
     "text": [
      "dict_keys(['name', 'rollno', 'Subjects'])\n",
      "dict_values(['Harsh Sharma', 48, {'TOC': 98, 'COA': 80, 'OS': 95}])\n",
      "<built-in method keys of dict object at 0x7f7ce84596c0>\n"
     ]
    }
   ],
   "source": [
    "a = {\n",
    "    \"name\" : \"Harsh Sharma\",\n",
    "    \"rollno\" : 48,\n",
    "    \"Subjects\" : { \"TOC\" : 98, \"COA\" : 80, \"OS\" : 95}\n",
    "}\n",
    "\n",
    "print(a.keys())   #keys() prints all the keys of a dictionary\n",
    "print(a.values())   #values() prints all the values of a dictionary\n",
    "print(a.keys)    #It prints values of key. we need paranthesis also to call function.\n",
    "# without paranthesis, values of function is printed."
   ]
  },
  {
   "cell_type": "code",
   "execution_count": 22,
   "metadata": {},
   "outputs": [
    {
     "name": "stdout",
     "output_type": "stream",
     "text": [
      "{'Mango': 100, 'Apple': 80}\n",
      "100\n",
      "{'Mango': 100, 'Apple': 80, 'Guava': 60}\n",
      "90\n"
     ]
    }
   ],
   "source": [
    "d = {\"Mango\":100,\"Apple\":80}\n",
    "print(d)\n",
    "\n",
    "#accessing values using keys inside square brackets\n",
    "print(d[\"Mango\"])\n",
    "\n",
    "#defining new value: \n",
    "d[\"Guava\"] = 60\n",
    "print(d)\n",
    "\n",
    "d[\"Mango\"] = 120 #if key is same, then it overwrites the value\n",
    "\n",
    "# defining dictionary in adictionary\n",
    "d[\"Pineapple\"] = {\"Small\":90,\"Large\":150}\n",
    "# to access key of inner dictionary:\n",
    "print(d[\"Pineapple\"][\"Small\"])    #it is same as if we do x=d[\"pineapple\"] and print(xa[\"small\"])"
   ]
  },
  {
   "cell_type": "code",
   "execution_count": null,
   "metadata": {},
   "outputs": [],
   "source": []
  },
  {
   "cell_type": "markdown",
   "metadata": {},
   "source": [
    "## Some important dictionary methods:\n",
    "keys(), values(), item(), get(), clear()"
   ]
  },
  {
   "cell_type": "code",
   "execution_count": 23,
   "metadata": {},
   "outputs": [
    {
     "name": "stdout",
     "output_type": "stream",
     "text": [
      "dict_keys(['Mango', 'Apple', 'Guava', 'Pineapple'])\n"
     ]
    }
   ],
   "source": [
    "print(d.keys())  # prnits all the keys"
   ]
  },
  {
   "cell_type": "code",
   "execution_count": 24,
   "metadata": {},
   "outputs": [
    {
     "name": "stdout",
     "output_type": "stream",
     "text": [
      "dict_values([120, 80, 60, {'Small': 90, 'Large': 150}])\n"
     ]
    }
   ],
   "source": [
    "print(d.values())  #prints all values"
   ]
  },
  {
   "cell_type": "markdown",
   "metadata": {},
   "source": [
    "- we can get values by using keys inside square brackets: eg- a = dict_name[key])  \n",
    "  But if key is not found in the dictionary, then it throws an error.\n",
    "- get() method is another way of getting values from dictionary: eg- a = dict_name.get(key)  \n",
    "- get() method returns 'None' if key is not found in dictionary. Thus it is safe to use get() for accessing values if we are not sure about key is there is dict or not.\n"
   ]
  },
  {
   "cell_type": "code",
   "execution_count": 25,
   "metadata": {},
   "outputs": [
    {
     "name": "stdout",
     "output_type": "stream",
     "text": [
      "120\n",
      "None\n",
      "<class 'NoneType'>\n"
     ]
    }
   ],
   "source": [
    "print(d.get(\"Mango\"))\n",
    "print(d.get(\"Mangoes\"))\n",
    "print(type(d.get(\"Mangoes\")))"
   ]
  },
  {
   "cell_type": "code",
   "execution_count": 26,
   "metadata": {},
   "outputs": [
    {
     "name": "stdout",
     "output_type": "stream",
     "text": [
      "Doesn't exist\n"
     ]
    }
   ],
   "source": [
    "if \"Mangoes\" in d:\n",
    "    print(\"Price of Mango is %d\"%(d[\"Mango\"]))\n",
    "else:\n",
    "    print(\"Doesn't exist\")"
   ]
  },
  {
   "cell_type": "code",
   "execution_count": 27,
   "metadata": {},
   "outputs": [],
   "source": [
    "del d[\"Pineapple\"]  # to delete a value"
   ]
  },
  {
   "cell_type": "code",
   "execution_count": 33,
   "metadata": {},
   "outputs": [
    {
     "name": "stdout",
     "output_type": "stream",
     "text": [
      "dict_items([('Mango', 120), ('Apple', 80), ('Guava', 60)])\n",
      "('Mango', 120)\n",
      "('Apple', 80)\n",
      "('Guava', 60)\n",
      "Mango => 120\n",
      "Apple => 80\n",
      "Guava => 60\n"
     ]
    }
   ],
   "source": [
    "# items() returns us key,value pair tuples. This is used to view key-value pairs.\n",
    "# items() returns tuples for every key- value pair\n",
    "l = (d.items())   \n",
    "print(l)\n",
    "\n",
    "for x in d.items():\n",
    "    print(x)\n",
    "#or we can do like this:\n",
    "for k,v in d.items():\n",
    "    print(k, \"=>\", v)"
   ]
  },
  {
   "cell_type": "code",
   "execution_count": 38,
   "metadata": {},
   "outputs": [],
   "source": [
    "del d[\"Orange\"]"
   ]
  },
  {
   "cell_type": "code",
   "execution_count": 39,
   "metadata": {},
   "outputs": [
    {
     "name": "stdout",
     "output_type": "stream",
     "text": [
      "{'Mango': 120, 'Apple': 80, 'Guava': 60, 'Strawberry': 95}\n",
      "{'Mango': 120, 'Apple': 80, 'Guava': 60, 'Strawberry': 95, 'Orange': 90}\n"
     ]
    }
   ],
   "source": [
    "d2 = {\"Strawberry\":95}\n",
    "\n",
    "#update() methods inserts specified items to a dictionary\n",
    "#these specified items can be a dictionary also\n",
    "d.update(d2)    #here we insert dictionary 'd2' to dictionary 'd'\n",
    "print(d)\n",
    "\n",
    "d.update({\"Orange\" : 90})\n",
    "print(d)"
   ]
  },
  {
   "cell_type": "code",
   "execution_count": 40,
   "metadata": {},
   "outputs": [
    {
     "name": "stdout",
     "output_type": "stream",
     "text": [
      "5\n"
     ]
    }
   ],
   "source": [
    "print(len(d))"
   ]
  },
  {
   "cell_type": "code",
   "execution_count": 42,
   "metadata": {},
   "outputs": [
    {
     "name": "stdout",
     "output_type": "stream",
     "text": [
      "0\n"
     ]
    }
   ],
   "source": [
    "d.clear()      #deletes all elements of list\n",
    "print(len(d))\n",
    "\n",
    "del d  #deletes dictionary"
   ]
  },
  {
   "cell_type": "code",
   "execution_count": 53,
   "metadata": {},
   "outputs": [
    {
     "name": "stdout",
     "output_type": "stream",
     "text": [
      "<zip object at 0x7f7cd1cb9780>\n",
      "[(1, 'a', 'Harsh'), (2, 'b', 'Ashima'), (3, 'c', 'Deepshikha')]\n"
     ]
    }
   ],
   "source": [
    "#zip() converts 'n' iterables of same length into tuples of size 'n'\n",
    "numbers = [1, 2, 3]\n",
    "letters = ['a', 'b', 'c']\n",
    "names = [\"Harsh\", \"Ashima\", \"Deepshikha\"]\n",
    "a = zip(numbers, letters, names)\n",
    "print(a)  # this variable holds an iterator object. It shows address of zip as it stores zip now\n",
    "type(a)\n",
    "\n",
    "#zip is not callable. so we need to convert it to some other data structure\n",
    "print(list(a))"
   ]
  },
  {
   "cell_type": "code",
   "execution_count": 54,
   "metadata": {},
   "outputs": [
    {
     "name": "stdout",
     "output_type": "stream",
     "text": [
      "{'Apple': 100, 'Papaya': 120, 'Guava': 30, 'Banana': 50}\n",
      "<class 'dict'>\n"
     ]
    }
   ],
   "source": [
    "#using zip() to convert 2lists into 1 dictionary\n",
    "l1 = [\"Apple\",\"Papaya\",\"Guava\",\"Banana\"]\n",
    "l2 = [100,120,30,50]\n",
    "\n",
    "p = dict(zip(l1,l2))\n",
    "print(p)\n",
    "print(type(p))\n",
    "#eg- Here zip converts 2 lists into tuples of size 2 as: "
   ]
  },
  {
   "cell_type": "code",
   "execution_count": 55,
   "metadata": {},
   "outputs": [
    {
     "name": "stdout",
     "output_type": "stream",
     "text": [
      "100\n",
      "120\n",
      "30\n",
      "50\n"
     ]
    }
   ],
   "source": [
    "for k in p.values():     # iterate in values of dictionary\n",
    "    print(k)"
   ]
  },
  {
   "cell_type": "markdown",
   "metadata": {},
   "source": [
    "- keys in python can be any immutable DS."
   ]
  },
  {
   "cell_type": "code",
   "execution_count": 58,
   "metadata": {},
   "outputs": [
    {
     "name": "stdout",
     "output_type": "stream",
     "text": [
      "harsh\n"
     ]
    }
   ],
   "source": [
    "dic = {\n",
    "    (1,2) : \"harsh\"\n",
    "}\n",
    "\n",
    "print(dic[(1,2)])\n",
    "# tuple is immutable. So we can use tuple as key. But list is immutable. Using list will give\n",
    "# us an error here."
   ]
  },
  {
   "cell_type": "markdown",
   "metadata": {},
   "source": [
    "- There are many more functions in dictionaries like:  \n",
    "append(key:val) : to append data to a dictionary  \n",
    "pop(key) : removes element with given key   \n",
    "and many more.. "
   ]
  }
 ],
 "metadata": {
  "kernelspec": {
   "display_name": "Python 3 (ipykernel)",
   "language": "python",
   "name": "python3"
  },
  "language_info": {
   "codemirror_mode": {
    "name": "ipython",
    "version": 3
   },
   "file_extension": ".py",
   "mimetype": "text/x-python",
   "name": "python",
   "nbconvert_exporter": "python",
   "pygments_lexer": "ipython3",
   "version": "3.8.10"
  }
 },
 "nbformat": 4,
 "nbformat_minor": 2
}
