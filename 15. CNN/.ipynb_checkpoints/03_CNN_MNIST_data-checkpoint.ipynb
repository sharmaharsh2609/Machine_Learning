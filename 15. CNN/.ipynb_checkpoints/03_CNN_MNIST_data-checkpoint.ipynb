{
 "cells": [
  {
   "cell_type": "markdown",
   "metadata": {},
   "source": [
    "#### This is done inside google collab"
   ]
  },
  {
   "cell_type": "code",
   "execution_count": 3,
   "metadata": {
    "colab": {
     "base_uri": "https://localhost:8080/"
    },
    "executionInfo": {
     "elapsed": 692,
     "status": "ok",
     "timestamp": 1648293475688,
     "user": {
      "displayName": "Harsh Sharma",
      "photoUrl": "https://lh3.googleusercontent.com/a/default-user=s64",
      "userId": "05858076118442435203"
     },
     "user_tz": -330
    },
    "id": "9LdeRS9y8Y_C",
    "outputId": "3c40ec5f-e8d0-45a7-c941-330f7b5b99f9"
   },
   "outputs": [
    {
     "name": "stdout",
     "output_type": "stream",
     "text": [
      "sample_data\n"
     ]
    }
   ],
   "source": [
    "!ls "
   ]
  },
  {
   "cell_type": "code",
   "execution_count": null,
   "metadata": {
    "id": "5UQETGDk07a3"
   },
   "outputs": [],
   "source": [
    "from keras.layers import Conv2D, MaxPool2D, Dense, Flatten\n",
    "from keras.models import Sequential"
   ]
  },
  {
   "cell_type": "code",
   "execution_count": null,
   "metadata": {
    "colab": {
     "base_uri": "https://localhost:8080/"
    },
    "executionInfo": {
     "elapsed": 8,
     "status": "ok",
     "timestamp": 1648056328257,
     "user": {
      "displayName": "Harsh Sharma",
      "photoUrl": "https://lh3.googleusercontent.com/a/default-user=s64",
      "userId": "05858076118442435203"
     },
     "user_tz": -330
    },
    "id": "WST-1Hu11PYs",
    "outputId": "686f0788-8a56-4917-a5ed-a47032ab7d73"
   },
   "outputs": [
    {
     "name": "stdout",
     "output_type": "stream",
     "text": [
      "Model: \"sequential_1\"\n",
      "_________________________________________________________________\n",
      " Layer (type)                Output Shape              Param #   \n",
      "=================================================================\n",
      " conv2d_3 (Conv2D)           (None, 26, 26, 32)        320       \n",
      "                                                                 \n",
      " max_pooling2d_2 (MaxPooling  (None, 13, 13, 32)       0         \n",
      " 2D)                                                             \n",
      "                                                                 \n",
      " conv2d_4 (Conv2D)           (None, 11, 11, 64)        18496     \n",
      "                                                                 \n",
      " max_pooling2d_3 (MaxPooling  (None, 5, 5, 64)         0         \n",
      " 2D)                                                             \n",
      "                                                                 \n",
      " conv2d_5 (Conv2D)           (None, 3, 3, 64)          36928     \n",
      "                                                                 \n",
      " flatten_1 (Flatten)         (None, 576)               0         \n",
      "                                                                 \n",
      " dense_2 (Dense)             (None, 64)                36928     \n",
      "                                                                 \n",
      " dense_3 (Dense)             (None, 10)                650       \n",
      "                                                                 \n",
      "=================================================================\n",
      "Total params: 93,322\n",
      "Trainable params: 93,322\n",
      "Non-trainable params: 0\n",
      "_________________________________________________________________\n"
     ]
    }
   ],
   "source": [
    "# Build a Model \n",
    "\n",
    "model = Sequential()\n",
    "model.add(Conv2D(32,(3,3),activation='relu',input_shape=(28,28,1)))\n",
    "model.add(MaxPool2D((2,2)))\n",
    "## we can also write input_shape=.. in each layer to remember what shaoe it has.\n",
    "# However it does not affect anything. So don't write it.\n",
    "model.add(Conv2D(64,(3,3),activation='relu',input_shape=(28,28,1)))\n",
    "model.add(MaxPool2D((2,2)))\n",
    "model.add(Conv2D(64,(3,3),activation='relu',input_shape=(28,28,1)))\n",
    "model.add(Flatten())\n",
    "model.add(Dense(64,activation='relu'))\n",
    "model.add(Dense(10,activation='softmax'))\n",
    "model.summary()"
   ]
  },
  {
   "cell_type": "code",
   "execution_count": null,
   "metadata": {
    "id": "8mr8Swri1Tvw"
   },
   "outputs": [],
   "source": [
    "#Dataset\n",
    "from keras.datasets import mnist\n",
    "from tensorflow.keras.utils import to_categorical\n",
    "(XTrain,YTrain),(XTest,YTest) = mnist.load_data()"
   ]
  },
  {
   "cell_type": "markdown",
   "metadata": {
    "id": "2SVXrJWXzpe6"
   },
   "source": [
    "- to_categorical() is used for convertimg y_labels to one_hot_vectors."
   ]
  },
  {
   "cell_type": "code",
   "execution_count": null,
   "metadata": {
    "colab": {
     "base_uri": "https://localhost:8080/"
    },
    "executionInfo": {
     "elapsed": 362,
     "status": "ok",
     "timestamp": 1648056358101,
     "user": {
      "displayName": "Harsh Sharma",
      "photoUrl": "https://lh3.googleusercontent.com/a/default-user=s64",
      "userId": "05858076118442435203"
     },
     "user_tz": -330
    },
    "id": "mrwbR490z4Ep",
    "outputId": "ea47d2f2-5199-44e9-b08b-f939d50a4528"
   },
   "outputs": [
    {
     "data": {
      "text/plain": [
       "((60000, 28, 28), (60000,))"
      ]
     },
     "execution_count": 14,
     "metadata": {},
     "output_type": "execute_result"
    }
   ],
   "source": [
    "XTrain.shape , YTrain.shape"
   ]
  },
  {
   "cell_type": "code",
   "execution_count": null,
   "metadata": {
    "colab": {
     "base_uri": "https://localhost:8080/"
    },
    "executionInfo": {
     "elapsed": 12,
     "status": "ok",
     "timestamp": 1648055647980,
     "user": {
      "displayName": "Harsh Sharma",
      "photoUrl": "https://lh3.googleusercontent.com/a/default-user=s64",
      "userId": "05858076118442435203"
     },
     "user_tz": -330
    },
    "id": "imDDq6a81bLp",
    "outputId": "7cb3a397-ba68-42f0-eebd-d9ac2fabdc12"
   },
   "outputs": [
    {
     "name": "stdout",
     "output_type": "stream",
     "text": [
      "(60000, 28, 28, 1) (60000, 10)\n",
      "(10000, 28, 28, 1) (10000, 10)\n"
     ]
    }
   ],
   "source": [
    "def preprocess_data(X,Y):\n",
    "    X = X.reshape((-1,28,28,1))\n",
    "    X = X/255.0  # normalize data to range 0-1 intensity range.\n",
    "    Y = to_categorical(Y)   # convert Y to one hot vectors of size 10 as there are 10  classes.\n",
    "    return X,Y\n",
    "\n",
    "XTrain,YTrain = preprocess_data(XTrain,YTrain)\n",
    "print(XTrain.shape,YTrain.shape)\n",
    "\n",
    "XTest,YTest = preprocess_data(XTest,YTest)\n",
    "print(XTest.shape,YTest.shape)"
   ]
  },
  {
   "cell_type": "code",
   "execution_count": null,
   "metadata": {
    "id": "EsH7IgrJ2Yxx"
   },
   "outputs": [],
   "source": [
    "# Model Compilation\n",
    "model.compile(optimizer='adam',loss='categorical_crossentropy',metrics=['accuracy'])"
   ]
  },
  {
   "cell_type": "code",
   "execution_count": null,
   "metadata": {
    "colab": {
     "base_uri": "https://localhost:8080/",
     "height": 1000
    },
    "executionInfo": {
     "elapsed": 143900,
     "status": "error",
     "timestamp": 1648055791876,
     "user": {
      "displayName": "Harsh Sharma",
      "photoUrl": "https://lh3.googleusercontent.com/a/default-user=s64",
      "userId": "05858076118442435203"
     },
     "user_tz": -330
    },
    "id": "kFn8D-3M1eAb",
    "outputId": "72cf0a5b-60ba-4199-9b82-f15e46cbdf99"
   },
   "outputs": [
    {
     "name": "stdout",
     "output_type": "stream",
     "text": [
      "Epoch 1/20\n",
      "422/422 [==============================] - 16s 12ms/step - loss: 0.2761 - accuracy: 0.9180 - val_loss: 0.0726 - val_accuracy: 0.9772\n",
      "Epoch 2/20\n",
      "422/422 [==============================] - 4s 10ms/step - loss: 0.0667 - accuracy: 0.9794 - val_loss: 0.0481 - val_accuracy: 0.9858\n",
      "Epoch 3/20\n",
      "422/422 [==============================] - 4s 10ms/step - loss: 0.0451 - accuracy: 0.9855 - val_loss: 0.0391 - val_accuracy: 0.9895\n",
      "Epoch 4/20\n",
      "422/422 [==============================] - 4s 10ms/step - loss: 0.0355 - accuracy: 0.9882 - val_loss: 0.0431 - val_accuracy: 0.9875\n",
      "Epoch 5/20\n",
      "422/422 [==============================] - 4s 10ms/step - loss: 0.0277 - accuracy: 0.9911 - val_loss: 0.0384 - val_accuracy: 0.9887\n",
      "Epoch 6/20\n",
      "422/422 [==============================] - 4s 10ms/step - loss: 0.0247 - accuracy: 0.9919 - val_loss: 0.0361 - val_accuracy: 0.9907\n",
      "Epoch 7/20\n",
      "422/422 [==============================] - 4s 10ms/step - loss: 0.0192 - accuracy: 0.9938 - val_loss: 0.0379 - val_accuracy: 0.9900\n",
      "Epoch 8/20\n",
      "422/422 [==============================] - 4s 11ms/step - loss: 0.0176 - accuracy: 0.9942 - val_loss: 0.0382 - val_accuracy: 0.9902\n",
      "Epoch 9/20\n",
      "422/422 [==============================] - 4s 10ms/step - loss: 0.0150 - accuracy: 0.9950 - val_loss: 0.0394 - val_accuracy: 0.9902\n",
      "Epoch 10/20\n",
      "422/422 [==============================] - 4s 10ms/step - loss: 0.0115 - accuracy: 0.9963 - val_loss: 0.0416 - val_accuracy: 0.9900\n",
      "Epoch 11/20\n",
      "422/422 [==============================] - 4s 10ms/step - loss: 0.0109 - accuracy: 0.9963 - val_loss: 0.0350 - val_accuracy: 0.9917\n",
      "Epoch 12/20\n",
      "422/422 [==============================] - 4s 10ms/step - loss: 0.0096 - accuracy: 0.9968 - val_loss: 0.0298 - val_accuracy: 0.9930\n",
      "Epoch 13/20\n",
      "422/422 [==============================] - 5s 11ms/step - loss: 0.0095 - accuracy: 0.9965 - val_loss: 0.0463 - val_accuracy: 0.9910\n",
      "Epoch 14/20\n",
      "422/422 [==============================] - 4s 10ms/step - loss: 0.0077 - accuracy: 0.9974 - val_loss: 0.0407 - val_accuracy: 0.9912\n",
      "Epoch 15/20\n",
      "422/422 [==============================] - 4s 11ms/step - loss: 0.0062 - accuracy: 0.9979 - val_loss: 0.0490 - val_accuracy: 0.9890\n",
      "Epoch 16/20\n",
      "422/422 [==============================] - 4s 11ms/step - loss: 0.0067 - accuracy: 0.9977 - val_loss: 0.0358 - val_accuracy: 0.9910\n",
      "Epoch 17/20\n",
      "422/422 [==============================] - 4s 11ms/step - loss: 0.0070 - accuracy: 0.9977 - val_loss: 0.0429 - val_accuracy: 0.9915\n",
      "Epoch 18/20\n",
      "422/422 [==============================] - 4s 10ms/step - loss: 0.0053 - accuracy: 0.9983 - val_loss: 0.0383 - val_accuracy: 0.9917\n",
      "Epoch 19/20\n",
      "422/422 [==============================] - 4s 10ms/step - loss: 0.0057 - accuracy: 0.9980 - val_loss: 0.0413 - val_accuracy: 0.9920\n",
      "Epoch 20/20\n",
      "422/422 [==============================] - 4s 10ms/step - loss: 0.0054 - accuracy: 0.9982 - val_loss: 0.0358 - val_accuracy: 0.9923\n"
     ]
    },
    {
     "ename": "KeyboardInterrupt",
     "evalue": "ignored",
     "output_type": "error",
     "traceback": [
      "\u001b[0;31m---------------------------------------------------------------------------\u001b[0m",
      "\u001b[0;31mKeyboardInterrupt\u001b[0m                         Traceback (most recent call last)",
      "\u001b[0;32m<ipython-input-5-db697f05323e>\u001b[0m in \u001b[0;36m<module>\u001b[0;34m()\u001b[0m\n\u001b[1;32m      1\u001b[0m \u001b[0;31m# Model Compilation\u001b[0m\u001b[0;34m\u001b[0m\u001b[0;34m\u001b[0m\u001b[0;34m\u001b[0m\u001b[0m\n\u001b[1;32m      2\u001b[0m \u001b[0mmodel\u001b[0m\u001b[0;34m.\u001b[0m\u001b[0mcompile\u001b[0m\u001b[0;34m(\u001b[0m\u001b[0moptimizer\u001b[0m\u001b[0;34m=\u001b[0m\u001b[0;34m'adam'\u001b[0m\u001b[0;34m,\u001b[0m\u001b[0mloss\u001b[0m\u001b[0;34m=\u001b[0m\u001b[0;34m'categorical_crossentropy'\u001b[0m\u001b[0;34m,\u001b[0m\u001b[0mmetrics\u001b[0m\u001b[0;34m=\u001b[0m\u001b[0;34m[\u001b[0m\u001b[0;34m'accuracy'\u001b[0m\u001b[0;34m]\u001b[0m\u001b[0;34m)\u001b[0m\u001b[0;34m\u001b[0m\u001b[0;34m\u001b[0m\u001b[0m\n\u001b[0;32m----> 3\u001b[0;31m \u001b[0mhist\u001b[0m \u001b[0;34m=\u001b[0m \u001b[0mmodel\u001b[0m\u001b[0;34m.\u001b[0m\u001b[0mfit\u001b[0m\u001b[0;34m(\u001b[0m\u001b[0mXTrain\u001b[0m\u001b[0;34m,\u001b[0m\u001b[0mYTrain\u001b[0m\u001b[0;34m,\u001b[0m\u001b[0mepochs\u001b[0m\u001b[0;34m=\u001b[0m\u001b[0;36m20\u001b[0m\u001b[0;34m,\u001b[0m\u001b[0mvalidation_split\u001b[0m\u001b[0;34m=\u001b[0m\u001b[0;36m0.1\u001b[0m\u001b[0;34m,\u001b[0m\u001b[0mbatch_size\u001b[0m\u001b[0;34m=\u001b[0m\u001b[0;36m128\u001b[0m\u001b[0;34m)\u001b[0m\u001b[0;34m\u001b[0m\u001b[0;34m\u001b[0m\u001b[0m\n\u001b[0m",
      "\u001b[0;32m/usr/local/lib/python3.7/dist-packages/keras/utils/traceback_utils.py\u001b[0m in \u001b[0;36merror_handler\u001b[0;34m(*args, **kwargs)\u001b[0m\n\u001b[1;32m     62\u001b[0m     \u001b[0mfiltered_tb\u001b[0m \u001b[0;34m=\u001b[0m \u001b[0;32mNone\u001b[0m\u001b[0;34m\u001b[0m\u001b[0;34m\u001b[0m\u001b[0m\n\u001b[1;32m     63\u001b[0m     \u001b[0;32mtry\u001b[0m\u001b[0;34m:\u001b[0m\u001b[0;34m\u001b[0m\u001b[0;34m\u001b[0m\u001b[0m\n\u001b[0;32m---> 64\u001b[0;31m       \u001b[0;32mreturn\u001b[0m \u001b[0mfn\u001b[0m\u001b[0;34m(\u001b[0m\u001b[0;34m*\u001b[0m\u001b[0margs\u001b[0m\u001b[0;34m,\u001b[0m \u001b[0;34m**\u001b[0m\u001b[0mkwargs\u001b[0m\u001b[0;34m)\u001b[0m\u001b[0;34m\u001b[0m\u001b[0;34m\u001b[0m\u001b[0m\n\u001b[0m\u001b[1;32m     65\u001b[0m     \u001b[0;32mexcept\u001b[0m \u001b[0mException\u001b[0m \u001b[0;32mas\u001b[0m \u001b[0me\u001b[0m\u001b[0;34m:\u001b[0m  \u001b[0;31m# pylint: disable=broad-except\u001b[0m\u001b[0;34m\u001b[0m\u001b[0;34m\u001b[0m\u001b[0m\n\u001b[1;32m     66\u001b[0m       \u001b[0mfiltered_tb\u001b[0m \u001b[0;34m=\u001b[0m \u001b[0m_process_traceback_frames\u001b[0m\u001b[0;34m(\u001b[0m\u001b[0me\u001b[0m\u001b[0;34m.\u001b[0m\u001b[0m__traceback__\u001b[0m\u001b[0;34m)\u001b[0m\u001b[0;34m\u001b[0m\u001b[0;34m\u001b[0m\u001b[0m\n",
      "\u001b[0;31mKeyboardInterrupt\u001b[0m: "
     ]
    }
   ],
   "source": [
    "# training\n",
    "hist = model.fit(XTrain,YTrain,epochs=20,validation_split=0.1,batch_size=128)"
   ]
  },
  {
   "cell_type": "code",
   "execution_count": null,
   "metadata": {
    "id": "QqoMHU4-1sib"
   },
   "outputs": [],
   "source": [
    "model.evaluate(XTest,YTest)"
   ]
  },
  {
   "cell_type": "markdown",
   "metadata": {
    "id": "jPGjBMvhU0Q3"
   },
   "source": [
    "## **Model now giving 99% accuracy !!** "
   ]
  },
  {
   "cell_type": "code",
   "execution_count": null,
   "metadata": {
    "id": "ilhUQvX8UblL"
   },
   "outputs": [],
   "source": [
    "y_pred = model.predict(XTest)\n",
    "\n",
    "from sklearn.metrics import r2_score\n",
    "r2_score = r2_score(YTest, y_pred)\n",
    "print(r2_score)"
   ]
  },
  {
   "cell_type": "code",
   "execution_count": null,
   "metadata": {
    "id": "3NS_ZNnQ2Q3u"
   },
   "outputs": [],
   "source": [
    "# Build a Model without Pooling?\n",
    "# Why Pooling is Important -> Reduce Params, Increase Receptive Field of the Network!\n",
    "\n",
    "model = Sequential()\n",
    "model.add(Conv2D(32,(3,3),activation='relu',input_shape=(28,28,1)))\n",
    "#model.add(MaxPool2D((2,2)))\n",
    "model.add(Conv2D(64,(3,3),activation='relu',input_shape=(28,28,1)))\n",
    "#model.add(MaxPool2D((2,2)))\n",
    "model.add(Conv2D(64,(3,3),activation='relu',input_shape=(28,28,1)))\n",
    "model.add(Flatten())\n",
    "model.add(Dense(64,activation='relu'))\n",
    "model.add(Dense(10,activation='softmax'))\n",
    "model.summary()"
   ]
  },
  {
   "cell_type": "code",
   "execution_count": null,
   "metadata": {
    "id": "E9cGd4X7UEPj"
   },
   "outputs": [],
   "source": []
  }
 ],
 "metadata": {
  "accelerator": "GPU",
  "colab": {
   "collapsed_sections": [],
   "name": "06_CNN_MNIST_data.ipynb",
   "provenance": []
  },
  "kernelspec": {
   "display_name": "Python 3 (ipykernel)",
   "language": "python",
   "name": "python3"
  },
  "language_info": {
   "codemirror_mode": {
    "name": "ipython",
    "version": 3
   },
   "file_extension": ".py",
   "mimetype": "text/x-python",
   "name": "python",
   "nbconvert_exporter": "python",
   "pygments_lexer": "ipython3",
   "version": "3.8.10"
  }
 },
 "nbformat": 4,
 "nbformat_minor": 1
}
