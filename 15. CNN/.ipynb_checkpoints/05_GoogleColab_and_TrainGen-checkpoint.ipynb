{
 "cells": [
  {
   "cell_type": "markdown",
   "metadata": {},
   "source": [
    "- Download data on google collab first"
   ]
  },
  {
   "cell_type": "code",
   "execution_count": 1,
   "metadata": {
    "colab": {
     "base_uri": "https://localhost:8080/"
    },
    "executionInfo": {
     "elapsed": 8055,
     "status": "ok",
     "timestamp": 1648367354133,
     "user": {
      "displayName": "Harsh Sharma",
      "photoUrl": "https://lh3.googleusercontent.com/a/default-user=s64",
      "userId": "05858076118442435203"
     },
     "user_tz": -330
    },
    "id": "OuoVRdkFWX4n",
    "outputId": "2d35f461-6f85-4a92-923a-807cf7f5c736"
   },
   "outputs": [
    {
     "name": "stdout",
     "output_type": "stream",
     "text": [
      "--2022-03-27 07:49:06--  https://www.dropbox.com/sh/2idnozs4741hzkr/AABXTlPlU-1f4L_VdS4wY06ca?dl=0\n",
      "Resolving www.dropbox.com (www.dropbox.com)... 162.125.3.18, 2620:100:6018:18::a27d:312\n",
      "Connecting to www.dropbox.com (www.dropbox.com)|162.125.3.18|:443... connected.\n",
      "HTTP request sent, awaiting response... 301 Moved Permanently\n",
      "Location: /sh/raw/2idnozs4741hzkr/AABXTlPlU-1f4L_VdS4wY06ca [following]\n",
      "--2022-03-27 07:49:06--  https://www.dropbox.com/sh/raw/2idnozs4741hzkr/AABXTlPlU-1f4L_VdS4wY06ca\n",
      "Reusing existing connection to www.dropbox.com:443.\n",
      "HTTP request sent, awaiting response... 302 Found\n",
      "Location: https://uc3d0609a7709f8246c0577ec402.dl.dropboxusercontent.com/zip_download_get/BFpNT0IEsKN1a-HaoMFgHFlngypem-6md4Ylu1dFhVGDDkIeCOF2go3FjLtdeZgvb8HetVmc0Yj0NWvH-hthKrZ0dKd6mlVaf0eGtGephH9qZw# [following]\n",
      "--2022-03-27 07:49:07--  https://uc3d0609a7709f8246c0577ec402.dl.dropboxusercontent.com/zip_download_get/BFpNT0IEsKN1a-HaoMFgHFlngypem-6md4Ylu1dFhVGDDkIeCOF2go3FjLtdeZgvb8HetVmc0Yj0NWvH-hthKrZ0dKd6mlVaf0eGtGephH9qZw\n",
      "Resolving uc3d0609a7709f8246c0577ec402.dl.dropboxusercontent.com (uc3d0609a7709f8246c0577ec402.dl.dropboxusercontent.com)... 162.125.8.15, 2620:100:601b:15::a27d:80f\n",
      "Connecting to uc3d0609a7709f8246c0577ec402.dl.dropboxusercontent.com (uc3d0609a7709f8246c0577ec402.dl.dropboxusercontent.com)|162.125.8.15|:443... connected.\n",
      "HTTP request sent, awaiting response... 200 OK\n",
      "Length: 20870908 (20M) [application/zip]\n",
      "Saving to: ‘AABXTlPlU-1f4L_VdS4wY06ca?dl=0’\n",
      "\n",
      "AABXTlPlU-1f4L_VdS4 100%[===================>]  19.90M  3.63MB/s    in 6.2s    \n",
      "\n",
      "2022-03-27 07:49:13 (3.19 MB/s) - ‘AABXTlPlU-1f4L_VdS4wY06ca?dl=0’ saved [20870908/20870908]\n",
      "\n"
     ]
    }
   ],
   "source": [
    "!wget https://www.dropbox.com/sh/2idnozs4741hzkr/AABXTlPlU-1f4L_VdS4wY06ca?dl=0"
   ]
  },
  {
   "cell_type": "code",
   "execution_count": 3,
   "metadata": {
    "colab": {
     "base_uri": "https://localhost:8080/"
    },
    "executionInfo": {
     "elapsed": 1061,
     "status": "ok",
     "timestamp": 1648367383983,
     "user": {
      "displayName": "Harsh Sharma",
      "photoUrl": "https://lh3.googleusercontent.com/a/default-user=s64",
      "userId": "05858076118442435203"
     },
     "user_tz": -330
    },
    "id": "d4a2PHO1WbfT",
    "outputId": "1e6f24d3-257f-404d-e6fc-a39d325752b9"
   },
   "outputs": [
    {
     "name": "stdout",
     "output_type": "stream",
     "text": [
      "Archive:  AABXTlPlU-1f4L_VdS4wY06ca?dl=0\n",
      "warning:  stripped absolute path spec from /\n",
      "mapname:  conversion of  failed\n",
      "   creating: Images/\n",
      "   creating: Images/cats/\n",
      "   creating: Images/dogs/\n",
      "   creating: Images/horses/\n",
      "   creating: Images/humans/\n",
      " extracting: Images/cats/cat.1.jpg   \n",
      " extracting: Images/cats/cat.2.jpg   \n",
      " extracting: Images/cats/cat.3.jpg   \n",
      " extracting: Images/cats/cat.4.jpg   \n",
      " extracting: Images/cats/cat.5.jpg   \n",
      " extracting: Images/cats/cat.6.jpg   \n",
      " extracting: Images/cats/cat.7.jpg   \n",
      " extracting: Images/cats/cat.8.jpg   \n",
      " extracting: Images/cats/cat.9.jpg   \n",
      " extracting: Images/dogs/dog.1.jpg   \n",
      " extracting: Images/dogs/dog.2.jpg   \n",
      " extracting: Images/dogs/dog.3.jpg   \n",
      " extracting: Images/dogs/dog.4.jpg   \n",
      " extracting: Images/dogs/dog.5.jpg   \n",
      " extracting: Images/dogs/dog.6.jpg   \n",
      " extracting: Images/dogs/dog.7.jpg   \n",
      " extracting: Images/dogs/dog.8.jpg   \n",
      " extracting: Images/dogs/dog.9.jpg   \n",
      " extracting: Images/cats/cat.10.jpg  \n",
      " extracting: Images/cats/cat.11.jpg  \n",
      " extracting: Images/cats/cat.12.jpg  \n",
      " extracting: Images/cats/cat.13.jpg  \n",
      " extracting: Images/cats/cat.14.jpg  \n",
      " extracting: Images/cats/cat.15.jpg  \n",
      " extracting: Images/cats/cat.16.jpg  \n",
      " extracting: Images/cats/cat.17.jpg  \n",
      " extracting: Images/cats/cat.18.jpg  \n",
      " extracting: Images/cats/cat.19.jpg  \n",
      " extracting: Images/cats/cat.20.jpg  \n",
      " extracting: Images/cats/cat.21.jpg  \n",
      " extracting: Images/cats/cat.22.jpg  \n",
      " extracting: Images/cats/cat.23.jpg  \n",
      " extracting: Images/cats/cat.24.jpg  \n",
      " extracting: Images/cats/cat.25.jpg  \n",
      " extracting: Images/cats/cat.26.jpg  \n",
      " extracting: Images/cats/cat.27.jpg  \n",
      " extracting: Images/cats/cat.28.jpg  \n",
      " extracting: Images/cats/cat.29.jpg  \n",
      " extracting: Images/cats/cat.30.jpg  \n",
      " extracting: Images/cats/cat.31.jpg  \n",
      " extracting: Images/cats/cat.32.jpg  \n",
      " extracting: Images/cats/cat.33.jpg  \n",
      " extracting: Images/cats/cat.34.jpg  \n",
      " extracting: Images/cats/cat.35.jpg  \n",
      " extracting: Images/cats/cat.36.jpg  \n",
      " extracting: Images/cats/cat.37.jpg  \n",
      " extracting: Images/cats/cat.38.jpg  \n",
      " extracting: Images/cats/cat.39.jpg  \n",
      " extracting: Images/cats/cat.40.jpg  \n",
      " extracting: Images/cats/cat.41.jpg  \n",
      " extracting: Images/cats/cat.42.jpg  \n",
      " extracting: Images/cats/cat.43.jpg  \n",
      " extracting: Images/cats/cat.44.jpg  \n",
      " extracting: Images/cats/cat.45.jpg  \n",
      " extracting: Images/cats/cat.46.jpg  \n",
      " extracting: Images/cats/cat.47.jpg  \n",
      " extracting: Images/cats/cat.48.jpg  \n",
      " extracting: Images/cats/cat.49.jpg  \n",
      " extracting: Images/cats/cat.50.jpg  \n",
      " extracting: Images/cats/cat.51.jpg  \n",
      " extracting: Images/cats/cat.52.jpg  \n",
      " extracting: Images/cats/cat.53.jpg  \n",
      " extracting: Images/cats/cat.54.jpg  \n",
      " extracting: Images/cats/cat.55.jpg  \n",
      " extracting: Images/cats/cat.56.jpg  \n",
      " extracting: Images/cats/cat.57.jpg  \n",
      " extracting: Images/cats/cat.58.jpg  \n",
      " extracting: Images/cats/cat.59.jpg  \n",
      " extracting: Images/cats/cat.60.jpg  \n",
      " extracting: Images/cats/cat.61.jpg  \n",
      " extracting: Images/cats/cat.62.jpg  \n",
      " extracting: Images/cats/cat.63.jpg  \n",
      " extracting: Images/cats/cat.64.jpg  \n",
      " extracting: Images/cats/cat.65.jpg  \n",
      " extracting: Images/cats/cat.66.jpg  \n",
      " extracting: Images/cats/cat.67.jpg  \n",
      " extracting: Images/cats/cat.68.jpg  \n",
      " extracting: Images/cats/cat.69.jpg  \n",
      " extracting: Images/cats/cat.70.jpg  \n",
      " extracting: Images/cats/cat.71.jpg  \n",
      " extracting: Images/cats/cat.72.jpg  \n",
      " extracting: Images/cats/cat.73.jpg  \n",
      " extracting: Images/cats/cat.74.jpg  \n",
      " extracting: Images/cats/cat.75.jpg  \n",
      " extracting: Images/cats/cat.76.jpg  \n",
      " extracting: Images/cats/cat.77.jpg  \n",
      " extracting: Images/cats/cat.78.jpg  \n",
      " extracting: Images/cats/cat.79.jpg  \n",
      " extracting: Images/cats/cat.80.jpg  \n",
      " extracting: Images/cats/cat.81.jpg  \n",
      " extracting: Images/cats/cat.82.jpg  \n",
      " extracting: Images/cats/cat.83.jpg  \n",
      " extracting: Images/cats/cat.84.jpg  \n",
      " extracting: Images/cats/cat.85.jpg  \n",
      " extracting: Images/cats/cat.86.jpg  \n",
      " extracting: Images/cats/cat.87.jpg  \n",
      " extracting: Images/cats/cat.88.jpg  \n",
      " extracting: Images/cats/cat.89.jpg  \n",
      " extracting: Images/cats/cat.90.jpg  \n",
      " extracting: Images/cats/cat.91.jpg  \n",
      " extracting: Images/cats/cat.92.jpg  \n",
      " extracting: Images/cats/cat.93.jpg  \n",
      " extracting: Images/cats/cat.94.jpg  \n",
      " extracting: Images/cats/cat.95.jpg  \n",
      " extracting: Images/cats/cat.96.jpg  \n",
      " extracting: Images/cats/cat.97.jpg  \n",
      " extracting: Images/cats/cat.98.jpg  \n",
      " extracting: Images/cats/cat.99.jpg  \n",
      " extracting: Images/dogs/dog.10.jpg  \n",
      " extracting: Images/dogs/dog.11.jpg  \n",
      " extracting: Images/dogs/dog.12.jpg  \n",
      " extracting: Images/dogs/dog.13.jpg  \n",
      " extracting: Images/dogs/dog.14.jpg  \n",
      " extracting: Images/dogs/dog.15.jpg  \n",
      " extracting: Images/dogs/dog.16.jpg  \n",
      " extracting: Images/dogs/dog.17.jpg  \n",
      " extracting: Images/dogs/dog.18.jpg  \n",
      " extracting: Images/dogs/dog.19.jpg  \n",
      " extracting: Images/dogs/dog.20.jpg  \n",
      " extracting: Images/dogs/dog.21.jpg  \n",
      " extracting: Images/dogs/dog.22.jpg  \n",
      " extracting: Images/dogs/dog.23.jpg  \n",
      " extracting: Images/dogs/dog.24.jpg  \n",
      " extracting: Images/dogs/dog.25.jpg  \n",
      " extracting: Images/dogs/dog.26.jpg  \n",
      " extracting: Images/dogs/dog.27.jpg  \n",
      " extracting: Images/dogs/dog.28.jpg  \n",
      " extracting: Images/dogs/dog.29.jpg  \n",
      " extracting: Images/dogs/dog.30.jpg  \n",
      " extracting: Images/dogs/dog.31.jpg  \n",
      " extracting: Images/dogs/dog.32.jpg  \n",
      " extracting: Images/dogs/dog.33.jpg  \n",
      " extracting: Images/dogs/dog.34.jpg  \n",
      " extracting: Images/dogs/dog.35.jpg  \n",
      " extracting: Images/dogs/dog.36.jpg  \n",
      " extracting: Images/dogs/dog.37.jpg  \n",
      " extracting: Images/dogs/dog.38.jpg  \n",
      " extracting: Images/dogs/dog.39.jpg  \n",
      " extracting: Images/dogs/dog.40.jpg  \n",
      " extracting: Images/dogs/dog.41.jpg  \n",
      " extracting: Images/dogs/dog.42.jpg  \n",
      " extracting: Images/dogs/dog.43.jpg  \n",
      " extracting: Images/dogs/dog.44.jpg  \n",
      " extracting: Images/dogs/dog.45.jpg  \n",
      " extracting: Images/dogs/dog.46.jpg  \n",
      " extracting: Images/dogs/dog.47.jpg  \n",
      " extracting: Images/dogs/dog.48.jpg  \n",
      " extracting: Images/dogs/dog.49.jpg  \n",
      " extracting: Images/dogs/dog.50.jpg  \n",
      " extracting: Images/dogs/dog.51.jpg  \n",
      " extracting: Images/dogs/dog.52.jpg  \n",
      " extracting: Images/dogs/dog.53.jpg  \n",
      " extracting: Images/dogs/dog.54.jpg  \n",
      " extracting: Images/dogs/dog.55.jpg  \n",
      " extracting: Images/dogs/dog.56.jpg  \n",
      " extracting: Images/dogs/dog.57.jpg  \n",
      " extracting: Images/dogs/dog.58.jpg  \n",
      " extracting: Images/dogs/dog.59.jpg  \n",
      " extracting: Images/dogs/dog.60.jpg  \n",
      " extracting: Images/dogs/dog.61.jpg  \n",
      " extracting: Images/dogs/dog.62.jpg  \n",
      " extracting: Images/dogs/dog.63.jpg  \n",
      " extracting: Images/dogs/dog.64.jpg  \n",
      " extracting: Images/dogs/dog.65.jpg  \n",
      " extracting: Images/dogs/dog.66.jpg  \n",
      " extracting: Images/dogs/dog.67.jpg  \n",
      " extracting: Images/dogs/dog.68.jpg  \n",
      " extracting: Images/dogs/dog.69.jpg  \n",
      " extracting: Images/dogs/dog.70.jpg  \n",
      " extracting: Images/dogs/dog.71.jpg  \n",
      " extracting: Images/dogs/dog.72.jpg  \n",
      " extracting: Images/dogs/dog.73.jpg  \n",
      " extracting: Images/dogs/dog.74.jpg  \n",
      " extracting: Images/dogs/dog.75.jpg  \n",
      " extracting: Images/dogs/dog.76.jpg  \n",
      " extracting: Images/dogs/dog.77.jpg  \n",
      " extracting: Images/dogs/dog.78.jpg  \n",
      " extracting: Images/dogs/dog.79.jpg  \n",
      " extracting: Images/dogs/dog.80.jpg  \n",
      " extracting: Images/dogs/dog.81.jpg  \n",
      " extracting: Images/dogs/dog.82.jpg  \n",
      " extracting: Images/dogs/dog.83.jpg  \n",
      " extracting: Images/dogs/dog.84.jpg  \n",
      " extracting: Images/dogs/dog.85.jpg  \n",
      " extracting: Images/dogs/dog.86.jpg  \n",
      " extracting: Images/dogs/dog.87.jpg  \n",
      " extracting: Images/dogs/dog.88.jpg  \n",
      " extracting: Images/dogs/dog.89.jpg  \n",
      " extracting: Images/dogs/dog.90.jpg  \n",
      " extracting: Images/dogs/dog.91.jpg  \n",
      " extracting: Images/dogs/dog.92.jpg  \n",
      " extracting: Images/dogs/dog.93.jpg  \n",
      " extracting: Images/dogs/dog.94.jpg  \n",
      " extracting: Images/dogs/dog.95.jpg  \n",
      " extracting: Images/dogs/dog.96.jpg  \n",
      " extracting: Images/dogs/dog.97.jpg  \n",
      " extracting: Images/dogs/dog.98.jpg  \n",
      " extracting: Images/dogs/dog.99.jpg  \n",
      " extracting: Images/cats/cat.100.jpg  \n",
      " extracting: Images/cats/cat.101.jpg  \n",
      " extracting: Images/cats/cat.102.jpg  \n",
      " extracting: Images/cats/cat.103.jpg  \n",
      " extracting: Images/cats/cat.104.jpg  \n",
      " extracting: Images/cats/cat.105.jpg  \n",
      " extracting: Images/cats/cat.106.jpg  \n",
      " extracting: Images/cats/cat.107.jpg  \n",
      " extracting: Images/cats/cat.108.jpg  \n",
      " extracting: Images/cats/cat.109.jpg  \n",
      " extracting: Images/cats/cat.110.jpg  \n",
      " extracting: Images/cats/cat.111.jpg  \n",
      " extracting: Images/cats/cat.112.jpg  \n",
      " extracting: Images/cats/cat.113.jpg  \n",
      " extracting: Images/cats/cat.114.jpg  \n",
      " extracting: Images/cats/cat.115.jpg  \n",
      " extracting: Images/cats/cat.116.jpg  \n",
      " extracting: Images/cats/cat.117.jpg  \n",
      " extracting: Images/cats/cat.118.jpg  \n",
      " extracting: Images/cats/cat.119.jpg  \n",
      " extracting: Images/cats/cat.120.jpg  \n",
      " extracting: Images/cats/cat.121.jpg  \n",
      " extracting: Images/cats/cat.122.jpg  \n",
      " extracting: Images/cats/cat.123.jpg  \n",
      " extracting: Images/cats/cat.124.jpg  \n",
      " extracting: Images/cats/cat.125.jpg  \n",
      " extracting: Images/cats/cat.126.jpg  \n",
      " extracting: Images/cats/cat.127.jpg  \n",
      " extracting: Images/cats/cat.128.jpg  \n",
      " extracting: Images/cats/cat.129.jpg  \n",
      " extracting: Images/cats/cat.130.jpg  \n",
      " extracting: Images/cats/cat.131.jpg  \n",
      " extracting: Images/cats/cat.132.jpg  \n",
      " extracting: Images/cats/cat.133.jpg  \n",
      " extracting: Images/cats/cat.134.jpg  \n",
      " extracting: Images/cats/cat.135.jpg  \n",
      " extracting: Images/cats/cat.136.jpg  \n",
      " extracting: Images/cats/cat.137.jpg  \n",
      " extracting: Images/cats/cat.138.jpg  \n",
      " extracting: Images/cats/cat.139.jpg  \n",
      " extracting: Images/cats/cat.140.jpg  \n",
      " extracting: Images/cats/cat.141.jpg  \n",
      " extracting: Images/cats/cat.142.jpg  \n",
      " extracting: Images/cats/cat.143.jpg  \n",
      " extracting: Images/cats/cat.144.jpg  \n",
      " extracting: Images/cats/cat.145.jpg  \n",
      " extracting: Images/cats/cat.146.jpg  \n",
      " extracting: Images/cats/cat.147.jpg  \n",
      " extracting: Images/cats/cat.148.jpg  \n",
      " extracting: Images/cats/cat.149.jpg  \n",
      " extracting: Images/cats/cat.150.jpg  \n",
      " extracting: Images/cats/cat.151.jpg  \n",
      " extracting: Images/cats/cat.152.jpg  \n",
      " extracting: Images/cats/cat.153.jpg  \n",
      " extracting: Images/cats/cat.154.jpg  \n",
      " extracting: Images/cats/cat.155.jpg  \n",
      " extracting: Images/cats/cat.156.jpg  \n",
      " extracting: Images/cats/cat.157.jpg  \n",
      " extracting: Images/cats/cat.158.jpg  \n",
      " extracting: Images/cats/cat.159.jpg  \n",
      " extracting: Images/cats/cat.160.jpg  \n",
      " extracting: Images/cats/cat.161.jpg  \n",
      " extracting: Images/cats/cat.162.jpg  \n",
      " extracting: Images/cats/cat.163.jpg  \n",
      " extracting: Images/cats/cat.164.jpg  \n",
      " extracting: Images/cats/cat.165.jpg  \n",
      " extracting: Images/cats/cat.166.jpg  \n",
      " extracting: Images/cats/cat.167.jpg  \n",
      " extracting: Images/cats/cat.168.jpg  \n",
      " extracting: Images/cats/cat.169.jpg  \n",
      " extracting: Images/cats/cat.170.jpg  \n",
      " extracting: Images/cats/cat.171.jpg  \n",
      " extracting: Images/cats/cat.172.jpg  \n",
      " extracting: Images/cats/cat.173.jpg  \n",
      " extracting: Images/cats/cat.174.jpg  \n",
      " extracting: Images/cats/cat.175.jpg  \n",
      " extracting: Images/cats/cat.176.jpg  \n",
      " extracting: Images/cats/cat.177.jpg  \n",
      " extracting: Images/cats/cat.178.jpg  \n",
      " extracting: Images/cats/cat.179.jpg  \n",
      " extracting: Images/cats/cat.180.jpg  \n",
      " extracting: Images/cats/cat.181.jpg  \n",
      " extracting: Images/cats/cat.182.jpg  \n",
      " extracting: Images/cats/cat.183.jpg  \n",
      " extracting: Images/cats/cat.184.jpg  \n",
      " extracting: Images/cats/cat.185.jpg  \n",
      " extracting: Images/cats/cat.186.jpg  \n",
      " extracting: Images/cats/cat.187.jpg  \n",
      " extracting: Images/cats/cat.188.jpg  \n",
      " extracting: Images/cats/cat.189.jpg  \n",
      " extracting: Images/cats/cat.190.jpg  \n",
      " extracting: Images/cats/cat.191.jpg  \n",
      " extracting: Images/cats/cat.192.jpg  \n",
      " extracting: Images/cats/cat.193.jpg  \n",
      " extracting: Images/cats/cat.194.jpg  \n",
      " extracting: Images/cats/cat.195.jpg  \n",
      " extracting: Images/cats/cat.196.jpg  \n",
      " extracting: Images/cats/cat.197.jpg  \n",
      " extracting: Images/cats/cat.198.jpg  \n",
      " extracting: Images/cats/cat.199.jpg  \n",
      " extracting: Images/cats/cat.200.jpg  \n",
      " extracting: Images/cats/cat.201.jpg  \n",
      " extracting: Images/cats/cat.202.jpg  \n",
      " extracting: Images/dogs/dog.100.jpg  \n",
      " extracting: Images/dogs/dog.101.jpg  \n",
      " extracting: Images/dogs/dog.102.jpg  \n",
      " extracting: Images/dogs/dog.103.jpg  \n",
      " extracting: Images/dogs/dog.104.jpg  \n",
      " extracting: Images/dogs/dog.105.jpg  \n",
      " extracting: Images/dogs/dog.106.jpg  \n",
      " extracting: Images/dogs/dog.107.jpg  \n",
      " extracting: Images/dogs/dog.108.jpg  \n",
      " extracting: Images/dogs/dog.109.jpg  \n",
      " extracting: Images/dogs/dog.110.jpg  \n",
      " extracting: Images/dogs/dog.111.jpg  \n",
      " extracting: Images/dogs/dog.112.jpg  \n",
      " extracting: Images/dogs/dog.113.jpg  \n",
      " extracting: Images/dogs/dog.114.jpg  \n",
      " extracting: Images/dogs/dog.115.jpg  \n",
      " extracting: Images/dogs/dog.116.jpg  \n",
      " extracting: Images/dogs/dog.117.jpg  \n",
      " extracting: Images/dogs/dog.118.jpg  \n",
      " extracting: Images/dogs/dog.119.jpg  \n",
      " extracting: Images/dogs/dog.120.jpg  \n",
      " extracting: Images/dogs/dog.121.jpg  \n",
      " extracting: Images/dogs/dog.122.jpg  \n",
      " extracting: Images/dogs/dog.123.jpg  \n",
      " extracting: Images/dogs/dog.124.jpg  \n",
      " extracting: Images/dogs/dog.125.jpg  \n",
      " extracting: Images/dogs/dog.126.jpg  \n",
      " extracting: Images/dogs/dog.127.jpg  \n",
      " extracting: Images/dogs/dog.128.jpg  \n",
      " extracting: Images/dogs/dog.129.jpg  \n",
      " extracting: Images/dogs/dog.130.jpg  \n",
      " extracting: Images/dogs/dog.131.jpg  \n",
      " extracting: Images/dogs/dog.132.jpg  \n",
      " extracting: Images/dogs/dog.133.jpg  \n",
      " extracting: Images/dogs/dog.134.jpg  \n",
      " extracting: Images/dogs/dog.135.jpg  \n",
      " extracting: Images/dogs/dog.136.jpg  \n",
      " extracting: Images/dogs/dog.137.jpg  \n",
      " extracting: Images/dogs/dog.138.jpg  \n",
      " extracting: Images/dogs/dog.139.jpg  \n",
      " extracting: Images/dogs/dog.140.jpg  \n",
      " extracting: Images/dogs/dog.141.jpg  \n",
      " extracting: Images/dogs/dog.142.jpg  \n",
      " extracting: Images/dogs/dog.143.jpg  \n",
      " extracting: Images/dogs/dog.144.jpg  \n",
      " extracting: Images/dogs/dog.145.jpg  \n",
      " extracting: Images/dogs/dog.146.jpg  \n",
      " extracting: Images/dogs/dog.147.jpg  \n",
      " extracting: Images/dogs/dog.148.jpg  \n",
      " extracting: Images/dogs/dog.149.jpg  \n",
      " extracting: Images/dogs/dog.150.jpg  \n",
      " extracting: Images/dogs/dog.151.jpg  \n",
      " extracting: Images/dogs/dog.152.jpg  \n",
      " extracting: Images/dogs/dog.153.jpg  \n",
      " extracting: Images/dogs/dog.154.jpg  \n",
      " extracting: Images/dogs/dog.155.jpg  \n",
      " extracting: Images/dogs/dog.156.jpg  \n",
      " extracting: Images/dogs/dog.157.jpg  \n",
      " extracting: Images/dogs/dog.158.jpg  \n",
      " extracting: Images/dogs/dog.159.jpg  \n",
      " extracting: Images/dogs/dog.160.jpg  \n",
      " extracting: Images/dogs/dog.161.jpg  \n",
      " extracting: Images/dogs/dog.162.jpg  \n",
      " extracting: Images/dogs/dog.163.jpg  \n",
      " extracting: Images/dogs/dog.164.jpg  \n",
      " extracting: Images/dogs/dog.165.jpg  \n",
      " extracting: Images/dogs/dog.166.jpg  \n",
      " extracting: Images/dogs/dog.167.jpg  \n",
      " extracting: Images/dogs/dog.168.jpg  \n",
      " extracting: Images/dogs/dog.169.jpg  \n",
      " extracting: Images/dogs/dog.170.jpg  \n",
      " extracting: Images/dogs/dog.171.jpg  \n",
      " extracting: Images/dogs/dog.172.jpg  \n",
      " extracting: Images/dogs/dog.173.jpg  \n",
      " extracting: Images/dogs/dog.174.jpg  \n",
      " extracting: Images/dogs/dog.175.jpg  \n",
      " extracting: Images/dogs/dog.176.jpg  \n",
      " extracting: Images/dogs/dog.177.jpg  \n",
      " extracting: Images/dogs/dog.178.jpg  \n",
      " extracting: Images/dogs/dog.179.jpg  \n",
      " extracting: Images/dogs/dog.180.jpg  \n",
      " extracting: Images/dogs/dog.181.jpg  \n",
      " extracting: Images/dogs/dog.182.jpg  \n",
      " extracting: Images/dogs/dog.183.jpg  \n",
      " extracting: Images/dogs/dog.184.jpg  \n",
      " extracting: Images/dogs/dog.185.jpg  \n",
      " extracting: Images/dogs/dog.186.jpg  \n",
      " extracting: Images/dogs/dog.187.jpg  \n",
      " extracting: Images/dogs/dog.188.jpg  \n",
      " extracting: Images/dogs/dog.189.jpg  \n",
      " extracting: Images/dogs/dog.190.jpg  \n",
      " extracting: Images/dogs/dog.191.jpg  \n",
      " extracting: Images/dogs/dog.192.jpg  \n",
      " extracting: Images/dogs/dog.193.jpg  \n",
      " extracting: Images/dogs/dog.194.jpg  \n",
      " extracting: Images/dogs/dog.195.jpg  \n",
      " extracting: Images/dogs/dog.196.jpg  \n",
      " extracting: Images/dogs/dog.197.jpg  \n",
      " extracting: Images/dogs/dog.198.jpg  \n",
      " extracting: Images/dogs/dog.199.jpg  \n",
      " extracting: Images/dogs/dog.200.jpg  \n",
      " extracting: Images/dogs/dog.201.jpg  \n",
      " extracting: Images/dogs/dog.202.jpg  \n",
      " extracting: Images/horses/horse-1.jpg  \n",
      " extracting: Images/horses/horse-2.jpg  \n",
      " extracting: Images/horses/horse-3.jpg  \n",
      " extracting: Images/horses/horse-4.jpg  \n",
      " extracting: Images/horses/horse-5.jpg  \n",
      " extracting: Images/horses/horse-6.jpg  \n",
      " extracting: Images/horses/horse-7.jpg  \n",
      " extracting: Images/horses/horse-8.jpg  \n",
      " extracting: Images/horses/horse-9.jpg  \n",
      " extracting: Images/humans/rider-1.jpg  \n",
      " extracting: Images/humans/rider-2.jpg  \n",
      " extracting: Images/humans/rider-3.jpg  \n",
      " extracting: Images/humans/rider-4.jpg  \n",
      " extracting: Images/humans/rider-5.jpg  \n",
      " extracting: Images/humans/rider-6.jpg  \n",
      " extracting: Images/humans/rider-7.jpg  \n",
      " extracting: Images/humans/rider-8.jpg  \n",
      " extracting: Images/humans/rider-9.jpg  \n",
      " extracting: Images/horses/horse-10.jpg  \n",
      " extracting: Images/horses/horse-11.jpg  \n",
      " extracting: Images/horses/horse-12.jpg  \n",
      " extracting: Images/horses/horse-13.jpg  \n",
      " extracting: Images/horses/horse-14.jpg  \n",
      " extracting: Images/horses/horse-15.jpg  \n",
      " extracting: Images/horses/horse-16.jpg  \n",
      " extracting: Images/horses/horse-17.jpg  \n",
      " extracting: Images/horses/horse-18.jpg  \n",
      " extracting: Images/horses/horse-19.jpg  \n",
      " extracting: Images/horses/horse-20.jpg  \n",
      " extracting: Images/horses/horse-21.jpg  \n",
      " extracting: Images/horses/horse-22.jpg  \n",
      " extracting: Images/horses/horse-23.jpg  \n",
      " extracting: Images/horses/horse-24.jpg  \n",
      " extracting: Images/horses/horse-25.jpg  \n",
      " extracting: Images/horses/horse-26.jpg  \n",
      " extracting: Images/horses/horse-27.jpg  \n",
      " extracting: Images/horses/horse-28.jpg  \n",
      " extracting: Images/horses/horse-29.jpg  \n",
      " extracting: Images/horses/horse-30.jpg  \n",
      " extracting: Images/horses/horse-31.jpg  \n",
      " extracting: Images/horses/horse-32.jpg  \n",
      " extracting: Images/horses/horse-33.jpg  \n",
      " extracting: Images/horses/horse-34.jpg  \n",
      " extracting: Images/horses/horse-35.jpg  \n",
      " extracting: Images/horses/horse-36.jpg  \n",
      " extracting: Images/horses/horse-37.jpg  \n",
      " extracting: Images/horses/horse-38.jpg  \n",
      " extracting: Images/horses/horse-39.jpg  \n",
      " extracting: Images/horses/horse-40.jpg  \n",
      " extracting: Images/horses/horse-41.jpg  \n",
      " extracting: Images/horses/horse-42.jpg  \n",
      " extracting: Images/horses/horse-43.jpg  \n",
      " extracting: Images/horses/horse-44.jpg  \n",
      " extracting: Images/horses/horse-45.jpg  \n",
      " extracting: Images/horses/horse-46.jpg  \n",
      " extracting: Images/horses/horse-47.jpg  \n",
      " extracting: Images/horses/horse-48.jpg  \n",
      " extracting: Images/horses/horse-49.jpg  \n",
      " extracting: Images/horses/horse-50.jpg  \n",
      " extracting: Images/horses/horse-51.jpg  \n",
      " extracting: Images/horses/horse-52.jpg  \n",
      " extracting: Images/horses/horse-53.jpg  \n",
      " extracting: Images/horses/horse-54.jpg  \n",
      " extracting: Images/horses/horse-55.jpg  \n",
      " extracting: Images/horses/horse-56.jpg  \n",
      " extracting: Images/horses/horse-57.jpg  \n",
      " extracting: Images/horses/horse-58.jpg  \n",
      " extracting: Images/horses/horse-59.jpg  \n",
      " extracting: Images/horses/horse-60.jpg  \n",
      " extracting: Images/horses/horse-61.jpg  \n",
      " extracting: Images/horses/horse-62.jpg  \n",
      " extracting: Images/horses/horse-63.jpg  \n",
      " extracting: Images/horses/horse-64.jpg  \n",
      " extracting: Images/horses/horse-65.jpg  \n",
      " extracting: Images/horses/horse-66.jpg  \n",
      " extracting: Images/horses/horse-67.jpg  \n",
      " extracting: Images/horses/horse-68.jpg  \n",
      " extracting: Images/horses/horse-69.jpg  \n",
      " extracting: Images/horses/horse-70.jpg  \n",
      " extracting: Images/horses/horse-71.jpg  \n",
      " extracting: Images/horses/horse-72.jpg  \n",
      " extracting: Images/horses/horse-73.jpg  \n",
      " extracting: Images/horses/horse-74.jpg  \n",
      " extracting: Images/horses/horse-75.jpg  \n",
      " extracting: Images/horses/horse-76.jpg  \n",
      " extracting: Images/horses/horse-77.jpg  \n",
      " extracting: Images/horses/horse-78.jpg  \n",
      " extracting: Images/horses/horse-79.jpg  \n",
      " extracting: Images/horses/horse-80.jpg  \n",
      " extracting: Images/horses/horse-81.jpg  \n",
      " extracting: Images/horses/horse-82.jpg  \n",
      " extracting: Images/horses/horse-83.jpg  \n",
      " extracting: Images/horses/horse-84.jpg  \n",
      " extracting: Images/horses/horse-85.jpg  \n",
      " extracting: Images/horses/horse-86.jpg  \n",
      " extracting: Images/horses/horse-87.jpg  \n",
      " extracting: Images/horses/horse-88.jpg  \n",
      " extracting: Images/horses/horse-89.jpg  \n",
      " extracting: Images/horses/horse-90.jpg  \n",
      " extracting: Images/horses/horse-91.jpg  \n",
      " extracting: Images/horses/horse-92.jpg  \n",
      " extracting: Images/horses/horse-93.jpg  \n",
      " extracting: Images/horses/horse-94.jpg  \n",
      " extracting: Images/horses/horse-95.jpg  \n",
      " extracting: Images/horses/horse-96.jpg  \n",
      " extracting: Images/horses/horse-97.jpg  \n",
      " extracting: Images/horses/horse-98.jpg  \n",
      " extracting: Images/horses/horse-99.jpg  \n",
      " extracting: Images/humans/rider-10.jpg  \n",
      " extracting: Images/humans/rider-11.jpg  \n",
      " extracting: Images/humans/rider-12.jpg  \n",
      " extracting: Images/humans/rider-13.jpg  \n",
      " extracting: Images/humans/rider-14.jpg  \n",
      " extracting: Images/humans/rider-15.jpg  \n",
      " extracting: Images/humans/rider-16.jpg  \n",
      " extracting: Images/humans/rider-17.jpg  \n",
      " extracting: Images/humans/rider-18.jpg  \n",
      " extracting: Images/humans/rider-19.jpg  \n",
      " extracting: Images/humans/rider-20.jpg  \n",
      " extracting: Images/humans/rider-21.jpg  \n",
      " extracting: Images/humans/rider-22.jpg  \n",
      " extracting: Images/humans/rider-23.jpg  \n",
      " extracting: Images/humans/rider-24.jpg  \n",
      " extracting: Images/humans/rider-25.jpg  \n",
      " extracting: Images/humans/rider-26.jpg  \n",
      " extracting: Images/humans/rider-27.jpg  \n",
      " extracting: Images/humans/rider-28.jpg  \n",
      " extracting: Images/humans/rider-29.jpg  \n",
      " extracting: Images/humans/rider-30.jpg  \n",
      " extracting: Images/humans/rider-31.jpg  \n",
      " extracting: Images/humans/rider-32.jpg  \n",
      " extracting: Images/humans/rider-33.jpg  \n",
      " extracting: Images/humans/rider-34.jpg  \n",
      " extracting: Images/humans/rider-35.jpg  \n",
      " extracting: Images/humans/rider-36.jpg  \n",
      " extracting: Images/humans/rider-37.jpg  \n",
      " extracting: Images/humans/rider-38.jpg  \n",
      " extracting: Images/humans/rider-39.jpg  \n",
      " extracting: Images/humans/rider-40.jpg  \n",
      " extracting: Images/humans/rider-41.jpg  \n",
      " extracting: Images/humans/rider-42.jpg  \n",
      " extracting: Images/humans/rider-43.jpg  \n",
      " extracting: Images/humans/rider-44.jpg  \n",
      " extracting: Images/humans/rider-45.jpg  \n",
      " extracting: Images/humans/rider-46.jpg  \n",
      " extracting: Images/humans/rider-47.jpg  \n",
      " extracting: Images/humans/rider-48.jpg  \n",
      " extracting: Images/humans/rider-49.jpg  \n",
      " extracting: Images/humans/rider-50.jpg  \n",
      " extracting: Images/humans/rider-51.jpg  \n",
      " extracting: Images/humans/rider-52.jpg  \n",
      " extracting: Images/humans/rider-53.jpg  \n",
      " extracting: Images/humans/rider-54.jpg  \n",
      " extracting: Images/humans/rider-55.jpg  \n",
      " extracting: Images/humans/rider-56.jpg  \n",
      " extracting: Images/humans/rider-57.jpg  \n",
      " extracting: Images/humans/rider-58.jpg  \n",
      " extracting: Images/humans/rider-59.jpg  \n",
      " extracting: Images/humans/rider-60.jpg  \n",
      " extracting: Images/humans/rider-61.jpg  \n",
      " extracting: Images/humans/rider-62.jpg  \n",
      " extracting: Images/humans/rider-63.jpg  \n",
      " extracting: Images/humans/rider-64.jpg  \n",
      " extracting: Images/humans/rider-65.jpg  \n",
      " extracting: Images/humans/rider-66.jpg  \n",
      " extracting: Images/humans/rider-67.jpg  \n",
      " extracting: Images/humans/rider-68.jpg  \n",
      " extracting: Images/humans/rider-69.jpg  \n",
      " extracting: Images/humans/rider-70.jpg  \n",
      " extracting: Images/humans/rider-71.jpg  \n",
      " extracting: Images/humans/rider-72.jpg  \n",
      " extracting: Images/humans/rider-73.jpg  \n",
      " extracting: Images/humans/rider-74.jpg  \n",
      " extracting: Images/humans/rider-75.jpg  \n",
      " extracting: Images/humans/rider-76.jpg  \n",
      " extracting: Images/humans/rider-77.jpg  \n",
      " extracting: Images/humans/rider-78.jpg  \n",
      " extracting: Images/humans/rider-79.jpg  \n",
      " extracting: Images/humans/rider-80.jpg  \n",
      " extracting: Images/humans/rider-81.jpg  \n",
      " extracting: Images/humans/rider-82.jpg  \n",
      " extracting: Images/humans/rider-83.jpg  \n",
      " extracting: Images/humans/rider-84.jpg  \n",
      " extracting: Images/humans/rider-85.jpg  \n",
      " extracting: Images/humans/rider-86.jpg  \n",
      " extracting: Images/humans/rider-87.jpg  \n",
      " extracting: Images/humans/rider-88.jpg  \n",
      " extracting: Images/humans/rider-89.jpg  \n",
      " extracting: Images/humans/rider-90.jpg  \n",
      " extracting: Images/humans/rider-91.jpg  \n",
      " extracting: Images/humans/rider-92.jpg  \n",
      " extracting: Images/humans/rider-93.jpg  \n",
      " extracting: Images/humans/rider-94.jpg  \n",
      " extracting: Images/humans/rider-95.jpg  \n",
      " extracting: Images/humans/rider-96.jpg  \n",
      " extracting: Images/humans/rider-97.jpg  \n",
      " extracting: Images/humans/rider-98.jpg  \n",
      " extracting: Images/humans/rider-99.jpg  \n",
      " extracting: Images/horses/horse-100.jpg  \n",
      " extracting: Images/horses/horse-101.jpg  \n",
      " extracting: Images/horses/horse-102.jpg  \n",
      " extracting: Images/horses/horse-103.jpg  \n",
      " extracting: Images/horses/horse-104.jpg  \n",
      " extracting: Images/horses/horse-105.jpg  \n",
      " extracting: Images/horses/horse-106.jpg  \n",
      " extracting: Images/horses/horse-107.jpg  \n",
      " extracting: Images/horses/horse-108.jpg  \n",
      " extracting: Images/horses/horse-109.jpg  \n",
      " extracting: Images/horses/horse-110.jpg  \n",
      " extracting: Images/horses/horse-111.jpg  \n",
      " extracting: Images/horses/horse-112.jpg  \n",
      " extracting: Images/horses/horse-113.jpg  \n",
      " extracting: Images/horses/horse-114.jpg  \n",
      " extracting: Images/horses/horse-115.jpg  \n",
      " extracting: Images/horses/horse-116.jpg  \n",
      " extracting: Images/horses/horse-117.jpg  \n",
      " extracting: Images/horses/horse-118.jpg  \n",
      " extracting: Images/horses/horse-119.jpg  \n",
      " extracting: Images/horses/horse-120.jpg  \n",
      " extracting: Images/horses/horse-121.jpg  \n",
      " extracting: Images/horses/horse-122.jpg  \n",
      " extracting: Images/horses/horse-123.jpg  \n",
      " extracting: Images/horses/horse-124.jpg  \n",
      " extracting: Images/horses/horse-125.jpg  \n",
      " extracting: Images/horses/horse-126.jpg  \n",
      " extracting: Images/horses/horse-127.jpg  \n",
      " extracting: Images/horses/horse-128.jpg  \n",
      " extracting: Images/horses/horse-129.jpg  \n",
      " extracting: Images/horses/horse-130.jpg  \n",
      " extracting: Images/horses/horse-131.jpg  \n",
      " extracting: Images/horses/horse-132.jpg  \n",
      " extracting: Images/horses/horse-133.jpg  \n",
      " extracting: Images/horses/horse-134.jpg  \n",
      " extracting: Images/horses/horse-135.jpg  \n",
      " extracting: Images/horses/horse-136.jpg  \n",
      " extracting: Images/horses/horse-137.jpg  \n",
      " extracting: Images/horses/horse-138.jpg  \n",
      " extracting: Images/horses/horse-139.jpg  \n",
      " extracting: Images/horses/horse-140.jpg  \n",
      " extracting: Images/horses/horse-141.jpg  \n",
      " extracting: Images/horses/horse-142.jpg  \n",
      " extracting: Images/horses/horse-143.jpg  \n",
      " extracting: Images/horses/horse-144.jpg  \n",
      " extracting: Images/horses/horse-145.jpg  \n",
      " extracting: Images/horses/horse-146.jpg  \n",
      " extracting: Images/horses/horse-147.jpg  \n",
      " extracting: Images/horses/horse-148.jpg  \n",
      " extracting: Images/horses/horse-149.jpg  \n",
      " extracting: Images/horses/horse-150.jpg  \n",
      " extracting: Images/horses/horse-151.jpg  \n",
      " extracting: Images/horses/horse-152.jpg  \n",
      " extracting: Images/horses/horse-153.jpg  \n",
      " extracting: Images/horses/horse-154.jpg  \n",
      " extracting: Images/horses/horse-155.jpg  \n",
      " extracting: Images/horses/horse-156.jpg  \n",
      " extracting: Images/horses/horse-157.jpg  \n",
      " extracting: Images/horses/horse-158.jpg  \n",
      " extracting: Images/horses/horse-159.jpg  \n",
      " extracting: Images/horses/horse-160.jpg  \n",
      " extracting: Images/horses/horse-161.jpg  \n",
      " extracting: Images/horses/horse-162.jpg  \n",
      " extracting: Images/horses/horse-163.jpg  \n",
      " extracting: Images/horses/horse-164.jpg  \n",
      " extracting: Images/horses/horse-165.jpg  \n",
      " extracting: Images/horses/horse-166.jpg  \n",
      " extracting: Images/horses/horse-167.jpg  \n",
      " extracting: Images/horses/horse-168.jpg  \n",
      " extracting: Images/horses/horse-169.jpg  \n",
      " extracting: Images/horses/horse-170.jpg  \n",
      " extracting: Images/horses/horse-171.jpg  \n",
      " extracting: Images/horses/horse-172.jpg  \n",
      " extracting: Images/horses/horse-173.jpg  \n",
      " extracting: Images/horses/horse-174.jpg  \n",
      " extracting: Images/horses/horse-175.jpg  \n",
      " extracting: Images/horses/horse-176.jpg  \n",
      " extracting: Images/horses/horse-177.jpg  \n",
      " extracting: Images/horses/horse-178.jpg  \n",
      " extracting: Images/horses/horse-179.jpg  \n",
      " extracting: Images/horses/horse-180.jpg  \n",
      " extracting: Images/horses/horse-181.jpg  \n",
      " extracting: Images/horses/horse-182.jpg  \n",
      " extracting: Images/horses/horse-183.jpg  \n",
      " extracting: Images/horses/horse-184.jpg  \n",
      " extracting: Images/horses/horse-185.jpg  \n",
      " extracting: Images/horses/horse-186.jpg  \n",
      " extracting: Images/horses/horse-187.jpg  \n",
      " extracting: Images/horses/horse-188.jpg  \n",
      " extracting: Images/horses/horse-189.jpg  \n",
      " extracting: Images/horses/horse-190.jpg  \n",
      " extracting: Images/horses/horse-191.jpg  \n",
      " extracting: Images/horses/horse-192.jpg  \n",
      " extracting: Images/horses/horse-193.jpg  \n",
      " extracting: Images/horses/horse-194.jpg  \n",
      " extracting: Images/horses/horse-195.jpg  \n",
      " extracting: Images/horses/horse-196.jpg  \n",
      " extracting: Images/horses/horse-197.jpg  \n",
      " extracting: Images/horses/horse-198.jpg  \n",
      " extracting: Images/horses/horse-199.jpg  \n",
      " extracting: Images/horses/horse-200.jpg  \n",
      " extracting: Images/horses/horse-201.jpg  \n",
      " extracting: Images/horses/horse-202.jpg  \n",
      " extracting: Images/humans/rider-100.jpg  \n",
      " extracting: Images/humans/rider-101.jpg  \n",
      " extracting: Images/humans/rider-102.jpg  \n",
      " extracting: Images/humans/rider-103.jpg  \n",
      " extracting: Images/humans/rider-104.jpg  \n",
      " extracting: Images/humans/rider-105.jpg  \n",
      " extracting: Images/humans/rider-106.jpg  \n",
      " extracting: Images/humans/rider-107.jpg  \n",
      " extracting: Images/humans/rider-108.jpg  \n",
      " extracting: Images/humans/rider-109.jpg  \n",
      " extracting: Images/humans/rider-110.jpg  \n",
      " extracting: Images/humans/rider-111.jpg  \n",
      " extracting: Images/humans/rider-112.jpg  \n",
      " extracting: Images/humans/rider-113.jpg  \n",
      " extracting: Images/humans/rider-114.jpg  \n",
      " extracting: Images/humans/rider-115.jpg  \n",
      " extracting: Images/humans/rider-116.jpg  \n",
      " extracting: Images/humans/rider-117.jpg  \n",
      " extracting: Images/humans/rider-118.jpg  \n",
      " extracting: Images/humans/rider-119.jpg  \n",
      " extracting: Images/humans/rider-120.jpg  \n",
      " extracting: Images/humans/rider-121.jpg  \n",
      " extracting: Images/humans/rider-122.jpg  \n",
      " extracting: Images/humans/rider-123.jpg  \n",
      " extracting: Images/humans/rider-124.jpg  \n",
      " extracting: Images/humans/rider-125.jpg  \n",
      " extracting: Images/humans/rider-126.jpg  \n",
      " extracting: Images/humans/rider-127.jpg  \n",
      " extracting: Images/humans/rider-128.jpg  \n",
      " extracting: Images/humans/rider-129.jpg  \n",
      " extracting: Images/humans/rider-130.jpg  \n",
      " extracting: Images/humans/rider-131.jpg  \n",
      " extracting: Images/humans/rider-132.jpg  \n",
      " extracting: Images/humans/rider-133.jpg  \n",
      " extracting: Images/humans/rider-134.jpg  \n",
      " extracting: Images/humans/rider-135.jpg  \n",
      " extracting: Images/humans/rider-136.jpg  \n",
      " extracting: Images/humans/rider-137.jpg  \n",
      " extracting: Images/humans/rider-138.jpg  \n",
      " extracting: Images/humans/rider-139.jpg  \n",
      " extracting: Images/humans/rider-140.jpg  \n",
      " extracting: Images/humans/rider-141.jpg  \n",
      " extracting: Images/humans/rider-142.jpg  \n",
      " extracting: Images/humans/rider-143.jpg  \n",
      " extracting: Images/humans/rider-144.jpg  \n",
      " extracting: Images/humans/rider-145.jpg  \n",
      " extracting: Images/humans/rider-146.jpg  \n",
      " extracting: Images/humans/rider-147.jpg  \n",
      " extracting: Images/humans/rider-148.jpg  \n",
      " extracting: Images/humans/rider-149.jpg  \n",
      " extracting: Images/humans/rider-150.jpg  \n",
      " extracting: Images/humans/rider-151.jpg  \n",
      " extracting: Images/humans/rider-152.jpg  \n",
      " extracting: Images/humans/rider-153.jpg  \n",
      " extracting: Images/humans/rider-154.jpg  \n",
      " extracting: Images/humans/rider-155.jpg  \n",
      " extracting: Images/humans/rider-156.jpg  \n",
      " extracting: Images/humans/rider-157.jpg  \n",
      " extracting: Images/humans/rider-158.jpg  \n",
      " extracting: Images/humans/rider-159.jpg  \n",
      " extracting: Images/humans/rider-160.jpg  \n",
      " extracting: Images/humans/rider-161.jpg  \n",
      " extracting: Images/humans/rider-162.jpg  \n",
      " extracting: Images/humans/rider-163.jpg  \n",
      " extracting: Images/humans/rider-164.jpg  \n",
      " extracting: Images/humans/rider-165.jpg  \n",
      " extracting: Images/humans/rider-166.jpg  \n",
      " extracting: Images/humans/rider-167.jpg  \n",
      " extracting: Images/humans/rider-168.jpg  \n",
      " extracting: Images/humans/rider-169.jpg  \n",
      " extracting: Images/humans/rider-170.jpg  \n",
      " extracting: Images/humans/rider-171.jpg  \n",
      " extracting: Images/humans/rider-172.jpg  \n",
      " extracting: Images/humans/rider-173.jpg  \n",
      " extracting: Images/humans/rider-174.jpg  \n",
      " extracting: Images/humans/rider-175.jpg  \n",
      " extracting: Images/humans/rider-176.jpg  \n",
      " extracting: Images/humans/rider-177.jpg  \n",
      " extracting: Images/humans/rider-178.jpg  \n",
      " extracting: Images/humans/rider-179.jpg  \n",
      " extracting: Images/humans/rider-180.jpg  \n",
      " extracting: Images/humans/rider-181.jpg  \n",
      " extracting: Images/humans/rider-182.jpg  \n",
      " extracting: Images/humans/rider-183.jpg  \n",
      " extracting: Images/humans/rider-184.jpg  \n",
      " extracting: Images/humans/rider-185.jpg  \n",
      " extracting: Images/humans/rider-186.jpg  \n",
      " extracting: Images/humans/rider-187.jpg  \n",
      " extracting: Images/humans/rider-188.jpg  \n",
      " extracting: Images/humans/rider-189.jpg  \n",
      " extracting: Images/humans/rider-190.jpg  \n",
      " extracting: Images/humans/rider-191.jpg  \n",
      " extracting: Images/humans/rider-192.jpg  \n",
      " extracting: Images/humans/rider-193.jpg  \n",
      " extracting: Images/humans/rider-194.jpg  \n",
      " extracting: Images/humans/rider-195.jpg  \n",
      " extracting: Images/humans/rider-196.jpg  \n",
      " extracting: Images/humans/rider-197.jpg  \n",
      " extracting: Images/humans/rider-198.jpg  \n",
      " extracting: Images/humans/rider-199.jpg  \n",
      " extracting: Images/humans/rider-200.jpg  \n",
      " extracting: Images/humans/rider-201.jpg  \n",
      " extracting: Images/humans/rider-202.jpg  \n",
      "\n",
      "1 archive had fatal errors.\n"
     ]
    }
   ],
   "source": [
    "!unzip AABXTlPlU-1f4L_VdS4wY06ca?dl=0"
   ]
  },
  {
   "cell_type": "code",
   "execution_count": 1,
   "metadata": {
    "colab": {
     "base_uri": "https://localhost:8080/"
    },
    "executionInfo": {
     "elapsed": 1333,
     "status": "ok",
     "timestamp": 1648355351148,
     "user": {
      "displayName": "Harsh Sharma",
      "photoUrl": "https://lh3.googleusercontent.com/a/default-user=s64",
      "userId": "05858076118442435203"
     },
     "user_tz": -330
    },
    "id": "j4j5B6xbYmaI",
    "outputId": "ec756783-5f5e-42fd-92e6-d86b22073460"
   },
   "outputs": [
    {
     "name": "stdout",
     "output_type": "stream",
     "text": [
      "Cloning into 'images'...\n",
      "remote: Enumerating objects: 776, done.\u001b[K\n",
      "remote: Counting objects: 100% (776/776), done.\u001b[K\n",
      "remote: Compressing objects: 100% (776/776), done.\u001b[K\n",
      "remote: Total 776 (delta 0), reused 776 (delta 0), pack-reused 0\u001b[K\n",
      "Receiving objects: 100% (776/776), 17.84 MiB | 28.91 MiB/s, done.\n"
     ]
    }
   ],
   "source": [
    "!git clone https://github.com/sharmaharsh2609/images"
   ]
  },
  {
   "cell_type": "code",
   "execution_count": 2,
   "metadata": {
    "colab": {
     "base_uri": "https://localhost:8080/"
    },
    "executionInfo": {
     "elapsed": 14,
     "status": "ok",
     "timestamp": 1648355351149,
     "user": {
      "displayName": "Harsh Sharma",
      "photoUrl": "https://lh3.googleusercontent.com/a/default-user=s64",
      "userId": "05858076118442435203"
     },
     "user_tz": -330
    },
    "id": "dCcn-8stYrXx",
    "outputId": "6d537351-5c0c-40a9-dfc1-28d15c4d7118"
   },
   "outputs": [
    {
     "name": "stdout",
     "output_type": "stream",
     "text": [
      "images\tsample_data\n"
     ]
    }
   ],
   "source": [
    "! ls "
   ]
  },
  {
   "cell_type": "code",
   "execution_count": 3,
   "metadata": {
    "executionInfo": {
     "elapsed": 10,
     "status": "ok",
     "timestamp": 1648355351149,
     "user": {
      "displayName": "Harsh Sharma",
      "photoUrl": "https://lh3.googleusercontent.com/a/default-user=s64",
      "userId": "05858076118442435203"
     },
     "user_tz": -330
    },
    "id": "h9YbV3isY9Mw"
   },
   "outputs": [],
   "source": [
    "\n",
    "import os"
   ]
  },
  {
   "cell_type": "code",
   "execution_count": 4,
   "metadata": {
    "colab": {
     "base_uri": "https://localhost:8080/"
    },
    "executionInfo": {
     "elapsed": 11,
     "status": "ok",
     "timestamp": 1648355351150,
     "user": {
      "displayName": "Harsh Sharma",
      "photoUrl": "https://lh3.googleusercontent.com/a/default-user=s64",
      "userId": "05858076118442435203"
     },
     "user_tz": -330
    },
    "id": "IK0J431VsdMM",
    "outputId": "e06ca28b-1fc1-4f43-910c-33bc5112d39d"
   },
   "outputs": [
    {
     "data": {
      "text/plain": [
       "['dogs', 'cats', 'horses', 'humans', '.git']"
      ]
     },
     "execution_count": 4,
     "metadata": {},
     "output_type": "execute_result"
    }
   ],
   "source": [
    "folders = os.listdir(\"images\")\n",
    "folders"
   ]
  },
  {
   "cell_type": "markdown",
   "metadata": {
    "id": "rpSSPxtjZU9Z"
   },
   "source": [
    "- I downloaded data from git clone. So it also includes .git folder with all the git history. We can delete this."
   ]
  },
  {
   "cell_type": "code",
   "execution_count": 5,
   "metadata": {
    "colab": {
     "base_uri": "https://localhost:8080/"
    },
    "executionInfo": {
     "elapsed": 899,
     "status": "ok",
     "timestamp": 1648355352042,
     "user": {
      "displayName": "Harsh Sharma",
      "photoUrl": "https://lh3.googleusercontent.com/a/default-user=s64",
      "userId": "05858076118442435203"
     },
     "user_tz": -330
    },
    "id": "1RDloRnOZfFB",
    "outputId": "bc54c621-dc00-461f-eddd-de5271ebd58d"
   },
   "outputs": [
    {
     "name": "stdout",
     "output_type": "stream",
     "text": [
      ".  ..  cats  dogs  horses  humans\n"
     ]
    }
   ],
   "source": [
    "!rm -rf ./images/.git/\n",
    "!ls -a images"
   ]
  },
  {
   "cell_type": "code",
   "execution_count": 6,
   "metadata": {
    "colab": {
     "base_uri": "https://localhost:8080/"
    },
    "executionInfo": {
     "elapsed": 19,
     "status": "ok",
     "timestamp": 1648355352042,
     "user": {
      "displayName": "Harsh Sharma",
      "photoUrl": "https://lh3.googleusercontent.com/a/default-user=s64",
      "userId": "05858076118442435203"
     },
     "user_tz": -330
    },
    "id": "6FirK1AtZtEl",
    "outputId": "a09d2044-b866-4fdc-a678-cf7ac1cef819"
   },
   "outputs": [
    {
     "data": {
      "text/plain": [
       "['dogs', 'cats', 'horses', 'humans']"
      ]
     },
     "execution_count": 6,
     "metadata": {},
     "output_type": "execute_result"
    }
   ],
   "source": [
    "folders = os.listdir(\"images\")\n",
    "folders"
   ]
  },
  {
   "cell_type": "markdown",
   "metadata": {
    "id": "KKU8XIZq06Wp"
   },
   "source": [
    "### Create validation_Set\n",
    "- We need to create another folder for validation set. And in that folder we will have 4 folders which contain 10% data in each from the training data."
   ]
  },
  {
   "cell_type": "code",
   "execution_count": 7,
   "metadata": {
    "executionInfo": {
     "elapsed": 17,
     "status": "ok",
     "timestamp": 1648355352043,
     "user": {
      "displayName": "Harsh Sharma",
      "photoUrl": "https://lh3.googleusercontent.com/a/default-user=s64",
      "userId": "05858076118442435203"
     },
     "user_tz": -330
    },
    "id": "1KdXRQC606UH"
   },
   "outputs": [],
   "source": [
    "import os, shutil  # sh-util means shell utitlities\n",
    "folders = os.listdir(\"images\")"
   ]
  },
  {
   "cell_type": "code",
   "execution_count": 8,
   "metadata": {
    "colab": {
     "base_uri": "https://localhost:8080/"
    },
    "executionInfo": {
     "elapsed": 17,
     "status": "ok",
     "timestamp": 1648355352044,
     "user": {
      "displayName": "Harsh Sharma",
      "photoUrl": "https://lh3.googleusercontent.com/a/default-user=s64",
      "userId": "05858076118442435203"
     },
     "user_tz": -330
    },
    "id": "TCx0YT7b06Rs",
    "outputId": "433f52b4-4599-4f6c-88bf-5d8fa5d10bd0"
   },
   "outputs": [
    {
     "name": "stdout",
     "output_type": "stream",
     "text": [
      "images\tsample_data  val_images\n"
     ]
    }
   ],
   "source": [
    "if not os.path.isdir(\"val_images\"):\n",
    "  os.mkdir(\"val_images\")\n",
    "classes = [\"dogs\", \"cats\", \"horses\", \"humans\"]\n",
    "!ls"
   ]
  },
  {
   "cell_type": "markdown",
   "metadata": {
    "id": "kAs1eoTKJfHY"
   },
   "source": [
    "##### <font color=\"red\">**Uncomment last line, execute this and then comment back shutil.move() bcoz on executing this cell again, it will move another more folders.**"
   ]
  },
  {
   "cell_type": "code",
   "execution_count": 9,
   "metadata": {
    "colab": {
     "base_uri": "https://localhost:8080/"
    },
    "executionInfo": {
     "elapsed": 14,
     "status": "ok",
     "timestamp": 1648355352045,
     "user": {
      "displayName": "Harsh Sharma",
      "photoUrl": "https://lh3.googleusercontent.com/a/default-user=s64",
      "userId": "05858076118442435203"
     },
     "user_tz": -330
    },
    "id": "B6EhhHdx06Gp",
    "outputId": "6c675b80-ff6c-47b1-a11f-e13108514674"
   },
   "outputs": [
    {
     "name": "stdout",
     "output_type": "stream",
     "text": [
      "val_images/dogs\n",
      "val_images/cats\n",
      "val_images/horses\n",
      "val_images/humans\n",
      "21\n",
      "21\n",
      "21\n",
      "21\n"
     ]
    }
   ],
   "source": [
    "for c in classes:\n",
    "  p = os.path.join(\"val_images/\",c)  # joins 2 or more pathnames\n",
    "  # eg- val_images/c , where c= cats, dogs, horses, humans etc..\n",
    "  print(p)\n",
    "  if not os.path.isdir(p):\n",
    "    os.mkdir(p)  # if this path doesn't exist then create one\n",
    "\n",
    "\n",
    "split=0.9\n",
    "for f in os.listdir(\"images\"):\n",
    "  path=\"images/\"+f\n",
    "  imgs = os.listdir(path)\n",
    "\n",
    "  split_size = int(split*len(imgs))\n",
    "  files_to_move = imgs[split_size:]\n",
    "  print(len(files_to_move))\n",
    "\n",
    "  for i in files_to_move:  # iterate over all files of a sub folder\n",
    "    # os.path.join is used to join 2 or more paths\n",
    "    src = os.path.join(path,i) # from where to copy\n",
    "    dest = os.path.join(\"val_images/\"+f,i)  # \"val_images+cat or dog or ..\", \n",
    "# 'i'=all file names in a subfolder like cat1.jpg, cat4.jpeg etc..\n",
    "\n",
    "# I commented it out bcoz on executing this cell again, it again moves some more files \n",
    "    shutil.move(src,dest)"
   ]
  },
  {
   "cell_type": "code",
   "execution_count": 9,
   "metadata": {
    "executionInfo": {
     "elapsed": 12,
     "status": "ok",
     "timestamp": 1648355352045,
     "user": {
      "displayName": "Harsh Sharma",
      "photoUrl": "https://lh3.googleusercontent.com/a/default-user=s64",
      "userId": "05858076118442435203"
     },
     "user_tz": -330
    },
    "id": "SLIW1LGkJHNt"
   },
   "outputs": [],
   "source": []
  },
  {
   "cell_type": "code",
   "execution_count": 10,
   "metadata": {
    "colab": {
     "base_uri": "https://localhost:8080/"
    },
    "executionInfo": {
     "elapsed": 12,
     "status": "ok",
     "timestamp": 1648355352046,
     "user": {
      "displayName": "Harsh Sharma",
      "photoUrl": "https://lh3.googleusercontent.com/a/default-user=s64",
      "userId": "05858076118442435203"
     },
     "user_tz": -330
    },
    "id": "s0nKcxpPZeDs",
    "outputId": "f73817f3-dd55-4ab3-a622-32a25c945e18"
   },
   "outputs": [
    {
     "name": "stdout",
     "output_type": "stream",
     "text": [
      "Training Folder: \n",
      "dogs:  181\n",
      "cats:  181\n",
      "horses:  181\n",
      "humans:  181\n",
      "\n",
      "Validation Folder: \n",
      "dogs:  21\n",
      "cats:  21\n",
      "horses:  21\n",
      "humans:  21\n"
     ]
    }
   ],
   "source": [
    "print(\"Training Folder: \")\n",
    "for f in folders:\n",
    "  img_path = \"images/\"+f # path of each folder \n",
    "  print(f+\": \",len(os.listdir(img_path)))   # print number of images present in each folder \n",
    "\n",
    "print(\"\\nValidation Folder: \")\n",
    "for f in folders:\n",
    "  img_path = \"val_images/\"+f # path of each folder \n",
    "  print(f+\": \",len(os.listdir(img_path)))"
   ]
  },
  {
   "cell_type": "code",
   "execution_count": 11,
   "metadata": {
    "executionInfo": {
     "elapsed": 3966,
     "status": "ok",
     "timestamp": 1648355356003,
     "user": {
      "displayName": "Harsh Sharma",
      "photoUrl": "https://lh3.googleusercontent.com/a/default-user=s64",
      "userId": "05858076118442435203"
     },
     "user_tz": -330
    },
    "id": "a0T_23JxZdtz"
   },
   "outputs": [],
   "source": [
    "from keras.preprocessing import image\n",
    "import matplotlib.pyplot as plt"
   ]
  },
  {
   "cell_type": "code",
   "execution_count": 12,
   "metadata": {
    "colab": {
     "base_uri": "https://localhost:8080/",
     "height": 167
    },
    "executionInfo": {
     "elapsed": 41,
     "status": "ok",
     "timestamp": 1648355356004,
     "user": {
      "displayName": "Harsh Sharma",
      "photoUrl": "https://lh3.googleusercontent.com/a/default-user=s64",
      "userId": "05858076118442435203"
     },
     "user_tz": -330
    },
    "id": "uG9R49GAZdrS",
    "outputId": "5699c621-e5c5-4f35-b3a5-d4155795d3f1"
   },
   "outputs": [
    {
     "data": {
      "image/png": "[encoded data removed]",
      "text/plain": [
       "<PIL.Image.Image image mode=RGB size=150x150 at 0x7F510555DF10>"
      ]
     },
     "execution_count": 12,
     "metadata": {},
     "output_type": "execute_result"
    }
   ],
   "source": [
    "img_ = image.load_img(\"images/cats/cat.1.jpg\", target_size=(150,150)) \n",
    "img_"
   ]
  },
  {
   "cell_type": "code",
   "execution_count": 13,
   "metadata": {
    "colab": {
     "base_uri": "https://localhost:8080/"
    },
    "executionInfo": {
     "elapsed": 25,
     "status": "ok",
     "timestamp": 1648355356005,
     "user": {
      "displayName": "Harsh Sharma",
      "photoUrl": "https://lh3.googleusercontent.com/a/default-user=s64",
      "userId": "05858076118442435203"
     },
     "user_tz": -330
    },
    "id": "HnUtny0WZdoS",
    "outputId": "43a922cc-ffb5-4da1-9ad7-53f62887b879"
   },
   "outputs": [
    {
     "data": {
      "text/plain": [
       "PIL.Image.Image"
      ]
     },
     "execution_count": 13,
     "metadata": {},
     "output_type": "execute_result"
    }
   ],
   "source": [
    "type(img_)"
   ]
  },
  {
   "cell_type": "code",
   "execution_count": 14,
   "metadata": {
    "executionInfo": {
     "elapsed": 22,
     "status": "ok",
     "timestamp": 1648355356006,
     "user": {
      "displayName": "Harsh Sharma",
      "photoUrl": "https://lh3.googleusercontent.com/a/default-user=s64",
      "userId": "05858076118442435203"
     },
     "user_tz": -330
    },
    "id": "s9Wizs90ZdjB"
   },
   "outputs": [],
   "source": [
    "img = image.img_to_array(img_)/255.0   # also normalize to 0.0-1.0 range."
   ]
  },
  {
   "cell_type": "markdown",
   "metadata": {
    "id": "OMbhzDAwZdd4"
   },
   "source": [
    "## Create sequential model:"
   ]
  },
  {
   "cell_type": "code",
   "execution_count": 15,
   "metadata": {
    "executionInfo": {
     "elapsed": 23,
     "status": "ok",
     "timestamp": 1648355356008,
     "user": {
      "displayName": "Harsh Sharma",
      "photoUrl": "https://lh3.googleusercontent.com/a/default-user=s64",
      "userId": "05858076118442435203"
     },
     "user_tz": -330
    },
    "id": "DpUb3_tNZdbK"
   },
   "outputs": [],
   "source": [
    "from keras.layers import Conv2D, Flatten, Dense, MaxPool2D\n",
    "from keras.models import Sequential"
   ]
  },
  {
   "cell_type": "code",
   "execution_count": 16,
   "metadata": {
    "colab": {
     "base_uri": "https://localhost:8080/"
    },
    "executionInfo": {
     "elapsed": 3976,
     "status": "ok",
     "timestamp": 1648355359962,
     "user": {
      "displayName": "Harsh Sharma",
      "photoUrl": "https://lh3.googleusercontent.com/a/default-user=s64",
      "userId": "05858076118442435203"
     },
     "user_tz": -330
    },
    "id": "o9QNDhrKZdYX",
    "outputId": "170c587b-09e4-4c35-fdf3-a3f8a03cdc87"
   },
   "outputs": [
    {
     "name": "stdout",
     "output_type": "stream",
     "text": [
      "Model: \"sequential\"\n",
      "_________________________________________________________________\n",
      " Layer (type)                Output Shape              Param #   \n",
      "=================================================================\n",
      " conv2d (Conv2D)             (None, 148, 148, 32)      896       \n",
      "                                                                 \n",
      " max_pooling2d (MaxPooling2D  (None, 74, 74, 32)       0         \n",
      " )                                                               \n",
      "                                                                 \n",
      " conv2d_1 (Conv2D)           (None, 72, 72, 64)        18496     \n",
      "                                                                 \n",
      " max_pooling2d_1 (MaxPooling  (None, 36, 36, 64)       0         \n",
      " 2D)                                                             \n",
      "                                                                 \n",
      " conv2d_2 (Conv2D)           (None, 34, 34, 128)       73856     \n",
      "                                                                 \n",
      " flatten (Flatten)           (None, 147968)            0         \n",
      "                                                                 \n",
      " dense (Dense)               (None, 64)                9470016   \n",
      "                                                                 \n",
      " dense_1 (Dense)             (None, 4)                 260       \n",
      "                                                                 \n",
      "=================================================================\n",
      "Total params: 9,563,524\n",
      "Trainable params: 9,563,524\n",
      "Non-trainable params: 0\n",
      "_________________________________________________________________\n"
     ]
    }
   ],
   "source": [
    "model = Sequential()\n",
    "model.add(Conv2D(32, (3,3), activation='relu', input_shape=(150,150,3)))\n",
    "model.add(MaxPool2D(pool_size=(2,2)))\n",
    "model.add(Conv2D(64, (3,3), activation='relu', input_shape=(150,150,3)))\n",
    "model.add(MaxPool2D(pool_size=(2,2)))\n",
    "model.add(Conv2D(128, (3,3), activation='relu', input_shape=(150,150,3)))\n",
    "model.add(Flatten())\n",
    "model.add(Dense(64, activation='relu'))\n",
    "model.add(Dense(4, activation='relu'))\n",
    "model.summary()"
   ]
  },
  {
   "cell_type": "code",
   "execution_count": 17,
   "metadata": {
    "colab": {
     "base_uri": "https://localhost:8080/"
    },
    "executionInfo": {
     "elapsed": 941,
     "status": "ok",
     "timestamp": 1648355360847,
     "user": {
      "displayName": "Harsh Sharma",
      "photoUrl": "https://lh3.googleusercontent.com/a/default-user=s64",
      "userId": "05858076118442435203"
     },
     "user_tz": -330
    },
    "id": "3WvZ_8OgZdTv",
    "outputId": "7fe81aa1-0967-4c69-81b0-bf57323564de"
   },
   "outputs": [
    {
     "name": "stdout",
     "output_type": "stream",
     "text": [
      "Model: \"sequential_1\"\n",
      "_________________________________________________________________\n",
      " Layer (type)                Output Shape              Param #   \n",
      "=================================================================\n",
      " conv2d_3 (Conv2D)           (None, 148, 148, 32)      896       \n",
      "                                                                 \n",
      " max_pooling2d_2 (MaxPooling  (None, 74, 74, 32)       0         \n",
      " 2D)                                                             \n",
      "                                                                 \n",
      " conv2d_4 (Conv2D)           (None, 72, 72, 64)        18496     \n",
      "                                                                 \n",
      " max_pooling2d_3 (MaxPooling  (None, 36, 36, 64)       0         \n",
      " 2D)                                                             \n",
      "                                                                 \n",
      " conv2d_5 (Conv2D)           (None, 32, 32, 128)       204928    \n",
      "                                                                 \n",
      " max_pooling2d_4 (MaxPooling  (None, 16, 16, 128)      0         \n",
      " 2D)                                                             \n",
      "                                                                 \n",
      " conv2d_6 (Conv2D)           (None, 12, 12, 128)       409728    \n",
      "                                                                 \n",
      " max_pooling2d_5 (MaxPooling  (None, 6, 6, 128)        0         \n",
      " 2D)                                                             \n",
      "                                                                 \n",
      " flatten_1 (Flatten)         (None, 4608)              0         \n",
      "                                                                 \n",
      " dense_2 (Dense)             (None, 64)                294976    \n",
      "                                                                 \n",
      " dense_3 (Dense)             (None, 4)                 260       \n",
      "                                                                 \n",
      "=================================================================\n",
      "Total params: 929,284\n",
      "Trainable params: 929,284\n",
      "Non-trainable params: 0\n",
      "_________________________________________________________________\n"
     ]
    }
   ],
   "source": [
    "model = Sequential()\n",
    "model.add(Conv2D(32, (3,3), activation='relu', input_shape=(150,150,3)))\n",
    "model.add(MaxPool2D(pool_size=(2,2)))\n",
    "model.add(Conv2D(64, (3,3), activation='relu', input_shape=(150,150,3)))\n",
    "model.add(MaxPool2D(pool_size=(2,2)))\n",
    "model.add(Conv2D(128, (5,5), activation='relu', input_shape=(150,150,3)))\n",
    "model.add(MaxPool2D(pool_size=(2,2)))\n",
    "model.add(Conv2D(128, (5,5), activation='relu', input_shape=(150,150,3)))\n",
    "model.add(MaxPool2D(pool_size=(2,2)))\n",
    "model.add(Flatten())\n",
    "model.add(Dense(64, activation='relu'))\n",
    "model.add(Dense(4, activation='relu'))\n",
    "model.summary()"
   ]
  },
  {
   "cell_type": "code",
   "execution_count": 18,
   "metadata": {
    "executionInfo": {
     "elapsed": 16,
     "status": "ok",
     "timestamp": 1648355360848,
     "user": {
      "displayName": "Harsh Sharma",
      "photoUrl": "https://lh3.googleusercontent.com/a/default-user=s64",
      "userId": "05858076118442435203"
     },
     "user_tz": -330
    },
    "id": "FNcc7BMvsdKN"
   },
   "outputs": [],
   "source": [
    "# Compile model\n",
    "from tensorflow.keras import optimizers\n",
    "\n",
    "adam = optimizers.Adam(learning_rate=1e-5)  # 1e-4 means 10^(-4) = 0.0001\n",
    "model.compile(loss=\"categorical_crossentropy\", optimizer=adam, metrics=['acc'])"
   ]
  },
  {
   "cell_type": "markdown",
   "metadata": {
    "id": "Thg3UYz6sdHw"
   },
   "source": [
    "## Training:\n",
    "- There are 2 methods of training a model:\n",
    "1. `model.fit(x,y)` : This method completely fits all the dataset in the memory. **It is generally used for smaller datasets.** \n",
    "2. **method using generators** (``model.fit(generator)``): "
   ]
  },
  {
   "cell_type": "code",
   "execution_count": 19,
   "metadata": {
    "colab": {
     "base_uri": "https://localhost:8080/"
    },
    "executionInfo": {
     "elapsed": 15,
     "status": "ok",
     "timestamp": 1648355360848,
     "user": {
      "displayName": "Harsh Sharma",
      "photoUrl": "https://lh3.googleusercontent.com/a/default-user=s64",
      "userId": "05858076118442435203"
     },
     "user_tz": -330
    },
    "id": "EdMfT9G5sdDs",
    "outputId": "5f2900c6-c915-477f-944d-73517c6bac4b"
   },
   "outputs": [
    {
     "name": "stdout",
     "output_type": "stream",
     "text": [
      "Found 724 images belonging to 4 classes.\n",
      "Found 84 images belonging to 4 classes.\n"
     ]
    }
   ],
   "source": [
    "## create object of ImageDataGenerator class\n",
    "obj = image.ImageDataGenerator(rescale=1.0/255)  # rescale image in range 0.0 - 1.0\n",
    "val_obj = image.ImageDataGenerator(rescale=1.0/255)\n",
    "\n",
    "# create generator obj now from obj.method()\n",
    "train_generator = obj.flow_from_directory(\n",
    "    \"images\",  ## pass path of dataset as 2st argument\n",
    "    target_size= (150,150),\n",
    "    batch_size=32,  # pass 32 images at once in a batch.\n",
    "    class_mode = \"categorical\"\n",
    ")\n",
    "# for now data augmentation is not used as we haven't passed width_range,\n",
    "#  height_range etc.. params\n",
    "\n",
    "# create val generator also similarly\n",
    "val_generator = val_obj.flow_from_directory(\n",
    "    \"val_images\",  \n",
    "    target_size= (150,150),\n",
    "    batch_size=32,  # pass 32 images at once in a batch.\n",
    "    class_mode = \"categorical\"\n",
    ")"
   ]
  },
  {
   "cell_type": "code",
   "execution_count": 20,
   "metadata": {
    "colab": {
     "base_uri": "https://localhost:8080/"
    },
    "executionInfo": {
     "elapsed": 10,
     "status": "ok",
     "timestamp": 1648355360849,
     "user": {
      "displayName": "Harsh Sharma",
      "photoUrl": "https://lh3.googleusercontent.com/a/default-user=s64",
      "userId": "05858076118442435203"
     },
     "user_tz": -330
    },
    "id": "OfMcHEmysc4T",
    "outputId": "c948bdd6-ea87-4032-a636-023408194d8d"
   },
   "outputs": [
    {
     "data": {
      "text/plain": [
       "(array([[[[0.34509805, 0.32941177, 0.28627452],\n",
       "          [0.34509805, 0.32941177, 0.28627452],\n",
       "          [0.34509805, 0.32941177, 0.28627452],\n",
       "          ...,\n",
       "          [0.47450984, 0.45882356, 0.4156863 ],\n",
       "          [0.47450984, 0.45882356, 0.4156863 ],\n",
       "          [0.47450984, 0.45882356, 0.4156863 ]],\n",
       " \n",
       "         [[0.34509805, 0.32941177, 0.28627452],\n",
       "          [0.34509805, 0.32941177, 0.28627452],\n",
       "          [0.34509805, 0.32941177, 0.28627452],\n",
       "          ...,\n",
       "          [0.47450984, 0.45882356, 0.4156863 ],\n",
       "          [0.47450984, 0.45882356, 0.4156863 ],\n",
       "          [0.47450984, 0.45882356, 0.4156863 ]],\n",
       " \n",
       "         [[0.34509805, 0.32941177, 0.28627452],\n",
       "          [0.34509805, 0.32941177, 0.28627452],\n",
       "          [0.34509805, 0.32941177, 0.28627452],\n",
       "          ...,\n",
       "          [0.48235297, 0.4666667 , 0.42352945],\n",
       "          [0.48235297, 0.4666667 , 0.42352945],\n",
       "          [0.48235297, 0.4666667 , 0.42352945]],\n",
       " \n",
       "         ...,\n",
       " \n",
       "         [[0.41176474, 0.40000004, 0.33333334],\n",
       "          [0.41176474, 0.40000004, 0.33333334],\n",
       "          [0.39607847, 0.38431376, 0.31764707],\n",
       "          ...,\n",
       "          [0.43921572, 0.4156863 , 0.3529412 ],\n",
       "          [0.43529415, 0.41176474, 0.34901962],\n",
       "          [0.41176474, 0.38823533, 0.3254902 ]],\n",
       " \n",
       "         [[0.41176474, 0.40000004, 0.33333334],\n",
       "          [0.42352945, 0.41176474, 0.34509805],\n",
       "          [0.4039216 , 0.3921569 , 0.3254902 ],\n",
       "          ...,\n",
       "          [0.40000004, 0.37647063, 0.3137255 ],\n",
       "          [0.41960788, 0.39607847, 0.33333334],\n",
       "          [0.43529415, 0.41176474, 0.34901962]],\n",
       " \n",
       "         [[0.39607847, 0.38431376, 0.31764707],\n",
       "          [0.39607847, 0.38431376, 0.31764707],\n",
       "          [0.39607847, 0.38431376, 0.31764707],\n",
       "          ...,\n",
       "          [0.4156863 , 0.3921569 , 0.32941177],\n",
       "          [0.4156863 , 0.3921569 , 0.32941177],\n",
       "          [0.41960788, 0.39607847, 0.33333334]]],\n",
       " \n",
       " \n",
       "        [[[0.87843144, 0.8705883 , 0.92549026],\n",
       "          [0.91372555, 0.9058824 , 0.9607844 ],\n",
       "          [0.909804  , 0.90196085, 0.95294124],\n",
       "          ...,\n",
       "          [0.90196085, 0.90196085, 0.94117653],\n",
       "          [0.882353  , 0.89019614, 0.93725497],\n",
       "          [0.882353  , 0.89019614, 0.93725497]],\n",
       " \n",
       "         [[0.89019614, 0.882353  , 0.92549026],\n",
       "          [0.9215687 , 0.91372555, 0.9568628 ],\n",
       "          [0.9176471 , 0.91372555, 0.9450981 ],\n",
       "          ...,\n",
       "          [0.90196085, 0.90196085, 0.94117653],\n",
       "          [0.882353  , 0.89019614, 0.93725497],\n",
       "          [0.882353  , 0.89019614, 0.93725497]],\n",
       " \n",
       "         [[0.8117648 , 0.81568635, 0.7960785 ],\n",
       "          [0.82745105, 0.8313726 , 0.8117648 ],\n",
       "          [0.8431373 , 0.8470589 , 0.82745105],\n",
       "          ...,\n",
       "          [0.90196085, 0.90196085, 0.94117653],\n",
       "          [0.8862746 , 0.8941177 , 0.94117653],\n",
       "          [0.8862746 , 0.8941177 , 0.94117653]],\n",
       " \n",
       "         ...,\n",
       " \n",
       "         [[0.6039216 , 0.4666667 , 0.30980393],\n",
       "          [0.5058824 , 0.36862746, 0.21176472],\n",
       "          [0.49803925, 0.34901962, 0.20392159],\n",
       "          ...,\n",
       "          [0.5372549 , 0.29803923, 0.1254902 ],\n",
       "          [0.38823533, 0.16862746, 0.03137255],\n",
       "          [0.40000004, 0.18039216, 0.04313726]],\n",
       " \n",
       "         [[0.69803923, 0.5803922 , 0.43921572],\n",
       "          [0.72156864, 0.5921569 , 0.454902  ],\n",
       "          [0.6784314 , 0.54901963, 0.41176474],\n",
       "          ...,\n",
       "          [0.47058827, 0.25490198, 0.10196079],\n",
       "          [0.427451  , 0.20784315, 0.07058824],\n",
       "          [0.43529415, 0.21568629, 0.08627451]],\n",
       " \n",
       "         [[0.6392157 , 0.52156866, 0.38823533],\n",
       "          [0.67058825, 0.5529412 , 0.41960788],\n",
       "          [0.6117647 , 0.49411768, 0.36078432],\n",
       "          ...,\n",
       "          [0.53333336, 0.3254902 , 0.16862746],\n",
       "          [0.46274513, 0.24313727, 0.1137255 ],\n",
       "          [0.4666667 , 0.24705884, 0.11764707]]],\n",
       " \n",
       " \n",
       "        [[[0.91372555, 0.8745099 , 0.8352942 ],\n",
       "          [0.91372555, 0.8745099 , 0.8352942 ],\n",
       "          [0.91372555, 0.8745099 , 0.8352942 ],\n",
       "          ...,\n",
       "          [0.6509804 , 0.47450984, 0.32156864],\n",
       "          [0.61960787, 0.4431373 , 0.2901961 ],\n",
       "          [0.6509804 , 0.47450984, 0.32156864]],\n",
       " \n",
       "         [[0.91372555, 0.8745099 , 0.8352942 ],\n",
       "          [0.91372555, 0.8745099 , 0.8352942 ],\n",
       "          [0.91372555, 0.8745099 , 0.8352942 ],\n",
       "          ...,\n",
       "          [0.7803922 , 0.60784316, 0.46274513],\n",
       "          [0.8352942 , 0.6627451 , 0.5176471 ],\n",
       "          [0.8352942 , 0.6627451 , 0.5176471 ]],\n",
       " \n",
       "         [[0.91372555, 0.8745099 , 0.8352942 ],\n",
       "          [0.91372555, 0.8745099 , 0.8352942 ],\n",
       "          [0.91372555, 0.8745099 , 0.8352942 ],\n",
       "          ...,\n",
       "          [0.7686275 , 0.6117647 , 0.47058827],\n",
       "          [0.76470596, 0.60784316, 0.4666667 ],\n",
       "          [0.7568628 , 0.6       , 0.45882356]],\n",
       " \n",
       "         ...,\n",
       " \n",
       "         [[0.909804  , 0.8235295 , 0.73333335],\n",
       "          [0.9294118 , 0.8431373 , 0.75294125],\n",
       "          [0.9215687 , 0.8352942 , 0.74509805],\n",
       "          ...,\n",
       "          [0.20784315, 0.01176471, 0.02352941],\n",
       "          [0.25490198, 0.0509804 , 0.05882353],\n",
       "          [0.3254902 , 0.1137255 , 0.1137255 ]],\n",
       " \n",
       "         [[0.89019614, 0.80392164, 0.72156864],\n",
       "          [0.9058824 , 0.8196079 , 0.7372549 ],\n",
       "          [0.909804  , 0.8235295 , 0.7411765 ],\n",
       "          ...,\n",
       "          [0.2627451 , 0.05882353, 0.07450981],\n",
       "          [0.29803923, 0.08235294, 0.09411766],\n",
       "          [0.38823533, 0.16078432, 0.15686275]],\n",
       " \n",
       "         [[0.91372555, 0.82745105, 0.73333335],\n",
       "          [0.8980393 , 0.8117648 , 0.7176471 ],\n",
       "          [0.89019614, 0.80392164, 0.70980394],\n",
       "          ...,\n",
       "          [0.2509804 , 0.04705883, 0.05490196],\n",
       "          [0.27450982, 0.06666667, 0.04313726],\n",
       "          [0.6039216 , 0.38431376, 0.3254902 ]]],\n",
       " \n",
       " \n",
       "        ...,\n",
       " \n",
       " \n",
       "        [[[0.49411768, 0.5254902 , 0.3019608 ],\n",
       "          [0.29411766, 0.3254902 , 0.10196079],\n",
       "          [0.39607847, 0.427451  , 0.20392159],\n",
       "          ...,\n",
       "          [0.7803922 , 0.8000001 , 0.72156864],\n",
       "          [0.5019608 , 0.52156866, 0.43137258],\n",
       "          [0.28627452, 0.30588236, 0.21568629]],\n",
       " \n",
       "         [[0.18431373, 0.21960786, 0.        ],\n",
       "          [0.33333334, 0.36862746, 0.14509805],\n",
       "          [0.30588236, 0.34509805, 0.10980393],\n",
       "          ...,\n",
       "          [0.9686275 , 0.98823535, 0.909804  ],\n",
       "          [0.75294125, 0.7725491 , 0.68235296],\n",
       "          [0.45098042, 0.47058827, 0.3803922 ]],\n",
       " \n",
       "         [[0.25882354, 0.3137255 , 0.08235294],\n",
       "          [0.34901962, 0.4039216 , 0.16470589],\n",
       "          [0.38823533, 0.4431373 , 0.20392159],\n",
       "          ...,\n",
       "          [0.75294125, 0.7843138 , 0.6901961 ],\n",
       "          [0.40000004, 0.42352945, 0.32156864],\n",
       "          [0.5411765 , 0.5647059 , 0.46274513]],\n",
       " \n",
       "         ...,\n",
       " \n",
       "         [[0.25882354, 0.25882354, 0.26666668],\n",
       "          [0.21176472, 0.21176472, 0.21960786],\n",
       "          [0.27058825, 0.27058825, 0.2784314 ],\n",
       "          ...,\n",
       "          [0.6509804 , 0.5882353 , 0.5294118 ],\n",
       "          [0.64705884, 0.58431375, 0.5254902 ],\n",
       "          [0.64705884, 0.58431375, 0.5254902 ]],\n",
       " \n",
       "         [[0.9294118 , 0.9294118 , 0.93725497],\n",
       "          [0.9490197 , 0.9490197 , 0.9568628 ],\n",
       "          [0.9607844 , 0.9607844 , 0.9686275 ],\n",
       "          ...,\n",
       "          [0.62352943, 0.56078434, 0.5019608 ],\n",
       "          [0.6431373 , 0.5803922 , 0.52156866],\n",
       "          [0.6431373 , 0.5803922 , 0.52156866]],\n",
       " \n",
       "         [[0.97647065, 0.97647065, 0.9843138 ],\n",
       "          [0.9725491 , 0.9725491 , 0.9803922 ],\n",
       "          [0.9686275 , 0.9686275 , 0.97647065],\n",
       "          ...,\n",
       "          [0.62352943, 0.56078434, 0.5019608 ],\n",
       "          [0.63529414, 0.57254905, 0.5137255 ],\n",
       "          [0.63529414, 0.57254905, 0.5137255 ]]],\n",
       " \n",
       " \n",
       "        [[[0.0627451 , 0.0627451 , 0.05490196],\n",
       "          [0.0627451 , 0.0627451 , 0.05490196],\n",
       "          [0.06666667, 0.06666667, 0.06666667],\n",
       "          ...,\n",
       "          [0.2901961 , 0.2509804 , 0.15294118],\n",
       "          [0.2901961 , 0.2509804 , 0.15294118],\n",
       "          [0.28235295, 0.24313727, 0.14509805]],\n",
       " \n",
       "         [[0.05882353, 0.05882353, 0.0509804 ],\n",
       "          [0.05882353, 0.05882353, 0.0509804 ],\n",
       "          [0.0627451 , 0.0627451 , 0.0627451 ],\n",
       "          ...,\n",
       "          [0.3019608 , 0.26666668, 0.15294118],\n",
       "          [0.29411766, 0.25882354, 0.14509805],\n",
       "          [0.28627452, 0.2509804 , 0.13725491]],\n",
       " \n",
       "         [[0.05490196, 0.05490196, 0.04705883],\n",
       "          [0.05490196, 0.05490196, 0.04705883],\n",
       "          [0.05882353, 0.05882353, 0.05882353],\n",
       "          ...,\n",
       "          [0.34509805, 0.3137255 , 0.16862746],\n",
       "          [0.3254902 , 0.29411766, 0.14901961],\n",
       "          [0.31764707, 0.28627452, 0.14117648]],\n",
       " \n",
       "         ...,\n",
       " \n",
       "         [[0.454902  , 0.42352945, 0.12941177],\n",
       "          [0.5803922 , 0.5568628 , 0.25882354],\n",
       "          [0.5372549 , 0.5137255 , 0.20784315],\n",
       "          ...,\n",
       "          [0.21176472, 0.20000002, 0.1254902 ],\n",
       "          [0.23137257, 0.21960786, 0.14509805],\n",
       "          [0.21568629, 0.20392159, 0.12941177]],\n",
       " \n",
       "         [[0.44705886, 0.43921572, 0.20000002],\n",
       "          [0.40000004, 0.40000004, 0.16470589],\n",
       "          [0.44705886, 0.45098042, 0.21568629],\n",
       "          ...,\n",
       "          [0.24705884, 0.2509804 , 0.18823531],\n",
       "          [0.21960786, 0.21176472, 0.16078432],\n",
       "          [0.18039216, 0.17254902, 0.12156864]],\n",
       " \n",
       "         [[0.4039216 , 0.39607847, 0.17254902],\n",
       "          [0.32156864, 0.31764707, 0.09411766],\n",
       "          [0.32156864, 0.3254902 , 0.09803922],\n",
       "          ...,\n",
       "          [0.19607845, 0.20000002, 0.13725491],\n",
       "          [0.21960786, 0.21176472, 0.16078432],\n",
       "          [0.21568629, 0.20784315, 0.15686275]]],\n",
       " \n",
       " \n",
       "        [[[0.14509805, 0.16078432, 0.02352941],\n",
       "          [0.1137255 , 0.12941177, 0.        ],\n",
       "          [0.05882353, 0.06666667, 0.        ],\n",
       "          ...,\n",
       "          [0.05490196, 0.0627451 , 0.01960784],\n",
       "          [0.02352941, 0.02745098, 0.00392157],\n",
       "          [0.01960784, 0.02352941, 0.00392157]],\n",
       " \n",
       "         [[0.20392159, 0.21960786, 0.09019608],\n",
       "          [0.16862746, 0.18039216, 0.05882353],\n",
       "          [0.09803922, 0.10588236, 0.01960784],\n",
       "          ...,\n",
       "          [0.03921569, 0.04705883, 0.00392157],\n",
       "          [0.01176471, 0.01568628, 0.        ],\n",
       "          [0.01176471, 0.01568628, 0.        ]],\n",
       " \n",
       "         [[0.18431373, 0.19607845, 0.08235294],\n",
       "          [0.14901961, 0.16078432, 0.05490196],\n",
       "          [0.07450981, 0.08235294, 0.        ],\n",
       "          ...,\n",
       "          [0.03529412, 0.04313726, 0.        ],\n",
       "          [0.01960784, 0.02352941, 0.        ],\n",
       "          [0.01960784, 0.02352941, 0.00392157]],\n",
       " \n",
       "         ...,\n",
       " \n",
       "         [[0.5176471 , 0.20392159, 0.30980393],\n",
       "          [0.5176471 , 0.20392159, 0.30980393],\n",
       "          [0.5411765 , 0.20784315, 0.32156864],\n",
       "          ...,\n",
       "          [0.6862745 , 0.48235297, 0.3372549 ],\n",
       "          [0.6745098 , 0.46274513, 0.32156864],\n",
       "          [0.6901961 , 0.4784314 , 0.3372549 ]],\n",
       " \n",
       "         [[0.5529412 , 0.13333334, 0.2509804 ],\n",
       "          [0.53333336, 0.14117648, 0.2509804 ],\n",
       "          [0.5294118 , 0.15686275, 0.24313727],\n",
       "          ...,\n",
       "          [0.8431373 , 0.48627454, 0.5529412 ],\n",
       "          [0.8313726 , 0.4666667 , 0.5411765 ],\n",
       "          [0.81568635, 0.45098042, 0.5254902 ]],\n",
       " \n",
       "         [[0.5529412 , 0.13333334, 0.2509804 ],\n",
       "          [0.5411765 , 0.13725491, 0.24313727],\n",
       "          [0.5372549 , 0.15294118, 0.24313727],\n",
       "          ...,\n",
       "          [0.6666667 , 0.29411766, 0.3803922 ],\n",
       "          [0.6509804 , 0.2784314 , 0.3647059 ],\n",
       "          [0.63529414, 0.2627451 , 0.34901962]]]], dtype=float32),\n",
       " array([[1., 0., 0., 0.],\n",
       "        [0., 0., 1., 0.],\n",
       "        [1., 0., 0., 0.],\n",
       "        [1., 0., 0., 0.],\n",
       "        [0., 0., 1., 0.],\n",
       "        [0., 0., 1., 0.],\n",
       "        [1., 0., 0., 0.],\n",
       "        [1., 0., 0., 0.],\n",
       "        [0., 0., 0., 1.],\n",
       "        [0., 0., 1., 0.],\n",
       "        [0., 1., 0., 0.],\n",
       "        [1., 0., 0., 0.],\n",
       "        [0., 0., 0., 1.],\n",
       "        [1., 0., 0., 0.],\n",
       "        [0., 0., 0., 1.],\n",
       "        [0., 1., 0., 0.],\n",
       "        [0., 0., 0., 1.],\n",
       "        [1., 0., 0., 0.],\n",
       "        [0., 1., 0., 0.],\n",
       "        [0., 0., 1., 0.],\n",
       "        [0., 0., 0., 1.],\n",
       "        [0., 1., 0., 0.],\n",
       "        [0., 0., 0., 1.],\n",
       "        [0., 0., 0., 1.],\n",
       "        [0., 0., 1., 0.],\n",
       "        [0., 1., 0., 0.],\n",
       "        [0., 0., 1., 0.],\n",
       "        [0., 0., 1., 0.],\n",
       "        [1., 0., 0., 0.],\n",
       "        [0., 0., 0., 1.],\n",
       "        [0., 0., 0., 1.],\n",
       "        [0., 0., 0., 1.]], dtype=float32))"
      ]
     },
     "execution_count": 20,
     "metadata": {},
     "output_type": "execute_result"
    }
   ],
   "source": [
    "train_generator.next()"
   ]
  },
  {
   "cell_type": "markdown",
   "metadata": {
    "id": "Fd5uLDKPbVr-"
   },
   "source": [
    "- It generates 2 values: X and Y"
   ]
  },
  {
   "cell_type": "code",
   "execution_count": 21,
   "metadata": {
    "colab": {
     "base_uri": "https://localhost:8080/"
    },
    "executionInfo": {
     "elapsed": 398,
     "status": "ok",
     "timestamp": 1648355361241,
     "user": {
      "displayName": "Harsh Sharma",
      "photoUrl": "https://lh3.googleusercontent.com/a/default-user=s64",
      "userId": "05858076118442435203"
     },
     "user_tz": -330
    },
    "id": "7ToMQFiQsc2D",
    "outputId": "22c97ae8-1f1f-416e-a2a7-e548b0eb5ba1"
   },
   "outputs": [
    {
     "name": "stdout",
     "output_type": "stream",
     "text": [
      "(32, 150, 150, 3)\n",
      "(32, 4)\n"
     ]
    }
   ],
   "source": [
    "X, Y = train_generator.next()\n",
    "print(X.shape)\n",
    "print(Y.shape)"
   ]
  },
  {
   "cell_type": "code",
   "execution_count": 22,
   "metadata": {
    "colab": {
     "base_uri": "https://localhost:8080/"
    },
    "executionInfo": {
     "elapsed": 6,
     "status": "ok",
     "timestamp": 1648355361242,
     "user": {
      "displayName": "Harsh Sharma",
      "photoUrl": "https://lh3.googleusercontent.com/a/default-user=s64",
      "userId": "05858076118442435203"
     },
     "user_tz": -330
    },
    "id": "yyFJSe9pbZ1P",
    "outputId": "57490120-6a39-49d2-fce3-bfdc27aa17dd"
   },
   "outputs": [
    {
     "name": "stdout",
     "output_type": "stream",
     "text": [
      "(32, 150, 150, 3)\n",
      "(32, 4)\n"
     ]
    }
   ],
   "source": [
    "for X, Y in train_generator:\n",
    "  print(X.shape)\n",
    "  print(Y.shape)\n",
    "  break"
   ]
  },
  {
   "cell_type": "code",
   "execution_count": 22,
   "metadata": {
    "executionInfo": {
     "elapsed": 4,
     "status": "ok",
     "timestamp": 1648355361242,
     "user": {
      "displayName": "Harsh Sharma",
      "photoUrl": "https://lh3.googleusercontent.com/a/default-user=s64",
      "userId": "05858076118442435203"
     },
     "user_tz": -330
    },
    "id": "SS4NxxObIdW8"
   },
   "outputs": [],
   "source": []
  },
  {
   "cell_type": "code",
   "execution_count": 23,
   "metadata": {
    "colab": {
     "base_uri": "https://localhost:8080/"
    },
    "executionInfo": {
     "elapsed": 161520,
     "status": "ok",
     "timestamp": 1648355522759,
     "user": {
      "displayName": "Harsh Sharma",
      "photoUrl": "https://lh3.googleusercontent.com/a/default-user=s64",
      "userId": "05858076118442435203"
     },
     "user_tz": -330
    },
    "id": "2JJni36obaCJ",
    "outputId": "62d63e48-1959-4c65-b00e-8a0f909c36a5"
   },
   "outputs": [
    {
     "name": "stdout",
     "output_type": "stream",
     "text": [
      "Epoch 1/50\n",
      "23/23 [==============================] - 15s 163ms/step - loss: 3.4104 - acc: 0.2652 - val_loss: 2.0680 - val_acc: 0.1548\n",
      "Epoch 2/50\n",
      "23/23 [==============================] - 3s 124ms/step - loss: 1.5764 - acc: 0.2804 - val_loss: 1.4965 - val_acc: 0.1667\n",
      "Epoch 3/50\n",
      "23/23 [==============================] - 3s 124ms/step - loss: 1.4369 - acc: 0.2942 - val_loss: 1.4521 - val_acc: 0.2143\n",
      "Epoch 4/50\n",
      "23/23 [==============================] - 3s 122ms/step - loss: 1.4148 - acc: 0.3191 - val_loss: 1.4366 - val_acc: 0.2262\n",
      "Epoch 5/50\n",
      "23/23 [==============================] - 3s 124ms/step - loss: 1.4021 - acc: 0.3633 - val_loss: 1.4191 - val_acc: 0.2381\n",
      "Epoch 6/50\n",
      "23/23 [==============================] - 3s 122ms/step - loss: 1.3726 - acc: 0.3329 - val_loss: 1.4091 - val_acc: 0.2381\n",
      "Epoch 7/50\n",
      "23/23 [==============================] - 3s 122ms/step - loss: 1.3296 - acc: 0.3564 - val_loss: 1.3830 - val_acc: 0.2262\n",
      "Epoch 8/50\n",
      "23/23 [==============================] - 3s 122ms/step - loss: 1.3177 - acc: 0.3992 - val_loss: 1.3754 - val_acc: 0.2619\n",
      "Epoch 9/50\n",
      "23/23 [==============================] - 3s 121ms/step - loss: 1.3031 - acc: 0.4033 - val_loss: 1.3675 - val_acc: 0.2738\n",
      "Epoch 10/50\n",
      "23/23 [==============================] - 3s 121ms/step - loss: 1.2878 - acc: 0.4254 - val_loss: 1.3651 - val_acc: 0.3214\n",
      "Epoch 11/50\n",
      "23/23 [==============================] - 3s 122ms/step - loss: 1.2648 - acc: 0.4655 - val_loss: 1.3599 - val_acc: 0.3095\n",
      "Epoch 12/50\n",
      "23/23 [==============================] - 3s 122ms/step - loss: 1.2386 - acc: 0.4434 - val_loss: 1.5185 - val_acc: 0.3095\n",
      "Epoch 13/50\n",
      "23/23 [==============================] - 3s 123ms/step - loss: 1.2065 - acc: 0.4779 - val_loss: 1.3889 - val_acc: 0.3571\n",
      "Epoch 14/50\n",
      "23/23 [==============================] - 3s 121ms/step - loss: 1.2140 - acc: 0.4599 - val_loss: 1.4697 - val_acc: 0.3452\n",
      "Epoch 15/50\n",
      "23/23 [==============================] - 3s 120ms/step - loss: 1.1719 - acc: 0.4779 - val_loss: 1.6891 - val_acc: 0.3571\n",
      "Epoch 16/50\n",
      "23/23 [==============================] - 3s 121ms/step - loss: 1.1708 - acc: 0.5069 - val_loss: 1.9516 - val_acc: 0.3690\n",
      "Epoch 17/50\n",
      "23/23 [==============================] - 3s 121ms/step - loss: 1.1788 - acc: 0.5304 - val_loss: 1.2779 - val_acc: 0.3929\n",
      "Epoch 18/50\n",
      "23/23 [==============================] - 3s 122ms/step - loss: 1.1080 - acc: 0.5387 - val_loss: 1.5424 - val_acc: 0.3452\n",
      "Epoch 19/50\n",
      "23/23 [==============================] - 3s 122ms/step - loss: 1.2553 - acc: 0.4392 - val_loss: 1.6049 - val_acc: 0.2976\n",
      "Epoch 20/50\n",
      "23/23 [==============================] - 3s 138ms/step - loss: 1.2188 - acc: 0.3536 - val_loss: 1.2910 - val_acc: 0.3095\n",
      "Epoch 21/50\n",
      "23/23 [==============================] - 3s 121ms/step - loss: 1.1688 - acc: 0.4738 - val_loss: 1.2585 - val_acc: 0.3690\n",
      "Epoch 22/50\n",
      "23/23 [==============================] - 3s 120ms/step - loss: 1.0971 - acc: 0.5580 - val_loss: 1.2636 - val_acc: 0.3333\n",
      "Epoch 23/50\n",
      "23/23 [==============================] - 3s 121ms/step - loss: 1.0018 - acc: 0.5843 - val_loss: 1.6700 - val_acc: 0.3571\n",
      "Epoch 24/50\n",
      "23/23 [==============================] - 3s 122ms/step - loss: 0.9636 - acc: 0.6257 - val_loss: 1.6428 - val_acc: 0.4048\n",
      "Epoch 25/50\n",
      "23/23 [==============================] - 3s 122ms/step - loss: 0.9568 - acc: 0.6202 - val_loss: 2.4559 - val_acc: 0.3929\n",
      "Epoch 26/50\n",
      "23/23 [==============================] - 3s 120ms/step - loss: 1.1600 - acc: 0.5345 - val_loss: 1.9059 - val_acc: 0.4405\n",
      "Epoch 27/50\n",
      "23/23 [==============================] - 3s 123ms/step - loss: 1.0363 - acc: 0.5539 - val_loss: 1.5292 - val_acc: 0.4405\n",
      "Epoch 28/50\n",
      "23/23 [==============================] - 3s 121ms/step - loss: 0.9012 - acc: 0.6119 - val_loss: 1.8873 - val_acc: 0.5357\n",
      "Epoch 29/50\n",
      "23/23 [==============================] - 3s 122ms/step - loss: nan - acc: 0.6754 - val_loss: nan - val_acc: 0.4762\n",
      "Epoch 30/50\n",
      "23/23 [==============================] - 3s 123ms/step - loss: nan - acc: 0.6920 - val_loss: nan - val_acc: 0.5000\n",
      "Epoch 31/50\n",
      "23/23 [==============================] - 3s 122ms/step - loss: nan - acc: 0.3605 - val_loss: 4.8730 - val_acc: 0.2500\n",
      "Epoch 32/50\n",
      "23/23 [==============================] - 3s 122ms/step - loss: 4.7976 - acc: 0.2528 - val_loss: 4.8018 - val_acc: 0.2619\n",
      "Epoch 33/50\n",
      "23/23 [==============================] - 3s 123ms/step - loss: 4.7581 - acc: 0.3108 - val_loss: 4.7703 - val_acc: 0.3095\n",
      "Epoch 34/50\n",
      "23/23 [==============================] - 3s 123ms/step - loss: 4.6135 - acc: 0.4710 - val_loss: 3.2840 - val_acc: 0.4524\n",
      "Epoch 35/50\n",
      "23/23 [==============================] - 3s 122ms/step - loss: 1.4307 - acc: 0.5428 - val_loss: 1.2216 - val_acc: 0.4286\n",
      "Epoch 36/50\n",
      "23/23 [==============================] - 3s 117ms/step - loss: 1.1293 - acc: 0.5028 - val_loss: 1.1921 - val_acc: 0.4643\n",
      "Epoch 37/50\n",
      "23/23 [==============================] - 3s 119ms/step - loss: 1.0849 - acc: 0.5318 - val_loss: 1.1637 - val_acc: 0.4405\n",
      "Epoch 38/50\n",
      "23/23 [==============================] - 3s 123ms/step - loss: 1.0388 - acc: 0.5718 - val_loss: 1.1298 - val_acc: 0.4524\n",
      "Epoch 39/50\n",
      "23/23 [==============================] - 3s 124ms/step - loss: 0.9816 - acc: 0.5870 - val_loss: 1.2233 - val_acc: 0.4762\n",
      "Epoch 40/50\n",
      "23/23 [==============================] - 3s 124ms/step - loss: 1.0011 - acc: 0.6119 - val_loss: 1.3733 - val_acc: 0.4405\n",
      "Epoch 41/50\n",
      "23/23 [==============================] - 3s 122ms/step - loss: 1.0361 - acc: 0.4779 - val_loss: 1.7575 - val_acc: 0.2738\n",
      "Epoch 42/50\n",
      "23/23 [==============================] - 3s 124ms/step - loss: 1.0508 - acc: 0.4710 - val_loss: 1.1200 - val_acc: 0.4524\n",
      "Epoch 43/50\n",
      "23/23 [==============================] - 3s 125ms/step - loss: 0.9556 - acc: 0.6298 - val_loss: 1.0916 - val_acc: 0.5119\n",
      "Epoch 44/50\n",
      "23/23 [==============================] - 3s 126ms/step - loss: nan - acc: 0.6547 - val_loss: 1.5732 - val_acc: 0.5357\n",
      "Epoch 45/50\n",
      "23/23 [==============================] - 3s 122ms/step - loss: nan - acc: 0.6312 - val_loss: 1.6209 - val_acc: 0.5119\n",
      "Epoch 46/50\n",
      "23/23 [==============================] - 3s 125ms/step - loss: 0.8425 - acc: 0.6409 - val_loss: 1.5988 - val_acc: 0.5357\n",
      "Epoch 47/50\n",
      "23/23 [==============================] - 3s 125ms/step - loss: nan - acc: 0.6782 - val_loss: nan - val_acc: 0.4405\n",
      "Epoch 48/50\n",
      "23/23 [==============================] - 3s 125ms/step - loss: nan - acc: 0.6215 - val_loss: 1.4652 - val_acc: 0.5119\n",
      "Epoch 49/50\n",
      "23/23 [==============================] - 3s 122ms/step - loss: nan - acc: 0.6671 - val_loss: 1.2411 - val_acc: 0.5000\n",
      "Epoch 50/50\n",
      "23/23 [==============================] - 3s 127ms/step - loss: nan - acc: 0.6975 - val_loss: nan - val_acc: 0.4762\n"
     ]
    }
   ],
   "source": [
    "## train model\n",
    "\n",
    "hist = model.fit(\n",
    "    train_generator,\n",
    "    epochs=50,\n",
    "    # steps_per_epoch = 23,  # 724 images, batch_size=32. So ceil(724/32) = 23\n",
    "    validation_data = val_generator,\n",
    "    validation_steps= 3    # 84exaples: batch_size(32)*3steps = Some validation will repeat\n",
    ")"
   ]
  },
  {
   "cell_type": "code",
   "execution_count": 24,
   "metadata": {
    "colab": {
     "base_uri": "https://localhost:8080/",
     "height": 266
    },
    "executionInfo": {
     "elapsed": 18,
     "status": "ok",
     "timestamp": 1648355522760,
     "user": {
      "displayName": "Harsh Sharma",
      "photoUrl": "https://lh3.googleusercontent.com/a/default-user=s64",
      "userId": "05858076118442435203"
     },
     "user_tz": -330
    },
    "id": "Huq426kobaGt",
    "outputId": "5051b14b-e189-4ea8-c4be-2d5e8a685d40"
   },
   "outputs": [
    {
     "data": {
      "image/png": "[encoded data removed]",
      "text/plain": [
       "<Figure size 432x288 with 1 Axes>"
      ]
     },
     "metadata": {
      "needs_background": "light"
     },
     "output_type": "display_data"
    }
   ],
   "source": [
    "h = hist.history\n",
    "plt.plot(h['loss'], label=\"Training Loss\")\n",
    "plt.plot(h['val_loss'], label=\"Validation Loss\")\n",
    "plt.legend()\n",
    "plt.show()"
   ]
  },
  {
   "cell_type": "code",
   "execution_count": 25,
   "metadata": {
    "colab": {
     "base_uri": "https://localhost:8080/",
     "height": 265
    },
    "executionInfo": {
     "elapsed": 1042,
     "status": "ok",
     "timestamp": 1648355523786,
     "user": {
      "displayName": "Harsh Sharma",
      "photoUrl": "https://lh3.googleusercontent.com/a/default-user=s64",
      "userId": "05858076118442435203"
     },
     "user_tz": -330
    },
    "id": "O1W15L41baI0",
    "outputId": "f341b3f3-0121-43ba-d288-0206744f59ff"
   },
   "outputs": [
    {
     "data": {
      "image/png": "[encoded data removed]",
      "text/plain": [
       "<Figure size 432x288 with 1 Axes>"
      ]
     },
     "metadata": {
      "needs_background": "light"
     },
     "output_type": "display_data"
    }
   ],
   "source": [
    "h = hist.history\n",
    "plt.plot(h['acc'], label=\"Training Accuracy\")\n",
    "plt.plot(h['val_acc'], label=\"Validation Accuracy\")\n",
    "plt.legend()\n",
    "plt.show()"
   ]
  },
  {
   "cell_type": "code",
   "execution_count": 25,
   "metadata": {
    "executionInfo": {
     "elapsed": 9,
     "status": "ok",
     "timestamp": 1648355523787,
     "user": {
      "displayName": "Harsh Sharma",
      "photoUrl": "https://lh3.googleusercontent.com/a/default-user=s64",
      "userId": "05858076118442435203"
     },
     "user_tz": -330
    },
    "id": "OOJuFBZFbaLv"
   },
   "outputs": [],
   "source": []
  }
 ],
 "metadata": {
  "accelerator": "GPU",
  "colab": {
   "authorship_tag": "ABX9TyNhc2mPB74ml8tPlsi/dobg",
   "collapsed_sections": [],
   "name": "10_GoogleColab_and_TrainGen.ipynb",
   "provenance": []
  },
  "kernelspec": {
   "display_name": "Python 3 (ipykernel)",
   "language": "python",
   "name": "python3"
  },
  "language_info": {
   "codemirror_mode": {
    "name": "ipython",
    "version": 3
   },
   "file_extension": ".py",
   "mimetype": "text/x-python",
   "name": "python",
   "nbconvert_exporter": "python",
   "pygments_lexer": "ipython3",
   "version": "3.8.10"
  }
 },
 "nbformat": 4,
 "nbformat_minor": 1
}
