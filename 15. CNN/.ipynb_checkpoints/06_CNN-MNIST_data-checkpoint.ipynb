{
 "cells": [
  {
   "cell_type": "markdown",
   "metadata": {
    "id": "1nSs3XlRSddD"
   },
   "source": [
    "### This is some different architecture on same dataset. Try this out."
   ]
  },
  {
   "cell_type": "code",
   "execution_count": null,
   "metadata": {
    "id": "n9gICaB-SdeG"
   },
   "outputs": [],
   "source": [
    "from keras.layers import "
   ]
  },
  {
   "cell_type": "code",
   "execution_count": 1,
   "metadata": {
    "executionInfo": {
     "elapsed": 2986,
     "status": "ok",
     "timestamp": 1647863502680,
     "user": {
      "displayName": "Harsh Sharma",
      "photoUrl": "https://lh3.googleusercontent.com/a/default-user=s64",
      "userId": "05858076118442435203"
     },
     "user_tz": -330
    },
    "id": "5UQETGDk07a3"
   },
   "outputs": [
    {
     "name": "stderr",
     "output_type": "stream",
     "text": [
      "2022-03-22 11:08:10.236005: W tensorflow/stream_executor/platform/default/dso_loader.cc:64] Could not load dynamic library 'libcudart.so.11.0'; dlerror: libcudart.so.11.0: cannot open shared object file: No such file or directory\n",
      "2022-03-22 11:08:10.236041: I tensorflow/stream_executor/cuda/cudart_stub.cc:29] Ignore above cudart dlerror if you do not have a GPU set up on your machine.\n"
     ]
    }
   ],
   "source": [
    "from keras.layers import * ## import all the layers\n",
    "from keras.models import Sequential"
   ]
  },
  {
   "cell_type": "markdown",
   "metadata": {},
   "source": [
    "- This * should not be done generally. It imports all the layers."
   ]
  },
  {
   "cell_type": "markdown",
   "metadata": {},
   "source": [
    "- Note in below architecture, we increase number of filters, because in 1srt layer, some big features from image are extracted like face, nose, arms etcc..\n",
    "- Then in next layer furthur features are extracted from this face, nose, arms etcc.. and there are a lot of tiny features of face etcc. That's why we increase filters generally.\n",
    "- Watch 3Blue1Brown Neural Network for better understanding of this. How these hidden layers work."
   ]
  },
  {
   "cell_type": "code",
   "execution_count": 2,
   "metadata": {
    "colab": {
     "base_uri": "https://localhost:8080/"
    },
    "executionInfo": {
     "elapsed": 1111,
     "status": "ok",
     "timestamp": 1647863503773,
     "user": {
      "displayName": "Harsh Sharma",
      "photoUrl": "https://lh3.googleusercontent.com/a/default-user=s64",
      "userId": "05858076118442435203"
     },
     "user_tz": -330
    },
    "id": "WST-1Hu11PYs",
    "outputId": "2f776908-8ded-49f1-bacf-0d5bc9969ba0"
   },
   "outputs": [
    {
     "name": "stdout",
     "output_type": "stream",
     "text": [
      "Model: \"sequential\"\n",
      "_________________________________________________________________\n",
      " Layer (type)                Output Shape              Param #   \n",
      "=================================================================\n",
      " conv2d (Conv2D)             (None, 26, 26, 32)        320       \n",
      "                                                                 \n",
      " max_pooling2d (MaxPooling2D  (None, 13, 13, 32)       0         \n",
      " )                                                               \n",
      "                                                                 \n",
      " conv2d_1 (Conv2D)           (None, 11, 11, 64)        18496     \n",
      "                                                                 \n",
      " max_pooling2d_1 (MaxPooling  (None, 5, 5, 64)         0         \n",
      " 2D)                                                             \n",
      "                                                                 \n",
      " conv2d_2 (Conv2D)           (None, 3, 3, 64)          36928     \n",
      "                                                                 \n",
      " flatten (Flatten)           (None, 576)               0         \n",
      "                                                                 \n",
      " dense (Dense)               (None, 64)                36928     \n",
      "                                                                 \n",
      " dense_1 (Dense)             (None, 10)                650       \n",
      "                                                                 \n",
      "=================================================================\n",
      "Total params: 93,322\n",
      "Trainable params: 93,322\n",
      "Non-trainable params: 0\n",
      "_________________________________________________________________\n"
     ]
    }
   ],
   "source": [
    "# Build a Model \n",
    "\n",
    "model = Sequential()\n",
    "model.add(Conv2D(32,(3,3),activation='relu',input_shape=(28,28,1)))\n",
    "model.add(MaxPool2D((2,2)))\n",
    "model.add(Conv2D(64,(3,3),activation='relu',input_shape=(28,28,1)))\n",
    "model.add(MaxPool2D((2,2)))\n",
    "model.add(Conv2D(64,(3,3),activation='relu',input_shape=(28,28,1)))\n",
    "model.add(Flatten())\n",
    "model.add(Dense(64,activation='relu'))\n",
    "model.add(Dense(10,activation='softmax'))\n",
    "model.summary()"
   ]
  },
  {
   "cell_type": "markdown",
   "metadata": {},
   "source": [
    "- Conv layer taken (28,28,1) grayscale image as input, means a single channel image and output id (26,26,1). But here we apply 32 filters in 1st layer. So output will have 32 images in stack of size (26,26,1). So total output = (26,26,32).\n",
    "- In Maxpooling, height and weight gets shrinked to 50%. But number of channels remain same. SO output=(13,13,32). Then next layer have 32 channel_images passed as input if size 13,13.\n",
    "- All these 32 output images are connected to all 64 filters in next layer. And output of next layer will have 64 channels of size 13-3+1,13-3+1 = (11,11) images with 64 filters or we can say (11,11,64) output as we stack all 64 filters to make one single filter."
   ]
  },
  {
   "cell_type": "code",
   "execution_count": 3,
   "metadata": {
    "executionInfo": {
     "elapsed": 618,
     "status": "ok",
     "timestamp": 1647863504385,
     "user": {
      "displayName": "Harsh Sharma",
      "photoUrl": "https://lh3.googleusercontent.com/a/default-user=s64",
      "userId": "05858076118442435203"
     },
     "user_tz": -330
    },
    "id": "8mr8Swri1Tvw"
   },
   "outputs": [],
   "source": [
    "#Dataset\n",
    "from keras.datasets import mnist\n",
    "from tensorflow.keras.utils import to_categorical\n",
    "(XTrain,YTrain),(XTest,YTest) = mnist.load_data()"
   ]
  },
  {
   "cell_type": "code",
   "execution_count": 4,
   "metadata": {
    "colab": {
     "base_uri": "https://localhost:8080/"
    },
    "executionInfo": {
     "elapsed": 16,
     "status": "ok",
     "timestamp": 1647863504388,
     "user": {
      "displayName": "Harsh Sharma",
      "photoUrl": "https://lh3.googleusercontent.com/a/default-user=s64",
      "userId": "05858076118442435203"
     },
     "user_tz": -330
    },
    "id": "imDDq6a81bLp",
    "outputId": "66eac72a-e92f-45a4-bd27-c2c89412055a"
   },
   "outputs": [
    {
     "name": "stdout",
     "output_type": "stream",
     "text": [
      "(60000, 28, 28, 1) (60000, 10)\n",
      "(10000, 28, 28, 1) (10000, 10)\n"
     ]
    }
   ],
   "source": [
    "def preprocess_data(X,Y):\n",
    "    X = X.reshape((-1,28,28,1))\n",
    "    X = X/255.0\n",
    "    Y = to_categorical(Y)\n",
    "    return X,Y\n",
    "\n",
    "XTrain,YTrain = preprocess_data(XTrain,YTrain)\n",
    "print(XTrain.shape,YTrain.shape)\n",
    "\n",
    "XTest,YTest = preprocess_data(XTest,YTest)\n",
    "print(XTest.shape,YTest.shape)"
   ]
  },
  {
   "cell_type": "code",
   "execution_count": 5,
   "metadata": {
    "colab": {
     "base_uri": "https://localhost:8080/"
    },
    "executionInfo": {
     "elapsed": 98353,
     "status": "ok",
     "timestamp": 1647863602729,
     "user": {
      "displayName": "Harsh Sharma",
      "photoUrl": "https://lh3.googleusercontent.com/a/default-user=s64",
      "userId": "05858076118442435203"
     },
     "user_tz": -330
    },
    "id": "kFn8D-3M1eAb",
    "outputId": "1ed79058-dd77-49b3-8e19-563a76c7e42e"
   },
   "outputs": [
    {
     "name": "stdout",
     "output_type": "stream",
     "text": [
      "Epoch 1/20\n",
      "422/422 [==============================] - 9s 18ms/step - loss: 0.2626 - accuracy: 0.9229 - val_loss: 0.0698 - val_accuracy: 0.9813\n",
      "Epoch 2/20\n",
      "422/422 [==============================] - 7s 17ms/step - loss: 0.0727 - accuracy: 0.9774 - val_loss: 0.0636 - val_accuracy: 0.9823\n",
      "Epoch 3/20\n",
      "422/422 [==============================] - 7s 17ms/step - loss: 0.0491 - accuracy: 0.9844 - val_loss: 0.0602 - val_accuracy: 0.9825\n",
      "Epoch 4/20\n",
      "422/422 [==============================] - 6s 15ms/step - loss: 0.0394 - accuracy: 0.9875 - val_loss: 0.0468 - val_accuracy: 0.9858\n",
      "Epoch 5/20\n",
      "422/422 [==============================] - 5s 12ms/step - loss: 0.0303 - accuracy: 0.9905 - val_loss: 0.0381 - val_accuracy: 0.9892\n",
      "Epoch 6/20\n",
      "422/422 [==============================] - 4s 10ms/step - loss: 0.0249 - accuracy: 0.9925 - val_loss: 0.0338 - val_accuracy: 0.9907\n",
      "Epoch 7/20\n",
      "422/422 [==============================] - 4s 10ms/step - loss: 0.0233 - accuracy: 0.9924 - val_loss: 0.0326 - val_accuracy: 0.9913\n",
      "Epoch 8/20\n",
      "422/422 [==============================] - 4s 10ms/step - loss: 0.0185 - accuracy: 0.9938 - val_loss: 0.0366 - val_accuracy: 0.9907\n",
      "Epoch 9/20\n",
      "422/422 [==============================] - 4s 10ms/step - loss: 0.0162 - accuracy: 0.9947 - val_loss: 0.0317 - val_accuracy: 0.9920\n",
      "Epoch 10/20\n",
      "422/422 [==============================] - 4s 10ms/step - loss: 0.0125 - accuracy: 0.9959 - val_loss: 0.0436 - val_accuracy: 0.9887\n",
      "Epoch 11/20\n",
      "422/422 [==============================] - 4s 10ms/step - loss: 0.0112 - accuracy: 0.9962 - val_loss: 0.0364 - val_accuracy: 0.9912\n",
      "Epoch 12/20\n",
      "422/422 [==============================] - 4s 10ms/step - loss: 0.0104 - accuracy: 0.9965 - val_loss: 0.0361 - val_accuracy: 0.9923\n",
      "Epoch 13/20\n",
      "422/422 [==============================] - 4s 10ms/step - loss: 0.0094 - accuracy: 0.9965 - val_loss: 0.0363 - val_accuracy: 0.9917\n",
      "Epoch 14/20\n",
      "422/422 [==============================] - 4s 10ms/step - loss: 0.0075 - accuracy: 0.9975 - val_loss: 0.0416 - val_accuracy: 0.9897\n",
      "Epoch 15/20\n",
      "422/422 [==============================] - 4s 10ms/step - loss: 0.0083 - accuracy: 0.9974 - val_loss: 0.0458 - val_accuracy: 0.9907\n",
      "Epoch 16/20\n",
      "422/422 [==============================] - 4s 10ms/step - loss: 0.0067 - accuracy: 0.9977 - val_loss: 0.0464 - val_accuracy: 0.9903\n",
      "Epoch 17/20\n",
      "422/422 [==============================] - 4s 10ms/step - loss: 0.0077 - accuracy: 0.9971 - val_loss: 0.0382 - val_accuracy: 0.9920\n",
      "Epoch 18/20\n",
      "422/422 [==============================] - 4s 10ms/step - loss: 0.0065 - accuracy: 0.9979 - val_loss: 0.0466 - val_accuracy: 0.9895\n",
      "Epoch 19/20\n",
      "422/422 [==============================] - 4s 10ms/step - loss: 0.0051 - accuracy: 0.9983 - val_loss: 0.0373 - val_accuracy: 0.9928\n",
      "Epoch 20/20\n",
      "422/422 [==============================] - 4s 10ms/step - loss: 0.0034 - accuracy: 0.9989 - val_loss: 0.0473 - val_accuracy: 0.9913\n"
     ]
    }
   ],
   "source": [
    "# Model Compilation\n",
    "model.compile(optimizer='adam',loss='categorical_crossentropy',metrics=['accuracy'])\n",
    "hist = model.fit(XTrain,YTrain,epochs=20,validation_split=0.1,batch_size=128)"
   ]
  },
  {
   "cell_type": "markdown",
   "metadata": {
    "id": "_MnWRKoKTWSM"
   },
   "source": [
    "- It took around 1.5mins only to train 60,000 images on google colab. Whereas earlier my CPU was taking 4mins to train only 10,000 examples. \n",
    "##### **Now accuracy is also pretty much high. By only using a different architecture, we got this much high accuracy.**\n",
    "\n",
    "<hr>"
   ]
  },
  {
   "cell_type": "code",
   "execution_count": 6,
   "metadata": {
    "colab": {
     "base_uri": "https://localhost:8080/"
    },
    "executionInfo": {
     "elapsed": 1224,
     "status": "ok",
     "timestamp": 1647863603884,
     "user": {
      "displayName": "Harsh Sharma",
      "photoUrl": "https://lh3.googleusercontent.com/a/default-user=s64",
      "userId": "05858076118442435203"
     },
     "user_tz": -330
    },
    "id": "QqoMHU4-1sib",
    "outputId": "e6d7d7f9-a7fb-4da1-f4ad-67d3d84c2660"
   },
   "outputs": [
    {
     "name": "stdout",
     "output_type": "stream",
     "text": [
      "313/313 [==============================] - 1s 4ms/step - loss: 0.0291 - accuracy: 0.9918\n"
     ]
    },
    {
     "data": {
      "text/plain": [
       "[0.02908977121114731, 0.9918000102043152]"
      ]
     },
     "execution_count": 6,
     "metadata": {},
     "output_type": "execute_result"
    }
   ],
   "source": [
    "model.evaluate(XTest,YTest)"
   ]
  },
  {
   "cell_type": "markdown",
   "metadata": {
    "id": "jPGjBMvhU0Q3"
   },
   "source": [
    "## **Model now giving 99% accuracy !!** "
   ]
  },
  {
   "cell_type": "code",
   "execution_count": 10,
   "metadata": {
    "colab": {
     "base_uri": "https://localhost:8080/"
    },
    "executionInfo": {
     "elapsed": 1539,
     "status": "ok",
     "timestamp": 1647863775545,
     "user": {
      "displayName": "Harsh Sharma",
      "photoUrl": "https://lh3.googleusercontent.com/a/default-user=s64",
      "userId": "05858076118442435203"
     },
     "user_tz": -330
    },
    "id": "ilhUQvX8UblL",
    "outputId": "2807f254-209b-4ff6-e7d6-691f9eee0a64"
   },
   "outputs": [
    {
     "name": "stdout",
     "output_type": "stream",
     "text": [
      "0.9859013820489295\n"
     ]
    }
   ],
   "source": [
    "y_pred = model.predict(XTest)\n",
    "\n",
    "from sklearn.metrics import r2_score\n",
    "r2_score = r2_score(YTest, y_pred)\n",
    "print(r2_score)"
   ]
  },
  {
   "cell_type": "code",
   "execution_count": 11,
   "metadata": {
    "colab": {
     "base_uri": "https://localhost:8080/"
    },
    "executionInfo": {
     "elapsed": 447,
     "status": "ok",
     "timestamp": 1647863803398,
     "user": {
      "displayName": "Harsh Sharma",
      "photoUrl": "https://lh3.googleusercontent.com/a/default-user=s64",
      "userId": "05858076118442435203"
     },
     "user_tz": -330
    },
    "id": "3NS_ZNnQ2Q3u",
    "outputId": "1f6a5066-963a-4646-d2f4-408984edafe9"
   },
   "outputs": [
    {
     "name": "stdout",
     "output_type": "stream",
     "text": [
      "Model: \"sequential_1\"\n",
      "_________________________________________________________________\n",
      " Layer (type)                Output Shape              Param #   \n",
      "=================================================================\n",
      " conv2d_3 (Conv2D)           (None, 26, 26, 32)        320       \n",
      "                                                                 \n",
      " conv2d_4 (Conv2D)           (None, 24, 24, 64)        18496     \n",
      "                                                                 \n",
      " conv2d_5 (Conv2D)           (None, 22, 22, 64)        36928     \n",
      "                                                                 \n",
      " flatten_1 (Flatten)         (None, 30976)             0         \n",
      "                                                                 \n",
      " dense_2 (Dense)             (None, 64)                1982528   \n",
      "                                                                 \n",
      " dense_3 (Dense)             (None, 10)                650       \n",
      "                                                                 \n",
      "=================================================================\n",
      "Total params: 2,038,922\n",
      "Trainable params: 2,038,922\n",
      "Non-trainable params: 0\n",
      "_________________________________________________________________\n"
     ]
    }
   ],
   "source": [
    "# Build a Model without Pooling?\n",
    "# Why Pooling is Important -> Reduce Params, Increase Receptive Field of the Network!\n",
    "\n",
    "model = Sequential()\n",
    "model.add(Conv2D(32,(3,3),activation='relu',input_shape=(28,28,1)))\n",
    "#model.add(MaxPool2D((2,2)))\n",
    "model.add(Conv2D(64,(3,3),activation='relu',input_shape=(28,28,1)))\n",
    "#model.add(MaxPool2D((2,2)))\n",
    "model.add(Conv2D(64,(3,3),activation='relu',input_shape=(28,28,1)))\n",
    "model.add(Flatten())\n",
    "model.add(Dense(64,activation='relu'))\n",
    "model.add(Dense(10,activation='softmax'))\n",
    "model.summary()"
   ]
  },
  {
   "cell_type": "markdown",
   "metadata": {
    "id": "2D957k2zT-Iv"
   },
   "source": [
    "- This is our model without pooling. Now we can see, our total params are 2million and it will take a lot of time to train and also it will do overfitting."
   ]
  },
  {
   "cell_type": "code",
   "execution_count": null,
   "metadata": {
    "id": "E9cGd4X7UEPj"
   },
   "outputs": [],
   "source": []
  }
 ],
 "metadata": {
  "accelerator": "GPU",
  "colab": {
   "collapsed_sections": [],
   "name": "06_CNN_2.ipynb",
   "provenance": []
  },
  "kernelspec": {
   "display_name": "Python 3 (ipykernel)",
   "language": "python",
   "name": "python3"
  },
  "language_info": {
   "codemirror_mode": {
    "name": "ipython",
    "version": 3
   },
   "file_extension": ".py",
   "mimetype": "text/x-python",
   "name": "python",
   "nbconvert_exporter": "python",
   "pygments_lexer": "ipython3",
   "version": "3.8.10"
  }
 },
 "nbformat": 4,
 "nbformat_minor": 1
}
