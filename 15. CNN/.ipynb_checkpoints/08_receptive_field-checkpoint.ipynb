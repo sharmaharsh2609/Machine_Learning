{
 "cells": [
  {
   "cell_type": "markdown",
   "id": "5b0853bc",
   "metadata": {},
   "source": [
    "##### **Read 07_receptive_field in detail for this.** That contains good explanation."
   ]
  },
  {
   "cell_type": "markdown",
   "id": "d5ea5b6b",
   "metadata": {},
   "source": [
    "## Receptive Field:\n",
    "In a deep learning context, the Receptive Field (RF) is defined as **the size of region in the input that produces the feature**. Basically, it is a measure of association of an output feature (of any layer) to the input region (patch). Before we move on, let’s clarify one important thing."
   ]
  },
  {
   "cell_type": "markdown",
   "id": "63ae0c6f",
   "metadata": {},
   "source": [
    "<img src=\"8.1img.png\" alt=\"image not loaded\" style=\"width: 400px;\">"
   ]
  },
  {
   "cell_type": "markdown",
   "id": "a879bd0e",
   "metadata": {},
   "source": [
    "eg- If we have an image before these 3layers, and all layers have a 3x3 filter, then 2st layer will be looking at 3x3 on image, 2nd layer will be looking at 5x5 on image, 3rd layer will be looking at 7x7 on image before 1st layer.\n",
    "- So **receptive field on stacking 3layers with 3x3 filters is (7x7). Which is same as looking from a single layer with 7x7**.\n",
    "- But making network deep with more layers give us better results and also <font color=\"lime\">**7x7 filter needs 49 params, while 3layers of 3x3 need 3x(3x3) =27 params. So using deep network reduces no_of_params and give same receptive field which reduces overfitting as no_of_params are reduced**. That's why it gives better results.</font>"
   ]
  },
  {
   "cell_type": "code",
   "execution_count": null,
   "id": "a4f396f9",
   "metadata": {},
   "outputs": [],
   "source": []
  },
  {
   "cell_type": "markdown",
   "id": "42b4c9f1",
   "metadata": {},
   "source": [
    "#### Why do we care about the receptive field of a convolutional network?\n",
    "- In object detection, **a small receptive field may not be able to recognize large objects**. That’s why you usually see multi-scale approaches in object detection. Furthermore, in motion-based tasks, like video prediction and optical flow estimation, we want to capture large motions, so we want to have an adequate receptive field\n",
    "eg- In below image, there are 2 different receptive fields. We can see that car is not detectable using small receptive field. That's why studying receptive field is very important.\n",
    "\n",
    "<img src=\"8.2img.png\" alt=\"image not loaded\" style=\"width: 450px;\">"
   ]
  },
  {
   "cell_type": "markdown",
   "id": "f0c5b999",
   "metadata": {},
   "source": [
    "- Another visualization of receptive field:\n",
    "\n",
    "<img src=\"8.3img.png\" alt=\"image not loaded\" style=\"width: 450px;\">"
   ]
  },
  {
   "cell_type": "markdown",
   "id": "a6ed89c2",
   "metadata": {},
   "source": [
    "https://theaisummer.com/receptive-field/"
   ]
  },
  {
   "cell_type": "markdown",
   "id": "47df219c",
   "metadata": {},
   "source": [
    "- Receptive field is the data that is stored in a single cells:\n",
    "\n",
    "<img src=\"8.4img.png\" alt=\"image not loaded\" style=\"width: 450px;\">\n",
    "- Here we can see, receptive field at first layer stores only lines and receptive field at 2nd layer stores figures on combining lines. At 3rd layer we get meshes and at 4th layer we get full object.\n",
    "- This all we will study in detail in ZF-Net and VGG-16/19.\n",
    "- ZF-Net became very popular in 2013 due to this reason only. For the first time in hostory of CNN, ZFNet researchers let us visualize: what is actually happening inside the hidden convolutional network by visualizing the features after each layer."
   ]
  },
  {
   "cell_type": "code",
   "execution_count": null,
   "id": "240c555d",
   "metadata": {},
   "outputs": [],
   "source": []
  }
 ],
 "metadata": {
  "kernelspec": {
   "display_name": "Python 3 (ipykernel)",
   "language": "python",
   "name": "python3"
  },
  "language_info": {
   "codemirror_mode": {
    "name": "ipython",
    "version": 3
   },
   "file_extension": ".py",
   "mimetype": "text/x-python",
   "name": "python",
   "nbconvert_exporter": "python",
   "pygments_lexer": "ipython3",
   "version": "3.8.10"
  }
 },
 "nbformat": 4,
 "nbformat_minor": 5
}
