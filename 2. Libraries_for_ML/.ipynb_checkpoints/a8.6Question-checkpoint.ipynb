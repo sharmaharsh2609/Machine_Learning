{
 "cells": [
  {
   "cell_type": "markdown",
   "id": "38df7bc6",
   "metadata": {},
   "source": [
    "#### Ques. Given a running stream of numbers, compute the mean and variance at any given point.<br>Ans:\n",
    "- Mean = E(x) = u = 1/n ∑i=1n xi\n",
    "- Standard Deviation = s = 1/n ∑i=1n (xi – u) 2\n",
    "- Variance = s\\*\\*2\n",
    "\n",
    "However, it would be a very slow approach if we calculate these expressions by looping through all numbers each time a new number comes in as we need to sum all the (Xi-mean)\\*\\*2 which takes n times addition everytime we add a new number, giving us time complexiety of O(n).\n",
    "<hr>\n",
    "Effective solution for this is:\n",
    "<br>s**2 = 1/n ∑i=1n (xi - u) 2\n",
    "\n",
    "    = 1/n (∑i=1n xi2 + ∑i=1n u2 - 2u ∑i=1n xi)\n",
    "\n",
    "    = 1/n (∑xi2 + nu2 - 2u ∑xi)\n",
    "\n",
    "    = ∑xi2/n + u2 - 2u ∑xi/n\n",
    "\n",
    "    = ∑xi2/n - u2\n",
    "\n",
    "    = E(x2) - u2\n",
    "\n",
    "    = E(x2) - [E(x)]2\n",
    "Therefore, in this implementation, we have to maintain a <b>variable(sum)</b> of all the current numbers for mean and maintain another <b>variable(sum\\*\\*2)</b> of all the current numbers for <b>E(X\\*\\*2)</b> and we have to maintain another <b>variable(n)</b> for the count of numbers present.\n",
    "- This way we only have to add new __number to sum__ and __number\\*\\*2 to sum\\*\\*2__, which gives us only 2 additions. This approach is much faster than earlier one giving us time vomplexiety of O(2)."
   ]
  },
  {
   "cell_type": "code",
   "execution_count": 7,
   "id": "b614df14",
   "metadata": {},
   "outputs": [
    {
     "name": "stdout",
     "output_type": "stream",
     "text": [
      "Enter a number : 1\n",
      "Mean :  1.0\n",
      "Variance :  0.0\n",
      "Enter y to continue or anything else to stop:y\n",
      "\n",
      "Enter a number : 3\n",
      "Mean :  2.0\n",
      "Variance :  1.0\n",
      "Enter y to continue or anything else to stop:y\n",
      "\n",
      "Enter a number : 6\n",
      "Mean :  3.3333333333333335\n",
      "Variance :  4.222222222222221\n",
      "Enter y to continue or anything else to stop:y\n",
      "\n",
      "Enter a number : 2\n",
      "Mean :  3.0\n",
      "Variance :  3.5\n",
      "Enter y to continue or anything else to stop:no\n"
     ]
    }
   ],
   "source": [
    "sum=0         # To store sum of stream\n",
    "sum_sq=0      # To store sum of square of stream\n",
    "n=0\t          # To store count of numbers\n",
    "while(True):      # loop to take input stream of numbers\n",
    "    x=int(input(\"Enter a number : \"))\n",
    "    n+=1\n",
    "    sum+=x\n",
    "    sum_sq+=(x*x)\n",
    "    \n",
    "    #Mean\n",
    "    mean = sum/n\n",
    "    #Variance\n",
    "    var = (sum_sq/n) - (mean*mean)\n",
    "    print(\"Mean : \",mean)\n",
    "    print(\"Variance : \",var)\n",
    "    x = input(\"Enter y to continue or anything else to stop:\")\n",
    "    if x!=\"y\" and x!=\"Y\":\n",
    "        break\n",
    "    print()"
   ]
  }
 ],
 "metadata": {
  "kernelspec": {
   "display_name": "Python 3 (ipykernel)",
   "language": "python",
   "name": "python3"
  },
  "language_info": {
   "codemirror_mode": {
    "name": "ipython",
    "version": 3
   },
   "file_extension": ".py",
   "mimetype": "text/x-python",
   "name": "python",
   "nbconvert_exporter": "python",
   "pygments_lexer": "ipython3",
   "version": "3.8.10"
  }
 },
 "nbformat": 4,
 "nbformat_minor": 5
}
