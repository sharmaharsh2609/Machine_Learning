{
 "cells": [
  {
   "cell_type": "markdown",
   "metadata": {},
   "source": [
    "Adapted from https://github.com/hadrienj/deepLearningBook-Notes"
   ]
  },
  {
   "cell_type": "code",
   "execution_count": 1,
   "metadata": {},
   "outputs": [],
   "source": [
    "x1 = 5    #scalar \n",
    "x2 = 1.8  #another scalar"
   ]
  },
  {
   "cell_type": "code",
   "execution_count": 5,
   "metadata": {},
   "outputs": [
    {
     "name": "stdout",
     "output_type": "stream",
     "text": [
      "[[4]\n",
      " [5]\n",
      " [6]]\n",
      "(3, 1)\n"
     ]
    }
   ],
   "source": [
    "import numpy as np\n",
    "\n",
    "# x = np.array([[4,5,6]])  #this is row matrix with shape 1x3\n",
    "x = np.array([[4],[5],[6]])  #column vector \n",
    "print(x)\n",
    "print(x.shape)"
   ]
  },
  {
   "cell_type": "markdown",
   "metadata": {},
   "source": [
    "##### Application of vectors:\n",
    "eg- When we have data about house as area, proce etc.. , then we can store that in some vector as \n",
    "$$\n",
    "\\boldsymbol{x} =\\begin{bmatrix}\n",
    "    area \\\\\n",
    "    price \\\\\n",
    "\\end{bmatrix}\n",
    "$$\n",
    "If we have multiple houses, we can store them in n vectors as x1,x2,x3. But we can store multiple vectors in a single matrix which is easy to understand. We combine all these n vectors to a single matrix where column1 represents vwctor1, col2=vector3....col(n)=vector(n). This is the use of matrices. and row1 represents area of all hpuses, row2 represents price of all houses.\n",
    "\n",
    "Or it can be represented as: rows represents vectors and columns represents filds which is opposite of above one"
   ]
  },
  {
   "cell_type": "markdown",
   "metadata": {},
   "source": [
    "### 2. Matrices & Tensors\n",
    "* **Matrix** is a 2D array of scalars, denoted by $\\boldsymbol{X}$\n",
    "$$\n",
    "\\boldsymbol{X}=\n",
    "\\begin{bmatrix}\n",
    "    X_{1,1} & X_{1,2} & \\cdots & X_{1,n} \\\\\\\\\n",
    "    X_{2,1} & X_{2,2} & \\cdots & X_{2,n} \\\\\\\\\n",
    "    \\cdots & \\cdots & \\cdots & \\cdots \\\\\\\\\n",
    "    X_{m,1} & X_{m,2} & \\cdots & X_{m,n}\n",
    "\\end{bmatrix}\n",
    "$$\n",
    "\n",
    "    - This matrix has $m$ rows and $n$ columns\n",
    "    - Each indvidual element such as $X_{1,1}$ is a *scalar* and each individual row such as $X[1]$ is a *vector*\n",
    "    - If $m = n$, the matrix is known as **Square** Matrix"
   ]
  },
  {
   "cell_type": "code",
   "execution_count": 9,
   "metadata": {},
   "outputs": [
    {
     "name": "stdout",
     "output_type": "stream",
     "text": [
      "(3, 4)\n",
      "[[ 4  5  7 10 10 11]\n",
      " [13 11 56 80 90 12]]\n",
      "(2, 6)\n"
     ]
    }
   ],
   "source": [
    "X = np.array([[4,5,7,10],     # 3x4 matrix\n",
    "              [10, 11, 13,11], \n",
    "              [56, 80, 90,12]])\n",
    "# writing in different rows as above provides better understanding rather than writing all matrix\n",
    "# in a single row with commas.\n",
    "print(X.shape)  #check the shape\n",
    "\n",
    "X = X.reshape((2,-1)) #we can also reshape matrix\n",
    "# [Here -1 means it will automatically calculate the no. of columns when no. of rows=2]\n",
    "print(X)\n",
    "print(X.shape)"
   ]
  },
  {
   "cell_type": "markdown",
   "metadata": {},
   "source": [
    "### Tensors\n",
    "* **Tensor** is a dimensional data structure ranging from zero to n (referred to as the tensor's rank, as in a first-rank tensor which is one-dimensional). \n",
    "\n",
    "    * Think of Tensor as a generalization of an array with more 0 or more axes.\n",
    "  \n",
    "- Vectors are one-dimensional data structures and matrices are two-dimensional data structures. Tensors are superficially similar to these other data structures, but the difference is that they can exist from 0 to n dimension.\n",
    "\n",
    "##### **We use Tensors in ML, when we have more than 2 dimensions. \n",
    "\n",
    "### Use of Tensors:\n",
    "- Tensors are generally used when we have more than 2 dimensions.<br>eg- To represent an image using RGB format, we need 3dimensions as _hieght x width x 3_ , where we have _h x w_ pixels and each pixel is a combination of three colors: Red, Green, Blue.<BR>"
   ]
  },
  {
   "cell_type": "code",
   "execution_count": 36,
   "metadata": {},
   "outputs": [
    {
     "name": "stdout",
     "output_type": "stream",
     "text": [
      "[[[1 1 1]\n",
      "  [1 1 1]\n",
      "  [1 1 1]\n",
      "  [1 1 1]]\n",
      "\n",
      " [[1 1 1]\n",
      "  [1 1 1]\n",
      "  [1 1 1]\n",
      "  [1 1 1]]]\n",
      "[[1 1 1 1]\n",
      " [1 1 1 1]]\n",
      "[1 1 1]\n"
     ]
    }
   ],
   "source": [
    "T = np.ones((2,4,3), dtype='uint8')\n",
    "print(T)\n",
    "print(T[:,:,0]) #prints 1st channel\n",
    "print(T[0,0,:])  #prints 1st pixel."
   ]
  },
  {
   "cell_type": "markdown",
   "metadata": {},
   "source": [
    "- **In above Output, 2matrices means 2rows and every matrix represents a single row with 4columns and 3channels as 2x4x3.**\n",
    "- Here at beginning of output we have *3braces* representing that it is a *3 dimensional* array which is our Tensor.\n",
    "- Here in 2x4x3 represents *2rows* with *4columns* and every value has ***3channels***"
   ]
  },
  {
   "cell_type": "code",
   "execution_count": 41,
   "metadata": {},
   "outputs": [
    {
     "data": {
      "image/png": "[encoded data removed]",
      "text/plain": [
       "<Figure size 432x288 with 1 Axes>"
      ]
     },
     "metadata": {
      "needs_background": "light"
     },
     "output_type": "display_data"
    }
   ],
   "source": [
    "T = np.zeros((5,5,3),dtype='uint8')\n",
    "\n",
    "import matplotlib.pyplot as plt\n",
    "\n",
    "plt.imshow(T)\n",
    "plt.show()\n"
   ]
  },
  {
   "cell_type": "code",
   "execution_count": 44,
   "metadata": {},
   "outputs": [
    {
     "data": {
      "image/png": "[encoded data removed]",
      "text/plain": [
       "<Figure size 432x288 with 1 Axes>"
      ]
     },
     "metadata": {
      "needs_background": "light"
     },
     "output_type": "display_data"
    }
   ],
   "source": [
    "T = np.zeros((5,5,3),dtype='uint8')\n",
    "\n",
    "T[:,:,1] = 255  #for all pixels, put value of Green pixel=255 as R=0,G=1,B=2\n",
    "plt.imshow(T)\n",
    "plt.show()"
   ]
  },
  {
   "cell_type": "markdown",
   "metadata": {},
   "source": [
    "### 3. Transpose\n",
    "For a 2D matrix transpose can be obtained as follows\n",
    "$(A^T)_{i,j} = A_{j, i}$\n",
    "\n",
    "For a vector, transpose makes the column vector into a row vector. Thus a column vector can also be represented as $\\boldsymbol{x} = [x_1, x_2, x_3]^T$"
   ]
  },
  {
   "cell_type": "code",
   "execution_count": 49,
   "metadata": {},
   "outputs": [
    {
     "name": "stdout",
     "output_type": "stream",
     "text": [
      "[[1]\n",
      " [2]\n",
      " [3]]\n",
      "[[1 2 3]]\n"
     ]
    }
   ],
   "source": [
    "# 1. transpose of a column vector = row vector and vice versa:\n",
    "X = np.array([[1],[2],[3]])\n",
    "print(X)\n",
    "print(X.T)"
   ]
  },
  {
   "cell_type": "code",
   "execution_count": 54,
   "metadata": {},
   "outputs": [
    {
     "name": "stdout",
     "output_type": "stream",
     "text": [
      "[[ 4  5  7 10]\n",
      " [10 11 13 11]\n",
      " [56 80 90 12]]\n",
      "[[ 4 10 56]\n",
      " [ 5 11 80]\n",
      " [ 7 13 90]\n",
      " [10 11 12]]\n"
     ]
    }
   ],
   "source": [
    "#matrix transpose changes row <=> column , i.e- A(i,j) = A(j,i)\n",
    "M = np.array([[4,5,7,10],     # 3x4 matrix\n",
    "              [10, 11, 13,11], \n",
    "              [56, 80, 90,12]])\n",
    "print(M)\n",
    "print(M.T)  # this transpose interchanges rows with columns.\n",
    "# In actual xX matrix, we access all the elements as X[i][j]. Now for same element, we can access \n",
    "# that using X[j][i]"
   ]
  },
  {
   "cell_type": "code",
   "execution_count": 59,
   "metadata": {},
   "outputs": [
    {
     "name": "stdout",
     "output_type": "stream",
     "text": [
      "(5, 5, 3)\n",
      "(3, 5, 5)\n"
     ]
    }
   ],
   "source": [
    "T1 = np.zeros((5,5,3),dtype='uint8')\n",
    "print(T1.shape)\n",
    "\n",
    "T2 = T1.T  #.T is for transpose and T1 is Tensor\n",
    "print(T2.shape)"
   ]
  },
  {
   "cell_type": "markdown",
   "metadata": {},
   "source": [
    "- **array.T** changes the order to reverse order of array.<br>eg- If array is 3x4 , then arr.T will change order to 4x3. If arr= 2x3x4, then arr.T will change to 4x3x2 which is reverse order of original arr.\n",
    "\n",
    "##### np.transpose(arr, axes()):\n",
    "- np.transpose(arr) is same as arr.T which reverses the order of the n-dimensional(nd) arrray.\n",
    "- But if axes order is passed, then transope will be be changed to that specified order as shown below:"
   ]
  },
  {
   "cell_type": "code",
   "execution_count": 73,
   "metadata": {},
   "outputs": [
    {
     "name": "stdout",
     "output_type": "stream",
     "text": [
      "(50, 25, 3)\n",
      "(3, 50, 25)\n",
      "(3,)\n",
      "(25,)\n"
     ]
    }
   ],
   "source": [
    "# Transpose of Tensor\n",
    "T = np.zeros((50,25,3),dtype=int)  #a 4D array\n",
    "print(T.shape)\n",
    "\n",
    "# T1 = np.transpose(T)  # it is same as T.T (where qst T is tensor and 2nd is for Transpose)\n",
    "\n",
    "T1 = np.transpose(T, axes=(2,0,1)) #now 1st axis is shifted to 2nd, 2nd to 3rd and 3rd to 1st\n",
    "print(T1.shape)\n",
    "\n",
    "print(T[0][0].shape)  #T[O][0] represents no. of channels \n",
    "print(T1[0][0].shape)  #T1[0][0] represents no. of columns"
   ]
  },
  {
   "cell_type": "markdown",
   "metadata": {},
   "source": [
    "### 4. Broadcasting\n",
    "It is a feature of numpy array through which we can add a scalar to a vector and a vector to a matrix. But adding scalar to a list in python is not allowed."
   ]
  },
  {
   "cell_type": "code",
   "execution_count": 85,
   "metadata": {},
   "outputs": [
    {
     "name": "stdout",
     "output_type": "stream",
     "text": [
      "[1 2 3 4]\n",
      "[5 6 7 8]\n"
     ]
    }
   ],
   "source": [
    "x = np.array([1,2,3,4]) #it is a row vector\n",
    "print(x)\n",
    "print(x+4)  #adding scalar 4 to vector x\n",
    "#every element of vector adds 4 to its value."
   ]
  },
  {
   "cell_type": "code",
   "execution_count": 86,
   "metadata": {},
   "outputs": [
    {
     "name": "stdout",
     "output_type": "stream",
     "text": [
      "[1 2 3 4]\n",
      "[[10 20 30 40]\n",
      " [40 50 60 70]]\n",
      "[[11 22 33 44]\n",
      " [41 52 63 74]]\n"
     ]
    }
   ],
   "source": [
    "X = np.array([[10,20,30,40],\n",
    "             [40,50,60,70]]) \n",
    "print(x)\n",
    "print(X)\n",
    "print(X + x)  #every row of matrix X adds vector x to it.\n",
    "# note: for row vector, no. of columns in X matrix must be equal to size of row vector\n",
    "# and for column vector, no. of rows in vector must be same as the size of column vector."
   ]
  },
  {
   "cell_type": "markdown",
   "metadata": {},
   "source": [
    "There are 2 types of multiplications:\n",
    "1. Element wise multiplication \n",
    "2. Matrix Multiplication/Dot product\n",
    "\n",
    "### 5. Matrix Multiplication/ Dot Product\n",
    "\n",
    "This is perhaps one operation that you would use quite frequently in any ML/DL model.\n",
    "You should remember a few things about multiplication\n",
    "\n",
    "* $\\boldsymbol{C} = \\boldsymbol{A} \\boldsymbol{B}$ is only defined when the second dimension of $\\boldsymbol{A}$ matches the first dimension of $\\boldsymbol{B}$\n",
    "\n",
    "\n",
    "* Further, if  $\\boldsymbol{A}$ is of shape (m, n) and $\\boldsymbol{B}$ of shape (n, p), then $\\boldsymbol{C}$ is of shape (m, p) \n",
    "\n",
    "\n",
    "* This operation is concretely defined as $C_{i,j} = \\sum_k A_{i, k} B_{k, j}$\n",
    "\n",
    "    * $\\boldsymbol{C}_{i, j}$ is computed by taking the dot product of $i$-th row of $\\boldsymbol{A}$ with $j$-th column of $\\boldsymbol{B}$\n",
    "\n",
    "\n",
    "* A more useful method to think of matrix multiplcation is as **linear combination of columns** of $\\boldsymbol{A}$ weighted by column entries of $\\boldsymbol{B}$\n",
    "\n",
    "<img src=\"images/mat-mul2.png\" width=\"400\" alt=\"Matrix Multiplication\" title=\"Mat Mul\">\n",
    "\n",
    "\n",
    "<em>Matrix Multiplication. Image Credit: https://www.mpcm.org/visualizing-matrix-multiplication-as-a-linear-combination-eli-benderskys-website/</em>\n"
   ]
  },
  {
   "cell_type": "code",
   "execution_count": 88,
   "metadata": {},
   "outputs": [
    {
     "name": "stdout",
     "output_type": "stream",
     "text": [
      "[[ 6  6]\n",
      " [12 14]]\n"
     ]
    }
   ],
   "source": [
    "A = np.array([[1,2],\n",
    "              [3,4]])\n",
    "\n",
    "B = np.array([[0,2],\n",
    "              [3,2]])\n",
    "\n",
    "C = np.dot(A,B)  \n",
    "print(C)"
   ]
  },
  {
   "cell_type": "markdown",
   "metadata": {},
   "source": [
    "### 6. Element Wise multiplication: Hadamard product\n",
    "\n",
    "Element wise multiplication $\\boldsymbol{A} \\odot \\boldsymbol{B}$\n",
    "\n",
    "Notice how numpy uses the * for this. Important to be careful, and not to confuse this with matrix multiplication"
   ]
  },
  {
   "cell_type": "code",
   "execution_count": 70,
   "metadata": {},
   "outputs": [
    {
     "data": {
      "text/plain": [
       "array([[0, 4],\n",
       "       [9, 8]])"
      ]
     },
     "execution_count": 70,
     "metadata": {},
     "output_type": "execute_result"
    }
   ],
   "source": [
    "\n",
    "A = np.array([[1,2],\n",
    "              [3,4]])\n",
    "\n",
    "B = np.array([[0,2],\n",
    "              [3,2]])\n",
    "\n",
    "A*B"
   ]
  },
  {
   "cell_type": "markdown",
   "metadata": {},
   "source": [
    "### 7. Norms\n",
    "\n",
    "* The length of a vector is a nonnegative number that describes the extent of the vector in space, and is sometimes referred to as the vector’s magnitude or the norm.\n",
    "\n",
    "- We have different kinds of norms as: $L^1$ norm , $L^2$ norm, .... $L^\\infty$ norm.\n",
    "\n",
    "**We define $L^p$ norm(pth norm) $\\Vert \\boldsymbol{x}\\Vert _p = (\\sum |\\boldsymbol{x}_i|^{p})^{\\frac{1}{p}}$** \n",
    "</mark>\n",
    "  $p \\ge 1, p \\in \\Re$\n",
    "<br>It can be written as: for vector **$x=[x1, x2, ..., xn]$**, the pth norm is given as: x1 ${(|x1|^p + |x2|^p + |x3|^p +.....|xn|^p)}^{1/p}$\n",
    "  \n",
    "* Norm is a *function* that maps vectors to *non-negative* values. A norm satisfies the following properties ($f(\\boldsymbol{x})$ represents our norm):\n",
    "    * $f(\\boldsymbol{x}) = 0 =>  \\boldsymbol{x} = 0$\n",
    "    [means if norm is 0, it implies vector is a zero vector.]\n",
    "    * $f(\\boldsymbol{x} + \\boldsymbol{y}) \\le f(\\boldsymbol{x}) + f(\\boldsymbol{y})$ (Triangle inequality)  [ means if x and y are 2vectors, then norm of (x+y) < norm of(x) + norm of (y). This can be visualized by adding vectors in 2d graph where 2vectors represent two sides of triangle and result forms 3rd side. So sum of 2sides is always greater than 3rd called as Triangle inequality]\n",
    "    * $\\forall \\ \\alpha \\in \\Re, \\ f(\\alpha \\ \\boldsymbol{x}) = |\\alpha|\\ f(\\boldsymbol{x})$ [for some alpha belonging to Real no. ,norm of (alpha*x)= magnintude of alpha*norm of (x) ]\n",
    "  "
   ]
  },
  {
   "cell_type": "code",
   "execution_count": 89,
   "metadata": {},
   "outputs": [
    {
     "name": "stdout",
     "output_type": "stream",
     "text": [
      "5.0\n"
     ]
    }
   ],
   "source": [
    "#norms\n",
    "x = np.array([-3,4])\n",
    "\n",
    "lp2 = np.linalg.norm(x)    #by default, this method returns L2 norm\n",
    "print(lp2)"
   ]
  },
  {
   "cell_type": "code",
   "execution_count": 90,
   "metadata": {},
   "outputs": [
    {
     "name": "stdout",
     "output_type": "stream",
     "text": [
      "7.0\n",
      "4.0\n"
     ]
    }
   ],
   "source": [
    "x = np.array([-3,4])\n",
    "\n",
    "lp1 = np.linalg.norm(x,ord=1) #pass ord=p   for pth norm\n",
    "print(lp1)\n",
    "\n",
    "lpinf = np.linalg.norm(x,ord=np.inf)  #pass ord=np.inf for infinity norm\n",
    "print(lpinf)"
   ]
  },
  {
   "cell_type": "markdown",
   "metadata": {},
   "source": [
    "### 8. Determinants\n",
    "More Operations on Matrices - https://numpy.org/doc/stable/reference/routines.linalg.html"
   ]
  },
  {
   "cell_type": "code",
   "execution_count": 102,
   "metadata": {},
   "outputs": [
    {
     "data": {
      "text/plain": [
       "-2.0000000000000004"
      ]
     },
     "execution_count": 102,
     "metadata": {},
     "output_type": "execute_result"
    }
   ],
   "source": [
    "A = np.array([[1,2],\n",
    "              [3,4]])\n",
    "\n",
    "np.linalg.det(A)"
   ]
  },
  {
   "cell_type": "markdown",
   "metadata": {},
   "source": [
    "## 9. Inverse "
   ]
  },
  {
   "cell_type": "code",
   "execution_count": 100,
   "metadata": {},
   "outputs": [
    {
     "name": "stdout",
     "output_type": "stream",
     "text": [
      "[[1.00000000e+00 0.00000000e+00]\n",
      " [1.11022302e-16 1.00000000e+00]]\n"
     ]
    }
   ],
   "source": [
    "A = np.array([[1,2],\n",
    "              [3,4]])\n",
    "Ainv = np.linalg.inv(A)\n",
    "\n",
    "print(np.dot(Ainv,A)) # dot product of Ainv and A gives us identity matrix"
   ]
  },
  {
   "cell_type": "code",
   "execution_count": 107,
   "metadata": {},
   "outputs": [
    {
     "name": "stdout",
     "output_type": "stream",
     "text": [
      "[[-2.   1. ]\n",
      " [ 1.5 -0.5]]\n",
      "[[0.03076923 0.04615385]\n",
      " [0.06153846 0.09230769]]\n"
     ]
    }
   ],
   "source": [
    "A = np.array([[1,2],\n",
    "              [3,4]])\n",
    "pinv = np.linalg.pinv(A)\n",
    "print(pinv) #same outut as  np.linalg.inv()\n",
    "\n",
    "B = np.array([[2,4],     #det(A)=0\n",
    "              [3,6]])\n",
    "pinv = np.linalg.pinv(B)\n",
    "print(pinv) # matrix is not invertible but still generates some matrix "
   ]
  },
  {
   "cell_type": "markdown",
   "metadata": {},
   "source": [
    "### 10. Solve a System of Equations\n",
    "\n",
    "https://numpy.org/doc/stable/reference/generated/numpy.linalg.solve.html#numpy.linalg.solve"
   ]
  },
  {
   "cell_type": "code",
   "execution_count": 109,
   "metadata": {},
   "outputs": [],
   "source": [
    "a = np.array([[2,3], [3,1]])  \n",
    "# a represents 2equations as 2x+3y and 3x+1y and matrix b is RHS as 2x+3y=8 and 3x+1y=5\n",
    "# It is written as aX = b , where we have to find X.\n",
    "b = np.array([8,5])"
   ]
  },
  {
   "cell_type": "code",
   "execution_count": 111,
   "metadata": {},
   "outputs": [
    {
     "data": {
      "text/plain": [
       "array([1., 2.])"
      ]
     },
     "execution_count": 111,
     "metadata": {},
     "output_type": "execute_result"
    }
   ],
   "source": [
    "np.linalg.solve(a,b)  # Result contains x, which has no. of values = no. of cols in a"
   ]
  },
  {
   "cell_type": "markdown",
   "metadata": {},
   "source": [
    "### Norms of a matrix:\n",
    "https://learn.lboro.ac.uk/archive/olmp/olmp_resources/pages/workbooks_1_50_jan2008/Workbook30/30_4_mtrx_norms.pdf"
   ]
  }
 ],
 "metadata": {
  "kernelspec": {
   "display_name": "Python 3 (ipykernel)",
   "language": "python",
   "name": "python3"
  },
  "language_info": {
   "codemirror_mode": {
    "name": "ipython",
    "version": 3
   },
   "file_extension": ".py",
   "mimetype": "text/x-python",
   "name": "python",
   "nbconvert_exporter": "python",
   "pygments_lexer": "ipython3",
   "version": "3.8.10"
  }
 },
 "nbformat": 4,
 "nbformat_minor": 2
}
