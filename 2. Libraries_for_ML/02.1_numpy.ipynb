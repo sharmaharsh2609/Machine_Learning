{
 "cells": [
  {
   "cell_type": "markdown",
   "metadata": {},
   "source": [
    "### Working with Numpy - for mathematical operations"
   ]
  },
  {
   "cell_type": "code",
   "execution_count": 2,
   "metadata": {},
   "outputs": [],
   "source": [
    "import numpy as np"
   ]
  },
  {
   "cell_type": "code",
   "execution_count": 6,
   "metadata": {},
   "outputs": [
    {
     "name": "stdout",
     "output_type": "stream",
     "text": [
      "[1 2 3 4 5]\n",
      "<class 'numpy.ndarray'>\n",
      "(5,)\n"
     ]
    }
   ],
   "source": [
    "#creation and initialization of array\n",
    "a = np.array([1,2,3,4,5]) #create numpy array\n",
    "print(a)\n",
    "print(type(a))\n",
    "\n",
    "print(a.shape)"
   ]
  },
  {
   "cell_type": "code",
   "execution_count": 7,
   "metadata": {},
   "outputs": [
    {
     "name": "stdout",
     "output_type": "stream",
     "text": [
      "[[1]\n",
      " [2]\n",
      " [3]\n",
      " [4]\n",
      " [5]]\n",
      "(5, 1)\n"
     ]
    }
   ],
   "source": [
    "#another example\n",
    "b = np.array([[1],[2],[3],[4],[5]])\n",
    "print(b)\n",
    "print(b.shape)"
   ]
  },
  {
   "cell_type": "code",
   "execution_count": 7,
   "metadata": {},
   "outputs": [
    {
     "name": "stdout",
     "output_type": "stream",
     "text": [
      "[[1 2 3]\n",
      " [4 5 6]]\n",
      "(2, 3)\n",
      "5\n"
     ]
    }
   ],
   "source": [
    "#another example of 2-D array with 2x3 size\n",
    "c = np.array([[1,2,3],[4,5,6]])\n",
    "print(c)\n",
    "print(c.shape)\n",
    "print(c[1][1])  #accessing elements in numpy array.(similar to as in python lists)"
   ]
  },
  {
   "cell_type": "markdown",
   "metadata": {},
   "source": [
    "#### -  Create Zeros, Ones, Custom array, Identity matrix, random matrix."
   ]
  },
  {
   "cell_type": "code",
   "execution_count": 18,
   "metadata": {},
   "outputs": [
    {
     "name": "stdout",
     "output_type": "stream",
     "text": [
      "zero matrix of size (3x3):\n",
      " [[0. 0. 0.]\n",
      " [0. 0. 0.]\n",
      " [0. 0. 0.]]\n",
      "ones matrix of size (2x3):\n",
      " [[1. 1. 1.]\n",
      " [1. 1. 1.]]\n",
      "matrix of size (3x3) contaning constant '5':\n",
      " [[5 5]\n",
      " [5 5]\n",
      " [5 5]]\n",
      "Identity matrix of size 4:\n",
      " [[1. 0. 0. 0.]\n",
      " [0. 1. 0. 0.]\n",
      " [0. 0. 1. 0.]\n",
      " [0. 0. 0. 1.]]\n",
      "random matrix of size (2x3):\n",
      " [[0.10678026 0.27549981 0.67762334]\n",
      " [0.38300491 0.23175654 0.34363458]]\n"
     ]
    }
   ],
   "source": [
    "# Create Zeros, Ones, Custom array\n",
    "a = np.zeros((3,3))  #pass size of array as a single argument. (3,3) is single argument.\n",
    "print(\"zero matrix of size (3x3):\\n\",a)\n",
    "\n",
    "b = np.ones((2,3))\n",
    "print(\"ones matrix of size (2x3):\\n\",b)\n",
    "\n",
    "#Array of some constants\n",
    "c = np.full((3,2),5)  #1st argument is size of array and 2nd argument is constant value to be used\n",
    "print(\"matrix of size (3x3) contaning constant '5':\\n\",c)\n",
    "\n",
    "#Identity Matrix - Size/Square matrix\n",
    "d = np.eye(4) #Most important. It creates IDENTITY MATRIX of size 4x4\n",
    "print(\"Identity matrix of size 4:\\n\",d)\n",
    "\n",
    "#Random Matrix\n",
    "randomMatrix = np.random.random((2,3))  #creates random matrix of size passes as arg.\n",
    "print(\"random matrix of size (2x3):\\n\",randomMatrix)"
   ]
  },
  {
   "cell_type": "code",
   "execution_count": 14,
   "metadata": {},
   "outputs": [
    {
     "data": {
      "text/plain": [
       "array([[0, 0, 0],\n",
       "       [0, 0, 0],\n",
       "       [0, 0, 0]])"
      ]
     },
     "execution_count": 14,
     "metadata": {},
     "output_type": "execute_result"
    }
   ],
   "source": [
    "np.zeros((3,3), dtype=int)"
   ]
  },
  {
   "cell_type": "code",
   "execution_count": 19,
   "metadata": {},
   "outputs": [
    {
     "name": "stdout",
     "output_type": "stream",
     "text": [
      "[[0.10678026 0.27549981 0.67762334]\n",
      " [0.38300491 0.23175654 0.34363458]]\n",
      "[0.67762334 0.34363458]\n"
     ]
    }
   ],
   "source": [
    "#slicing\n",
    "print(randomMatrix)\n",
    "print(randomMatrix[ : ,2]) #it prints elements of all rows and the columns at index 2\n",
    "# we can say simply, it prints 2nd index column(means 3rd column)"
   ]
  },
  {
   "cell_type": "code",
   "execution_count": 20,
   "metadata": {},
   "outputs": [
    {
     "name": "stdout",
     "output_type": "stream",
     "text": [
      "[[0.10678026 0.27549981 0.67762334]\n",
      " [0.38300491 1.         1.        ]]\n"
     ]
    }
   ],
   "source": [
    "# Slicing\n",
    "randomMatrix[1,1:3] = 1  # it change value of row with index 1 and columns from 1-2(last 3 is\n",
    "# excluded) to '1'. \n",
    "# randomMatrix[1, 1:] is also same as above(as elements are only upto 2nd index column)\n",
    "print(randomMatrix)"
   ]
  },
  {
   "cell_type": "code",
   "execution_count": 28,
   "metadata": {},
   "outputs": [
    {
     "name": "stdout",
     "output_type": "stream",
     "text": [
      "[[0 0 0]\n",
      " [0 0 0]\n",
      " [0 0 0]]\n",
      "[[0 0 7]\n",
      " [5 5 7]\n",
      " [0 0 7]]\n"
     ]
    }
   ],
   "source": [
    "## Set some rows and columns with any values\n",
    "# eg- make 1st index row elemetns as 5 and last row index elements as 7 in zeros array\n",
    "z = np.zeros((3,3),dtype = np.int64) #or dtype = int\n",
    "print(z)\n",
    "z[1,:] = 5\n",
    "z[ :,-1] = 7\n",
    "print(z)"
   ]
  },
  {
   "cell_type": "code",
   "execution_count": 29,
   "metadata": {},
   "outputs": [
    {
     "name": "stdout",
     "output_type": "stream",
     "text": [
      "int64\n"
     ]
    }
   ],
   "source": [
    "# Datatypes\n",
    "print(z.dtype) #it shows us the data type used in the array. Which was float by default initially \n",
    "# then we made it int64 using 'dtype' keyword argument\""
   ]
  },
  {
   "cell_type": "markdown",
   "metadata": {},
   "source": [
    "### Mathematical Operations:"
   ]
  },
  {
   "cell_type": "code",
   "execution_count": 31,
   "metadata": {},
   "outputs": [
    {
     "name": "stdout",
     "output_type": "stream",
     "text": [
      "[[ 6  8]\n",
      " [10 12]]\n",
      "[[ 6  8]\n",
      " [10 12]]\n",
      "[[-4 -4]\n",
      " [-4 -4]]\n",
      "[[-4 -4]\n",
      " [-4 -4]]\n"
     ]
    }
   ],
   "source": [
    "x = np.array([[1,2],[3,4]])\n",
    "y = np.array([[5,6],[7,8]])\n",
    "\n",
    "#Element Wise Addition and subtraction\n",
    "print(x+y)\n",
    "print(np.add(x,y)) # these both methods give same result\n",
    "\n",
    "print(x-y)\n",
    "print(np.subtract(x,y))  # these both methods give same result"
   ]
  },
  {
   "cell_type": "code",
   "execution_count": 32,
   "metadata": {},
   "outputs": [
    {
     "name": "stdout",
     "output_type": "stream",
     "text": [
      "[[ 5 12]\n",
      " [21 32]]\n",
      "[[ 5 12]\n",
      " [21 32]]\n",
      "[[0.2        0.33333333]\n",
      " [0.42857143 0.5       ]]\n",
      "[[0.2        0.33333333]\n",
      " [0.42857143 0.5       ]]\n",
      "[[1.         1.41421356]\n",
      " [1.73205081 2.        ]]\n"
     ]
    }
   ],
   "source": [
    "#element wise multplication and division of 2 matrices\n",
    "print(x*y)\n",
    "print(np.multiply(x,y))\n",
    "print(x/y)\n",
    "print(np.divide(x,y))\n",
    "print(np.sqrt(x))"
   ]
  },
  {
   "cell_type": "markdown",
   "metadata": {},
   "source": [
    "#### - Matrix Multiplication / Dot Products\n"
   ]
  },
  {
   "cell_type": "code",
   "execution_count": 33,
   "metadata": {},
   "outputs": [
    {
     "name": "stdout",
     "output_type": "stream",
     "text": [
      "[[1 2]\n",
      " [3 4]]\n",
      "[[5 6]\n",
      " [7 8]]\n",
      "[[19 22]\n",
      " [43 50]]\n",
      "[[19 22]\n",
      " [43 50]]\n"
     ]
    }
   ],
   "source": [
    "print(x)\n",
    "print(y)\n",
    "\n",
    "print(x.dot(y))\n",
    "print(np.dot(x,y)) "
   ]
  },
  {
   "cell_type": "code",
   "execution_count": 37,
   "metadata": {},
   "outputs": [
    {
     "name": "stdout",
     "output_type": "stream",
     "text": [
      "30\n"
     ]
    }
   ],
   "source": [
    "#Multiplication(Dot Product) of Vectors results in Scalars\n",
    "# vectors are simply 1-D arrays.\n",
    "\n",
    "a = np.array([1,2,3,4])\n",
    "b = np.array([1,2,3,4])\n",
    "print(a.dot(b))\n",
    "# a and b are not (4x1) arrays, these are (4, ) arrays which are 1-D and thus we can't say that \n",
    "# for dot product cols of 1st should be equal to rows of 2nd. Because these aren't 2-D.\n",
    "# In case of 1-D array, dot product means multiplying element wise.(as we did in physics vetor \n",
    "# dot products.)\n",
    "# Here it is 1*1 + 2*2 + 3*3 + 4*4"
   ]
  },
  {
   "cell_type": "code",
   "execution_count": 36,
   "metadata": {},
   "outputs": [
    {
     "name": "stdout",
     "output_type": "stream",
     "text": [
      "[1 2 3 4]\n"
     ]
    }
   ],
   "source": [
    "print(a)"
   ]
  },
  {
   "cell_type": "code",
   "execution_count": 38,
   "metadata": {
    "scrolled": true
   },
   "outputs": [
    {
     "name": "stdout",
     "output_type": "stream",
     "text": [
      "10\n"
     ]
    }
   ],
   "source": [
    "print(sum(a))  #this is python sum function which takes adds all parameters of any iterable passed"
   ]
  },
  {
   "cell_type": "code",
   "execution_count": 39,
   "metadata": {},
   "outputs": [
    {
     "name": "stdout",
     "output_type": "stream",
     "text": [
      "[[1 2]\n",
      " [3 4]]\n"
     ]
    }
   ],
   "source": [
    "print(x)"
   ]
  },
  {
   "cell_type": "code",
   "execution_count": 51,
   "metadata": {},
   "outputs": [
    {
     "name": "stdout",
     "output_type": "stream",
     "text": [
      "Sum:  10\n",
      "colwise sum [4 6]\n",
      "rowwise sum [3 7]\n"
     ]
    }
   ],
   "source": [
    "print(\"Sum: \", np.sum(x))  #prints sum of all the elements\n",
    "print(\"colwise sum\", np.sum(x,axis=0)) #axis keyword argument\n",
    "print(\"rowwise sum\", np.sum(x,axis=1))"
   ]
  },
  {
   "cell_type": "code",
   "execution_count": 56,
   "metadata": {},
   "outputs": [
    {
     "name": "stdout",
     "output_type": "stream",
     "text": [
      "[1 2 3 4]\n",
      "[6 7 8 9]\n"
     ]
    }
   ],
   "source": [
    "# Stacking of arrays\n",
    "a = np.array([1,2,3,4])\n",
    "b = np.array([6,7,8,9])\n",
    "print(a)\n",
    "print(b)"
   ]
  },
  {
   "cell_type": "code",
   "execution_count": 61,
   "metadata": {},
   "outputs": [
    {
     "name": "stdout",
     "output_type": "stream",
     "text": [
      "[[1 2 3 4]\n",
      " [6 7 8 9]]\n",
      "[[1 6]\n",
      " [2 7]\n",
      " [3 8]\n",
      " [4 9]]\n"
     ]
    }
   ],
   "source": [
    "print(np.stack((a,b),axis=0)) #combine as 2 rows\n",
    "print(np.stack((a,b),axis=1)) #combine as 2 cols"
   ]
  },
  {
   "cell_type": "code",
   "execution_count": 66,
   "metadata": {},
   "outputs": [
    {
     "name": "stdout",
     "output_type": "stream",
     "text": [
      "[[1 2 3 4]\n",
      " [6 7 8 9]]\n"
     ]
    }
   ],
   "source": [
    "#reshape a numpy array:\n",
    "x = np.array([[1,2,3,4], [6,7,8,9]])\n",
    "print(x) #this is original array"
   ]
  },
  {
   "cell_type": "code",
   "execution_count": 78,
   "metadata": {},
   "outputs": [
    {
     "name": "stdout",
     "output_type": "stream",
     "text": [
      "[[1 2]\n",
      " [3 4]\n",
      " [6 7]\n",
      " [8 9]]\n",
      "[[1]\n",
      " [2]\n",
      " [3]\n",
      " [4]\n",
      " [6]\n",
      " [7]\n",
      " [8]\n",
      " [9]]\n",
      "[1 2 3 4 6 7 8 9]\n"
     ]
    }
   ],
   "source": [
    "x = x.reshape((4,2))\n",
    "print(x)\n",
    "x = x.reshape((8,1))  #this converts to [8x1 array]\n",
    "print(x) \n",
    "x = x.reshape((8, ))  # this converts to linear array(1-D).\n",
    "print(x)  "
   ]
  },
  {
   "cell_type": "code",
   "execution_count": 81,
   "metadata": {},
   "outputs": [
    {
     "name": "stdout",
     "output_type": "stream",
     "text": [
      "[[1 2]\n",
      " [3 4]\n",
      " [6 7]\n",
      " [8 9]]\n"
     ]
    }
   ],
   "source": [
    "x = x.reshape(4,-1) #if we know number of rows but do not no. of columns, then passing -1\n",
    "# automatically finds the number of cols. Same goes for x.reshape(-1 , 4)\n",
    "print(x)"
   ]
  },
  {
   "cell_type": "code",
   "execution_count": 82,
   "metadata": {},
   "outputs": [
    {
     "name": "stdout",
     "output_type": "stream",
     "text": [
      "[[1 3 6 8]\n",
      " [2 4 7 9]]\n"
     ]
    }
   ],
   "source": [
    "#transpose of matrix\n",
    "print(x.T)"
   ]
  },
  {
   "cell_type": "markdown",
   "metadata": {},
   "source": [
    "# Some More Numpy Functions - Statistics\n",
    "- min, max\n",
    "- mean \n",
    "- median\n",
    "- average\n",
    "- variance\n",
    "- standard devidation\n"
   ]
  },
  {
   "cell_type": "code",
   "execution_count": 93,
   "metadata": {},
   "outputs": [
    {
     "name": "stdout",
     "output_type": "stream",
     "text": [
      "[[1 2 3 4]\n",
      " [7 6 2 0]]\n",
      "0\n",
      "[1 2 2 0]\n",
      "[1 0]\n"
     ]
    }
   ],
   "source": [
    "a = np.array([[1,2,3,4],[7,6,2,0]])\n",
    "print(a)\n",
    "print(np.min(a))\n",
    "#Specify axis for the direction in case of multidim array\n",
    "print(np.min(a,axis=0))\n",
    "print(np.min(a,axis=1))\n",
    "\n"
   ]
  },
  {
   "cell_type": "code",
   "execution_count": 99,
   "metadata": {},
   "outputs": [
    {
     "name": "stdout",
     "output_type": "stream",
     "text": [
      "3.0\n",
      "3.0\n",
      "[4.  4.  2.5 2. ]\n",
      "[2.5  3.75]\n"
     ]
    }
   ],
   "source": [
    "b = np.array([1,2,3,4,5])\n",
    "m = sum(b)/5\n",
    "print(m)\n",
    "\n",
    "print(np.mean(b))\n",
    "print(np.mean(a,axis=0))\n",
    "print(np.mean(a,axis=1))"
   ]
  },
  {
   "cell_type": "markdown",
   "metadata": {},
   "source": [
    "# Numpy Random Module\n",
    "\n",
    "- rand : Random values in a given shape.\n",
    "- randn : Return a sample (or samples) from the “standard normal” distribution.\n",
    "- randint : Return random integers from low (inclusive) to high (exclusive).\n",
    "- random : Return random floats in the half-open interval [0.0, 1.0) \n",
    "- choice : Generates a random sample from a given 1-D array\n",
    "- Shuffle : Shuffles the contents of a sequence"
   ]
  },
  {
   "cell_type": "code",
   "execution_count": 136,
   "metadata": {},
   "outputs": [
    {
     "name": "stdout",
     "output_type": "stream",
     "text": [
      "[0 1 2 3 4 5 6 7 8 9]\n",
      "[ 5  6  7  8  9 10 11 12 13 14]\n"
     ]
    }
   ],
   "source": [
    "#this function is not from random module. But it is also useful\n",
    "a = np.arange(10) #generates array from 0 upto 9(10 excluded)\n",
    "print(a)\n",
    "b = np.arange(10) + 5  #add 5 to eveery element\n",
    "print(b)"
   ]
  },
  {
   "cell_type": "code",
   "execution_count": 139,
   "metadata": {},
   "outputs": [
    {
     "name": "stdout",
     "output_type": "stream",
     "text": [
      "[4 9 7 6 5 0 2 8 1 3]\n"
     ]
    }
   ],
   "source": [
    "np.random.shuffle(a) #shuffles elements of array passed everytime we use it.\n",
    "print(a)"
   ]
  },
  {
   "cell_type": "code",
   "execution_count": 128,
   "metadata": {},
   "outputs": [
    {
     "name": "stdout",
     "output_type": "stream",
     "text": [
      "[[0.59306552 0.6716541  0.41178788]\n",
      " [0.1975509  0.28962964 0.14212014]]\n"
     ]
    }
   ],
   "source": [
    "#create random numbers\n",
    "a = np.random.rand(2,3) #size of array is passed as arg.\n",
    "print(a)\n",
    "#everytime we execute this, we get a new sequence."
   ]
  },
  {
   "cell_type": "code",
   "execution_count": 126,
   "metadata": {},
   "outputs": [
    {
     "name": "stdout",
     "output_type": "stream",
     "text": [
      "[[ 0.3190391  -0.24937038  1.46210794]\n",
      " [-2.06014071 -0.3224172  -0.38405435]]\n",
      "[6 6 6]\n",
      "4\n"
     ]
    }
   ],
   "source": [
    "a = np.random.randn(2,3)  #Returns values from a Standard Normal Distributions\n",
    "print(a)\n",
    "\n",
    "a = np.random.randint(5,10,3)  #create 3 elements within range from 5-9(10 excluded)\n",
    "print(a)\n",
    "\n",
    "element = np.random.choice([1,4,3,2,11,27])  #Randoly pick one element from a array\n",
    "print(element)"
   ]
  },
  {
   "cell_type": "code",
   "execution_count": 140,
   "metadata": {},
   "outputs": [
    {
     "name": "stdout",
     "output_type": "stream",
     "text": [
      "[[4.17022005e-01 7.20324493e-01 1.14374817e-04]\n",
      " [3.02332573e-01 1.46755891e-01 9.23385948e-02]]\n"
     ]
    }
   ],
   "source": [
    "np.random.seed(1)\n",
    "a = np.random.rand(2,3)\n",
    "print(a)"
   ]
  },
  {
   "cell_type": "code",
   "execution_count": 5,
   "metadata": {},
   "outputs": [
    {
     "name": "stdout",
     "output_type": "stream",
     "text": [
      "[[ 9  7  2  9]\n",
      " [ 6  9  4  9]\n",
      " [11 12 12  7]\n",
      " [ 2 14 14  3]]\n"
     ]
    }
   ],
   "source": [
    "a = np.random.randint(0,15, size=(4,4))\n",
    "print(a)"
   ]
  },
  {
   "cell_type": "code",
   "execution_count": 9,
   "metadata": {},
   "outputs": [
    {
     "name": "stdout",
     "output_type": "stream",
     "text": [
      "(array([0, 0, 0, 1, 1, 1, 2]), array([0, 1, 3, 0, 1, 3, 3]))\n"
     ]
    }
   ],
   "source": [
    "print(np.where((a >= 5) & (a <= 10)))  #erturns all the indices where 1st array stores the row \n",
    "# vals and 2nd arrray stores cols vals."
   ]
  },
  {
   "cell_type": "code",
   "execution_count": 10,
   "metadata": {},
   "outputs": [
    {
     "data": {
      "text/plain": [
       "array([9, 7, 9, 6, 9, 9, 7])"
      ]
     },
     "execution_count": 10,
     "metadata": {},
     "output_type": "execute_result"
    }
   ],
   "source": [
    "a[np.where((a >= 5) & (a <= 10))] #we can use these indices to print"
   ]
  },
  {
   "cell_type": "code",
   "execution_count": 11,
   "metadata": {},
   "outputs": [
    {
     "data": {
      "text/plain": [
       "array([9, 7, 9, 6, 9, 9, 7])"
      ]
     },
     "execution_count": 11,
     "metadata": {},
     "output_type": "execute_result"
    }
   ],
   "source": [
    "#alternative way\n",
    "a[(a >= 5) & (a <= 10)]"
   ]
  }
 ],
 "metadata": {
  "kernelspec": {
   "display_name": "Python 3 (ipykernel)",
   "language": "python",
   "name": "python3"
  },
  "language_info": {
   "codemirror_mode": {
    "name": "ipython",
    "version": 3
   },
   "file_extension": ".py",
   "mimetype": "text/x-python",
   "name": "python",
   "nbconvert_exporter": "python",
   "pygments_lexer": "ipython3",
   "version": "3.8.10"
  }
 },
 "nbformat": 4,
 "nbformat_minor": 2
}
