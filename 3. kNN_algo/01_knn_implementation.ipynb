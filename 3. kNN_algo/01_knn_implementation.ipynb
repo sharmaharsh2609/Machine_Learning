{
 "cells": [
  {
   "cell_type": "markdown",
   "id": "8eecb7d6",
   "metadata": {},
   "source": [
    "- In knn, we say k nearest neighbours or k points with closest distance. **This distance is spatial distance** which is euclidean distance for 2d space and similarly for 3d, 4d etc.. But we can only visualize 2d and 3d by drawing.\n",
    "\n",
    "<hr>\n",
    "\n",
    "## KNN Implementation:"
   ]
  },
  {
   "cell_type": "code",
   "execution_count": 1,
   "id": "834f0e1f",
   "metadata": {},
   "outputs": [],
   "source": [
    "import pandas as pd, numpy as np, matplotlib.pyplot as plt"
   ]
  },
  {
   "cell_type": "code",
   "execution_count": 2,
   "id": "896aba6d",
   "metadata": {},
   "outputs": [
    {
     "data": {
      "text/html": [
       "<div>\n",
       "<style scoped>\n",
       "    .dataframe tbody tr th:only-of-type {\n",
       "        vertical-align: middle;\n",
       "    }\n",
       "\n",
       "    .dataframe tbody tr th {\n",
       "        vertical-align: top;\n",
       "    }\n",
       "\n",
       "    .dataframe thead th {\n",
       "        text-align: right;\n",
       "    }\n",
       "</style>\n",
       "<table border=\"1\" class=\"dataframe\">\n",
       "  <thead>\n",
       "    <tr style=\"text-align: right;\">\n",
       "      <th></th>\n",
       "      <th>0</th>\n",
       "      <th>1</th>\n",
       "      <th>2</th>\n",
       "    </tr>\n",
       "  </thead>\n",
       "  <tbody>\n",
       "    <tr>\n",
       "      <th>0</th>\n",
       "      <td>0</td>\n",
       "      <td>3.482106</td>\n",
       "      <td>2.420392</td>\n",
       "    </tr>\n",
       "    <tr>\n",
       "      <th>1</th>\n",
       "      <td>1</td>\n",
       "      <td>3.516279</td>\n",
       "      <td>3.719750</td>\n",
       "    </tr>\n",
       "    <tr>\n",
       "      <th>2</th>\n",
       "      <td>2</td>\n",
       "      <td>4.606496</td>\n",
       "      <td>3.414379</td>\n",
       "    </tr>\n",
       "    <tr>\n",
       "      <th>3</th>\n",
       "      <td>3</td>\n",
       "      <td>4.677011</td>\n",
       "      <td>3.047244</td>\n",
       "    </tr>\n",
       "    <tr>\n",
       "      <th>4</th>\n",
       "      <td>4</td>\n",
       "      <td>4.157725</td>\n",
       "      <td>3.138677</td>\n",
       "    </tr>\n",
       "    <tr>\n",
       "      <th>...</th>\n",
       "      <td>...</td>\n",
       "      <td>...</td>\n",
       "      <td>...</td>\n",
       "    </tr>\n",
       "    <tr>\n",
       "      <th>395</th>\n",
       "      <td>395</td>\n",
       "      <td>1.389231</td>\n",
       "      <td>2.592584</td>\n",
       "    </tr>\n",
       "    <tr>\n",
       "      <th>396</th>\n",
       "      <td>396</td>\n",
       "      <td>-0.352768</td>\n",
       "      <td>0.136461</td>\n",
       "    </tr>\n",
       "    <tr>\n",
       "      <th>397</th>\n",
       "      <td>397</td>\n",
       "      <td>0.789626</td>\n",
       "      <td>0.931670</td>\n",
       "    </tr>\n",
       "    <tr>\n",
       "      <th>398</th>\n",
       "      <td>398</td>\n",
       "      <td>-1.002530</td>\n",
       "      <td>-0.676162</td>\n",
       "    </tr>\n",
       "    <tr>\n",
       "      <th>399</th>\n",
       "      <td>399</td>\n",
       "      <td>0.292387</td>\n",
       "      <td>0.561178</td>\n",
       "    </tr>\n",
       "  </tbody>\n",
       "</table>\n",
       "<p>400 rows × 3 columns</p>\n",
       "</div>"
      ],
      "text/plain": [
       "       0         1         2\n",
       "0      0  3.482106  2.420392\n",
       "1      1  3.516279  3.719750\n",
       "2      2  4.606496  3.414379\n",
       "3      3  4.677011  3.047244\n",
       "4      4  4.157725  3.138677\n",
       "..   ...       ...       ...\n",
       "395  395  1.389231  2.592584\n",
       "396  396 -0.352768  0.136461\n",
       "397  397  0.789626  0.931670\n",
       "398  398 -1.002530 -0.676162\n",
       "399  399  0.292387  0.561178\n",
       "\n",
       "[400 rows x 3 columns]"
      ]
     },
     "execution_count": 2,
     "metadata": {},
     "output_type": "execute_result"
    }
   ],
   "source": [
    "X = pd.read_csv('../Datasets/xdata.csv', header=None)\n",
    "y = pd.read_csv('../Datasets/ydata.csv', header=None)  # represent label with small lettes\n",
    "X \n",
    "#y"
   ]
  },
  {
   "cell_type": "code",
   "execution_count": 3,
   "id": "1e7ee8ef",
   "metadata": {},
   "outputs": [
    {
     "data": {
      "text/plain": [
       "((400, 3), (400, 2))"
      ]
     },
     "execution_count": 3,
     "metadata": {},
     "output_type": "execute_result"
    }
   ],
   "source": [
    "X.shape, y.shape"
   ]
  },
  {
   "cell_type": "code",
   "execution_count": 4,
   "id": "4c272260",
   "metadata": {},
   "outputs": [
    {
     "data": {
      "text/html": [
       "<div>\n",
       "<style scoped>\n",
       "    .dataframe tbody tr th:only-of-type {\n",
       "        vertical-align: middle;\n",
       "    }\n",
       "\n",
       "    .dataframe tbody tr th {\n",
       "        vertical-align: top;\n",
       "    }\n",
       "\n",
       "    .dataframe thead th {\n",
       "        text-align: right;\n",
       "    }\n",
       "</style>\n",
       "<table border=\"1\" class=\"dataframe\">\n",
       "  <thead>\n",
       "    <tr style=\"text-align: right;\">\n",
       "      <th></th>\n",
       "      <th>1</th>\n",
       "      <th>2</th>\n",
       "    </tr>\n",
       "  </thead>\n",
       "  <tbody>\n",
       "    <tr>\n",
       "      <th>0</th>\n",
       "      <td>3.482106</td>\n",
       "      <td>2.420392</td>\n",
       "    </tr>\n",
       "    <tr>\n",
       "      <th>1</th>\n",
       "      <td>3.516279</td>\n",
       "      <td>3.719750</td>\n",
       "    </tr>\n",
       "    <tr>\n",
       "      <th>2</th>\n",
       "      <td>4.606496</td>\n",
       "      <td>3.414379</td>\n",
       "    </tr>\n",
       "    <tr>\n",
       "      <th>3</th>\n",
       "      <td>4.677011</td>\n",
       "      <td>3.047244</td>\n",
       "    </tr>\n",
       "    <tr>\n",
       "      <th>4</th>\n",
       "      <td>4.157725</td>\n",
       "      <td>3.138677</td>\n",
       "    </tr>\n",
       "    <tr>\n",
       "      <th>...</th>\n",
       "      <td>...</td>\n",
       "      <td>...</td>\n",
       "    </tr>\n",
       "    <tr>\n",
       "      <th>395</th>\n",
       "      <td>1.389231</td>\n",
       "      <td>2.592584</td>\n",
       "    </tr>\n",
       "    <tr>\n",
       "      <th>396</th>\n",
       "      <td>-0.352768</td>\n",
       "      <td>0.136461</td>\n",
       "    </tr>\n",
       "    <tr>\n",
       "      <th>397</th>\n",
       "      <td>0.789626</td>\n",
       "      <td>0.931670</td>\n",
       "    </tr>\n",
       "    <tr>\n",
       "      <th>398</th>\n",
       "      <td>-1.002530</td>\n",
       "      <td>-0.676162</td>\n",
       "    </tr>\n",
       "    <tr>\n",
       "      <th>399</th>\n",
       "      <td>0.292387</td>\n",
       "      <td>0.561178</td>\n",
       "    </tr>\n",
       "  </tbody>\n",
       "</table>\n",
       "<p>400 rows × 2 columns</p>\n",
       "</div>"
      ],
      "text/plain": [
       "            1         2\n",
       "0    3.482106  2.420392\n",
       "1    3.516279  3.719750\n",
       "2    4.606496  3.414379\n",
       "3    4.677011  3.047244\n",
       "4    4.157725  3.138677\n",
       "..        ...       ...\n",
       "395  1.389231  2.592584\n",
       "396 -0.352768  0.136461\n",
       "397  0.789626  0.931670\n",
       "398 -1.002530 -0.676162\n",
       "399  0.292387  0.561178\n",
       "\n",
       "[400 rows x 2 columns]"
      ]
     },
     "execution_count": 4,
     "metadata": {},
     "output_type": "execute_result"
    }
   ],
   "source": [
    "# We can remove the first column from X and Y which is used for indexnig:\n",
    "X = X.drop([0], axis=1)\n",
    "y = y.drop([0], axis=1)\n",
    "X\n",
    "# y"
   ]
  },
  {
   "cell_type": "code",
   "execution_count": 5,
   "id": "00f81258",
   "metadata": {},
   "outputs": [
    {
     "data": {
      "text/plain": [
       "((400, 2), (400, 1))"
      ]
     },
     "execution_count": 5,
     "metadata": {},
     "output_type": "execute_result"
    }
   ],
   "source": [
    "X.shape , y.shape"
   ]
  },
  {
   "cell_type": "code",
   "execution_count": 6,
   "id": "61f7a897",
   "metadata": {},
   "outputs": [],
   "source": [
    "# Let us convert the given data in numpy arrays to use numpy functions.\n",
    "X_data, y_data = X.values, y.values"
   ]
  },
  {
   "cell_type": "markdown",
   "id": "5bc83acd",
   "metadata": {},
   "source": [
    "- df.values is an attribute of 'df' which stores a numpy.ndarray. We can see this from type(X.values): It returns \"numpy.ndarray\""
   ]
  },
  {
   "cell_type": "code",
   "execution_count": 7,
   "id": "37ee4e89",
   "metadata": {},
   "outputs": [
    {
     "data": {
      "text/plain": [
       "array([[0],\n",
       "       [0],\n",
       "       [0],\n",
       "       [0],\n",
       "       [0],\n",
       "       [0],\n",
       "       [0],\n",
       "       [0],\n",
       "       [0],\n",
       "       [0],\n",
       "       [0],\n",
       "       [0],\n",
       "       [0],\n",
       "       [0],\n",
       "       [0],\n",
       "       [0],\n",
       "       [0],\n",
       "       [0],\n",
       "       [0],\n",
       "       [0],\n",
       "       [0],\n",
       "       [0],\n",
       "       [0],\n",
       "       [0],\n",
       "       [0],\n",
       "       [0],\n",
       "       [0],\n",
       "       [0],\n",
       "       [0],\n",
       "       [0],\n",
       "       [0],\n",
       "       [0],\n",
       "       [0],\n",
       "       [0],\n",
       "       [0],\n",
       "       [0],\n",
       "       [0],\n",
       "       [0],\n",
       "       [0],\n",
       "       [0],\n",
       "       [0],\n",
       "       [0],\n",
       "       [0],\n",
       "       [0],\n",
       "       [0],\n",
       "       [0],\n",
       "       [0],\n",
       "       [0],\n",
       "       [0],\n",
       "       [0],\n",
       "       [0],\n",
       "       [0],\n",
       "       [0],\n",
       "       [0],\n",
       "       [0],\n",
       "       [0],\n",
       "       [0],\n",
       "       [0],\n",
       "       [0],\n",
       "       [0],\n",
       "       [0],\n",
       "       [0],\n",
       "       [0],\n",
       "       [0],\n",
       "       [0],\n",
       "       [0],\n",
       "       [0],\n",
       "       [0],\n",
       "       [0],\n",
       "       [0],\n",
       "       [0],\n",
       "       [0],\n",
       "       [0],\n",
       "       [0],\n",
       "       [0],\n",
       "       [0],\n",
       "       [0],\n",
       "       [0],\n",
       "       [0],\n",
       "       [0],\n",
       "       [0],\n",
       "       [0],\n",
       "       [0],\n",
       "       [0],\n",
       "       [0],\n",
       "       [0],\n",
       "       [0],\n",
       "       [0],\n",
       "       [0],\n",
       "       [0],\n",
       "       [0],\n",
       "       [0],\n",
       "       [0],\n",
       "       [0],\n",
       "       [0],\n",
       "       [0],\n",
       "       [0],\n",
       "       [0],\n",
       "       [0],\n",
       "       [0],\n",
       "       [0],\n",
       "       [0],\n",
       "       [0],\n",
       "       [0],\n",
       "       [0],\n",
       "       [0],\n",
       "       [0],\n",
       "       [0],\n",
       "       [0],\n",
       "       [0],\n",
       "       [0],\n",
       "       [0],\n",
       "       [0],\n",
       "       [0],\n",
       "       [0],\n",
       "       [0],\n",
       "       [0],\n",
       "       [0],\n",
       "       [0],\n",
       "       [0],\n",
       "       [0],\n",
       "       [0],\n",
       "       [0],\n",
       "       [0],\n",
       "       [0],\n",
       "       [0],\n",
       "       [0],\n",
       "       [0],\n",
       "       [0],\n",
       "       [0],\n",
       "       [0],\n",
       "       [0],\n",
       "       [0],\n",
       "       [0],\n",
       "       [0],\n",
       "       [0],\n",
       "       [0],\n",
       "       [0],\n",
       "       [0],\n",
       "       [0],\n",
       "       [0],\n",
       "       [0],\n",
       "       [0],\n",
       "       [0],\n",
       "       [0],\n",
       "       [0],\n",
       "       [0],\n",
       "       [0],\n",
       "       [0],\n",
       "       [0],\n",
       "       [0],\n",
       "       [0],\n",
       "       [0],\n",
       "       [0],\n",
       "       [0],\n",
       "       [0],\n",
       "       [0],\n",
       "       [0],\n",
       "       [0],\n",
       "       [0],\n",
       "       [0],\n",
       "       [0],\n",
       "       [0],\n",
       "       [0],\n",
       "       [0],\n",
       "       [0],\n",
       "       [0],\n",
       "       [0],\n",
       "       [0],\n",
       "       [0],\n",
       "       [0],\n",
       "       [0],\n",
       "       [0],\n",
       "       [0],\n",
       "       [0],\n",
       "       [0],\n",
       "       [0],\n",
       "       [0],\n",
       "       [0],\n",
       "       [0],\n",
       "       [0],\n",
       "       [0],\n",
       "       [0],\n",
       "       [0],\n",
       "       [0],\n",
       "       [0],\n",
       "       [0],\n",
       "       [0],\n",
       "       [0],\n",
       "       [0],\n",
       "       [0],\n",
       "       [0],\n",
       "       [0],\n",
       "       [0],\n",
       "       [0],\n",
       "       [0],\n",
       "       [0],\n",
       "       [0],\n",
       "       [0],\n",
       "       [0],\n",
       "       [1],\n",
       "       [1],\n",
       "       [1],\n",
       "       [1],\n",
       "       [1],\n",
       "       [1],\n",
       "       [1],\n",
       "       [1],\n",
       "       [1],\n",
       "       [1],\n",
       "       [1],\n",
       "       [1],\n",
       "       [1],\n",
       "       [1],\n",
       "       [1],\n",
       "       [1],\n",
       "       [1],\n",
       "       [1],\n",
       "       [1],\n",
       "       [1],\n",
       "       [1],\n",
       "       [1],\n",
       "       [1],\n",
       "       [1],\n",
       "       [1],\n",
       "       [1],\n",
       "       [1],\n",
       "       [1],\n",
       "       [1],\n",
       "       [1],\n",
       "       [1],\n",
       "       [1],\n",
       "       [1],\n",
       "       [1],\n",
       "       [1],\n",
       "       [1],\n",
       "       [1],\n",
       "       [1],\n",
       "       [1],\n",
       "       [1],\n",
       "       [1],\n",
       "       [1],\n",
       "       [1],\n",
       "       [1],\n",
       "       [1],\n",
       "       [1],\n",
       "       [1],\n",
       "       [1],\n",
       "       [1],\n",
       "       [1],\n",
       "       [1],\n",
       "       [1],\n",
       "       [1],\n",
       "       [1],\n",
       "       [1],\n",
       "       [1],\n",
       "       [1],\n",
       "       [1],\n",
       "       [1],\n",
       "       [1],\n",
       "       [1],\n",
       "       [1],\n",
       "       [1],\n",
       "       [1],\n",
       "       [1],\n",
       "       [1],\n",
       "       [1],\n",
       "       [1],\n",
       "       [1],\n",
       "       [1],\n",
       "       [1],\n",
       "       [1],\n",
       "       [1],\n",
       "       [1],\n",
       "       [1],\n",
       "       [1],\n",
       "       [1],\n",
       "       [1],\n",
       "       [1],\n",
       "       [1],\n",
       "       [1],\n",
       "       [1],\n",
       "       [1],\n",
       "       [1],\n",
       "       [1],\n",
       "       [1],\n",
       "       [1],\n",
       "       [1],\n",
       "       [1],\n",
       "       [1],\n",
       "       [1],\n",
       "       [1],\n",
       "       [1],\n",
       "       [1],\n",
       "       [1],\n",
       "       [1],\n",
       "       [1],\n",
       "       [1],\n",
       "       [1],\n",
       "       [1],\n",
       "       [1],\n",
       "       [1],\n",
       "       [1],\n",
       "       [1],\n",
       "       [1],\n",
       "       [1],\n",
       "       [1],\n",
       "       [1],\n",
       "       [1],\n",
       "       [1],\n",
       "       [1],\n",
       "       [1],\n",
       "       [1],\n",
       "       [1],\n",
       "       [1],\n",
       "       [1],\n",
       "       [1],\n",
       "       [1],\n",
       "       [1],\n",
       "       [1],\n",
       "       [1],\n",
       "       [1],\n",
       "       [1],\n",
       "       [1],\n",
       "       [1],\n",
       "       [1],\n",
       "       [1],\n",
       "       [1],\n",
       "       [1],\n",
       "       [1],\n",
       "       [1],\n",
       "       [1],\n",
       "       [1],\n",
       "       [1],\n",
       "       [1],\n",
       "       [1],\n",
       "       [1],\n",
       "       [1],\n",
       "       [1],\n",
       "       [1],\n",
       "       [1],\n",
       "       [1],\n",
       "       [1],\n",
       "       [1],\n",
       "       [1],\n",
       "       [1],\n",
       "       [1],\n",
       "       [1],\n",
       "       [1],\n",
       "       [1],\n",
       "       [1],\n",
       "       [1],\n",
       "       [1],\n",
       "       [1],\n",
       "       [1],\n",
       "       [1],\n",
       "       [1],\n",
       "       [1],\n",
       "       [1],\n",
       "       [1],\n",
       "       [1],\n",
       "       [1],\n",
       "       [1],\n",
       "       [1],\n",
       "       [1],\n",
       "       [1],\n",
       "       [1],\n",
       "       [1],\n",
       "       [1],\n",
       "       [1],\n",
       "       [1],\n",
       "       [1],\n",
       "       [1],\n",
       "       [1],\n",
       "       [1],\n",
       "       [1],\n",
       "       [1],\n",
       "       [1],\n",
       "       [1],\n",
       "       [1],\n",
       "       [1],\n",
       "       [1],\n",
       "       [1],\n",
       "       [1],\n",
       "       [1],\n",
       "       [1],\n",
       "       [1],\n",
       "       [1],\n",
       "       [1],\n",
       "       [1],\n",
       "       [1],\n",
       "       [1],\n",
       "       [1],\n",
       "       [1],\n",
       "       [1],\n",
       "       [1],\n",
       "       [1],\n",
       "       [1],\n",
       "       [1],\n",
       "       [1]])"
      ]
     },
     "execution_count": 7,
     "metadata": {},
     "output_type": "execute_result"
    }
   ],
   "source": [
    "y_data = np.array(y_data, dtype=int)  # convert y_data to int data type as it is in float by \n",
    "                                      # defeault. It had values: '0.0' and '1.0' earlier \n",
    "y_data"
   ]
  },
  {
   "cell_type": "code",
   "execution_count": 8,
   "id": "27398cf6",
   "metadata": {},
   "outputs": [],
   "source": [
    "plt.style.use('seaborn')"
   ]
  },
  {
   "cell_type": "code",
   "execution_count": 9,
   "id": "014a4b6c",
   "metadata": {},
   "outputs": [
    {
     "data": {
      "image/png": "[encoded data removed]",
      "text/plain": [
       "<Figure size 360x360 with 1 Axes>"
      ]
     },
     "metadata": {},
     "output_type": "display_data"
    }
   ],
   "source": [
    "plt.figure(figsize=(5,5))\n",
    "plt.scatter(X_data[:,0], X_data[:, 1])\n",
    "plt.show()"
   ]
  },
  {
   "cell_type": "code",
   "execution_count": 10,
   "id": "d92ee78a",
   "metadata": {},
   "outputs": [
    {
     "data": {
      "image/png": "[encoded data removed]",
      "text/plain": [
       "<Figure size 360x360 with 1 Axes>"
      ]
     },
     "metadata": {},
     "output_type": "display_data"
    }
   ],
   "source": [
    "# Differentiate both classes by passing value of color in 'c' argumnent:\n",
    "plt.figure(figsize=(5,5))\n",
    "plt.scatter(X_data[:,0], X_data[:,1], c=y_data)\n",
    "plt.show()"
   ]
  },
  {
   "cell_type": "code",
   "execution_count": 11,
   "id": "d2d2a901",
   "metadata": {},
   "outputs": [
    {
     "data": {
      "image/png": "[encoded data removed]",
      "text/plain": [
       "<Figure size 360x360 with 1 Axes>"
      ]
     },
     "metadata": {},
     "output_type": "display_data"
    }
   ],
   "source": [
    "## testing data representation\n",
    "##we can use different styles like 'classic' which gives red and blue at 0 and 1 etc...\n",
    "plt.figure(figsize=(5,5))\n",
    "plt.scatter(X_data[:,0], X_data[:,1], c=y_data)\n",
    "plt.scatter(X_data[0,0], X_data[0,1], c='red')   # this is test data\n",
    "plt.show()"
   ]
  },
  {
   "cell_type": "markdown",
   "id": "3cb3eb1b",
   "metadata": {},
   "source": [
    "- Using classic style, we got blue at c=0 and red at c=1\n",
    "<hr>\n",
    "\n",
    "### Distance formula:\n",
    "- We need some functions in our knn implementation. One of them is distance formula. Let us see this."
   ]
  },
  {
   "cell_type": "code",
   "execution_count": 12,
   "id": "60d186b3",
   "metadata": {},
   "outputs": [],
   "source": [
    "def distance(p1, p2):\n",
    "    return ( (p1[0]-p2[0])**2 + (p1[1]-p2[1])**2 )**0.5"
   ]
  },
  {
   "cell_type": "code",
   "execution_count": 13,
   "id": "cddbad73",
   "metadata": {},
   "outputs": [
    {
     "name": "stdout",
     "output_type": "stream",
     "text": [
      "1.299807992608901\n",
      "1.5007546060736787\n"
     ]
    }
   ],
   "source": [
    "print(distance(X_data[0], X_data[1]))\n",
    "print(distance(X_data[0], X_data[2]))"
   ]
  },
  {
   "cell_type": "code",
   "execution_count": 14,
   "id": "e864f89c",
   "metadata": {},
   "outputs": [],
   "source": [
    "class kNNClassifier:\n",
    "    def __init__(self, k=5):      # default k=5 if user do not pass no. of k points\n",
    "        self.k = k            # initializing parameter is k in this class.\n",
    "        \n",
    "    def fit(self, X, y):\n",
    "        self.X, self.y = X, y\n",
    "        \n",
    "    def distance_formula(self, p1, p2):\n",
    "        return ( (p1[0]-p2[0])**2 + (p1[1]-p2[1])**2 )**0.5\n",
    "    \n",
    "    def predict(self, p):  # p is test point\n",
    "        distances = []  # list of tuples\n",
    "        for i in range(len(self.X)): #find distance of all points from test point('p')\n",
    "            distances.append((self.distance_formula(self.X[i], p), i))\n",
    "            #(distance_formula(self.X[i], p), i): this is a tuple that we append in the list\n",
    "            \n",
    "        distances = sorted(distances, key=lambda x: x[0] ) # pass 1st parameter as key.\n",
    "        # by default, sorted() method sorts acc. to 1st parameter, then 2nd parameter so on..\n",
    "        top_k_points = distances[:self.k]\n",
    "\n",
    "        classes = []   # create empty list to store all classes in label(which is Y_data)\n",
    "        for dist, i in top_k_points:\n",
    "            classes.append(self.y[i])  #append lable for ith index( for top k points)\n",
    "            class_name , counts = np.unique(classes, return_counts=True)  \n",
    "        #returns names of classes and corresponding counts by passing 'return_count' argument\n",
    "            ix = np.argmax(counts) #index of argument with maximum counts\n",
    "            \n",
    "            pred = {\"class\": class_name[ix], \"prob\": counts[ix]/np.sum(counts)} # a dictionary\n",
    "            return pred\n",
    "#returns dict which has class name and probability for the test point to belong from that class."
   ]
  },
  {
   "cell_type": "code",
   "execution_count": 15,
   "id": "7d23012e",
   "metadata": {},
   "outputs": [
    {
     "data": {
      "text/plain": [
       "{'class': 1, 'prob': 1.0}"
      ]
     },
     "execution_count": 15,
     "metadata": {},
     "output_type": "execute_result"
    }
   ],
   "source": [
    "knn_model = kNNClassifier(7)\n",
    "knn_model.fit(X_data, y_data)\n",
    "knn_model.predict(X_data[300])"
   ]
  },
  {
   "cell_type": "code",
   "execution_count": 16,
   "id": "11650ea6",
   "metadata": {},
   "outputs": [
    {
     "name": "stdout",
     "output_type": "stream",
     "text": [
      "[1]\n"
     ]
    }
   ],
   "source": [
    "print(y_data[300])"
   ]
  },
  {
   "cell_type": "code",
   "execution_count": 17,
   "id": "97e4086e",
   "metadata": {},
   "outputs": [
    {
     "name": "stdout",
     "output_type": "stream",
     "text": [
      "(320, 2) (320, 1)\n",
      "(80, 2) (80, 1)\n"
     ]
    }
   ],
   "source": [
    "# generate some random seed value and pass same seed value for shuffling of X_data and y_data.\n",
    "# doing this will shuffle both array. But their corresponding order is not changes as same seed \n",
    "# is used, which gives same shuffling\n",
    "\n",
    "seed_val = np.random.randint(0, 100000)  #generate some random seed value\n",
    "np.random.seed(seed_val) # pass random value for seed\n",
    "np.random.shuffle(X_data)\n",
    "\n",
    "np.random.seed(seed_val)  # pass same random value of seed as passed for shuffling X_data\n",
    "np.random.shuffle(y_data)\n",
    "\n",
    "split = int(.80*X.shape[0])   # use 80% for training and 20% for testing.\n",
    "X_train, y_train = X_data[:split, :], y_data[:split]  \n",
    "X_test, y_test = X_data[split:, :], y_data[split:]  \n",
    "\n",
    "print(X_train.shape, y_train.shape)\n",
    "print(X_test.shape, y_test.shape)"
   ]
  },
  {
   "cell_type": "code",
   "execution_count": 18,
   "id": "303fabff",
   "metadata": {},
   "outputs": [
    {
     "data": {
      "text/plain": [
       "((320, 2), (320, 1), (80, 2), (80, 1))"
      ]
     },
     "execution_count": 18,
     "metadata": {},
     "output_type": "execute_result"
    }
   ],
   "source": [
    "from sklearn.model_selection import train_test_split\n",
    "\n",
    "X_train, X_test, y_train, y_test = train_test_split(X_data, y_data, test_size=0.2, random_state=5)\n",
    "X_train.shape, y_train.shape, X_test.shape, y_test.shape"
   ]
  },
  {
   "cell_type": "code",
   "execution_count": 19,
   "id": "71916bca",
   "metadata": {},
   "outputs": [
    {
     "data": {
      "text/plain": [
       "{'class': 1, 'prob': 1.0}"
      ]
     },
     "execution_count": 19,
     "metadata": {},
     "output_type": "execute_result"
    }
   ],
   "source": [
    "knn_model = kNNClassifier(5)\n",
    "knn_model.fit(X_train, y_train)\n",
    "knn_model.predict(X_train[10])"
   ]
  },
  {
   "cell_type": "code",
   "execution_count": 20,
   "id": "c872ef85",
   "metadata": {},
   "outputs": [
    {
     "data": {
      "text/plain": [
       "[{'class': 0, 'prob': 1.0},\n",
       " {'class': 1, 'prob': 1.0},\n",
       " {'class': 1, 'prob': 1.0},\n",
       " {'class': 0, 'prob': 1.0},\n",
       " {'class': 1, 'prob': 1.0},\n",
       " {'class': 1, 'prob': 1.0},\n",
       " {'class': 0, 'prob': 1.0},\n",
       " {'class': 1, 'prob': 1.0},\n",
       " {'class': 0, 'prob': 1.0},\n",
       " {'class': 0, 'prob': 1.0}]"
      ]
     },
     "execution_count": 20,
     "metadata": {},
     "output_type": "execute_result"
    }
   ],
   "source": [
    "# predict for all the test data\n",
    "predictions = []    # it is list of dictionaries.\n",
    "for i in range(len(X_test)):\n",
    "    predictions.append(knn_model.predict(X_train[i]))\n",
    "predictions[:10]   #see top 10 outputs "
   ]
  },
  {
   "cell_type": "code",
   "execution_count": 21,
   "id": "e614cd59",
   "metadata": {},
   "outputs": [
    {
     "data": {
      "text/plain": [
       "[1, 0, 1, 1, 0, 1, 0, 1, 1, 0]"
      ]
     },
     "execution_count": 21,
     "metadata": {},
     "output_type": "execute_result"
    }
   ],
   "source": [
    "# or we can return print only class names\n",
    "predictions = []   \n",
    "for i in range(len(X_test)):\n",
    "    predictions.append(knn_model.predict(X_test[i])[\"class\"])  \n",
    "predictions[:10]   #see class names for top 10 points"
   ]
  },
  {
   "cell_type": "code",
   "execution_count": 22,
   "id": "da149ac7",
   "metadata": {},
   "outputs": [
    {
     "data": {
      "text/plain": [
       "array([ True,  True,  True,  True,  True,  True,  True,  True,  True,\n",
       "        True,  True,  True,  True,  True,  True,  True,  True,  True,\n",
       "        True,  True,  True,  True,  True,  True,  True,  True,  True,\n",
       "        True,  True,  True,  True,  True,  True,  True,  True,  True,\n",
       "        True,  True,  True,  True,  True,  True,  True,  True,  True,\n",
       "        True,  True,  True,  True,  True,  True,  True,  True,  True,\n",
       "        True,  True,  True,  True,  True,  True,  True,  True,  True,\n",
       "        True,  True,  True,  True,  True,  True,  True,  True,  True,\n",
       "        True,  True,  True,  True,  True,  True,  True,  True])"
      ]
     },
     "execution_count": 22,
     "metadata": {},
     "output_type": "execute_result"
    }
   ],
   "source": [
    "# check if result is correct or not\n",
    "y_test = y_test.reshape(-1)  #change size of y_test(-1 arg checks size automatically.)\n",
    "predictions == y_test"
   ]
  },
  {
   "cell_type": "code",
   "execution_count": 23,
   "id": "9b25a79e",
   "metadata": {},
   "outputs": [
    {
     "data": {
      "text/plain": [
       "1.0"
      ]
     },
     "execution_count": 23,
     "metadata": {},
     "output_type": "execute_result"
    }
   ],
   "source": [
    "np.mean(predictions==y_test)  # mean for all predictions checking."
   ]
  },
  {
   "cell_type": "code",
   "execution_count": 24,
   "id": "32172bfa",
   "metadata": {},
   "outputs": [
    {
     "name": "stdout",
     "output_type": "stream",
     "text": [
      "[2.56867735 4.17969623] [2.82894521 3.91445026]\n",
      "[-0.26026786  0.26524597]\n",
      "0.004978111557190523\n"
     ]
    }
   ],
   "source": [
    "# we can aslo subtract p1-p2 which is same as p1[0]-p2[0] and p1[1] - p2[1]. Then add and sqrt.\n",
    "print(X_data[0], X_data[1])\n",
    "print(X_data[0]-X_data[1])\n",
    "print(np.sqrt(sum(X_data[0]-X_data[1])**2)) # distance between 2points"
   ]
  },
  {
   "cell_type": "code",
   "execution_count": 25,
   "id": "6d252564",
   "metadata": {},
   "outputs": [
    {
     "data": {
      "text/plain": [
       "array([0])"
      ]
     },
     "execution_count": 25,
     "metadata": {},
     "output_type": "execute_result"
    }
   ],
   "source": [
    "y_train[0]"
   ]
  },
  {
   "cell_type": "markdown",
   "id": "aac13f78",
   "metadata": {},
   "source": [
    "## A little changes in above code.\n",
    "- This one is better than above one"
   ]
  },
  {
   "cell_type": "code",
   "execution_count": 40,
   "id": "763a5df7",
   "metadata": {},
   "outputs": [],
   "source": [
    "class knn:\n",
    "    def __init__(self, k=5):\n",
    "        self.k = k\n",
    "    def dist_calc(self, p1, p2):\n",
    "        return np.sqrt(sum(p1-p2)**2)\n",
    "    def fit(self, X, y):\n",
    "        self.X, self.y = X, y\n",
    "    def prediction(self, p): # X, Y are training data and p is point from testing data\n",
    "        dist = []   # list of tuples\n",
    "        for i in range(self.X.shape[0]):  #X.shape[0] is same as len(X) which is no. of rows\n",
    "            dist.append((self.dist_calc(self.X[i],p) , self.y[i][0]))  #append distances and y label for every pt\n",
    "            \n",
    "        dist = sorted(dist)\n",
    "        dist = dist[:self.k]\n",
    "        dist = np.array(dist) #convert this list of tuples to array\n",
    "        #dist[0]=array of distances, dist[1]=array of class names for top k nearest points\n",
    "        new_dist = np.unique(dist[:,1], return_counts=True) #result is tuple\n",
    "        print(new_dist)\n",
    "#         new_list has array of y_labels and array of their counts.\n",
    "        ix = np.argmax(new_dist[1])\n",
    "        return {\"class\": new_dist[0][ix], \"prob\": new_dist[1][ix]/np.sum(new_dist[1]) }"
   ]
  },
  {
   "cell_type": "code",
   "execution_count": 41,
   "id": "36102ffe",
   "metadata": {},
   "outputs": [
    {
     "name": "stdout",
     "output_type": "stream",
     "text": [
      "(array([1.]), array([5]))\n"
     ]
    },
    {
     "data": {
      "text/plain": [
       "{'class': 1.0, 'prob': 1.0}"
      ]
     },
     "execution_count": 41,
     "metadata": {},
     "output_type": "execute_result"
    }
   ],
   "source": [
    "knn_model = knn()\n",
    "knn_model.fit(X_train, y_train)\n",
    "knn_model.prediction(X_test[0])"
   ]
  }
 ],
 "metadata": {
  "kernelspec": {
   "display_name": "Python 3 (ipykernel)",
   "language": "python",
   "name": "python3"
  },
  "language_info": {
   "codemirror_mode": {
    "name": "ipython",
    "version": 3
   },
   "file_extension": ".py",
   "mimetype": "text/x-python",
   "name": "python",
   "nbconvert_exporter": "python",
   "pygments_lexer": "ipython3",
   "version": "3.8.10"
  }
 },
 "nbformat": 4,
 "nbformat_minor": 5
}
