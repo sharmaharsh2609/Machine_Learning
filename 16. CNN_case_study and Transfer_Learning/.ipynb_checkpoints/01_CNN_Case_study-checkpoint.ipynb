{
 "cells": [
  {
   "cell_type": "code",
   "execution_count": null,
   "id": "13edd5c9",
   "metadata": {},
   "outputs": [],
   "source": []
  },
  {
   "cell_type": "code",
   "execution_count": null,
   "id": "99da7c53",
   "metadata": {},
   "outputs": [],
   "source": []
  },
  {
   "cell_type": "markdown",
   "id": "808a17f9",
   "metadata": {},
   "source": [
    "**ZF-Net**: https://towardsdatascience.com/zfnet-an-explanation-of-paper-with-code-f1bd6752121d?gi=76e8f3e292df\n",
    "-This contains very in depth detail of ZF-Net with very great visualization.\n",
    "\n",
    "**Deconvolutional Networks and project ideas in DeconvNets:** https://mdfarragher.medium.com/here-are-the-mind-blowing-things-a-deconvolutional-neural-network-can-do-2fc99e008fe4\n",
    "\n",
    "**Basic Overview of all ImageNet Networks:** https://medium.com/the-pen-point/evolution-of-convolutional-neural-network-architectures-6b90d067e403\n",
    "\n",
    "For detailed explanation, see notes and research papers given in the same folder."
   ]
  },
  {
   "cell_type": "code",
   "execution_count": null,
   "id": "bc9d2534",
   "metadata": {},
   "outputs": [],
   "source": []
  }
 ],
 "metadata": {
  "kernelspec": {
   "display_name": "Python 3 (ipykernel)",
   "language": "python",
   "name": "python3"
  },
  "language_info": {
   "codemirror_mode": {
    "name": "ipython",
    "version": 3
   },
   "file_extension": ".py",
   "mimetype": "text/x-python",
   "name": "python",
   "nbconvert_exporter": "python",
   "pygments_lexer": "ipython3",
   "version": "3.8.10"
  }
 },
 "nbformat": 4,
 "nbformat_minor": 5
}
