{
 "cells": [
  {
   "cell_type": "markdown",
   "id": "98b783a2",
   "metadata": {},
   "source": [
    "- There are 3 types of transfer learning:<br>\n",
    "  1. Predictions\n",
    "  2. Feature Extraction\n",
    "  3. Fine Tuning\n",
    "  \n",
    "- **Predictions** means using same model to predict similar values. eg- Imagenet dataset has 1000 classes including humans, cats, dogs etc.. So we can directly make predictions without changing any parameters if we have same classes.\n",
    "- **Feature Extraction** means changing MLP classifier and Conv Base remains same which extract same features. So here we used transfer learning for feature extraction and did rest with new classifier.\n",
    "- **Fine Tuning** means changing layers of conv base to get different kind of features.\n",
    "<br><br>\n",
    "- In this file, we have used Predictions directly."
   ]
  },
  {
   "cell_type": "markdown",
   "id": "4d8f7cdd",
   "metadata": {},
   "source": [
    "- Search \"keras trasfer learning models\" and copy code from there. https://keras.io/api/applications/"
   ]
  },
  {
   "cell_type": "code",
   "execution_count": 1,
   "id": "9c84f7f3",
   "metadata": {},
   "outputs": [
    {
     "name": "stderr",
     "output_type": "stream",
     "text": [
      "2022-07-31 08:55:25.105998: W tensorflow/stream_executor/platform/default/dso_loader.cc:64] Could not load dynamic library 'libcudart.so.11.0'; dlerror: libcudart.so.11.0: cannot open shared object file: No such file or directory\n",
      "2022-07-31 08:55:25.106114: I tensorflow/stream_executor/cuda/cudart_stub.cc:29] Ignore above cudart dlerror if you do not have a GPU set up on your machine.\n"
     ]
    }
   ],
   "source": [
    "from tensorflow.keras.applications.resnet50 import ResNet50\n",
    "from tensorflow.keras.preprocessing import image\n",
    "from tensorflow.keras.applications.resnet50 import preprocess_input, decode_predictions\n",
    "import numpy as np"
   ]
  },
  {
   "cell_type": "markdown",
   "id": "52146a58",
   "metadata": {},
   "source": [
    "- Creating model for first time will download the data(weights of resnet model). But once downloaded, it is saved permanently in memory.\n",
    "- And we can select resnet parameters learned from different datasets. Default value of weights='imagenet' which gives us parameters learned from imagenet dataset."
   ]
  },
  {
   "cell_type": "code",
   "execution_count": 2,
   "id": "68dc32cc",
   "metadata": {},
   "outputs": [
    {
     "name": "stderr",
     "output_type": "stream",
     "text": [
      "2022-07-31 08:55:38.602108: W tensorflow/stream_executor/platform/default/dso_loader.cc:64] Could not load dynamic library 'libcuda.so.1'; dlerror: libcuda.so.1: cannot open shared object file: No such file or directory\n",
      "2022-07-31 08:55:38.602193: W tensorflow/stream_executor/cuda/cuda_driver.cc:269] failed call to cuInit: UNKNOWN ERROR (303)\n",
      "2022-07-31 08:55:38.602231: I tensorflow/stream_executor/cuda/cuda_diagnostics.cc:156] kernel driver does not appear to be running on this host (harsh): /proc/driver/nvidia/version does not exist\n",
      "2022-07-31 08:55:38.603413: I tensorflow/core/platform/cpu_feature_guard.cc:151] This TensorFlow binary is optimized with oneAPI Deep Neural Network Library (oneDNN) to use the following CPU instructions in performance-critical operations:  AVX2\n",
      "To enable them in other operations, rebuild TensorFlow with the appropriate compiler flags.\n",
      "2022-07-31 08:55:40.265187: W tensorflow/core/framework/cpu_allocator_impl.cc:82] Allocation of 8388608 exceeds 10% of free system memory.\n",
      "2022-07-31 08:55:40.279427: W tensorflow/core/framework/cpu_allocator_impl.cc:82] Allocation of 8388608 exceeds 10% of free system memory.\n",
      "2022-07-31 08:55:40.283103: W tensorflow/core/framework/cpu_allocator_impl.cc:82] Allocation of 8388608 exceeds 10% of free system memory.\n",
      "2022-07-31 08:55:40.357269: W tensorflow/core/framework/cpu_allocator_impl.cc:82] Allocation of 9437184 exceeds 10% of free system memory.\n",
      "2022-07-31 08:55:40.378364: W tensorflow/core/framework/cpu_allocator_impl.cc:82] Allocation of 9437184 exceeds 10% of free system memory.\n"
     ]
    }
   ],
   "source": [
    "# create the model\n",
    "model = ResNet50(weights='imagenet')  # "
   ]
  },
  {
   "cell_type": "markdown",
   "id": "2af43e46",
   "metadata": {},
   "source": [
    "- See all examples of expand_dims: how it works and what it is."
   ]
  },
  {
   "cell_type": "code",
   "execution_count": 5,
   "id": "2cf5e599",
   "metadata": {},
   "outputs": [],
   "source": [
    "import numpy as np\n",
    "np.expand_dims?"
   ]
  },
  {
   "cell_type": "code",
   "execution_count": 3,
   "id": "e9128dfb",
   "metadata": {},
   "outputs": [],
   "source": [
    "## read the image(download any random image from google as resnet has trained on imagenet\n",
    "# which contains 14 million images of all kinds.)\n",
    "img_path = 'lion.png'\n",
    "img = image.load_img(img_path, target_size=(224, 224))\n",
    "x = image.img_to_array(img)\n",
    "x = np.expand_dims(x, axis=0)\n",
    "x = preprocess_input(x)"
   ]
  },
  {
   "cell_type": "markdown",
   "id": "d3e77532",
   "metadata": {},
   "source": [
    "- This whole code is copied from keras application site: link given in beginning."
   ]
  },
  {
   "cell_type": "code",
   "execution_count": 10,
   "id": "93f3a867",
   "metadata": {},
   "outputs": [
    {
     "name": "stdout",
     "output_type": "stream",
     "text": [
      "(1, 1000)\n",
      "Predicted: [('n02129165', 'lion', 0.9959417), ('n02125311', 'cougar', 0.0019782248), ('n02112137', 'chow', 0.000579108)]\n"
     ]
    }
   ],
   "source": [
    "\n",
    "preds = model.predict(x)\n",
    "print(preds.shape)\n",
    "# decode the results into a list of tuples (class, description, probability)\n",
    "# (one such list for each sample in the batch)\n",
    "print('Predicted:', decode_predictions(preds, top=3)[0])"
   ]
  },
  {
   "cell_type": "markdown",
   "id": "4fa6361a",
   "metadata": {},
   "source": [
    "- Predicted output is arrays of size (1,1000) where all values are 0 except for 1 class. As we have 1000 classes in imagenet dataset. So **decode_predictions()** helps us to show the predicted output from class labels."
   ]
  },
  {
   "cell_type": "code",
   "execution_count": null,
   "id": "10a9e099",
   "metadata": {},
   "outputs": [],
   "source": []
  }
 ],
 "metadata": {
  "kernelspec": {
   "display_name": "Python 3 (ipykernel)",
   "language": "python",
   "name": "python3"
  },
  "language_info": {
   "codemirror_mode": {
    "name": "ipython",
    "version": 3
   },
   "file_extension": ".py",
   "mimetype": "text/x-python",
   "name": "python",
   "nbconvert_exporter": "python",
   "pygments_lexer": "ipython3",
   "version": "3.8.10"
  }
 },
 "nbformat": 4,
 "nbformat_minor": 5
}
