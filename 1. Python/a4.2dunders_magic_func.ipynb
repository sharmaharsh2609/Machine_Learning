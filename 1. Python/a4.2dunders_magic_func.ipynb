{
 "cells": [
  {
   "cell_type": "markdown",
   "id": "44441e64",
   "metadata": {},
   "source": [
    "## Dunders or magic functions:\n",
    "- Dunder or magic methods in Python are the methods having two underscores at the begining and 2 at the end in the method name.\n",
    "- Lifetime of an object is time between object's creation and it's deletion.\n",
    "- During the whole lifetime of an object, object undergoes a lot of events like :\n",
    "    - creation(first event of life of an object)\n",
    "    - deletion(last event of life of an object)\n",
    "    - adding two objects\n",
    "    - conversion of object to string\n",
    "    - subtracting of 2 objects etc..\n",
    "- There are a lot of events that occurs during the lifetime of the object just like a human life.\n",
    "- Python have special functions known as **magic functions or dunders** which handdles all these events. These **dunders are defined by two underscore at begining and end  of the method name. These magic functions have some special meaning.**"
   ]
  },
  {
   "cell_type": "markdown",
   "id": "b2f6811d",
   "metadata": {},
   "source": [
    "### Some important magic functions or Dunders:\n",
    "##### 1. \\__init__(self, arg1,arg2,arg3, ...) :\n",
    "- \\__init__ method is called when an object is created.\n",
    "##### 2. \\__del__(self) \n",
    "- \\__del__ method is called when an object is destroyed.(it is different from destructor.)\n",
    "##### 3. \\__add__(self, other)\n",
    "- \\__add__ method is called when we add 2 objects: O1+O2 => It calls method as O1.\\__add__(O2). We have defined 2 arguments in \\__add__ where self is O1 and other is O2. Where the other object(as O2 here) can be of any class(same or other class).\n",
    "##### 4. \\__str__(self)\n",
    "- \\__str__ method is called, when we convert an object into list. eg- a=45 , str(a)\n",
    "##### 5. \\__eq__(self,other)\n",
    "- It is called when we maade comparison between objects: eg- O1==O2. It calls method as : O1.\\__eq__(O2)\n",
    "##### There are a lot of dunders in python whose list can be searched from google.\n",
    "#### ---------------------------------------------------------------------------------------------------------------\n",
    "### Use of Dunders:\n",
    "- Unlike C++, python do not have the concept of operator overloading. **These magic functions are used to define overloaded behaviour of operators.**  \n",
    "- We can do this by overriding magic functions: we can redefine these dunders and define them accordingly to define new behaviour of overloaded operators."
   ]
  },
  {
   "cell_type": "code",
   "execution_count": 23,
   "id": "4aeacb5f",
   "metadata": {},
   "outputs": [
    {
     "name": "stdout",
     "output_type": "stream",
     "text": [
      "85\n",
      "False\n"
     ]
    }
   ],
   "source": [
    "class Car:\n",
    "    def __init__(self, model, milage):\n",
    "        self.model = model\n",
    "        self.milage = milage\n",
    "    def __add__(self, other):\n",
    "        return self.milage + other.milage  #returns sum of milage of 2 objects\n",
    "    def __eq__(self,other):\n",
    "        return self.milage == other.milage  # returns True if milage of both objects are same.\n",
    "    def __str__(self):\n",
    "        return \"{} {}\".format(self.model, self.milage)  \n",
    "    #returns 'model name of object' followed by space followed by 'milage' as a single string\n",
    "    \n",
    "    c1 = Car(\"model1\", 45)\n",
    "    c2 = Car(\"model2\", 40)\n",
    "    \n",
    "    print(c1 + c2)\n",
    "    print(c1 == c2)"
   ]
  },
  {
   "cell_type": "markdown",
   "id": "0f95ad25",
   "metadata": {},
   "source": [
    "- we can see here, we overloaded + and == operators which can now add and compare 2 objects.\n",
    "- Like this, we can use operator overloading in c++"
   ]
  },
  {
   "cell_type": "markdown",
   "id": "ccd0b3eb",
   "metadata": {},
   "source": [
    "## Task: write a python script to implement cout<< \"text\" using class and objects"
   ]
  },
  {
   "cell_type": "code",
   "execution_count": 37,
   "id": "ade64ca4",
   "metadata": {},
   "outputs": [
    {
     "name": "stdout",
     "output_type": "stream",
     "text": [
      "Harsh Sharma"
     ]
    },
    {
     "data": {
      "text/plain": [
       "<__main__.output at 0x7f6150187a00>"
      ]
     },
     "execution_count": 37,
     "metadata": {},
     "output_type": "execute_result"
    }
   ],
   "source": [
    "class output :\n",
    "    def __lshift__(self, other):  #  __lshift__ is called on using operator <<\n",
    "        print(other,end='')\n",
    "        return self\n",
    "\n",
    "cout = output()\n",
    "cout << \"Harsh \" << \"Sharma\" \n",
    "# this is same as cout.__lshift__(\"Harsh \").__lshift__(\"Sharma\")"
   ]
  },
  {
   "cell_type": "markdown",
   "id": "6f59f4d5",
   "metadata": {},
   "source": [
    "- here we create a class output(or any name you want) and we rewrite '\\__lshift__' dunder to a new definition. Then we create an object named 'cout' of class 'output'  \n",
    "- Note: here return self is neccessary for executing multiple '<<' .\n",
    "- we use cout<<\"Harsh \"<<\"Sharma which is like Obj1 << Obj2 << Obj3 , where Obj1 is object 'cout' of class output that we defined here and Obj2 & Obj3 are both objects of class 'string' which is pre-defined.\n",
    "##### Output of above last statement explanation :\n",
    "-\\__lshift__ dunder is called when we encounter a '<<' operator \n",
    "- When we encounter first left_shift operator then Obj1 << Obj2 calls \\__lshift__ dunder. Now in \\__lshift__ definition, we print the Obj2 and return self\n",
    "- After returning from dunder, result is: **cout << \"Sharma\" ** as cout << \"Harsh\" returns cout after printing \"Harsh\" .\n",
    "- Now again << is met and it again calls \\__lshift__ dunder for Obj1 << Obj3 , now it prints Obj3 and returns Obj1 i.e - cout.\n",
    "- At last we are remaining with Obj1(cout) , on executing this, it prints address of object 'cout'.\n"
   ]
  },
  {
   "cell_type": "code",
   "execution_count": 44,
   "id": "bf295aa2",
   "metadata": {},
   "outputs": [
    {
     "name": "stdout",
     "output_type": "stream",
     "text": [
      "5\n",
      "0\n"
     ]
    }
   ],
   "source": [
    "# try to implement cin>>a>>b\n",
    "class inp :\n",
    "    def __rshift__(self, other):\n",
    "        other = input()\n",
    "\n",
    "cin = inp()\n",
    "a=0\n",
    "cin >> a \n",
    "print(a)\n",
    "\n",
    "# I'm not able to do this. Maybe this is not possible to do. Let us try it later..."
   ]
  }
 ],
 "metadata": {
  "kernelspec": {
   "display_name": "Python 3 (ipykernel)",
   "language": "python",
   "name": "python3"
  },
  "language_info": {
   "codemirror_mode": {
    "name": "ipython",
    "version": 3
   },
   "file_extension": ".py",
   "mimetype": "text/x-python",
   "name": "python",
   "nbconvert_exporter": "python",
   "pygments_lexer": "ipython3",
   "version": "3.8.10"
  }
 },
 "nbformat": 4,
 "nbformat_minor": 5
}
