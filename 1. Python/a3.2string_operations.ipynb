{
 "cells": [
  {
   "cell_type": "markdown",
   "id": "1797754e",
   "metadata": {},
   "source": [
    "### String Operations:\n",
    "- format,strip,split,replace,count etc..\n",
    "- there are a lot of built-in functions also for strings.\n"
   ]
  },
  {
   "cell_type": "markdown",
   "id": "f3fd25b1",
   "metadata": {},
   "source": [
    "###  format()\n",
    "- The format() method formats the specified value(s) and insert them inside the string's placeholder.\n",
    "        - Syntax: string.format(value1, value2...) \n",
    "- A placeholder is neccessary in string for formatting. Placeholder can be defined by using curly braces: {}\n",
    "- There are 3 types of placeholders:\n",
    "    - {}  : (empty placeholders)-> these are emplty curly braces which prints the arguments passed to format() function positionally. eg- 1st parameter printed, then 2nd then 3rd and so on..\n",
    "    - {0} : (number indexes)-> type any index of the arguments passed in the format() function and it will print that index arguments.\n",
    "    - {fname} : (named indexes)-> these are names inside curly braces. We can pass keyword arguments with the names in the curly beraces."
   ]
  },
  {
   "cell_type": "code",
   "execution_count": 1,
   "id": "1d66b45a",
   "metadata": {},
   "outputs": [
    {
     "name": "stdout",
     "output_type": "stream",
     "text": [
      "My name is Harsh, I'm 19\n",
      "My name is Harsh, I'm 19\n",
      "My name is Harsh, I'm 19\n"
     ]
    }
   ],
   "source": [
    "#empty placeholders:\n",
    "txt1 = \"My name is {}, I'm {}\".format(\"Harsh\",19)\n",
    "#numbered indexes:\n",
    "txt2 = \"My name is {1}, I'm {0}\".format(19,\"Harsh\") \n",
    "# we use {1} first. So argument at index 1 in format() is used there and then {0}: argument at \n",
    "# index 0 is used later\n",
    "\n",
    "#named indexes:\n",
    "txt3 = \"My name is {fname}, I'm {age}\".format(age = 19, fname = \"Harsh\")\n",
    "#we pass age=19 to {age} and fname=\"Harsh\" to {fname}\n",
    "\n",
    "print(txt1)\n",
    "print(txt2)\n",
    "print(txt3)"
   ]
  },
  {
   "cell_type": "markdown",
   "id": "53920736",
   "metadata": {},
   "source": [
    "- These above 3 are most popular formatting types. There are a lot of different formatting types depending on the value passed in the curly braces.\n",
    "###### formatting using format() is very useful in print() function:\n",
    "- format() is very useful as we can insert based on the indices which is not in case of print(\"...%s..%s...\"%(a,b))\n",
    "- we can also insert objects by using assigned keywords."
   ]
  },
  {
   "cell_type": "code",
   "execution_count": 2,
   "id": "2df38353",
   "metadata": {},
   "outputs": [
    {
     "name": "stdout",
     "output_type": "stream",
     "text": [
      "We all are equal.\n",
      "Read the directions\n",
      "a: 1, b: Two, c: 12.3\n"
     ]
    }
   ],
   "source": [
    "#empty index\n",
    "print('We all are {}.'.format('equal'))\n",
    "\n",
    "#index based\n",
    "print('{2} {1} {0}'.format('directions','the', 'Read'))\n",
    "\n",
    "#name based (inserting objects)\n",
    "print('a: {a}, b: {b}, c: {c}'.format(a = 1,b = 'Two',c = 12.3))"
   ]
  },
  {
   "cell_type": "markdown",
   "id": "abe44f6e",
   "metadata": {},
   "source": [
    "### f-strings:\n",
    "- latest version of format strings is f-strings.\n",
    "- f-strings are a lot faster and easy than format() and % formatting. f-strings are best.\n",
    "        Syntax:   f\"\"       ,write f before string. \n",
    "        and in print() function it is: \n",
    "        print(f\"...\")\n",
    "- Note: f-strings can only be used in 3.6+ version"
   ]
  },
  {
   "cell_type": "code",
   "execution_count": 3,
   "id": "e4a7faa6",
   "metadata": {},
   "outputs": [
    {
     "name": "stdout",
     "output_type": "stream",
     "text": [
      "My name is Harsh Sharma\n"
     ]
    }
   ],
   "source": [
    "fname = \"Harsh\"\n",
    "lname = \"Sharma\"\n",
    "print(f\"My name is {fname} {lname}\")"
   ]
  },
  {
   "cell_type": "markdown",
   "id": "9b0d9d6e",
   "metadata": {},
   "source": [
    "- f-strings can execute expressions also:"
   ]
  },
  {
   "cell_type": "code",
   "execution_count": 4,
   "id": "79486b76",
   "metadata": {},
   "outputs": [
    {
     "name": "stdout",
     "output_type": "stream",
     "text": [
      "He said his age is 30.\n"
     ]
    }
   ],
   "source": [
    "a = 5\n",
    "b = 10\n",
    "\n",
    "print(f\"He said his age is {2 * (a + b)}.\")"
   ]
  },
  {
   "cell_type": "markdown",
   "id": "dae78bad",
   "metadata": {},
   "source": [
    "- f-strings can use lambda function also:"
   ]
  },
  {
   "cell_type": "code",
   "execution_count": 5,
   "id": "22c62d85",
   "metadata": {},
   "outputs": [
    {
     "name": "stdout",
     "output_type": "stream",
     "text": [
      "He said his age is 6\n"
     ]
    }
   ],
   "source": [
    "print(f\"He said his age is {(lambda x: x*2)(3)}\")"
   ]
  },
  {
   "cell_type": "code",
   "execution_count": 6,
   "id": "0c2e53ab",
   "metadata": {},
   "outputs": [
    {
     "name": "stdout",
     "output_type": "stream",
     "text": [
      "This is some\n",
      "paragram written\n",
      "here\n"
     ]
    }
   ],
   "source": [
    "# Triple Quotes\n",
    "para = \"\"\"This is some\n",
    "paragram written\n",
    "here\"\"\"\n",
    "print(para)"
   ]
  },
  {
   "cell_type": "markdown",
   "id": "17a4e9a2",
   "metadata": {},
   "source": [
    "### Strings : More Inbuilt Functions"
   ]
  },
  {
   "cell_type": "code",
   "execution_count": 7,
   "id": "1ce95968",
   "metadata": {},
   "outputs": [
    {
     "name": "stdout",
     "output_type": "stream",
     "text": [
      "['This', 'is', 'some', 'paragram', 'written', 'here']\n",
      "<class 'list'>\n",
      "<class 'str'>\n"
     ]
    }
   ],
   "source": [
    "l = para.split()\n",
    "print(l)\n",
    "print(type(l))\n",
    "print(type(l[0]))"
   ]
  },
  {
   "cell_type": "code",
   "execution_count": 8,
   "id": "a361d6e4",
   "metadata": {},
   "outputs": [
    {
     "data": {
      "text/plain": [
       "['This is some', 'paragram written', 'here']"
      ]
     },
     "execution_count": 8,
     "metadata": {},
     "output_type": "execute_result"
    }
   ],
   "source": [
    "para.splitlines()"
   ]
  },
  {
   "cell_type": "code",
   "execution_count": 30,
   "id": "e6788a9c",
   "metadata": {},
   "outputs": [
    {
     "name": "stdout",
     "output_type": "stream",
     "text": [
      "MANGO mango\n"
     ]
    }
   ],
   "source": [
    "# str.upper() converts all characters of str to uppercase\n",
    "# str.lower() converts all characters of str to lowercase\n",
    "\n",
    "fruit = \"Mango\"\n",
    "fruit1 = fruit.upper()\n",
    "fruit2 = fruit.lower()\n",
    "print(fruit1,fruit2)"
   ]
  },
  {
   "cell_type": "code",
   "execution_count": 31,
   "id": "b16b2f9f",
   "metadata": {},
   "outputs": [
    {
     "name": "stdout",
     "output_type": "stream",
     "text": [
      "18\n"
     ]
    }
   ],
   "source": [
    "shake = \"    Apple Shake   \"\n",
    "shake2 = shake\n",
    "print(len(shake))  # returns the length of string"
   ]
  },
  {
   "cell_type": "code",
   "execution_count": 11,
   "id": "34a14265",
   "metadata": {},
   "outputs": [
    {
     "name": "stdout",
     "output_type": "stream",
     "text": [
      "Apple Shake\n",
      "11\n"
     ]
    }
   ],
   "source": [
    "shake = shake.lstrip() #Removes the leading white space\n",
    "shake = shake.rstrip() #Removes the ending white space\n",
    "print(shake)\n",
    "print(len(shake))\n",
    "\n",
    "# shake.strip() removes all the leading and trailing whitespaces"
   ]
  },
  {
   "cell_type": "code",
   "execution_count": 12,
   "id": "fb93c52c",
   "metadata": {},
   "outputs": [
    {
     "name": "stdout",
     "output_type": "stream",
     "text": [
      "Apple Shake\n",
      "11\n"
     ]
    }
   ],
   "source": [
    "shake2 = shake2.strip() #Removes leading and trailing whites spaces \n",
    "print(shake2)\n",
    "print(len(shake2))"
   ]
  },
  {
   "cell_type": "code",
   "execution_count": 13,
   "id": "8eaa9341",
   "metadata": {},
   "outputs": [
    {
     "name": "stdout",
     "output_type": "stream",
     "text": [
      "True\n",
      "True\n"
     ]
    }
   ],
   "source": [
    "a = \"9318790\"\n",
    "print(a.isdigit())\n",
    "b = \"HNo\"\n",
    "print(b.isalpha())"
   ]
  },
  {
   "cell_type": "code",
   "execution_count": 14,
   "id": "3c205067",
   "metadata": {},
   "outputs": [
    {
     "name": "stdout",
     "output_type": "stream",
     "text": [
      "True\n",
      "False\n",
      "True\n"
     ]
    }
   ],
   "source": [
    "a = \"12abcA\"\n",
    "b = \"    \"\n",
    "print(a.isalnum())\n",
    "print(a.islower())\n",
    "print(b.isspace()) "
   ]
  },
  {
   "cell_type": "markdown",
   "id": "14facef6",
   "metadata": {},
   "source": [
    "### Some More String Functions :)\n",
    "- Find Function\n",
    "- Replace\n",
    "- Count Function\n",
    "- Join Function\n",
    "- Title Function\n",
    "- Capitalize"
   ]
  },
  {
   "cell_type": "code",
   "execution_count": 32,
   "id": "26aa4fa9",
   "metadata": {},
   "outputs": [
    {
     "name": "stdout",
     "output_type": "stream",
     "text": [
      "48\n",
      "48\n"
     ]
    }
   ],
   "source": [
    "a = \"I love having Apple Juice, and I like eat green Apple\"\n",
    "print(a.find(\"Apple\",30,len(a)))\n",
    "\n",
    "print(a.index(\"Apple\",30,len(a)))\n",
    "# Difference is find() return -1, index throws an exception of not found"
   ]
  },
  {
   "cell_type": "markdown",
   "id": "1533e85f",
   "metadata": {},
   "source": [
    "##### As strings are immutable, we can't change values using a[3] = 'r'. replace() function replaces substring in 1st parameter with the substring in the 2nd parameter."
   ]
  },
  {
   "cell_type": "code",
   "execution_count": 16,
   "id": "6b690377",
   "metadata": {},
   "outputs": [
    {
     "name": "stdout",
     "output_type": "stream",
     "text": [
      "I love having Mango Juice, and I like eat green Mango\n"
     ]
    }
   ],
   "source": [
    "a = a.replace(\"Apple\",\"Mango\")\n",
    "print(a)"
   ]
  },
  {
   "cell_type": "code",
   "execution_count": 17,
   "id": "4152f94a",
   "metadata": {},
   "outputs": [
    {
     "name": "stdout",
     "output_type": "stream",
     "text": [
      "3\n",
      "1\n"
     ]
    }
   ],
   "source": [
    "str = \"aaabbbbccccc\"\n",
    "print(str.count('a'))\n",
    "print(str.count('aa')) # there is only 1 occurence of 'aa'"
   ]
  },
  {
   "cell_type": "markdown",
   "id": "d03b9e4c",
   "metadata": {},
   "source": [
    "- In C++, input stops by inputting space.\n",
    "- But in python inputs stops only when we hit enter. So any space typed is also considered as a part of input string."
   ]
  },
  {
   "cell_type": "code",
   "execution_count": 18,
   "id": "390e6db9",
   "metadata": {},
   "outputs": [
    {
     "name": "stdout",
     "output_type": "stream",
     "text": [
      "Enter something: 1 2 3 4 5\n",
      "1 2 3 4 5\n",
      "<class 'str'>\n"
     ]
    }
   ],
   "source": [
    "str = input(\"Enter something: \")\n",
    "print(str)\n",
    "print(type(str))"
   ]
  },
  {
   "cell_type": "markdown",
   "id": "40d4d5f8",
   "metadata": {},
   "source": [
    "- we can split this using split() method to convert it into a list.\n",
    "- split() splits with space by default. But if we pass some arguments, then it considers that argument as delimeter to split."
   ]
  },
  {
   "cell_type": "code",
   "execution_count": 19,
   "id": "a7c1ae96",
   "metadata": {},
   "outputs": [
    {
     "data": {
      "text/plain": [
       "['1', '2', '3', '4', '5']"
      ]
     },
     "execution_count": 19,
     "metadata": {},
     "output_type": "execute_result"
    }
   ],
   "source": [
    "str.split()"
   ]
  },
  {
   "cell_type": "code",
   "execution_count": 20,
   "id": "088d48ee",
   "metadata": {},
   "outputs": [
    {
     "name": "stdout",
     "output_type": "stream",
     "text": [
      "['1 2 4', '5 6', '5 6 7', '4']\n",
      "['123', 'a56', '7', '8']\n"
     ]
    }
   ],
   "source": [
    "a=\"1 2 4+5 6+5 6 7+4\"\n",
    "print(a.split('+'))    # takes + as delimeter to split\n",
    "b=\"123aaa56aa7aa8\"\n",
    "print(b.split('aa'))    # takes 'aa'  as delimeter to split "
   ]
  },
  {
   "cell_type": "code",
   "execution_count": 21,
   "id": "a3e55185",
   "metadata": {},
   "outputs": [
    {
     "name": "stdout",
     "output_type": "stream",
     "text": [
      "Enter something: 1 2 3 4 5\n",
      "['1', '2', '3', '4', '5']\n",
      "<class 'list'>\n"
     ]
    }
   ],
   "source": [
    "# we can use split() directly in input(). This is most common use of split()\n",
    "str=input(\"Enter something: \").split()  # now it is 'list' and not string\n",
    "print(str)\n",
    "print(type(str))"
   ]
  },
  {
   "cell_type": "code",
   "execution_count": 33,
   "id": "9c23c01c",
   "metadata": {},
   "outputs": [
    {
     "name": "stdout",
     "output_type": "stream",
     "text": [
      "1_2_3_4_5\n"
     ]
    }
   ],
   "source": [
    "#opposite of split(). It joins back elements of list, tuple etc.\n",
    "#Syntax: seperator.join(string)  , where seperator maybe character or string which we use to \n",
    "# seperate elements with. and str is input string\n",
    "\n",
    "a = \"_\"\n",
    "b = a.join(str)\n",
    "print(b)\n",
    "\n",
    "# we can simply do as:  b = '_'.join(str)"
   ]
  },
  {
   "cell_type": "code",
   "execution_count": 29,
   "id": "2ea2240a",
   "metadata": {},
   "outputs": [
    {
     "data": {
      "text/plain": [
       "'Hey! How Are You Doing '"
      ]
     },
     "execution_count": 29,
     "metadata": {},
     "output_type": "execute_result"
    }
   ],
   "source": [
    "#title() converts 1st character in each word to Uppercase and remaining characters to Lowercase \n",
    "# in the string\n",
    "\n",
    "name_org = \"hey! how are you doing \"\n",
    "name_org.title()"
   ]
  }
 ],
 "metadata": {
  "kernelspec": {
   "display_name": "Python 3 (ipykernel)",
   "language": "python",
   "name": "python3"
  },
  "language_info": {
   "codemirror_mode": {
    "name": "ipython",
    "version": 3
   },
   "file_extension": ".py",
   "mimetype": "text/x-python",
   "name": "python",
   "nbconvert_exporter": "python",
   "pygments_lexer": "ipython3",
   "version": "3.8.10"
  }
 },
 "nbformat": 4,
 "nbformat_minor": 5
}
