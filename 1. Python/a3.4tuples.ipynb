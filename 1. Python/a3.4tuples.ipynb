{
 "cells": [
  {
   "cell_type": "markdown",
   "metadata": {},
   "source": [
    "## Tuples in Python\n",
    "- Tuples are very much similar to list. Only difference is that tuples are immutable.\n",
    "- Tuples can be defined in 2ways:  \n",
    "(1) a= (1,2,3): using paranthesis  \n",
    "(2) a=1,2,3   : assigning values using commas.\n",
    "- But there is one exception: a= (5) , single lements inside paranthesis is int and not a tuple:\n"
   ]
  },
  {
   "cell_type": "code",
   "execution_count": 20,
   "metadata": {},
   "outputs": [
    {
     "name": "stdout",
     "output_type": "stream",
     "text": [
      "(1, 2, 3, 4, 5)\n",
      "<class 'tuple'>\n",
      "\n",
      "20\n",
      "<class 'int'>\n",
      "\n",
      "(1, 2, 3)\n",
      "<class 'tuple'>\n"
     ]
    }
   ],
   "source": [
    "a=(1,2,3,4,5)\n",
    "print(a)\n",
    "print(type(a),end='\\n\\n')\n",
    "\n",
    "#exception in this methos of defining tuples:\n",
    "b=(20)\n",
    "print(b)   #output is not enclosed in paranthesis shoing that this is not tuple\n",
    "print(type(b), end='\\n\\n')\n",
    "\n",
    "#method 2 of defining tuples\n",
    "c=1, 2, 3\n",
    "print(c)\n",
    "print(type(c))"
   ]
  },
  {
   "cell_type": "markdown",
   "metadata": {},
   "source": [
    "- Tuples are immutable but tuples are much much faster than lists and tuples consumes less memory than lists."
   ]
  },
  {
   "cell_type": "code",
   "execution_count": 35,
   "metadata": {},
   "outputs": [
    {
     "name": "stdout",
     "output_type": "stream",
     "text": [
      "139804815984384\n",
      "139804815984384\n"
     ]
    }
   ],
   "source": [
    "lst=[1,2,3]\n",
    "print(id(lst))\n",
    "#do some operations and then again check memory\n",
    "lst[0]=5\n",
    "print(id(lst))   # address remains same\n",
    "# but address is changed everytime we execute this"
   ]
  },
  {
   "cell_type": "code",
   "execution_count": 51,
   "metadata": {},
   "outputs": [
    {
     "ename": "TypeError",
     "evalue": "'tuple' object does not support item assignment",
     "output_type": "error",
     "traceback": [
      "\u001b[0;31m---------------------------------------------------------------------------\u001b[0m",
      "\u001b[0;31mTypeError\u001b[0m                                 Traceback (most recent call last)",
      "\u001b[0;32m/tmp/ipykernel_25287/3816628664.py\u001b[0m in \u001b[0;36m<module>\u001b[0;34m\u001b[0m\n\u001b[1;32m      1\u001b[0m \u001b[0mtpl\u001b[0m\u001b[0;34m=\u001b[0m\u001b[0;34m(\u001b[0m\u001b[0;36m1\u001b[0m\u001b[0;34m,\u001b[0m\u001b[0;36m2\u001b[0m\u001b[0;34m,\u001b[0m\u001b[0;36m3\u001b[0m\u001b[0;34m)\u001b[0m\u001b[0;34m\u001b[0m\u001b[0;34m\u001b[0m\u001b[0m\n\u001b[0;32m----> 2\u001b[0;31m \u001b[0mtpl\u001b[0m\u001b[0;34m[\u001b[0m\u001b[0;36m0\u001b[0m\u001b[0;34m]\u001b[0m\u001b[0;34m=\u001b[0m\u001b[0;36m4\u001b[0m   \u001b[0;31m# shows error as tuple is immutable\u001b[0m\u001b[0;34m\u001b[0m\u001b[0;34m\u001b[0m\u001b[0m\n\u001b[0m\u001b[1;32m      3\u001b[0m \u001b[0;31m#however we can use print(tpl[0]) as we are not making changes but only reading values\u001b[0m\u001b[0;34m\u001b[0m\u001b[0;34m\u001b[0m\u001b[0;34m\u001b[0m\u001b[0m\n",
      "\u001b[0;31mTypeError\u001b[0m: 'tuple' object does not support item assignment"
     ]
    }
   ],
   "source": [
    "tpl=(1,2,3)\n",
    "tpl[0]=4   # shows error as tuple is immutable\n",
    "#however we can use print(tpl[0]) as we are not making changes but only reading values"
   ]
  },
  {
   "cell_type": "code",
   "execution_count": 36,
   "metadata": {},
   "outputs": [
    {
     "name": "stdout",
     "output_type": "stream",
     "text": [
      "139804872390192\n",
      "139804872390192\n"
     ]
    }
   ],
   "source": [
    "a = (1,2,3,4,5)\n",
    "print(id(a))\n",
    "print(id(a))   # address remains same"
   ]
  },
  {
   "cell_type": "code",
   "execution_count": 38,
   "metadata": {},
   "outputs": [
    {
     "name": "stdout",
     "output_type": "stream",
     "text": [
      "(1, 2, 3, 4, 5)\n"
     ]
    }
   ],
   "source": [
    "# uses of tuples:\n",
    "def func(*args):\n",
    "    print(args)\n",
    "    \n",
    "func(1,2,3,4,5)\n",
    "\n",
    "# we pass tuple as args because we don't want different arguments to be changed.\n",
    "# tuples are used, when we want to show something but don't want it to be changes.\n",
    "# lists are used, when we want to show something and give access to make changes also: then use lists."
   ]
  },
  {
   "cell_type": "markdown",
   "metadata": {},
   "source": [
    "- python has unique feature of using tuple on left side of assignment operator. This allows you to assign more than one variable at a time when the left side is a sequence.\n",
    "- But no. of values in tuple should be equal to "
   ]
  },
  {
   "cell_type": "code",
   "execution_count": 44,
   "metadata": {},
   "outputs": [
    {
     "name": "stdout",
     "output_type": "stream",
     "text": [
      "a:  4 ,      b:  Harsh\n",
      "<class 'int'> <class 'str'>\n"
     ]
    }
   ],
   "source": [
    "m=[4,\"Harsh\"]  #m is a list\n",
    "(a,b)=m     #tuple (a,b) is assigned the values of m\n",
    "# this is similar as a,b=m[0],m[1]\n",
    "\n",
    "print(\"a: \",a,\",      b: \",b)\n",
    "print(type(a),type(b))\n",
    "\n",
    "# "
   ]
  },
  {
   "cell_type": "code",
   "execution_count": 48,
   "metadata": {},
   "outputs": [
    {
     "name": "stdout",
     "output_type": "stream",
     "text": [
      "3 4 6\n",
      "4 harsh\n"
     ]
    }
   ],
   "source": [
    "#another example:\n",
    "(a,b,c)=3,4,6\n",
    "print(a,b,c)\n",
    "#by default comma seperated values are treated as tuple. So we assign values of tuple(3,4,6) to\n",
    "#tuple (a,b,c)\n",
    "\n",
    "#as comma seperated values are tuples. So we do not need paranthesis on left side\n",
    "a,b,c=3,4,6   #here value of tuple(3,4,6) is assigned to tuple(a,b,c)\n",
    "#this is the most used method for using tuple on left side.(without paranthesis)\n",
    "\n",
    "#another example\n",
    "m=[4,\"harsh\"]\n",
    "a,b=m\n",
    "print(a,b)"
   ]
  },
  {
   "cell_type": "markdown",
   "metadata": {},
   "source": [
    "##### Ques. What is easiest way to swap 2 values.\n",
    "Ans. Using tuples on left side of assignment:\n",
    "        b,a=a,b  \n",
    "- Here it unpacks the tuple (a,b) and assign it's values to tuple(b,a)"
   ]
  },
  {
   "cell_type": "code",
   "execution_count": 49,
   "metadata": {},
   "outputs": [
    {
     "name": "stdout",
     "output_type": "stream",
     "text": [
      "5 4\n"
     ]
    }
   ],
   "source": [
    "a=4\n",
    "b=5\n",
    "a,b=b,a\n",
    "print(a,b)"
   ]
  },
  {
   "cell_type": "code",
   "execution_count": 17,
   "metadata": {},
   "outputs": [
    {
     "name": "stdout",
     "output_type": "stream",
     "text": [
      "(5, 2, 3, 'Hello', 1, 2, 3, 'Hello')\n",
      "(5, 2, 3, 'Hello', 5, 2, 3, 'Hello', 5, 2, 3, 'Hello')\n"
     ]
    }
   ],
   "source": [
    "#concatentation\n",
    "print(t2 + t)\n",
    "\n",
    "#Repetion\n",
    "t2 = t2*3\n",
    "print(t2)"
   ]
  },
  {
   "cell_type": "code",
   "execution_count": 21,
   "metadata": {},
   "outputs": [
    {
     "name": "stdout",
     "output_type": "stream",
     "text": [
      "1\n"
     ]
    }
   ],
   "source": [
    "t = (1,44,3,2)\n",
    "print(min(t))"
   ]
  },
  {
   "cell_type": "code",
   "execution_count": 22,
   "metadata": {},
   "outputs": [],
   "source": [
    "del t"
   ]
  },
  {
   "cell_type": "markdown",
   "metadata": {},
   "source": [
    "###  tuple to list and list to tuple conversion:\n",
    "- list() takes an 'iterable' as argument and convert that iterable into list. Iterable can be tuple, range(), string etc..\n",
    "- tuple() takes an 'iterable' as argument and convert that into a tuple."
   ]
  },
  {
   "cell_type": "code",
   "execution_count": 56,
   "metadata": {},
   "outputs": [
    {
     "name": "stdout",
     "output_type": "stream",
     "text": [
      "[1, 2, 3]\n",
      "<class 'list'>\n",
      "[0, 1, 2, 3, 4, 5, 6, 7, 8, 9, 10, 11, 12, 13, 14]\n",
      "<class 'list'>\n",
      "['H', 'a', 'r', 's', 'h']\n",
      "<class 'list'>\n"
     ]
    }
   ],
   "source": [
    "a=(1,2,3)\n",
    "b=list(a)\n",
    "print(b)\n",
    "print(type(b))\n",
    "\n",
    "#another iterable example:\n",
    "# we discussed in for loop: that range is not a format of for loop. But range() is an iterable.\n",
    "a=list(range(15))\n",
    "print(a)\n",
    "print(type(a))\n",
    "\n",
    "#another example of iterable\n",
    "a=list(\"Harsh\")\n",
    "print(a)\n",
    "print(type(a))"
   ]
  },
  {
   "cell_type": "code",
   "execution_count": 58,
   "metadata": {},
   "outputs": [
    {
     "name": "stdout",
     "output_type": "stream",
     "text": [
      "(2, 3, 4, 5)\n",
      "<class 'tuple'>\n"
     ]
    }
   ],
   "source": [
    "a=[2,3,4,5]\n",
    "a=tuple(a)\n",
    "print(a)\n",
    "print(type(a))\n",
    "\n",
    "# we can use other iterables also: like strings, list, range etc."
   ]
  },
  {
   "cell_type": "code",
   "execution_count": 66,
   "metadata": {},
   "outputs": [
    {
     "name": "stdout",
     "output_type": "stream",
     "text": [
      "8\n",
      "4\n"
     ]
    }
   ],
   "source": [
    "#another very important usecase of tuple is: returning multiple values from a function\n",
    "def addsub(a,b):\n",
    "    return (a+b , a-b)\n",
    "\n",
    "sum,difference = addsub(6,2)\n",
    "print(sum,difference,sep='\\n')\n",
    "\n",
    "#here we can return multiple val using list also but we can only assign multiple values to a tuple\n",
    "# as here we assigned result of addsub(6,2) to tuple(sum,difference)"
   ]
  }
 ],
 "metadata": {
  "kernelspec": {
   "display_name": "Python 3 (ipykernel)",
   "language": "python",
   "name": "python3"
  },
  "language_info": {
   "codemirror_mode": {
    "name": "ipython",
    "version": 3
   },
   "file_extension": ".py",
   "mimetype": "text/x-python",
   "name": "python",
   "nbconvert_exporter": "python",
   "pygments_lexer": "ipython3",
   "version": "3.8.10"
  }
 },
 "nbformat": 4,
 "nbformat_minor": 2
}
