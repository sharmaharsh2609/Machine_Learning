{
 "cells": [
  {
   "cell_type": "markdown",
   "metadata": {},
   "source": [
    "### Create a NLP Pipeline to 'Clean' Reviews Data\n",
    "- Load Input File and Read Reviews\n",
    "- Tokenize\n",
    "- Remove Stopwords\n",
    "- Perform Stemming\n",
    "- Write cleaned data to output file"
   ]
  },
  {
   "cell_type": "code",
   "execution_count": 1,
   "metadata": {},
   "outputs": [],
   "source": [
    "## this is 1st review from \"imbd_toy_x.txt\" file. Let us try data cleaning on it.\n",
    "sample_text = \"\"\"I loved this movie <br /><br /> since I was 7 and I saw it on the opening day. It was so touching and beautiful. I strongly recommend seeing for all. It's a movie to watch with your family by far.<br /><br />My MPAA rating: PG-13 for thematic elements, prolonged scenes of disastor, nudity/sexuality and some language.\"\"\""
   ]
  },
  {
   "cell_type": "markdown",
   "metadata": {},
   "source": [
    "### NLTK \n",
    "- We need to use NLTK for Data Cleaning.\n",
    "- We need `RegexpTokenizer` to create our custom token "
   ]
  },
  {
   "cell_type": "code",
   "execution_count": 2,
   "metadata": {},
   "outputs": [],
   "source": [
    "from nltk.tokenize import RegexpTokenizer\n",
    "from nltk.corpus import stopwords\n",
    "from nltk.stem.porter import PorterStemmer"
   ]
  },
  {
   "cell_type": "code",
   "execution_count": 6,
   "metadata": {},
   "outputs": [
    {
     "data": {
      "text/plain": [
       "(nltk.tokenize.regexp.RegexpTokenizer, set, nltk.stem.porter.PorterStemmer)"
      ]
     },
     "execution_count": 6,
     "metadata": {},
     "output_type": "execute_result"
    }
   ],
   "source": [
    "# Initialize Objects of these 3classes to use there methods.\n",
    "tokenizer = RegexpTokenizer(r'\\w+')\n",
    "eng_stopwords = set(stopwords.words('english')) ## pass language whose stopwards u wanna remove\n",
    "ps = PorterStemmer()\n",
    "\n",
    "type(tokenizer), type(en_stopwords), type(ps)"
   ]
  },
  {
   "cell_type": "code",
   "execution_count": 9,
   "metadata": {},
   "outputs": [],
   "source": [
    "def getStemmedReview(review):\n",
    "    \n",
    "    review = review.lower()   # 1: convert everything to lowercase \n",
    "    review = review.replace(\"<br /><br />\",\" \") # 2: remove all <br /><br />\n",
    "    \n",
    "    # 3: Tokenize using 'tokenizer' onject that we created earlier\n",
    "    tokens = tokenizer.tokenize(review)  # convert sentence into words\n",
    "    useful_tokens = [ i for i in tokens if i not in eng_stopwords] # 4: remove all stopwards\n",
    "    stemmed_tokens = [ps.stem(i) for i in useful_tokens]  # 5: do stemming\n",
    "    \n",
    "    cleaned_review=' '.join(stemmed_tokens) # 6:now join all the tokens to create cleaned sentence\n",
    "    return cleaned_review"
   ]
  },
  {
   "cell_type": "code",
   "execution_count": 8,
   "metadata": {},
   "outputs": [
    {
     "data": {
      "text/plain": [
       "True"
      ]
     },
     "execution_count": 8,
     "metadata": {},
     "output_type": "execute_result"
    }
   ],
   "source": [
    "'not' in eng_stopwords"
   ]
  },
  {
   "cell_type": "code",
   "execution_count": 10,
   "metadata": {},
   "outputs": [],
   "source": [
    "## let us redefine above function and also include 'not' in useful words.\n",
    "def getStemmedReview(review):\n",
    "    \n",
    "    review = review.lower()   # 1: convert everything to lowercase \n",
    "    review = review.replace(\"<br /><br />\",\" \") # 2: remove all <br /><br />\n",
    "    \n",
    "    # 3: Tokenize using 'tokenizer' onject that we created earlier\n",
    "    tokens = tokenizer.tokenize(review)  # convert sentence into words\n",
    "    useful_tokens = [ i for i in tokens if (i not in eng_stopwords or i=='not')] #4:rmv_stpwds\n",
    "    stemmed_tokens = [ps.stem(i) for i in useful_tokens]  # 5: do stemming\n",
    "    \n",
    "    cleaned_review=' '.join(stemmed_tokens) # 6:now join all the tokens to create cleaned sentence\n",
    "    return cleaned_review"
   ]
  },
  {
   "cell_type": "code",
   "execution_count": 11,
   "metadata": {},
   "outputs": [
    {
     "data": {
      "text/plain": [
       "'love movi sinc 7 saw open day touch beauti strongli recommend see movi watch famili far mpaa rate pg 13 themat element prolong scene disastor nuditi sexual languag'"
      ]
     },
     "execution_count": 11,
     "metadata": {},
     "output_type": "execute_result"
    }
   ],
   "source": [
    "getStemmedReview(sample_text)"
   ]
  },
  {
   "cell_type": "code",
   "execution_count": null,
   "metadata": {},
   "outputs": [],
   "source": []
  }
 ],
 "metadata": {
  "kernelspec": {
   "display_name": "Python 3 (ipykernel)",
   "language": "python",
   "name": "python3"
  },
  "language_info": {
   "codemirror_mode": {
    "name": "ipython",
    "version": 3
   },
   "file_extension": ".py",
   "mimetype": "text/x-python",
   "name": "python",
   "nbconvert_exporter": "python",
   "pygments_lexer": "ipython3",
   "version": "3.8.10"
  }
 },
 "nbformat": 4,
 "nbformat_minor": 2
}
