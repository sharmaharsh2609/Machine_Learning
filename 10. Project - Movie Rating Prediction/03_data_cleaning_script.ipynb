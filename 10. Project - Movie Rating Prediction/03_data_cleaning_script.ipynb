{
 "cells": [
  {
   "cell_type": "markdown",
   "id": "e25d0cf1",
   "metadata": {},
   "source": [
    "- Instead of followinf all these steps in \"02_file\", **we can write a script in python where we pass input file and output file as command line arguments and it will do data cleaning automatically.**\n",
    "\n",
    "##### I have written a script in file \"03.2_data_cleaning.py\". See this file"
   ]
  }
 ],
 "metadata": {
  "kernelspec": {
   "display_name": "Python 3 (ipykernel)",
   "language": "python",
   "name": "python3"
  },
  "language_info": {
   "codemirror_mode": {
    "name": "ipython",
    "version": 3
   },
   "file_extension": ".py",
   "mimetype": "text/x-python",
   "name": "python",
   "nbconvert_exporter": "python",
   "pygments_lexer": "ipython3",
   "version": "3.8.10"
  }
 },
 "nbformat": 4,
 "nbformat_minor": 5
}
