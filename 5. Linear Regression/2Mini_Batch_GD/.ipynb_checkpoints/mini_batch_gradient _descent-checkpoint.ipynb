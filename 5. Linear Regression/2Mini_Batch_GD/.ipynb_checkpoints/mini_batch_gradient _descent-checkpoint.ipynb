{
 "cells": [
  {
   "cell_type": "markdown",
   "id": "bacee092",
   "metadata": {},
   "source": [
    "## Mini Batch Gradient Descent\n"
   ]
  },
  {
   "cell_type": "code",
   "execution_count": 3,
   "id": "74482186",
   "metadata": {},
   "outputs": [],
   "source": [
    "import numpy as np, matplotlib.pyplot as plt\n",
    "from sklearn.datasets import make_regression"
   ]
  },
  {
   "cell_type": "code",
   "execution_count": 4,
   "id": "c1ace97a",
   "metadata": {},
   "outputs": [],
   "source": [
    "X, y = make_regression(n_samples=10000, n_features=20, n_informative=20, noise=10, random_state=1)\n",
    "\n",
    "# Normalization of data\n",
    "u = np.mean(X, axis=0) # find mean rowwise for all 20 columns\n",
    "std = np.std(X, axis=0)\n",
    "X = (X-u)/std"
   ]
  },
  {
   "cell_type": "code",
   "execution_count": 7,
   "id": "b140ec35",
   "metadata": {},
   "outputs": [
    {
     "name": "stdout",
     "output_type": "stream",
     "text": [
      "(10000, 21) (10000,)\n"
     ]
    }
   ],
   "source": [
    "## add column of ones at beginning of X\n",
    "ones = np.ones((X.shape[0],1))   # number of rows must be same as in X and column=1\n",
    "X = np.hstack((ones, X))\n",
    "print(X.shape, y.shape)"
   ]
  },
  {
   "cell_type": "markdown",
   "id": "009f6021",
   "metadata": {},
   "source": [
    "- Let us copy our batch gradient descent from \"../1Linear_Regression/06_Boston_Houses.ipynb\" file. And visualize the data first\n",
    "\n",
    "## Batch GD:"
   ]
  },
  {
   "cell_type": "code",
   "execution_count": 11,
   "id": "6649f5b8",
   "metadata": {},
   "outputs": [],
   "source": [
    "def hypothesis(X,theta):\n",
    "    return np.dot(X,theta)\n",
    "\n",
    "def error(X,y,theta):\n",
    "    m = X.shape[0]\n",
    "    e = 0.0\n",
    "    y_ = hypothesis(X,theta)\n",
    "    e = np.sum((y-y_)**2)\n",
    "    \n",
    "    return e/m\n",
    "    \n",
    "def gradient(X,y,theta):\n",
    "    \n",
    "    y_ = hypothesis(X,theta)\n",
    "    grad = np.dot(X.T,(y_ - y))\n",
    "    m = X.shape[0]\n",
    "    return grad/m\n",
    "\n",
    "# Batch Gradient Descent Algorithm\n",
    "def gradient_descent(X,y,learning_rate = 0.01,max_iters=300):\n",
    "    \n",
    "    n = X.shape[1]\n",
    "    theta = np.zeros((n,))\n",
    "    error_list = []\n",
    "    \n",
    "    for i in range(max_iters):\n",
    "        e = error(X,y,theta)\n",
    "        error_list.append(e)\n",
    "        \n",
    "        #Batch Gradient descent --> Compute the gradient wrt entire dataset\n",
    "        grad = gradient(X,y,theta)   # pass entire dataset X to calculate gradient\n",
    "        theta = theta - learning_rate*grad \n",
    "        \n",
    "    return theta,error_list"
   ]
  },
  {
   "cell_type": "code",
   "execution_count": 27,
   "id": "6704a254",
   "metadata": {},
   "outputs": [
    {
     "name": "stdout",
     "output_type": "stream",
     "text": [
      "Final Error: 264.0832954333876\n"
     ]
    }
   ],
   "source": [
    "theta, error_list = gradient_descent(X, y)\n",
    "print(\"Final Error:\", error_list[-1])"
   ]
  },
  {
   "cell_type": "code",
   "execution_count": 15,
   "id": "75a1cc3f",
   "metadata": {},
   "outputs": [
    {
     "data": {
      "image/png": "[encoded data removed]",
      "text/plain": [
       "<Figure size 576x396 with 1 Axes>"
      ]
     },
     "metadata": {},
     "output_type": "display_data"
    }
   ],
   "source": [
    "plt.style.use('seaborn')\n",
    "plt.plot(error_list)\n",
    "plt.show()"
   ]
  },
  {
   "cell_type": "markdown",
   "id": "7c834a79",
   "metadata": {},
   "source": [
    "## Now let us implement Mini Batch GD\n",
    "\n",
    "##### We need to do shuffeling first\n"
   ]
  },
  {
   "cell_type": "code",
   "execution_count": 30,
   "id": "5eed2a2d",
   "metadata": {},
   "outputs": [],
   "source": [
    "# Mini- Batch Gradient Descent Algorithm\n",
    "## we will use hypothesis(), error() and gradient() functions same from above\n",
    "def mini_batch_GD(X, y, batch_size=200, learning_rate=0.01, max_iters=300):\n",
    "    \n",
    "    n = X.shape[1]\n",
    "    theta = np.zeros((n,))\n",
    "    error_list = []\n",
    "    \n",
    "    data = np.hstack((X, y.reshape(-1,1)))  # combine X and y for shuffeling\n",
    "    \n",
    "    for i in range(max_iters):\n",
    "        e = error(X,y,theta)\n",
    "        error_list.append(e)\n",
    "        \n",
    "        # Mini Batch Gradient descent \n",
    "        np.random.shuffle(data)\n",
    "        m = data.shape[0]  # m is no of examples\n",
    "        total_batches = m//batch_size  # total no of batches = no of examples/ size of one batch\n",
    "        \n",
    "        for i in range(total_batches):\n",
    "            # choose batch_size no. of rows and all the columns at once(see below command)\n",
    "            batch_data = data[i*batch_size:(i+1)*batch_size, :]\n",
    "            \n",
    "            # extract X and y from it as we have merged them in single array earlier.\n",
    "            X_batch = batch_data[:,:-1]   # all rows and columns from 0 upto (-1 means last one)\n",
    "            y_batch = batch_data[:,-1]  # all rows and only last column(-1)\n",
    "            \n",
    "            batch_gradient = gradient(X_batch, y_batch, theta)  # pass one whole batch\n",
    "            theta = theta - learning_rate*batch_gradient  # make update\n",
    "        \n",
    "    return theta,error_list"
   ]
  },
  {
   "cell_type": "code",
   "execution_count": 31,
   "id": "3f78faa8",
   "metadata": {},
   "outputs": [
    {
     "name": "stdout",
     "output_type": "stream",
     "text": [
      "Final Error:  101.46075394630165\n"
     ]
    }
   ],
   "source": [
    "theta_2 , error_list_2 = mini_batch_GD(X, y)\n",
    "print(\"Final Error: \", error_list_[-1])"
   ]
  },
  {
   "cell_type": "markdown",
   "id": "6e54fd1b",
   "metadata": {},
   "source": [
    "- This also gives us a minimum error than the earlier one which was giving us 264 error "
   ]
  },
  {
   "cell_type": "code",
   "execution_count": 32,
   "id": "4c97403f",
   "metadata": {},
   "outputs": [
    {
     "data": {
      "image/png": "[encoded data removed]",
      "text/plain": [
       "<Figure size 576x396 with 1 Axes>"
      ]
     },
     "metadata": {},
     "output_type": "display_data"
    }
   ],
   "source": [
    "plt.plot(error_list_2)\n",
    "plt.show()"
   ]
  },
  {
   "cell_type": "code",
   "execution_count": 38,
   "id": "e190a734",
   "metadata": {},
   "outputs": [],
   "source": [
    "# Mini- Batch Gradient Descent Algorithm\n",
    "## we will use hypothesis(), error() and gradient() functions same from above\n",
    "def mini_batch_GD_3(X, y, batch_size=200, learning_rate=0.01, max_iters=300):\n",
    "    \n",
    "    n = X.shape[1]\n",
    "    theta = np.zeros((n,))\n",
    "    error_list = []\n",
    "    \n",
    "    data = np.hstack((X, y.reshape(-1,1)))  # combine X and y for shuffeling\n",
    "    \n",
    "    for i in range(max_iters):        \n",
    "        np.random.shuffle(data)\n",
    "        m = data.shape[0]  \n",
    "        total_batches = m//batch_size  \n",
    "        \n",
    "        for i in range(total_batches):\n",
    "            batch_data = data[i*batch_size:(i+1)*batch_size, :]\n",
    "            \n",
    "            X_batch = batch_data[:,:-1]   \n",
    "            y_batch = batch_data[:,-1]  \n",
    "            batch_gradient = gradient(X_batch, y_batch, theta)  \n",
    "            theta = theta - learning_rate*batch_gradient  \n",
    "            \n",
    "            ## calculate error in each update of theta\n",
    "            e = error(X_batch,y_batch,theta)  # pass X_batch and y_batch\n",
    "            error_list.append(e)\n",
    "\n",
    "    return theta,error_list"
   ]
  },
  {
   "cell_type": "code",
   "execution_count": 39,
   "id": "25b7752f",
   "metadata": {
    "collapsed": true
   },
   "outputs": [
    {
     "data": {
      "image/png": "[encoded data removed]",
      "text/plain": [
       "<Figure size 576x396 with 1 Axes>"
      ]
     },
     "metadata": {},
     "output_type": "display_data"
    }
   ],
   "source": [
    "# take small number of iterations. Otherwise effect eon;t be visible in large no of iterations\n",
    "theta_3, error_list_3 = mini_batch_GD_3(X, y, max_iters=10)\n",
    "\n",
    "# plot error in each step\n",
    "plt.plot(np.arange(len(error_list_3)), error_list_3)\n",
    "plt.show()"
   ]
  },
  {
   "cell_type": "code",
   "execution_count": 40,
   "id": "86f357dd",
   "metadata": {},
   "outputs": [
    {
     "name": "stdout",
     "output_type": "stream",
     "text": [
      "Final Loss/Error:  95.00766383218308\n"
     ]
    }
   ],
   "source": [
    "print(\"Final Loss/Error: \", error_list_3[-1])"
   ]
  },
  {
   "cell_type": "markdown",
   "id": "03ca9187",
   "metadata": {},
   "source": [
    "### Stochastic GD:\n",
    "- We can achive stochastic GD by passing batch_size=1 in mini batch and we can also achive batch GD by passing batch_size=m in mini batch. Let us try SGD for now:"
   ]
  },
  {
   "cell_type": "code",
   "execution_count": 42,
   "id": "f23cae50",
   "metadata": {},
   "outputs": [
    {
     "name": "stdout",
     "output_type": "stream",
     "text": [
      "Final Error: 3.5961545178958536\n"
     ]
    },
    {
     "data": {
      "image/png": "[encoded data removed]",
      "text/plain": [
       "<Figure size 576x396 with 1 Axes>"
      ]
     },
     "metadata": {},
     "output_type": "display_data"
    }
   ],
   "source": [
    "theta, error_list = mini_batch_GD_3(X,y,batch_size=1, max_iters=10)\n",
    "\n",
    "print(\"Final Error:\", error_list[-1])\n",
    "plt.plot(error_list)\n",
    "plt.show()"
   ]
  },
  {
   "cell_type": "markdown",
   "id": "7a59e6a9",
   "metadata": {},
   "source": [
    "## Advantages of Mini Batch GD:\n",
    "\n",
    "1. **Faster convergence towards optimal value of theta**\n",
    "2. **Noisy updates helps to avoid local minima**. \n",
    "3. **Vectorization**\n",
    "4. **No need to load entire data in memory**. "
   ]
  }
 ],
 "metadata": {
  "kernelspec": {
   "display_name": "Python 3 (ipykernel)",
   "language": "python",
   "name": "python3"
  },
  "language_info": {
   "codemirror_mode": {
    "name": "ipython",
    "version": 3
   },
   "file_extension": ".py",
   "mimetype": "text/x-python",
   "name": "python",
   "nbconvert_exporter": "python",
   "pygments_lexer": "ipython3",
   "version": "3.8.10"
  }
 },
 "nbformat": 4,
 "nbformat_minor": 5
}
