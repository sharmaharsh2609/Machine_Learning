{
 "cells": [
  {
   "cell_type": "markdown",
   "id": "1783c145",
   "metadata": {},
   "source": [
    "- This is a very important and very much common concept/question.\n",
    "\n",
    "#### **Ques.** What happens if we increase the value  k and when we decrease the value of k in k-NN algo?\n",
    "**Ans.** "
   ]
  },
  {
   "cell_type": "code",
   "execution_count": null,
   "id": "cb28375f",
   "metadata": {},
   "outputs": [],
   "source": []
  }
 ],
 "metadata": {
  "kernelspec": {
   "display_name": "Python 3 (ipykernel)",
   "language": "python",
   "name": "python3"
  },
  "language_info": {
   "codemirror_mode": {
    "name": "ipython",
    "version": 3
   },
   "file_extension": ".py",
   "mimetype": "text/x-python",
   "name": "python",
   "nbconvert_exporter": "python",
   "pygments_lexer": "ipython3",
   "version": "3.8.10"
  }
 },
 "nbformat": 4,
 "nbformat_minor": 5
}
